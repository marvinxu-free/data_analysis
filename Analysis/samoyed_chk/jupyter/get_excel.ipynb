{
 "cells": [
  {
   "cell_type": "code",
   "execution_count": 2,
   "metadata": {
    "ExecuteTime": {
     "end_time": "2018-03-05T11:28:49.513255Z",
     "start_time": "2018-03-05T11:28:49.506119Z"
    },
    "collapsed": false
   },
   "outputs": [],
   "source": [
    "from __future__ import print_function, division\n",
    "import sys\n",
    "reload(sys)\n",
    "sys.setdefaultencoding('utf8')\n",
    "from Utils.common.custerReadFile import read_multi_csv\n",
    "import numpy as np\n",
    "import re\n",
    "from numpy import logical_or, logical_and\n",
    "import pandas as pd\n",
    "import xlsxwriter\n",
    "from Params.path_params import Document_path"
   ]
  },
  {
   "cell_type": "code",
   "execution_count": 9,
   "metadata": {
    "ExecuteTime": {
     "end_time": "2018-03-05T11:30:27.763158Z",
     "start_time": "2018-03-05T11:30:27.759557Z"
    },
    "collapsed": true
   },
   "outputs": [],
   "source": [
    "xls_file = u\"{0}/samoyed_chk/h5同设备_萨摩耶.xlsx\".format(Document_path)"
   ]
  },
  {
   "cell_type": "code",
   "execution_count": 12,
   "metadata": {
    "ExecuteTime": {
     "end_time": "2018-03-05T11:30:39.593685Z",
     "start_time": "2018-03-05T11:30:39.590637Z"
    },
    "collapsed": false
   },
   "outputs": [],
   "source": [
    "print(xls_file)"
   ]
  },
  {
   "cell_type": "code",
   "execution_count": 13,
   "metadata": {
    "ExecuteTime": {
     "end_time": "2018-03-05T11:31:46.302057Z",
     "start_time": "2018-03-05T11:31:45.671530Z"
    },
    "collapsed": true
   },
   "outputs": [],
   "source": [
    "df1 = pd.read_excel(io=xls_file, sheet_name=1)"
   ]
  },
  {
   "cell_type": "code",
   "execution_count": 16,
   "metadata": {
    "ExecuteTime": {
     "end_time": "2018-03-05T11:32:05.252372Z",
     "start_time": "2018-03-05T11:32:05.229750Z"
    },
    "collapsed": false
   },
   "outputs": [
    {
     "data": {
      "text/html": [
       "<div>\n",
       "<style scoped>\n",
       "    .dataframe tbody tr th:only-of-type {\n",
       "        vertical-align: middle;\n",
       "    }\n",
       "\n",
       "    .dataframe tbody tr th {\n",
       "        vertical-align: top;\n",
       "    }\n",
       "\n",
       "    .dataframe thead th {\n",
       "        text-align: right;\n",
       "    }\n",
       "</style>\n",
       "<table border=\"1\" class=\"dataframe\">\n",
       "  <thead>\n",
       "    <tr style=\"text-align: right;\">\n",
       "      <th></th>\n",
       "      <th>device</th>\n",
       "      <th>maxent_id</th>\n",
       "      <th>ticket</th>\n",
       "      <th>os</th>\n",
       "      <th>aid</th>\n",
       "      <th>idfa</th>\n",
       "      <th>dt</th>\n",
       "    </tr>\n",
       "  </thead>\n",
       "  <tbody>\n",
       "    <tr>\n",
       "      <th>0</th>\n",
       "      <td>00508C94-5CF9-4BDE-990D-C5BC3482F75A</td>\n",
       "      <td>3b2eff0b5e1172b60cc55ce1ec4f7e76</td>\n",
       "      <td>00508C94-5CF9-4BDE-990D-C5BC3482F75A</td>\n",
       "      <td>ios</td>\n",
       "      <td>NaN</td>\n",
       "      <td>00508C94-5CF9-4BDE-990D-C5BC3482F75A</td>\n",
       "      <td>20180210</td>\n",
       "    </tr>\n",
       "    <tr>\n",
       "      <th>1</th>\n",
       "      <td>00508C94-5CF9-4BDE-990D-C5BC3482F75A</td>\n",
       "      <td>d890565a9e9799a62d2291428bf37d78</td>\n",
       "      <td>314854A0-1571-4F6D-A3FB-4F0429CD393E</td>\n",
       "      <td>ios</td>\n",
       "      <td>NaN</td>\n",
       "      <td>00508C94-5CF9-4BDE-990D-C5BC3482F75A</td>\n",
       "      <td>20180129</td>\n",
       "    </tr>\n",
       "  </tbody>\n",
       "</table>\n",
       "</div>"
      ],
      "text/plain": [
       "                                 device                         maxent_id  \\\n",
       "0  00508C94-5CF9-4BDE-990D-C5BC3482F75A  3b2eff0b5e1172b60cc55ce1ec4f7e76   \n",
       "1  00508C94-5CF9-4BDE-990D-C5BC3482F75A  d890565a9e9799a62d2291428bf37d78   \n",
       "\n",
       "                                 ticket   os  aid  \\\n",
       "0  00508C94-5CF9-4BDE-990D-C5BC3482F75A  ios  NaN   \n",
       "1  314854A0-1571-4F6D-A3FB-4F0429CD393E  ios  NaN   \n",
       "\n",
       "                                   idfa        dt  \n",
       "0  00508C94-5CF9-4BDE-990D-C5BC3482F75A  20180210  \n",
       "1  00508C94-5CF9-4BDE-990D-C5BC3482F75A  20180129  "
      ]
     },
     "execution_count": 16,
     "metadata": {},
     "output_type": "execute_result"
    }
   ],
   "source": [
    "df1.head(2)"
   ]
  },
  {
   "cell_type": "code",
   "execution_count": 18,
   "metadata": {
    "ExecuteTime": {
     "end_time": "2018-03-05T11:33:43.147375Z",
     "start_time": "2018-03-05T11:33:43.137475Z"
    },
    "collapsed": false
   },
   "outputs": [],
   "source": [
    "df1_android = df1.loc[df1.os == 'android'].groupby('aid').agg({'maxent_id':'nunique'})"
   ]
  },
  {
   "cell_type": "code",
   "execution_count": 19,
   "metadata": {
    "ExecuteTime": {
     "end_time": "2018-03-05T11:34:10.137643Z",
     "start_time": "2018-03-05T11:34:10.131769Z"
    },
    "collapsed": false
   },
   "outputs": [
    {
     "data": {
      "text/plain": [
       "(107, 1)"
      ]
     },
     "execution_count": 19,
     "metadata": {},
     "output_type": "execute_result"
    }
   ],
   "source": [
    "df1_android.loc[df1_android.maxent_id > 1].shape"
   ]
  },
  {
   "cell_type": "code",
   "execution_count": 20,
   "metadata": {
    "ExecuteTime": {
     "end_time": "2018-03-05T11:34:51.245849Z",
     "start_time": "2018-03-05T11:34:51.241362Z"
    },
    "collapsed": false
   },
   "outputs": [
    {
     "data": {
      "text/plain": [
       "(1000, 7)"
      ]
     },
     "execution_count": 20,
     "metadata": {},
     "output_type": "execute_result"
    }
   ],
   "source": [
    "df1.shape"
   ]
  },
  {
   "cell_type": "code",
   "execution_count": 22,
   "metadata": {
    "ExecuteTime": {
     "end_time": "2018-03-05T11:37:17.806525Z",
     "start_time": "2018-03-05T11:37:17.801015Z"
    },
    "collapsed": false
   },
   "outputs": [
    {
     "data": {
      "text/plain": [
       "(1, 1)"
      ]
     },
     "execution_count": 22,
     "metadata": {},
     "output_type": "execute_result"
    }
   ],
   "source": [
    "df1_android.loc[df1_android.maxent_id == 4].shape"
   ]
  },
  {
   "cell_type": "code",
   "execution_count": 23,
   "metadata": {
    "ExecuteTime": {
     "end_time": "2018-03-05T11:37:33.050712Z",
     "start_time": "2018-03-05T11:37:33.037154Z"
    },
    "collapsed": false
   },
   "outputs": [
    {
     "data": {
      "text/html": [
       "<div>\n",
       "<style scoped>\n",
       "    .dataframe tbody tr th:only-of-type {\n",
       "        vertical-align: middle;\n",
       "    }\n",
       "\n",
       "    .dataframe tbody tr th {\n",
       "        vertical-align: top;\n",
       "    }\n",
       "\n",
       "    .dataframe thead th {\n",
       "        text-align: right;\n",
       "    }\n",
       "</style>\n",
       "<table border=\"1\" class=\"dataframe\">\n",
       "  <thead>\n",
       "    <tr style=\"text-align: right;\">\n",
       "      <th></th>\n",
       "      <th>maxent_id</th>\n",
       "    </tr>\n",
       "    <tr>\n",
       "      <th>aid</th>\n",
       "      <th></th>\n",
       "    </tr>\n",
       "  </thead>\n",
       "  <tbody>\n",
       "    <tr>\n",
       "      <th>558ac8d3bbc773fc</th>\n",
       "      <td>4</td>\n",
       "    </tr>\n",
       "  </tbody>\n",
       "</table>\n",
       "</div>"
      ],
      "text/plain": [
       "                  maxent_id\n",
       "aid                        \n",
       "558ac8d3bbc773fc          4"
      ]
     },
     "execution_count": 23,
     "metadata": {},
     "output_type": "execute_result"
    }
   ],
   "source": [
    "df1_android.loc[df1_android.maxent_id == 4]"
   ]
  },
  {
   "cell_type": "code",
   "execution_count": 24,
   "metadata": {
    "ExecuteTime": {
     "end_time": "2018-03-05T11:37:49.648567Z",
     "start_time": "2018-03-05T11:37:49.624018Z"
    },
    "collapsed": false
   },
   "outputs": [
    {
     "data": {
      "text/html": [
       "<div>\n",
       "<style scoped>\n",
       "    .dataframe tbody tr th:only-of-type {\n",
       "        vertical-align: middle;\n",
       "    }\n",
       "\n",
       "    .dataframe tbody tr th {\n",
       "        vertical-align: top;\n",
       "    }\n",
       "\n",
       "    .dataframe thead th {\n",
       "        text-align: right;\n",
       "    }\n",
       "</style>\n",
       "<table border=\"1\" class=\"dataframe\">\n",
       "  <thead>\n",
       "    <tr style=\"text-align: right;\">\n",
       "      <th></th>\n",
       "      <th>device</th>\n",
       "      <th>maxent_id</th>\n",
       "      <th>ticket</th>\n",
       "      <th>os</th>\n",
       "      <th>aid</th>\n",
       "      <th>idfa</th>\n",
       "      <th>dt</th>\n",
       "    </tr>\n",
       "  </thead>\n",
       "  <tbody>\n",
       "    <tr>\n",
       "      <th>284</th>\n",
       "      <td>558ac8d3bbc773fc</td>\n",
       "      <td>e1a63fc226c2d818af1c6a8b229cf014</td>\n",
       "      <td>bd099f54-a377-4fb8-982a-fddd9bb8e90f2</td>\n",
       "      <td>android</td>\n",
       "      <td>558ac8d3bbc773fc</td>\n",
       "      <td>NaN</td>\n",
       "      <td>20180116</td>\n",
       "    </tr>\n",
       "    <tr>\n",
       "      <th>285</th>\n",
       "      <td>558ac8d3bbc773fc</td>\n",
       "      <td>0092c1b369fbca1fd8b8b076b9d84725</td>\n",
       "      <td>3e881d8c-a6a7-4f2e-9030-34b1632a53bd2</td>\n",
       "      <td>android</td>\n",
       "      <td>558ac8d3bbc773fc</td>\n",
       "      <td>NaN</td>\n",
       "      <td>20180131</td>\n",
       "    </tr>\n",
       "    <tr>\n",
       "      <th>286</th>\n",
       "      <td>558ac8d3bbc773fc</td>\n",
       "      <td>daaf2cc1eec9edf0c1833c739cae93ec</td>\n",
       "      <td>77e295de-0f53-43e9-9ef2-ada1d7bf86222</td>\n",
       "      <td>android</td>\n",
       "      <td>558ac8d3bbc773fc</td>\n",
       "      <td>NaN</td>\n",
       "      <td>20180212</td>\n",
       "    </tr>\n",
       "    <tr>\n",
       "      <th>287</th>\n",
       "      <td>558ac8d3bbc773fc</td>\n",
       "      <td>f28312be098e25407e14b14818597421</td>\n",
       "      <td>91aeb4eb-9087-49a9-82e1-4c7e6592c9c62</td>\n",
       "      <td>android</td>\n",
       "      <td>558ac8d3bbc773fc</td>\n",
       "      <td>NaN</td>\n",
       "      <td>20180227</td>\n",
       "    </tr>\n",
       "  </tbody>\n",
       "</table>\n",
       "</div>"
      ],
      "text/plain": [
       "               device                         maxent_id  \\\n",
       "284  558ac8d3bbc773fc  e1a63fc226c2d818af1c6a8b229cf014   \n",
       "285  558ac8d3bbc773fc  0092c1b369fbca1fd8b8b076b9d84725   \n",
       "286  558ac8d3bbc773fc  daaf2cc1eec9edf0c1833c739cae93ec   \n",
       "287  558ac8d3bbc773fc  f28312be098e25407e14b14818597421   \n",
       "\n",
       "                                    ticket       os               aid idfa  \\\n",
       "284  bd099f54-a377-4fb8-982a-fddd9bb8e90f2  android  558ac8d3bbc773fc  NaN   \n",
       "285  3e881d8c-a6a7-4f2e-9030-34b1632a53bd2  android  558ac8d3bbc773fc  NaN   \n",
       "286  77e295de-0f53-43e9-9ef2-ada1d7bf86222  android  558ac8d3bbc773fc  NaN   \n",
       "287  91aeb4eb-9087-49a9-82e1-4c7e6592c9c62  android  558ac8d3bbc773fc  NaN   \n",
       "\n",
       "           dt  \n",
       "284  20180116  \n",
       "285  20180131  \n",
       "286  20180212  \n",
       "287  20180227  "
      ]
     },
     "execution_count": 24,
     "metadata": {},
     "output_type": "execute_result"
    }
   ],
   "source": [
    "df1.loc[df1.aid == '558ac8d3bbc773fc']"
   ]
  },
  {
   "cell_type": "code",
   "execution_count": 26,
   "metadata": {
    "ExecuteTime": {
     "end_time": "2018-03-05T11:40:09.955972Z",
     "start_time": "2018-03-05T11:40:09.944810Z"
    },
    "collapsed": true
   },
   "outputs": [],
   "source": [
    "df1_ios = df1.loc[df1.os == 'ios'].groupby('idfa').agg({'maxent_id':'nunique'})"
   ]
  },
  {
   "cell_type": "code",
   "execution_count": 27,
   "metadata": {
    "ExecuteTime": {
     "end_time": "2018-03-05T11:40:38.300698Z",
     "start_time": "2018-03-05T11:40:38.293743Z"
    },
    "collapsed": false
   },
   "outputs": [
    {
     "data": {
      "text/plain": [
       "(132, 1)"
      ]
     },
     "execution_count": 27,
     "metadata": {},
     "output_type": "execute_result"
    }
   ],
   "source": [
    "df1_ios.loc[df1_ios.maxent_id > 1].shape"
   ]
  },
  {
   "cell_type": "code",
   "execution_count": 28,
   "metadata": {
    "ExecuteTime": {
     "end_time": "2018-03-05T11:41:05.222357Z",
     "start_time": "2018-03-05T11:41:05.210932Z"
    },
    "collapsed": false
   },
   "outputs": [
    {
     "data": {
      "text/html": [
       "<div>\n",
       "<style scoped>\n",
       "    .dataframe tbody tr th:only-of-type {\n",
       "        vertical-align: middle;\n",
       "    }\n",
       "\n",
       "    .dataframe tbody tr th {\n",
       "        vertical-align: top;\n",
       "    }\n",
       "\n",
       "    .dataframe thead th {\n",
       "        text-align: right;\n",
       "    }\n",
       "</style>\n",
       "<table border=\"1\" class=\"dataframe\">\n",
       "  <thead>\n",
       "    <tr style=\"text-align: right;\">\n",
       "      <th></th>\n",
       "      <th>maxent_id</th>\n",
       "    </tr>\n",
       "    <tr>\n",
       "      <th>idfa</th>\n",
       "      <th></th>\n",
       "    </tr>\n",
       "  </thead>\n",
       "  <tbody>\n",
       "    <tr>\n",
       "      <th>19F68219-1C19-4E63-95DB-A23D297A5806</th>\n",
       "      <td>4</td>\n",
       "    </tr>\n",
       "    <tr>\n",
       "      <th>4BA8C37F-E40D-4DAE-AF1C-2B22B6A865F8</th>\n",
       "      <td>4</td>\n",
       "    </tr>\n",
       "    <tr>\n",
       "      <th>5BE11DE6-9D0F-44B4-9963-ABD720A159E3</th>\n",
       "      <td>4</td>\n",
       "    </tr>\n",
       "    <tr>\n",
       "      <th>7B6C5599-6272-4A1A-A8A5-ACFC74C0FFAF</th>\n",
       "      <td>4</td>\n",
       "    </tr>\n",
       "    <tr>\n",
       "      <th>E35F776E-BC17-46A0-BECA-868E67314CB6</th>\n",
       "      <td>4</td>\n",
       "    </tr>\n",
       "  </tbody>\n",
       "</table>\n",
       "</div>"
      ],
      "text/plain": [
       "                                      maxent_id\n",
       "idfa                                           \n",
       "19F68219-1C19-4E63-95DB-A23D297A5806          4\n",
       "4BA8C37F-E40D-4DAE-AF1C-2B22B6A865F8          4\n",
       "5BE11DE6-9D0F-44B4-9963-ABD720A159E3          4\n",
       "7B6C5599-6272-4A1A-A8A5-ACFC74C0FFAF          4\n",
       "E35F776E-BC17-46A0-BECA-868E67314CB6          4"
      ]
     },
     "execution_count": 28,
     "metadata": {},
     "output_type": "execute_result"
    }
   ],
   "source": [
    "df1_ios.loc[df1_ios.maxent_id == 4]"
   ]
  },
  {
   "cell_type": "code",
   "execution_count": 29,
   "metadata": {
    "ExecuteTime": {
     "end_time": "2018-03-05T11:41:57.407405Z",
     "start_time": "2018-03-05T11:41:57.380222Z"
    },
    "collapsed": false
   },
   "outputs": [
    {
     "data": {
      "text/html": [
       "<div>\n",
       "<style scoped>\n",
       "    .dataframe tbody tr th:only-of-type {\n",
       "        vertical-align: middle;\n",
       "    }\n",
       "\n",
       "    .dataframe tbody tr th {\n",
       "        vertical-align: top;\n",
       "    }\n",
       "\n",
       "    .dataframe thead th {\n",
       "        text-align: right;\n",
       "    }\n",
       "</style>\n",
       "<table border=\"1\" class=\"dataframe\">\n",
       "  <thead>\n",
       "    <tr style=\"text-align: right;\">\n",
       "      <th></th>\n",
       "      <th>device</th>\n",
       "      <th>maxent_id</th>\n",
       "      <th>ticket</th>\n",
       "      <th>os</th>\n",
       "      <th>aid</th>\n",
       "      <th>idfa</th>\n",
       "      <th>dt</th>\n",
       "    </tr>\n",
       "  </thead>\n",
       "  <tbody>\n",
       "    <tr>\n",
       "      <th>79</th>\n",
       "      <td>19F68219-1C19-4E63-95DB-A23D297A5806</td>\n",
       "      <td>763e0a0edf93fcf07e33c8fb587b2a90</td>\n",
       "      <td>7830B1A7-2F98-487F-8A7B-4D1B7F66A556</td>\n",
       "      <td>ios</td>\n",
       "      <td>NaN</td>\n",
       "      <td>19F68219-1C19-4E63-95DB-A23D297A5806</td>\n",
       "      <td>20180201</td>\n",
       "    </tr>\n",
       "    <tr>\n",
       "      <th>80</th>\n",
       "      <td>19F68219-1C19-4E63-95DB-A23D297A5806</td>\n",
       "      <td>a6ba42c870b8bc9e8d23f41df7bb5e87</td>\n",
       "      <td>695140BF-CF52-4A76-84E6-BC10430B2885</td>\n",
       "      <td>ios</td>\n",
       "      <td>NaN</td>\n",
       "      <td>19F68219-1C19-4E63-95DB-A23D297A5806</td>\n",
       "      <td>20180227</td>\n",
       "    </tr>\n",
       "    <tr>\n",
       "      <th>81</th>\n",
       "      <td>19F68219-1C19-4E63-95DB-A23D297A5806</td>\n",
       "      <td>36b77ba3115b15becdfc8cbbf82241cb</td>\n",
       "      <td>293A7318-BE16-4EC7-A539-21F0EA06D16E</td>\n",
       "      <td>ios</td>\n",
       "      <td>NaN</td>\n",
       "      <td>19F68219-1C19-4E63-95DB-A23D297A5806</td>\n",
       "      <td>20180214</td>\n",
       "    </tr>\n",
       "    <tr>\n",
       "      <th>82</th>\n",
       "      <td>19F68219-1C19-4E63-95DB-A23D297A5806</td>\n",
       "      <td>8d06d7cf4ffc213f58a0e50a633aa8d5</td>\n",
       "      <td>5E44B91B-7A1B-4526-9C18-3D8D862F2335</td>\n",
       "      <td>ios</td>\n",
       "      <td>NaN</td>\n",
       "      <td>19F68219-1C19-4E63-95DB-A23D297A5806</td>\n",
       "      <td>20180114</td>\n",
       "    </tr>\n",
       "  </tbody>\n",
       "</table>\n",
       "</div>"
      ],
      "text/plain": [
       "                                  device                         maxent_id  \\\n",
       "79  19F68219-1C19-4E63-95DB-A23D297A5806  763e0a0edf93fcf07e33c8fb587b2a90   \n",
       "80  19F68219-1C19-4E63-95DB-A23D297A5806  a6ba42c870b8bc9e8d23f41df7bb5e87   \n",
       "81  19F68219-1C19-4E63-95DB-A23D297A5806  36b77ba3115b15becdfc8cbbf82241cb   \n",
       "82  19F68219-1C19-4E63-95DB-A23D297A5806  8d06d7cf4ffc213f58a0e50a633aa8d5   \n",
       "\n",
       "                                  ticket   os  aid  \\\n",
       "79  7830B1A7-2F98-487F-8A7B-4D1B7F66A556  ios  NaN   \n",
       "80  695140BF-CF52-4A76-84E6-BC10430B2885  ios  NaN   \n",
       "81  293A7318-BE16-4EC7-A539-21F0EA06D16E  ios  NaN   \n",
       "82  5E44B91B-7A1B-4526-9C18-3D8D862F2335  ios  NaN   \n",
       "\n",
       "                                    idfa        dt  \n",
       "79  19F68219-1C19-4E63-95DB-A23D297A5806  20180201  \n",
       "80  19F68219-1C19-4E63-95DB-A23D297A5806  20180227  \n",
       "81  19F68219-1C19-4E63-95DB-A23D297A5806  20180214  \n",
       "82  19F68219-1C19-4E63-95DB-A23D297A5806  20180114  "
      ]
     },
     "execution_count": 29,
     "metadata": {},
     "output_type": "execute_result"
    }
   ],
   "source": [
    "df1.loc[df1.idfa == '19F68219-1C19-4E63-95DB-A23D297A5806']"
   ]
  },
  {
   "cell_type": "code",
   "execution_count": null,
   "metadata": {
    "collapsed": true
   },
   "outputs": [],
   "source": []
  }
 ],
 "metadata": {
  "kernelspec": {
   "display_name": "Python 2",
   "language": "python",
   "name": "python2"
  },
  "language_info": {
   "codemirror_mode": {
    "name": "ipython",
    "version": 2
   },
   "file_extension": ".py",
   "mimetype": "text/x-python",
   "name": "python",
   "nbconvert_exporter": "python",
   "pygments_lexer": "ipython2",
   "version": "2.7.13"
  },
  "varInspector": {
   "cols": {
    "lenName": 16,
    "lenType": 16,
    "lenVar": 40
   },
   "kernels_config": {
    "python": {
     "delete_cmd_postfix": "",
     "delete_cmd_prefix": "del ",
     "library": "var_list.py",
     "varRefreshCmd": "print(var_dic_list())"
    },
    "r": {
     "delete_cmd_postfix": ") ",
     "delete_cmd_prefix": "rm(",
     "library": "var_list.r",
     "varRefreshCmd": "cat(var_dic_list()) "
    }
   },
   "types_to_exclude": [
    "module",
    "function",
    "builtin_function_or_method",
    "instance",
    "_Feature"
   ],
   "window_display": false
  }
 },
 "nbformat": 4,
 "nbformat_minor": 0
}
