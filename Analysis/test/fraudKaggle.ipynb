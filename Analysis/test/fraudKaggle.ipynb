{
 "cells": [
  {
   "cell_type": "code",
   "execution_count": 2,
   "metadata": {
    "collapsed": true
   },
   "outputs": [],
   "source": [
    "import pandas as pd\n",
    "import matplotlib.pyplot as plt\n",
    "import numpy as np\n",
    "from __future__ import print_function,division\n",
    "%matplotlib inline"
   ]
  },
  {
   "cell_type": "code",
   "execution_count": 3,
   "metadata": {
    "collapsed": false
   },
   "outputs": [
    {
     "data": {
      "text/plain": [
       "u'/Users/chaoxu/code/xuchao_ml/Analysis'"
      ]
     },
     "execution_count": 3,
     "metadata": {},
     "output_type": "execute_result"
    }
   ],
   "source": [
    "%pwd"
   ]
  },
  {
   "cell_type": "code",
   "execution_count": 4,
   "metadata": {
    "collapsed": false
   },
   "outputs": [
    {
     "data": {
      "text/html": [
       "<div>\n",
       "<table border=\"1\" class=\"dataframe\">\n",
       "  <thead>\n",
       "    <tr style=\"text-align: right;\">\n",
       "      <th></th>\n",
       "      <th>Time</th>\n",
       "      <th>V1</th>\n",
       "      <th>V2</th>\n",
       "      <th>V3</th>\n",
       "      <th>V4</th>\n",
       "      <th>V5</th>\n",
       "      <th>V6</th>\n",
       "      <th>V7</th>\n",
       "      <th>V8</th>\n",
       "      <th>V9</th>\n",
       "      <th>...</th>\n",
       "      <th>V21</th>\n",
       "      <th>V22</th>\n",
       "      <th>V23</th>\n",
       "      <th>V24</th>\n",
       "      <th>V25</th>\n",
       "      <th>V26</th>\n",
       "      <th>V27</th>\n",
       "      <th>V28</th>\n",
       "      <th>Amount</th>\n",
       "      <th>Class</th>\n",
       "    </tr>\n",
       "  </thead>\n",
       "  <tbody>\n",
       "    <tr>\n",
       "      <th>0</th>\n",
       "      <td>0.0</td>\n",
       "      <td>-1.359807</td>\n",
       "      <td>-0.072781</td>\n",
       "      <td>2.536347</td>\n",
       "      <td>1.378155</td>\n",
       "      <td>-0.338321</td>\n",
       "      <td>0.462388</td>\n",
       "      <td>0.239599</td>\n",
       "      <td>0.098698</td>\n",
       "      <td>0.363787</td>\n",
       "      <td>...</td>\n",
       "      <td>-0.018307</td>\n",
       "      <td>0.277838</td>\n",
       "      <td>-0.110474</td>\n",
       "      <td>0.066928</td>\n",
       "      <td>0.128539</td>\n",
       "      <td>-0.189115</td>\n",
       "      <td>0.133558</td>\n",
       "      <td>-0.021053</td>\n",
       "      <td>149.62</td>\n",
       "      <td>0</td>\n",
       "    </tr>\n",
       "    <tr>\n",
       "      <th>1</th>\n",
       "      <td>0.0</td>\n",
       "      <td>1.191857</td>\n",
       "      <td>0.266151</td>\n",
       "      <td>0.166480</td>\n",
       "      <td>0.448154</td>\n",
       "      <td>0.060018</td>\n",
       "      <td>-0.082361</td>\n",
       "      <td>-0.078803</td>\n",
       "      <td>0.085102</td>\n",
       "      <td>-0.255425</td>\n",
       "      <td>...</td>\n",
       "      <td>-0.225775</td>\n",
       "      <td>-0.638672</td>\n",
       "      <td>0.101288</td>\n",
       "      <td>-0.339846</td>\n",
       "      <td>0.167170</td>\n",
       "      <td>0.125895</td>\n",
       "      <td>-0.008983</td>\n",
       "      <td>0.014724</td>\n",
       "      <td>2.69</td>\n",
       "      <td>0</td>\n",
       "    </tr>\n",
       "    <tr>\n",
       "      <th>2</th>\n",
       "      <td>1.0</td>\n",
       "      <td>-1.358354</td>\n",
       "      <td>-1.340163</td>\n",
       "      <td>1.773209</td>\n",
       "      <td>0.379780</td>\n",
       "      <td>-0.503198</td>\n",
       "      <td>1.800499</td>\n",
       "      <td>0.791461</td>\n",
       "      <td>0.247676</td>\n",
       "      <td>-1.514654</td>\n",
       "      <td>...</td>\n",
       "      <td>0.247998</td>\n",
       "      <td>0.771679</td>\n",
       "      <td>0.909412</td>\n",
       "      <td>-0.689281</td>\n",
       "      <td>-0.327642</td>\n",
       "      <td>-0.139097</td>\n",
       "      <td>-0.055353</td>\n",
       "      <td>-0.059752</td>\n",
       "      <td>378.66</td>\n",
       "      <td>0</td>\n",
       "    </tr>\n",
       "    <tr>\n",
       "      <th>3</th>\n",
       "      <td>1.0</td>\n",
       "      <td>-0.966272</td>\n",
       "      <td>-0.185226</td>\n",
       "      <td>1.792993</td>\n",
       "      <td>-0.863291</td>\n",
       "      <td>-0.010309</td>\n",
       "      <td>1.247203</td>\n",
       "      <td>0.237609</td>\n",
       "      <td>0.377436</td>\n",
       "      <td>-1.387024</td>\n",
       "      <td>...</td>\n",
       "      <td>-0.108300</td>\n",
       "      <td>0.005274</td>\n",
       "      <td>-0.190321</td>\n",
       "      <td>-1.175575</td>\n",
       "      <td>0.647376</td>\n",
       "      <td>-0.221929</td>\n",
       "      <td>0.062723</td>\n",
       "      <td>0.061458</td>\n",
       "      <td>123.50</td>\n",
       "      <td>0</td>\n",
       "    </tr>\n",
       "    <tr>\n",
       "      <th>4</th>\n",
       "      <td>2.0</td>\n",
       "      <td>-1.158233</td>\n",
       "      <td>0.877737</td>\n",
       "      <td>1.548718</td>\n",
       "      <td>0.403034</td>\n",
       "      <td>-0.407193</td>\n",
       "      <td>0.095921</td>\n",
       "      <td>0.592941</td>\n",
       "      <td>-0.270533</td>\n",
       "      <td>0.817739</td>\n",
       "      <td>...</td>\n",
       "      <td>-0.009431</td>\n",
       "      <td>0.798278</td>\n",
       "      <td>-0.137458</td>\n",
       "      <td>0.141267</td>\n",
       "      <td>-0.206010</td>\n",
       "      <td>0.502292</td>\n",
       "      <td>0.219422</td>\n",
       "      <td>0.215153</td>\n",
       "      <td>69.99</td>\n",
       "      <td>0</td>\n",
       "    </tr>\n",
       "  </tbody>\n",
       "</table>\n",
       "<p>5 rows × 31 columns</p>\n",
       "</div>"
      ],
      "text/plain": [
       "   Time        V1        V2        V3        V4        V5        V6        V7  \\\n",
       "0   0.0 -1.359807 -0.072781  2.536347  1.378155 -0.338321  0.462388  0.239599   \n",
       "1   0.0  1.191857  0.266151  0.166480  0.448154  0.060018 -0.082361 -0.078803   \n",
       "2   1.0 -1.358354 -1.340163  1.773209  0.379780 -0.503198  1.800499  0.791461   \n",
       "3   1.0 -0.966272 -0.185226  1.792993 -0.863291 -0.010309  1.247203  0.237609   \n",
       "4   2.0 -1.158233  0.877737  1.548718  0.403034 -0.407193  0.095921  0.592941   \n",
       "\n",
       "         V8        V9  ...         V21       V22       V23       V24  \\\n",
       "0  0.098698  0.363787  ...   -0.018307  0.277838 -0.110474  0.066928   \n",
       "1  0.085102 -0.255425  ...   -0.225775 -0.638672  0.101288 -0.339846   \n",
       "2  0.247676 -1.514654  ...    0.247998  0.771679  0.909412 -0.689281   \n",
       "3  0.377436 -1.387024  ...   -0.108300  0.005274 -0.190321 -1.175575   \n",
       "4 -0.270533  0.817739  ...   -0.009431  0.798278 -0.137458  0.141267   \n",
       "\n",
       "        V25       V26       V27       V28  Amount  Class  \n",
       "0  0.128539 -0.189115  0.133558 -0.021053  149.62      0  \n",
       "1  0.167170  0.125895 -0.008983  0.014724    2.69      0  \n",
       "2 -0.327642 -0.139097 -0.055353 -0.059752  378.66      0  \n",
       "3  0.647376 -0.221929  0.062723  0.061458  123.50      0  \n",
       "4 -0.206010  0.502292  0.219422  0.215153   69.99      0  \n",
       "\n",
       "[5 rows x 31 columns]"
      ]
     },
     "execution_count": 4,
     "metadata": {},
     "output_type": "execute_result"
    }
   ],
   "source": [
    "data = pd.read_csv(\"../Data/creditcard.csv\")\n",
    "data.head()"
   ]
  },
  {
   "cell_type": "code",
   "execution_count": 5,
   "metadata": {
    "collapsed": true
   },
   "outputs": [],
   "source": [
    "import numpy as np\n",
    "import pandas as pd\n",
    "import matplotlib.pyplot as plt\n",
    "import sklearn as sk\n",
    "from Pic.drawValueCountsBar import valueCountBar"
   ]
  },
  {
   "cell_type": "code",
   "execution_count": 6,
   "metadata": {
    "collapsed": false
   },
   "outputs": [
    {
     "name": "stdout",
     "output_type": "stream",
     "text": [
      "remove_palette_inner\n",
      "valueCountBar\n"
     ]
    },
    {
     "data": {
      "image/png": "[encoded data removed]",
      "text/plain": [
       "<matplotlib.figure.Figure at 0x11b512e10>"
      ]
     },
     "metadata": {},
     "output_type": "display_data"
    }
   ],
   "source": [
    "valueCountBar(df=data,col=\"Class\",title=\"Fraud class histogram\",xlabel=\"Class\",ylabel=\"Frequency\")"
   ]
  },
  {
   "cell_type": "code",
   "execution_count": 7,
   "metadata": {
    "collapsed": false
   },
   "outputs": [
    {
     "name": "stderr",
     "output_type": "stream",
     "text": [
      "/Users/chaoxu/.pyenv/versions/anaconda2-4.3.1/lib/python2.7/site-packages/ipykernel/__main__.py:3: FutureWarning: reshape is deprecated and will raise in a subsequent release. Please use .values.reshape(...) instead\n",
      "  app.launch_new_instance()\n"
     ]
    },
    {
     "data": {
      "text/html": [
       "<div>\n",
       "<table border=\"1\" class=\"dataframe\">\n",
       "  <thead>\n",
       "    <tr style=\"text-align: right;\">\n",
       "      <th></th>\n",
       "      <th>V1</th>\n",
       "      <th>V2</th>\n",
       "      <th>V3</th>\n",
       "      <th>V4</th>\n",
       "      <th>V5</th>\n",
       "      <th>V6</th>\n",
       "      <th>V7</th>\n",
       "      <th>V8</th>\n",
       "      <th>V9</th>\n",
       "      <th>V10</th>\n",
       "      <th>...</th>\n",
       "      <th>V21</th>\n",
       "      <th>V22</th>\n",
       "      <th>V23</th>\n",
       "      <th>V24</th>\n",
       "      <th>V25</th>\n",
       "      <th>V26</th>\n",
       "      <th>V27</th>\n",
       "      <th>V28</th>\n",
       "      <th>Class</th>\n",
       "      <th>normAmount</th>\n",
       "    </tr>\n",
       "  </thead>\n",
       "  <tbody>\n",
       "    <tr>\n",
       "      <th>0</th>\n",
       "      <td>-1.359807</td>\n",
       "      <td>-0.072781</td>\n",
       "      <td>2.536347</td>\n",
       "      <td>1.378155</td>\n",
       "      <td>-0.338321</td>\n",
       "      <td>0.462388</td>\n",
       "      <td>0.239599</td>\n",
       "      <td>0.098698</td>\n",
       "      <td>0.363787</td>\n",
       "      <td>0.090794</td>\n",
       "      <td>...</td>\n",
       "      <td>-0.018307</td>\n",
       "      <td>0.277838</td>\n",
       "      <td>-0.110474</td>\n",
       "      <td>0.066928</td>\n",
       "      <td>0.128539</td>\n",
       "      <td>-0.189115</td>\n",
       "      <td>0.133558</td>\n",
       "      <td>-0.021053</td>\n",
       "      <td>0</td>\n",
       "      <td>0.244964</td>\n",
       "    </tr>\n",
       "    <tr>\n",
       "      <th>1</th>\n",
       "      <td>1.191857</td>\n",
       "      <td>0.266151</td>\n",
       "      <td>0.166480</td>\n",
       "      <td>0.448154</td>\n",
       "      <td>0.060018</td>\n",
       "      <td>-0.082361</td>\n",
       "      <td>-0.078803</td>\n",
       "      <td>0.085102</td>\n",
       "      <td>-0.255425</td>\n",
       "      <td>-0.166974</td>\n",
       "      <td>...</td>\n",
       "      <td>-0.225775</td>\n",
       "      <td>-0.638672</td>\n",
       "      <td>0.101288</td>\n",
       "      <td>-0.339846</td>\n",
       "      <td>0.167170</td>\n",
       "      <td>0.125895</td>\n",
       "      <td>-0.008983</td>\n",
       "      <td>0.014724</td>\n",
       "      <td>0</td>\n",
       "      <td>-0.342475</td>\n",
       "    </tr>\n",
       "    <tr>\n",
       "      <th>2</th>\n",
       "      <td>-1.358354</td>\n",
       "      <td>-1.340163</td>\n",
       "      <td>1.773209</td>\n",
       "      <td>0.379780</td>\n",
       "      <td>-0.503198</td>\n",
       "      <td>1.800499</td>\n",
       "      <td>0.791461</td>\n",
       "      <td>0.247676</td>\n",
       "      <td>-1.514654</td>\n",
       "      <td>0.207643</td>\n",
       "      <td>...</td>\n",
       "      <td>0.247998</td>\n",
       "      <td>0.771679</td>\n",
       "      <td>0.909412</td>\n",
       "      <td>-0.689281</td>\n",
       "      <td>-0.327642</td>\n",
       "      <td>-0.139097</td>\n",
       "      <td>-0.055353</td>\n",
       "      <td>-0.059752</td>\n",
       "      <td>0</td>\n",
       "      <td>1.160686</td>\n",
       "    </tr>\n",
       "    <tr>\n",
       "      <th>3</th>\n",
       "      <td>-0.966272</td>\n",
       "      <td>-0.185226</td>\n",
       "      <td>1.792993</td>\n",
       "      <td>-0.863291</td>\n",
       "      <td>-0.010309</td>\n",
       "      <td>1.247203</td>\n",
       "      <td>0.237609</td>\n",
       "      <td>0.377436</td>\n",
       "      <td>-1.387024</td>\n",
       "      <td>-0.054952</td>\n",
       "      <td>...</td>\n",
       "      <td>-0.108300</td>\n",
       "      <td>0.005274</td>\n",
       "      <td>-0.190321</td>\n",
       "      <td>-1.175575</td>\n",
       "      <td>0.647376</td>\n",
       "      <td>-0.221929</td>\n",
       "      <td>0.062723</td>\n",
       "      <td>0.061458</td>\n",
       "      <td>0</td>\n",
       "      <td>0.140534</td>\n",
       "    </tr>\n",
       "    <tr>\n",
       "      <th>4</th>\n",
       "      <td>-1.158233</td>\n",
       "      <td>0.877737</td>\n",
       "      <td>1.548718</td>\n",
       "      <td>0.403034</td>\n",
       "      <td>-0.407193</td>\n",
       "      <td>0.095921</td>\n",
       "      <td>0.592941</td>\n",
       "      <td>-0.270533</td>\n",
       "      <td>0.817739</td>\n",
       "      <td>0.753074</td>\n",
       "      <td>...</td>\n",
       "      <td>-0.009431</td>\n",
       "      <td>0.798278</td>\n",
       "      <td>-0.137458</td>\n",
       "      <td>0.141267</td>\n",
       "      <td>-0.206010</td>\n",
       "      <td>0.502292</td>\n",
       "      <td>0.219422</td>\n",
       "      <td>0.215153</td>\n",
       "      <td>0</td>\n",
       "      <td>-0.073403</td>\n",
       "    </tr>\n",
       "  </tbody>\n",
       "</table>\n",
       "<p>5 rows × 30 columns</p>\n",
       "</div>"
      ],
      "text/plain": [
       "         V1        V2        V3        V4        V5        V6        V7  \\\n",
       "0 -1.359807 -0.072781  2.536347  1.378155 -0.338321  0.462388  0.239599   \n",
       "1  1.191857  0.266151  0.166480  0.448154  0.060018 -0.082361 -0.078803   \n",
       "2 -1.358354 -1.340163  1.773209  0.379780 -0.503198  1.800499  0.791461   \n",
       "3 -0.966272 -0.185226  1.792993 -0.863291 -0.010309  1.247203  0.237609   \n",
       "4 -1.158233  0.877737  1.548718  0.403034 -0.407193  0.095921  0.592941   \n",
       "\n",
       "         V8        V9       V10     ...           V21       V22       V23  \\\n",
       "0  0.098698  0.363787  0.090794     ...     -0.018307  0.277838 -0.110474   \n",
       "1  0.085102 -0.255425 -0.166974     ...     -0.225775 -0.638672  0.101288   \n",
       "2  0.247676 -1.514654  0.207643     ...      0.247998  0.771679  0.909412   \n",
       "3  0.377436 -1.387024 -0.054952     ...     -0.108300  0.005274 -0.190321   \n",
       "4 -0.270533  0.817739  0.753074     ...     -0.009431  0.798278 -0.137458   \n",
       "\n",
       "        V24       V25       V26       V27       V28  Class  normAmount  \n",
       "0  0.066928  0.128539 -0.189115  0.133558 -0.021053      0    0.244964  \n",
       "1 -0.339846  0.167170  0.125895 -0.008983  0.014724      0   -0.342475  \n",
       "2 -0.689281 -0.327642 -0.139097 -0.055353 -0.059752      0    1.160686  \n",
       "3 -1.175575  0.647376 -0.221929  0.062723  0.061458      0    0.140534  \n",
       "4  0.141267 -0.206010  0.502292  0.219422  0.215153      0   -0.073403  \n",
       "\n",
       "[5 rows x 30 columns]"
      ]
     },
     "execution_count": 7,
     "metadata": {},
     "output_type": "execute_result"
    }
   ],
   "source": [
    "from sklearn.preprocessing import StandardScaler\n",
    "\n",
    "data['normAmount'] = StandardScaler().fit_transform(data['Amount'].reshape(-1, 1))\n",
    "data = data.drop(['Time','Amount'],axis=1)\n",
    "data.head()"
   ]
  },
  {
   "cell_type": "code",
   "execution_count": 8,
   "metadata": {
    "collapsed": true
   },
   "outputs": [],
   "source": [
    "X = data.ix[:, data.columns != 'Class']\n",
    "y = data.ix[:, data.columns == 'Class']"
   ]
  },
  {
   "cell_type": "code",
   "execution_count": 9,
   "metadata": {
    "collapsed": false
   },
   "outputs": [
    {
     "data": {
      "text/html": [
       "<div>\n",
       "<table border=\"1\" class=\"dataframe\">\n",
       "  <thead>\n",
       "    <tr style=\"text-align: right;\">\n",
       "      <th></th>\n",
       "      <th>V1</th>\n",
       "      <th>V2</th>\n",
       "      <th>V3</th>\n",
       "      <th>V4</th>\n",
       "      <th>V5</th>\n",
       "      <th>V6</th>\n",
       "      <th>V7</th>\n",
       "      <th>V8</th>\n",
       "      <th>V9</th>\n",
       "      <th>V10</th>\n",
       "      <th>...</th>\n",
       "      <th>V20</th>\n",
       "      <th>V21</th>\n",
       "      <th>V22</th>\n",
       "      <th>V23</th>\n",
       "      <th>V24</th>\n",
       "      <th>V25</th>\n",
       "      <th>V26</th>\n",
       "      <th>V27</th>\n",
       "      <th>V28</th>\n",
       "      <th>normAmount</th>\n",
       "    </tr>\n",
       "  </thead>\n",
       "  <tbody>\n",
       "    <tr>\n",
       "      <th>0</th>\n",
       "      <td>-1.359807</td>\n",
       "      <td>-0.072781</td>\n",
       "      <td>2.536347</td>\n",
       "      <td>1.378155</td>\n",
       "      <td>-0.338321</td>\n",
       "      <td>0.462388</td>\n",
       "      <td>0.239599</td>\n",
       "      <td>0.098698</td>\n",
       "      <td>0.363787</td>\n",
       "      <td>0.090794</td>\n",
       "      <td>...</td>\n",
       "      <td>0.251412</td>\n",
       "      <td>-0.018307</td>\n",
       "      <td>0.277838</td>\n",
       "      <td>-0.110474</td>\n",
       "      <td>0.066928</td>\n",
       "      <td>0.128539</td>\n",
       "      <td>-0.189115</td>\n",
       "      <td>0.133558</td>\n",
       "      <td>-0.021053</td>\n",
       "      <td>0.244964</td>\n",
       "    </tr>\n",
       "    <tr>\n",
       "      <th>1</th>\n",
       "      <td>1.191857</td>\n",
       "      <td>0.266151</td>\n",
       "      <td>0.166480</td>\n",
       "      <td>0.448154</td>\n",
       "      <td>0.060018</td>\n",
       "      <td>-0.082361</td>\n",
       "      <td>-0.078803</td>\n",
       "      <td>0.085102</td>\n",
       "      <td>-0.255425</td>\n",
       "      <td>-0.166974</td>\n",
       "      <td>...</td>\n",
       "      <td>-0.069083</td>\n",
       "      <td>-0.225775</td>\n",
       "      <td>-0.638672</td>\n",
       "      <td>0.101288</td>\n",
       "      <td>-0.339846</td>\n",
       "      <td>0.167170</td>\n",
       "      <td>0.125895</td>\n",
       "      <td>-0.008983</td>\n",
       "      <td>0.014724</td>\n",
       "      <td>-0.342475</td>\n",
       "    </tr>\n",
       "    <tr>\n",
       "      <th>2</th>\n",
       "      <td>-1.358354</td>\n",
       "      <td>-1.340163</td>\n",
       "      <td>1.773209</td>\n",
       "      <td>0.379780</td>\n",
       "      <td>-0.503198</td>\n",
       "      <td>1.800499</td>\n",
       "      <td>0.791461</td>\n",
       "      <td>0.247676</td>\n",
       "      <td>-1.514654</td>\n",
       "      <td>0.207643</td>\n",
       "      <td>...</td>\n",
       "      <td>0.524980</td>\n",
       "      <td>0.247998</td>\n",
       "      <td>0.771679</td>\n",
       "      <td>0.909412</td>\n",
       "      <td>-0.689281</td>\n",
       "      <td>-0.327642</td>\n",
       "      <td>-0.139097</td>\n",
       "      <td>-0.055353</td>\n",
       "      <td>-0.059752</td>\n",
       "      <td>1.160686</td>\n",
       "    </tr>\n",
       "    <tr>\n",
       "      <th>3</th>\n",
       "      <td>-0.966272</td>\n",
       "      <td>-0.185226</td>\n",
       "      <td>1.792993</td>\n",
       "      <td>-0.863291</td>\n",
       "      <td>-0.010309</td>\n",
       "      <td>1.247203</td>\n",
       "      <td>0.237609</td>\n",
       "      <td>0.377436</td>\n",
       "      <td>-1.387024</td>\n",
       "      <td>-0.054952</td>\n",
       "      <td>...</td>\n",
       "      <td>-0.208038</td>\n",
       "      <td>-0.108300</td>\n",
       "      <td>0.005274</td>\n",
       "      <td>-0.190321</td>\n",
       "      <td>-1.175575</td>\n",
       "      <td>0.647376</td>\n",
       "      <td>-0.221929</td>\n",
       "      <td>0.062723</td>\n",
       "      <td>0.061458</td>\n",
       "      <td>0.140534</td>\n",
       "    </tr>\n",
       "    <tr>\n",
       "      <th>4</th>\n",
       "      <td>-1.158233</td>\n",
       "      <td>0.877737</td>\n",
       "      <td>1.548718</td>\n",
       "      <td>0.403034</td>\n",
       "      <td>-0.407193</td>\n",
       "      <td>0.095921</td>\n",
       "      <td>0.592941</td>\n",
       "      <td>-0.270533</td>\n",
       "      <td>0.817739</td>\n",
       "      <td>0.753074</td>\n",
       "      <td>...</td>\n",
       "      <td>0.408542</td>\n",
       "      <td>-0.009431</td>\n",
       "      <td>0.798278</td>\n",
       "      <td>-0.137458</td>\n",
       "      <td>0.141267</td>\n",
       "      <td>-0.206010</td>\n",
       "      <td>0.502292</td>\n",
       "      <td>0.219422</td>\n",
       "      <td>0.215153</td>\n",
       "      <td>-0.073403</td>\n",
       "    </tr>\n",
       "  </tbody>\n",
       "</table>\n",
       "<p>5 rows × 29 columns</p>\n",
       "</div>"
      ],
      "text/plain": [
       "         V1        V2        V3        V4        V5        V6        V7  \\\n",
       "0 -1.359807 -0.072781  2.536347  1.378155 -0.338321  0.462388  0.239599   \n",
       "1  1.191857  0.266151  0.166480  0.448154  0.060018 -0.082361 -0.078803   \n",
       "2 -1.358354 -1.340163  1.773209  0.379780 -0.503198  1.800499  0.791461   \n",
       "3 -0.966272 -0.185226  1.792993 -0.863291 -0.010309  1.247203  0.237609   \n",
       "4 -1.158233  0.877737  1.548718  0.403034 -0.407193  0.095921  0.592941   \n",
       "\n",
       "         V8        V9       V10     ...           V20       V21       V22  \\\n",
       "0  0.098698  0.363787  0.090794     ...      0.251412 -0.018307  0.277838   \n",
       "1  0.085102 -0.255425 -0.166974     ...     -0.069083 -0.225775 -0.638672   \n",
       "2  0.247676 -1.514654  0.207643     ...      0.524980  0.247998  0.771679   \n",
       "3  0.377436 -1.387024 -0.054952     ...     -0.208038 -0.108300  0.005274   \n",
       "4 -0.270533  0.817739  0.753074     ...      0.408542 -0.009431  0.798278   \n",
       "\n",
       "        V23       V24       V25       V26       V27       V28  normAmount  \n",
       "0 -0.110474  0.066928  0.128539 -0.189115  0.133558 -0.021053    0.244964  \n",
       "1  0.101288 -0.339846  0.167170  0.125895 -0.008983  0.014724   -0.342475  \n",
       "2  0.909412 -0.689281 -0.327642 -0.139097 -0.055353 -0.059752    1.160686  \n",
       "3 -0.190321 -1.175575  0.647376 -0.221929  0.062723  0.061458    0.140534  \n",
       "4 -0.137458  0.141267 -0.206010  0.502292  0.219422  0.215153   -0.073403  \n",
       "\n",
       "[5 rows x 29 columns]"
      ]
     },
     "execution_count": 9,
     "metadata": {},
     "output_type": "execute_result"
    }
   ],
   "source": [
    "X.head()"
   ]
  },
  {
   "cell_type": "code",
   "execution_count": 10,
   "metadata": {
    "collapsed": true
   },
   "outputs": [],
   "source": [
    "number_records_fraud = len(data[data.Class == 1])\n",
    "fraud_indices = np.array(data[data.Class == 1].index)"
   ]
  },
  {
   "cell_type": "code",
   "execution_count": 11,
   "metadata": {
    "collapsed": true
   },
   "outputs": [],
   "source": [
    "normal_indices = data[data.Class == 0].index"
   ]
  },
  {
   "cell_type": "markdown",
   "metadata": {},
   "source": [
    "- use SMOTE to get balance data"
   ]
  },
  {
   "cell_type": "code",
   "execution_count": 12,
   "metadata": {
    "collapsed": true
   },
   "outputs": [],
   "source": [
    "from sklearn.decomposition import PCA\n",
    "\n",
    "from imblearn.over_sampling import SMOTE\n",
    "def plot_resampling(ax, X, y, title):\n",
    "    c0 = ax.scatter(X[y == 0, 0], X[y == 0, 1], label=\"Class #0\", alpha=0.5,color='b')\n",
    "    c1 = ax.scatter(X[y == 1, 0], X[y == 1, 1], label=\"Class #1\", alpha=0.5,color='r')\n",
    "    ax.set_title(title)\n",
    "    ax.spines['top'].set_visible(False)\n",
    "    ax.spines['right'].set_visible(False)\n",
    "    ax.get_xaxis().tick_bottom()\n",
    "    ax.get_yaxis().tick_left()\n",
    "    ax.spines['left'].set_position(('outward', 10))\n",
    "    ax.spines['bottom'].set_position(('outward', 10))\n",
    "    ax.set_xlim([-6, 8])\n",
    "    ax.set_ylim([-6, 6])\n",
    "    return c0, c1"
   ]
  },
  {
   "cell_type": "code",
   "execution_count": 13,
   "metadata": {
    "collapsed": false
   },
   "outputs": [],
   "source": [
    "from imblearn.over_sampling import SMOTE\n",
    "method = SMOTE(kind=\"svm\")\n",
    "X_res, y_res = method.fit_sample(X,y[\"Class\"])"
   ]
  },
  {
   "cell_type": "code",
   "execution_count": 14,
   "metadata": {
    "collapsed": false
   },
   "outputs": [
    {
     "name": "stdout",
     "output_type": "stream",
     "text": [
      "[[ -1.35980713e+00  -7.27811733e-02   2.53634674e+00 ...,   1.33558377e-01\n",
      "   -2.10530535e-02   2.44964263e-01]\n",
      " [  1.19185711e+00   2.66150712e-01   1.66480113e-01 ...,  -8.98309914e-03\n",
      "    1.47241692e-02  -3.42474541e-01]\n",
      " [ -1.35835406e+00  -1.34016307e+00   1.77320934e+00 ...,  -5.53527940e-02\n",
      "   -5.97518406e-02   1.16068593e+00]\n",
      " ..., \n",
      " [ -6.89900443e+00   4.74298489e+00  -1.07171572e+01 ...,   1.88408970e+00\n",
      "   -5.80536801e-01   9.95741036e-01]\n",
      " [ -5.84885558e+00   5.22573954e+00  -6.87800922e+00 ...,   1.18500381e-02\n",
      "   -3.18113902e-01  -3.53229393e-01]\n",
      " [ -2.16129596e+00   2.28383608e+00  -2.86438791e+00 ...,  -6.83105192e-01\n",
      "   -1.19620266e+00   3.45146486e-01]]\n",
      "[0 0 0 ..., 1 1 1]\n",
      "<type 'numpy.ndarray'>\n",
      "<type 'numpy.ndarray'>\n"
     ]
    }
   ],
   "source": [
    "print(X_res)\n",
    "print(y_res)\n",
    "print(type(X_res))\n",
    "print(type(y_res))"
   ]
  },
  {
   "cell_type": "code",
   "execution_count": 15,
   "metadata": {
    "collapsed": false
   },
   "outputs": [
    {
     "name": "stderr",
     "output_type": "stream",
     "text": [
      "/Users/chaoxu/.pyenv/versions/anaconda2-4.3.1/lib/python2.7/site-packages/sklearn/cross_validation.py:44: DeprecationWarning: This module was deprecated in version 0.18 in favor of the model_selection module into which all the refactored classes and functions are moved. Also note that the interface of the new CV iterators are different from that of this module. This module will be removed in 0.20.\n",
      "  \"This module will be removed in 0.20.\", DeprecationWarning)\n"
     ]
    }
   ],
   "source": [
    "from sklearn.cross_validation import train_test_split\n",
    "\n",
    "# Whole dataset\n",
    "X_train, X_test, y_train, y_test = train_test_split(X_res,y_res,test_size = 0.3, random_state = 0)"
   ]
  },
  {
   "cell_type": "code",
   "execution_count": 16,
   "metadata": {
    "collapsed": false
   },
   "outputs": [
    {
     "name": "stdout",
     "output_type": "stream",
     "text": [
      "Number transactions train dataset:  398041\n",
      "Number transactions test dataset:  170589\n",
      "Total number of transactions:  568630\n"
     ]
    }
   ],
   "source": [
    "print(\"Number transactions train dataset: \", len(X_train))\n",
    "print(\"Number transactions test dataset: \", len(X_test))\n",
    "print(\"Total number of transactions: \", len(X_train)+len(X_test))"
   ]
  },
  {
   "cell_type": "code",
   "execution_count": 26,
   "metadata": {
    "collapsed": true
   },
   "outputs": [],
   "source": [
    "from sklearn.linear_model import LogisticRegression\n",
    "from sklearn.cross_validation import KFold, cross_val_score\n",
    "from sklearn.metrics import confusion_matrix,precision_recall_curve,auc,roc_auc_score,roc_curve,recall_score,precision_score,classification_report"
   ]
  },
  {
   "cell_type": "markdown",
   "metadata": {},
   "source": [
    "cross validation先将数据分成k个大小相同的互斥子集，即D=D1+D2+D3+D4+.....+Dk;每一个子集都尽量保证数据分布的一致性。然后每一次从k-1个子集的并集作为训练集，剩余的一个子集作为测试集。这样可以获得k组训练/测试集。cross validation的稳定性和保真性很大程度上取决于k的取值。常用的k值有5,19,20等。"
   ]
  },
  {
   "cell_type": "code",
   "execution_count": 27,
   "metadata": {
    "collapsed": true
   },
   "outputs": [],
   "source": [
    "def printing_Kfold_scores(x_train_data,y_train_data):\n",
    "    fold = KFold(len(y_train_data),5,shuffle=False) \n",
    "\n",
    "    # Different C parameters\n",
    "    c_param_range = [0.01,0.1,1,10,100]\n",
    "\n",
    "    results_table = pd.DataFrame(index = range(len(c_param_range),2), columns = ['C_parameter','Mean recall score'])\n",
    "    results_table['C_parameter'] = c_param_range\n",
    "\n",
    "    # the k-fold will give 2 lists: train_indices = indices[0], test_indices = indices[1]\n",
    "    j = 0\n",
    "    for c_param in c_param_range:\n",
    "        print('-------------------------------------------')\n",
    "        print('C parameter: ', c_param)\n",
    "        print('-------------------------------------------')\n",
    "        print('')\n",
    "\n",
    "        recall_accs = []\n",
    "        precision_accs = []\n",
    "        for iteration, indices in enumerate(fold,start=1):\n",
    "\n",
    "            # Call the logistic regression model with a certain C parameter\n",
    "            lr = LogisticRegression(C = c_param, penalty = 'l1')\n",
    "\n",
    "            # Use the training data to fit the model. In this case, we use the portion of the fold to train the model\n",
    "            # with indices[0]. We then predict on the portion assigned as the 'test cross validation' with indices[1]\n",
    "            lr.fit(x_train_data[indices[0],:],y_train_data[indices[0]])\n",
    "\n",
    "            # Predict values using the test indices in the training data\n",
    "            y_pred_undersample = lr.predict(x_train_data[indices[1]])\n",
    "\n",
    "            # Calculate the recall score and append it to a list for recall scores representing the current c_parameter\n",
    "            recall_acc = recall_score(y_train_data[indices[1]],y_pred_undersample)\n",
    "            recall_accs.append(recall_acc)\n",
    "            print('Iteration ', iteration,': recall score = ', recall_acc)\n",
    "            precision_acc = precision_score(y_train_data[indices[1]],y_pred_undersample)\n",
    "            precision_accs.append(precision_acc)\n",
    "            print('Iteration ', iteration,': precision score = ', precision_acc)\n",
    "    \n",
    "        # The macro value of F2\n",
    "        f2 = 0.2 * (4/np.mean(recall_accs) + 1/np.mean(precision_accs))\n",
    "        results_table.ix[j,'F2'] = f2\n",
    "        j += 1\n",
    "        print('')\n",
    "        print('macro F2 ', f2)\n",
    "        print('')\n",
    "\n",
    "    best_c = results_table.loc[results_table['F2'].idxmax()]['C_parameter']\n",
    "    \n",
    "    # Finally, we can check which C parameter is the best amongst the chosen.\n",
    "    print('*********************************************************************************')\n",
    "    print('Best model to choose from cross validation is with C parameter = ', best_c)\n",
    "    print('*********************************************************************************')\n",
    "\n",
    "    return best_c"
   ]
  },
  {
   "cell_type": "code",
   "execution_count": 28,
   "metadata": {
    "collapsed": false
   },
   "outputs": [
    {
     "name": "stdout",
     "output_type": "stream",
     "text": [
      "-------------------------------------------\n",
      "C parameter:  0.01\n",
      "-------------------------------------------\n",
      "\n",
      "Iteration  1 : recall score =  0.984506864844\n",
      "Iteration  1 : precision score =  0.989517395047\n",
      "Iteration  2 : recall score =  0.983467325285\n",
      "Iteration  2 : precision score =  0.990129909672\n",
      "Iteration  3 : recall score =  0.984666183055\n",
      "Iteration  3 : precision score =  0.989393253908\n",
      "Iteration  4 : recall score =  0.984170923824\n",
      "Iteration  4 : precision score =  0.99015115072\n",
      "Iteration  5 : recall score =  0.983446370259\n",
      "Iteration  5 : precision score =  0.990061703419\n",
      "\n",
      "macro F2  1.0150162304\n",
      "\n",
      "-------------------------------------------\n",
      "C parameter:  0.1\n",
      "-------------------------------------------\n",
      "\n",
      "Iteration  1 : recall score =  0.985791661418\n",
      "Iteration  1 : precision score =  0.990156882591\n",
      "Iteration  2 : recall score =  0.984626628695\n",
      "Iteration  2 : precision score =  0.991146176874\n",
      "Iteration  3 : recall score =  0.985966930985\n",
      "Iteration  3 : precision score =  0.990152733119\n",
      "Iteration  4 : recall score =  0.985655686136\n",
      "Iteration  4 : precision score =  0.990666734116\n",
      "Iteration  5 : recall score =  0.984652097463\n",
      "Iteration  5 : precision score =  0.99062421026\n",
      "\n",
      "macro F2  1.01381180723\n",
      "\n",
      "-------------------------------------------\n",
      "C parameter:  1\n",
      "-------------------------------------------\n",
      "\n",
      "Iteration  1 : recall score =  0.985968006046\n",
      "Iteration  1 : precision score =  0.990183676567\n",
      "Iteration  2 : recall score =  0.984878651176\n",
      "Iteration  2 : precision score =  0.991148422441\n",
      "Iteration  3 : recall score =  0.986167046051\n",
      "Iteration  3 : precision score =  0.990229322081\n",
      "Iteration  4 : recall score =  0.985831844377\n",
      "Iteration  4 : precision score =  0.99084378794\n",
      "Iteration  5 : recall score =  0.98482793268\n",
      "Iteration  5 : precision score =  0.990726000051\n",
      "\n",
      "macro F2  1.01363458753\n",
      "\n",
      "-------------------------------------------\n",
      "C parameter:  10\n",
      "-------------------------------------------\n",
      "\n",
      "Iteration  1 : recall score =  0.986144350674\n",
      "Iteration  1 : precision score =  0.990285613094\n",
      "Iteration  2 : recall score =  0.984752639935\n",
      "Iteration  2 : precision score =  0.991097019658\n",
      "Iteration  3 : recall score =  0.986192060435\n",
      "Iteration  3 : precision score =  0.99027931277\n",
      "Iteration  4 : recall score =  0.985907340766\n",
      "Iteration  4 : precision score =  0.990844482663\n",
      "Iteration  5 : recall score =  0.984777694047\n",
      "Iteration  5 : precision score =  0.990775607167\n",
      "\n",
      "macro F2  1.01361186741\n",
      "\n",
      "-------------------------------------------\n",
      "C parameter:  100\n",
      "-------------------------------------------\n",
      "\n",
      "Iteration  1 : recall score =  0.985968006046\n",
      "Iteration  1 : precision score =  0.990258836627\n",
      "Iteration  2 : recall score =  0.984853448928\n",
      "Iteration  2 : precision score =  0.991097922849\n",
      "Iteration  3 : recall score =  0.986417189884\n",
      "Iteration  3 : precision score =  0.990331248901\n",
      "Iteration  4 : recall score =  0.98585700984\n",
      "Iteration  4 : precision score =  0.990818958976\n",
      "Iteration  5 : recall score =  0.984802813363\n",
      "Iteration  5 : precision score =  0.990725765693\n",
      "\n",
      "macro F2  1.01359338861\n",
      "\n",
      "*********************************************************************************\n",
      "Best model to choose from cross validation is with C parameter =  0.01\n",
      "*********************************************************************************\n"
     ]
    }
   ],
   "source": [
    "best_c = printing_Kfold_scores(X_train,y_train)"
   ]
  },
  {
   "cell_type": "markdown",
   "metadata": {},
   "source": [
    "- 混淆矩阵绘图函数"
   ]
  },
  {
   "cell_type": "code",
   "execution_count": 29,
   "metadata": {
    "collapsed": true
   },
   "outputs": [],
   "source": [
    "import itertools\n",
    "\n",
    "def plot_confusion_matrix(cm, classes,\n",
    "                          normalize=False,\n",
    "                          title='Confusion matrix',\n",
    "                          cmap=plt.cm.Blues):\n",
    "    \"\"\"\n",
    "    This function prints and plots the confusion matrix.\n",
    "    Normalization can be applied by setting `normalize=True`.\n",
    "    \"\"\"\n",
    "    plt.imshow(cm, interpolation='nearest', cmap=cmap)\n",
    "    plt.title(title)\n",
    "    plt.colorbar()\n",
    "    tick_marks = np.arange(len(classes))\n",
    "    plt.xticks(tick_marks, classes, rotation=0)\n",
    "    plt.yticks(tick_marks, classes)\n",
    "\n",
    "    if normalize:\n",
    "        cm = cm.astype('float') / cm.sum(axis=1)[:, np.newaxis]\n",
    "        #print(\"Normalized confusion matrix\")\n",
    "    else:\n",
    "        1#print('Confusion matrix, without normalization')\n",
    "\n",
    "    #print(cm)\n",
    "\n",
    "    thresh = cm.max() / 2.\n",
    "    for i, j in itertools.product(range(cm.shape[0]), range(cm.shape[1])):\n",
    "        plt.text(j, i, cm[i, j],\n",
    "                 horizontalalignment=\"center\",\n",
    "                 color=\"white\" if cm[i, j] > thresh else \"black\")\n",
    "\n",
    "    plt.tight_layout()\n",
    "    plt.ylabel('True label')\n",
    "    plt.xlabel('Predicted label')"
   ]
  },
  {
   "cell_type": "code",
   "execution_count": 36,
   "metadata": {
    "collapsed": false
   },
   "outputs": [
    {
     "name": "stdout",
     "output_type": "stream",
     "text": [
      "4947081\n",
      "170589\n",
      "Recall metric in the testing dataset:  0.984862498098\n",
      "Precision metric in the testting dataset: 0.990101806626\n",
      "f2 metric in the testting dataset: 1.01429556369\n"
     ]
    },
    {
     "data": {
      "image/png": "[encoded data removed]",
      "text/plain": [
       "<matplotlib.figure.Figure at 0x11b6f8910>"
      ]
     },
     "metadata": {},
     "output_type": "display_data"
    }
   ],
   "source": [
    "lr = LogisticRegression(C = best_c, penalty = 'l1')\n",
    "lr.fit(X_train,y_train)\n",
    "y_pred = lr.predict(X_test)\n",
    "\n",
    "print(X_test.size)\n",
    "print(y_test.size)\n",
    "# Compute confusion matrix\n",
    "cnf_matrix = confusion_matrix(y_test,y_pred)\n",
    "np.set_printoptions(precision=2)\n",
    "\n",
    "recall = cnf_matrix[1,1]/(cnf_matrix[1,0]+cnf_matrix[1,1])\n",
    "precision = cnf_matrix[1,1]/(cnf_matrix[0,1]+cnf_matrix[1,1])\n",
    "f2 = 0.2*(4/recall + 1/precision)\n",
    "print(\"Recall metric in the testing dataset: \", recall)\n",
    "print(\"Precision metric in the testting dataset:\", precision)\n",
    "print(\"f2 metric in the testting dataset:\", f2)\n",
    "\n",
    "# Plot non-normalized confusion matrix\n",
    "class_names = [0,1]\n",
    "plt.figure()\n",
    "plot_confusion_matrix(cnf_matrix\n",
    "                      , classes=class_names\n",
    "                      , title='Confusion matrix')\n",
    "plt.show()"
   ]
  },
  {
   "cell_type": "code",
   "execution_count": 31,
   "metadata": {
    "collapsed": false
   },
   "outputs": [
    {
     "name": "stdout",
     "output_type": "stream",
     "text": [
      "170589\n",
      "170589\n"
     ]
    }
   ],
   "source": [
    "print(X_test.shape[0])\n",
    "print(y_test.size)"
   ]
  },
  {
   "cell_type": "markdown",
   "metadata": {},
   "source": [
    "这个结果比之前的已经高了很多，不过我们更加关心的是，这个模型在原始数据上的结果是否也比之前的有所提升。"
   ]
  },
  {
   "cell_type": "code",
   "execution_count": 32,
   "metadata": {
    "collapsed": true
   },
   "outputs": [],
   "source": [
    "# original dataset\n",
    "X_original_train, X_original_test, y_original_train, y_original_test = train_test_split(X,y,test_size = 0.3, random_state = 0)"
   ]
  },
  {
   "cell_type": "code",
   "execution_count": 57,
   "metadata": {
    "collapsed": false
   },
   "outputs": [
    {
     "name": "stdout",
     "output_type": "stream",
     "text": [
      "              V1        V2        V3        V4        V5        V6        V7  \\\n",
      "183484 -0.323334  1.057455 -0.048341 -0.607204  1.259821 -0.091761  1.159101   \n",
      "255448 -0.349718  0.932619  0.142992 -0.657071  1.169784 -0.733369  1.009985   \n",
      "244749 -1.614711 -2.406570  0.326194  0.665520  2.369268 -1.775367 -1.139049   \n",
      "63919  -2.477184  0.860613  1.441850  1.051019 -1.856621  2.078384  0.510828   \n",
      "11475   1.338831 -0.547264  0.737389 -0.212383 -1.110039 -0.525744 -0.801403   \n",
      "134016  0.039885  2.170693 -2.012595  1.653119  0.615994 -1.770922  0.704471   \n",
      "204962 -0.415555  1.625917  1.622797  4.506173 -0.374560  0.901055 -0.405768   \n",
      "60121   1.449410 -0.468795  0.341725 -0.791574 -0.893115 -0.749088 -0.592331   \n",
      "167362  1.971810 -1.200239 -2.830201 -1.670140  1.732721  3.287608 -1.111164   \n",
      "112790 -1.367879 -0.238217  1.871754  3.050801 -1.438600  2.489319  1.154520   \n",
      "202391  0.818750 -3.726599 -3.618824 -1.144657 -0.852683 -0.697506  0.883226   \n",
      "209695 -0.820062  1.547537 -1.411930 -0.633419  1.027610 -0.355526  0.775911   \n",
      "68361  -3.673438 -1.110400  1.558656  0.790967 -0.098707 -0.130788 -0.702115   \n",
      "224208 -1.238586 -0.501386  0.477621 -1.447338 -1.689638  0.166516 -0.919158   \n",
      "32583  -1.362835  0.621499  2.057524 -0.979260 -0.585919 -0.068871 -0.356262   \n",
      "134258  1.134813  0.166941  0.413924  1.155299 -0.436463 -0.876586  0.168937   \n",
      "187243  2.227762 -1.577178 -0.750991 -1.431623 -1.637938 -0.879628 -1.244816   \n",
      "145419  0.268523  0.697748 -0.441573 -1.323281  1.302939  0.257085  0.535360   \n",
      "245566  2.027335  0.198810 -1.482411  0.525164  0.249135 -1.072200  0.223111   \n",
      "11553   1.439786 -0.548370  0.412146 -0.352566 -0.928711 -0.532930 -0.766926   \n",
      "220848 -2.997483  0.267970 -1.947710 -2.276404  0.922622 -1.105475  0.165188   \n",
      "239278  1.417911 -1.606444 -2.737594 -1.759743  0.753340  0.755211  0.401695   \n",
      "21330  -0.012840 -2.667627 -0.596572 -1.276791 -1.165943  0.147959  0.336710   \n",
      "18027  -2.696502 -0.040324  0.825282 -2.546866 -0.381831  0.175854 -0.328711   \n",
      "197746 -3.466161  3.778465 -2.979130 -0.549434 -1.551759 -1.598522 -1.118302   \n",
      "272672 -7.671677 -3.437938 -4.491244  1.553911 -3.340424  0.819021 -0.449668   \n",
      "141351 -1.922052 -0.594366 -0.286647  0.543345  3.897943  2.858320 -0.985344   \n",
      "264200  2.083906 -1.218746 -0.931506 -1.092808 -0.671961  0.181718 -1.047476   \n",
      "127575  1.259828 -1.203596  0.484158 -2.485314 -1.786057 -1.136630 -0.773229   \n",
      "110998 -1.498359  1.387926 -1.191613 -1.106735  1.397333  4.858463 -0.877685   \n",
      "...          ...       ...       ...       ...       ...       ...       ...   \n",
      "276568  2.117582  0.347923 -2.353891  0.775983  1.428246 -0.160250  0.676584   \n",
      "231529  2.110668  0.621545 -3.441442  0.456231  1.594627 -0.972290  0.698064   \n",
      "89308   1.207446  0.238617  0.167728  0.512458 -0.175512 -0.554351 -0.010362   \n",
      "267373 -0.255750  0.430890  1.194944  0.114987  0.465831  0.195350  0.440272   \n",
      "34413  -1.629788 -6.446942 -0.591726  0.279617 -3.739444  0.274084  0.534492   \n",
      "247649  2.069065 -0.162730 -1.485117  0.057588  0.436617 -0.213811  0.052272   \n",
      "97729  -2.147346  0.630897  0.585435  1.271191 -0.459208  1.028343 -0.804249   \n",
      "53374   1.016535 -0.161798  0.566198  0.314158  0.152373  1.474131 -0.623743   \n",
      "46145   0.524819  1.672484 -3.758441  0.542781  3.166982  2.336754  0.018342   \n",
      "263180  2.253791 -1.106897 -0.901630 -1.336090 -1.473569 -1.877311 -0.613356   \n",
      "18162   1.176164 -0.312440 -0.167683  0.108591  1.409509  3.979894 -1.283451   \n",
      "24989  -0.434456  0.943131  1.277717 -0.027222  0.006581 -0.677116  0.579261   \n",
      "264151  2.114057 -1.092380 -0.099008 -0.973871 -1.274291 -0.047414 -1.322629   \n",
      "109457 -0.299688  0.019015  3.147595  0.159712 -1.242086  0.155009 -0.159326   \n",
      "7130    0.959302  0.253155  1.660543  2.693979 -0.747153  0.201130 -0.591305   \n",
      "217940 -0.560687  0.760690  0.063953 -0.604416  0.600315 -1.169930  0.934290   \n",
      "185464 -0.235492  0.538889  1.834224 -0.272606  0.000534 -0.673564  0.598766   \n",
      "35703   1.044418 -0.369843  1.069787  1.615696 -0.830453  0.622648 -0.623163   \n",
      "115340 -0.356614  0.727680  1.783691  2.831941 -0.319913  0.309416  0.438494   \n",
      "122340 -0.798047  0.849627  2.489772  3.039006  0.272179  0.189498  0.640654   \n",
      "184209  1.839353 -0.187221 -0.750072  1.152329 -0.005510 -0.005210 -0.150361   \n",
      "222795  2.270115 -0.456295 -2.225395 -0.875955  0.213540 -0.920808 -0.171457   \n",
      "124164 -1.532379  0.138283  1.889779 -0.487848  1.072839 -0.613412  0.702325   \n",
      "80329   1.237740  0.323771  0.197668  0.496328 -0.119755 -0.551719  0.001595   \n",
      "195998 -0.530446  0.436207 -0.459067 -0.267431  1.491243 -1.148795  0.532370   \n",
      "208059 -0.429070  0.712074  0.675855 -0.403577  0.668849 -0.413713  0.665961   \n",
      "260930 -4.673996 -3.716208 -1.486611  0.829036  0.902701 -0.501887  2.994824   \n",
      "75125  -1.215390  1.379556  0.438732  1.394346 -0.377212  0.843496 -0.975098   \n",
      "37292  -0.632439  1.212284  1.388188  0.151509 -0.342824 -1.337771  0.648076   \n",
      "240913 -0.252855  1.854028  0.149808  4.220783  0.971928  1.143980  0.301781   \n",
      "\n",
      "              V8        V9       V10     ...           V20       V21  \\\n",
      "183484 -0.124335 -0.174640 -1.644401     ...      0.186409 -0.207098   \n",
      "255448 -0.071069 -0.302083 -1.192404     ...     -0.096502 -0.271537   \n",
      "244749  0.329904  0.903813 -0.219013     ...      0.419835  0.701399   \n",
      "63919  -0.243399 -0.260691  0.133040     ...     -0.987790  0.810408   \n",
      "11475  -0.063672  0.997276  0.113386     ...     -0.126871 -0.139436   \n",
      "134016  0.057144 -0.013400 -0.626777     ...      0.259924 -0.154384   \n",
      "204962  0.713219 -1.475385  1.357174     ...      0.169471  0.324710   \n",
      "60121  -0.134093 -0.670525  0.625412     ...      0.051610 -0.137542   \n",
      "167362  0.818960 -0.336061  0.226586     ...      0.276177  0.157371   \n",
      "112790  0.337130 -1.042234  0.456778     ...      0.154885  0.307356   \n",
      "202391 -0.577607 -2.162827  1.588374     ...      1.117748  0.611073   \n",
      "209695 -0.015947  0.177326  0.108449     ...      0.109514  0.272822   \n",
      "68361   0.857681  0.273713 -0.881803     ...     -0.555017  0.102746   \n",
      "224208  1.031024 -0.198515 -0.629837     ...     -0.186069  0.073933   \n",
      "32583   0.753214 -0.093382 -0.893639     ...      0.099418  0.169975   \n",
      "134258 -0.194150  0.064945 -0.023692     ...     -0.042706 -0.024440   \n",
      "187243 -0.139066 -0.858763  1.586684     ...     -0.490780 -0.158829   \n",
      "145419 -0.902966 -0.313034 -0.674493     ...     -0.254322  0.971180   \n",
      "245566 -0.276222  0.370740 -0.405087     ...     -0.138217 -0.317715   \n",
      "11553  -0.127925  1.114918  0.169847     ...     -0.092675 -0.225647   \n",
      "220848  0.725798 -2.593421 -0.283447     ...     -0.412631  0.621948   \n",
      "239278  0.095487  1.212939 -0.917886     ...      0.372929  0.364116   \n",
      "21330  -0.111695  1.280945 -1.251592     ...      1.440506  0.403786   \n",
      "18027   0.568492  1.518414 -0.751600     ...     -0.519317  0.029399   \n",
      "197746  2.315398  0.169704  0.501723     ...      0.280753  0.435444   \n",
      "272672  1.682519 -0.846375  0.408925     ...     -2.971857 -1.011851   \n",
      "141351  0.939432  0.070398  0.676578     ...     -0.044948 -0.284932   \n",
      "264200  0.065513 -0.060069  0.878693     ...      0.117647  0.341679   \n",
      "127575 -0.081767  1.246651 -0.832013     ...     -0.538824 -0.280621   \n",
      "110998 -4.353466 -1.383392  1.243933     ...     -1.526849  4.103341   \n",
      "...          ...       ...       ...     ...           ...       ...   \n",
      "276568 -0.259292 -0.434236  0.524871     ...     -0.184910  0.103705   \n",
      "231529 -0.289581 -0.166428 -0.871130     ...     -0.106168 -0.061554   \n",
      "89308  -0.033255 -0.190023 -0.117284     ...     -0.034697 -0.249865   \n",
      "267373  0.306585  0.360934 -0.723751     ...     -0.299294 -0.460066   \n",
      "34413  -0.334545 -0.991046  0.469633     ...      2.842925  0.597643   \n",
      "247649 -0.095990  0.355367  0.232879     ...     -0.173950 -0.295369   \n",
      "97729  -2.013370 -1.214877 -0.653617     ...      0.744692 -1.194685   \n",
      "53374   0.646883  0.056799 -0.067367     ...     -0.269387  0.056483   \n",
      "46145   1.146617 -0.641134 -1.351803     ...      0.108189 -0.158910   \n",
      "263180 -0.569278 -1.802404  1.652974     ...     -0.381684  0.147768   \n",
      "18162   1.090281  0.499149  0.044759     ...      0.061485  0.211309   \n",
      "24989   0.118940 -0.533382 -0.328463     ...      0.114347 -0.209928   \n",
      "264151  0.044894  0.237211  0.664069     ...     -0.458296 -0.368157   \n",
      "109457  0.028022  1.262847 -0.839638     ...      0.122561 -0.039252   \n",
      "7130    0.105874  0.674638  0.386799     ...      0.006556  0.062928   \n",
      "217940 -0.234177  0.249003  0.029706     ...     -0.050778 -0.333711   \n",
      "185464 -0.300188  0.258944 -0.593433     ...      0.082316  0.311095   \n",
      "35703   0.387996  1.231297 -0.175228     ...     -0.185770 -0.411650   \n",
      "115340  0.216666 -1.421623  0.853767     ...      0.291785  0.043901   \n",
      "122340 -0.210281 -1.092351  0.723516     ...      0.308957 -0.239739   \n",
      "184209  0.123463  0.423000  0.329487     ...     -0.186375 -0.371121   \n",
      "222795 -0.327249 -0.427071  0.290384     ...      0.002111 -0.104452   \n",
      "124164 -0.463085 -0.111716  0.362463     ...     -0.316527 -0.198330   \n",
      "80329  -0.056893 -0.261470 -0.124124     ...     -0.035995 -0.253476   \n",
      "195998  0.026314 -0.151928 -0.646044     ...      0.175338  0.353564   \n",
      "208059  0.099935 -0.379066 -1.117560     ...      0.016809 -0.102000   \n",
      "260930 -1.188013  0.864683 -0.798728     ...     -2.927002 -1.387099   \n",
      "75125  -1.969737 -0.917814 -0.602581     ...      0.659545 -1.230618   \n",
      "37292  -0.046668 -0.103480 -0.177378     ...      0.170883 -0.268740   \n",
      "240913  0.497178 -2.176065  1.453746     ...      0.305682  0.381329   \n",
      "\n",
      "             V22       V23       V24       V25       V26       V27       V28  \\\n",
      "183484 -0.433890 -0.261613 -0.046651  0.211512  0.008297  0.108494  0.161139   \n",
      "255448 -0.833209 -0.030360  0.490035 -0.404816  0.134350  0.076830  0.175562   \n",
      "244749  1.134489  0.965054  0.640981 -1.801998 -1.041114  0.286285  0.437322   \n",
      "63919   0.692245  0.150121 -0.260777  0.005183 -0.177847 -0.510060 -0.660533   \n",
      "11475  -0.074719  0.067055  0.333122  0.379087 -0.268706 -0.002769  0.003272   \n",
      "134016  0.009633  0.218813  0.248031 -0.507112 -0.420895  0.195478 -0.148335   \n",
      "204962  1.126090 -0.110493 -0.068424 -0.658170  0.512898  0.377955  0.204762   \n",
      "60121  -0.531360  0.076941 -0.179287  0.287474 -0.446508  0.006978  0.015877   \n",
      "167362  0.191050  0.114907  0.622991 -0.123644 -0.192286  0.006081 -0.015564   \n",
      "112790  1.050306  0.238809 -0.240770 -0.467593  0.350808  0.258001  0.083143   \n",
      "202391  0.298380 -0.869201  0.399806  0.328606  0.190530 -0.245802  0.043328   \n",
      "209695  0.980296 -0.324682 -1.209714 -0.202430 -0.162652 -0.358967  0.007678   \n",
      "68361   0.120455 -1.148597  0.171895 -0.055066 -0.552403 -0.396731 -0.732045   \n",
      "224208 -0.163554  0.064954  0.707709 -0.129127 -0.401873 -0.281293 -0.262815   \n",
      "32583   0.430800 -0.315713  0.101128  0.324838  1.054123  0.099389  0.011287   \n",
      "134258 -0.163604 -0.062719  0.379203  0.519950 -0.444083  0.012123  0.034307   \n",
      "187243 -0.051026  0.247911 -0.144656 -0.320799 -0.168120  0.009246 -0.046376   \n",
      "145419  0.352719 -0.557654 -0.293069  1.495941 -0.096892  0.125483  0.199901   \n",
      "245566 -0.781708  0.400706  1.008350 -0.322107  0.143230 -0.055458 -0.024322   \n",
      "11553  -0.372047 -0.059869 -0.192152  0.549160 -0.245988 -0.022811 -0.002495   \n",
      "220848  1.096073 -1.474644  0.273549  1.597897  0.256576 -0.826006 -0.482416   \n",
      "239278  0.582882 -0.243431 -0.881257  0.054767 -0.061823 -0.059645 -0.035298   \n",
      "21330  -0.314207 -0.783849 -0.871699  0.212953 -0.107807 -0.101003  0.126235   \n",
      "18027   0.153660  0.134932 -1.050503  0.410293 -0.054857 -1.013146  0.779141   \n",
      "197746  1.219588  0.278102  0.016344 -0.270240 -0.173824  0.498926  0.371834   \n",
      "272672 -1.964198 -2.141471  0.412718 -1.217995 -1.260890 -0.550599 -1.919229   \n",
      "141351 -0.250186 -0.543603  1.073278  0.133728 -0.225228  0.623107  0.304927   \n",
      "264200  0.933657 -0.052105 -1.116117 -0.069052 -0.040444 -0.001479 -0.060209   \n",
      "127575 -0.136628  0.024666  0.580729  0.432923 -0.737627  0.112965  0.036775   \n",
      "110998 -2.158858 -0.363705  0.944594 -0.315771 -0.351834  0.496489 -0.095521   \n",
      "...          ...       ...       ...       ...       ...       ...       ...   \n",
      "276568  0.380105 -0.120167 -0.284919  0.618597 -0.475856 -0.037987 -0.076373   \n",
      "231529 -0.011568 -0.130735 -0.083278  0.449748  0.701017 -0.087355 -0.029753   \n",
      "89308  -0.795658  0.063512 -0.044613  0.221368  0.096391 -0.030896  0.019679   \n",
      "267373 -1.252567  0.062435 -0.514767 -0.059042 -1.185445  0.010284 -0.046592   \n",
      "34413  -1.295425 -1.308443  0.439826 -0.337614 -0.410262 -0.226396  0.306201   \n",
      "247649 -0.759114  0.201465 -1.097176 -0.210145  0.246733 -0.074315 -0.079932   \n",
      "97729   0.626263 -0.024487 -0.277983 -0.398884 -0.363567  0.521735 -0.126590   \n",
      "53374   0.258429  0.189788 -1.026704 -0.107635  0.344918  0.043550 -0.006072   \n",
      "46145  -0.486692  0.103758  0.654672 -0.278011 -0.383406  0.133807 -0.053975   \n",
      "263180  0.943006  0.157336  0.977895  0.005311  0.008323 -0.007160 -0.047677   \n",
      "18162   0.476371 -0.121197  1.013282  0.516915 -0.225606  0.074373  0.040517   \n",
      "24989  -0.647528  0.024071  0.253725 -0.210461  0.056858  0.230003  0.088141   \n",
      "264151 -0.437715  0.461581  0.713725 -0.804715  1.051230 -0.031950 -0.034489   \n",
      "109457  0.549722 -0.117822  1.072832 -0.217893  1.023402 -0.129043 -0.190887   \n",
      "7130    0.255610 -0.012071  0.491536  0.147685 -0.076362 -0.003814  0.037750   \n",
      "217940 -0.582710  0.330152 -0.122033 -0.356184  0.155001  0.292555  0.107083   \n",
      "185464  1.220438 -0.191174  0.451487 -0.432324 -0.268372  0.045918 -0.034010   \n",
      "35703  -0.915848 -0.007928 -0.032452  0.453668 -0.534595  0.055543  0.020767   \n",
      "115340 -0.185150  0.401272  0.257115 -1.057588 -0.156198  0.164189  0.199665   \n",
      "122340 -0.454993 -0.125783  0.406792  0.088293  0.061119 -0.216769 -0.063491   \n",
      "184209 -1.204843  0.482051  0.574620 -0.494945 -1.224085  0.013042 -0.026064   \n",
      "222795 -0.248849  0.050048 -1.163454  0.105479 -0.209988 -0.025157 -0.047224   \n",
      "124164 -0.236536 -0.050679  0.225782 -0.489920 -0.175929 -0.793374 -0.113393   \n",
      "80329  -0.746911  0.072255 -0.026678  0.242686  0.096108 -0.024774  0.018035   \n",
      "195998  1.011676 -0.162747 -0.566661 -0.418433 -0.129754  0.445399  0.303585   \n",
      "208059 -0.391487 -0.332563 -0.512572  0.746656  0.368231 -0.150931 -0.111220   \n",
      "260930  0.414913  3.103269  0.642007  0.464011  0.027749  0.973848 -1.566714   \n",
      "75125   0.716991  0.107986  0.042642 -0.046630 -0.251591  0.234356 -0.035339   \n",
      "37292  -0.687707  0.082524  0.838322 -0.207461  0.046706  0.345269  0.168419   \n",
      "240913  1.283597 -0.242327  0.100820 -0.339168  0.627014  0.360196  0.206837   \n",
      "\n",
      "        normAmount  \n",
      "183484   -0.193306  \n",
      "255448   -0.345313  \n",
      "244749    0.030587  \n",
      "63919     0.878181  \n",
      "11475    -0.333239  \n",
      "134016   -0.347192  \n",
      "204962   -0.341715  \n",
      "60121    -0.328521  \n",
      "167362    0.089958  \n",
      "112790    1.507160  \n",
      "202391    2.969180  \n",
      "209695   -0.273268  \n",
      "68361    -0.154604  \n",
      "224208    0.192829  \n",
      "32583    -0.293258  \n",
      "134258   -0.133375  \n",
      "187243   -0.185310  \n",
      "145419   -0.344074  \n",
      "245566   -0.338876  \n",
      "11553    -0.333239  \n",
      "220848   -0.320245  \n",
      "239278    0.946109  \n",
      "21330     2.461903  \n",
      "18027    -0.249679  \n",
      "197746   -0.349671  \n",
      "272672    0.722256  \n",
      "141351   -0.262673  \n",
      "264200   -0.089356  \n",
      "127575   -0.173395  \n",
      "110998    0.613948  \n",
      "...            ...  \n",
      "276568   -0.349231  \n",
      "231529   -0.350191  \n",
      "89308    -0.285302  \n",
      "267373   -0.309290  \n",
      "34413     6.065338  \n",
      "247649   -0.317367  \n",
      "97729     0.446388  \n",
      "53374    -0.341275  \n",
      "46145    -0.342475  \n",
      "263180   -0.253277  \n",
      "18162    -0.241403  \n",
      "24989    -0.281304  \n",
      "264151   -0.300775  \n",
      "109457   -0.251518  \n",
      "7130     -0.076842  \n",
      "217940   -0.348072  \n",
      "185464   -0.307651  \n",
      "35703    -0.190587  \n",
      "115340    0.063731  \n",
      "122340   -0.155564  \n",
      "184209   -0.137213  \n",
      "222795   -0.293258  \n",
      "124164   -0.348072  \n",
      "80329    -0.348072  \n",
      "195998   -0.309131  \n",
      "208059   -0.233487  \n",
      "260930    1.777950  \n",
      "75125    -0.125338  \n",
      "37292    -0.324643  \n",
      "240913   -0.310890  \n",
      "\n",
      "[85443 rows x 29 columns]\n"
     ]
    }
   ],
   "source": [
    "print(X_original_test)"
   ]
  },
  {
   "cell_type": "code",
   "execution_count": 127,
   "metadata": {
    "collapsed": false
   },
   "outputs": [
    {
     "name": "stdout",
     "output_type": "stream",
     "text": [
      "Recall metric in the testing dataset:  0.863945578231\n",
      "Precision metric in the testting dataset: 0.133263378804\n",
      "f2 metric in the testting dataset: 2.42677165354\n"
     ]
    },
    {
     "data": {
      "image/png": "[encoded data removed]",
      "text/plain": [
       "<matplotlib.figure.Figure at 0x11b77a0d0>"
      ]
     },
     "metadata": {},
     "output_type": "display_data"
    }
   ],
   "source": [
    "# Use this C_parameter to build the final model with the whole training dataset and predict the classes in the test\n",
    "# dataset\n",
    "lr = LogisticRegression(C = best_c, penalty = 'l1')\n",
    "lr.fit(X_train,y_train)\n",
    "y_original_pred = lr.predict(X_original_test.values)\n",
    "\n",
    "# Compute confusion matrix\n",
    "cnf_matrix = confusion_matrix(y_original_test,y_original_pred)\n",
    "np.set_printoptions(precision=2)\n",
    "\n",
    "recall = cnf_matrix[1,1]/(cnf_matrix[1,0]+cnf_matrix[1,1])\n",
    "precision = cnf_matrix[1,1]/(cnf_matrix[0,1]+cnf_matrix[1,1])\n",
    "f2 = 0.2*(4/recall + 1/precision)\n",
    "print(\"Recall metric in the testing dataset: \", recall)\n",
    "print(\"Precision metric in the testting dataset:\", precision)\n",
    "print(\"f2 metric in the testting dataset:\", f2)\n",
    "# Plot non-normalized confusion matrix\n",
    "class_names = [0,1]\n",
    "plt.figure()\n",
    "plot_confusion_matrix(cnf_matrix\n",
    "                      , classes=class_names\n",
    "                      , title='original Confusion matrix')\n",
    "plt.show()"
   ]
  },
  {
   "cell_type": "markdown",
   "metadata": {
    "collapsed": true
   },
   "source": [
    "使用border line1产生欺诈数据"
   ]
  },
  {
   "cell_type": "code",
   "execution_count": 17,
   "metadata": {
    "collapsed": true
   },
   "outputs": [],
   "source": [
    "method = SMOTE(kind=\"borderline1\")\n",
    "X_border, y_border = method.fit_sample(X,y[\"Class\"])"
   ]
  },
  {
   "cell_type": "code",
   "execution_count": 18,
   "metadata": {
    "collapsed": true
   },
   "outputs": [],
   "source": [
    "X_border_train, X_border_test, y_border_train, y_border_test = train_test_split(X_border,y_border,test_size = 0.3, random_state = 0)"
   ]
  },
  {
   "cell_type": "code",
   "execution_count": 19,
   "metadata": {
    "collapsed": false
   },
   "outputs": [
    {
     "name": "stdout",
     "output_type": "stream",
     "text": [
      "Number transactions border train dataset:  398041\n",
      "Number transactions border test dataset:  170589\n",
      "Total number of transactions:  568630\n"
     ]
    }
   ],
   "source": [
    "print(\"Number transactions border train dataset: \", X_train.shape[0])\n",
    "print(\"Number transactions border test dataset: \", X_test.shape[0])\n",
    "print(\"Total number of transactions: \", X_train.shape[0]+ X_test.shape[0])"
   ]
  },
  {
   "cell_type": "code",
   "execution_count": 34,
   "metadata": {
    "collapsed": false
   },
   "outputs": [
    {
     "name": "stdout",
     "output_type": "stream",
     "text": [
      "-------------------------------------------\n",
      "C parameter:  0.01\n",
      "-------------------------------------------\n",
      "\n",
      "Iteration  1 : recall score =  0.981987655876\n",
      "Iteration  1 : precision score =  0.987385379199\n",
      "Iteration  2 : recall score =  0.984097381486\n",
      "Iteration  2 : precision score =  0.98803167936\n",
      "Iteration  3 : recall score =  0.982289816645\n",
      "Iteration  3 : precision score =  0.98695586609\n",
      "Iteration  4 : recall score =  0.982484837809\n",
      "Iteration  4 : precision score =  0.987529721253\n",
      "Iteration  5 : recall score =  0.982667671439\n",
      "Iteration  5 : precision score =  0.987579521357\n",
      "\n",
      "macro F2  1.01661149055\n",
      "\n",
      "-------------------------------------------\n",
      "C parameter:  0.1\n",
      "-------------------------------------------\n",
      "\n",
      "Iteration  1 : recall score =  0.983423604988\n",
      "Iteration  1 : precision score =  0.988503709706\n",
      "Iteration  2 : recall score =  0.985382696136\n",
      "Iteration  2 : precision score =  0.989347165992\n",
      "Iteration  3 : recall score =  0.983790679641\n",
      "Iteration  3 : precision score =  0.988066525977\n",
      "Iteration  4 : recall score =  0.983818607343\n",
      "Iteration  4 : precision score =  0.988520279154\n",
      "Iteration  5 : recall score =  0.984250188395\n",
      "Iteration  5 : precision score =  0.988521116101\n",
      "\n",
      "macro F2  1.01520610645\n",
      "\n",
      "-------------------------------------------\n",
      "C parameter:  1\n",
      "-------------------------------------------\n",
      "\n",
      "Iteration  1 : recall score =  0.983700717975\n",
      "Iteration  1 : precision score =  0.988657079198\n",
      "Iteration  2 : recall score =  0.985634718617\n",
      "Iteration  2 : precision score =  0.989424950034\n",
      "Iteration  3 : recall score =  0.983915751557\n",
      "Iteration  3 : precision score =  0.988192141493\n",
      "Iteration  4 : recall score =  0.984019931047\n",
      "Iteration  4 : precision score =  0.988722564984\n",
      "Iteration  5 : recall score =  0.984400904295\n",
      "Iteration  5 : precision score =  0.988622603431\n",
      "\n",
      "macro F2  1.01501287619\n",
      "\n",
      "-------------------------------------------\n",
      "C parameter:  10\n",
      "-------------------------------------------\n",
      "\n",
      "Iteration  1 : recall score =  0.983650333795\n",
      "Iteration  1 : precision score =  0.9886815385\n",
      "Iteration  2 : recall score =  0.985609516369\n",
      "Iteration  2 : precision score =  0.989399650872\n",
      "Iteration  3 : recall score =  0.983915751557\n",
      "Iteration  3 : precision score =  0.988241796895\n",
      "Iteration  4 : recall score =  0.984019931047\n",
      "Iteration  4 : precision score =  0.988697565046\n",
      "Iteration  5 : recall score =  0.984375784979\n",
      "Iteration  5 : precision score =  0.98869714401\n",
      "\n",
      "macro F2  1.01502548198\n",
      "\n",
      "-------------------------------------------\n",
      "C parameter:  100\n",
      "-------------------------------------------\n",
      "\n",
      "Iteration  1 : recall score =  0.983675525885\n",
      "Iteration  1 : precision score =  0.988656791999\n",
      "Iteration  2 : recall score =  0.985659920865\n",
      "Iteration  2 : precision score =  0.989375158108\n",
      "Iteration  3 : recall score =  0.98409085224\n",
      "Iteration  3 : precision score =  0.988343172968\n",
      "Iteration  4 : recall score =  0.984120592898\n",
      "Iteration  4 : precision score =  0.988673711888\n",
      "Iteration  5 : recall score =  0.984400904295\n",
      "Iteration  5 : precision score =  0.988672485998\n",
      "\n",
      "macro F2  1.01496316672\n",
      "\n",
      "*********************************************************************************\n",
      "Best model to choose from cross validation is with C parameter =  0.01\n",
      "*********************************************************************************\n"
     ]
    }
   ],
   "source": [
    "best_c_border = printing_Kfold_scores(X_border_train,y_border_train)"
   ]
  },
  {
   "cell_type": "code",
   "execution_count": 38,
   "metadata": {
    "collapsed": false
   },
   "outputs": [
    {
     "name": "stdout",
     "output_type": "stream",
     "text": [
      "4947081\n",
      "170589\n",
      "Recall metric in the testing dataset:  0.983925916387\n",
      "Precision metric in the testting dataset: 0.98754465125\n",
      "f2 metric in the testting dataset: 1.01559183285\n"
     ]
    },
    {
     "data": {
      "image/png": "[encoded data removed]",
      "text/plain": [
       "<matplotlib.figure.Figure at 0x11d35b650>"
      ]
     },
     "metadata": {},
     "output_type": "display_data"
    }
   ],
   "source": [
    "lr = LogisticRegression(C = best_c, penalty = 'l1')\n",
    "lr.fit(X_border_train,y_border_train)\n",
    "y_border_pred = lr.predict(X_border_test)\n",
    "\n",
    "print(X_border_test.size)\n",
    "print(y_border_test.size)\n",
    "# Compute confusion matrix\n",
    "cnf_matrix = confusion_matrix(y_border_test,y_border_pred)\n",
    "np.set_printoptions(precision=2)\n",
    "\n",
    "recall = cnf_matrix[1,1]/(cnf_matrix[1,0]+cnf_matrix[1,1])\n",
    "precision = cnf_matrix[1,1]/(cnf_matrix[0,1]+cnf_matrix[1,1])\n",
    "f2 = 0.2*(4/recall + 1/precision)\n",
    "print(\"Recall metric in the testing dataset: \", recall)\n",
    "print(\"Precision metric in the testting dataset:\", precision)\n",
    "print(\"f2 metric in the testting dataset:\", f2)\n",
    "\n",
    "# Plot non-normalized confusion matrix\n",
    "class_names = [0,1]\n",
    "plt.figure()\n",
    "plot_confusion_matrix(cnf_matrix\n",
    "                      , classes=class_names\n",
    "                      , title='Confusion matrix')\n",
    "plt.show()"
   ]
  },
  {
   "cell_type": "markdown",
   "metadata": {},
   "source": [
    "使用原始数据"
   ]
  },
  {
   "cell_type": "code",
   "execution_count": 128,
   "metadata": {
    "collapsed": false
   },
   "outputs": [
    {
     "name": "stdout",
     "output_type": "stream",
     "text": [
      "Recall metric in the testing dataset:  0.877551020408\n",
      "Precision metric in the testting dataset: 0.114463176575\n",
      "f2 metric in the testting dataset: 2.65891472868\n"
     ]
    },
    {
     "data": {
      "image/png": "[encoded data removed]",
      "text/plain": [
       "<matplotlib.figure.Figure at 0x11e4a5510>"
      ]
     },
     "metadata": {},
     "output_type": "display_data"
    }
   ],
   "source": [
    "lr = LogisticRegression(C = best_c, penalty = 'l1')\n",
    "lr.fit(X_border_train,y_border_train)\n",
    "y_original_border_pred = lr.predict(X_original_test.values)\n",
    "\n",
    "# Compute confusion matrix\n",
    "cnf_matrix = confusion_matrix(y_original_test,y_original_border_pred)\n",
    "np.set_printoptions(precision=2)\n",
    "\n",
    "recall = cnf_matrix[1,1]/(cnf_matrix[1,0]+cnf_matrix[1,1])\n",
    "precision = cnf_matrix[1,1]/(cnf_matrix[0,1]+cnf_matrix[1,1])\n",
    "f2 = 0.2*(4/recall + 1/precision)\n",
    "print(\"Recall metric in the testing dataset: \", recall)\n",
    "print(\"Precision metric in the testting dataset:\", precision)\n",
    "print(\"f2 metric in the testting dataset:\", f2)\n",
    "# Plot non-normalized confusion matrix\n",
    "class_names = [0,1]\n",
    "plt.figure()\n",
    "plot_confusion_matrix(cnf_matrix\n",
    "                      , classes=class_names\n",
    "                      , title='borderline original Confusion matrix')\n",
    "plt.show()"
   ]
  },
  {
   "cell_type": "code",
   "execution_count": 66,
   "metadata": {
    "collapsed": false
   },
   "outputs": [
    {
     "name": "stdout",
     "output_type": "stream",
     "text": [
      "[0 0 0 ..., 0 0 0]\n",
      "[0 0 0 ..., 0 0 0]\n",
      "[0 0 0 ..., 0 0 0]\n"
     ]
    }
   ],
   "source": [
    "print(y_original_border_pred)\n",
    "print(y_original_pred)\n",
    "y_original_tmp = y_original_test.iloc[:,0].values[:]\n",
    "print(y_original_tmp)"
   ]
  },
  {
   "cell_type": "code",
   "execution_count": 136,
   "metadata": {
    "collapsed": false,
    "scrolled": true
   },
   "outputs": [
    {
     "name": "stdout",
     "output_type": "stream",
     "text": [
      "[[0 0 0 ..., 0 0 0]\n",
      " [0 0 0 ..., 0 0 0]\n",
      " [0 0 0 ..., 0 0 0]]\n"
     ]
    }
   ],
   "source": [
    "total_tmp = np.array([y_original_border_pred,y_original_pred,y_original_tmp])\n",
    "print(total_tmp)"
   ]
  },
  {
   "cell_type": "code",
   "execution_count": 137,
   "metadata": {
    "collapsed": false
   },
   "outputs": [
    {
     "name": "stdout",
     "output_type": "stream",
     "text": [
      "0.988073920625\n",
      "3.51111267161e-05\n",
      "0.00202474164063\n",
      "0.00986622660721\n",
      "1.00801092349\n"
     ]
    }
   ],
   "source": [
    "e00 = np.where((total_tmp[0] == total_tmp[2]) & (total_tmp[1] == total_tmp[2]))[0].size / y_original_tmp.size\n",
    "e10 = np.where((total_tmp[0] == total_tmp[2]) & (total_tmp[1] != total_tmp[2]))[0].size / y_original_tmp.size\n",
    "e01 = np.where((total_tmp[0] != total_tmp[2]) & (total_tmp[1] == total_tmp[2]))[0].size / y_original_tmp.size\n",
    "e11 = np.where((total_tmp[0] != total_tmp[2]) & (total_tmp[1] != total_tmp[2]))[0].size / y_original_tmp.size\n",
    "print(e00)\n",
    "print(e10)\n",
    "print(e01)\n",
    "print(e11)\n",
    "t = np.square(np.abs(e01-e10)-1) / (e00+e10)\n",
    "print(t)"
   ]
  },
  {
   "cell_type": "code",
   "execution_count": 116,
   "metadata": {
    "collapsed": false
   },
   "outputs": [
    {
     "name": "stdout",
     "output_type": "stream",
     "text": [
      "0.0118909682478\n"
     ]
    }
   ],
   "source": [
    "e_border = np.where((total_tmp[0] != total_tmp[2]))[0].size / y_original_tmp.size\n",
    "print(e_border)"
   ]
  },
  {
   "cell_type": "code",
   "execution_count": 117,
   "metadata": {
    "collapsed": false
   },
   "outputs": [
    {
     "name": "stdout",
     "output_type": "stream",
     "text": [
      "0.0118909682478\n"
     ]
    }
   ],
   "source": [
    "e_svm = np.where((total_tmp[1] != total_tmp[2]))[0].size / y_original_tmp.size\n",
    "print(e_border)"
   ]
  },
  {
   "cell_type": "markdown",
   "metadata": {},
   "source": [
    "下采样"
   ]
  },
  {
   "cell_type": "code",
   "execution_count": 118,
   "metadata": {
    "collapsed": false
   },
   "outputs": [
    {
     "name": "stdout",
     "output_type": "stream",
     "text": [
      "Percentage of normal transactions:  0.5\n",
      "Percentage of fraud transactions:  0.5\n",
      "Total number of transactions in resampled data:  984\n"
     ]
    }
   ],
   "source": [
    "# Number of data points in the minority class\n",
    "number_records_fraud = len(data[data.Class == 1])\n",
    "fraud_indices = np.array(data[data.Class == 1].index)\n",
    "\n",
    "# Picking the indices of the normal classes\n",
    "normal_indices = data[data.Class == 0].index\n",
    "\n",
    "# Out of the indices we picked, randomly select \"x\" number (number_records_fraud)\n",
    "random_normal_indices = np.random.choice(normal_indices, number_records_fraud, replace = False)\n",
    "random_normal_indices = np.array(random_normal_indices)\n",
    "\n",
    "# Appending the 2 indices\n",
    "under_sample_indices = np.concatenate([fraud_indices,random_normal_indices])\n",
    "\n",
    "# Under sample dataset\n",
    "under_sample_data = data.iloc[under_sample_indices,:]\n",
    "\n",
    "X_undersample = under_sample_data.ix[:, under_sample_data.columns != 'Class']\n",
    "y_undersample = under_sample_data.ix[:, under_sample_data.columns == 'Class']\n",
    "\n",
    "# Showing ratio\n",
    "print(\"Percentage of normal transactions: \", len(under_sample_data[under_sample_data.Class == 0])/len(under_sample_data))\n",
    "print(\"Percentage of fraud transactions: \", len(under_sample_data[under_sample_data.Class == 1])/len(under_sample_data))\n",
    "print(\"Total number of transactions in resampled data: \", len(under_sample_data))"
   ]
  },
  {
   "cell_type": "code",
   "execution_count": 123,
   "metadata": {
    "collapsed": false
   },
   "outputs": [
    {
     "name": "stdout",
     "output_type": "stream",
     "text": [
      "\n",
      "Number transactions train dataset:  688\n",
      "Number transactions test dataset:  296\n",
      "Total number of transactions:  984\n",
      "[[-1.86  3.44 -4.47 ...,  0.42  0.21 -0.35]\n",
      " [ 2.04  0.29 -1.57 ..., -0.01 -0.06 -0.35]\n",
      " [ 0.23  1.01 -2.27 ..., -0.18 -0.06 -0.18]\n",
      " ..., \n",
      " [-0.21 -0.28  0.82 ...,  0.04  0.23 -0.08]\n",
      " [-1.81 -0.63  2.68 ..., -0.88 -0.67  0.21]\n",
      " [-2.34  2.45 -1.76 ..., -0.54 -0.13 -0.35]]\n"
     ]
    }
   ],
   "source": [
    "X_train_undersample, X_test_undersample, y_train_undersample, y_test_undersample = train_test_split(X_undersample\n",
    "                                                                                                   ,y_undersample\n",
    "                                                                                                   ,test_size = 0.3\n",
    "                                                                                                   ,random_state = 0)\n",
    "print(\"\")\n",
    "print(\"Number transactions train dataset: \", len(X_train_undersample))\n",
    "print(\"Number transactions test dataset: \", len(X_test_undersample))\n",
    "print(\"Total number of transactions: \", len(X_train_undersample)+len(X_test_undersample))\n",
    "print(X_train_undersample.values)"
   ]
  },
  {
   "cell_type": "code",
   "execution_count": 124,
   "metadata": {
    "collapsed": false
   },
   "outputs": [
    {
     "name": "stdout",
     "output_type": "stream",
     "text": [
      "-------------------------------------------\n",
      "C parameter:  0.01\n",
      "-------------------------------------------\n",
      "\n",
      "Iteration  1 : recall score =  0.972602739726\n",
      "Iteration  1 : precision score =  0.78021978022\n",
      "Iteration  2 : recall score =  0.917808219178\n",
      "Iteration  2 : precision score =  0.712765957447\n",
      "Iteration  3 : recall score =  1.0\n",
      "Iteration  3 : precision score =  0.634408602151\n",
      "Iteration  4 : recall score =  0.972972972973\n",
      "Iteration  4 : precision score =  0.734693877551\n",
      "Iteration  5 : recall score =  0.984848484848\n",
      "Iteration  5 : precision score =  0.691489361702\n",
      "\n",
      "macro F2  1.1064495032\n",
      "\n",
      "-------------------------------------------\n",
      "C parameter:  0.1\n",
      "-------------------------------------------\n",
      "\n",
      "Iteration  1 : recall score =  0.849315068493\n",
      "Iteration  1 : precision score =  0.953846153846\n",
      "Iteration  2 : recall score =  0.86301369863\n",
      "Iteration  2 : precision score =  0.969230769231\n",
      "Iteration  3 : recall score =  0.949152542373\n",
      "Iteration  3 : precision score =  0.965517241379\n",
      "Iteration  4 : recall score =  0.932432432432\n",
      "Iteration  4 : precision score =  1.0\n",
      "Iteration  5 : recall score =  0.893939393939\n",
      "Iteration  5 : precision score =  1.0\n",
      "\n",
      "macro F2  1.09585254986\n",
      "\n",
      "-------------------------------------------\n",
      "C parameter:  1\n",
      "-------------------------------------------\n",
      "\n",
      "Iteration  1 : recall score =  0.849315068493\n",
      "Iteration  1 : precision score =  0.939393939394\n",
      "Iteration  2 : recall score =  0.890410958904\n",
      "Iteration  2 : precision score =  0.955882352941\n",
      "Iteration  3 : recall score =  0.966101694915\n",
      "Iteration  3 : precision score =  0.91935483871\n",
      "Iteration  4 : recall score =  0.945945945946\n",
      "Iteration  4 : precision score =  1.0\n",
      "Iteration  5 : recall score =  0.924242424242\n",
      "Iteration  5 : precision score =  0.953125\n",
      "\n",
      "macro F2  1.0838650714\n",
      "\n",
      "-------------------------------------------\n",
      "C parameter:  10\n",
      "-------------------------------------------\n",
      "\n",
      "Iteration  1 : recall score =  0.86301369863\n",
      "Iteration  1 : precision score =  0.940298507463\n",
      "Iteration  2 : recall score =  0.904109589041\n",
      "Iteration  2 : precision score =  0.970588235294\n",
      "Iteration  3 : recall score =  0.966101694915\n",
      "Iteration  3 : precision score =  "
     ]
    },
    {
     "name": "stderr",
     "output_type": "stream",
     "text": [
      "/Users/chaoxu/.pyenv/versions/anaconda2-4.3.1/lib/python2.7/site-packages/sklearn/utils/validation.py:526: DataConversionWarning: A column-vector y was passed when a 1d array was expected. Please change the shape of y to (n_samples, ), for example using ravel().\n",
      "  y = column_or_1d(y, warn=True)\n"
     ]
    },
    {
     "name": "stdout",
     "output_type": "stream",
     "text": [
      "0.91935483871\n",
      "Iteration  4 : recall score =  0.945945945946\n",
      "Iteration  4 : precision score =  1.0\n",
      "Iteration  5 : recall score =  0.924242424242\n",
      "Iteration  5 : precision score =  0.953125\n",
      "\n",
      "macro F2  1.07797822988\n",
      "\n",
      "-------------------------------------------\n",
      "C parameter:  100\n",
      "-------------------------------------------\n",
      "\n",
      "Iteration  1 : recall score =  0.86301369863\n",
      "Iteration  1 : precision score =  0.954545454545\n",
      "Iteration  2 : recall score =  0.890410958904\n",
      "Iteration  2 : precision score =  0.970149253731\n",
      "Iteration  3 : recall score =  0.966101694915\n",
      "Iteration  3 : precision score =  0.91935483871\n",
      "Iteration  4 : recall score =  0.945945945946\n",
      "Iteration  4 : precision score =  1.0\n",
      "Iteration  5 : recall score =  0.924242424242\n",
      "Iteration  5 : precision score =  0.938461538462\n",
      "\n",
      "macro F2  1.08060903786\n",
      "\n",
      "*********************************************************************************\n",
      "Best model to choose from cross validation is with C parameter =  0.01\n",
      "*********************************************************************************\n"
     ]
    }
   ],
   "source": [
    "best_c = printing_Kfold_scores(X_train_undersample.values,y_train_undersample.values)"
   ]
  },
  {
   "cell_type": "code",
   "execution_count": 126,
   "metadata": {
    "collapsed": false
   },
   "outputs": [
    {
     "name": "stdout",
     "output_type": "stream",
     "text": [
      "Recall metric in the testing dataset:  0.931972789116\n",
      "Precision metric in the testting dataset: 0.901315789474\n",
      "f2 metric in the testting dataset: 1.0802919708\n"
     ]
    },
    {
     "data": {
      "image/png": "[encoded data removed]",
      "text/plain": [
       "<matplotlib.figure.Figure at 0x11e507f50>"
      ]
     },
     "metadata": {},
     "output_type": "display_data"
    }
   ],
   "source": [
    "lr = LogisticRegression(C = best_c, penalty = 'l1')\n",
    "lr.fit(X_train_undersample,y_train_undersample.values.ravel())\n",
    "y_pred_undersample = lr.predict(X_test_undersample.values)\n",
    "\n",
    "# Compute confusion matrix\n",
    "cnf_matrix = confusion_matrix(y_test_undersample,y_pred_undersample)\n",
    "np.set_printoptions(precision=2)\n",
    "recall = cnf_matrix[1,1]/(cnf_matrix[1,0]+cnf_matrix[1,1])\n",
    "precision = cnf_matrix[1,1]/(cnf_matrix[0,1]+cnf_matrix[1,1])\n",
    "f2 = 0.2*(4/recall + 1/precision)\n",
    "print(\"Recall metric in the testing dataset: \", recall)\n",
    "print(\"Precision metric in the testting dataset:\", precision)\n",
    "print(\"f2 metric in the testting dataset:\", f2)\n",
    "# Plot non-normalized confusion matrix\n",
    "class_names = [0,1]\n",
    "plt.figure()\n",
    "plot_confusion_matrix(cnf_matrix\n",
    "                      , classes=class_names\n",
    "                      , title='Confusion matrix')\n",
    "plt.show()"
   ]
  },
  {
   "cell_type": "code",
   "execution_count": 131,
   "metadata": {
    "collapsed": false
   },
   "outputs": [
    {
     "name": "stdout",
     "output_type": "stream",
     "text": [
      "Recall metric in the testing dataset:  0.931972789116\n",
      "Precision metric in the testting dataset: 0.0156107566089\n",
      "f2 metric in the testting dataset: 13.6700729927\n"
     ]
    },
    {
     "data": {
      "image/png": "[encoded data removed]",
      "text/plain": [
       "<matplotlib.figure.Figure at 0x11e291950>"
      ]
     },
     "metadata": {},
     "output_type": "display_data"
    }
   ],
   "source": [
    "# Use this C_parameter to build the final model with the whole training dataset and predict the classes in the test\n",
    "# dataset\n",
    "lr = LogisticRegression(C = best_c, penalty = 'l1')\n",
    "lr.fit(X_train_undersample,y_train_undersample.values.ravel())\n",
    "y_under_sample_pred = lr.predict(X_original_test.values)\n",
    "\n",
    "# Compute confusion matrix\n",
    "cnf_matrix = confusion_matrix(y_original_test,y_under_sample_pred)\n",
    "np.set_printoptions(precision=2)\n",
    "recall = cnf_matrix[1,1]/(cnf_matrix[1,0]+cnf_matrix[1,1])\n",
    "precision = cnf_matrix[1,1]/(cnf_matrix[0,1]+cnf_matrix[1,1])\n",
    "f2 = 0.2*(4/recall + 1/precision)\n",
    "print(\"Recall metric in the testing dataset: \", recall)\n",
    "print(\"Precision metric in the testting dataset:\", precision)\n",
    "print(\"f2 metric in the testting dataset:\", f2)\n",
    "# Plot non-normalized confusion matrix\n",
    "class_names = [0,1]\n",
    "plt.figure()\n",
    "plot_confusion_matrix(cnf_matrix\n",
    "                      , classes=class_names\n",
    "                      , title='Confusion matrix')\n",
    "plt.show()"
   ]
  },
  {
   "cell_type": "code",
   "execution_count": 132,
   "metadata": {
    "collapsed": false
   },
   "outputs": [
    {
     "name": "stdout",
     "output_type": "stream",
     "text": [
      "[[0 0 0 ..., 0 0 0]\n",
      " [1 0 0 ..., 0 0 1]\n",
      " [0 0 0 ..., 0 0 0]]\n"
     ]
    }
   ],
   "source": [
    "total_tmp = np.array([y_original_border_pred,y_under_sample_pred,y_original_tmp])\n",
    "print(total_tmp)"
   ]
  },
  {
   "cell_type": "code",
   "execution_count": 134,
   "metadata": {
    "collapsed": false
   },
   "outputs": [
    {
     "name": "stdout",
     "output_type": "stream",
     "text": [
      "0.898329880739\n",
      "0.089779151013\n",
      "0.000444740938403\n",
      "0.0114462273094\n",
      "0.839291808925\n"
     ]
    }
   ],
   "source": [
    "e00 = np.where((total_tmp[0] == total_tmp[2]) & (total_tmp[1] == total_tmp[2]))[0].size / y_original_tmp.size\n",
    "e10 = np.where((total_tmp[0] == total_tmp[2]) & (total_tmp[1] != total_tmp[2]))[0].size / y_original_tmp.size\n",
    "e01 = np.where((total_tmp[0] != total_tmp[2]) & (total_tmp[1] == total_tmp[2]))[0].size / y_original_tmp.size\n",
    "e11 = np.where((total_tmp[0] != total_tmp[2]) & (total_tmp[1] != total_tmp[2]))[0].size / y_original_tmp.size\n",
    "print(e00)\n",
    "print(e10)\n",
    "print(e01)\n",
    "print(e11)\n",
    "t = np.square(np.abs(e01-e10)-1) / (e00+e10)\n",
    "print(t)"
   ]
  },
  {
   "cell_type": "code",
   "execution_count": 139,
   "metadata": {
    "collapsed": false
   },
   "outputs": [
    {
     "name": "stdout",
     "output_type": "stream",
     "text": [
      "4947081\n",
      "170589\n",
      "Recall metric in the testing dataset:  0.994357095192\n",
      "Precision metric in the testting dataset: 0.994624915099\n",
      "f2 metric in the testting dataset: 1.00562076882\n"
     ]
    },
    {
     "data": {
      "image/png": "[encoded data removed]",
      "text/plain": [
       "<matplotlib.figure.Figure at 0x11bcade10>"
      ]
     },
     "metadata": {},
     "output_type": "display_data"
    }
   ],
   "source": [
    "from sklearn.ensemble import RandomForestClassifier\n",
    "params = {'max_features':'auto', 'max_depth': 6, 'min_samples_split': 2, \\\n",
    "            'oob_score':True}\n",
    "params['n_estimators'] = 50\n",
    "params['n_jobs'] = 50\n",
    "forest = RandomForestClassifier(**params)\n",
    "forest.fit(X_border_train,y_border_train)\n",
    "y_border_rf_pred = forest.predict(X_border_test)\n",
    "\n",
    "print(X_border_test.size)\n",
    "print(y_border_test.size)\n",
    "# Compute confusion matrix\n",
    "cnf_matrix = confusion_matrix(y_border_test,y_border_rf_pred)\n",
    "np.set_printoptions(precision=2)\n",
    "recall = cnf_matrix[1,1]/(cnf_matrix[1,0]+cnf_matrix[1,1])\n",
    "precision = cnf_matrix[1,1]/(cnf_matrix[0,1]+cnf_matrix[1,1])\n",
    "f2 = 0.2*(4/recall + 1/precision)\n",
    "print(\"Recall metric in the testing dataset: \", recall)\n",
    "print(\"Precision metric in the testting dataset:\", precision)\n",
    "print(\"f2 metric in the testting dataset:\", f2)\n",
    "# Plot non-normalized confusion matrix\n",
    "class_names = [0,1]\n",
    "plt.figure()\n",
    "plot_confusion_matrix(cnf_matrix\n",
    "                      , classes=class_names\n",
    "                      , title='Confusion matrix')\n",
    "plt.show()"
   ]
  },
  {
   "cell_type": "code",
   "execution_count": 140,
   "metadata": {
    "collapsed": false
   },
   "outputs": [
    {
     "name": "stdout",
     "output_type": "stream",
     "text": [
      "4947081\n",
      "170589\n",
      "Recall metric in the testing dataset:  0.87074829932\n",
      "Precision metric in the testting dataset: 0.246153846154\n",
      "f2 metric in the testting dataset: 1.73125\n"
     ]
    },
    {
     "data": {
      "image/png": "[encoded data removed]",
      "text/plain": [
       "<matplotlib.figure.Figure at 0x11e55fdd0>"
      ]
     },
     "metadata": {},
     "output_type": "display_data"
    }
   ],
   "source": [
    "forest = RandomForestClassifier(**params)\n",
    "forest.fit(X_border_train,y_border_train)\n",
    "y_border_rf_original_pred = forest.predict(X_original_test)\n",
    "\n",
    "print(X_border_test.size)\n",
    "print(y_border_test.size)\n",
    "# Compute confusion matrix\n",
    "cnf_matrix = confusion_matrix(y_original_test,y_border_rf_original_pred)\n",
    "np.set_printoptions(precision=2)\n",
    "recall = cnf_matrix[1,1]/(cnf_matrix[1,0]+cnf_matrix[1,1])\n",
    "precision = cnf_matrix[1,1]/(cnf_matrix[0,1]+cnf_matrix[1,1])\n",
    "f2 = 0.2*(4/recall + 1/precision)\n",
    "print(\"Recall metric in the testing dataset: \", recall)\n",
    "print(\"Precision metric in the testting dataset:\", precision)\n",
    "print(\"f2 metric in the testting dataset:\", f2)\n",
    "# Plot non-normalized confusion matrix\n",
    "class_names = [0,1]\n",
    "plt.figure()\n",
    "plot_confusion_matrix(cnf_matrix\n",
    "                    , classes=class_names\n",
    "                      , title='Confusion matrix')\n",
    "plt.show()"
   ]
  },
  {
   "cell_type": "code",
   "execution_count": 162,
   "metadata": {
    "collapsed": false
   },
   "outputs": [],
   "source": [
    "from Pic.maxent_style import *\n",
    "@maxent_style\n",
    "def best_num_classifiers(rf_labels,rf_erros,palette=None):\n",
    "    fig = plt.figure()\n",
    "    ax = fig.add_subplot(111)\n",
    "    for index,rf_errors in enumerate(rf_erros):\n",
    "        ax.plot(range(1,Max_Classfiers),rf_errors,linestyle='-',color=next(palette),label=rf_labels[index])\n",
    "        \n",
    "    ax.set_ylim((0.0, 0.4))\n",
    "    ax.set_xlabel('n_estimators')\n",
    "    ax.set_ylabel('error rate')\n",
    "    leg = ax.legend(loc='upper right', fancybox=True)\n",
    "    leg.get_frame().set_alpha(0.7)\n",
    "    plt.show()"
   ]
  },
  {
   "cell_type": "code",
   "execution_count": 151,
   "metadata": {
    "collapsed": false
   },
   "outputs": [
    {
     "name": "stderr",
     "output_type": "stream",
     "text": [
      "/Users/chaoxu/.pyenv/versions/anaconda2-4.3.1/lib/python2.7/site-packages/ipykernel/__main__.py:16: DataConversionWarning: A column-vector y was passed when a 1d array was expected. Please change the shape of y to (n_samples,), for example using ravel().\n"
     ]
    },
    {
     "name": "stdout",
     "output_type": "stream",
     "text": [
      "best_num_classifiers\n"
     ]
    },
    {
     "ename": "NameError",
     "evalue": "global name 'rf_errors' is not defined",
     "output_type": "error",
     "traceback": [
      "\u001b[0;31m---------------------------------------------------------------------------\u001b[0m",
      "\u001b[0;31mNameError\u001b[0m                                 Traceback (most recent call last)",
      "\u001b[0;32m<ipython-input-151-4665aa664262>\u001b[0m in \u001b[0;36m<module>\u001b[0;34m()\u001b[0m\n\u001b[1;32m     20\u001b[0m \u001b[0mrf_erros\u001b[0m \u001b[0;34m=\u001b[0m \u001b[0;34m[\u001b[0m\u001b[0mrf_border_errors\u001b[0m\u001b[0;34m,\u001b[0m\u001b[0mrf_originalr_errors\u001b[0m\u001b[0;34m]\u001b[0m\u001b[0;34m\u001b[0m\u001b[0m\n\u001b[1;32m     21\u001b[0m \u001b[0mrf_erros_labels\u001b[0m \u001b[0;34m=\u001b[0m \u001b[0;34m[\u001b[0m\u001b[0;34m\"border-line\"\u001b[0m\u001b[0;34m,\u001b[0m\u001b[0;34m\"original\"\u001b[0m\u001b[0;34m]\u001b[0m\u001b[0;34m\u001b[0m\u001b[0m\n\u001b[0;32m---> 22\u001b[0;31m \u001b[0mbest_num_classifiers\u001b[0m\u001b[0;34m(\u001b[0m\u001b[0mrf_erros\u001b[0m\u001b[0;34m,\u001b[0m\u001b[0mrf_erros_labels\u001b[0m\u001b[0;34m)\u001b[0m\u001b[0;34m\u001b[0m\u001b[0m\n\u001b[0m",
      "\u001b[0;32m/Users/chaoxu/code/xuchao_ml/Analysis/Pic/maxent_style.pyc\u001b[0m in \u001b[0;36mmaxent_style_inner\u001b[0;34m(*args, **kwargs)\u001b[0m\n\u001b[1;32m      9\u001b[0m             \u001b[0msns\u001b[0m\u001b[0;34m.\u001b[0m\u001b[0mset_palette\u001b[0m\u001b[0;34m(\u001b[0m\u001b[0;34m'muted'\u001b[0m\u001b[0;34m,\u001b[0m\u001b[0mn_colors\u001b[0m\u001b[0;34m=\u001b[0m\u001b[0;36m20\u001b[0m\u001b[0;34m)\u001b[0m\u001b[0;34m\u001b[0m\u001b[0m\n\u001b[1;32m     10\u001b[0m             \u001b[0mkwargs\u001b[0m\u001b[0;34m[\u001b[0m\u001b[0;34m'palette'\u001b[0m\u001b[0;34m]\u001b[0m \u001b[0;34m=\u001b[0m \u001b[0mitertools\u001b[0m\u001b[0;34m.\u001b[0m\u001b[0mcycle\u001b[0m\u001b[0;34m(\u001b[0m\u001b[0msns\u001b[0m\u001b[0;34m.\u001b[0m\u001b[0mcolor_palette\u001b[0m\u001b[0;34m(\u001b[0m\u001b[0;34m'muted'\u001b[0m\u001b[0;34m)\u001b[0m\u001b[0;34m)\u001b[0m\u001b[0;34m\u001b[0m\u001b[0m\n\u001b[0;32m---> 11\u001b[0;31m             \u001b[0mfunc\u001b[0m\u001b[0;34m(\u001b[0m\u001b[0;34m*\u001b[0m\u001b[0margs\u001b[0m\u001b[0;34m,\u001b[0m\u001b[0;34m**\u001b[0m\u001b[0mkwargs\u001b[0m\u001b[0;34m)\u001b[0m\u001b[0;34m\u001b[0m\u001b[0m\n\u001b[0m\u001b[1;32m     12\u001b[0m     \u001b[0;32mreturn\u001b[0m \u001b[0mmaxent_style_inner\u001b[0m\u001b[0;34m\u001b[0m\u001b[0m\n\u001b[1;32m     13\u001b[0m \u001b[0;34m\u001b[0m\u001b[0m\n",
      "\u001b[0;32m<ipython-input-150-4669d01c2151>\u001b[0m in \u001b[0;36mbest_num_classifiers\u001b[0;34m(rf_labels, rf_erros, palette)\u001b[0m\n\u001b[1;32m      5\u001b[0m     \u001b[0max\u001b[0m \u001b[0;34m=\u001b[0m \u001b[0mfig\u001b[0m\u001b[0;34m.\u001b[0m\u001b[0madd_subplot\u001b[0m\u001b[0;34m(\u001b[0m\u001b[0;36m121\u001b[0m\u001b[0;34m)\u001b[0m\u001b[0;34m\u001b[0m\u001b[0m\n\u001b[1;32m      6\u001b[0m     \u001b[0;32mfor\u001b[0m \u001b[0mindex\u001b[0m\u001b[0;34m,\u001b[0m\u001b[0mrf_erros\u001b[0m \u001b[0;32min\u001b[0m \u001b[0menumerate\u001b[0m\u001b[0;34m(\u001b[0m\u001b[0mrf_erros\u001b[0m\u001b[0;34m)\u001b[0m\u001b[0;34m:\u001b[0m\u001b[0;34m\u001b[0m\u001b[0m\n\u001b[0;32m----> 7\u001b[0;31m         \u001b[0max\u001b[0m\u001b[0;34m.\u001b[0m\u001b[0mplot\u001b[0m\u001b[0;34m(\u001b[0m\u001b[0mrange\u001b[0m\u001b[0;34m(\u001b[0m\u001b[0;36m1\u001b[0m\u001b[0;34m,\u001b[0m\u001b[0mMax_Classfiers\u001b[0m\u001b[0;34m)\u001b[0m\u001b[0;34m,\u001b[0m\u001b[0mrf_errors\u001b[0m\u001b[0;34m,\u001b[0m\u001b[0mlinestyle\u001b[0m\u001b[0;34m=\u001b[0m\u001b[0;34m'-'\u001b[0m\u001b[0;34m,\u001b[0m\u001b[0mcolor\u001b[0m\u001b[0;34m=\u001b[0m\u001b[0mnext\u001b[0m\u001b[0;34m(\u001b[0m\u001b[0mpalette\u001b[0m\u001b[0;34m)\u001b[0m\u001b[0;34m,\u001b[0m\u001b[0mlabel\u001b[0m\u001b[0;34m=\u001b[0m\u001b[0mrf_labels\u001b[0m\u001b[0;34m[\u001b[0m\u001b[0mindex\u001b[0m\u001b[0;34m]\u001b[0m\u001b[0;34m)\u001b[0m\u001b[0;34m\u001b[0m\u001b[0m\n\u001b[0m\u001b[1;32m      8\u001b[0m \u001b[0;34m\u001b[0m\u001b[0m\n\u001b[1;32m      9\u001b[0m     \u001b[0max\u001b[0m\u001b[0;34m.\u001b[0m\u001b[0mset_ylim\u001b[0m\u001b[0;34m(\u001b[0m\u001b[0;34m(\u001b[0m\u001b[0;36m0.0\u001b[0m\u001b[0;34m,\u001b[0m \u001b[0;36m1.0\u001b[0m\u001b[0;34m)\u001b[0m\u001b[0;34m)\u001b[0m\u001b[0;34m\u001b[0m\u001b[0m\n",
      "\u001b[0;31mNameError\u001b[0m: global name 'rf_errors' is not defined"
     ]
    },
    {
     "data": {
      "image/png": "[encoded data removed]",
      "text/plain": [
       "<matplotlib.figure.Figure at 0x11bb0b750>"
      ]
     },
     "metadata": {},
     "output_type": "display_data"
    }
   ],
   "source": [
    "Max_Classfiers = 100\n",
    "rf_border_errors = []\n",
    "rf_originalr_errors = []\n",
    "for x in range(1,Max_Classfiers):\n",
    "    params['n_estimators'] = x\n",
    "    params['n_jobs'] = x\n",
    "    forest = RandomForestClassifier(**params)\n",
    "    forest.fit(X_border_train,y_border_train)\n",
    "    rf_border_error = 1.0 - forest.oob_score_\n",
    "    rf_border_errors.append(rf_border_error)\n",
    "    \n",
    "for x in range(1,Max_Classfiers):\n",
    "    params['n_estimators'] = x\n",
    "    params['n_jobs'] = x\n",
    "    forest = RandomForestClassifier(**params)\n",
    "    forest.fit(X_original_test,y_original_test)\n",
    "    rf_original_error = 1.0 - forest.oob_score_\n",
    "    rf_originalr_errors.append(rf_original_error)\n",
    "    \n",
    "rf_erros = [rf_border_errors,rf_originalr_errors]\n",
    "rf_erros_labels = [\"border-line\",\"original\"]\n"
   ]
  },
  {
   "cell_type": "code",
   "execution_count": 163,
   "metadata": {
    "collapsed": false
   },
   "outputs": [
    {
     "name": "stdout",
     "output_type": "stream",
     "text": [
      "best_num_classifiers\n"
     ]
    },
    {
     "data": {
      "image/png": "[encoded data removed]",
      "text/plain": [
       "<matplotlib.figure.Figure at 0x11b6fd990>"
      ]
     },
     "metadata": {},
     "output_type": "display_data"
    }
   ],
   "source": [
    "best_num_classifiers(rf_erros_labels,rf_erros)"
   ]
  },
  {
   "cell_type": "code",
   "execution_count": null,
   "metadata": {
    "collapsed": true
   },
   "outputs": [],
   "source": []
  }
 ],
 "metadata": {
  "anaconda-cloud": {},
  "kernelspec": {
   "display_name": "Python 2",
   "language": "python",
   "name": "python2"
  },
  "language_info": {
   "codemirror_mode": {
    "name": "ipython",
    "version": 2
   },
   "file_extension": ".py",
   "mimetype": "text/x-python",
   "name": "python",
   "nbconvert_exporter": "python",
   "pygments_lexer": "ipython2",
   "version": "2.7.13"
  }
 },
 "nbformat": 4,
 "nbformat_minor": 0
}
