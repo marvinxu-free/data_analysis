{
 "cells": [
  {
   "cell_type": "code",
   "execution_count": 11,
   "metadata": {
    "ExecuteTime": {
     "end_time": "2018-01-23T14:01:02.324268Z",
     "start_time": "2018-01-23T14:01:02.314826Z"
    },
    "collapsed": false
   },
   "outputs": [],
   "source": [
    "from Utils.common.custerReadFile import read_multi_csv\n",
    "import re\n",
    "import numpy as np \n",
    "from numpy import logical_or\n",
    "from Params.path_params import Data_path\n",
    "import pandas as pd\n",
    "import time\n",
    "import datetime"
   ]
  },
  {
   "cell_type": "code",
   "execution_count": 2,
   "metadata": {
    "ExecuteTime": {
     "end_time": "2018-01-23T13:58:03.177335Z",
     "start_time": "2018-01-23T13:58:03.172224Z"
    },
    "collapsed": false
   },
   "outputs": [],
   "source": [
    "data_dir = \"{0}/jiufu_chk_csv\".format(Data_path)"
   ]
  },
  {
   "cell_type": "code",
   "execution_count": 3,
   "metadata": {
    "ExecuteTime": {
     "end_time": "2018-01-23T13:58:25.044747Z",
     "start_time": "2018-01-23T13:58:03.181157Z"
    },
    "collapsed": false
   },
   "outputs": [],
   "source": [
    "df = read_multi_csv(data_dir)"
   ]
  },
  {
   "cell_type": "code",
   "execution_count": 7,
   "metadata": {
    "ExecuteTime": {
     "end_time": "2018-01-23T13:59:22.289903Z",
     "start_time": "2018-01-23T13:59:21.395249Z"
    },
    "collapsed": false
   },
   "outputs": [],
   "source": [
    "df['time'] = pd.to_datetime(df['timestamp'], unit='ms', utc=True)"
   ]
  },
  {
   "cell_type": "code",
   "execution_count": 8,
   "metadata": {
    "ExecuteTime": {
     "end_time": "2018-01-23T13:59:23.221920Z",
     "start_time": "2018-01-23T13:59:23.153557Z"
    },
    "collapsed": false
   },
   "outputs": [
    {
     "data": {
      "text/html": [
       "<div>\n",
       "<style scoped>\n",
       "    .dataframe tbody tr th:only-of-type {\n",
       "        vertical-align: middle;\n",
       "    }\n",
       "\n",
       "    .dataframe tbody tr th {\n",
       "        vertical-align: top;\n",
       "    }\n",
       "\n",
       "    .dataframe thead th {\n",
       "        text-align: right;\n",
       "    }\n",
       "</style>\n",
       "<table border=\"1\" class=\"dataframe\">\n",
       "  <thead>\n",
       "    <tr style=\"text-align: right;\">\n",
       "      <th></th>\n",
       "      <th>event_id</th>\n",
       "      <th>maxent_id</th>\n",
       "      <th>timestamp</th>\n",
       "      <th>type</th>\n",
       "      <th>time</th>\n",
       "    </tr>\n",
       "  </thead>\n",
       "  <tbody>\n",
       "    <tr>\n",
       "      <th>0</th>\n",
       "      <td>3993f645-11f2-4c78-914c-c93199ad7b34</td>\n",
       "      <td>2ed9d84bdae7e8b381c09b44315791a1</td>\n",
       "      <td>1515495309750</td>\n",
       "      <td>create_account</td>\n",
       "      <td>2018-01-09 10:55:09.750000+00:00</td>\n",
       "    </tr>\n",
       "    <tr>\n",
       "      <th>1</th>\n",
       "      <td>1b0a9b3d-9e80-4a6d-9330-deb3f71f015d</td>\n",
       "      <td>45bd4ca025a2fa8300daa050e5814ce6</td>\n",
       "      <td>1515495310030</td>\n",
       "      <td>update_account</td>\n",
       "      <td>2018-01-09 10:55:10.030000+00:00</td>\n",
       "    </tr>\n",
       "    <tr>\n",
       "      <th>2</th>\n",
       "      <td>420f848a-64e8-400c-a98d-5c24ae99ed39</td>\n",
       "      <td>9c0cf6d5a6bcc353781d3c5a1ea4bd47</td>\n",
       "      <td>1515495310462</td>\n",
       "      <td>transaction</td>\n",
       "      <td>2018-01-09 10:55:10.462000+00:00</td>\n",
       "    </tr>\n",
       "    <tr>\n",
       "      <th>3</th>\n",
       "      <td>00d88a02-edad-4d98-9d5a-64031f53f239</td>\n",
       "      <td>60e3badecf6fec557db5f12f501da1ce</td>\n",
       "      <td>1515495310475</td>\n",
       "      <td>transaction</td>\n",
       "      <td>2018-01-09 10:55:10.475000+00:00</td>\n",
       "    </tr>\n",
       "    <tr>\n",
       "      <th>4</th>\n",
       "      <td>0386a175-862b-4357-a833-db2c26a56ed8</td>\n",
       "      <td>a792449284bc2c70c2244327ef5b1fe1</td>\n",
       "      <td>1515495310883</td>\n",
       "      <td>update_account</td>\n",
       "      <td>2018-01-09 10:55:10.883000+00:00</td>\n",
       "    </tr>\n",
       "    <tr>\n",
       "      <th>5</th>\n",
       "      <td>881316e3-f129-470c-b213-95a949b33990</td>\n",
       "      <td>d40be94b6d0e89fc69bcaa08f79a26f1</td>\n",
       "      <td>1515495311066</td>\n",
       "      <td>login</td>\n",
       "      <td>2018-01-09 10:55:11.066000+00:00</td>\n",
       "    </tr>\n",
       "    <tr>\n",
       "      <th>6</th>\n",
       "      <td>5d9ab366-3be2-49c0-b9e2-cf0297e4400b</td>\n",
       "      <td>cb53d79aefe06b92330a56ed2d1d0dd7</td>\n",
       "      <td>1515495311316</td>\n",
       "      <td>transaction</td>\n",
       "      <td>2018-01-09 10:55:11.316000+00:00</td>\n",
       "    </tr>\n",
       "    <tr>\n",
       "      <th>7</th>\n",
       "      <td>1380f58c-9960-4a47-b37f-9c06d1c0e71c</td>\n",
       "      <td>34bc4de9097e33044bc124e473202e8e</td>\n",
       "      <td>1515495311573</td>\n",
       "      <td>login</td>\n",
       "      <td>2018-01-09 10:55:11.573000+00:00</td>\n",
       "    </tr>\n",
       "    <tr>\n",
       "      <th>8</th>\n",
       "      <td>bc50545e-99f4-4ba8-beae-c3f6cc542221</td>\n",
       "      <td>0d97529c5f023863062e702734d5c9cc</td>\n",
       "      <td>1515495311574</td>\n",
       "      <td>quota</td>\n",
       "      <td>2018-01-09 10:55:11.574000+00:00</td>\n",
       "    </tr>\n",
       "    <tr>\n",
       "      <th>9</th>\n",
       "      <td>c20ef00a-badf-4071-9710-bd587d7d26d0</td>\n",
       "      <td>582814531d5054a3ca6b2083d1762a48</td>\n",
       "      <td>1515495311950</td>\n",
       "      <td>quota</td>\n",
       "      <td>2018-01-09 10:55:11.950000+00:00</td>\n",
       "    </tr>\n",
       "  </tbody>\n",
       "</table>\n",
       "</div>"
      ],
      "text/plain": [
       "                               event_id                         maxent_id  \\\n",
       "0  3993f645-11f2-4c78-914c-c93199ad7b34  2ed9d84bdae7e8b381c09b44315791a1   \n",
       "1  1b0a9b3d-9e80-4a6d-9330-deb3f71f015d  45bd4ca025a2fa8300daa050e5814ce6   \n",
       "2  420f848a-64e8-400c-a98d-5c24ae99ed39  9c0cf6d5a6bcc353781d3c5a1ea4bd47   \n",
       "3  00d88a02-edad-4d98-9d5a-64031f53f239  60e3badecf6fec557db5f12f501da1ce   \n",
       "4  0386a175-862b-4357-a833-db2c26a56ed8  a792449284bc2c70c2244327ef5b1fe1   \n",
       "5  881316e3-f129-470c-b213-95a949b33990  d40be94b6d0e89fc69bcaa08f79a26f1   \n",
       "6  5d9ab366-3be2-49c0-b9e2-cf0297e4400b  cb53d79aefe06b92330a56ed2d1d0dd7   \n",
       "7  1380f58c-9960-4a47-b37f-9c06d1c0e71c  34bc4de9097e33044bc124e473202e8e   \n",
       "8  bc50545e-99f4-4ba8-beae-c3f6cc542221  0d97529c5f023863062e702734d5c9cc   \n",
       "9  c20ef00a-badf-4071-9710-bd587d7d26d0  582814531d5054a3ca6b2083d1762a48   \n",
       "\n",
       "       timestamp            type                             time  \n",
       "0  1515495309750  create_account 2018-01-09 10:55:09.750000+00:00  \n",
       "1  1515495310030  update_account 2018-01-09 10:55:10.030000+00:00  \n",
       "2  1515495310462     transaction 2018-01-09 10:55:10.462000+00:00  \n",
       "3  1515495310475     transaction 2018-01-09 10:55:10.475000+00:00  \n",
       "4  1515495310883  update_account 2018-01-09 10:55:10.883000+00:00  \n",
       "5  1515495311066           login 2018-01-09 10:55:11.066000+00:00  \n",
       "6  1515495311316     transaction 2018-01-09 10:55:11.316000+00:00  \n",
       "7  1515495311573           login 2018-01-09 10:55:11.573000+00:00  \n",
       "8  1515495311574           quota 2018-01-09 10:55:11.574000+00:00  \n",
       "9  1515495311950           quota 2018-01-09 10:55:11.950000+00:00  "
      ]
     },
     "execution_count": 8,
     "metadata": {},
     "output_type": "execute_result"
    }
   ],
   "source": [
    "df.head(10)"
   ]
  },
  {
   "cell_type": "code",
   "execution_count": 9,
   "metadata": {
    "ExecuteTime": {
     "end_time": "2018-01-23T14:00:11.134545Z",
     "start_time": "2018-01-23T14:00:11.062239Z"
    },
    "collapsed": false
   },
   "outputs": [
    {
     "data": {
      "text/plain": [
       "event_id                  object\n",
       "maxent_id                 object\n",
       "timestamp                  int64\n",
       "type                      object\n",
       "time         datetime64[ns, UTC]\n",
       "dtype: object"
      ]
     },
     "execution_count": 9,
     "metadata": {},
     "output_type": "execute_result"
    }
   ],
   "source": [
    "df.dtypes"
   ]
  },
  {
   "cell_type": "code",
   "execution_count": 17,
   "metadata": {
    "ExecuteTime": {
     "end_time": "2018-01-23T14:11:10.523515Z",
     "start_time": "2018-01-23T14:11:10.358681Z"
    },
    "collapsed": false
   },
   "outputs": [
    {
     "data": {
      "text/html": [
       "<div>\n",
       "<style scoped>\n",
       "    .dataframe tbody tr th:only-of-type {\n",
       "        vertical-align: middle;\n",
       "    }\n",
       "\n",
       "    .dataframe tbody tr th {\n",
       "        vertical-align: top;\n",
       "    }\n",
       "\n",
       "    .dataframe thead th {\n",
       "        text-align: right;\n",
       "    }\n",
       "</style>\n",
       "<table border=\"1\" class=\"dataframe\">\n",
       "  <thead>\n",
       "    <tr style=\"text-align: right;\">\n",
       "      <th></th>\n",
       "      <th>event_id</th>\n",
       "      <th>maxent_id</th>\n",
       "      <th>timestamp</th>\n",
       "      <th>type</th>\n",
       "      <th>time</th>\n",
       "    </tr>\n",
       "  </thead>\n",
       "  <tbody>\n",
       "    <tr>\n",
       "      <th>3221</th>\n",
       "      <td>3dd8a8c6-83f2-4612-aaf9-ec5ef7b68ea4</td>\n",
       "      <td>e6f8939b3a2f71a7acd2c2b8985f283c</td>\n",
       "      <td>1516332000523</td>\n",
       "      <td>update_account</td>\n",
       "      <td>2018-01-19 03:20:00.523000+00:00</td>\n",
       "    </tr>\n",
       "    <tr>\n",
       "      <th>3222</th>\n",
       "      <td>77e3e307-5dd6-4fe3-ac61-43cf36541994</td>\n",
       "      <td>ae1493bd719d479adf4e8e555901dd9a</td>\n",
       "      <td>1516332001765</td>\n",
       "      <td>login</td>\n",
       "      <td>2018-01-19 03:20:01.765000+00:00</td>\n",
       "    </tr>\n",
       "    <tr>\n",
       "      <th>3223</th>\n",
       "      <td>faec522b-c96f-48f5-a277-d2e776367c65</td>\n",
       "      <td>3d61dfe935248776a3267aea8ce3286a</td>\n",
       "      <td>1516332001936</td>\n",
       "      <td>update_account</td>\n",
       "      <td>2018-01-19 03:20:01.936000+00:00</td>\n",
       "    </tr>\n",
       "    <tr>\n",
       "      <th>3224</th>\n",
       "      <td>08c837bd-4ec6-4c25-8e3f-7359bde0b0e7</td>\n",
       "      <td>7088c8b02c1110fb4219275c80816895</td>\n",
       "      <td>1516332001960</td>\n",
       "      <td>transaction</td>\n",
       "      <td>2018-01-19 03:20:01.960000+00:00</td>\n",
       "    </tr>\n",
       "    <tr>\n",
       "      <th>3225</th>\n",
       "      <td>e52c0089-b173-4d9b-9bc0-597864dc2096</td>\n",
       "      <td>0b9bf2299f69f12c455769a1151d889b</td>\n",
       "      <td>1516332002221</td>\n",
       "      <td>quota</td>\n",
       "      <td>2018-01-19 03:20:02.221000+00:00</td>\n",
       "    </tr>\n",
       "    <tr>\n",
       "      <th>3226</th>\n",
       "      <td>5ed0d6f6-de0e-4043-b6ce-675fb0d8f829</td>\n",
       "      <td>2a5693177f9be08fd675c138b861031c</td>\n",
       "      <td>1516332002293</td>\n",
       "      <td>login</td>\n",
       "      <td>2018-01-19 03:20:02.293000+00:00</td>\n",
       "    </tr>\n",
       "    <tr>\n",
       "      <th>3227</th>\n",
       "      <td>507b6b65-a6a3-432a-b78f-60841a827129</td>\n",
       "      <td>ddf1c8f68ef9fbd4f33586f7cdfc6d47</td>\n",
       "      <td>1516332002732</td>\n",
       "      <td>login</td>\n",
       "      <td>2018-01-19 03:20:02.732000+00:00</td>\n",
       "    </tr>\n",
       "    <tr>\n",
       "      <th>3228</th>\n",
       "      <td>a099818c-5e18-409b-93ef-b5a2b361f153</td>\n",
       "      <td>dd29052894b18c756c3c70c5fd39e55f</td>\n",
       "      <td>1516332002867</td>\n",
       "      <td>login</td>\n",
       "      <td>2018-01-19 03:20:02.867000+00:00</td>\n",
       "    </tr>\n",
       "    <tr>\n",
       "      <th>3229</th>\n",
       "      <td>0a98e1ba-640d-40fa-b4bd-2c91a614dd86</td>\n",
       "      <td>9651ade93412e93ee03cee299ccde9d4</td>\n",
       "      <td>1516332002929</td>\n",
       "      <td>quota</td>\n",
       "      <td>2018-01-19 03:20:02.929000+00:00</td>\n",
       "    </tr>\n",
       "    <tr>\n",
       "      <th>3230</th>\n",
       "      <td>fc768ca8-f6fa-43db-8153-c403d3bf70c1</td>\n",
       "      <td>6d0dfe05beb0e296260357ca6d832e52</td>\n",
       "      <td>1516332003087</td>\n",
       "      <td>quota</td>\n",
       "      <td>2018-01-19 03:20:03.087000+00:00</td>\n",
       "    </tr>\n",
       "  </tbody>\n",
       "</table>\n",
       "</div>"
      ],
      "text/plain": [
       "                                  event_id                         maxent_id  \\\n",
       "3221  3dd8a8c6-83f2-4612-aaf9-ec5ef7b68ea4  e6f8939b3a2f71a7acd2c2b8985f283c   \n",
       "3222  77e3e307-5dd6-4fe3-ac61-43cf36541994  ae1493bd719d479adf4e8e555901dd9a   \n",
       "3223  faec522b-c96f-48f5-a277-d2e776367c65  3d61dfe935248776a3267aea8ce3286a   \n",
       "3224  08c837bd-4ec6-4c25-8e3f-7359bde0b0e7  7088c8b02c1110fb4219275c80816895   \n",
       "3225  e52c0089-b173-4d9b-9bc0-597864dc2096  0b9bf2299f69f12c455769a1151d889b   \n",
       "3226  5ed0d6f6-de0e-4043-b6ce-675fb0d8f829  2a5693177f9be08fd675c138b861031c   \n",
       "3227  507b6b65-a6a3-432a-b78f-60841a827129  ddf1c8f68ef9fbd4f33586f7cdfc6d47   \n",
       "3228  a099818c-5e18-409b-93ef-b5a2b361f153  dd29052894b18c756c3c70c5fd39e55f   \n",
       "3229  0a98e1ba-640d-40fa-b4bd-2c91a614dd86  9651ade93412e93ee03cee299ccde9d4   \n",
       "3230  fc768ca8-f6fa-43db-8153-c403d3bf70c1  6d0dfe05beb0e296260357ca6d832e52   \n",
       "\n",
       "          timestamp            type                             time  \n",
       "3221  1516332000523  update_account 2018-01-19 03:20:00.523000+00:00  \n",
       "3222  1516332001765           login 2018-01-19 03:20:01.765000+00:00  \n",
       "3223  1516332001936  update_account 2018-01-19 03:20:01.936000+00:00  \n",
       "3224  1516332001960     transaction 2018-01-19 03:20:01.960000+00:00  \n",
       "3225  1516332002221           quota 2018-01-19 03:20:02.221000+00:00  \n",
       "3226  1516332002293           login 2018-01-19 03:20:02.293000+00:00  \n",
       "3227  1516332002732           login 2018-01-19 03:20:02.732000+00:00  \n",
       "3228  1516332002867           login 2018-01-19 03:20:02.867000+00:00  \n",
       "3229  1516332002929           quota 2018-01-19 03:20:02.929000+00:00  \n",
       "3230  1516332003087           quota 2018-01-19 03:20:03.087000+00:00  "
      ]
     },
     "execution_count": 17,
     "metadata": {},
     "output_type": "execute_result"
    }
   ],
   "source": [
    "df.loc[(df.time > '2018-01-19 03:00:00') & (df.time < '2018-01-20 03:00:00')].head(10)"
   ]
  },
  {
   "cell_type": "code",
   "execution_count": 18,
   "metadata": {
    "ExecuteTime": {
     "end_time": "2018-01-23T14:11:23.889596Z",
     "start_time": "2018-01-23T14:11:23.539260Z"
    },
    "collapsed": false
   },
   "outputs": [
    {
     "data": {
      "text/plain": [
       "(199126, 5)"
      ]
     },
     "execution_count": 18,
     "metadata": {},
     "output_type": "execute_result"
    }
   ],
   "source": [
    "df.loc[(df.time > '2018-01-19 03:00:00') & (df.time < '2018-01-20 03:00:00')].shape"
   ]
  },
  {
   "cell_type": "code",
   "execution_count": 21,
   "metadata": {
    "ExecuteTime": {
     "end_time": "2018-01-23T14:16:20.003149Z",
     "start_time": "2018-01-23T14:16:19.562326Z"
    },
    "collapsed": false
   },
   "outputs": [],
   "source": [
    "df1 = df.loc[(df.time > '2018-01-19 03:00:00') & (df.time < '2018-01-20 03:00:00')].drop('timestamp', axis=1).reset_index(drop=True)"
   ]
  },
  {
   "cell_type": "code",
   "execution_count": 22,
   "metadata": {
    "ExecuteTime": {
     "end_time": "2018-01-23T14:16:21.704618Z",
     "start_time": "2018-01-23T14:16:21.569155Z"
    },
    "collapsed": false
   },
   "outputs": [
    {
     "data": {
      "text/html": [
       "<div>\n",
       "<style scoped>\n",
       "    .dataframe tbody tr th:only-of-type {\n",
       "        vertical-align: middle;\n",
       "    }\n",
       "\n",
       "    .dataframe tbody tr th {\n",
       "        vertical-align: top;\n",
       "    }\n",
       "\n",
       "    .dataframe thead th {\n",
       "        text-align: right;\n",
       "    }\n",
       "</style>\n",
       "<table border=\"1\" class=\"dataframe\">\n",
       "  <thead>\n",
       "    <tr style=\"text-align: right;\">\n",
       "      <th></th>\n",
       "      <th>event_id</th>\n",
       "      <th>maxent_id</th>\n",
       "      <th>type</th>\n",
       "      <th>time</th>\n",
       "    </tr>\n",
       "  </thead>\n",
       "  <tbody>\n",
       "    <tr>\n",
       "      <th>0</th>\n",
       "      <td>3dd8a8c6-83f2-4612-aaf9-ec5ef7b68ea4</td>\n",
       "      <td>e6f8939b3a2f71a7acd2c2b8985f283c</td>\n",
       "      <td>update_account</td>\n",
       "      <td>2018-01-19 03:20:00.523000+00:00</td>\n",
       "    </tr>\n",
       "    <tr>\n",
       "      <th>1</th>\n",
       "      <td>77e3e307-5dd6-4fe3-ac61-43cf36541994</td>\n",
       "      <td>ae1493bd719d479adf4e8e555901dd9a</td>\n",
       "      <td>login</td>\n",
       "      <td>2018-01-19 03:20:01.765000+00:00</td>\n",
       "    </tr>\n",
       "    <tr>\n",
       "      <th>2</th>\n",
       "      <td>faec522b-c96f-48f5-a277-d2e776367c65</td>\n",
       "      <td>3d61dfe935248776a3267aea8ce3286a</td>\n",
       "      <td>update_account</td>\n",
       "      <td>2018-01-19 03:20:01.936000+00:00</td>\n",
       "    </tr>\n",
       "    <tr>\n",
       "      <th>3</th>\n",
       "      <td>08c837bd-4ec6-4c25-8e3f-7359bde0b0e7</td>\n",
       "      <td>7088c8b02c1110fb4219275c80816895</td>\n",
       "      <td>transaction</td>\n",
       "      <td>2018-01-19 03:20:01.960000+00:00</td>\n",
       "    </tr>\n",
       "    <tr>\n",
       "      <th>4</th>\n",
       "      <td>e52c0089-b173-4d9b-9bc0-597864dc2096</td>\n",
       "      <td>0b9bf2299f69f12c455769a1151d889b</td>\n",
       "      <td>quota</td>\n",
       "      <td>2018-01-19 03:20:02.221000+00:00</td>\n",
       "    </tr>\n",
       "    <tr>\n",
       "      <th>5</th>\n",
       "      <td>5ed0d6f6-de0e-4043-b6ce-675fb0d8f829</td>\n",
       "      <td>2a5693177f9be08fd675c138b861031c</td>\n",
       "      <td>login</td>\n",
       "      <td>2018-01-19 03:20:02.293000+00:00</td>\n",
       "    </tr>\n",
       "    <tr>\n",
       "      <th>6</th>\n",
       "      <td>507b6b65-a6a3-432a-b78f-60841a827129</td>\n",
       "      <td>ddf1c8f68ef9fbd4f33586f7cdfc6d47</td>\n",
       "      <td>login</td>\n",
       "      <td>2018-01-19 03:20:02.732000+00:00</td>\n",
       "    </tr>\n",
       "    <tr>\n",
       "      <th>7</th>\n",
       "      <td>a099818c-5e18-409b-93ef-b5a2b361f153</td>\n",
       "      <td>dd29052894b18c756c3c70c5fd39e55f</td>\n",
       "      <td>login</td>\n",
       "      <td>2018-01-19 03:20:02.867000+00:00</td>\n",
       "    </tr>\n",
       "    <tr>\n",
       "      <th>8</th>\n",
       "      <td>0a98e1ba-640d-40fa-b4bd-2c91a614dd86</td>\n",
       "      <td>9651ade93412e93ee03cee299ccde9d4</td>\n",
       "      <td>quota</td>\n",
       "      <td>2018-01-19 03:20:02.929000+00:00</td>\n",
       "    </tr>\n",
       "    <tr>\n",
       "      <th>9</th>\n",
       "      <td>fc768ca8-f6fa-43db-8153-c403d3bf70c1</td>\n",
       "      <td>6d0dfe05beb0e296260357ca6d832e52</td>\n",
       "      <td>quota</td>\n",
       "      <td>2018-01-19 03:20:03.087000+00:00</td>\n",
       "    </tr>\n",
       "  </tbody>\n",
       "</table>\n",
       "</div>"
      ],
      "text/plain": [
       "                               event_id                         maxent_id  \\\n",
       "0  3dd8a8c6-83f2-4612-aaf9-ec5ef7b68ea4  e6f8939b3a2f71a7acd2c2b8985f283c   \n",
       "1  77e3e307-5dd6-4fe3-ac61-43cf36541994  ae1493bd719d479adf4e8e555901dd9a   \n",
       "2  faec522b-c96f-48f5-a277-d2e776367c65  3d61dfe935248776a3267aea8ce3286a   \n",
       "3  08c837bd-4ec6-4c25-8e3f-7359bde0b0e7  7088c8b02c1110fb4219275c80816895   \n",
       "4  e52c0089-b173-4d9b-9bc0-597864dc2096  0b9bf2299f69f12c455769a1151d889b   \n",
       "5  5ed0d6f6-de0e-4043-b6ce-675fb0d8f829  2a5693177f9be08fd675c138b861031c   \n",
       "6  507b6b65-a6a3-432a-b78f-60841a827129  ddf1c8f68ef9fbd4f33586f7cdfc6d47   \n",
       "7  a099818c-5e18-409b-93ef-b5a2b361f153  dd29052894b18c756c3c70c5fd39e55f   \n",
       "8  0a98e1ba-640d-40fa-b4bd-2c91a614dd86  9651ade93412e93ee03cee299ccde9d4   \n",
       "9  fc768ca8-f6fa-43db-8153-c403d3bf70c1  6d0dfe05beb0e296260357ca6d832e52   \n",
       "\n",
       "             type                             time  \n",
       "0  update_account 2018-01-19 03:20:00.523000+00:00  \n",
       "1           login 2018-01-19 03:20:01.765000+00:00  \n",
       "2  update_account 2018-01-19 03:20:01.936000+00:00  \n",
       "3     transaction 2018-01-19 03:20:01.960000+00:00  \n",
       "4           quota 2018-01-19 03:20:02.221000+00:00  \n",
       "5           login 2018-01-19 03:20:02.293000+00:00  \n",
       "6           login 2018-01-19 03:20:02.732000+00:00  \n",
       "7           login 2018-01-19 03:20:02.867000+00:00  \n",
       "8           quota 2018-01-19 03:20:02.929000+00:00  \n",
       "9           quota 2018-01-19 03:20:03.087000+00:00  "
      ]
     },
     "execution_count": 22,
     "metadata": {},
     "output_type": "execute_result"
    }
   ],
   "source": [
    "df1.head(10)"
   ]
  },
  {
   "cell_type": "code",
   "execution_count": 23,
   "metadata": {
    "ExecuteTime": {
     "end_time": "2018-01-23T14:17:14.069182Z",
     "start_time": "2018-01-23T14:17:14.027749Z"
    },
    "collapsed": false
   },
   "outputs": [
    {
     "data": {
      "text/plain": [
       "(199126, 4)"
      ]
     },
     "execution_count": 23,
     "metadata": {},
     "output_type": "execute_result"
    }
   ],
   "source": [
    "df1.shape"
   ]
  },
  {
   "cell_type": "code",
   "execution_count": null,
   "metadata": {
    "collapsed": false
   },
   "outputs": [],
   "source": []
  }
 ],
 "metadata": {
  "kernelspec": {
   "display_name": "Python 2",
   "language": "python",
   "name": "python2"
  },
  "language_info": {
   "codemirror_mode": {
    "name": "ipython",
    "version": 2
   },
   "file_extension": ".py",
   "mimetype": "text/x-python",
   "name": "python",
   "nbconvert_exporter": "python",
   "pygments_lexer": "ipython2",
   "version": "2.7.13"
  },
  "varInspector": {
   "cols": {
    "lenName": 16,
    "lenType": 16,
    "lenVar": 40
   },
   "kernels_config": {
    "python": {
     "delete_cmd_postfix": "",
     "delete_cmd_prefix": "del ",
     "library": "var_list.py",
     "varRefreshCmd": "print(var_dic_list())"
    },
    "r": {
     "delete_cmd_postfix": ") ",
     "delete_cmd_prefix": "rm(",
     "library": "var_list.r",
     "varRefreshCmd": "cat(var_dic_list()) "
    }
   },
   "types_to_exclude": [
    "module",
    "function",
    "builtin_function_or_method",
    "instance",
    "_Feature"
   ],
   "window_display": false
  }
 },
 "nbformat": 4,
 "nbformat_minor": 0
}
