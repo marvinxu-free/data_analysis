{
 "cells": [
  {
   "cell_type": "code",
   "execution_count": 2,
   "metadata": {
    "ExecuteTime": {
     "end_time": "2017-11-29T15:40:20.324262Z",
     "start_time": "2017-11-29T15:40:19.495952Z"
    },
    "collapsed": false
   },
   "outputs": [],
   "source": [
    "import pandas as pd"
   ]
  },
  {
   "cell_type": "code",
   "execution_count": 3,
   "metadata": {
    "ExecuteTime": {
     "end_time": "2017-11-29T15:40:20.830409Z",
     "start_time": "2017-11-29T15:40:20.377773Z"
    },
    "collapsed": false
   },
   "outputs": [],
   "source": [
    "%load_ext autoreload\n",
    "%autoreload 2\n",
    "%matplotlib inline"
   ]
  },
  {
   "cell_type": "code",
   "execution_count": 2,
   "metadata": {
    "collapsed": false
   },
   "outputs": [],
   "source": [
    "file_name = \"/Users/chaoxu/code/local-spark/Data/resolution/resolution.csv\""
   ]
  },
  {
   "cell_type": "code",
   "execution_count": 3,
   "metadata": {
    "collapsed": false
   },
   "outputs": [],
   "source": [
    "df = pd.read_csv(file_name)"
   ]
  },
  {
   "cell_type": "code",
   "execution_count": 4,
   "metadata": {
    "collapsed": false
   },
   "outputs": [
    {
     "data": {
      "text/html": [
       "<div>\n",
       "<table border=\"1\" class=\"dataframe\">\n",
       "  <thead>\n",
       "    <tr style=\"text-align: right;\">\n",
       "      <th></th>\n",
       "      <th>device_model</th>\n",
       "      <th>event_type</th>\n",
       "      <th>os</th>\n",
       "      <th>resolution</th>\n",
       "      <th>tid</th>\n",
       "    </tr>\n",
       "  </thead>\n",
       "  <tbody>\n",
       "    <tr>\n",
       "      <th>0</th>\n",
       "      <td>APPLE IPHONE</td>\n",
       "      <td>ACT</td>\n",
       "      <td>ios</td>\n",
       "      <td>414.000000,736.000000,3.000000</td>\n",
       "      <td>15cd698f13ec3769aba039bf013f2803</td>\n",
       "    </tr>\n",
       "    <tr>\n",
       "      <th>1</th>\n",
       "      <td>APPLE IPHONE</td>\n",
       "      <td>ACT</td>\n",
       "      <td>ios</td>\n",
       "      <td>414.000000,736.000000,3.000000</td>\n",
       "      <td>15cd698f13ec3769aba039bf013f2803</td>\n",
       "    </tr>\n",
       "    <tr>\n",
       "      <th>2</th>\n",
       "      <td>APPLE IPHONE</td>\n",
       "      <td>ACT</td>\n",
       "      <td>ios</td>\n",
       "      <td>375.000000,667.000000,2.000000</td>\n",
       "      <td>15cd698f13ec3769aba039bf013f2803</td>\n",
       "    </tr>\n",
       "    <tr>\n",
       "      <th>3</th>\n",
       "      <td>APPLE IPHONE</td>\n",
       "      <td>ACT</td>\n",
       "      <td>ios</td>\n",
       "      <td>375.000000,667.000000,2.000000</td>\n",
       "      <td>15cd698f13ec3769aba039bf013f2803</td>\n",
       "    </tr>\n",
       "    <tr>\n",
       "      <th>4</th>\n",
       "      <td>APPLE IPHONE</td>\n",
       "      <td>ACT</td>\n",
       "      <td>ios</td>\n",
       "      <td>375.000000,667.000000,2.000000</td>\n",
       "      <td>15cd698f13ec3769aba039bf013f2803</td>\n",
       "    </tr>\n",
       "  </tbody>\n",
       "</table>\n",
       "</div>"
      ],
      "text/plain": [
       "   device_model event_type   os                      resolution  \\\n",
       "0  APPLE IPHONE        ACT  ios  414.000000,736.000000,3.000000   \n",
       "1  APPLE IPHONE        ACT  ios  414.000000,736.000000,3.000000   \n",
       "2  APPLE IPHONE        ACT  ios  375.000000,667.000000,2.000000   \n",
       "3  APPLE IPHONE        ACT  ios  375.000000,667.000000,2.000000   \n",
       "4  APPLE IPHONE        ACT  ios  375.000000,667.000000,2.000000   \n",
       "\n",
       "                                tid  \n",
       "0  15cd698f13ec3769aba039bf013f2803  \n",
       "1  15cd698f13ec3769aba039bf013f2803  \n",
       "2  15cd698f13ec3769aba039bf013f2803  \n",
       "3  15cd698f13ec3769aba039bf013f2803  \n",
       "4  15cd698f13ec3769aba039bf013f2803  "
      ]
     },
     "execution_count": 4,
     "metadata": {},
     "output_type": "execute_result"
    }
   ],
   "source": [
    "df.head()"
   ]
  },
  {
   "cell_type": "code",
   "execution_count": 6,
   "metadata": {
    "collapsed": false
   },
   "outputs": [
    {
     "data": {
      "text/plain": [
       "375.000000,667.000000,2.000000    0.485133\n",
       "414.000000,736.000000,3.000000    0.373626\n",
       "320.000000,568.000000,2.000000    0.102780\n",
       "375.000000,667.000000,3.000000    0.029735\n",
       "320.000000,480.000000,2.000000    0.008727\n",
       "Name: resolution, dtype: float64"
      ]
     },
     "execution_count": 6,
     "metadata": {},
     "output_type": "execute_result"
    }
   ],
   "source": [
    "df.resolution.value_counts(normalize=True)"
   ]
  },
  {
   "cell_type": "code",
   "execution_count": 7,
   "metadata": {
    "collapsed": false
   },
   "outputs": [
    {
     "data": {
      "text/plain": [
       "(3094, 5)"
      ]
     },
     "execution_count": 7,
     "metadata": {},
     "output_type": "execute_result"
    }
   ],
   "source": [
    "df.shape"
   ]
  },
  {
   "cell_type": "code",
   "execution_count": 13,
   "metadata": {
    "collapsed": false
   },
   "outputs": [
    {
     "data": {
      "text/plain": [
       "<matplotlib.axes._subplots.AxesSubplot at 0x11085fe90>"
      ]
     },
     "execution_count": 13,
     "metadata": {},
     "output_type": "execute_result"
    },
    {
     "data": {
      "image/png": "[encoded data removed]",
      "text/plain": [
       "<matplotlib.figure.Figure at 0x110b413d0>"
      ]
     },
     "metadata": {},
     "output_type": "display_data"
    }
   ],
   "source": [
    "df.resolution.value_counts().plot(kind='Bar')"
   ]
  },
  {
   "cell_type": "code",
   "execution_count": 5,
   "metadata": {
    "ExecuteTime": {
     "end_time": "2017-11-29T15:40:39.273180Z",
     "start_time": "2017-11-29T15:40:39.240178Z"
    },
    "collapsed": false
   },
   "outputs": [],
   "source": [
    "file_name_1 = \"/Users/chaoxu/code/local-spark/Data/resolution/resolution_7d.csv\""
   ]
  },
  {
   "cell_type": "code",
   "execution_count": 6,
   "metadata": {
    "ExecuteTime": {
     "end_time": "2017-11-29T15:40:40.223935Z",
     "start_time": "2017-11-29T15:40:40.098807Z"
    },
    "collapsed": true
   },
   "outputs": [],
   "source": [
    "df_7d = pd.read_csv(file_name_1)"
   ]
  },
  {
   "cell_type": "code",
   "execution_count": 7,
   "metadata": {
    "ExecuteTime": {
     "end_time": "2017-11-29T15:40:54.691848Z",
     "start_time": "2017-11-29T15:40:54.631213Z"
    },
    "collapsed": false
   },
   "outputs": [
    {
     "data": {
      "text/plain": [
       "375.000000,667.000000,2.000000    0.498574\n",
       "414.000000,736.000000,3.000000    0.359222\n",
       "320.000000,568.000000,2.000000    0.103832\n",
       "375.000000,667.000000,3.000000    0.032297\n",
       "320.000000,480.000000,2.000000    0.006075\n",
       "Name: resolution, dtype: float64"
      ]
     },
     "execution_count": 7,
     "metadata": {},
     "output_type": "execute_result"
    }
   ],
   "source": [
    "df_7d.resolution.value_counts(normalize=True)"
   ]
  },
  {
   "cell_type": "code",
   "execution_count": 8,
   "metadata": {
    "ExecuteTime": {
     "end_time": "2017-11-29T15:41:04.999767Z",
     "start_time": "2017-11-29T15:41:04.969905Z"
    },
    "collapsed": false
   },
   "outputs": [
    {
     "data": {
      "text/plain": [
       "(72916, 5)"
      ]
     },
     "execution_count": 8,
     "metadata": {},
     "output_type": "execute_result"
    }
   ],
   "source": [
    "df_7d.shape"
   ]
  },
  {
   "cell_type": "code",
   "execution_count": 9,
   "metadata": {
    "ExecuteTime": {
     "end_time": "2017-11-29T15:41:19.917382Z",
     "start_time": "2017-11-29T15:41:19.579838Z"
    },
    "collapsed": false
   },
   "outputs": [
    {
     "data": {
      "text/plain": [
       "<matplotlib.axes._subplots.AxesSubplot at 0x10d22d250>"
      ]
     },
     "execution_count": 9,
     "metadata": {},
     "output_type": "execute_result"
    },
    {
     "data": {
      "image/png": "[encoded data removed]",
      "text/plain": [
       "<matplotlib.figure.Figure at 0x10d17eb10>"
      ]
     },
     "metadata": {},
     "output_type": "display_data"
    }
   ],
   "source": [
    "df_7d.resolution.value_counts().plot(kind='Bar')"
   ]
  },
  {
   "cell_type": "code",
   "execution_count": null,
   "metadata": {
    "collapsed": true
   },
   "outputs": [],
   "source": []
  }
 ],
 "metadata": {
  "kernelspec": {
   "display_name": "Python 2",
   "language": "python",
   "name": "python2"
  },
  "language_info": {
   "codemirror_mode": {
    "name": "ipython",
    "version": 2
   },
   "file_extension": ".py",
   "mimetype": "text/x-python",
   "name": "python",
   "nbconvert_exporter": "python",
   "pygments_lexer": "ipython2",
   "version": "2.7.13"
  },
  "toc": {
   "nav_menu": {},
   "number_sections": true,
   "sideBar": true,
   "skip_h1_title": false,
   "toc_cell": false,
   "toc_position": {},
   "toc_section_display": "block",
   "toc_window_display": false
  }
 },
 "nbformat": 4,
 "nbformat_minor": 0
}
