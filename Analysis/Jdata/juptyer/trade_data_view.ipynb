{
 "cells": [
  {
   "cell_type": "code",
   "execution_count": 1,
   "metadata": {
    "ExecuteTime": {
     "end_time": "2018-02-09T15:16:58.629166Z",
     "start_time": "2018-02-09T15:16:56.986548Z"
    },
    "collapsed": false
   },
   "outputs": [],
   "source": [
    "from Params.path_params import Data_path\n",
    "import pandas as pd\n",
    "import numpy as np\n",
    "import numpy as np\n",
    "import matplotlib.pylab as plt\n",
    "from sklearn.preprocessing import MinMaxScaler"
   ]
  },
  {
   "cell_type": "code",
   "execution_count": 2,
   "metadata": {
    "ExecuteTime": {
     "end_time": "2018-02-09T15:16:58.697108Z",
     "start_time": "2018-02-09T15:16:58.630985Z"
    },
    "collapsed": false
   },
   "outputs": [],
   "source": [
    "%load_ext autoreload\n",
    "%autoreload 2\n",
    "%matplotlib inline"
   ]
  },
  {
   "cell_type": "code",
   "execution_count": 3,
   "metadata": {
    "ExecuteTime": {
     "end_time": "2018-02-09T15:16:58.750681Z",
     "start_time": "2018-02-09T15:16:58.699082Z"
    },
    "collapsed": false
   },
   "outputs": [],
   "source": [
    "jdata_path = \"{0}/JData\".format(Data_path)"
   ]
  },
  {
   "cell_type": "code",
   "execution_count": 4,
   "metadata": {
    "ExecuteTime": {
     "end_time": "2018-02-09T15:16:58.818961Z",
     "start_time": "2018-02-09T15:16:58.753697Z"
    },
    "collapsed": false
   },
   "outputs": [],
   "source": [
    "login_train_file = \"{0}/t_login.csv\".format(jdata_path)\n",
    "login_test_file = \"{0}/t_login_test.csv\".format(jdata_path)"
   ]
  },
  {
   "cell_type": "code",
   "execution_count": 5,
   "metadata": {
    "ExecuteTime": {
     "end_time": "2018-02-09T15:16:58.923149Z",
     "start_time": "2018-02-09T15:16:58.824451Z"
    },
    "collapsed": false
   },
   "outputs": [],
   "source": [
    "trade_train_file = \"{0}/t_trade.csv\".format(jdata_path)\n",
    "trade_test_file = \"{0}/t_trade_test.csv\".format(jdata_path)"
   ]
  },
  {
   "cell_type": "code",
   "execution_count": 6,
   "metadata": {
    "ExecuteTime": {
     "end_time": "2018-02-09T15:16:59.437180Z",
     "start_time": "2018-02-09T15:16:58.931470Z"
    },
    "collapsed": false
   },
   "outputs": [],
   "source": [
    "trade_train = pd.read_csv(trade_train_file)"
   ]
  },
  {
   "cell_type": "code",
   "execution_count": 7,
   "metadata": {
    "ExecuteTime": {
     "end_time": "2018-02-09T15:16:59.504809Z",
     "start_time": "2018-02-09T15:16:59.439168Z"
    },
    "collapsed": false
   },
   "outputs": [
    {
     "data": {
      "text/plain": [
       "(132719, 4)"
      ]
     },
     "execution_count": 7,
     "metadata": {},
     "output_type": "execute_result"
    }
   ],
   "source": [
    "trade_train.shape"
   ]
  },
  {
   "cell_type": "code",
   "execution_count": 8,
   "metadata": {
    "ExecuteTime": {
     "end_time": "2018-02-09T15:17:47.818021Z",
     "start_time": "2018-02-09T15:17:47.750798Z"
    },
    "collapsed": false
   },
   "outputs": [
    {
     "data": {
      "text/plain": [
       "1095"
      ]
     },
     "execution_count": 8,
     "metadata": {},
     "output_type": "execute_result"
    }
   ],
   "source": [
    "trade_train.groupby('id')['rowkey'].nunique().max()"
   ]
  },
  {
   "cell_type": "code",
   "execution_count": 8,
   "metadata": {
    "ExecuteTime": {
     "end_time": "2018-01-25T18:45:35.496791Z",
     "start_time": "2018-01-25T18:45:35.390767Z"
    },
    "collapsed": false
   },
   "outputs": [
    {
     "data": {
      "text/html": [
       "<div>\n",
       "<style scoped>\n",
       "    .dataframe tbody tr th:only-of-type {\n",
       "        vertical-align: middle;\n",
       "    }\n",
       "\n",
       "    .dataframe tbody tr th {\n",
       "        vertical-align: top;\n",
       "    }\n",
       "\n",
       "    .dataframe thead th {\n",
       "        text-align: right;\n",
       "    }\n",
       "</style>\n",
       "<table border=\"1\" class=\"dataframe\">\n",
       "  <thead>\n",
       "    <tr style=\"text-align: right;\">\n",
       "      <th></th>\n",
       "      <th>rowkey</th>\n",
       "      <th>time</th>\n",
       "      <th>id</th>\n",
       "      <th>is_risk</th>\n",
       "    </tr>\n",
       "  </thead>\n",
       "  <tbody>\n",
       "    <tr>\n",
       "      <th>0</th>\n",
       "      <td>3</td>\n",
       "      <td>2015-01-01 00:00:41.0</td>\n",
       "      <td>27863</td>\n",
       "      <td>0</td>\n",
       "    </tr>\n",
       "    <tr>\n",
       "      <th>1</th>\n",
       "      <td>6</td>\n",
       "      <td>2015-01-01 00:00:46.0</td>\n",
       "      <td>115201</td>\n",
       "      <td>0</td>\n",
       "    </tr>\n",
       "    <tr>\n",
       "      <th>2</th>\n",
       "      <td>13</td>\n",
       "      <td>2015-01-01 00:01:02.0</td>\n",
       "      <td>143711</td>\n",
       "      <td>0</td>\n",
       "    </tr>\n",
       "    <tr>\n",
       "      <th>3</th>\n",
       "      <td>32</td>\n",
       "      <td>2015-01-01 00:03:00.0</td>\n",
       "      <td>172699</td>\n",
       "      <td>0</td>\n",
       "    </tr>\n",
       "    <tr>\n",
       "      <th>4</th>\n",
       "      <td>43</td>\n",
       "      <td>2015-01-01 00:03:52.0</td>\n",
       "      <td>53265</td>\n",
       "      <td>0</td>\n",
       "    </tr>\n",
       "    <tr>\n",
       "      <th>5</th>\n",
       "      <td>67</td>\n",
       "      <td>2015-01-01 00:05:51.0</td>\n",
       "      <td>18231</td>\n",
       "      <td>0</td>\n",
       "    </tr>\n",
       "    <tr>\n",
       "      <th>6</th>\n",
       "      <td>94</td>\n",
       "      <td>2015-01-01 00:10:12.0</td>\n",
       "      <td>147174</td>\n",
       "      <td>0</td>\n",
       "    </tr>\n",
       "    <tr>\n",
       "      <th>7</th>\n",
       "      <td>98</td>\n",
       "      <td>2015-01-01 00:10:48.0</td>\n",
       "      <td>141674</td>\n",
       "      <td>0</td>\n",
       "    </tr>\n",
       "    <tr>\n",
       "      <th>8</th>\n",
       "      <td>116</td>\n",
       "      <td>2015-01-01 00:13:16.0</td>\n",
       "      <td>105324</td>\n",
       "      <td>0</td>\n",
       "    </tr>\n",
       "    <tr>\n",
       "      <th>9</th>\n",
       "      <td>147</td>\n",
       "      <td>2015-01-01 00:19:07.0</td>\n",
       "      <td>168749</td>\n",
       "      <td>0</td>\n",
       "    </tr>\n",
       "  </tbody>\n",
       "</table>\n",
       "</div>"
      ],
      "text/plain": [
       "   rowkey                   time      id  is_risk\n",
       "0       3  2015-01-01 00:00:41.0   27863        0\n",
       "1       6  2015-01-01 00:00:46.0  115201        0\n",
       "2      13  2015-01-01 00:01:02.0  143711        0\n",
       "3      32  2015-01-01 00:03:00.0  172699        0\n",
       "4      43  2015-01-01 00:03:52.0   53265        0\n",
       "5      67  2015-01-01 00:05:51.0   18231        0\n",
       "6      94  2015-01-01 00:10:12.0  147174        0\n",
       "7      98  2015-01-01 00:10:48.0  141674        0\n",
       "8     116  2015-01-01 00:13:16.0  105324        0\n",
       "9     147  2015-01-01 00:19:07.0  168749        0"
      ]
     },
     "execution_count": 8,
     "metadata": {},
     "output_type": "execute_result"
    }
   ],
   "source": [
    "trade_train.head(10)"
   ]
  },
  {
   "cell_type": "code",
   "execution_count": 9,
   "metadata": {
    "ExecuteTime": {
     "end_time": "2018-01-25T18:45:35.621545Z",
     "start_time": "2018-01-25T18:45:35.500285Z"
    },
    "collapsed": false
   },
   "outputs": [
    {
     "data": {
      "text/plain": [
       "132719"
      ]
     },
     "execution_count": 9,
     "metadata": {},
     "output_type": "execute_result"
    }
   ],
   "source": [
    "trade_train.rowkey.unique().shape[0]"
   ]
  },
  {
   "cell_type": "code",
   "execution_count": 10,
   "metadata": {
    "ExecuteTime": {
     "end_time": "2018-01-25T18:45:35.724115Z",
     "start_time": "2018-01-25T18:45:35.624693Z"
    },
    "collapsed": false
   },
   "outputs": [
    {
     "data": {
      "text/plain": [
       "26044"
      ]
     },
     "execution_count": 10,
     "metadata": {},
     "output_type": "execute_result"
    }
   ],
   "source": [
    "trade_train.id.unique().shape[0]"
   ]
  },
  {
   "cell_type": "code",
   "execution_count": 11,
   "metadata": {
    "ExecuteTime": {
     "end_time": "2018-01-25T18:45:35.892806Z",
     "start_time": "2018-01-25T18:45:35.726833Z"
    },
    "collapsed": false
   },
   "outputs": [
    {
     "data": {
      "text/plain": [
       "rowkey      int64\n",
       "time       object\n",
       "id          int64\n",
       "is_risk     int64\n",
       "dtype: object"
      ]
     },
     "execution_count": 11,
     "metadata": {},
     "output_type": "execute_result"
    }
   ],
   "source": [
    "trade_train.dtypes"
   ]
  },
  {
   "cell_type": "code",
   "execution_count": 12,
   "metadata": {
    "ExecuteTime": {
     "end_time": "2018-01-25T18:45:36.062797Z",
     "start_time": "2018-01-25T18:45:35.896424Z"
    },
    "collapsed": false
   },
   "outputs": [
    {
     "data": {
      "text/html": [
       "<div>\n",
       "<style scoped>\n",
       "    .dataframe tbody tr th:only-of-type {\n",
       "        vertical-align: middle;\n",
       "    }\n",
       "\n",
       "    .dataframe tbody tr th {\n",
       "        vertical-align: top;\n",
       "    }\n",
       "\n",
       "    .dataframe thead th {\n",
       "        text-align: right;\n",
       "    }\n",
       "</style>\n",
       "<table border=\"1\" class=\"dataframe\">\n",
       "  <thead>\n",
       "    <tr style=\"text-align: right;\">\n",
       "      <th></th>\n",
       "      <th>rowkey</th>\n",
       "      <th>time</th>\n",
       "      <th>id</th>\n",
       "      <th>is_risk</th>\n",
       "    </tr>\n",
       "  </thead>\n",
       "  <tbody>\n",
       "  </tbody>\n",
       "</table>\n",
       "</div>"
      ],
      "text/plain": [
       "Empty DataFrame\n",
       "Columns: [rowkey, time, id, is_risk]\n",
       "Index: []"
      ]
     },
     "execution_count": 12,
     "metadata": {},
     "output_type": "execute_result"
    }
   ],
   "source": [
    "trade_train[trade_train.time.isnull()]"
   ]
  },
  {
   "cell_type": "code",
   "execution_count": null,
   "metadata": {
    "collapsed": false
   },
   "outputs": [],
   "source": [
    "trade_train.groupby('id').agg({'rowkey':'nunique'}).reset_index().iloc[8066]"
   ]
  },
  {
   "cell_type": "code",
   "execution_count": 23,
   "metadata": {
    "ExecuteTime": {
     "end_time": "2018-01-25T19:55:44.566990Z",
     "start_time": "2018-01-25T19:55:44.484690Z"
    },
    "collapsed": false
   },
   "outputs": [],
   "source": [
    "tf = trade_train.groupby('id').agg({'rowkey':'nunique'}).reset_index()"
   ]
  },
  {
   "cell_type": "code",
   "execution_count": 26,
   "metadata": {
    "ExecuteTime": {
     "end_time": "2018-01-25T19:57:16.192828Z",
     "start_time": "2018-01-25T19:57:16.114820Z"
    },
    "collapsed": false
   },
   "outputs": [
    {
     "data": {
      "text/html": [
       "<div>\n",
       "<style scoped>\n",
       "    .dataframe tbody tr th:only-of-type {\n",
       "        vertical-align: middle;\n",
       "    }\n",
       "\n",
       "    .dataframe tbody tr th {\n",
       "        vertical-align: top;\n",
       "    }\n",
       "\n",
       "    .dataframe thead th {\n",
       "        text-align: right;\n",
       "    }\n",
       "</style>\n",
       "<table border=\"1\" class=\"dataframe\">\n",
       "  <thead>\n",
       "    <tr style=\"text-align: right;\">\n",
       "      <th></th>\n",
       "      <th>id</th>\n",
       "      <th>rowkey</th>\n",
       "    </tr>\n",
       "  </thead>\n",
       "  <tbody>\n",
       "    <tr>\n",
       "      <th>7</th>\n",
       "      <td>41</td>\n",
       "      <td>11</td>\n",
       "    </tr>\n",
       "    <tr>\n",
       "      <th>16</th>\n",
       "      <td>122</td>\n",
       "      <td>17</td>\n",
       "    </tr>\n",
       "    <tr>\n",
       "      <th>22</th>\n",
       "      <td>180</td>\n",
       "      <td>20</td>\n",
       "    </tr>\n",
       "    <tr>\n",
       "      <th>24</th>\n",
       "      <td>228</td>\n",
       "      <td>11</td>\n",
       "    </tr>\n",
       "    <tr>\n",
       "      <th>34</th>\n",
       "      <td>305</td>\n",
       "      <td>22</td>\n",
       "    </tr>\n",
       "    <tr>\n",
       "      <th>58</th>\n",
       "      <td>464</td>\n",
       "      <td>35</td>\n",
       "    </tr>\n",
       "    <tr>\n",
       "      <th>73</th>\n",
       "      <td>551</td>\n",
       "      <td>12</td>\n",
       "    </tr>\n",
       "    <tr>\n",
       "      <th>88</th>\n",
       "      <td>669</td>\n",
       "      <td>10</td>\n",
       "    </tr>\n",
       "    <tr>\n",
       "      <th>100</th>\n",
       "      <td>756</td>\n",
       "      <td>14</td>\n",
       "    </tr>\n",
       "    <tr>\n",
       "      <th>109</th>\n",
       "      <td>812</td>\n",
       "      <td>14</td>\n",
       "    </tr>\n",
       "    <tr>\n",
       "      <th>111</th>\n",
       "      <td>825</td>\n",
       "      <td>25</td>\n",
       "    </tr>\n",
       "    <tr>\n",
       "      <th>114</th>\n",
       "      <td>861</td>\n",
       "      <td>38</td>\n",
       "    </tr>\n",
       "    <tr>\n",
       "      <th>118</th>\n",
       "      <td>913</td>\n",
       "      <td>11</td>\n",
       "    </tr>\n",
       "    <tr>\n",
       "      <th>129</th>\n",
       "      <td>1022</td>\n",
       "      <td>11</td>\n",
       "    </tr>\n",
       "    <tr>\n",
       "      <th>132</th>\n",
       "      <td>1045</td>\n",
       "      <td>22</td>\n",
       "    </tr>\n",
       "    <tr>\n",
       "      <th>152</th>\n",
       "      <td>1194</td>\n",
       "      <td>13</td>\n",
       "    </tr>\n",
       "    <tr>\n",
       "      <th>153</th>\n",
       "      <td>1195</td>\n",
       "      <td>19</td>\n",
       "    </tr>\n",
       "    <tr>\n",
       "      <th>158</th>\n",
       "      <td>1225</td>\n",
       "      <td>12</td>\n",
       "    </tr>\n",
       "    <tr>\n",
       "      <th>164</th>\n",
       "      <td>1266</td>\n",
       "      <td>19</td>\n",
       "    </tr>\n",
       "    <tr>\n",
       "      <th>172</th>\n",
       "      <td>1295</td>\n",
       "      <td>12</td>\n",
       "    </tr>\n",
       "    <tr>\n",
       "      <th>173</th>\n",
       "      <td>1297</td>\n",
       "      <td>12</td>\n",
       "    </tr>\n",
       "    <tr>\n",
       "      <th>186</th>\n",
       "      <td>1396</td>\n",
       "      <td>15</td>\n",
       "    </tr>\n",
       "    <tr>\n",
       "      <th>190</th>\n",
       "      <td>1410</td>\n",
       "      <td>39</td>\n",
       "    </tr>\n",
       "    <tr>\n",
       "      <th>217</th>\n",
       "      <td>1538</td>\n",
       "      <td>22</td>\n",
       "    </tr>\n",
       "    <tr>\n",
       "      <th>219</th>\n",
       "      <td>1543</td>\n",
       "      <td>24</td>\n",
       "    </tr>\n",
       "    <tr>\n",
       "      <th>232</th>\n",
       "      <td>1662</td>\n",
       "      <td>13</td>\n",
       "    </tr>\n",
       "    <tr>\n",
       "      <th>256</th>\n",
       "      <td>1794</td>\n",
       "      <td>16</td>\n",
       "    </tr>\n",
       "    <tr>\n",
       "      <th>305</th>\n",
       "      <td>2096</td>\n",
       "      <td>14</td>\n",
       "    </tr>\n",
       "    <tr>\n",
       "      <th>317</th>\n",
       "      <td>2183</td>\n",
       "      <td>13</td>\n",
       "    </tr>\n",
       "    <tr>\n",
       "      <th>329</th>\n",
       "      <td>2240</td>\n",
       "      <td>14</td>\n",
       "    </tr>\n",
       "    <tr>\n",
       "      <th>...</th>\n",
       "      <td>...</td>\n",
       "      <td>...</td>\n",
       "    </tr>\n",
       "    <tr>\n",
       "      <th>25812</th>\n",
       "      <td>174421</td>\n",
       "      <td>11</td>\n",
       "    </tr>\n",
       "    <tr>\n",
       "      <th>25815</th>\n",
       "      <td>174435</td>\n",
       "      <td>10</td>\n",
       "    </tr>\n",
       "    <tr>\n",
       "      <th>25822</th>\n",
       "      <td>174488</td>\n",
       "      <td>25</td>\n",
       "    </tr>\n",
       "    <tr>\n",
       "      <th>25827</th>\n",
       "      <td>174507</td>\n",
       "      <td>22</td>\n",
       "    </tr>\n",
       "    <tr>\n",
       "      <th>25834</th>\n",
       "      <td>174544</td>\n",
       "      <td>17</td>\n",
       "    </tr>\n",
       "    <tr>\n",
       "      <th>25838</th>\n",
       "      <td>174564</td>\n",
       "      <td>29</td>\n",
       "    </tr>\n",
       "    <tr>\n",
       "      <th>25847</th>\n",
       "      <td>174634</td>\n",
       "      <td>12</td>\n",
       "    </tr>\n",
       "    <tr>\n",
       "      <th>25848</th>\n",
       "      <td>174639</td>\n",
       "      <td>11</td>\n",
       "    </tr>\n",
       "    <tr>\n",
       "      <th>25850</th>\n",
       "      <td>174655</td>\n",
       "      <td>29</td>\n",
       "    </tr>\n",
       "    <tr>\n",
       "      <th>25864</th>\n",
       "      <td>174730</td>\n",
       "      <td>39</td>\n",
       "    </tr>\n",
       "    <tr>\n",
       "      <th>25865</th>\n",
       "      <td>174734</td>\n",
       "      <td>10</td>\n",
       "    </tr>\n",
       "    <tr>\n",
       "      <th>25866</th>\n",
       "      <td>174737</td>\n",
       "      <td>30</td>\n",
       "    </tr>\n",
       "    <tr>\n",
       "      <th>25871</th>\n",
       "      <td>174767</td>\n",
       "      <td>11</td>\n",
       "    </tr>\n",
       "    <tr>\n",
       "      <th>25875</th>\n",
       "      <td>174809</td>\n",
       "      <td>29</td>\n",
       "    </tr>\n",
       "    <tr>\n",
       "      <th>25880</th>\n",
       "      <td>174842</td>\n",
       "      <td>18</td>\n",
       "    </tr>\n",
       "    <tr>\n",
       "      <th>25890</th>\n",
       "      <td>174894</td>\n",
       "      <td>11</td>\n",
       "    </tr>\n",
       "    <tr>\n",
       "      <th>25892</th>\n",
       "      <td>174909</td>\n",
       "      <td>32</td>\n",
       "    </tr>\n",
       "    <tr>\n",
       "      <th>25900</th>\n",
       "      <td>174971</td>\n",
       "      <td>26</td>\n",
       "    </tr>\n",
       "    <tr>\n",
       "      <th>25915</th>\n",
       "      <td>175053</td>\n",
       "      <td>10</td>\n",
       "    </tr>\n",
       "    <tr>\n",
       "      <th>25922</th>\n",
       "      <td>175134</td>\n",
       "      <td>11</td>\n",
       "    </tr>\n",
       "    <tr>\n",
       "      <th>25952</th>\n",
       "      <td>175286</td>\n",
       "      <td>10</td>\n",
       "    </tr>\n",
       "    <tr>\n",
       "      <th>25962</th>\n",
       "      <td>175337</td>\n",
       "      <td>14</td>\n",
       "    </tr>\n",
       "    <tr>\n",
       "      <th>25963</th>\n",
       "      <td>175338</td>\n",
       "      <td>30</td>\n",
       "    </tr>\n",
       "    <tr>\n",
       "      <th>25964</th>\n",
       "      <td>175352</td>\n",
       "      <td>10</td>\n",
       "    </tr>\n",
       "    <tr>\n",
       "      <th>25980</th>\n",
       "      <td>175471</td>\n",
       "      <td>13</td>\n",
       "    </tr>\n",
       "    <tr>\n",
       "      <th>25989</th>\n",
       "      <td>175546</td>\n",
       "      <td>18</td>\n",
       "    </tr>\n",
       "    <tr>\n",
       "      <th>26012</th>\n",
       "      <td>175716</td>\n",
       "      <td>33</td>\n",
       "    </tr>\n",
       "    <tr>\n",
       "      <th>26019</th>\n",
       "      <td>175766</td>\n",
       "      <td>21</td>\n",
       "    </tr>\n",
       "    <tr>\n",
       "      <th>26034</th>\n",
       "      <td>175936</td>\n",
       "      <td>15</td>\n",
       "    </tr>\n",
       "    <tr>\n",
       "      <th>26041</th>\n",
       "      <td>175970</td>\n",
       "      <td>20</td>\n",
       "    </tr>\n",
       "  </tbody>\n",
       "</table>\n",
       "<p>3194 rows × 2 columns</p>\n",
       "</div>"
      ],
      "text/plain": [
       "           id  rowkey\n",
       "7          41      11\n",
       "16        122      17\n",
       "22        180      20\n",
       "24        228      11\n",
       "34        305      22\n",
       "58        464      35\n",
       "73        551      12\n",
       "88        669      10\n",
       "100       756      14\n",
       "109       812      14\n",
       "111       825      25\n",
       "114       861      38\n",
       "118       913      11\n",
       "129      1022      11\n",
       "132      1045      22\n",
       "152      1194      13\n",
       "153      1195      19\n",
       "158      1225      12\n",
       "164      1266      19\n",
       "172      1295      12\n",
       "173      1297      12\n",
       "186      1396      15\n",
       "190      1410      39\n",
       "217      1538      22\n",
       "219      1543      24\n",
       "232      1662      13\n",
       "256      1794      16\n",
       "305      2096      14\n",
       "317      2183      13\n",
       "329      2240      14\n",
       "...       ...     ...\n",
       "25812  174421      11\n",
       "25815  174435      10\n",
       "25822  174488      25\n",
       "25827  174507      22\n",
       "25834  174544      17\n",
       "25838  174564      29\n",
       "25847  174634      12\n",
       "25848  174639      11\n",
       "25850  174655      29\n",
       "25864  174730      39\n",
       "25865  174734      10\n",
       "25866  174737      30\n",
       "25871  174767      11\n",
       "25875  174809      29\n",
       "25880  174842      18\n",
       "25890  174894      11\n",
       "25892  174909      32\n",
       "25900  174971      26\n",
       "25915  175053      10\n",
       "25922  175134      11\n",
       "25952  175286      10\n",
       "25962  175337      14\n",
       "25963  175338      30\n",
       "25964  175352      10\n",
       "25980  175471      13\n",
       "25989  175546      18\n",
       "26012  175716      33\n",
       "26019  175766      21\n",
       "26034  175936      15\n",
       "26041  175970      20\n",
       "\n",
       "[3194 rows x 2 columns]"
      ]
     },
     "execution_count": 26,
     "metadata": {},
     "output_type": "execute_result"
    }
   ],
   "source": [
    "tf.loc[tf.rowkey >= 10]"
   ]
  },
  {
   "cell_type": "code",
   "execution_count": 13,
   "metadata": {
    "ExecuteTime": {
     "end_time": "2018-01-18T14:40:50.088682Z",
     "start_time": "2018-01-18T14:40:49.377499Z"
    },
    "collapsed": false,
    "run_control": {
     "marked": true
    }
   },
   "outputs": [],
   "source": [
    "trade_train['time'] =pd.to_datetime(trade_train['time'], utc=True)"
   ]
  },
  {
   "cell_type": "code",
   "execution_count": 46,
   "metadata": {
    "ExecuteTime": {
     "end_time": "2018-01-18T17:52:59.323069Z",
     "start_time": "2018-01-18T17:52:59.279258Z"
    },
    "collapsed": false
   },
   "outputs": [
    {
     "data": {
      "text/plain": [
       "0    0.972551\n",
       "1    0.027449\n",
       "Name: is_risk, dtype: float64"
      ]
     },
     "execution_count": 46,
     "metadata": {},
     "output_type": "execute_result"
    }
   ],
   "source": [
    "trade_train.is_risk.value_counts(normalize=True)"
   ]
  },
  {
   "cell_type": "code",
   "execution_count": 45,
   "metadata": {
    "ExecuteTime": {
     "end_time": "2018-01-18T17:52:28.792452Z",
     "start_time": "2018-01-18T17:52:28.192852Z"
    },
    "collapsed": false
   },
   "outputs": [
    {
     "data": {
      "text/plain": [
       "<matplotlib.axes._subplots.AxesSubplot at 0x10cafded0>"
      ]
     },
     "execution_count": 45,
     "metadata": {},
     "output_type": "execute_result"
    },
    {
     "data": {
      "image/png": "[encoded data removed]",
      "text/plain": [
       "<matplotlib.figure.Figure at 0x10bc695d0>"
      ]
     },
     "metadata": {},
     "output_type": "display_data"
    }
   ],
   "source": [
    "trade_train.is_risk.value_counts(normalize=True).plot(kind='bar')"
   ]
  },
  {
   "cell_type": "code",
   "execution_count": 14,
   "metadata": {
    "ExecuteTime": {
     "end_time": "2018-01-18T14:40:51.219504Z",
     "start_time": "2018-01-18T14:40:50.097150Z"
    },
    "collapsed": false
   },
   "outputs": [
    {
     "name": "stderr",
     "output_type": "stream",
     "text": [
      "/Users/chaoxu/.pyenv/versions/anaconda2-4.3.1/lib/python2.7/site-packages/ipykernel/__main__.py:1: FutureWarning: pd.TimeGrouper is deprecated and will be removed; Please use pd.Grouper(freq=...)\n",
      "  if __name__ == '__main__':\n"
     ]
    }
   ],
   "source": [
    "groups = [pd.TimeGrouper('1D')]"
   ]
  },
  {
   "cell_type": "code",
   "execution_count": 15,
   "metadata": {
    "ExecuteTime": {
     "end_time": "2018-01-18T14:40:53.689562Z",
     "start_time": "2018-01-18T14:40:51.329741Z"
    },
    "collapsed": false
   },
   "outputs": [],
   "source": [
    "df = trade_train.set_index('time')"
   ]
  },
  {
   "cell_type": "code",
   "execution_count": 16,
   "metadata": {
    "ExecuteTime": {
     "end_time": "2018-01-18T14:40:56.114287Z",
     "start_time": "2018-01-18T14:40:53.697171Z"
    },
    "collapsed": false
   },
   "outputs": [],
   "source": [
    "df_g = df.groupby(groups).agg({'id':'nunique','rowkey':'nunique'})"
   ]
  },
  {
   "cell_type": "code",
   "execution_count": 17,
   "metadata": {
    "ExecuteTime": {
     "end_time": "2018-01-18T14:40:56.701306Z",
     "start_time": "2018-01-18T14:40:56.118730Z"
    },
    "collapsed": false
   },
   "outputs": [
    {
     "data": {
      "text/html": [
       "<div>\n",
       "<style scoped>\n",
       "    .dataframe tbody tr th:only-of-type {\n",
       "        vertical-align: middle;\n",
       "    }\n",
       "\n",
       "    .dataframe tbody tr th {\n",
       "        vertical-align: top;\n",
       "    }\n",
       "\n",
       "    .dataframe thead th {\n",
       "        text-align: right;\n",
       "    }\n",
       "</style>\n",
       "<table border=\"1\" class=\"dataframe\">\n",
       "  <thead>\n",
       "    <tr style=\"text-align: right;\">\n",
       "      <th></th>\n",
       "      <th>id</th>\n",
       "      <th>rowkey</th>\n",
       "    </tr>\n",
       "    <tr>\n",
       "      <th>time</th>\n",
       "      <th></th>\n",
       "      <th></th>\n",
       "    </tr>\n",
       "  </thead>\n",
       "  <tbody>\n",
       "    <tr>\n",
       "      <th>2015-01-01 00:00:00+00:00</th>\n",
       "      <td>550</td>\n",
       "      <td>810</td>\n",
       "    </tr>\n",
       "    <tr>\n",
       "      <th>2015-01-02 00:00:00+00:00</th>\n",
       "      <td>548</td>\n",
       "      <td>818</td>\n",
       "    </tr>\n",
       "    <tr>\n",
       "      <th>2015-01-03 00:00:00+00:00</th>\n",
       "      <td>593</td>\n",
       "      <td>818</td>\n",
       "    </tr>\n",
       "    <tr>\n",
       "      <th>2015-01-04 00:00:00+00:00</th>\n",
       "      <td>660</td>\n",
       "      <td>920</td>\n",
       "    </tr>\n",
       "    <tr>\n",
       "      <th>2015-01-05 00:00:00+00:00</th>\n",
       "      <td>609</td>\n",
       "      <td>928</td>\n",
       "    </tr>\n",
       "  </tbody>\n",
       "</table>\n",
       "</div>"
      ],
      "text/plain": [
       "                            id  rowkey\n",
       "time                                  \n",
       "2015-01-01 00:00:00+00:00  550     810\n",
       "2015-01-02 00:00:00+00:00  548     818\n",
       "2015-01-03 00:00:00+00:00  593     818\n",
       "2015-01-04 00:00:00+00:00  660     920\n",
       "2015-01-05 00:00:00+00:00  609     928"
      ]
     },
     "execution_count": 17,
     "metadata": {},
     "output_type": "execute_result"
    }
   ],
   "source": [
    "df_g.head()"
   ]
  },
  {
   "cell_type": "code",
   "execution_count": 18,
   "metadata": {
    "ExecuteTime": {
     "end_time": "2018-01-18T14:41:00.093646Z",
     "start_time": "2018-01-18T14:40:56.712086Z"
    },
    "collapsed": false
   },
   "outputs": [
    {
     "data": {
      "text/plain": [
       "<matplotlib.axes._subplots.AxesSubplot at 0x10b786e50>"
      ]
     },
     "execution_count": 18,
     "metadata": {},
     "output_type": "execute_result"
    },
    {
     "data": {
      "image/png": "[encoded data removed]",
      "text/plain": [
       "<matplotlib.figure.Figure at 0x109f9ab90>"
      ]
     },
     "metadata": {},
     "output_type": "display_data"
    }
   ],
   "source": [
    "df_g.plot()"
   ]
  },
  {
   "cell_type": "markdown",
   "metadata": {
    "ExecuteTime": {
     "end_time": "2018-01-18T14:04:07.576271Z",
     "start_time": "2018-01-18T14:04:07.409001Z"
    }
   },
   "source": [
    "观测一下测试数据集上的周期性"
   ]
  },
  {
   "cell_type": "code",
   "execution_count": 19,
   "metadata": {
    "ExecuteTime": {
     "end_time": "2018-01-18T14:41:00.905339Z",
     "start_time": "2018-01-18T14:41:00.229906Z"
    },
    "collapsed": false
   },
   "outputs": [],
   "source": [
    "trade_test = pd.read_csv(trade_test_file)"
   ]
  },
  {
   "cell_type": "code",
   "execution_count": 20,
   "metadata": {
    "ExecuteTime": {
     "end_time": "2018-01-18T14:41:01.467624Z",
     "start_time": "2018-01-18T14:41:00.910275Z"
    },
    "collapsed": false
   },
   "outputs": [
    {
     "data": {
      "text/plain": [
       "(17875, 3)"
      ]
     },
     "execution_count": 20,
     "metadata": {},
     "output_type": "execute_result"
    }
   ],
   "source": [
    "trade_test.shape"
   ]
  },
  {
   "cell_type": "code",
   "execution_count": 21,
   "metadata": {
    "ExecuteTime": {
     "end_time": "2018-01-18T14:41:01.990488Z",
     "start_time": "2018-01-18T14:41:01.470935Z"
    },
    "collapsed": false
   },
   "outputs": [
    {
     "data": {
      "text/plain": [
       "Index([], dtype='object')"
      ]
     },
     "execution_count": 21,
     "metadata": {},
     "output_type": "execute_result"
    }
   ],
   "source": [
    "trade_test.columns[trade_test.isnull().any()]"
   ]
  },
  {
   "cell_type": "code",
   "execution_count": 22,
   "metadata": {
    "ExecuteTime": {
     "end_time": "2018-01-18T14:41:02.457803Z",
     "start_time": "2018-01-18T14:41:01.999806Z"
    },
    "collapsed": false
   },
   "outputs": [
    {
     "data": {
      "text/plain": [
       "17875"
      ]
     },
     "execution_count": 22,
     "metadata": {},
     "output_type": "execute_result"
    }
   ],
   "source": [
    "trade_test.rowkey.unique().shape[0]"
   ]
  },
  {
   "cell_type": "code",
   "execution_count": 23,
   "metadata": {
    "ExecuteTime": {
     "end_time": "2018-01-18T14:41:02.805036Z",
     "start_time": "2018-01-18T14:41:02.585860Z"
    },
    "collapsed": false
   },
   "outputs": [
    {
     "data": {
      "text/plain": [
       "7272"
      ]
     },
     "execution_count": 23,
     "metadata": {},
     "output_type": "execute_result"
    }
   ],
   "source": [
    "trade_test.id.unique().shape[0]"
   ]
  },
  {
   "cell_type": "code",
   "execution_count": 24,
   "metadata": {
    "ExecuteTime": {
     "end_time": "2018-01-18T14:41:03.067066Z",
     "start_time": "2018-01-18T14:41:02.810723Z"
    },
    "collapsed": false
   },
   "outputs": [],
   "source": [
    "trade_test['time'] =pd.to_datetime(trade_test['time'], utc=True)"
   ]
  },
  {
   "cell_type": "code",
   "execution_count": 25,
   "metadata": {
    "ExecuteTime": {
     "end_time": "2018-01-18T14:41:03.621859Z",
     "start_time": "2018-01-18T14:41:03.079301Z"
    },
    "collapsed": false
   },
   "outputs": [
    {
     "data": {
      "text/html": [
       "<div>\n",
       "<style scoped>\n",
       "    .dataframe tbody tr th:only-of-type {\n",
       "        vertical-align: middle;\n",
       "    }\n",
       "\n",
       "    .dataframe tbody tr th {\n",
       "        vertical-align: top;\n",
       "    }\n",
       "\n",
       "    .dataframe thead th {\n",
       "        text-align: right;\n",
       "    }\n",
       "</style>\n",
       "<table border=\"1\" class=\"dataframe\">\n",
       "  <thead>\n",
       "    <tr style=\"text-align: right;\">\n",
       "      <th></th>\n",
       "      <th>rowkey</th>\n",
       "      <th>time</th>\n",
       "      <th>id</th>\n",
       "    </tr>\n",
       "  </thead>\n",
       "  <tbody>\n",
       "    <tr>\n",
       "      <th>0</th>\n",
       "      <td>24</td>\n",
       "      <td>2015-07-01 00:04:41+00:00</td>\n",
       "      <td>98066</td>\n",
       "    </tr>\n",
       "    <tr>\n",
       "      <th>1</th>\n",
       "      <td>37</td>\n",
       "      <td>2015-07-01 00:12:45+00:00</td>\n",
       "      <td>151688</td>\n",
       "    </tr>\n",
       "    <tr>\n",
       "      <th>2</th>\n",
       "      <td>45</td>\n",
       "      <td>2015-07-01 00:15:12+00:00</td>\n",
       "      <td>86468</td>\n",
       "    </tr>\n",
       "    <tr>\n",
       "      <th>3</th>\n",
       "      <td>46</td>\n",
       "      <td>2015-07-01 00:15:24+00:00</td>\n",
       "      <td>86468</td>\n",
       "    </tr>\n",
       "    <tr>\n",
       "      <th>4</th>\n",
       "      <td>48</td>\n",
       "      <td>2015-07-01 00:15:58+00:00</td>\n",
       "      <td>82720</td>\n",
       "    </tr>\n",
       "    <tr>\n",
       "      <th>5</th>\n",
       "      <td>49</td>\n",
       "      <td>2015-07-01 00:15:59+00:00</td>\n",
       "      <td>86468</td>\n",
       "    </tr>\n",
       "    <tr>\n",
       "      <th>6</th>\n",
       "      <td>53</td>\n",
       "      <td>2015-07-01 00:17:12+00:00</td>\n",
       "      <td>7738</td>\n",
       "    </tr>\n",
       "    <tr>\n",
       "      <th>7</th>\n",
       "      <td>54</td>\n",
       "      <td>2015-07-01 00:18:30+00:00</td>\n",
       "      <td>150401</td>\n",
       "    </tr>\n",
       "    <tr>\n",
       "      <th>8</th>\n",
       "      <td>57</td>\n",
       "      <td>2015-07-01 00:19:28+00:00</td>\n",
       "      <td>38756</td>\n",
       "    </tr>\n",
       "    <tr>\n",
       "      <th>9</th>\n",
       "      <td>65</td>\n",
       "      <td>2015-07-01 00:24:52+00:00</td>\n",
       "      <td>150931</td>\n",
       "    </tr>\n",
       "  </tbody>\n",
       "</table>\n",
       "</div>"
      ],
      "text/plain": [
       "   rowkey                      time      id\n",
       "0      24 2015-07-01 00:04:41+00:00   98066\n",
       "1      37 2015-07-01 00:12:45+00:00  151688\n",
       "2      45 2015-07-01 00:15:12+00:00   86468\n",
       "3      46 2015-07-01 00:15:24+00:00   86468\n",
       "4      48 2015-07-01 00:15:58+00:00   82720\n",
       "5      49 2015-07-01 00:15:59+00:00   86468\n",
       "6      53 2015-07-01 00:17:12+00:00    7738\n",
       "7      54 2015-07-01 00:18:30+00:00  150401\n",
       "8      57 2015-07-01 00:19:28+00:00   38756\n",
       "9      65 2015-07-01 00:24:52+00:00  150931"
      ]
     },
     "execution_count": 25,
     "metadata": {},
     "output_type": "execute_result"
    }
   ],
   "source": [
    "trade_test.head(10)"
   ]
  },
  {
   "cell_type": "code",
   "execution_count": 26,
   "metadata": {
    "ExecuteTime": {
     "end_time": "2018-01-18T14:41:04.164591Z",
     "start_time": "2018-01-18T14:41:03.637588Z"
    },
    "collapsed": false
   },
   "outputs": [],
   "source": [
    "df_t = trade_test.set_index('time')"
   ]
  },
  {
   "cell_type": "code",
   "execution_count": 27,
   "metadata": {
    "ExecuteTime": {
     "end_time": "2018-01-18T14:41:05.131352Z",
     "start_time": "2018-01-18T14:41:04.173070Z"
    },
    "collapsed": false
   },
   "outputs": [
    {
     "data": {
      "text/html": [
       "<div>\n",
       "<style scoped>\n",
       "    .dataframe tbody tr th:only-of-type {\n",
       "        vertical-align: middle;\n",
       "    }\n",
       "\n",
       "    .dataframe tbody tr th {\n",
       "        vertical-align: top;\n",
       "    }\n",
       "\n",
       "    .dataframe thead th {\n",
       "        text-align: right;\n",
       "    }\n",
       "</style>\n",
       "<table border=\"1\" class=\"dataframe\">\n",
       "  <thead>\n",
       "    <tr style=\"text-align: right;\">\n",
       "      <th></th>\n",
       "      <th>rowkey</th>\n",
       "      <th>id</th>\n",
       "    </tr>\n",
       "    <tr>\n",
       "      <th>time</th>\n",
       "      <th></th>\n",
       "      <th></th>\n",
       "    </tr>\n",
       "  </thead>\n",
       "  <tbody>\n",
       "    <tr>\n",
       "      <th>2015-07-01 00:04:41+00:00</th>\n",
       "      <td>24</td>\n",
       "      <td>98066</td>\n",
       "    </tr>\n",
       "    <tr>\n",
       "      <th>2015-07-01 00:12:45+00:00</th>\n",
       "      <td>37</td>\n",
       "      <td>151688</td>\n",
       "    </tr>\n",
       "    <tr>\n",
       "      <th>2015-07-01 00:15:12+00:00</th>\n",
       "      <td>45</td>\n",
       "      <td>86468</td>\n",
       "    </tr>\n",
       "    <tr>\n",
       "      <th>2015-07-01 00:15:24+00:00</th>\n",
       "      <td>46</td>\n",
       "      <td>86468</td>\n",
       "    </tr>\n",
       "    <tr>\n",
       "      <th>2015-07-01 00:15:58+00:00</th>\n",
       "      <td>48</td>\n",
       "      <td>82720</td>\n",
       "    </tr>\n",
       "    <tr>\n",
       "      <th>2015-07-01 00:15:59+00:00</th>\n",
       "      <td>49</td>\n",
       "      <td>86468</td>\n",
       "    </tr>\n",
       "    <tr>\n",
       "      <th>2015-07-01 00:17:12+00:00</th>\n",
       "      <td>53</td>\n",
       "      <td>7738</td>\n",
       "    </tr>\n",
       "    <tr>\n",
       "      <th>2015-07-01 00:18:30+00:00</th>\n",
       "      <td>54</td>\n",
       "      <td>150401</td>\n",
       "    </tr>\n",
       "    <tr>\n",
       "      <th>2015-07-01 00:19:28+00:00</th>\n",
       "      <td>57</td>\n",
       "      <td>38756</td>\n",
       "    </tr>\n",
       "    <tr>\n",
       "      <th>2015-07-01 00:24:52+00:00</th>\n",
       "      <td>65</td>\n",
       "      <td>150931</td>\n",
       "    </tr>\n",
       "    <tr>\n",
       "      <th>2015-07-01 00:25:26+00:00</th>\n",
       "      <td>66</td>\n",
       "      <td>150931</td>\n",
       "    </tr>\n",
       "    <tr>\n",
       "      <th>2015-07-01 00:30:57+00:00</th>\n",
       "      <td>74</td>\n",
       "      <td>68343</td>\n",
       "    </tr>\n",
       "    <tr>\n",
       "      <th>2015-07-01 00:43:34+00:00</th>\n",
       "      <td>102</td>\n",
       "      <td>39976</td>\n",
       "    </tr>\n",
       "    <tr>\n",
       "      <th>2015-07-01 00:58:46+00:00</th>\n",
       "      <td>121</td>\n",
       "      <td>110796</td>\n",
       "    </tr>\n",
       "    <tr>\n",
       "      <th>2015-07-01 01:01:22+00:00</th>\n",
       "      <td>126</td>\n",
       "      <td>169284</td>\n",
       "    </tr>\n",
       "    <tr>\n",
       "      <th>2015-07-01 01:01:54+00:00</th>\n",
       "      <td>127</td>\n",
       "      <td>121419</td>\n",
       "    </tr>\n",
       "    <tr>\n",
       "      <th>2015-07-01 01:10:43+00:00</th>\n",
       "      <td>141</td>\n",
       "      <td>147851</td>\n",
       "    </tr>\n",
       "    <tr>\n",
       "      <th>2015-07-01 01:42:33+00:00</th>\n",
       "      <td>162</td>\n",
       "      <td>45184</td>\n",
       "    </tr>\n",
       "    <tr>\n",
       "      <th>2015-07-01 01:42:34+00:00</th>\n",
       "      <td>163</td>\n",
       "      <td>45184</td>\n",
       "    </tr>\n",
       "    <tr>\n",
       "      <th>2015-07-01 02:13:54+00:00</th>\n",
       "      <td>194</td>\n",
       "      <td>130491</td>\n",
       "    </tr>\n",
       "    <tr>\n",
       "      <th>2015-07-01 03:13:48+00:00</th>\n",
       "      <td>216</td>\n",
       "      <td>58551</td>\n",
       "    </tr>\n",
       "    <tr>\n",
       "      <th>2015-07-01 03:15:44+00:00</th>\n",
       "      <td>217</td>\n",
       "      <td>145665</td>\n",
       "    </tr>\n",
       "    <tr>\n",
       "      <th>2015-07-01 04:39:42+00:00</th>\n",
       "      <td>234</td>\n",
       "      <td>149778</td>\n",
       "    </tr>\n",
       "    <tr>\n",
       "      <th>2015-07-01 05:28:46+00:00</th>\n",
       "      <td>250</td>\n",
       "      <td>18788</td>\n",
       "    </tr>\n",
       "    <tr>\n",
       "      <th>2015-07-01 05:30:11+00:00</th>\n",
       "      <td>251</td>\n",
       "      <td>37279</td>\n",
       "    </tr>\n",
       "    <tr>\n",
       "      <th>2015-07-01 05:35:34+00:00</th>\n",
       "      <td>255</td>\n",
       "      <td>37279</td>\n",
       "    </tr>\n",
       "    <tr>\n",
       "      <th>2015-07-01 05:36:01+00:00</th>\n",
       "      <td>256</td>\n",
       "      <td>37279</td>\n",
       "    </tr>\n",
       "    <tr>\n",
       "      <th>2015-07-01 06:00:48+00:00</th>\n",
       "      <td>262</td>\n",
       "      <td>142483</td>\n",
       "    </tr>\n",
       "    <tr>\n",
       "      <th>2015-07-01 06:37:46+00:00</th>\n",
       "      <td>306</td>\n",
       "      <td>54793</td>\n",
       "    </tr>\n",
       "    <tr>\n",
       "      <th>2015-07-01 06:41:16+00:00</th>\n",
       "      <td>311</td>\n",
       "      <td>70439</td>\n",
       "    </tr>\n",
       "    <tr>\n",
       "      <th>...</th>\n",
       "      <td>...</td>\n",
       "      <td>...</td>\n",
       "    </tr>\n",
       "    <tr>\n",
       "      <th>2015-07-31 22:55:04+00:00</th>\n",
       "      <td>175943</td>\n",
       "      <td>40068</td>\n",
       "    </tr>\n",
       "    <tr>\n",
       "      <th>2015-07-31 22:59:48+00:00</th>\n",
       "      <td>175980</td>\n",
       "      <td>20713</td>\n",
       "    </tr>\n",
       "    <tr>\n",
       "      <th>2015-07-31 23:00:11+00:00</th>\n",
       "      <td>175983</td>\n",
       "      <td>63388</td>\n",
       "    </tr>\n",
       "    <tr>\n",
       "      <th>2015-07-31 23:00:22+00:00</th>\n",
       "      <td>175985</td>\n",
       "      <td>159008</td>\n",
       "    </tr>\n",
       "    <tr>\n",
       "      <th>2015-07-31 23:02:05+00:00</th>\n",
       "      <td>176002</td>\n",
       "      <td>73272</td>\n",
       "    </tr>\n",
       "    <tr>\n",
       "      <th>2015-07-31 23:03:12+00:00</th>\n",
       "      <td>176011</td>\n",
       "      <td>49464</td>\n",
       "    </tr>\n",
       "    <tr>\n",
       "      <th>2015-07-31 23:03:16+00:00</th>\n",
       "      <td>176012</td>\n",
       "      <td>85583</td>\n",
       "    </tr>\n",
       "    <tr>\n",
       "      <th>2015-07-31 23:03:52+00:00</th>\n",
       "      <td>176020</td>\n",
       "      <td>138192</td>\n",
       "    </tr>\n",
       "    <tr>\n",
       "      <th>2015-07-31 23:05:13+00:00</th>\n",
       "      <td>176029</td>\n",
       "      <td>171105</td>\n",
       "    </tr>\n",
       "    <tr>\n",
       "      <th>2015-07-31 23:05:28+00:00</th>\n",
       "      <td>176031</td>\n",
       "      <td>1086</td>\n",
       "    </tr>\n",
       "    <tr>\n",
       "      <th>2015-07-31 23:07:05+00:00</th>\n",
       "      <td>176044</td>\n",
       "      <td>141953</td>\n",
       "    </tr>\n",
       "    <tr>\n",
       "      <th>2015-07-31 23:09:07+00:00</th>\n",
       "      <td>176057</td>\n",
       "      <td>145704</td>\n",
       "    </tr>\n",
       "    <tr>\n",
       "      <th>2015-07-31 23:11:13+00:00</th>\n",
       "      <td>176070</td>\n",
       "      <td>173862</td>\n",
       "    </tr>\n",
       "    <tr>\n",
       "      <th>2015-07-31 23:12:22+00:00</th>\n",
       "      <td>176073</td>\n",
       "      <td>165831</td>\n",
       "    </tr>\n",
       "    <tr>\n",
       "      <th>2015-07-31 23:14:47+00:00</th>\n",
       "      <td>176087</td>\n",
       "      <td>22563</td>\n",
       "    </tr>\n",
       "    <tr>\n",
       "      <th>2015-07-31 23:15:05+00:00</th>\n",
       "      <td>176091</td>\n",
       "      <td>55776</td>\n",
       "    </tr>\n",
       "    <tr>\n",
       "      <th>2015-07-31 23:15:20+00:00</th>\n",
       "      <td>176093</td>\n",
       "      <td>84290</td>\n",
       "    </tr>\n",
       "    <tr>\n",
       "      <th>2015-07-31 23:16:39+00:00</th>\n",
       "      <td>176100</td>\n",
       "      <td>18097</td>\n",
       "    </tr>\n",
       "    <tr>\n",
       "      <th>2015-07-31 23:18:22+00:00</th>\n",
       "      <td>176106</td>\n",
       "      <td>36795</td>\n",
       "    </tr>\n",
       "    <tr>\n",
       "      <th>2015-07-31 23:18:54+00:00</th>\n",
       "      <td>176109</td>\n",
       "      <td>31696</td>\n",
       "    </tr>\n",
       "    <tr>\n",
       "      <th>2015-07-31 23:19:46+00:00</th>\n",
       "      <td>176116</td>\n",
       "      <td>18097</td>\n",
       "    </tr>\n",
       "    <tr>\n",
       "      <th>2015-07-31 23:24:31+00:00</th>\n",
       "      <td>176149</td>\n",
       "      <td>23927</td>\n",
       "    </tr>\n",
       "    <tr>\n",
       "      <th>2015-07-31 23:25:23+00:00</th>\n",
       "      <td>176154</td>\n",
       "      <td>91163</td>\n",
       "    </tr>\n",
       "    <tr>\n",
       "      <th>2015-07-31 23:29:19+00:00</th>\n",
       "      <td>176176</td>\n",
       "      <td>92356</td>\n",
       "    </tr>\n",
       "    <tr>\n",
       "      <th>2015-07-31 23:32:40+00:00</th>\n",
       "      <td>176190</td>\n",
       "      <td>157816</td>\n",
       "    </tr>\n",
       "    <tr>\n",
       "      <th>2015-07-31 23:39:57+00:00</th>\n",
       "      <td>176212</td>\n",
       "      <td>13337</td>\n",
       "    </tr>\n",
       "    <tr>\n",
       "      <th>2015-07-31 23:44:21+00:00</th>\n",
       "      <td>176231</td>\n",
       "      <td>116533</td>\n",
       "    </tr>\n",
       "    <tr>\n",
       "      <th>2015-07-31 23:46:52+00:00</th>\n",
       "      <td>176243</td>\n",
       "      <td>48369</td>\n",
       "    </tr>\n",
       "    <tr>\n",
       "      <th>2015-07-31 23:55:58+00:00</th>\n",
       "      <td>176271</td>\n",
       "      <td>7677</td>\n",
       "    </tr>\n",
       "    <tr>\n",
       "      <th>2015-07-31 23:58:30+00:00</th>\n",
       "      <td>176288</td>\n",
       "      <td>135870</td>\n",
       "    </tr>\n",
       "  </tbody>\n",
       "</table>\n",
       "<p>17875 rows × 2 columns</p>\n",
       "</div>"
      ],
      "text/plain": [
       "                           rowkey      id\n",
       "time                                     \n",
       "2015-07-01 00:04:41+00:00      24   98066\n",
       "2015-07-01 00:12:45+00:00      37  151688\n",
       "2015-07-01 00:15:12+00:00      45   86468\n",
       "2015-07-01 00:15:24+00:00      46   86468\n",
       "2015-07-01 00:15:58+00:00      48   82720\n",
       "2015-07-01 00:15:59+00:00      49   86468\n",
       "2015-07-01 00:17:12+00:00      53    7738\n",
       "2015-07-01 00:18:30+00:00      54  150401\n",
       "2015-07-01 00:19:28+00:00      57   38756\n",
       "2015-07-01 00:24:52+00:00      65  150931\n",
       "2015-07-01 00:25:26+00:00      66  150931\n",
       "2015-07-01 00:30:57+00:00      74   68343\n",
       "2015-07-01 00:43:34+00:00     102   39976\n",
       "2015-07-01 00:58:46+00:00     121  110796\n",
       "2015-07-01 01:01:22+00:00     126  169284\n",
       "2015-07-01 01:01:54+00:00     127  121419\n",
       "2015-07-01 01:10:43+00:00     141  147851\n",
       "2015-07-01 01:42:33+00:00     162   45184\n",
       "2015-07-01 01:42:34+00:00     163   45184\n",
       "2015-07-01 02:13:54+00:00     194  130491\n",
       "2015-07-01 03:13:48+00:00     216   58551\n",
       "2015-07-01 03:15:44+00:00     217  145665\n",
       "2015-07-01 04:39:42+00:00     234  149778\n",
       "2015-07-01 05:28:46+00:00     250   18788\n",
       "2015-07-01 05:30:11+00:00     251   37279\n",
       "2015-07-01 05:35:34+00:00     255   37279\n",
       "2015-07-01 05:36:01+00:00     256   37279\n",
       "2015-07-01 06:00:48+00:00     262  142483\n",
       "2015-07-01 06:37:46+00:00     306   54793\n",
       "2015-07-01 06:41:16+00:00     311   70439\n",
       "...                           ...     ...\n",
       "2015-07-31 22:55:04+00:00  175943   40068\n",
       "2015-07-31 22:59:48+00:00  175980   20713\n",
       "2015-07-31 23:00:11+00:00  175983   63388\n",
       "2015-07-31 23:00:22+00:00  175985  159008\n",
       "2015-07-31 23:02:05+00:00  176002   73272\n",
       "2015-07-31 23:03:12+00:00  176011   49464\n",
       "2015-07-31 23:03:16+00:00  176012   85583\n",
       "2015-07-31 23:03:52+00:00  176020  138192\n",
       "2015-07-31 23:05:13+00:00  176029  171105\n",
       "2015-07-31 23:05:28+00:00  176031    1086\n",
       "2015-07-31 23:07:05+00:00  176044  141953\n",
       "2015-07-31 23:09:07+00:00  176057  145704\n",
       "2015-07-31 23:11:13+00:00  176070  173862\n",
       "2015-07-31 23:12:22+00:00  176073  165831\n",
       "2015-07-31 23:14:47+00:00  176087   22563\n",
       "2015-07-31 23:15:05+00:00  176091   55776\n",
       "2015-07-31 23:15:20+00:00  176093   84290\n",
       "2015-07-31 23:16:39+00:00  176100   18097\n",
       "2015-07-31 23:18:22+00:00  176106   36795\n",
       "2015-07-31 23:18:54+00:00  176109   31696\n",
       "2015-07-31 23:19:46+00:00  176116   18097\n",
       "2015-07-31 23:24:31+00:00  176149   23927\n",
       "2015-07-31 23:25:23+00:00  176154   91163\n",
       "2015-07-31 23:29:19+00:00  176176   92356\n",
       "2015-07-31 23:32:40+00:00  176190  157816\n",
       "2015-07-31 23:39:57+00:00  176212   13337\n",
       "2015-07-31 23:44:21+00:00  176231  116533\n",
       "2015-07-31 23:46:52+00:00  176243   48369\n",
       "2015-07-31 23:55:58+00:00  176271    7677\n",
       "2015-07-31 23:58:30+00:00  176288  135870\n",
       "\n",
       "[17875 rows x 2 columns]"
      ]
     },
     "execution_count": 27,
     "metadata": {},
     "output_type": "execute_result"
    }
   ],
   "source": [
    "df_t"
   ]
  },
  {
   "cell_type": "code",
   "execution_count": 32,
   "metadata": {
    "ExecuteTime": {
     "end_time": "2018-01-18T15:04:02.552354Z",
     "start_time": "2018-01-18T15:04:02.496961Z"
    },
    "collapsed": false
   },
   "outputs": [
    {
     "name": "stderr",
     "output_type": "stream",
     "text": [
      "/Users/chaoxu/.pyenv/versions/anaconda2-4.3.1/lib/python2.7/site-packages/ipykernel/__main__.py:1: FutureWarning: pd.TimeGrouper is deprecated and will be removed; Please use pd.Grouper(freq=...)\n",
      "  if __name__ == '__main__':\n"
     ]
    }
   ],
   "source": [
    "g1 = [pd.TimeGrouper('1D')]\n",
    "df_tg = df_t.groupby(g1).agg({'id':'nunique','rowkey':'nunique'})"
   ]
  },
  {
   "cell_type": "code",
   "execution_count": 35,
   "metadata": {
    "ExecuteTime": {
     "end_time": "2018-01-18T15:04:26.070148Z",
     "start_time": "2018-01-18T15:04:26.021454Z"
    },
    "collapsed": false
   },
   "outputs": [
    {
     "data": {
      "text/html": [
       "<div>\n",
       "<style scoped>\n",
       "    .dataframe tbody tr th:only-of-type {\n",
       "        vertical-align: middle;\n",
       "    }\n",
       "\n",
       "    .dataframe tbody tr th {\n",
       "        vertical-align: top;\n",
       "    }\n",
       "\n",
       "    .dataframe thead th {\n",
       "        text-align: right;\n",
       "    }\n",
       "</style>\n",
       "<table border=\"1\" class=\"dataframe\">\n",
       "  <thead>\n",
       "    <tr style=\"text-align: right;\">\n",
       "      <th></th>\n",
       "      <th>id</th>\n",
       "      <th>rowkey</th>\n",
       "    </tr>\n",
       "    <tr>\n",
       "      <th>time</th>\n",
       "      <th></th>\n",
       "      <th></th>\n",
       "    </tr>\n",
       "  </thead>\n",
       "  <tbody>\n",
       "    <tr>\n",
       "      <th>2015-07-01 00:00:00+00:00</th>\n",
       "      <td>426</td>\n",
       "      <td>561</td>\n",
       "    </tr>\n",
       "    <tr>\n",
       "      <th>2015-07-02 00:00:00+00:00</th>\n",
       "      <td>400</td>\n",
       "      <td>505</td>\n",
       "    </tr>\n",
       "    <tr>\n",
       "      <th>2015-07-03 00:00:00+00:00</th>\n",
       "      <td>444</td>\n",
       "      <td>569</td>\n",
       "    </tr>\n",
       "    <tr>\n",
       "      <th>2015-07-04 00:00:00+00:00</th>\n",
       "      <td>452</td>\n",
       "      <td>586</td>\n",
       "    </tr>\n",
       "    <tr>\n",
       "      <th>2015-07-05 00:00:00+00:00</th>\n",
       "      <td>454</td>\n",
       "      <td>545</td>\n",
       "    </tr>\n",
       "  </tbody>\n",
       "</table>\n",
       "</div>"
      ],
      "text/plain": [
       "                            id  rowkey\n",
       "time                                  \n",
       "2015-07-01 00:00:00+00:00  426     561\n",
       "2015-07-02 00:00:00+00:00  400     505\n",
       "2015-07-03 00:00:00+00:00  444     569\n",
       "2015-07-04 00:00:00+00:00  452     586\n",
       "2015-07-05 00:00:00+00:00  454     545"
      ]
     },
     "execution_count": 35,
     "metadata": {},
     "output_type": "execute_result"
    }
   ],
   "source": [
    "df_tg.head()"
   ]
  },
  {
   "cell_type": "code",
   "execution_count": 36,
   "metadata": {
    "ExecuteTime": {
     "end_time": "2018-01-18T15:04:28.898256Z",
     "start_time": "2018-01-18T15:04:28.321312Z"
    },
    "collapsed": false
   },
   "outputs": [
    {
     "data": {
      "text/plain": [
       "<matplotlib.axes._subplots.AxesSubplot at 0x10a982d50>"
      ]
     },
     "execution_count": 36,
     "metadata": {},
     "output_type": "execute_result"
    },
    {
     "data": {
      "image/png": "[encoded data removed]",
      "text/plain": [
       "<matplotlib.figure.Figure at 0x10a9829d0>"
      ]
     },
     "metadata": {},
     "output_type": "display_data"
    }
   ],
   "source": [
    "df_tg.plot()"
   ]
  },
  {
   "cell_type": "code",
   "execution_count": 37,
   "metadata": {
    "ExecuteTime": {
     "end_time": "2018-01-18T15:04:56.370479Z",
     "start_time": "2018-01-18T15:04:56.270631Z"
    },
    "collapsed": false
   },
   "outputs": [
    {
     "data": {
      "text/html": [
       "<div>\n",
       "<style scoped>\n",
       "    .dataframe tbody tr th:only-of-type {\n",
       "        vertical-align: middle;\n",
       "    }\n",
       "\n",
       "    .dataframe tbody tr th {\n",
       "        vertical-align: top;\n",
       "    }\n",
       "\n",
       "    .dataframe thead th {\n",
       "        text-align: right;\n",
       "    }\n",
       "</style>\n",
       "<table border=\"1\" class=\"dataframe\">\n",
       "  <thead>\n",
       "    <tr style=\"text-align: right;\">\n",
       "      <th></th>\n",
       "      <th>id</th>\n",
       "      <th>rowkey</th>\n",
       "    </tr>\n",
       "  </thead>\n",
       "  <tbody>\n",
       "    <tr>\n",
       "      <th>id</th>\n",
       "      <td>1.000000</td>\n",
       "      <td>0.936703</td>\n",
       "    </tr>\n",
       "    <tr>\n",
       "      <th>rowkey</th>\n",
       "      <td>0.936703</td>\n",
       "      <td>1.000000</td>\n",
       "    </tr>\n",
       "  </tbody>\n",
       "</table>\n",
       "</div>"
      ],
      "text/plain": [
       "              id    rowkey\n",
       "id      1.000000  0.936703\n",
       "rowkey  0.936703  1.000000"
      ]
     },
     "execution_count": 37,
     "metadata": {},
     "output_type": "execute_result"
    }
   ],
   "source": [
    "df_tg.corr()"
   ]
  },
  {
   "cell_type": "code",
   "execution_count": 38,
   "metadata": {
    "ExecuteTime": {
     "end_time": "2018-01-18T15:06:05.838920Z",
     "start_time": "2018-01-18T15:06:05.613671Z"
    },
    "collapsed": false
   },
   "outputs": [
    {
     "name": "stderr",
     "output_type": "stream",
     "text": [
      "/Users/chaoxu/.pyenv/versions/anaconda2-4.3.1/lib/python2.7/site-packages/ipykernel/__main__.py:1: FutureWarning: pd.TimeGrouper is deprecated and will be removed; Please use pd.Grouper(freq=...)\n",
      "  if __name__ == '__main__':\n"
     ]
    }
   ],
   "source": [
    "g2 = ['id',pd.TimeGrouper('1D')]"
   ]
  },
  {
   "cell_type": "code",
   "execution_count": 39,
   "metadata": {
    "ExecuteTime": {
     "end_time": "2018-01-18T15:06:38.300714Z",
     "start_time": "2018-01-18T15:06:38.233158Z"
    },
    "collapsed": false
   },
   "outputs": [],
   "source": [
    "df_ts = df_t.groupby(g2).agg({'rowkey':'nunique'})"
   ]
  },
  {
   "cell_type": "code",
   "execution_count": 42,
   "metadata": {
    "ExecuteTime": {
     "end_time": "2018-01-18T15:10:02.883635Z",
     "start_time": "2018-01-18T15:10:02.838126Z"
    },
    "collapsed": false
   },
   "outputs": [
    {
     "data": {
      "text/plain": [
       "1     11574\n",
       "2      1773\n",
       "3       401\n",
       "4       121\n",
       "5        56\n",
       "6        25\n",
       "8        12\n",
       "7        12\n",
       "9         6\n",
       "12        6\n",
       "10        6\n",
       "13        3\n",
       "11        3\n",
       "30        2\n",
       "16        1\n",
       "24        1\n",
       "15        1\n",
       "17        1\n",
       "35        1\n",
       "14        1\n",
       "19        1\n",
       "Name: rowkey, dtype: int64"
      ]
     },
     "execution_count": 42,
     "metadata": {},
     "output_type": "execute_result"
    }
   ],
   "source": [
    "df_ts.rowkey.value_counts()."
   ]
  },
  {
   "cell_type": "code",
   "execution_count": 43,
   "metadata": {
    "ExecuteTime": {
     "end_time": "2018-01-18T15:10:48.304014Z",
     "start_time": "2018-01-18T15:10:47.201487Z"
    },
    "collapsed": false
   },
   "outputs": [
    {
     "data": {
      "text/plain": [
       "<matplotlib.axes._subplots.AxesSubplot at 0x10ca8dd10>"
      ]
     },
     "execution_count": 43,
     "metadata": {},
     "output_type": "execute_result"
    },
    {
     "data": {
      "image/png": "[encoded data removed]",
      "text/plain": [
       "<matplotlib.figure.Figure at 0x10a982b10>"
      ]
     },
     "metadata": {},
     "output_type": "display_data"
    }
   ],
   "source": [
    "df_ts.rowkey.value_counts(normalize=True).iloc[:50].plot(kind='bar')"
   ]
  },
  {
   "cell_type": "code",
   "execution_count": null,
   "metadata": {
    "collapsed": false
   },
   "outputs": [],
   "source": []
  }
 ],
 "metadata": {
  "kernelspec": {
   "display_name": "Python 2",
   "language": "python",
   "name": "python2"
  },
  "language_info": {
   "codemirror_mode": {
    "name": "ipython",
    "version": 2
   },
   "file_extension": ".py",
   "mimetype": "text/x-python",
   "name": "python",
   "nbconvert_exporter": "python",
   "pygments_lexer": "ipython2",
   "version": "2.7.13"
  },
  "varInspector": {
   "cols": {
    "lenName": 16,
    "lenType": 16,
    "lenVar": 40
   },
   "kernels_config": {
    "python": {
     "delete_cmd_postfix": "",
     "delete_cmd_prefix": "del ",
     "library": "var_list.py",
     "varRefreshCmd": "print(var_dic_list())"
    },
    "r": {
     "delete_cmd_postfix": ") ",
     "delete_cmd_prefix": "rm(",
     "library": "var_list.r",
     "varRefreshCmd": "cat(var_dic_list()) "
    }
   },
   "types_to_exclude": [
    "module",
    "function",
    "builtin_function_or_method",
    "instance",
    "_Feature"
   ],
   "window_display": false
  }
 },
 "nbformat": 4,
 "nbformat_minor": 0
}
