{
 "cells": [
  {
   "cell_type": "code",
   "execution_count": 1,
   "metadata": {
    "ExecuteTime": {
     "end_time": "2018-02-23T14:42:58.025622Z",
     "start_time": "2018-02-23T14:42:56.323716Z"
    },
    "collapsed": false
   },
   "outputs": [],
   "source": [
    "from Params.path_params import Data_path\n",
    "import pandas as pd\n",
    "import numpy as np\n",
    "import numpy as np\n",
    "import matplotlib.pylab as plt\n",
    "from sklearn.preprocessing import MinMaxScaler\n",
    "import re"
   ]
  },
  {
   "cell_type": "code",
   "execution_count": 2,
   "metadata": {
    "ExecuteTime": {
     "end_time": "2018-02-23T14:42:58.104485Z",
     "start_time": "2018-02-23T14:42:58.028266Z"
    },
    "collapsed": false
   },
   "outputs": [],
   "source": [
    "%load_ext autoreload\n",
    "%autoreload 2\n",
    "%matplotlib inline"
   ]
  },
  {
   "cell_type": "code",
   "execution_count": 3,
   "metadata": {
    "ExecuteTime": {
     "end_time": "2018-02-23T14:42:58.279239Z",
     "start_time": "2018-02-23T14:42:58.106901Z"
    },
    "collapsed": false
   },
   "outputs": [],
   "source": [
    "jdata_path = \"{0}/JData\".format(Data_path)\n",
    "trade_train_file = \"{0}/t_trade.csv\".format(jdata_path)\n",
    "trade_test_file = \"{0}/t_trade_test.csv\".format(jdata_path)\n",
    "login_train_file = \"{0}/t_login.csv\".format(jdata_path)\n",
    "login_test_file = \"{0}/t_login_test.csv\".format(jdata_path)\n",
    "debug_file =  \"{0}/lstm_feature_debug.csv\".format(jdata_path)"
   ]
  },
  {
   "cell_type": "code",
   "execution_count": 4,
   "metadata": {
    "ExecuteTime": {
     "end_time": "2018-02-23T14:43:11.601067Z",
     "start_time": "2018-02-23T14:42:58.281074Z"
    },
    "collapsed": false
   },
   "outputs": [],
   "source": [
    "df = pd.read_csv(debug_file)"
   ]
  },
  {
   "cell_type": "code",
   "execution_count": 5,
   "metadata": {
    "ExecuteTime": {
     "end_time": "2018-02-23T14:43:11.775669Z",
     "start_time": "2018-02-23T14:43:11.603235Z"
    },
    "collapsed": false
   },
   "outputs": [
    {
     "data": {
      "text/html": [
       "<div>\n",
       "<style scoped>\n",
       "    .dataframe tbody tr th:only-of-type {\n",
       "        vertical-align: middle;\n",
       "    }\n",
       "\n",
       "    .dataframe tbody tr th {\n",
       "        vertical-align: top;\n",
       "    }\n",
       "\n",
       "    .dataframe thead th {\n",
       "        text-align: right;\n",
       "    }\n",
       "</style>\n",
       "<table border=\"1\" class=\"dataframe\">\n",
       "  <thead>\n",
       "    <tr style=\"text-align: right;\">\n",
       "      <th></th>\n",
       "      <th>new_time_delta_15Min_mean</th>\n",
       "      <th>new_timelong_15Min_mean</th>\n",
       "      <th>new_id_login_city_15Min_num</th>\n",
       "      <th>new_id_login_type_15Min_num</th>\n",
       "      <th>new_id_login_result_15Min_num</th>\n",
       "      <th>new_id_login_log_from_15Min_num</th>\n",
       "      <th>new_id_login_device_15Min_num</th>\n",
       "      <th>new_id_login_ip_15Min_num</th>\n",
       "      <th>new_trade_is_holiday</th>\n",
       "      <th>new_trade_weekth</th>\n",
       "      <th>new_trade_dayofweek</th>\n",
       "      <th>new_trade_day</th>\n",
       "      <th>new_trade_hour</th>\n",
       "      <th>time</th>\n",
       "      <th>id</th>\n",
       "      <th>rowkey</th>\n",
       "      <th>is_scan</th>\n",
       "      <th>is_sec</th>\n",
       "      <th>label</th>\n",
       "    </tr>\n",
       "  </thead>\n",
       "  <tbody>\n",
       "    <tr>\n",
       "      <th>0</th>\n",
       "      <td>48637.666667</td>\n",
       "      <td>0.0</td>\n",
       "      <td>1.0</td>\n",
       "      <td>1.0</td>\n",
       "      <td>1.0</td>\n",
       "      <td>1.0</td>\n",
       "      <td>1.0</td>\n",
       "      <td>1.0</td>\n",
       "      <td>0</td>\n",
       "      <td>2</td>\n",
       "      <td>5</td>\n",
       "      <td>14</td>\n",
       "      <td>20</td>\n",
       "      <td>2015-02-14 20:41:58+00:00</td>\n",
       "      <td>113124</td>\n",
       "      <td>228883</td>\n",
       "      <td>0.0</td>\n",
       "      <td>0.0</td>\n",
       "      <td>0</td>\n",
       "    </tr>\n",
       "    <tr>\n",
       "      <th>1</th>\n",
       "      <td>60432.500000</td>\n",
       "      <td>0.0</td>\n",
       "      <td>1.0</td>\n",
       "      <td>1.0</td>\n",
       "      <td>1.0</td>\n",
       "      <td>1.0</td>\n",
       "      <td>1.0</td>\n",
       "      <td>1.0</td>\n",
       "      <td>0</td>\n",
       "      <td>2</td>\n",
       "      <td>0</td>\n",
       "      <td>9</td>\n",
       "      <td>12</td>\n",
       "      <td>2015-03-09 12:52:57+00:00</td>\n",
       "      <td>113124</td>\n",
       "      <td>356263</td>\n",
       "      <td>0.0</td>\n",
       "      <td>0.0</td>\n",
       "      <td>0</td>\n",
       "    </tr>\n",
       "    <tr>\n",
       "      <th>2</th>\n",
       "      <td>74503.000000</td>\n",
       "      <td>0.0</td>\n",
       "      <td>1.0</td>\n",
       "      <td>1.0</td>\n",
       "      <td>1.0</td>\n",
       "      <td>1.0</td>\n",
       "      <td>1.0</td>\n",
       "      <td>1.0</td>\n",
       "      <td>0</td>\n",
       "      <td>4</td>\n",
       "      <td>5</td>\n",
       "      <td>28</td>\n",
       "      <td>6</td>\n",
       "      <td>2015-03-28 06:57:43+00:00</td>\n",
       "      <td>113124</td>\n",
       "      <td>450274</td>\n",
       "      <td>0.0</td>\n",
       "      <td>0.0</td>\n",
       "      <td>0</td>\n",
       "    </tr>\n",
       "    <tr>\n",
       "      <th>3</th>\n",
       "      <td>47008.000000</td>\n",
       "      <td>2000.0</td>\n",
       "      <td>1.0</td>\n",
       "      <td>1.0</td>\n",
       "      <td>1.0</td>\n",
       "      <td>1.0</td>\n",
       "      <td>1.0</td>\n",
       "      <td>1.0</td>\n",
       "      <td>0</td>\n",
       "      <td>3</td>\n",
       "      <td>5</td>\n",
       "      <td>21</td>\n",
       "      <td>13</td>\n",
       "      <td>2015-02-21 13:04:22+00:00</td>\n",
       "      <td>9219</td>\n",
       "      <td>266249</td>\n",
       "      <td>0.0</td>\n",
       "      <td>0.0</td>\n",
       "      <td>0</td>\n",
       "    </tr>\n",
       "    <tr>\n",
       "      <th>4</th>\n",
       "      <td>47106.000000</td>\n",
       "      <td>2000.0</td>\n",
       "      <td>1.0</td>\n",
       "      <td>1.0</td>\n",
       "      <td>1.0</td>\n",
       "      <td>1.0</td>\n",
       "      <td>1.0</td>\n",
       "      <td>1.0</td>\n",
       "      <td>0</td>\n",
       "      <td>1</td>\n",
       "      <td>2</td>\n",
       "      <td>1</td>\n",
       "      <td>13</td>\n",
       "      <td>2015-04-01 13:07:38+00:00</td>\n",
       "      <td>9219</td>\n",
       "      <td>472527</td>\n",
       "      <td>0.0</td>\n",
       "      <td>0.0</td>\n",
       "      <td>0</td>\n",
       "    </tr>\n",
       "  </tbody>\n",
       "</table>\n",
       "</div>"
      ],
      "text/plain": [
       "   new_time_delta_15Min_mean  new_timelong_15Min_mean  \\\n",
       "0               48637.666667                      0.0   \n",
       "1               60432.500000                      0.0   \n",
       "2               74503.000000                      0.0   \n",
       "3               47008.000000                   2000.0   \n",
       "4               47106.000000                   2000.0   \n",
       "\n",
       "   new_id_login_city_15Min_num  new_id_login_type_15Min_num  \\\n",
       "0                          1.0                          1.0   \n",
       "1                          1.0                          1.0   \n",
       "2                          1.0                          1.0   \n",
       "3                          1.0                          1.0   \n",
       "4                          1.0                          1.0   \n",
       "\n",
       "   new_id_login_result_15Min_num  new_id_login_log_from_15Min_num  \\\n",
       "0                            1.0                              1.0   \n",
       "1                            1.0                              1.0   \n",
       "2                            1.0                              1.0   \n",
       "3                            1.0                              1.0   \n",
       "4                            1.0                              1.0   \n",
       "\n",
       "   new_id_login_device_15Min_num  new_id_login_ip_15Min_num  \\\n",
       "0                            1.0                        1.0   \n",
       "1                            1.0                        1.0   \n",
       "2                            1.0                        1.0   \n",
       "3                            1.0                        1.0   \n",
       "4                            1.0                        1.0   \n",
       "\n",
       "   new_trade_is_holiday  new_trade_weekth  new_trade_dayofweek  new_trade_day  \\\n",
       "0                     0                 2                    5             14   \n",
       "1                     0                 2                    0              9   \n",
       "2                     0                 4                    5             28   \n",
       "3                     0                 3                    5             21   \n",
       "4                     0                 1                    2              1   \n",
       "\n",
       "   new_trade_hour                       time      id  rowkey  is_scan  is_sec  \\\n",
       "0              20  2015-02-14 20:41:58+00:00  113124  228883      0.0     0.0   \n",
       "1              12  2015-03-09 12:52:57+00:00  113124  356263      0.0     0.0   \n",
       "2               6  2015-03-28 06:57:43+00:00  113124  450274      0.0     0.0   \n",
       "3              13  2015-02-21 13:04:22+00:00    9219  266249      0.0     0.0   \n",
       "4              13  2015-04-01 13:07:38+00:00    9219  472527      0.0     0.0   \n",
       "\n",
       "   label  \n",
       "0      0  \n",
       "1      0  \n",
       "2      0  \n",
       "3      0  \n",
       "4      0  "
      ]
     },
     "execution_count": 5,
     "metadata": {},
     "output_type": "execute_result"
    }
   ],
   "source": [
    "df.head()"
   ]
  },
  {
   "cell_type": "code",
   "execution_count": 6,
   "metadata": {
    "ExecuteTime": {
     "end_time": "2018-02-23T14:43:52.765771Z",
     "start_time": "2018-02-23T14:43:52.707860Z"
    },
    "collapsed": false
   },
   "outputs": [
    {
     "data": {
      "text/plain": [
       "(4040462, 19)"
      ]
     },
     "execution_count": 6,
     "metadata": {},
     "output_type": "execute_result"
    }
   ],
   "source": [
    "df.shape"
   ]
  },
  {
   "cell_type": "code",
   "execution_count": null,
   "metadata": {
    "ExecuteTime": {
     "end_time": "2018-02-23T10:50:56.854441Z",
     "start_time": "2018-02-23T10:50:56.504829Z"
    },
    "collapsed": false
   },
   "outputs": [],
   "source": []
  },
  {
   "cell_type": "code",
   "execution_count": null,
   "metadata": {
    "collapsed": true
   },
   "outputs": [],
   "source": []
  }
 ],
 "metadata": {
  "kernelspec": {
   "display_name": "Python 2",
   "language": "python",
   "name": "python2"
  },
  "language_info": {
   "codemirror_mode": {
    "name": "ipython",
    "version": 2
   },
   "file_extension": ".py",
   "mimetype": "text/x-python",
   "name": "python",
   "nbconvert_exporter": "python",
   "pygments_lexer": "ipython2",
   "version": "2.7.13"
  },
  "varInspector": {
   "cols": {
    "lenName": 16,
    "lenType": 16,
    "lenVar": 40
   },
   "kernels_config": {
    "python": {
     "delete_cmd_postfix": "",
     "delete_cmd_prefix": "del ",
     "library": "var_list.py",
     "varRefreshCmd": "print(var_dic_list())"
    },
    "r": {
     "delete_cmd_postfix": ") ",
     "delete_cmd_prefix": "rm(",
     "library": "var_list.r",
     "varRefreshCmd": "cat(var_dic_list()) "
    }
   },
   "types_to_exclude": [
    "module",
    "function",
    "builtin_function_or_method",
    "instance",
    "_Feature"
   ],
   "window_display": false
  }
 },
 "nbformat": 4,
 "nbformat_minor": 0
}
