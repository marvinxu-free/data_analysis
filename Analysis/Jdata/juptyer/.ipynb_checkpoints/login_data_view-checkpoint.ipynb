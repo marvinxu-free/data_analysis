{
 "cells": [
  {
   "cell_type": "code",
   "execution_count": 1,
   "metadata": {
    "ExecuteTime": {
     "end_time": "2018-01-18T15:34:40.436136Z",
     "start_time": "2018-01-18T15:34:38.649693Z"
    },
    "collapsed": false
   },
   "outputs": [],
   "source": [
    "from Params.path_params import Data_path\n",
    "import pandas as pd\n",
    "import numpy as np\n",
    "import numpy as np\n",
    "import matplotlib.pylab as plt\n",
    "from sklearn.preprocessing import MinMaxScaler"
   ]
  },
  {
   "cell_type": "code",
   "execution_count": 2,
   "metadata": {
    "ExecuteTime": {
     "end_time": "2018-01-18T15:34:40.573991Z",
     "start_time": "2018-01-18T15:34:40.438175Z"
    },
    "collapsed": true
   },
   "outputs": [],
   "source": [
    "%load_ext autoreload\n",
    "%autoreload 2\n",
    "%matplotlib inline"
   ]
  },
  {
   "cell_type": "code",
   "execution_count": 3,
   "metadata": {
    "ExecuteTime": {
     "end_time": "2018-01-18T15:34:40.687542Z",
     "start_time": "2018-01-18T15:34:40.578209Z"
    },
    "collapsed": false
   },
   "outputs": [],
   "source": [
    "jdata_path = \"{0}/JData\".format(Data_path)"
   ]
  },
  {
   "cell_type": "code",
   "execution_count": 4,
   "metadata": {
    "ExecuteTime": {
     "end_time": "2018-01-18T15:34:40.791411Z",
     "start_time": "2018-01-18T15:34:40.727964Z"
    },
    "collapsed": false
   },
   "outputs": [],
   "source": [
    "login_train_file = \"{0}/t_login.csv\".format(jdata_path)\n",
    "login_test_file = \"{0}/t_login_test.csv\".format(jdata_path)"
   ]
  },
  {
   "cell_type": "code",
   "execution_count": 5,
   "metadata": {
    "ExecuteTime": {
     "end_time": "2018-01-18T15:34:40.886650Z",
     "start_time": "2018-01-18T15:34:40.800894Z"
    },
    "collapsed": true
   },
   "outputs": [],
   "source": [
    "trade_train_file = \"{0}/t_trade.csv\".format(jdata_path)\n",
    "trade_test_file = \"{0}/t_trade_test.csv\".format(jdata_path)"
   ]
  },
  {
   "cell_type": "code",
   "execution_count": 6,
   "metadata": {
    "ExecuteTime": {
     "end_time": "2018-01-18T15:34:42.725819Z",
     "start_time": "2018-01-18T15:34:40.891727Z"
    },
    "collapsed": false
   },
   "outputs": [],
   "source": [
    "login_train = pd.read_csv(login_train_file)"
   ]
  },
  {
   "cell_type": "code",
   "execution_count": 7,
   "metadata": {
    "ExecuteTime": {
     "end_time": "2018-01-18T15:34:42.849213Z",
     "start_time": "2018-01-18T15:34:42.727875Z"
    },
    "collapsed": false
   },
   "outputs": [
    {
     "data": {
      "text/html": [
       "<div>\n",
       "<style scoped>\n",
       "    .dataframe tbody tr th:only-of-type {\n",
       "        vertical-align: middle;\n",
       "    }\n",
       "\n",
       "    .dataframe tbody tr th {\n",
       "        vertical-align: top;\n",
       "    }\n",
       "\n",
       "    .dataframe thead th {\n",
       "        text-align: right;\n",
       "    }\n",
       "</style>\n",
       "<table border=\"1\" class=\"dataframe\">\n",
       "  <thead>\n",
       "    <tr style=\"text-align: right;\">\n",
       "      <th></th>\n",
       "      <th>log_id</th>\n",
       "      <th>timelong</th>\n",
       "      <th>device</th>\n",
       "      <th>log_from</th>\n",
       "      <th>ip</th>\n",
       "      <th>city</th>\n",
       "      <th>result</th>\n",
       "      <th>timestamp</th>\n",
       "      <th>type</th>\n",
       "      <th>id</th>\n",
       "      <th>is_scan</th>\n",
       "      <th>is_sec</th>\n",
       "      <th>time</th>\n",
       "    </tr>\n",
       "  </thead>\n",
       "  <tbody>\n",
       "    <tr>\n",
       "      <th>0</th>\n",
       "      <td>2.618369e+15</td>\n",
       "      <td>5.0</td>\n",
       "      <td>879361</td>\n",
       "      <td>10</td>\n",
       "      <td>1026491</td>\n",
       "      <td>194</td>\n",
       "      <td>1</td>\n",
       "      <td>1.428642e+09</td>\n",
       "      <td>1</td>\n",
       "      <td>116825</td>\n",
       "      <td>True</td>\n",
       "      <td>False</td>\n",
       "      <td>2015-04-10 12:54:19</td>\n",
       "    </tr>\n",
       "    <tr>\n",
       "      <th>1</th>\n",
       "      <td>9.969739e+14</td>\n",
       "      <td>16124.0</td>\n",
       "      <td>835072</td>\n",
       "      <td>1</td>\n",
       "      <td>1026491</td>\n",
       "      <td>194</td>\n",
       "      <td>1</td>\n",
       "      <td>1.428809e+09</td>\n",
       "      <td>1</td>\n",
       "      <td>109987</td>\n",
       "      <td>False</td>\n",
       "      <td>False</td>\n",
       "      <td>2015-04-12 11:20:45</td>\n",
       "    </tr>\n",
       "    <tr>\n",
       "      <th>2</th>\n",
       "      <td>8.123343e+15</td>\n",
       "      <td>5.0</td>\n",
       "      <td>879361</td>\n",
       "      <td>10</td>\n",
       "      <td>1026491</td>\n",
       "      <td>194</td>\n",
       "      <td>1</td>\n",
       "      <td>1.427705e+09</td>\n",
       "      <td>1</td>\n",
       "      <td>116825</td>\n",
       "      <td>True</td>\n",
       "      <td>False</td>\n",
       "      <td>2015-03-30 16:38:20</td>\n",
       "    </tr>\n",
       "    <tr>\n",
       "      <th>3</th>\n",
       "      <td>3.265677e+14</td>\n",
       "      <td>6.0</td>\n",
       "      <td>879361</td>\n",
       "      <td>10</td>\n",
       "      <td>1026491</td>\n",
       "      <td>194</td>\n",
       "      <td>1</td>\n",
       "      <td>1.428309e+09</td>\n",
       "      <td>1</td>\n",
       "      <td>116825</td>\n",
       "      <td>True</td>\n",
       "      <td>False</td>\n",
       "      <td>2015-04-06 16:22:18</td>\n",
       "    </tr>\n",
       "    <tr>\n",
       "      <th>4</th>\n",
       "      <td>6.684659e+15</td>\n",
       "      <td>4.0</td>\n",
       "      <td>879361</td>\n",
       "      <td>10</td>\n",
       "      <td>1026491</td>\n",
       "      <td>194</td>\n",
       "      <td>1</td>\n",
       "      <td>1.428221e+09</td>\n",
       "      <td>1</td>\n",
       "      <td>116825</td>\n",
       "      <td>True</td>\n",
       "      <td>False</td>\n",
       "      <td>2015-04-05 15:55:01</td>\n",
       "    </tr>\n",
       "    <tr>\n",
       "      <th>5</th>\n",
       "      <td>8.828481e+15</td>\n",
       "      <td>5.0</td>\n",
       "      <td>736541</td>\n",
       "      <td>10</td>\n",
       "      <td>1026491</td>\n",
       "      <td>194</td>\n",
       "      <td>1</td>\n",
       "      <td>1.428220e+09</td>\n",
       "      <td>1</td>\n",
       "      <td>116825</td>\n",
       "      <td>True</td>\n",
       "      <td>False</td>\n",
       "      <td>2015-04-05 15:48:07</td>\n",
       "    </tr>\n",
       "    <tr>\n",
       "      <th>6</th>\n",
       "      <td>6.071119e+15</td>\n",
       "      <td>13000.0</td>\n",
       "      <td>979465</td>\n",
       "      <td>2</td>\n",
       "      <td>1026491</td>\n",
       "      <td>194</td>\n",
       "      <td>1</td>\n",
       "      <td>1.431851e+09</td>\n",
       "      <td>3</td>\n",
       "      <td>116825</td>\n",
       "      <td>False</td>\n",
       "      <td>False</td>\n",
       "      <td>2015-05-17 16:27:55</td>\n",
       "    </tr>\n",
       "    <tr>\n",
       "      <th>7</th>\n",
       "      <td>8.525176e+15</td>\n",
       "      <td>17627.0</td>\n",
       "      <td>765534</td>\n",
       "      <td>1</td>\n",
       "      <td>1026491</td>\n",
       "      <td>194</td>\n",
       "      <td>1</td>\n",
       "      <td>1.426584e+09</td>\n",
       "      <td>1</td>\n",
       "      <td>109987</td>\n",
       "      <td>False</td>\n",
       "      <td>False</td>\n",
       "      <td>2015-03-17 17:19:04</td>\n",
       "    </tr>\n",
       "    <tr>\n",
       "      <th>8</th>\n",
       "      <td>3.120145e+15</td>\n",
       "      <td>12000.0</td>\n",
       "      <td>12239</td>\n",
       "      <td>2</td>\n",
       "      <td>1026491</td>\n",
       "      <td>194</td>\n",
       "      <td>1</td>\n",
       "      <td>1.427789e+09</td>\n",
       "      <td>3</td>\n",
       "      <td>116825</td>\n",
       "      <td>False</td>\n",
       "      <td>False</td>\n",
       "      <td>2015-03-31 15:58:48</td>\n",
       "    </tr>\n",
       "    <tr>\n",
       "      <th>9</th>\n",
       "      <td>5.367905e+15</td>\n",
       "      <td>9146.0</td>\n",
       "      <td>556157</td>\n",
       "      <td>1</td>\n",
       "      <td>1026491</td>\n",
       "      <td>194</td>\n",
       "      <td>31</td>\n",
       "      <td>1.431252e+09</td>\n",
       "      <td>1</td>\n",
       "      <td>109987</td>\n",
       "      <td>False</td>\n",
       "      <td>False</td>\n",
       "      <td>2015-05-10 18:06:52</td>\n",
       "    </tr>\n",
       "  </tbody>\n",
       "</table>\n",
       "</div>"
      ],
      "text/plain": [
       "         log_id  timelong  device  log_from       ip  city  result  \\\n",
       "0  2.618369e+15       5.0  879361        10  1026491   194       1   \n",
       "1  9.969739e+14   16124.0  835072         1  1026491   194       1   \n",
       "2  8.123343e+15       5.0  879361        10  1026491   194       1   \n",
       "3  3.265677e+14       6.0  879361        10  1026491   194       1   \n",
       "4  6.684659e+15       4.0  879361        10  1026491   194       1   \n",
       "5  8.828481e+15       5.0  736541        10  1026491   194       1   \n",
       "6  6.071119e+15   13000.0  979465         2  1026491   194       1   \n",
       "7  8.525176e+15   17627.0  765534         1  1026491   194       1   \n",
       "8  3.120145e+15   12000.0   12239         2  1026491   194       1   \n",
       "9  5.367905e+15    9146.0  556157         1  1026491   194      31   \n",
       "\n",
       "      timestamp  type      id  is_scan  is_sec                 time  \n",
       "0  1.428642e+09     1  116825     True   False  2015-04-10 12:54:19  \n",
       "1  1.428809e+09     1  109987    False   False  2015-04-12 11:20:45  \n",
       "2  1.427705e+09     1  116825     True   False  2015-03-30 16:38:20  \n",
       "3  1.428309e+09     1  116825     True   False  2015-04-06 16:22:18  \n",
       "4  1.428221e+09     1  116825     True   False  2015-04-05 15:55:01  \n",
       "5  1.428220e+09     1  116825     True   False  2015-04-05 15:48:07  \n",
       "6  1.431851e+09     3  116825    False   False  2015-05-17 16:27:55  \n",
       "7  1.426584e+09     1  109987    False   False  2015-03-17 17:19:04  \n",
       "8  1.427789e+09     3  116825    False   False  2015-03-31 15:58:48  \n",
       "9  1.431252e+09     1  109987    False   False  2015-05-10 18:06:52  "
      ]
     },
     "execution_count": 7,
     "metadata": {},
     "output_type": "execute_result"
    }
   ],
   "source": [
    "login_train.head(10)"
   ]
  },
  {
   "cell_type": "code",
   "execution_count": 8,
   "metadata": {
    "ExecuteTime": {
     "end_time": "2018-01-18T15:34:43.185512Z",
     "start_time": "2018-01-18T15:34:42.852555Z"
    },
    "collapsed": false
   },
   "outputs": [
    {
     "data": {
      "text/plain": [
       "Index([], dtype='object')"
      ]
     },
     "execution_count": 8,
     "metadata": {},
     "output_type": "execute_result"
    }
   ],
   "source": [
    "login_train.columns[login_train.isnull().any()]"
   ]
  },
  {
   "cell_type": "code",
   "execution_count": 9,
   "metadata": {
    "ExecuteTime": {
     "end_time": "2018-01-18T15:34:43.272918Z",
     "start_time": "2018-01-18T15:34:43.188881Z"
    },
    "collapsed": false
   },
   "outputs": [
    {
     "data": {
      "text/plain": [
       "(595645, 13)"
      ]
     },
     "execution_count": 9,
     "metadata": {},
     "output_type": "execute_result"
    }
   ],
   "source": [
    "login_train.shape"
   ]
  },
  {
   "cell_type": "code",
   "execution_count": 10,
   "metadata": {
    "ExecuteTime": {
     "end_time": "2018-01-18T15:34:44.106813Z",
     "start_time": "2018-01-18T15:34:43.288919Z"
    },
    "collapsed": false
   },
   "outputs": [],
   "source": [
    "login_train['timestamp'] = pd.to_datetime(login_train['timestamp'], utc=True, unit='s')\n",
    "# pd.to_datetime(login_train['timestamp'], utc=True, unit='s')"
   ]
  },
  {
   "cell_type": "code",
   "execution_count": 11,
   "metadata": {
    "ExecuteTime": {
     "end_time": "2018-01-18T15:34:44.170302Z",
     "start_time": "2018-01-18T15:34:44.108641Z"
    },
    "collapsed": false
   },
   "outputs": [],
   "source": [
    "# login_train = login_train.drop('timestamp', axis=1)"
   ]
  },
  {
   "cell_type": "code",
   "execution_count": 25,
   "metadata": {
    "ExecuteTime": {
     "end_time": "2018-01-18T16:59:03.622383Z",
     "start_time": "2018-01-18T16:59:03.571593Z"
    },
    "collapsed": false,
    "scrolled": true
   },
   "outputs": [
    {
     "data": {
      "text/plain": [
       "log_id                  float64\n",
       "timelong                float64\n",
       "device                    int64\n",
       "log_from                  int64\n",
       "ip                        int64\n",
       "city                      int64\n",
       "result                    int64\n",
       "type                      int64\n",
       "id                        int64\n",
       "is_scan                   int64\n",
       "is_sec                    int64\n",
       "time        datetime64[ns, UTC]\n",
       "dtype: object"
      ]
     },
     "execution_count": 25,
     "metadata": {},
     "output_type": "execute_result"
    }
   ],
   "source": [
    "login_train.dtypes"
   ]
  },
  {
   "cell_type": "code",
   "execution_count": 24,
   "metadata": {
    "ExecuteTime": {
     "end_time": "2018-01-18T16:58:59.062743Z",
     "start_time": "2018-01-18T16:58:58.901119Z"
    },
    "collapsed": true
   },
   "outputs": [],
   "source": [
    "login_train[['is_scan','is_sec']] = login_train[['is_scan','is_sec']].astype(int)"
   ]
  },
  {
   "cell_type": "code",
   "execution_count": 23,
   "metadata": {
    "ExecuteTime": {
     "end_time": "2018-01-18T16:50:37.354333Z",
     "start_time": "2018-01-18T16:50:37.276159Z"
    },
    "collapsed": false
   },
   "outputs": [
    {
     "data": {
      "text/plain": [
       "0.25002476307196403"
      ]
     },
     "execution_count": 23,
     "metadata": {},
     "output_type": "execute_result"
    }
   ],
   "source": [
    "login_train.loc[login_train.timelong <= 4.317000e+03].shape[0] / 5.956450e+05"
   ]
  },
  {
   "cell_type": "code",
   "execution_count": 13,
   "metadata": {
    "ExecuteTime": {
     "end_time": "2018-01-18T15:34:44.618239Z",
     "start_time": "2018-01-18T15:34:44.359506Z"
    },
    "collapsed": false
   },
   "outputs": [
    {
     "data": {
      "text/plain": [
       "count    5.956450e+05\n",
       "mean     2.174842e+04\n",
       "std      7.818938e+05\n",
       "min     -1.355000e+03\n",
       "25%      4.317000e+03\n",
       "50%      7.311000e+03\n",
       "75%      1.319400e+04\n",
       "max      2.253800e+08\n",
       "Name: timelong, dtype: float64"
      ]
     },
     "execution_count": 13,
     "metadata": {},
     "output_type": "execute_result"
    }
   ],
   "source": [
    "login_train.timelong.describe()"
   ]
  },
  {
   "cell_type": "code",
   "execution_count": 15,
   "metadata": {
    "ExecuteTime": {
     "end_time": "2018-01-18T15:35:33.072270Z",
     "start_time": "2018-01-18T15:35:33.004991Z"
    },
    "collapsed": false
   },
   "outputs": [
    {
     "data": {
      "text/plain": [
       "(3006, 13)"
      ]
     },
     "execution_count": 15,
     "metadata": {},
     "output_type": "execute_result"
    }
   ],
   "source": [
    "login_train.loc[login_train.timelong <=0].shape"
   ]
  },
  {
   "cell_type": "code",
   "execution_count": 17,
   "metadata": {
    "ExecuteTime": {
     "end_time": "2018-01-18T15:36:16.674957Z",
     "start_time": "2018-01-18T15:36:16.595558Z"
    },
    "collapsed": false
   },
   "outputs": [
    {
     "data": {
      "text/html": [
       "<div>\n",
       "<style scoped>\n",
       "    .dataframe tbody tr th:only-of-type {\n",
       "        vertical-align: middle;\n",
       "    }\n",
       "\n",
       "    .dataframe tbody tr th {\n",
       "        vertical-align: top;\n",
       "    }\n",
       "\n",
       "    .dataframe thead th {\n",
       "        text-align: right;\n",
       "    }\n",
       "</style>\n",
       "<table border=\"1\" class=\"dataframe\">\n",
       "  <thead>\n",
       "    <tr style=\"text-align: right;\">\n",
       "      <th></th>\n",
       "      <th>log_id</th>\n",
       "      <th>timelong</th>\n",
       "      <th>device</th>\n",
       "      <th>log_from</th>\n",
       "      <th>ip</th>\n",
       "      <th>city</th>\n",
       "      <th>result</th>\n",
       "      <th>timestamp</th>\n",
       "      <th>type</th>\n",
       "      <th>id</th>\n",
       "      <th>is_scan</th>\n",
       "      <th>is_sec</th>\n",
       "      <th>time</th>\n",
       "    </tr>\n",
       "  </thead>\n",
       "  <tbody>\n",
       "    <tr>\n",
       "      <th>8234</th>\n",
       "      <td>3.657379e+14</td>\n",
       "      <td>-1355.0</td>\n",
       "      <td>274216</td>\n",
       "      <td>1</td>\n",
       "      <td>528293</td>\n",
       "      <td>217</td>\n",
       "      <td>31</td>\n",
       "      <td>2015-01-02 22:17:55+00:00</td>\n",
       "      <td>3</td>\n",
       "      <td>30433</td>\n",
       "      <td>False</td>\n",
       "      <td>False</td>\n",
       "      <td>2015-01-03 06:17:55</td>\n",
       "    </tr>\n",
       "    <tr>\n",
       "      <th>16327</th>\n",
       "      <td>4.658802e+15</td>\n",
       "      <td>-369.0</td>\n",
       "      <td>274216</td>\n",
       "      <td>1</td>\n",
       "      <td>578002</td>\n",
       "      <td>217</td>\n",
       "      <td>31</td>\n",
       "      <td>2015-01-08 01:47:49+00:00</td>\n",
       "      <td>3</td>\n",
       "      <td>140023</td>\n",
       "      <td>False</td>\n",
       "      <td>False</td>\n",
       "      <td>2015-01-08 09:47:49</td>\n",
       "    </tr>\n",
       "    <tr>\n",
       "      <th>16341</th>\n",
       "      <td>6.981374e+14</td>\n",
       "      <td>-343.0</td>\n",
       "      <td>274216</td>\n",
       "      <td>1</td>\n",
       "      <td>370019</td>\n",
       "      <td>218</td>\n",
       "      <td>31</td>\n",
       "      <td>2015-01-02 23:53:41+00:00</td>\n",
       "      <td>3</td>\n",
       "      <td>112819</td>\n",
       "      <td>False</td>\n",
       "      <td>False</td>\n",
       "      <td>2015-01-03 07:53:41</td>\n",
       "    </tr>\n",
       "    <tr>\n",
       "      <th>16354</th>\n",
       "      <td>9.819021e+15</td>\n",
       "      <td>-912.0</td>\n",
       "      <td>274216</td>\n",
       "      <td>1</td>\n",
       "      <td>1331473</td>\n",
       "      <td>218</td>\n",
       "      <td>31</td>\n",
       "      <td>2015-01-02 14:54:52+00:00</td>\n",
       "      <td>3</td>\n",
       "      <td>93481</td>\n",
       "      <td>False</td>\n",
       "      <td>False</td>\n",
       "      <td>2015-01-02 22:54:52</td>\n",
       "    </tr>\n",
       "    <tr>\n",
       "      <th>78920</th>\n",
       "      <td>7.852092e+15</td>\n",
       "      <td>-601.0</td>\n",
       "      <td>274216</td>\n",
       "      <td>1</td>\n",
       "      <td>60921</td>\n",
       "      <td>218</td>\n",
       "      <td>31</td>\n",
       "      <td>2015-01-03 01:17:20+00:00</td>\n",
       "      <td>3</td>\n",
       "      <td>146154</td>\n",
       "      <td>False</td>\n",
       "      <td>False</td>\n",
       "      <td>2015-01-03 09:17:20</td>\n",
       "    </tr>\n",
       "    <tr>\n",
       "      <th>116348</th>\n",
       "      <td>9.797535e+15</td>\n",
       "      <td>-483.0</td>\n",
       "      <td>274216</td>\n",
       "      <td>1</td>\n",
       "      <td>497243</td>\n",
       "      <td>277</td>\n",
       "      <td>31</td>\n",
       "      <td>2015-01-02 18:02:25+00:00</td>\n",
       "      <td>3</td>\n",
       "      <td>85910</td>\n",
       "      <td>False</td>\n",
       "      <td>False</td>\n",
       "      <td>2015-01-03 02:02:25</td>\n",
       "    </tr>\n",
       "    <tr>\n",
       "      <th>121101</th>\n",
       "      <td>4.311673e+16</td>\n",
       "      <td>-174.0</td>\n",
       "      <td>274216</td>\n",
       "      <td>1</td>\n",
       "      <td>213991</td>\n",
       "      <td>217</td>\n",
       "      <td>31</td>\n",
       "      <td>2015-01-08 03:22:04+00:00</td>\n",
       "      <td>3</td>\n",
       "      <td>84498</td>\n",
       "      <td>False</td>\n",
       "      <td>False</td>\n",
       "      <td>2015-01-08 11:22:04</td>\n",
       "    </tr>\n",
       "    <tr>\n",
       "      <th>121111</th>\n",
       "      <td>5.343358e+15</td>\n",
       "      <td>-76.0</td>\n",
       "      <td>274216</td>\n",
       "      <td>1</td>\n",
       "      <td>45584</td>\n",
       "      <td>217</td>\n",
       "      <td>1</td>\n",
       "      <td>2015-01-03 00:34:52+00:00</td>\n",
       "      <td>3</td>\n",
       "      <td>50777</td>\n",
       "      <td>False</td>\n",
       "      <td>False</td>\n",
       "      <td>2015-01-03 08:34:52</td>\n",
       "    </tr>\n",
       "    <tr>\n",
       "      <th>133513</th>\n",
       "      <td>1.331233e+16</td>\n",
       "      <td>-239.0</td>\n",
       "      <td>274216</td>\n",
       "      <td>1</td>\n",
       "      <td>534077</td>\n",
       "      <td>217</td>\n",
       "      <td>-2</td>\n",
       "      <td>2015-01-07 08:18:24+00:00</td>\n",
       "      <td>3</td>\n",
       "      <td>135426</td>\n",
       "      <td>False</td>\n",
       "      <td>False</td>\n",
       "      <td>2015-01-07 16:18:24</td>\n",
       "    </tr>\n",
       "    <tr>\n",
       "      <th>133514</th>\n",
       "      <td>7.102094e+15</td>\n",
       "      <td>-278.0</td>\n",
       "      <td>274216</td>\n",
       "      <td>1</td>\n",
       "      <td>1191657</td>\n",
       "      <td>217</td>\n",
       "      <td>31</td>\n",
       "      <td>2015-01-02 16:00:11+00:00</td>\n",
       "      <td>3</td>\n",
       "      <td>72352</td>\n",
       "      <td>False</td>\n",
       "      <td>False</td>\n",
       "      <td>2015-01-03 00:00:11</td>\n",
       "    </tr>\n",
       "  </tbody>\n",
       "</table>\n",
       "</div>"
      ],
      "text/plain": [
       "              log_id  timelong  device  log_from       ip  city  result  \\\n",
       "8234    3.657379e+14   -1355.0  274216         1   528293   217      31   \n",
       "16327   4.658802e+15    -369.0  274216         1   578002   217      31   \n",
       "16341   6.981374e+14    -343.0  274216         1   370019   218      31   \n",
       "16354   9.819021e+15    -912.0  274216         1  1331473   218      31   \n",
       "78920   7.852092e+15    -601.0  274216         1    60921   218      31   \n",
       "116348  9.797535e+15    -483.0  274216         1   497243   277      31   \n",
       "121101  4.311673e+16    -174.0  274216         1   213991   217      31   \n",
       "121111  5.343358e+15     -76.0  274216         1    45584   217       1   \n",
       "133513  1.331233e+16    -239.0  274216         1   534077   217      -2   \n",
       "133514  7.102094e+15    -278.0  274216         1  1191657   217      31   \n",
       "\n",
       "                       timestamp  type      id  is_scan  is_sec  \\\n",
       "8234   2015-01-02 22:17:55+00:00     3   30433    False   False   \n",
       "16327  2015-01-08 01:47:49+00:00     3  140023    False   False   \n",
       "16341  2015-01-02 23:53:41+00:00     3  112819    False   False   \n",
       "16354  2015-01-02 14:54:52+00:00     3   93481    False   False   \n",
       "78920  2015-01-03 01:17:20+00:00     3  146154    False   False   \n",
       "116348 2015-01-02 18:02:25+00:00     3   85910    False   False   \n",
       "121101 2015-01-08 03:22:04+00:00     3   84498    False   False   \n",
       "121111 2015-01-03 00:34:52+00:00     3   50777    False   False   \n",
       "133513 2015-01-07 08:18:24+00:00     3  135426    False   False   \n",
       "133514 2015-01-02 16:00:11+00:00     3   72352    False   False   \n",
       "\n",
       "                       time  \n",
       "8234    2015-01-03 06:17:55  \n",
       "16327   2015-01-08 09:47:49  \n",
       "16341   2015-01-03 07:53:41  \n",
       "16354   2015-01-02 22:54:52  \n",
       "78920   2015-01-03 09:17:20  \n",
       "116348  2015-01-03 02:02:25  \n",
       "121101  2015-01-08 11:22:04  \n",
       "121111  2015-01-03 08:34:52  \n",
       "133513  2015-01-07 16:18:24  \n",
       "133514  2015-01-03 00:00:11  "
      ]
     },
     "execution_count": 17,
     "metadata": {},
     "output_type": "execute_result"
    }
   ],
   "source": [
    "login_train.loc[login_train.timelong <0].head(10)"
   ]
  },
  {
   "cell_type": "code",
   "execution_count": 21,
   "metadata": {
    "ExecuteTime": {
     "end_time": "2018-01-18T15:43:28.049089Z",
     "start_time": "2018-01-18T15:43:27.999499Z"
    },
    "collapsed": false
   },
   "outputs": [
    {
     "data": {
      "text/plain": [
       "array([274216, 835072])"
      ]
     },
     "execution_count": 21,
     "metadata": {},
     "output_type": "execute_result"
    }
   ],
   "source": [
    "login_train.loc[login_train.timelong <0]['device'].unique()"
   ]
  },
  {
   "cell_type": "code",
   "execution_count": 18,
   "metadata": {
    "ExecuteTime": {
     "end_time": "2018-01-18T15:41:59.611670Z",
     "start_time": "2018-01-18T15:41:59.341008Z"
    },
    "collapsed": true
   },
   "outputs": [],
   "source": [
    "login_train = login_train.drop('timestamp', axis=1)"
   ]
  },
  {
   "cell_type": "code",
   "execution_count": 20,
   "metadata": {
    "ExecuteTime": {
     "end_time": "2018-01-18T15:42:42.397777Z",
     "start_time": "2018-01-18T15:42:42.102487Z"
    },
    "collapsed": false
   },
   "outputs": [],
   "source": [
    "login_train['time'] = pd.to_datetime(login_train['time'], utc=True)"
   ]
  },
  {
   "cell_type": "code",
   "execution_count": 11,
   "metadata": {
    "ExecuteTime": {
     "end_time": "2018-01-18T11:33:49.762041Z",
     "start_time": "2018-01-18T11:33:49.474929Z"
    },
    "collapsed": true
   },
   "outputs": [],
   "source": [
    "bin_values = np.arange(start=0, stop=13209.4, step=1000)"
   ]
  },
  {
   "cell_type": "code",
   "execution_count": 12,
   "metadata": {
    "ExecuteTime": {
     "end_time": "2018-01-18T11:33:49.910860Z",
     "start_time": "2018-01-18T11:33:49.768321Z"
    },
    "collapsed": false
   },
   "outputs": [
    {
     "data": {
      "text/plain": [
       "array([     0.,   1000.,   2000.,   3000.,   4000.,   5000.,   6000.,\n",
       "         7000.,   8000.,   9000.,  10000.,  11000.,  12000.,  13000.])"
      ]
     },
     "execution_count": 12,
     "metadata": {},
     "output_type": "execute_result"
    }
   ],
   "source": [
    "bin_values"
   ]
  },
  {
   "cell_type": "code",
   "execution_count": 13,
   "metadata": {
    "ExecuteTime": {
     "end_time": "2018-01-18T11:33:50.527906Z",
     "start_time": "2018-01-18T11:33:49.919871Z"
    },
    "collapsed": false
   },
   "outputs": [
    {
     "data": {
      "text/plain": [
       "<matplotlib.axes._subplots.AxesSubplot at 0x1112aa490>"
      ]
     },
     "execution_count": 13,
     "metadata": {},
     "output_type": "execute_result"
    },
    {
     "data": {
      "image/png": "[encoded data removed]",
      "text/plain": [
       "<matplotlib.figure.Figure at 0x118137650>"
      ]
     },
     "metadata": {},
     "output_type": "display_data"
    }
   ],
   "source": [
    "login_train.loc[(login_train.timelong > 0) & (login_train.timelong <= 13209.4)].timelong.hist(bins=bin_values, figsize=[14,6])"
   ]
  },
  {
   "cell_type": "code",
   "execution_count": 14,
   "metadata": {
    "ExecuteTime": {
     "end_time": "2018-01-18T11:33:50.595592Z",
     "start_time": "2018-01-18T11:33:50.532216Z"
    },
    "collapsed": true
   },
   "outputs": [],
   "source": [
    "# min_max = MinMaxScaler(feature_range=[-1,1])"
   ]
  },
  {
   "cell_type": "code",
   "execution_count": 15,
   "metadata": {
    "ExecuteTime": {
     "end_time": "2018-01-18T11:33:50.696114Z",
     "start_time": "2018-01-18T11:33:50.598441Z"
    },
    "collapsed": false
   },
   "outputs": [
    {
     "data": {
      "text/plain": [
       "144399"
      ]
     },
     "execution_count": 15,
     "metadata": {},
     "output_type": "execute_result"
    }
   ],
   "source": [
    "login_train.device.unique().shape[0]"
   ]
  },
  {
   "cell_type": "code",
   "execution_count": 16,
   "metadata": {
    "ExecuteTime": {
     "end_time": "2018-01-18T11:33:50.800418Z",
     "start_time": "2018-01-18T11:33:50.699349Z"
    },
    "collapsed": false
   },
   "outputs": [
    {
     "data": {
      "text/plain": [
       "11"
      ]
     },
     "execution_count": 16,
     "metadata": {},
     "output_type": "execute_result"
    }
   ],
   "source": [
    "login_train.log_from.unique().shape[0]"
   ]
  },
  {
   "cell_type": "code",
   "execution_count": 17,
   "metadata": {
    "ExecuteTime": {
     "end_time": "2018-01-18T11:33:50.930391Z",
     "start_time": "2018-01-18T11:33:50.808718Z"
    },
    "collapsed": false
   },
   "outputs": [
    {
     "data": {
      "text/plain": [
       "1     366410\n",
       "2     196519\n",
       "10     21466\n",
       "11      6601\n",
       "21      2337\n",
       "8        984\n",
       "16       781\n",
       "18       499\n",
       "3         40\n",
       "5          6\n",
       "12         2\n",
       "Name: log_from, dtype: int64"
      ]
     },
     "execution_count": 17,
     "metadata": {},
     "output_type": "execute_result"
    }
   ],
   "source": [
    "login_train.log_from.value_counts()"
   ]
  },
  {
   "cell_type": "code",
   "execution_count": 18,
   "metadata": {
    "ExecuteTime": {
     "end_time": "2018-01-18T11:33:51.647452Z",
     "start_time": "2018-01-18T11:33:50.937990Z"
    },
    "collapsed": false
   },
   "outputs": [
    {
     "data": {
      "text/plain": [
       "<matplotlib.axes._subplots.AxesSubplot at 0x111404b90>"
      ]
     },
     "execution_count": 18,
     "metadata": {},
     "output_type": "execute_result"
    },
    {
     "data": {
      "image/png": "[encoded data removed]",
      "text/plain": [
       "<matplotlib.figure.Figure at 0x118137f90>"
      ]
     },
     "metadata": {},
     "output_type": "display_data"
    }
   ],
   "source": [
    "login_train.log_from.value_counts(normalize=True).plot(kind='bar')"
   ]
  },
  {
   "cell_type": "code",
   "execution_count": 19,
   "metadata": {
    "ExecuteTime": {
     "end_time": "2018-01-18T11:33:51.742970Z",
     "start_time": "2018-01-18T11:33:51.651441Z"
    },
    "collapsed": false
   },
   "outputs": [
    {
     "data": {
      "text/plain": [
       "226968"
      ]
     },
     "execution_count": 19,
     "metadata": {},
     "output_type": "execute_result"
    }
   ],
   "source": [
    "login_train.ip.unique().shape[0]"
   ]
  },
  {
   "cell_type": "code",
   "execution_count": 20,
   "metadata": {
    "ExecuteTime": {
     "end_time": "2018-01-18T11:33:51.931746Z",
     "start_time": "2018-01-18T11:33:51.747752Z"
    },
    "collapsed": false
   },
   "outputs": [
    {
     "data": {
      "text/plain": [
       "359080     20408\n",
       "847186      1737\n",
       "1128532      871\n",
       "1551343      813\n",
       "1297757      467\n",
       "877190       455\n",
       "621905       384\n",
       "451870       379\n",
       "743802       331\n",
       "851032       296\n",
       "799641       288\n",
       "1135082      272\n",
       "65530        241\n",
       "1491826      234\n",
       "248586       221\n",
       "543306       217\n",
       "1419103      212\n",
       "1470087      206\n",
       "1035194      203\n",
       "965693       202\n",
       "1427230      200\n",
       "1385980      193\n",
       "110109       193\n",
       "1110972      191\n",
       "778990       190\n",
       "379828       187\n",
       "622198       182\n",
       "942358       179\n",
       "723633       179\n",
       "744802       177\n",
       "           ...  \n",
       "1203554        1\n",
       "1197409        1\n",
       "255317         1\n",
       "1305940        1\n",
       "212302         1\n",
       "1252682        1\n",
       "197961         1\n",
       "62775          1\n",
       "1113398        1\n",
       "1441174        1\n",
       "282016         1\n",
       "1314216        1\n",
       "607745         1\n",
       "722505         1\n",
       "740928         1\n",
       "589366         1\n",
       "550437         1\n",
       "648725         1\n",
       "811149         1\n",
       "613890         1\n",
       "1480187        1\n",
       "267691         1\n",
       "1476089        1\n",
       "1555934        1\n",
       "1549789        1\n",
       "1560016        1\n",
       "296377         1\n",
       "298424         1\n",
       "1324463        1\n",
       "1052674        1\n",
       "Name: ip, dtype: int64"
      ]
     },
     "execution_count": 20,
     "metadata": {},
     "output_type": "execute_result"
    }
   ],
   "source": [
    "login_train.ip.value_counts()"
   ]
  },
  {
   "cell_type": "code",
   "execution_count": 21,
   "metadata": {
    "ExecuteTime": {
     "end_time": "2018-01-18T11:33:52.092352Z",
     "start_time": "2018-01-18T11:33:51.936703Z"
    },
    "collapsed": true
   },
   "outputs": [],
   "source": [
    "# login_train.ip.value_counts(normalize=True).plot(kind='bar')"
   ]
  },
  {
   "cell_type": "code",
   "execution_count": 22,
   "metadata": {
    "ExecuteTime": {
     "end_time": "2018-01-18T11:33:52.205937Z",
     "start_time": "2018-01-18T11:33:52.097850Z"
    },
    "collapsed": false
   },
   "outputs": [
    {
     "data": {
      "text/plain": [
       "482"
      ]
     },
     "execution_count": 22,
     "metadata": {},
     "output_type": "execute_result"
    }
   ],
   "source": [
    "login_train.city.unique().shape[0]"
   ]
  },
  {
   "cell_type": "code",
   "execution_count": 26,
   "metadata": {
    "ExecuteTime": {
     "end_time": "2018-01-18T11:44:24.735641Z",
     "start_time": "2018-01-18T11:44:24.594697Z"
    },
    "collapsed": false
   },
   "outputs": [
    {
     "data": {
      "text/plain": [
       "194    93098\n",
       "364    36129\n",
       "238    28508\n",
       "44     21335\n",
       "21     18788\n",
       "63     14218\n",
       "78     12823\n",
       "488    12412\n",
       "58     11214\n",
       "277    10383\n",
       "211    10372\n",
       "492     8949\n",
       "447     7872\n",
       "404     7211\n",
       "70      6912\n",
       "69      6853\n",
       "400     6710\n",
       "283     6479\n",
       "37      6403\n",
       "237     6336\n",
       "102     6178\n",
       "217     6127\n",
       "374     6045\n",
       "122     5617\n",
       "484     5337\n",
       "269     5093\n",
       "101     4927\n",
       "59      4525\n",
       "243     4185\n",
       "254     3952\n",
       "       ...  \n",
       "435      438\n",
       "216      434\n",
       "104      431\n",
       "452      430\n",
       "8        430\n",
       "9        426\n",
       "389      424\n",
       "17       423\n",
       "47       420\n",
       "501      416\n",
       "397      403\n",
       "299      397\n",
       "440      396\n",
       "460      395\n",
       "39       395\n",
       "298      395\n",
       "26       395\n",
       "113      392\n",
       "293      390\n",
       "112      389\n",
       "417      383\n",
       "12       381\n",
       "50       380\n",
       "448      380\n",
       "474      379\n",
       "434      377\n",
       "266      374\n",
       "91       371\n",
       "491      369\n",
       "219      365\n",
       "Name: city, dtype: int64"
      ]
     },
     "execution_count": 26,
     "metadata": {},
     "output_type": "execute_result"
    }
   ],
   "source": [
    "login_train.city.value_counts().iloc[:200]"
   ]
  },
  {
   "cell_type": "code",
   "execution_count": 32,
   "metadata": {
    "ExecuteTime": {
     "end_time": "2018-01-18T11:46:03.344009Z",
     "start_time": "2018-01-18T11:46:02.466525Z"
    },
    "collapsed": false
   },
   "outputs": [
    {
     "data": {
      "text/plain": [
       "<matplotlib.axes._subplots.AxesSubplot at 0x116cb9ed0>"
      ]
     },
     "execution_count": 32,
     "metadata": {},
     "output_type": "execute_result"
    },
    {
     "data": {
      "image/png": "[encoded data removed]",
      "text/plain": [
       "<matplotlib.figure.Figure at 0x116640e50>"
      ]
     },
     "metadata": {},
     "output_type": "display_data"
    }
   ],
   "source": [
    "login_train.city.value_counts(normalize=True).iloc[:50].plot(kind='bar')"
   ]
  },
  {
   "cell_type": "code",
   "execution_count": 33,
   "metadata": {
    "ExecuteTime": {
     "end_time": "2018-01-18T11:46:33.947229Z",
     "start_time": "2018-01-18T11:46:32.993833Z"
    },
    "collapsed": false
   },
   "outputs": [
    {
     "data": {
      "text/plain": [
       "<matplotlib.axes._subplots.AxesSubplot at 0x11845a810>"
      ]
     },
     "execution_count": 33,
     "metadata": {},
     "output_type": "execute_result"
    },
    {
     "data": {
      "image/png": "[encoded data removed]",
      "text/plain": [
       "<matplotlib.figure.Figure at 0x117997bd0>"
      ]
     },
     "metadata": {},
     "output_type": "display_data"
    }
   ],
   "source": [
    "login_train.city.value_counts(normalize=True).iloc[-50:].plot(kind='bar')"
   ]
  },
  {
   "cell_type": "code",
   "execution_count": 34,
   "metadata": {
    "ExecuteTime": {
     "end_time": "2018-01-18T11:49:31.145275Z",
     "start_time": "2018-01-18T11:49:31.083024Z"
    },
    "collapsed": false
   },
   "outputs": [
    {
     "data": {
      "text/plain": [
       " 1     460503\n",
       " 31     99345\n",
       "-2      12428\n",
       "-1      11541\n",
       " 6       9973\n",
       " 22       877\n",
       "-4        857\n",
       " 5         71\n",
       " 3         40\n",
       " 23        10\n",
       "Name: result, dtype: int64"
      ]
     },
     "execution_count": 34,
     "metadata": {},
     "output_type": "execute_result"
    }
   ],
   "source": [
    "login_train.result.value_counts()"
   ]
  },
  {
   "cell_type": "code",
   "execution_count": 35,
   "metadata": {
    "ExecuteTime": {
     "end_time": "2018-01-18T11:51:28.338928Z",
     "start_time": "2018-01-18T11:51:28.263811Z"
    },
    "collapsed": false
   },
   "outputs": [
    {
     "data": {
      "text/plain": [
       "3    286783\n",
       "1    248055\n",
       "2     60807\n",
       "Name: type, dtype: int64"
      ]
     },
     "execution_count": 35,
     "metadata": {},
     "output_type": "execute_result"
    }
   ],
   "source": [
    "login_train.type.value_counts()"
   ]
  },
  {
   "cell_type": "code",
   "execution_count": 26,
   "metadata": {
    "ExecuteTime": {
     "end_time": "2018-01-18T16:59:33.027845Z",
     "start_time": "2018-01-18T16:59:32.970913Z"
    },
    "collapsed": false
   },
   "outputs": [
    {
     "data": {
      "text/plain": [
       "0    595645\n",
       "Name: is_sec, dtype: int64"
      ]
     },
     "execution_count": 26,
     "metadata": {},
     "output_type": "execute_result"
    }
   ],
   "source": [
    "login_train.is_sec.value_counts()"
   ]
  },
  {
   "cell_type": "code",
   "execution_count": 27,
   "metadata": {
    "ExecuteTime": {
     "end_time": "2018-01-18T16:59:35.199977Z",
     "start_time": "2018-01-18T16:59:35.101036Z"
    },
    "collapsed": false
   },
   "outputs": [
    {
     "data": {
      "text/plain": [
       "0    574179\n",
       "1     21466\n",
       "Name: is_scan, dtype: int64"
      ]
     },
     "execution_count": 27,
     "metadata": {},
     "output_type": "execute_result"
    }
   ],
   "source": [
    "login_train.is_scan.value_counts()"
   ]
  },
  {
   "cell_type": "code",
   "execution_count": null,
   "metadata": {
    "collapsed": true
   },
   "outputs": [],
   "source": []
  }
 ],
 "metadata": {
  "kernelspec": {
   "display_name": "Python 2",
   "language": "python",
   "name": "python2"
  },
  "language_info": {
   "codemirror_mode": {
    "name": "ipython",
    "version": 2
   },
   "file_extension": ".py",
   "mimetype": "text/x-python",
   "name": "python",
   "nbconvert_exporter": "python",
   "pygments_lexer": "ipython2",
   "version": "2.7.13"
  },
  "varInspector": {
   "cols": {
    "lenName": 16,
    "lenType": 16,
    "lenVar": 40
   },
   "kernels_config": {
    "python": {
     "delete_cmd_postfix": "",
     "delete_cmd_prefix": "del ",
     "library": "var_list.py",
     "varRefreshCmd": "print(var_dic_list())"
    },
    "r": {
     "delete_cmd_postfix": ") ",
     "delete_cmd_prefix": "rm(",
     "library": "var_list.r",
     "varRefreshCmd": "cat(var_dic_list()) "
    }
   },
   "types_to_exclude": [
    "module",
    "function",
    "builtin_function_or_method",
    "instance",
    "_Feature"
   ],
   "window_display": false
  }
 },
 "nbformat": 4,
 "nbformat_minor": 0
}
