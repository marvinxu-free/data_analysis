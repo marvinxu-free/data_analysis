{
 "cells": [
  {
   "cell_type": "code",
   "execution_count": 1,
   "metadata": {
    "ExecuteTime": {
     "end_time": "2018-04-10T11:38:28.869763Z",
     "start_time": "2018-04-10T11:38:27.104531Z"
    },
    "collapsed": false
   },
   "outputs": [],
   "source": [
    "from __future__ import print_function, division\n",
    "import sys\n",
    "reload(sys)\n",
    "sys.setdefaultencoding('utf8')\n",
    "from Utils.common.custerReadFile import read_multi_csv\n",
    "import numpy as np\n",
    "import re\n",
    "from numpy import logical_or, logical_and\n",
    "import pandas as pd\n",
    "import xlsxwriter\n",
    "from Params.path_params import Document_path\n",
    "%matplotlib inline"
   ]
  },
  {
   "cell_type": "code",
   "execution_count": 2,
   "metadata": {
    "ExecuteTime": {
     "end_time": "2018-04-10T11:39:04.266550Z",
     "start_time": "2018-04-10T11:39:04.245686Z"
    },
    "collapsed": true
   },
   "outputs": [],
   "source": [
    "data_file = u\"{0}/aitouzi_dev_simliar/爱投资_ios_推广评估_tag_20180327.xlsx\".format(Document_path)"
   ]
  },
  {
   "cell_type": "code",
   "execution_count": 4,
   "metadata": {
    "ExecuteTime": {
     "end_time": "2018-04-10T11:39:24.964807Z",
     "start_time": "2018-04-10T11:39:24.959732Z"
    },
    "collapsed": true
   },
   "outputs": [],
   "source": [
    "def read_data(xls_file):\n",
    "    \"\"\"\n",
    "    this funtion used to read excel fro samoyed\n",
    "    :param xls_file:\n",
    "    :return:\n",
    "    \"\"\"\n",
    "    df1 = pd.read_excel(io=xls_file, sheet_name=0)\n",
    "    return df1"
   ]
  },
  {
   "cell_type": "code",
   "execution_count": 5,
   "metadata": {
    "ExecuteTime": {
     "end_time": "2018-04-10T11:39:28.849163Z",
     "start_time": "2018-04-10T11:39:25.307444Z"
    },
    "collapsed": false
   },
   "outputs": [],
   "source": [
    "df = read_data(data_file)"
   ]
  },
  {
   "cell_type": "code",
   "execution_count": 6,
   "metadata": {
    "ExecuteTime": {
     "end_time": "2018-04-10T11:39:33.324084Z",
     "start_time": "2018-04-10T11:39:33.293119Z"
    },
    "collapsed": false
   },
   "outputs": [
    {
     "data": {
      "text/html": [
       "<div>\n",
       "<style scoped>\n",
       "    .dataframe tbody tr th:only-of-type {\n",
       "        vertical-align: middle;\n",
       "    }\n",
       "\n",
       "    .dataframe tbody tr th {\n",
       "        vertical-align: top;\n",
       "    }\n",
       "\n",
       "    .dataframe thead th {\n",
       "        text-align: right;\n",
       "    }\n",
       "</style>\n",
       "<table border=\"1\" class=\"dataframe\">\n",
       "  <thead>\n",
       "    <tr style=\"text-align: right;\">\n",
       "      <th></th>\n",
       "      <th>设备1tick</th>\n",
       "      <th>first_idfa</th>\n",
       "      <th>first_idfv</th>\n",
       "      <th>设备1user_id</th>\n",
       "      <th>设备1是否疑似推广欺诈</th>\n",
       "      <th>设备2tick</th>\n",
       "      <th>second_idfa</th>\n",
       "      <th>second_idfv</th>\n",
       "      <th>设备2user_id</th>\n",
       "      <th>设备2是否疑似推广欺诈</th>\n",
       "      <th>关联度</th>\n",
       "    </tr>\n",
       "  </thead>\n",
       "  <tbody>\n",
       "    <tr>\n",
       "      <th>0</th>\n",
       "      <td>1514016432</td>\n",
       "      <td>D23655CE-3305-4A44-9667-058DA677F971</td>\n",
       "      <td>91AF0F4E-5E80-46DA-9C85-FE6160E40B79</td>\n",
       "      <td>0</td>\n",
       "      <td>1</td>\n",
       "      <td>1514811975</td>\n",
       "      <td>C18A295E-5899-4CEA-AF7A-56A62B501D85</td>\n",
       "      <td>6CE20C1C-28CB-41EB-A436-FA1B74AB3BDE</td>\n",
       "      <td>1722992</td>\n",
       "      <td>0</td>\n",
       "      <td>0.918</td>\n",
       "    </tr>\n",
       "    <tr>\n",
       "      <th>1</th>\n",
       "      <td>1514610335</td>\n",
       "      <td>8B1B8694-9CBF-4E13-8A81-AE4D707BFE62</td>\n",
       "      <td>96B33FF4-A3D2-4169-937F-C0BDB3772EC9</td>\n",
       "      <td>103274</td>\n",
       "      <td>0</td>\n",
       "      <td>1514811712</td>\n",
       "      <td>4062CCB5-D48C-4C67-96F5-2E5A9EA9BD72</td>\n",
       "      <td>31C0CE31-DE06-4942-8020-D2222215C2C3</td>\n",
       "      <td>0</td>\n",
       "      <td>1</td>\n",
       "      <td>0.928</td>\n",
       "    </tr>\n",
       "  </tbody>\n",
       "</table>\n",
       "</div>"
      ],
      "text/plain": [
       "      设备1tick                            first_idfa  \\\n",
       "0  1514016432  D23655CE-3305-4A44-9667-058DA677F971   \n",
       "1  1514610335  8B1B8694-9CBF-4E13-8A81-AE4D707BFE62   \n",
       "\n",
       "                             first_idfv  设备1user_id  设备1是否疑似推广欺诈     设备2tick  \\\n",
       "0  91AF0F4E-5E80-46DA-9C85-FE6160E40B79           0            1  1514811975   \n",
       "1  96B33FF4-A3D2-4169-937F-C0BDB3772EC9      103274            0  1514811712   \n",
       "\n",
       "                            second_idfa                           second_idfv  \\\n",
       "0  C18A295E-5899-4CEA-AF7A-56A62B501D85  6CE20C1C-28CB-41EB-A436-FA1B74AB3BDE   \n",
       "1  4062CCB5-D48C-4C67-96F5-2E5A9EA9BD72  31C0CE31-DE06-4942-8020-D2222215C2C3   \n",
       "\n",
       "   设备2user_id  设备2是否疑似推广欺诈    关联度  \n",
       "0     1722992            0  0.918  \n",
       "1           0            1  0.928  "
      ]
     },
     "execution_count": 6,
     "metadata": {},
     "output_type": "execute_result"
    }
   ],
   "source": [
    "df.head(2)"
   ]
  },
  {
   "cell_type": "code",
   "execution_count": null,
   "metadata": {
    "collapsed": true
   },
   "outputs": [],
   "source": [
    "df.groupby([])"
   ]
  }
 ],
 "metadata": {
  "kernelspec": {
   "display_name": "Python 2",
   "language": "python",
   "name": "python2"
  },
  "language_info": {
   "codemirror_mode": {
    "name": "ipython",
    "version": 2
   },
   "file_extension": ".py",
   "mimetype": "text/x-python",
   "name": "python",
   "nbconvert_exporter": "python",
   "pygments_lexer": "ipython2",
   "version": "2.7.13"
  },
  "varInspector": {
   "cols": {
    "lenName": 16,
    "lenType": 16,
    "lenVar": 40
   },
   "kernels_config": {
    "python": {
     "delete_cmd_postfix": "",
     "delete_cmd_prefix": "del ",
     "library": "var_list.py",
     "varRefreshCmd": "print(var_dic_list())"
    },
    "r": {
     "delete_cmd_postfix": ") ",
     "delete_cmd_prefix": "rm(",
     "library": "var_list.r",
     "varRefreshCmd": "cat(var_dic_list()) "
    }
   },
   "types_to_exclude": [
    "module",
    "function",
    "builtin_function_or_method",
    "instance",
    "_Feature"
   ],
   "window_display": false
  }
 },
 "nbformat": 4,
 "nbformat_minor": 0
}
