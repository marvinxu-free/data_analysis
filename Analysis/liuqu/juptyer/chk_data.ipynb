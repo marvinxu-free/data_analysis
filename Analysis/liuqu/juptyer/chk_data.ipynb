{
 "cells": [
  {
   "cell_type": "code",
   "execution_count": 1,
   "metadata": {
    "ExecuteTime": {
     "end_time": "2018-04-03T18:56:47.045701Z",
     "start_time": "2018-04-03T18:56:46.606258Z"
    },
    "collapsed": false
   },
   "outputs": [],
   "source": [
    "from __future__ import print_function, division\n",
    "import sys\n",
    "\n",
    "reload(sys)\n",
    "sys.setdefaultencoding('utf8')\n",
    "from Utils.common.custerReadFile import read_multi_csv\n",
    "import pandas as pd\n",
    "import xlsxwriter\n",
    "from Params.path_params import Document_path, Data_path"
   ]
  },
  {
   "cell_type": "code",
   "execution_count": 2,
   "metadata": {
    "ExecuteTime": {
     "end_time": "2018-04-03T18:56:47.059840Z",
     "start_time": "2018-04-03T18:56:47.048299Z"
    },
    "collapsed": true
   },
   "outputs": [],
   "source": [
    "csv_dir = \"{0}/liuqu/android_csv\".format(Data_path)"
   ]
  },
  {
   "cell_type": "code",
   "execution_count": 3,
   "metadata": {
    "ExecuteTime": {
     "end_time": "2018-04-03T18:56:47.097800Z",
     "start_time": "2018-04-03T18:56:47.069122Z"
    },
    "collapsed": false
   },
   "outputs": [
    {
     "data": {
      "text/plain": [
       "'/Users/chaoxu/code/local-spark/Data/liuqu/android_csv'"
      ]
     },
     "execution_count": 3,
     "metadata": {},
     "output_type": "execute_result"
    }
   ],
   "source": [
    "csv_dir"
   ]
  },
  {
   "cell_type": "code",
   "execution_count": 4,
   "metadata": {
    "ExecuteTime": {
     "end_time": "2018-04-03T18:57:04.292341Z",
     "start_time": "2018-04-03T18:56:47.113774Z"
    },
    "collapsed": true
   },
   "outputs": [],
   "source": [
    "df = read_multi_csv(csv_dir)"
   ]
  },
  {
   "cell_type": "code",
   "execution_count": 5,
   "metadata": {
    "ExecuteTime": {
     "end_time": "2018-04-03T18:57:04.336763Z",
     "start_time": "2018-04-03T18:57:04.294450Z"
    },
    "collapsed": false
   },
   "outputs": [
    {
     "data": {
      "text/plain": [
       "(311860, 34)"
      ]
     },
     "execution_count": 5,
     "metadata": {},
     "output_type": "execute_result"
    }
   ],
   "source": [
    "df.shape"
   ]
  },
  {
   "cell_type": "code",
   "execution_count": 6,
   "metadata": {
    "ExecuteTime": {
     "end_time": "2018-04-03T18:57:13.845832Z",
     "start_time": "2018-04-03T18:57:13.775280Z"
    },
    "collapsed": false
   },
   "outputs": [
    {
     "data": {
      "text/html": [
       "<div>\n",
       "<style scoped>\n",
       "    .dataframe tbody tr th:only-of-type {\n",
       "        vertical-align: middle;\n",
       "    }\n",
       "\n",
       "    .dataframe tbody tr th {\n",
       "        vertical-align: top;\n",
       "    }\n",
       "\n",
       "    .dataframe thead th {\n",
       "        text-align: right;\n",
       "    }\n",
       "</style>\n",
       "<table border=\"1\" class=\"dataframe\">\n",
       "  <thead>\n",
       "    <tr style=\"text-align: right;\">\n",
       "      <th></th>\n",
       "      <th>__tact</th>\n",
       "      <th>aid</th>\n",
       "      <th>appversion</th>\n",
       "      <th>brand</th>\n",
       "      <th>campaign_id</th>\n",
       "      <th>city</th>\n",
       "      <th>ckid</th>\n",
       "      <th>country</th>\n",
       "      <th>country_code</th>\n",
       "      <th>cr</th>\n",
       "      <th>...</th>\n",
       "      <th>resolution</th>\n",
       "      <th>sdkversion</th>\n",
       "      <th>session_id</th>\n",
       "      <th>sub_pid</th>\n",
       "      <th>tid</th>\n",
       "      <th>timestamp</th>\n",
       "      <th>typeclass</th>\n",
       "      <th>ua_mismatch</th>\n",
       "      <th>user_agent</th>\n",
       "      <th>userid</th>\n",
       "    </tr>\n",
       "  </thead>\n",
       "  <tbody>\n",
       "    <tr>\n",
       "      <th>0</th>\n",
       "      <td>START</td>\n",
       "      <td>53cc4b0430b56a1d</td>\n",
       "      <td>2.8.231.0328.231</td>\n",
       "      <td>VIVO</td>\n",
       "      <td>UNKNOWN</td>\n",
       "      <td>扬州市</td>\n",
       "      <td>NaN</td>\n",
       "      <td>中国</td>\n",
       "      <td>CHN</td>\n",
       "      <td>CHINA  MOBILE</td>\n",
       "      <td>...</td>\n",
       "      <td>720,1280,2.0</td>\n",
       "      <td>2.5.9m</td>\n",
       "      <td>53cc4b0430b56a1d-20180401-null</td>\n",
       "      <td>NaN</td>\n",
       "      <td>7b249443ea633971a572c6d0a5d26932</td>\n",
       "      <td>NaN</td>\n",
       "      <td>ACT</td>\n",
       "      <td>False</td>\n",
       "      <td>Mozilla/5.0 (Linux; Android 5.1.1; vivo V3 Bui...</td>\n",
       "      <td>NaN</td>\n",
       "    </tr>\n",
       "    <tr>\n",
       "      <th>1</th>\n",
       "      <td>INSTALL</td>\n",
       "      <td>2910792c230108f1</td>\n",
       "      <td>2.8.231.0328.231</td>\n",
       "      <td>VIVO</td>\n",
       "      <td>UNKNOWN</td>\n",
       "      <td>徐州市</td>\n",
       "      <td>NaN</td>\n",
       "      <td>中国</td>\n",
       "      <td>CHN</td>\n",
       "      <td>UNKNOWN</td>\n",
       "      <td>...</td>\n",
       "      <td>720,1280,2.0</td>\n",
       "      <td>2.5.9m</td>\n",
       "      <td>2910792c230108f1-20180401-null</td>\n",
       "      <td>NaN</td>\n",
       "      <td>7b249443ea633971a572c6d0a5d26932</td>\n",
       "      <td>NaN</td>\n",
       "      <td>ACT</td>\n",
       "      <td>False</td>\n",
       "      <td>Mozilla/5.0 (Linux; Android 5.0.2; vivo Y35A B...</td>\n",
       "      <td>NaN</td>\n",
       "    </tr>\n",
       "    <tr>\n",
       "      <th>2</th>\n",
       "      <td>START</td>\n",
       "      <td>b91e67eeb4d853ab</td>\n",
       "      <td>2.8.231.0328.231</td>\n",
       "      <td>VIVO</td>\n",
       "      <td>UNKNOWN</td>\n",
       "      <td>UNKNOWN</td>\n",
       "      <td>NaN</td>\n",
       "      <td>中国</td>\n",
       "      <td>CHN</td>\n",
       "      <td>CMCC</td>\n",
       "      <td>...</td>\n",
       "      <td>1080,1920,3.0</td>\n",
       "      <td>2.5.9m</td>\n",
       "      <td>b91e67eeb4d853ab-20180401-null</td>\n",
       "      <td>NaN</td>\n",
       "      <td>7b249443ea633971a572c6d0a5d26932</td>\n",
       "      <td>NaN</td>\n",
       "      <td>ACT</td>\n",
       "      <td>False</td>\n",
       "      <td>Mozilla/5.0 (Linux; Android 7.1.2; vivo X9 Bui...</td>\n",
       "      <td>NaN</td>\n",
       "    </tr>\n",
       "    <tr>\n",
       "      <th>3</th>\n",
       "      <td>START</td>\n",
       "      <td>5b5ec86b5eda1345</td>\n",
       "      <td>2.8.231.0328.231</td>\n",
       "      <td>VIVO</td>\n",
       "      <td>UNKNOWN</td>\n",
       "      <td>杭州市</td>\n",
       "      <td>NaN</td>\n",
       "      <td>中国</td>\n",
       "      <td>CHN</td>\n",
       "      <td>CMCC</td>\n",
       "      <td>...</td>\n",
       "      <td>720,1280,2.0</td>\n",
       "      <td>2.5.9m</td>\n",
       "      <td>5b5ec86b5eda1345-20180401-null</td>\n",
       "      <td>NaN</td>\n",
       "      <td>7b249443ea633971a572c6d0a5d26932</td>\n",
       "      <td>NaN</td>\n",
       "      <td>ACT</td>\n",
       "      <td>False</td>\n",
       "      <td>Mozilla/5.0 (Linux; Android 6.0; vivo Y67L Bui...</td>\n",
       "      <td>NaN</td>\n",
       "    </tr>\n",
       "    <tr>\n",
       "      <th>4</th>\n",
       "      <td>INSTALL</td>\n",
       "      <td>6c1d21d82b802c07</td>\n",
       "      <td>2.8.231.0328.231</td>\n",
       "      <td>VIVO</td>\n",
       "      <td>UNKNOWN</td>\n",
       "      <td>临沂市</td>\n",
       "      <td>NaN</td>\n",
       "      <td>中国</td>\n",
       "      <td>CHN</td>\n",
       "      <td>CMCC</td>\n",
       "      <td>...</td>\n",
       "      <td>720,1280,2.0</td>\n",
       "      <td>2.5.9m</td>\n",
       "      <td>6c1d21d82b802c07-20180401-null</td>\n",
       "      <td>NaN</td>\n",
       "      <td>7b249443ea633971a572c6d0a5d26932</td>\n",
       "      <td>NaN</td>\n",
       "      <td>ACT</td>\n",
       "      <td>False</td>\n",
       "      <td>Mozilla/5.0 (Linux; U; Android 4.3; zh-cn; viv...</td>\n",
       "      <td>NaN</td>\n",
       "    </tr>\n",
       "  </tbody>\n",
       "</table>\n",
       "<p>5 rows × 34 columns</p>\n",
       "</div>"
      ],
      "text/plain": [
       "    __tact               aid        appversion brand campaign_id     city  \\\n",
       "0    START  53cc4b0430b56a1d  2.8.231.0328.231  VIVO     UNKNOWN      扬州市   \n",
       "1  INSTALL  2910792c230108f1  2.8.231.0328.231  VIVO     UNKNOWN      徐州市   \n",
       "2    START  b91e67eeb4d853ab  2.8.231.0328.231  VIVO     UNKNOWN  UNKNOWN   \n",
       "3    START  5b5ec86b5eda1345  2.8.231.0328.231  VIVO     UNKNOWN      杭州市   \n",
       "4  INSTALL  6c1d21d82b802c07  2.8.231.0328.231  VIVO     UNKNOWN      临沂市   \n",
       "\n",
       "   ckid country country_code             cr  ...       resolution sdkversion  \\\n",
       "0   NaN      中国          CHN  CHINA  MOBILE  ...     720,1280,2.0     2.5.9m   \n",
       "1   NaN      中国          CHN        UNKNOWN  ...     720,1280,2.0     2.5.9m   \n",
       "2   NaN      中国          CHN           CMCC  ...    1080,1920,3.0     2.5.9m   \n",
       "3   NaN      中国          CHN           CMCC  ...     720,1280,2.0     2.5.9m   \n",
       "4   NaN      中国          CHN           CMCC  ...     720,1280,2.0     2.5.9m   \n",
       "\n",
       "                       session_id sub_pid                               tid  \\\n",
       "0  53cc4b0430b56a1d-20180401-null     NaN  7b249443ea633971a572c6d0a5d26932   \n",
       "1  2910792c230108f1-20180401-null     NaN  7b249443ea633971a572c6d0a5d26932   \n",
       "2  b91e67eeb4d853ab-20180401-null     NaN  7b249443ea633971a572c6d0a5d26932   \n",
       "3  5b5ec86b5eda1345-20180401-null     NaN  7b249443ea633971a572c6d0a5d26932   \n",
       "4  6c1d21d82b802c07-20180401-null     NaN  7b249443ea633971a572c6d0a5d26932   \n",
       "\n",
       "  timestamp  typeclass ua_mismatch  \\\n",
       "0       NaN        ACT       False   \n",
       "1       NaN        ACT       False   \n",
       "2       NaN        ACT       False   \n",
       "3       NaN        ACT       False   \n",
       "4       NaN        ACT       False   \n",
       "\n",
       "                                          user_agent userid  \n",
       "0  Mozilla/5.0 (Linux; Android 5.1.1; vivo V3 Bui...    NaN  \n",
       "1  Mozilla/5.0 (Linux; Android 5.0.2; vivo Y35A B...    NaN  \n",
       "2  Mozilla/5.0 (Linux; Android 7.1.2; vivo X9 Bui...    NaN  \n",
       "3  Mozilla/5.0 (Linux; Android 6.0; vivo Y67L Bui...    NaN  \n",
       "4  Mozilla/5.0 (Linux; U; Android 4.3; zh-cn; viv...    NaN  \n",
       "\n",
       "[5 rows x 34 columns]"
      ]
     },
     "execution_count": 6,
     "metadata": {},
     "output_type": "execute_result"
    }
   ],
   "source": [
    "df.head()"
   ]
  },
  {
   "cell_type": "code",
   "execution_count": 12,
   "metadata": {
    "ExecuteTime": {
     "end_time": "2018-04-03T21:20:27.446313Z",
     "start_time": "2018-04-03T21:20:26.428495Z"
    },
    "collapsed": false
   },
   "outputs": [
    {
     "data": {
      "text/plain": [
       "(311860, 35)"
      ]
     },
     "execution_count": 12,
     "metadata": {},
     "output_type": "execute_result"
    }
   ],
   "source": [
    "df.loc[df.timestamp.isnull()].shape"
   ]
  },
  {
   "cell_type": "code",
   "execution_count": 8,
   "metadata": {
    "ExecuteTime": {
     "end_time": "2018-04-03T18:58:14.779956Z",
     "start_time": "2018-04-03T18:58:14.775439Z"
    },
    "collapsed": false
   },
   "outputs": [
    {
     "data": {
      "text/plain": [
       "dtype('float64')"
      ]
     },
     "execution_count": 8,
     "metadata": {},
     "output_type": "execute_result"
    }
   ],
   "source": [
    "df.timestamp.dtype"
   ]
  },
  {
   "cell_type": "code",
   "execution_count": 10,
   "metadata": {
    "ExecuteTime": {
     "end_time": "2018-04-03T19:00:15.282391Z",
     "start_time": "2018-04-03T19:00:14.744512Z"
    },
    "collapsed": false
   },
   "outputs": [],
   "source": [
    "df[u\"时间\"] = \\\n",
    "        pd.to_datetime(df['timestamp'],\n",
    "                       unit=\"ms\",utc=True).dt.strftime(\"%Y/%m/%d %H:%M\")"
   ]
  },
  {
   "cell_type": "code",
   "execution_count": 11,
   "metadata": {
    "ExecuteTime": {
     "end_time": "2018-04-03T21:20:09.128436Z",
     "start_time": "2018-04-03T21:20:07.846137Z"
    },
    "collapsed": false
   },
   "outputs": [
    {
     "data": {
      "text/html": [
       "<div>\n",
       "<style scoped>\n",
       "    .dataframe tbody tr th:only-of-type {\n",
       "        vertical-align: middle;\n",
       "    }\n",
       "\n",
       "    .dataframe tbody tr th {\n",
       "        vertical-align: top;\n",
       "    }\n",
       "\n",
       "    .dataframe thead th {\n",
       "        text-align: right;\n",
       "    }\n",
       "</style>\n",
       "<table border=\"1\" class=\"dataframe\">\n",
       "  <thead>\n",
       "    <tr style=\"text-align: right;\">\n",
       "      <th></th>\n",
       "      <th>__tact</th>\n",
       "      <th>aid</th>\n",
       "      <th>appversion</th>\n",
       "      <th>brand</th>\n",
       "      <th>campaign_id</th>\n",
       "      <th>city</th>\n",
       "      <th>ckid</th>\n",
       "      <th>country</th>\n",
       "      <th>country_code</th>\n",
       "      <th>cr</th>\n",
       "      <th>...</th>\n",
       "      <th>sdkversion</th>\n",
       "      <th>session_id</th>\n",
       "      <th>sub_pid</th>\n",
       "      <th>tid</th>\n",
       "      <th>timestamp</th>\n",
       "      <th>typeclass</th>\n",
       "      <th>ua_mismatch</th>\n",
       "      <th>user_agent</th>\n",
       "      <th>userid</th>\n",
       "      <th>时间</th>\n",
       "    </tr>\n",
       "  </thead>\n",
       "  <tbody>\n",
       "    <tr>\n",
       "      <th>0</th>\n",
       "      <td>START</td>\n",
       "      <td>53cc4b0430b56a1d</td>\n",
       "      <td>2.8.231.0328.231</td>\n",
       "      <td>VIVO</td>\n",
       "      <td>UNKNOWN</td>\n",
       "      <td>扬州市</td>\n",
       "      <td>NaN</td>\n",
       "      <td>中国</td>\n",
       "      <td>CHN</td>\n",
       "      <td>CHINA  MOBILE</td>\n",
       "      <td>...</td>\n",
       "      <td>2.5.9m</td>\n",
       "      <td>53cc4b0430b56a1d-20180401-null</td>\n",
       "      <td>NaN</td>\n",
       "      <td>7b249443ea633971a572c6d0a5d26932</td>\n",
       "      <td>NaN</td>\n",
       "      <td>ACT</td>\n",
       "      <td>False</td>\n",
       "      <td>Mozilla/5.0 (Linux; Android 5.1.1; vivo V3 Bui...</td>\n",
       "      <td>NaN</td>\n",
       "      <td>NaT</td>\n",
       "    </tr>\n",
       "    <tr>\n",
       "      <th>1</th>\n",
       "      <td>INSTALL</td>\n",
       "      <td>2910792c230108f1</td>\n",
       "      <td>2.8.231.0328.231</td>\n",
       "      <td>VIVO</td>\n",
       "      <td>UNKNOWN</td>\n",
       "      <td>徐州市</td>\n",
       "      <td>NaN</td>\n",
       "      <td>中国</td>\n",
       "      <td>CHN</td>\n",
       "      <td>UNKNOWN</td>\n",
       "      <td>...</td>\n",
       "      <td>2.5.9m</td>\n",
       "      <td>2910792c230108f1-20180401-null</td>\n",
       "      <td>NaN</td>\n",
       "      <td>7b249443ea633971a572c6d0a5d26932</td>\n",
       "      <td>NaN</td>\n",
       "      <td>ACT</td>\n",
       "      <td>False</td>\n",
       "      <td>Mozilla/5.0 (Linux; Android 5.0.2; vivo Y35A B...</td>\n",
       "      <td>NaN</td>\n",
       "      <td>NaT</td>\n",
       "    </tr>\n",
       "    <tr>\n",
       "      <th>2</th>\n",
       "      <td>START</td>\n",
       "      <td>b91e67eeb4d853ab</td>\n",
       "      <td>2.8.231.0328.231</td>\n",
       "      <td>VIVO</td>\n",
       "      <td>UNKNOWN</td>\n",
       "      <td>UNKNOWN</td>\n",
       "      <td>NaN</td>\n",
       "      <td>中国</td>\n",
       "      <td>CHN</td>\n",
       "      <td>CMCC</td>\n",
       "      <td>...</td>\n",
       "      <td>2.5.9m</td>\n",
       "      <td>b91e67eeb4d853ab-20180401-null</td>\n",
       "      <td>NaN</td>\n",
       "      <td>7b249443ea633971a572c6d0a5d26932</td>\n",
       "      <td>NaN</td>\n",
       "      <td>ACT</td>\n",
       "      <td>False</td>\n",
       "      <td>Mozilla/5.0 (Linux; Android 7.1.2; vivo X9 Bui...</td>\n",
       "      <td>NaN</td>\n",
       "      <td>NaT</td>\n",
       "    </tr>\n",
       "    <tr>\n",
       "      <th>3</th>\n",
       "      <td>START</td>\n",
       "      <td>5b5ec86b5eda1345</td>\n",
       "      <td>2.8.231.0328.231</td>\n",
       "      <td>VIVO</td>\n",
       "      <td>UNKNOWN</td>\n",
       "      <td>杭州市</td>\n",
       "      <td>NaN</td>\n",
       "      <td>中国</td>\n",
       "      <td>CHN</td>\n",
       "      <td>CMCC</td>\n",
       "      <td>...</td>\n",
       "      <td>2.5.9m</td>\n",
       "      <td>5b5ec86b5eda1345-20180401-null</td>\n",
       "      <td>NaN</td>\n",
       "      <td>7b249443ea633971a572c6d0a5d26932</td>\n",
       "      <td>NaN</td>\n",
       "      <td>ACT</td>\n",
       "      <td>False</td>\n",
       "      <td>Mozilla/5.0 (Linux; Android 6.0; vivo Y67L Bui...</td>\n",
       "      <td>NaN</td>\n",
       "      <td>NaT</td>\n",
       "    </tr>\n",
       "    <tr>\n",
       "      <th>4</th>\n",
       "      <td>INSTALL</td>\n",
       "      <td>6c1d21d82b802c07</td>\n",
       "      <td>2.8.231.0328.231</td>\n",
       "      <td>VIVO</td>\n",
       "      <td>UNKNOWN</td>\n",
       "      <td>临沂市</td>\n",
       "      <td>NaN</td>\n",
       "      <td>中国</td>\n",
       "      <td>CHN</td>\n",
       "      <td>CMCC</td>\n",
       "      <td>...</td>\n",
       "      <td>2.5.9m</td>\n",
       "      <td>6c1d21d82b802c07-20180401-null</td>\n",
       "      <td>NaN</td>\n",
       "      <td>7b249443ea633971a572c6d0a5d26932</td>\n",
       "      <td>NaN</td>\n",
       "      <td>ACT</td>\n",
       "      <td>False</td>\n",
       "      <td>Mozilla/5.0 (Linux; U; Android 4.3; zh-cn; viv...</td>\n",
       "      <td>NaN</td>\n",
       "      <td>NaT</td>\n",
       "    </tr>\n",
       "  </tbody>\n",
       "</table>\n",
       "<p>5 rows × 35 columns</p>\n",
       "</div>"
      ],
      "text/plain": [
       "    __tact               aid        appversion brand campaign_id     city  \\\n",
       "0    START  53cc4b0430b56a1d  2.8.231.0328.231  VIVO     UNKNOWN      扬州市   \n",
       "1  INSTALL  2910792c230108f1  2.8.231.0328.231  VIVO     UNKNOWN      徐州市   \n",
       "2    START  b91e67eeb4d853ab  2.8.231.0328.231  VIVO     UNKNOWN  UNKNOWN   \n",
       "3    START  5b5ec86b5eda1345  2.8.231.0328.231  VIVO     UNKNOWN      杭州市   \n",
       "4  INSTALL  6c1d21d82b802c07  2.8.231.0328.231  VIVO     UNKNOWN      临沂市   \n",
       "\n",
       "   ckid country country_code             cr ...  sdkversion  \\\n",
       "0   NaN      中国          CHN  CHINA  MOBILE ...      2.5.9m   \n",
       "1   NaN      中国          CHN        UNKNOWN ...      2.5.9m   \n",
       "2   NaN      中国          CHN           CMCC ...      2.5.9m   \n",
       "3   NaN      中国          CHN           CMCC ...      2.5.9m   \n",
       "4   NaN      中国          CHN           CMCC ...      2.5.9m   \n",
       "\n",
       "                       session_id sub_pid                               tid  \\\n",
       "0  53cc4b0430b56a1d-20180401-null     NaN  7b249443ea633971a572c6d0a5d26932   \n",
       "1  2910792c230108f1-20180401-null     NaN  7b249443ea633971a572c6d0a5d26932   \n",
       "2  b91e67eeb4d853ab-20180401-null     NaN  7b249443ea633971a572c6d0a5d26932   \n",
       "3  5b5ec86b5eda1345-20180401-null     NaN  7b249443ea633971a572c6d0a5d26932   \n",
       "4  6c1d21d82b802c07-20180401-null     NaN  7b249443ea633971a572c6d0a5d26932   \n",
       "\n",
       "   timestamp typeclass  ua_mismatch  \\\n",
       "0        NaN       ACT        False   \n",
       "1        NaN       ACT        False   \n",
       "2        NaN       ACT        False   \n",
       "3        NaN       ACT        False   \n",
       "4        NaN       ACT        False   \n",
       "\n",
       "                                          user_agent userid   时间  \n",
       "0  Mozilla/5.0 (Linux; Android 5.1.1; vivo V3 Bui...    NaN  NaT  \n",
       "1  Mozilla/5.0 (Linux; Android 5.0.2; vivo Y35A B...    NaN  NaT  \n",
       "2  Mozilla/5.0 (Linux; Android 7.1.2; vivo X9 Bui...    NaN  NaT  \n",
       "3  Mozilla/5.0 (Linux; Android 6.0; vivo Y67L Bui...    NaN  NaT  \n",
       "4  Mozilla/5.0 (Linux; U; Android 4.3; zh-cn; viv...    NaN  NaT  \n",
       "\n",
       "[5 rows x 35 columns]"
      ]
     },
     "execution_count": 11,
     "metadata": {},
     "output_type": "execute_result"
    }
   ],
   "source": [
    "df.head()"
   ]
  },
  {
   "cell_type": "code",
   "execution_count": null,
   "metadata": {
    "collapsed": true
   },
   "outputs": [],
   "source": []
  }
 ],
 "metadata": {
  "kernelspec": {
   "display_name": "Python 2",
   "language": "python",
   "name": "python2"
  },
  "language_info": {
   "codemirror_mode": {
    "name": "ipython",
    "version": 2
   },
   "file_extension": ".py",
   "mimetype": "text/x-python",
   "name": "python",
   "nbconvert_exporter": "python",
   "pygments_lexer": "ipython2",
   "version": "2.7.13"
  },
  "varInspector": {
   "cols": {
    "lenName": 16,
    "lenType": 16,
    "lenVar": 40
   },
   "kernels_config": {
    "python": {
     "delete_cmd_postfix": "",
     "delete_cmd_prefix": "del ",
     "library": "var_list.py",
     "varRefreshCmd": "print(var_dic_list())"
    },
    "r": {
     "delete_cmd_postfix": ") ",
     "delete_cmd_prefix": "rm(",
     "library": "var_list.r",
     "varRefreshCmd": "cat(var_dic_list()) "
    }
   },
   "types_to_exclude": [
    "module",
    "function",
    "builtin_function_or_method",
    "instance",
    "_Feature"
   ],
   "window_display": false
  }
 },
 "nbformat": 4,
 "nbformat_minor": 0
}
