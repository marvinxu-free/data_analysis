{
 "cells": [
  {
   "cell_type": "code",
   "execution_count": 1,
   "metadata": {
    "collapsed": false
   },
   "outputs": [],
   "source": [
    "import pandas as pd\n",
    "import numpy as np\n",
    "import matplotlib.pyplot as plt\n",
    "from __future__ import print_function,division\n",
    "from Pic.maxent_font import tick_font\n",
    "from Utils.gridCV import gridCV"
   ]
  },
  {
   "cell_type": "code",
   "execution_count": 2,
   "metadata": {
    "collapsed": false
   },
   "outputs": [],
   "source": [
    "image_path = \"/Users/chaoxu/code/local-spark/Data/image_qiancheng\"\n",
    "ratio = 0.05\n",
    "model = 'rf'\n",
    "version = '6v1.0sm'"
   ]
  },
  {
   "cell_type": "code",
   "execution_count": 3,
   "metadata": {
    "collapsed": false
   },
   "outputs": [],
   "source": [
    "df = pd.read_csv(\"/Users/chaoxu/code/local-spark/Data/qiancheng_data/qiancheng_sample_new_merge_{0}/data.csv\".format(ratio))"
   ]
  },
  {
   "cell_type": "code",
   "execution_count": 4,
   "metadata": {
    "collapsed": false
   },
   "outputs": [],
   "source": [
    "# df_ios_test = pd.read_csv(\"/Users/chaoxu/code/local-spark/Data/qiancheng_ios_vld_0.05_unsample.csv\")"
   ]
  },
  {
   "cell_type": "code",
   "execution_count": 5,
   "metadata": {
    "collapsed": false
   },
   "outputs": [],
   "source": [
    "# df_ios_test.dtypes"
   ]
  },
  {
   "cell_type": "code",
   "execution_count": 6,
   "metadata": {
    "collapsed": false
   },
   "outputs": [],
   "source": [
    "# df_android_test = pd.read_csv(\"/Users/chaoxu/code/local-spark/Data/qiancheng_android_vld_0.05_unsample.csv\")"
   ]
  },
  {
   "cell_type": "code",
   "execution_count": 7,
   "metadata": {
    "collapsed": false
   },
   "outputs": [],
   "source": [
    "def merge_ua_proxy(row):\n",
    "    if row['uaMismatch.value'] >= 1 or row['proxyIP.value'] >=1:\n",
    "        return 1\n",
    "    else:\n",
    "        return 0\n",
    "df['proxy_ua'] = df.apply(merge_ua_proxy,axis=1)\n"
   ]
  },
  {
   "cell_type": "code",
   "execution_count": 8,
   "metadata": {
    "collapsed": false
   },
   "outputs": [
    {
     "data": {
      "text/plain": [
       "android    31993\n",
       "ios        18005\n",
       "Name: os, dtype: int64"
      ]
     },
     "execution_count": 8,
     "metadata": {},
     "output_type": "execute_result"
    }
   ],
   "source": [
    "df.os.value_counts()"
   ]
  },
  {
   "cell_type": "code",
   "execution_count": 9,
   "metadata": {
    "collapsed": false
   },
   "outputs": [],
   "source": [
    "def resample(data, positiveRatio=0.04):\n",
    "    positive = data[data[\"label\"] == 1]\n",
    "    negative = data[data[\"label\"] == 0]\n",
    "    n = int((1 - positiveRatio) / positiveRatio) * positive.shape[0]\n",
    "    print(n)\n",
    "    _negative = negative.sample(n=n)\n",
    "    df = pd.concat([positive, _negative])\n",
    "    return df"
   ]
  },
  {
   "cell_type": "code",
   "execution_count": 10,
   "metadata": {
    "collapsed": false
   },
   "outputs": [],
   "source": [
    "df[['label']]=df[['label']].fillna(0)"
   ]
  },
  {
   "cell_type": "code",
   "execution_count": 11,
   "metadata": {
    "collapsed": false
   },
   "outputs": [
    {
     "data": {
      "text/plain": [
       "159"
      ]
     },
     "execution_count": 11,
     "metadata": {},
     "output_type": "execute_result"
    }
   ],
   "source": [
    "df.loc[(df.label == 1) & (df.os == 'ios')]['maxent_id'].drop_duplicates().count()"
   ]
  },
  {
   "cell_type": "code",
   "execution_count": 12,
   "metadata": {
    "collapsed": false
   },
   "outputs": [
    {
     "data": {
      "text/plain": [
       "303"
      ]
     },
     "execution_count": 12,
     "metadata": {},
     "output_type": "execute_result"
    }
   ],
   "source": [
    "df.loc[(df.label == 1) & (df.os == 'android')]['maxent_id'].drop_duplicates().count()"
   ]
  },
  {
   "cell_type": "code",
   "execution_count": 13,
   "metadata": {
    "collapsed": false
   },
   "outputs": [],
   "source": [
    "from datetime import datetime, timedelta\n",
    "df[\"timestamp\"] = pd.to_datetime(df['timestamp'], unit='ms', utc=True)\n",
    "df[\"timestamp\"] = pd.DatetimeIndex(df[\"timestamp\"]) + timedelta(hours=8)\n",
    "df = df.sort_values(by=\"timestamp\")\n",
    "# df_maxent_id = df['maxent_id'].reset_index(drop=True)\n",
    "# df_ios_maxent_id = df.loc[df.os == 'ios']['maxent_id'].reset_index(drop=True)\n",
    "# df_android_maxent_id = df.loc[df.os == 'android']['maxent_id'].reset_index(drop=True)\n",
    "# df = df.drop(['idcIP.anomaly', 'cracked.anomaly', 'uaMismatch.anomaly','uaMismatch.value','proxyIP.value','proxyIP.anomaly',\"timestamp\",\"maxent_id\",\"timestamp\",'ipSeg24','ipGeo','event_id','scenario'],axis=1)\n",
    "df = df.drop([\"timestamp\",\"timestamp\",'ipSeg24','ipGeo','event_id','scenario'],axis=1)\n",
    "\n",
    "df[['label']]=df[['label']].fillna(0)\n",
    "df[['label']] = df[['label']].astype(int)\n",
    "df = df.loc[df['event_type'] =='ACT']\n",
    "df = df.drop(['event_type'],axis=1)"
   ]
  },
  {
   "cell_type": "code",
   "execution_count": 14,
   "metadata": {
    "collapsed": false
   },
   "outputs": [],
   "source": [
    "import re\n",
    "anormaly = re.compile('.*anomaly$')\n",
    "anormaly_match = np.vectorize(lambda x:bool(anormaly.match(x)))\n",
    "anormaly_cols = df.columns.values[anormaly_match(df.columns.values)]\n",
    "\n",
    "value = re.compile('.*value$')\n",
    "value_match = np.vectorize(lambda x:bool(value.match(x)))\n",
    "value_cols = df.columns.values[value_match(df.columns.values)]\n",
    "\n",
    "count = re.compile('.*counts$')\n",
    "count_match = np.vectorize(lambda x:bool(count.match(x)))\n",
    "count_cols = df.columns.values[count_match(df.columns.values)]\n",
    "\n",
    "loan = re.compile('.*loan$')\n",
    "loan_match = np.vectorize(lambda x:bool(loan.match(x)))\n",
    "loan_cols = df.columns.values[loan_match(df.columns.values)]"
   ]
  },
  {
   "cell_type": "code",
   "execution_count": 15,
   "metadata": {
    "collapsed": false
   },
   "outputs": [
    {
     "data": {
      "image/png": "[encoded data removed]",
      "text/plain": [
       "<matplotlib.figure.Figure at 0x113a5ac90>"
      ]
     },
     "metadata": {},
     "output_type": "display_data"
    }
   ],
   "source": [
    "cols = df.columns\n",
    "fig, ax = plt.subplots(figsize=(16,9))\n",
    "ax.barh(range(len(cols)),df[cols].isnull().sum()/df.shape[0])\n",
    "ax.set_yticks(range(len(cols)))\n",
    "ax.set_yticklabels(cols, size=14)\n",
    "ax.set_title('features nan percentage',size= 18)\n",
    "plt.show()"
   ]
  },
  {
   "cell_type": "code",
   "execution_count": 16,
   "metadata": {
    "collapsed": false
   },
   "outputs": [],
   "source": [
    "# df[loan_cols]=df[loan_cols].fillna(0)"
   ]
  },
  {
   "cell_type": "code",
   "execution_count": 17,
   "metadata": {
    "collapsed": true
   },
   "outputs": [],
   "source": [
    "from Utils.transfer_event_dev import transfer_event_to_device\n",
    "df = transfer_event_to_device(df)"
   ]
  },
  {
   "cell_type": "code",
   "execution_count": 18,
   "metadata": {
    "collapsed": false
   },
   "outputs": [],
   "source": [
    "# df[anormaly_cols] = df[anormaly_cols].fillna(1)\n",
    "# df[value_cols] = df[value_cols].fillna(1)"
   ]
  },
  {
   "cell_type": "code",
   "execution_count": 19,
   "metadata": {
    "collapsed": false
   },
   "outputs": [
    {
     "data": {
      "text/plain": [
       "Index([u'maxent_id', u'os'], dtype='object')"
      ]
     },
     "execution_count": 19,
     "metadata": {},
     "output_type": "execute_result"
    }
   ],
   "source": [
    "obj_df = df.select_dtypes(include=['object'])\n",
    "obj_df.columns"
   ]
  },
  {
   "cell_type": "code",
   "execution_count": 20,
   "metadata": {
    "collapsed": false
   },
   "outputs": [
    {
     "data": {
      "text/plain": [
       "Index([], dtype='object')"
      ]
     },
     "execution_count": 20,
     "metadata": {},
     "output_type": "execute_result"
    }
   ],
   "source": [
    "bool_df = df.select_dtypes(include=['bool'])\n",
    "bool_df.columns"
   ]
  },
  {
   "cell_type": "code",
   "execution_count": 21,
   "metadata": {
    "collapsed": false
   },
   "outputs": [],
   "source": [
    "# df[count_cols]=df[count_cols].fillna(0)"
   ]
  },
  {
   "cell_type": "code",
   "execution_count": 22,
   "metadata": {
    "collapsed": false
   },
   "outputs": [
    {
     "data": {
      "text/plain": [
       "Series([], dtype: float64)"
      ]
     },
     "execution_count": 22,
     "metadata": {},
     "output_type": "execute_result"
    }
   ],
   "source": [
    "def show_missing():\n",
    "    missing = df.columns[df.isnull().any()].tolist()\n",
    "    return missing\n",
    "df[show_missing()].isnull().sum()"
   ]
  },
  {
   "cell_type": "code",
   "execution_count": null,
   "metadata": {
    "collapsed": false
   },
   "outputs": [],
   "source": []
  },
  {
   "cell_type": "code",
   "execution_count": 23,
   "metadata": {
    "collapsed": false
   },
   "outputs": [
    {
     "data": {
      "text/html": [
       "<div>\n",
       "<table border=\"1\" class=\"dataframe\">\n",
       "  <thead>\n",
       "    <tr style=\"text-align: right;\">\n",
       "      <th></th>\n",
       "      <th>maxent_id</th>\n",
       "      <th>os</th>\n",
       "      <th>maxentID.6h.anomaly</th>\n",
       "      <th>did.5m.anomaly</th>\n",
       "      <th>maxentID.7d.anomaly</th>\n",
       "      <th>maxentID.5m.anomaly</th>\n",
       "      <th>mcid_counts</th>\n",
       "      <th>cracked.anomaly</th>\n",
       "      <th>imei_loan</th>\n",
       "      <th>imei_counts</th>\n",
       "      <th>...</th>\n",
       "      <th>ipSeg24.7d.value</th>\n",
       "      <th>ipSeg24.5m.anomaly</th>\n",
       "      <th>did.1m.anomaly</th>\n",
       "      <th>maxentID.7d.value</th>\n",
       "      <th>did.1h.value</th>\n",
       "      <th>aid_counts</th>\n",
       "      <th>maxentID.1m.anomaly</th>\n",
       "      <th>did.15m.value</th>\n",
       "      <th>ipGeo.1h.anomaly</th>\n",
       "      <th>ipSeg24.15m.anomaly</th>\n",
       "    </tr>\n",
       "  </thead>\n",
       "  <tbody>\n",
       "    <tr>\n",
       "      <th>0</th>\n",
       "      <td>00092aaaf679fdcb8e2f40d85e49359d</td>\n",
       "      <td>android</td>\n",
       "      <td>1.0</td>\n",
       "      <td>1.0</td>\n",
       "      <td>1.0</td>\n",
       "      <td>1.0</td>\n",
       "      <td>1.0</td>\n",
       "      <td>1</td>\n",
       "      <td>0.0</td>\n",
       "      <td>1.0</td>\n",
       "      <td>...</td>\n",
       "      <td>482.000000</td>\n",
       "      <td>1.0</td>\n",
       "      <td>1.0</td>\n",
       "      <td>1.000000</td>\n",
       "      <td>1.000000</td>\n",
       "      <td>1.0</td>\n",
       "      <td>1.0</td>\n",
       "      <td>1.000000</td>\n",
       "      <td>1.0</td>\n",
       "      <td>1.0</td>\n",
       "    </tr>\n",
       "    <tr>\n",
       "      <th>1</th>\n",
       "      <td>000a48fca284e4d00821394b9e0533f2</td>\n",
       "      <td>android</td>\n",
       "      <td>1.0</td>\n",
       "      <td>1.0</td>\n",
       "      <td>1.0</td>\n",
       "      <td>1.0</td>\n",
       "      <td>1.0</td>\n",
       "      <td>1</td>\n",
       "      <td>0.0</td>\n",
       "      <td>1.0</td>\n",
       "      <td>...</td>\n",
       "      <td>4164.000000</td>\n",
       "      <td>1.0</td>\n",
       "      <td>1.0</td>\n",
       "      <td>1.000000</td>\n",
       "      <td>1.000000</td>\n",
       "      <td>1.0</td>\n",
       "      <td>1.0</td>\n",
       "      <td>1.000000</td>\n",
       "      <td>1.0</td>\n",
       "      <td>1.0</td>\n",
       "    </tr>\n",
       "    <tr>\n",
       "      <th>2</th>\n",
       "      <td>000b306c678a1183483eacf257d626c8</td>\n",
       "      <td>android</td>\n",
       "      <td>1.0</td>\n",
       "      <td>1.0</td>\n",
       "      <td>1.0</td>\n",
       "      <td>1.0</td>\n",
       "      <td>1.0</td>\n",
       "      <td>1</td>\n",
       "      <td>0.0</td>\n",
       "      <td>1.0</td>\n",
       "      <td>...</td>\n",
       "      <td>18.333333</td>\n",
       "      <td>1.0</td>\n",
       "      <td>1.0</td>\n",
       "      <td>1.333333</td>\n",
       "      <td>1.333333</td>\n",
       "      <td>1.0</td>\n",
       "      <td>1.0</td>\n",
       "      <td>1.333333</td>\n",
       "      <td>2.0</td>\n",
       "      <td>1.0</td>\n",
       "    </tr>\n",
       "    <tr>\n",
       "      <th>3</th>\n",
       "      <td>000d9b2ee81db47390feaacb731b0ae7</td>\n",
       "      <td>android</td>\n",
       "      <td>1.0</td>\n",
       "      <td>1.0</td>\n",
       "      <td>1.0</td>\n",
       "      <td>1.0</td>\n",
       "      <td>1.0</td>\n",
       "      <td>1</td>\n",
       "      <td>0.0</td>\n",
       "      <td>1.0</td>\n",
       "      <td>...</td>\n",
       "      <td>1846.500000</td>\n",
       "      <td>1.0</td>\n",
       "      <td>1.0</td>\n",
       "      <td>1.500000</td>\n",
       "      <td>1.000000</td>\n",
       "      <td>1.0</td>\n",
       "      <td>1.0</td>\n",
       "      <td>1.000000</td>\n",
       "      <td>48.0</td>\n",
       "      <td>1.0</td>\n",
       "    </tr>\n",
       "    <tr>\n",
       "      <th>4</th>\n",
       "      <td>0013a79d0f84d50a4943b1533463cdad</td>\n",
       "      <td>ios</td>\n",
       "      <td>1.0</td>\n",
       "      <td>1.0</td>\n",
       "      <td>1.0</td>\n",
       "      <td>1.0</td>\n",
       "      <td>1.0</td>\n",
       "      <td>1</td>\n",
       "      <td>0.0</td>\n",
       "      <td>0.0</td>\n",
       "      <td>...</td>\n",
       "      <td>2.000000</td>\n",
       "      <td>1.0</td>\n",
       "      <td>1.0</td>\n",
       "      <td>1.000000</td>\n",
       "      <td>1.000000</td>\n",
       "      <td>0.0</td>\n",
       "      <td>1.0</td>\n",
       "      <td>1.000000</td>\n",
       "      <td>1.0</td>\n",
       "      <td>1.0</td>\n",
       "    </tr>\n",
       "  </tbody>\n",
       "</table>\n",
       "<p>5 rows × 74 columns</p>\n",
       "</div>"
      ],
      "text/plain": [
       "                          maxent_id       os  maxentID.6h.anomaly  \\\n",
       "0  00092aaaf679fdcb8e2f40d85e49359d  android                  1.0   \n",
       "1  000a48fca284e4d00821394b9e0533f2  android                  1.0   \n",
       "2  000b306c678a1183483eacf257d626c8  android                  1.0   \n",
       "3  000d9b2ee81db47390feaacb731b0ae7  android                  1.0   \n",
       "4  0013a79d0f84d50a4943b1533463cdad      ios                  1.0   \n",
       "\n",
       "   did.5m.anomaly  maxentID.7d.anomaly  maxentID.5m.anomaly  mcid_counts  \\\n",
       "0             1.0                  1.0                  1.0          1.0   \n",
       "1             1.0                  1.0                  1.0          1.0   \n",
       "2             1.0                  1.0                  1.0          1.0   \n",
       "3             1.0                  1.0                  1.0          1.0   \n",
       "4             1.0                  1.0                  1.0          1.0   \n",
       "\n",
       "   cracked.anomaly  imei_loan  imei_counts         ...           \\\n",
       "0                1        0.0          1.0         ...            \n",
       "1                1        0.0          1.0         ...            \n",
       "2                1        0.0          1.0         ...            \n",
       "3                1        0.0          1.0         ...            \n",
       "4                1        0.0          0.0         ...            \n",
       "\n",
       "   ipSeg24.7d.value  ipSeg24.5m.anomaly  did.1m.anomaly  maxentID.7d.value  \\\n",
       "0        482.000000                 1.0             1.0           1.000000   \n",
       "1       4164.000000                 1.0             1.0           1.000000   \n",
       "2         18.333333                 1.0             1.0           1.333333   \n",
       "3       1846.500000                 1.0             1.0           1.500000   \n",
       "4          2.000000                 1.0             1.0           1.000000   \n",
       "\n",
       "   did.1h.value  aid_counts  maxentID.1m.anomaly  did.15m.value  \\\n",
       "0      1.000000         1.0                  1.0       1.000000   \n",
       "1      1.000000         1.0                  1.0       1.000000   \n",
       "2      1.333333         1.0                  1.0       1.333333   \n",
       "3      1.000000         1.0                  1.0       1.000000   \n",
       "4      1.000000         0.0                  1.0       1.000000   \n",
       "\n",
       "   ipGeo.1h.anomaly  ipSeg24.15m.anomaly  \n",
       "0               1.0                  1.0  \n",
       "1               1.0                  1.0  \n",
       "2               2.0                  1.0  \n",
       "3              48.0                  1.0  \n",
       "4               1.0                  1.0  \n",
       "\n",
       "[5 rows x 74 columns]"
      ]
     },
     "execution_count": 23,
     "metadata": {},
     "output_type": "execute_result"
    }
   ],
   "source": [
    "df.head()"
   ]
  },
  {
   "cell_type": "markdown",
   "metadata": {},
   "source": [
    "整体的label平衡性"
   ]
  },
  {
   "cell_type": "code",
   "execution_count": 24,
   "metadata": {
    "collapsed": false
   },
   "outputs": [
    {
     "data": {
      "text/plain": [
       "0    0.95\n",
       "1    0.05\n",
       "Name: label, dtype: float64"
      ]
     },
     "execution_count": 24,
     "metadata": {},
     "output_type": "execute_result"
    }
   ],
   "source": [
    "df.label.value_counts(normalize=True)"
   ]
  },
  {
   "cell_type": "code",
   "execution_count": 25,
   "metadata": {
    "collapsed": false
   },
   "outputs": [
    {
     "data": {
      "image/png": "[encoded data removed]",
      "text/plain": [
       "<matplotlib.figure.Figure at 0x113af8290>"
      ]
     },
     "metadata": {},
     "output_type": "display_data"
    }
   ],
   "source": [
    "df.label.value_counts(normalize=True).plot(kind='bar')\n",
    "plt.show()"
   ]
  },
  {
   "cell_type": "code",
   "execution_count": null,
   "metadata": {
    "collapsed": false
   },
   "outputs": [],
   "source": []
  },
  {
   "cell_type": "code",
   "execution_count": 26,
   "metadata": {
    "collapsed": false
   },
   "outputs": [],
   "source": [
    "df_ios = df.loc[df.os == 'ios']"
   ]
  },
  {
   "cell_type": "code",
   "execution_count": 27,
   "metadata": {
    "collapsed": false
   },
   "outputs": [
    {
     "name": "stdout",
     "output_type": "stream",
     "text": [
      "['maxent_id', 'os']\n",
      "[]\n",
      "['maxent_id', 'os']\n"
     ]
    }
   ],
   "source": [
    "obj_cols = obj_df.columns.values.tolist()\n",
    "print(obj_cols)\n",
    "bool_cols = bool_df.columns.values.tolist()\n",
    "print(bool_cols)\n",
    "encoder_cols = obj_cols\n",
    "print(encoder_cols)"
   ]
  },
  {
   "cell_type": "code",
   "execution_count": 28,
   "metadata": {
    "collapsed": false
   },
   "outputs": [],
   "source": [
    "from sklearn.preprocessing import LabelEncoder\n",
    "class MultiColumnLabelEncoder:\n",
    "    def __init__(self,columns = None):\n",
    "        self.columns = columns # array of column names to encode\n",
    "\n",
    "    def fit(self,X,y=None):\n",
    "        return self # not relevant here\n",
    "\n",
    "    def transform(self,X):\n",
    "        '''\n",
    "        Transforms columns of X specified in self.columns using\n",
    "        LabelEncoder(). If no columns specified, transforms all\n",
    "        columns in X.\n",
    "        '''\n",
    "        output = X.copy()\n",
    "        if self.columns is not None:\n",
    "            for col in self.columns:\n",
    "                output[col] = LabelEncoder().fit_transform(output[col])\n",
    "        else:\n",
    "            for colname,col in output.iteritems():\n",
    "                output[colname] = LabelEncoder().fit_transform(col)\n",
    "        return output\n",
    "\n",
    "    def fit_transform(self,X,y=None):\n",
    "        return self.fit(X,y).transform(X)"
   ]
  },
  {
   "cell_type": "code",
   "execution_count": 29,
   "metadata": {
    "collapsed": false
   },
   "outputs": [],
   "source": [
    "df_ios = MultiColumnLabelEncoder(columns = encoder_cols).fit_transform(df_ios)"
   ]
  },
  {
   "cell_type": "code",
   "execution_count": 30,
   "metadata": {
    "collapsed": false
   },
   "outputs": [
    {
     "data": {
      "text/plain": [
       "Series([], dtype: float64)"
      ]
     },
     "execution_count": 30,
     "metadata": {},
     "output_type": "execute_result"
    }
   ],
   "source": [
    "def show_missing():\n",
    "    missing = df.columns[df.isnull().any()].tolist()\n",
    "    return missing\n",
    "df_ios[show_missing()].isnull().sum()"
   ]
  },
  {
   "cell_type": "code",
   "execution_count": 31,
   "metadata": {
    "collapsed": false
   },
   "outputs": [],
   "source": [
    "ios_drop = ['os','aid_loan','imei_loan','mac_loan','imei_counts','mac_counts','aid_counts']\n",
    "df_ios=df_ios.drop(ios_drop,axis=1)"
   ]
  },
  {
   "cell_type": "code",
   "execution_count": 32,
   "metadata": {
    "collapsed": false,
    "scrolled": true
   },
   "outputs": [
    {
     "data": {
      "image/png": "[encoded data removed]",
      "text/plain": [
       "<matplotlib.figure.Figure at 0x113efd090>"
      ]
     },
     "metadata": {},
     "output_type": "display_data"
    }
   ],
   "source": [
    "df_ios.label.value_counts(normalize=True).plot(kind='bar')\n",
    "\n",
    "save_path = image_path + \"/ios_label_ratio-{0}-{1}-{2}.png\".format(version,ratio,model)\n",
    "fig = plt.gcf()\n",
    "fig.savefig(save_path,format='png')\n",
    "plt.show()"
   ]
  },
  {
   "cell_type": "code",
   "execution_count": null,
   "metadata": {
    "collapsed": false
   },
   "outputs": [],
   "source": []
  },
  {
   "cell_type": "code",
   "execution_count": 33,
   "metadata": {
    "collapsed": false,
    "run_control": {
     "marked": false
    }
   },
   "outputs": [
    {
     "name": "stdout",
     "output_type": "stream",
     "text": [
      "Number transactions ios train dataset:  2096\n",
      "Number transactions ios train dataset:  2096\n",
      "Number transactions ios test dataset:  900\n",
      "Total number of ios transactions:  136240\n"
     ]
    },
    {
     "name": "stderr",
     "output_type": "stream",
     "text": [
      "/Users/chaoxu/.pyenv/versions/anaconda2-4.3.1/lib/python2.7/site-packages/sklearn/cross_validation.py:41: DeprecationWarning: This module was deprecated in version 0.18 in favor of the model_selection module into which all the refactored classes and functions are moved. Also note that the interface of the new CV iterators are different from that of this module. This module will be removed in 0.20.\n",
      "  \"This module will be removed in 0.20.\", DeprecationWarning)\n"
     ]
    }
   ],
   "source": [
    "from sklearn.cross_validation import train_test_split\n",
    "def splitData(df, ratio):\n",
    "    \"\"\"\n",
    "    \"\"\"\n",
    "    positiveData = df[df[\"label\"] == 1].copy(deep=True)\n",
    "    _positiveTrain, _positiveTest = train_test_split(positiveData, train_size=ratio)\n",
    "    negativeData = df[df[\"label\"] == 0].copy(deep=True)\n",
    "    _negativeTrain, _negativeTest = train_test_split(negativeData, train_size=ratio)\n",
    "    train_set = pd.concat([_positiveTrain, _negativeTrain])\n",
    "    test_set = pd.concat([_positiveTest, _negativeTest])\n",
    "    return train_set, test_set\n",
    "\n",
    "df_ios_train, df_ios_test = splitData(df_ios,0.7)\n",
    "df_ios_maxent_id = df_ios_test['maxent_id'].reset_index(drop=True)\n",
    "X_ios_train = df_ios_train.ix[:, df_ios_train.columns != 'label'].drop(['maxent_id'],axis=1)\n",
    "X_ios_test  = df_ios_test.ix[:, df_ios_test.columns != 'label'].drop(['maxent_id'],axis=1)\n",
    "y_ios_train = df_ios_train.ix[:, df_ios_train.columns == 'label']\n",
    "y_ios_test  = df_ios_test.ix[:, df_ios_test.columns == 'label']\n",
    "print(\"Number transactions ios train dataset: \", X_ios_train.shape[0])\n",
    "print(\"Number transactions ios train dataset: \", y_ios_train.shape[0])\n",
    "print(\"Number transactions ios test dataset: \", X_ios_test.shape[0])\n",
    "print(\"Total number of ios transactions: \", X_ios_train.size)"
   ]
  },
  {
   "cell_type": "code",
   "execution_count": 34,
   "metadata": {
    "collapsed": false
   },
   "outputs": [
    {
     "data": {
      "text/plain": [
       "48"
      ]
     },
     "execution_count": 34,
     "metadata": {},
     "output_type": "execute_result"
    }
   ],
   "source": [
    "df_ios_test.loc[df_ios_test.label ==1]['maxent_id'].drop_duplicates().count()"
   ]
  },
  {
   "cell_type": "code",
   "execution_count": 35,
   "metadata": {
    "collapsed": false
   },
   "outputs": [
    {
     "data": {
      "text/plain": [
       "111"
      ]
     },
     "execution_count": 35,
     "metadata": {},
     "output_type": "execute_result"
    }
   ],
   "source": [
    "df_ios_train.loc[df_ios_train.label ==1]['maxent_id'].drop_duplicates().count()"
   ]
  },
  {
   "cell_type": "code",
   "execution_count": 36,
   "metadata": {
    "collapsed": false
   },
   "outputs": [
    {
     "data": {
      "text/plain": [
       "159"
      ]
     },
     "execution_count": 36,
     "metadata": {},
     "output_type": "execute_result"
    }
   ],
   "source": [
    "df_ios.loc[df_ios.label ==1]['maxent_id'].drop_duplicates().count()"
   ]
  },
  {
   "cell_type": "code",
   "execution_count": 37,
   "metadata": {
    "collapsed": false
   },
   "outputs": [
    {
     "data": {
      "text/plain": [
       "2837"
      ]
     },
     "execution_count": 37,
     "metadata": {},
     "output_type": "execute_result"
    }
   ],
   "source": [
    "df_ios.loc[df_ios.label ==0]['maxent_id'].drop_duplicates().count()"
   ]
  },
  {
   "cell_type": "code",
   "execution_count": 38,
   "metadata": {
    "collapsed": false
   },
   "outputs": [],
   "source": [
    "from __future__ import print_function,division\n",
    "import itertools\n",
    "import matplotlib.pylab as plt\n",
    "def plot_confusion_matrix(cm, classes,\n",
    "                          normalize=False,\n",
    "                          title='Confusion matrix',\n",
    "                          cmap=plt.cm.Blues):\n",
    "    \"\"\"\n",
    "    This function prints and plots the confusion matrix.\n",
    "    Normalization can be applied by setting `normalize=True`.\n",
    "    \"\"\"\n",
    "    plt.imshow(cm, interpolation='nearest', cmap=cmap)\n",
    "    plt.title(title)\n",
    "    plt.colorbar()\n",
    "    tick_marks = np.arange(len(classes))\n",
    "    plt.xticks(tick_marks, classes, rotation=0)\n",
    "    plt.yticks(tick_marks, classes)\n",
    "\n",
    "    if normalize:\n",
    "        cm = cm.astype('float') / cm.sum(axis=1)[:, np.newaxis]\n",
    "        #print(\"Normalized confusion matrix\")\n",
    "    else:\n",
    "        1#print('Confusion matrix, without normalization')\n",
    "\n",
    "    #print(cm)\n",
    "\n",
    "    thresh = cm.max() / 2.\n",
    "    for i, j in itertools.product(range(cm.shape[0]), range(cm.shape[1])):\n",
    "        plt.text(j, i, cm[i, j],\n",
    "                 horizontalalignment=\"center\",\n",
    "                 color=\"white\" if cm[i, j] > thresh else \"black\")\n",
    "\n",
    "    plt.tight_layout()\n",
    "    plt.ylabel('label 1')\n",
    "    plt.xlabel('label 0')"
   ]
  },
  {
   "cell_type": "code",
   "execution_count": 39,
   "metadata": {
    "collapsed": false
   },
   "outputs": [],
   "source": [
    "def get_ios_group_label(row):\n",
    "#     print(row['y_ios_test'].values)\n",
    "#     if row['y_ios_test'].values[0] == 1:\n",
    "    return row['y_ios_pred'].max()\n",
    "#     else:\n",
    "#         return row['y_ios_pred'].min()"
   ]
  },
  {
   "cell_type": "code",
   "execution_count": 40,
   "metadata": {
    "collapsed": false
   },
   "outputs": [
    {
     "name": "stderr",
     "output_type": "stream",
     "text": [
      "/Users/chaoxu/.pyenv/versions/anaconda2-4.3.1/lib/python2.7/site-packages/sklearn/grid_search.py:42: DeprecationWarning: This module was deprecated in version 0.18 in favor of the model_selection module into which all the refactored classes and functions are moved. This module will be removed in 0.20.\n",
      "  DeprecationWarning)\n"
     ]
    }
   ],
   "source": [
    "from sklearn import tree\n",
    "from IPython.display import Image\n",
    "import pydotplus\n",
    "from sklearn import cross_validation, metrics\n",
    "from sklearn.grid_search import GridSearchCV"
   ]
  },
  {
   "cell_type": "code",
   "execution_count": 41,
   "metadata": {
    "collapsed": false
   },
   "outputs": [],
   "source": [
    "tree_base_params = {\n",
    "    'criterion' : 'gini',\n",
    "    'n_jobs':-1,\n",
    "#     'random_state' : 27,\n",
    "    'class_weight':\"balanced\"\n",
    "}"
   ]
  },
  {
   "cell_type": "code",
   "execution_count": 42,
   "metadata": {
    "collapsed": false
   },
   "outputs": [
    {
     "data": {
      "text/plain": [
       "{'class_weight': 'balanced', 'criterion': 'gini', 'n_jobs': -1}"
      ]
     },
     "execution_count": 42,
     "metadata": {},
     "output_type": "execute_result"
    }
   ],
   "source": [
    "params_ios = {}\n",
    "params_ios.update(tree_base_params)\n",
    "params_ios"
   ]
  },
  {
   "cell_type": "code",
   "execution_count": 43,
   "metadata": {
    "collapsed": false
   },
   "outputs": [],
   "source": [
    "# from collections import OrderedDict\n",
    "# all_test_params = OrderedDict()\n",
    "cv_params = {\n",
    "    'pre_dispatch': '2*n_jobs', \n",
    "    'refit':True,\n",
    "    'scoring':'roc_auc',\n",
    "#     'scoring':'f1_macro',\n",
    "#     'scoring':'f1_weighted',\n",
    "#     'scoring':'average_precision',\n",
    "#     'scoring':'accuracy',\n",
    "#     'scoring':'recall',\n",
    "    'cv':5,\n",
    "    'verbose':0\n",
    "}\n",
    "all_test_params = {\n",
    "    'max_depth':range(4,50,2),  \n",
    "    'n_estimators':range(1,21,1),\n",
    "    'max_leaf_nodes':range(2,20,2),\n",
    "    'min_samples_leaf':range(50,150,10),\n",
    "    'min_samples_split':range(50,150,10),\n",
    "    'max_features':['sqrt','log2',None],\n",
    "    'min_impurity_decrease':[i/100.0 for i in range(0,5)]\n",
    "}\n",
    "# all_test_params = {\n",
    "#     'n_estimators':range(10,21,1),\n",
    "# #     'max_depth':range(1,5,1),\n",
    "#     'max_depth':range(4,20,2), \n",
    "#     'min_samples_leaf':range(80,160,10),\n",
    "#     'min_samples_split':range(10,110,10),\n",
    "#     'max_leaf_nodes':range(10,100,10),\n",
    "#     'max_features':['sqrt','log2',None],\n",
    "#     'min_impurity_decrease':[i/100.0 for i in range(0,5)]\n",
    "# }"
   ]
  },
  {
   "cell_type": "code",
   "execution_count": 44,
   "metadata": {
    "collapsed": false
   },
   "outputs": [
    {
     "name": "stdout",
     "output_type": "stream",
     "text": [
      "find best params of {'min_impurity_decrease': [0.0, 0.01, 0.02, 0.03, 0.04]}\n",
      "find best params of {'max_leaf_nodes': [2, 4, 6, 8, 10, 12, 14, 16, 18]}\n",
      "find best params of {'min_samples_leaf': [50, 60, 70, 80, 90, 100, 110, 120, 130, 140]}\n",
      "find best params of {'n_estimators': [1, 2, 3, 4, 5, 6, 7, 8, 9, 10, 11, 12, 13, 14, 15, 16, 17, 18, 19, 20]}\n",
      "find best params of {'max_features': ['sqrt', 'log2', None]}\n",
      "find best params of {'min_samples_split': [50, 60, 70, 80, 90, 100, 110, 120, 130, 140]}\n",
      "find best params of {'max_depth': [4, 6, 8, 10, 12, 14, 16, 18, 20, 22, 24, 26, 28, 30, 32, 34, 36, 38, 40, 42, 44, 46, 48]}\n",
      "get grid score is [mean: 0.55919, std: 0.11254, params: {'max_depth': 4}, mean: 0.56497, std: 0.07764, params: {'max_depth': 6}, mean: 0.55642, std: 0.08824, params: {'max_depth': 8}, mean: 0.54796, std: 0.09558, params: {'max_depth': 10}, mean: 0.56276, std: 0.07477, params: {'max_depth': 12}, mean: 0.53111, std: 0.09516, params: {'max_depth': 14}, mean: 0.55190, std: 0.08622, params: {'max_depth': 16}, mean: 0.53031, std: 0.06449, params: {'max_depth': 18}, mean: 0.57991, std: 0.09911, params: {'max_depth': 20}, mean: 0.53105, std: 0.10225, params: {'max_depth': 22}, mean: 0.57827, std: 0.06383, params: {'max_depth': 24}, mean: 0.54157, std: 0.08387, params: {'max_depth': 26}, mean: 0.54524, std: 0.07809, params: {'max_depth': 28}, mean: 0.57133, std: 0.05726, params: {'max_depth': 30}, mean: 0.54871, std: 0.07356, params: {'max_depth': 32}, mean: 0.54893, std: 0.12499, params: {'max_depth': 34}, mean: 0.55331, std: 0.08301, params: {'max_depth': 36}, mean: 0.51912, std: 0.08341, params: {'max_depth': 38}, mean: 0.55068, std: 0.09564, params: {'max_depth': 40}, mean: 0.54956, std: 0.07861, params: {'max_depth': 42}, mean: 0.56749, std: 0.09281, params: {'max_depth': 44}, mean: 0.58297, std: 0.07142, params: {'max_depth': 46}, mean: 0.55558, std: 0.09084, params: {'max_depth': 48}]\n",
      "get best parameters is {'n_estimators': 9, 'min_samples_split': 70, 'n_jobs': -1, 'min_impurity_decrease': 0.01, 'max_features': None, 'max_leaf_nodes': 2, 'criterion': 'gini', 'min_samples_leaf': 100, 'max_depth': 46, 'class_weight': 'balanced'}\n",
      "get best score is 0.58297454148\n"
     ]
    },
    {
     "name": "stderr",
     "output_type": "stream",
     "text": [
      "/Users/chaoxu/.pyenv/versions/anaconda2-4.3.1/lib/python2.7/site-packages/sklearn/model_selection/_search.py:747: DeprecationWarning: The grid_scores_ attribute was deprecated in version 0.18 in favor of the more elaborate cv_results_ attribute. The grid_scores_ attribute will not be available from 0.20\n",
      "  DeprecationWarning)\n",
      "/Users/chaoxu/.pyenv/versions/anaconda2-4.3.1/lib/python2.7/site-packages/ipykernel/__main__.py:12: DataConversionWarning: A column-vector y was passed when a 1d array was expected. Please change the shape of y to (n_samples,), for example using ravel().\n"
     ]
    }
   ],
   "source": [
    "from sklearn.metrics import confusion_matrix,precision_recall_curve,auc,roc_auc_score,roc_curve,recall_score,precision_score,classification_report\n",
    "from sklearn.ensemble import RandomForestClassifier\n",
    "from IPython.display import Image\n",
    "import pydotplus\n",
    "# X_ios_cols = X_ios_train.columns\n",
    "X_ios_train_cv = X_ios_train\n",
    "y_ios_train_cv = y_ios_train['label']\n",
    "ios_params,_clf = gridCV(clf=RandomForestClassifier,X=X_ios_train_cv,y=y_ios_train_cv,\n",
    "                         base_params=tree_base_params,all_test_params=all_test_params,cv_parmas=cv_params)\n",
    "\n",
    "clf_ios = RandomForestClassifier(**ios_params)\n",
    "clf_0 = clf_ios.fit(X_ios_train, y_ios_train)"
   ]
  },
  {
   "cell_type": "code",
   "execution_count": 45,
   "metadata": {
    "collapsed": false,
    "scrolled": true
   },
   "outputs": [
    {
     "data": {
      "text/plain": [
       "(2096, 65)"
      ]
     },
     "execution_count": 45,
     "metadata": {},
     "output_type": "execute_result"
    }
   ],
   "source": [
    "X_ios_train.shape"
   ]
  },
  {
   "cell_type": "code",
   "execution_count": 46,
   "metadata": {
    "collapsed": false
   },
   "outputs": [
    {
     "name": "stdout",
     "output_type": "stream",
     "text": [
      "58500\n",
      "900\n",
      "Recall metric in the testing dataset:  0.479166666667\n",
      "Precision metric in the testting dataset: 0.0912698412698\n",
      "f2 metric in the testting dataset: 3.86086956522\n",
      "             precision    recall  f1-score   support\n",
      "\n",
      "          0       0.96      0.73      0.83       852\n",
      "          1       0.09      0.48      0.15        48\n",
      "\n",
      "avg / total       0.92      0.72      0.79       900\n",
      "\n"
     ]
    },
    {
     "data": {
      "image/png": "[encoded data removed]",
      "text/plain": [
       "<matplotlib.figure.Figure at 0x1153db450>"
      ]
     },
     "metadata": {},
     "output_type": "display_data"
    }
   ],
   "source": [
    "y_ios_pred = clf_0.predict(X_ios_test)\n",
    "\n",
    "df_y_ios_pred = pd.DataFrame(y_ios_pred,columns=['y_ios_pred'])\n",
    "df_y_ios_test = pd.DataFrame(y_ios_test.values,columns=['y_ios_test'])\n",
    "df_pred = pd.concat([df_ios_maxent_id,df_y_ios_pred,df_y_ios_test],axis=1)\n",
    "df_pred_g = df_pred.groupby(['maxent_id','y_ios_test'])\n",
    "\n",
    "df_pred_g_apply=df_pred_g.apply(lambda x:get_ios_group_label(x)).reset_index(name='y_ios_pred_max')\n",
    "\n",
    "y_ios_test_m = df_pred_g_apply['y_ios_test']\n",
    "y_ios_pred_m = df_pred_g_apply['y_ios_pred_max']\n",
    "\n",
    "print(X_ios_test.size)\n",
    "print(y_ios_test_m.size)\n",
    "# Compute confusion matrix\n",
    "cnf_matrix = confusion_matrix(y_ios_test_m,y_ios_pred_m)\n",
    "np.set_printoptions(precision=2)\n",
    "np.set_printoptions(precision=2)\n",
    "recall = cnf_matrix[1,1]/(cnf_matrix[1,0]+cnf_matrix[1,1])\n",
    "precision = cnf_matrix[1,1]/(cnf_matrix[0,1]+cnf_matrix[1,1])\n",
    "f2 = 0.2*(4/recall + 1/precision)\n",
    "print(\"Recall metric in the testing dataset: \", recall)\n",
    "print(\"Precision metric in the testting dataset:\", precision)\n",
    "print(\"f2 metric in the testting dataset:\", f2)\n",
    "# Plot non-normalized confusion matrix\n",
    "class_names = [0,1]\n",
    "plt.figure()\n",
    "plot_confusion_matrix(cnf_matrix\n",
    "                      , classes=class_names\n",
    "                      , title='Confusion matrix')\n",
    "\n",
    "print(classification_report(y_ios_test_m, y_ios_pred_m, target_names=['0','1']))\n",
    "save_path = image_path + \"/tree_ios_conf-{0}-{1}-{2}.png\".format(version,ratio,model)\n",
    "fig = plt.gcf()\n",
    "fig.savefig(save_path,format='png')\n",
    "plt.show()"
   ]
  },
  {
   "cell_type": "code",
   "execution_count": 47,
   "metadata": {
    "collapsed": false
   },
   "outputs": [
    {
     "data": {
      "image/png": "[encoded data removed]",
      "text/plain": [
       "<matplotlib.figure.Figure at 0x11456a4d0>"
      ]
     },
     "metadata": {},
     "output_type": "display_data"
    }
   ],
   "source": [
    "from mlxtend.plotting import plot_learning_curves\n",
    "y_ios_train_f = y_ios_train.label.astype(float)\n",
    "y_ios_test_f = y_ios_test.label.astype(float)\n",
    "fig,ax= plt.subplots(figsize=(10,10))\n",
    "ax.grid(b=False)\n",
    "plot_learning_curves(X_ios_train, y_ios_train_f, X_ios_test, y_ios_test_f, clf_0, print_model=False,style='ggplot')\n",
    "\n",
    "save_path = image_path + \"/ios_learning_perf-{0}-{1}-{2}.png\".format(version,ratio,model)\n",
    "fig = plt.gcf()\n",
    "fig.savefig(save_path,format='png')\n",
    "plt.show()"
   ]
  },
  {
   "cell_type": "code",
   "execution_count": 48,
   "metadata": {
    "collapsed": false
   },
   "outputs": [
    {
     "name": "stderr",
     "output_type": "stream",
     "text": [
      "/Users/chaoxu/.pyenv/versions/anaconda2-4.3.1/lib/python2.7/site-packages/ipykernel/__main__.py:5: FutureWarning: sort(columns=....) is deprecated, use sort_values(by=.....)\n"
     ]
    },
    {
     "data": {
      "image/png": "[encoded data removed]",
      "text/plain": [
       "<matplotlib.figure.Figure at 0x114463d90>"
      ]
     },
     "metadata": {},
     "output_type": "display_data"
    }
   ],
   "source": [
    "df_feature_ios = pd.DataFrame(X_ios_train.columns.values,columns=['column'])\n",
    "df_importance = pd.DataFrame(clf_0.feature_importances_,columns=['feature importances'])\n",
    "df_ios_fim = pd.concat([df_feature_ios,df_importance],axis=1)\n",
    "fig,ax= plt.subplots(figsize=(20,10))\n",
    "df_ios_fim=df_ios_fim.sort(['feature importances'],ascending=False)\n",
    "for x, y in enumerate(df_ios_fim['feature importances'].values):\n",
    "    ax.bar(x, y)\n",
    "x_labels = df_ios_fim['column'].values\n",
    "ax.set_xticks(range(len(x_labels)))\n",
    "ax.set_xticklabels(x_labels)\n",
    "tick_font(ax,font_size=\"small\",rotation=90)\n",
    "\n",
    "save_path = image_path + \"/ios_feature_importance-{0}-{1}-{2}.png\".format(version,ratio,model)\n",
    "fig = plt.gcf()\n",
    "fig.savefig(save_path,format='png')\n",
    "plt.show()"
   ]
  },
  {
   "cell_type": "code",
   "execution_count": 49,
   "metadata": {
    "collapsed": false
   },
   "outputs": [],
   "source": [
    "df_android = df.loc[df.os == 'android']\n",
    "df_android = MultiColumnLabelEncoder(columns = encoder_cols).fit_transform(df_android)"
   ]
  },
  {
   "cell_type": "code",
   "execution_count": 50,
   "metadata": {
    "collapsed": false
   },
   "outputs": [
    {
     "data": {
      "image/png": "[encoded data removed]",
      "text/plain": [
       "<matplotlib.figure.Figure at 0x114f2b390>"
      ]
     },
     "metadata": {},
     "output_type": "display_data"
    }
   ],
   "source": [
    "df_android.label.value_counts(normalize=True).plot(kind='bar')\n",
    "\n",
    "save_path = image_path + \"/android_label_ratio-{0}-{1}-{2}.png\".format(version,ratio,model)\n",
    "fig = plt.gcf()\n",
    "fig.savefig(save_path,format='png')\n",
    "plt.show()"
   ]
  },
  {
   "cell_type": "code",
   "execution_count": 51,
   "metadata": {
    "collapsed": false
   },
   "outputs": [
    {
     "data": {
      "text/plain": [
       "Series([], dtype: float64)"
      ]
     },
     "execution_count": 51,
     "metadata": {},
     "output_type": "execute_result"
    }
   ],
   "source": [
    "df_android[show_missing()].isnull().sum()"
   ]
  },
  {
   "cell_type": "code",
   "execution_count": 52,
   "metadata": {
    "collapsed": false
   },
   "outputs": [],
   "source": [
    "android_drop = ['os','idfa_loan','idfa_counts', u'idfv_counts','imei_loan']\n",
    "df_android =df_android.drop(android_drop,axis=1)"
   ]
  },
  {
   "cell_type": "code",
   "execution_count": 53,
   "metadata": {
    "collapsed": false
   },
   "outputs": [
    {
     "name": "stdout",
     "output_type": "stream",
     "text": [
      "Number transactions android train dataset:  4370\n",
      "Number transactions android train dataset:  4370\n",
      "Number transactions android test dataset:  1874\n",
      "Total number of android transactions:  292790\n"
     ]
    }
   ],
   "source": [
    "df_android_train, df_android_test = splitData(df_android,0.7)\n",
    "df_android_maxent_id = df_android_test['maxent_id'].reset_index(drop=True)\n",
    "X_android_train = df_android_train.ix[:, df_android_train.columns != 'label'].drop(['maxent_id'],axis=1)\n",
    "X_android_test  = df_android_test.ix[:, df_android_test.columns != 'label'].drop(['maxent_id'],axis=1)\n",
    "y_android_train = df_android_train.ix[:, df_android_train.columns == 'label']\n",
    "y_android_test  = df_android_test.ix[:, df_android_test.columns == 'label']\n",
    "print(\"Number transactions android train dataset: \", X_android_train.shape[0])\n",
    "print(\"Number transactions android train dataset: \", y_android_train.shape[0])\n",
    "print(\"Number transactions android test dataset: \", X_android_test.shape[0])\n",
    "print(\"Total number of android transactions: \", X_android_train.size)"
   ]
  },
  {
   "cell_type": "code",
   "execution_count": 54,
   "metadata": {
    "collapsed": false
   },
   "outputs": [
    {
     "data": {
      "text/plain": [
       "{'class_weight': 'balanced', 'criterion': 'gini', 'n_jobs': -1}"
      ]
     },
     "execution_count": 54,
     "metadata": {},
     "output_type": "execute_result"
    }
   ],
   "source": [
    "params_android = {}\n",
    "params_android.update(tree_base_params)\n",
    "params_android"
   ]
  },
  {
   "cell_type": "code",
   "execution_count": 55,
   "metadata": {
    "collapsed": false
   },
   "outputs": [
    {
     "name": "stdout",
     "output_type": "stream",
     "text": [
      "find best params of {'min_impurity_decrease': [0.0, 0.01, 0.02, 0.03, 0.04]}\n",
      "find best params of {'max_leaf_nodes': [2, 4, 6, 8, 10, 12, 14, 16, 18]}\n",
      "find best params of {'min_samples_leaf': [50, 60, 70, 80, 90, 100, 110, 120, 130, 140]}\n",
      "find best params of {'n_estimators': [1, 2, 3, 4, 5, 6, 7, 8, 9, 10, 11, 12, 13, 14, 15, 16, 17, 18, 19, 20]}\n",
      "find best params of {'max_features': ['sqrt', 'log2', None]}\n",
      "find best params of {'min_samples_split': [50, 60, 70, 80, 90, 100, 110, 120, 130, 140]}\n",
      "find best params of {'max_depth': [4, 6, 8, 10, 12, 14, 16, 18, 20, 22, 24, 26, 28, 30, 32, 34, 36, 38, 40, 42, 44, 46, 48]}\n",
      "get grid score is [mean: 0.60949, std: 0.03150, params: {'max_depth': 4}, mean: 0.61911, std: 0.02502, params: {'max_depth': 6}, mean: 0.63107, std: 0.03786, params: {'max_depth': 8}, mean: 0.63257, std: 0.01765, params: {'max_depth': 10}, mean: 0.62774, std: 0.02723, params: {'max_depth': 12}, mean: 0.61400, std: 0.01639, params: {'max_depth': 14}, mean: 0.64960, std: 0.02596, params: {'max_depth': 16}, mean: 0.61875, std: 0.02633, params: {'max_depth': 18}, mean: 0.61753, std: 0.03484, params: {'max_depth': 20}, mean: 0.62551, std: 0.03739, params: {'max_depth': 22}, mean: 0.61854, std: 0.02098, params: {'max_depth': 24}, mean: 0.63234, std: 0.02338, params: {'max_depth': 26}, mean: 0.62046, std: 0.03208, params: {'max_depth': 28}, mean: 0.62833, std: 0.02211, params: {'max_depth': 30}, mean: 0.64827, std: 0.03592, params: {'max_depth': 32}, mean: 0.62682, std: 0.02533, params: {'max_depth': 34}, mean: 0.63181, std: 0.01801, params: {'max_depth': 36}, mean: 0.63055, std: 0.02570, params: {'max_depth': 38}, mean: 0.62758, std: 0.01471, params: {'max_depth': 40}, mean: 0.61429, std: 0.04184, params: {'max_depth': 42}, mean: 0.61936, std: 0.02355, params: {'max_depth': 44}, mean: 0.61843, std: 0.01443, params: {'max_depth': 46}, mean: 0.63182, std: 0.03785, params: {'max_depth': 48}]\n",
      "get best parameters is {'n_estimators': 15, 'min_samples_split': 110, 'n_jobs': -1, 'min_impurity_decrease': 0.0, 'max_features': 'sqrt', 'max_leaf_nodes': 12, 'criterion': 'gini', 'min_samples_leaf': 100, 'max_depth': 16, 'class_weight': 'balanced'}\n",
      "get best score is 0.649601845914\n"
     ]
    },
    {
     "name": "stderr",
     "output_type": "stream",
     "text": [
      "/Users/chaoxu/.pyenv/versions/anaconda2-4.3.1/lib/python2.7/site-packages/sklearn/model_selection/_search.py:747: DeprecationWarning: The grid_scores_ attribute was deprecated in version 0.18 in favor of the more elaborate cv_results_ attribute. The grid_scores_ attribute will not be available from 0.20\n",
      "  DeprecationWarning)\n",
      "/Users/chaoxu/.pyenv/versions/anaconda2-4.3.1/lib/python2.7/site-packages/ipykernel/__main__.py:7: DataConversionWarning: A column-vector y was passed when a 1d array was expected. Please change the shape of y to (n_samples,), for example using ravel().\n"
     ]
    }
   ],
   "source": [
    "X_android_train_cv = X_android_train\n",
    "y_android_train_cv = y_android_train['label']\n",
    "android_params,_clf = gridCV(clf=RandomForestClassifier,X=X_android_train_cv,y=y_android_train_cv,\n",
    "                         base_params=tree_base_params,all_test_params=all_test_params,cv_parmas=cv_params)\n",
    "\n",
    "clf_android = RandomForestClassifier(**android_params)\n",
    "clf_1 = clf_android.fit(X_android_train, y_android_train)"
   ]
  },
  {
   "cell_type": "code",
   "execution_count": 56,
   "metadata": {
    "collapsed": false
   },
   "outputs": [],
   "source": [
    "def get_android_group_label(row):\n",
    "#     if row['y_android_test'].values[0] == 1:\n",
    "    return row['y_android_pred'].max()\n",
    "#     else:\n",
    "#         return row['y_android_pred'].min()\n"
   ]
  },
  {
   "cell_type": "code",
   "execution_count": 57,
   "metadata": {
    "collapsed": false,
    "run_control": {
     "marked": false
    }
   },
   "outputs": [
    {
     "name": "stdout",
     "output_type": "stream",
     "text": [
      "(1874, 67)\n",
      "(1874,)\n",
      "Recall metric in the testing dataset:  0.43956043956\n",
      "Precision metric in the testting dataset: 0.0727272727273\n",
      "f2 metric in the testting dataset: 4.57\n",
      "             precision    recall  f1-score   support\n",
      "\n",
      "          0       0.96      0.71      0.82      1783\n",
      "          1       0.07      0.44      0.12        91\n",
      "\n",
      "avg / total       0.92      0.70      0.79      1874\n",
      "\n"
     ]
    },
    {
     "data": {
      "image/png": "[encoded data removed]",
      "text/plain": [
       "<matplotlib.figure.Figure at 0x112f36090>"
      ]
     },
     "metadata": {},
     "output_type": "display_data"
    }
   ],
   "source": [
    "y_android_pred = clf_1.predict(X_android_test)\n",
    "\n",
    "df_y_android_pred = pd.DataFrame(y_android_pred,columns=['y_android_pred'])\n",
    "df_y_android_test = pd.DataFrame(y_android_test.values,columns=['y_android_test'])\n",
    "df_android_pred = pd.concat([df_android_maxent_id,df_y_android_pred,df_y_android_test],axis=1)\n",
    "df_android_pred_g = df_android_pred.groupby(['maxent_id','y_android_test'])\n",
    "# df_android_pred_g['y_android_pred_max'] = df_android_pred_g.apply(lamda x:get_android_group_label(x))\n",
    "\n",
    "df_android_pred_g_apply=df_android_pred_g.apply(lambda x:get_android_group_label(x)).reset_index(name='y_android_pred_max')\n",
    "\n",
    "y_android_test_m = df_android_pred_g_apply['y_android_test']\n",
    "y_android_pred_m = df_android_pred_g_apply['y_android_pred_max']\n",
    "print(X_android_test.shape)\n",
    "print(y_android_test_m.shape)\n",
    "# Compute confusion matrix\n",
    "cnf_matrix = confusion_matrix(y_android_test_m,y_android_pred_m)\n",
    "np.set_printoptions(precision=2)\n",
    "np.set_printoptions(precision=2)\n",
    "recall = cnf_matrix[1,1]/(cnf_matrix[1,0]+cnf_matrix[1,1])\n",
    "precision = cnf_matrix[1,1]/(cnf_matrix[0,1]+cnf_matrix[1,1])\n",
    "f2 = 0.2*(4/recall + 1/precision)\n",
    "print(\"Recall metric in the testing dataset: \", recall)\n",
    "print(\"Precision metric in the testting dataset:\", precision)\n",
    "print(\"f2 metric in the testting dataset:\", f2)\n",
    "# Plot non-normalized confusion matrix\n",
    "class_names = [0,1]\n",
    "plt.figure()\n",
    "plot_confusion_matrix(cnf_matrix\n",
    "                      , classes=class_names\n",
    "                      , title='Confusion matrix')\n",
    "\n",
    "print(classification_report(y_android_test_m, y_android_pred_m, target_names=['0','1']))\n",
    "save_path = image_path + \"/tree_android_conf-{0}-{1}-{2}.png\".format(version,ratio,model)\n",
    "fig = plt.gcf()\n",
    "fig.savefig(save_path,format='png')\n",
    "plt.show()"
   ]
  },
  {
   "cell_type": "code",
   "execution_count": 58,
   "metadata": {
    "collapsed": false
   },
   "outputs": [
    {
     "data": {
      "text/plain": [
       "(1874,)"
      ]
     },
     "execution_count": 58,
     "metadata": {},
     "output_type": "execute_result"
    }
   ],
   "source": [
    "y_android_test_m.shape"
   ]
  },
  {
   "cell_type": "code",
   "execution_count": 59,
   "metadata": {
    "collapsed": false
   },
   "outputs": [
    {
     "data": {
      "text/plain": [
       "(1874, 1)"
      ]
     },
     "execution_count": 59,
     "metadata": {},
     "output_type": "execute_result"
    }
   ],
   "source": [
    "y_android_test.shape"
   ]
  },
  {
   "cell_type": "code",
   "execution_count": 60,
   "metadata": {
    "collapsed": false
   },
   "outputs": [
    {
     "name": "stdout",
     "output_type": "stream",
     "text": [
      "Recall metric in the testing dataset:  0.43956043956\n",
      "Precision metric in the testting dataset: 0.0727272727273\n",
      "f2 metric in the testting dataset: 4.57\n",
      "             precision    recall  f1-score   support\n",
      "\n",
      "          0       0.96      0.71      0.82      1783\n",
      "          1       0.07      0.44      0.12        91\n",
      "\n",
      "avg / total       0.92      0.70      0.79      1874\n",
      "\n"
     ]
    },
    {
     "data": {
      "image/png": "[encoded data removed]",
      "text/plain": [
       "<matplotlib.figure.Figure at 0x1156d06d0>"
      ]
     },
     "metadata": {},
     "output_type": "display_data"
    }
   ],
   "source": [
    "\n",
    "# Compute confusion matrix\n",
    "cnf_matrix = confusion_matrix(y_android_test,y_android_pred)\n",
    "np.set_printoptions(precision=2)\n",
    "np.set_printoptions(precision=2)\n",
    "recall = cnf_matrix[1,1]/(cnf_matrix[1,0]+cnf_matrix[1,1])\n",
    "precision = cnf_matrix[1,1]/(cnf_matrix[0,1]+cnf_matrix[1,1])\n",
    "f2 = 0.2*(4/recall + 1/precision)\n",
    "print(\"Recall metric in the testing dataset: \", recall)\n",
    "print(\"Precision metric in the testting dataset:\", precision)\n",
    "print(\"f2 metric in the testting dataset:\", f2)\n",
    "# Plot non-normalized confusion matrix\n",
    "class_names = [0,1]\n",
    "plt.figure()\n",
    "plot_confusion_matrix(cnf_matrix\n",
    "                      , classes=class_names\n",
    "                      , title='Confusion matrix')\n",
    "\n",
    "print(classification_report(y_android_test, y_android_pred, target_names=['0','1']))\n",
    "save_path = image_path + \"/tree_android_event_conf-{0}-{1}-{2}.png\".format(version,ratio,model)\n",
    "fig = plt.gcf()\n",
    "fig.savefig(save_path,format='png')\n",
    "plt.show()"
   ]
  },
  {
   "cell_type": "code",
   "execution_count": 61,
   "metadata": {
    "collapsed": false
   },
   "outputs": [
    {
     "data": {
      "image/png": "[encoded data removed]",
      "text/plain": [
       "<matplotlib.figure.Figure at 0x11583bf90>"
      ]
     },
     "metadata": {},
     "output_type": "display_data"
    }
   ],
   "source": [
    "from mlxtend.plotting import plot_learning_curves\n",
    "y_android_train_f = y_android_train.label.astype(float)\n",
    "y_android_test_f = y_android_test.label.astype(float)\n",
    "fig,ax= plt.subplots(figsize=(10,10))\n",
    "ax.grid(b=False)\n",
    "plot_learning_curves(X_android_train, y_android_train_f, X_android_test, y_android_test_f, clf_1, print_model=False,style='ggplot')\n",
    "\n",
    "save_path = image_path + \"/android_learning_perf-{0}-{1}-{2}.png\".format(version,ratio,model)\n",
    "fig = plt.gcf()\n",
    "fig.savefig(save_path,format='png')\n",
    "plt.show()"
   ]
  },
  {
   "cell_type": "code",
   "execution_count": 62,
   "metadata": {
    "collapsed": false
   },
   "outputs": [
    {
     "name": "stderr",
     "output_type": "stream",
     "text": [
      "/Users/chaoxu/.pyenv/versions/anaconda2-4.3.1/lib/python2.7/site-packages/ipykernel/__main__.py:5: FutureWarning: sort(columns=....) is deprecated, use sort_values(by=.....)\n"
     ]
    },
    {
     "data": {
      "image/png": "[encoded data removed]",
      "text/plain": [
       "<matplotlib.figure.Figure at 0x113efd690>"
      ]
     },
     "metadata": {},
     "output_type": "display_data"
    }
   ],
   "source": [
    "df_feature_android = pd.DataFrame(X_android_train.columns.values,columns=['column'])\n",
    "df_android_importance = pd.DataFrame(clf_1.feature_importances_,columns=['feature importances'])\n",
    "df_android_fim = pd.concat([df_feature_android,df_android_importance],axis=1)\n",
    "fig,ax= plt.subplots(figsize=(20,10))\n",
    "df_android_fim=df_android_fim.sort(['feature importances'],ascending=False)\n",
    "for x, y in enumerate(df_android_fim['feature importances'].values):\n",
    "    ax.bar(x, y)\n",
    "x_labels = df_android_fim['column'].values\n",
    "ax.set_xticks(range(len(x_labels)))\n",
    "ax.set_xticklabels(x_labels)\n",
    "tick_font(ax,font_size=\"small\",rotation=90)\n",
    "\n",
    "save_path = image_path + \"/android_feature_importance-{0}-{1}-{2}.png\".format(version,ratio,model)\n",
    "fig = plt.gcf()\n",
    "fig.savefig(save_path,format='png')\n",
    "plt.show()"
   ]
  },
  {
   "cell_type": "code",
   "execution_count": null,
   "metadata": {
    "collapsed": false
   },
   "outputs": [],
   "source": []
  },
  {
   "cell_type": "code",
   "execution_count": null,
   "metadata": {
    "collapsed": false
   },
   "outputs": [],
   "source": []
  },
  {
   "cell_type": "code",
   "execution_count": null,
   "metadata": {
    "collapsed": false
   },
   "outputs": [],
   "source": []
  },
  {
   "cell_type": "code",
   "execution_count": null,
   "metadata": {
    "collapsed": false
   },
   "outputs": [],
   "source": []
  },
  {
   "cell_type": "code",
   "execution_count": null,
   "metadata": {
    "collapsed": false
   },
   "outputs": [],
   "source": []
  },
  {
   "cell_type": "code",
   "execution_count": null,
   "metadata": {
    "collapsed": false
   },
   "outputs": [],
   "source": []
  }
 ],
 "metadata": {
  "kernelspec": {
   "display_name": "Python 2",
   "language": "python",
   "name": "python2"
  },
  "language_info": {
   "codemirror_mode": {
    "name": "ipython",
    "version": 2
   },
   "file_extension": ".py",
   "mimetype": "text/x-python",
   "name": "python",
   "nbconvert_exporter": "python",
   "pygments_lexer": "ipython2",
   "version": "2.7.13"
  },
  "latex_envs": {
   "LaTeX_envs_menu_present": true,
   "autocomplete": true,
   "bibliofile": "biblio.bib",
   "cite_by": "apalike",
   "current_citInitial": 1,
   "eqLabelWithNumbers": true,
   "eqNumInitial": 1,
   "hotkeys": {
    "equation": "Ctrl-E",
    "itemize": "Ctrl-I"
   },
   "labels_anchors": false,
   "latex_user_defs": false,
   "report_style_numbering": false,
   "user_envs_cfg": false
  },
  "toc": {
   "nav_menu": {},
   "number_sections": true,
   "sideBar": true,
   "skip_h1_title": false,
   "toc_cell": false,
   "toc_position": {},
   "toc_section_display": "block",
   "toc_window_display": false
  },
  "varInspector": {
   "cols": {
    "lenName": 16,
    "lenType": 16,
    "lenVar": 40
   },
   "kernels_config": {
    "python": {
     "delete_cmd_postfix": "",
     "delete_cmd_prefix": "del ",
     "library": "var_list.py",
     "varRefreshCmd": "print(var_dic_list())"
    },
    "r": {
     "delete_cmd_postfix": ") ",
     "delete_cmd_prefix": "rm(",
     "library": "var_list.r",
     "varRefreshCmd": "cat(var_dic_list()) "
    }
   },
   "types_to_exclude": [
    "module",
    "function",
    "builtin_function_or_method",
    "instance",
    "_Feature"
   ],
   "window_display": false
  }
 },
 "nbformat": 4,
 "nbformat_minor": 0
}
