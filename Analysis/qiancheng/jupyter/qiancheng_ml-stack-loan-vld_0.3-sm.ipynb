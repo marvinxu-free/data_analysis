{
 "cells": [
  {
   "cell_type": "code",
   "execution_count": 53,
   "metadata": {
    "collapsed": false
   },
   "outputs": [
    {
     "name": "stderr",
     "output_type": "stream",
     "text": [
      "/Users/chaoxu/.pyenv/versions/anaconda2-4.3.1/lib/python2.7/site-packages/sklearn/grid_search.py:42: DeprecationWarning: This module was deprecated in version 0.18 in favor of the model_selection module into which all the refactored classes and functions are moved. This module will be removed in 0.20.\n",
      "  DeprecationWarning)\n"
     ]
    }
   ],
   "source": [
    "import pandas as pd\n",
    "import numpy as np\n",
    "import matplotlib.pyplot as plt\n",
    "from __future__ import print_function,division\n",
    "from Pic.maxent_font import tick_font\n",
    "from Utils.gridCV import gridCV\n",
    "from Utils.SklearnerHelper import SklearnHelper\n",
    "from sklearn.ensemble import RandomForestClassifier, AdaBoostClassifier, GradientBoostingClassifier, ExtraTreesClassifier\n",
    "from sklearn.svm import SVC\n",
    "from sklearn.cross_validation import KFold;\n",
    "from sklearn import cross_validation, metrics\n",
    "from sklearn.grid_search import GridSearchCV\n",
    "from sklearn.feature_selection import SelectFromModel\n",
    "import xgboost as xgb"
   ]
  },
  {
   "cell_type": "code",
   "execution_count": 2,
   "metadata": {
    "collapsed": false
   },
   "outputs": [],
   "source": [
    "image_path = \"/Users/chaoxu/code/local-spark/Data/image_qiancheng\"\n",
    "ratio = 0.05\n",
    "model = 'stack'\n",
    "version = '6v1.0sm'"
   ]
  },
  {
   "cell_type": "code",
   "execution_count": 3,
   "metadata": {
    "collapsed": false
   },
   "outputs": [],
   "source": [
    "df = pd.read_csv(\"/Users/chaoxu/code/local-spark/Data/qiancheng_data/qiancheng_sample_new_merge_{0}/data.csv\".format(ratio))"
   ]
  },
  {
   "cell_type": "code",
   "execution_count": null,
   "metadata": {
    "collapsed": false
   },
   "outputs": [],
   "source": []
  },
  {
   "cell_type": "code",
   "execution_count": 4,
   "metadata": {
    "collapsed": true
   },
   "outputs": [],
   "source": [
    "SEED = 1234  # for reproducibility\n",
    "rf_params = {\n",
    "    'n_jobs': -1,\n",
    "    'n_estimators': 500,\n",
    "     'warm_start': True,\n",
    "     #'max_features': 0.2,\n",
    "    'max_depth': 6,\n",
    "    'min_samples_leaf': 2,\n",
    "    'max_features' : 'sqrt',\n",
    "    'verbose': 0\n",
    "}\n",
    "\n",
    "# Extra Trees Parameters\n",
    "et_params = {\n",
    "    'n_jobs': -1,\n",
    "    'n_estimators':500,\n",
    "    #'max_features': 0.5,\n",
    "    'max_depth': 8,\n",
    "    'min_samples_leaf': 2,\n",
    "    'verbose': 0\n",
    "}\n",
    "\n",
    "# AdaBoost parameters\n",
    "ada_params = {\n",
    "    'n_estimators': 500,\n",
    "    'learning_rate' : 0.75\n",
    "}\n",
    "\n",
    "# Gradient Boosting parameters\n",
    "gb_params = {\n",
    "    'n_estimators': 500,\n",
    "     #'max_features': 0.2,\n",
    "    'max_depth': 5,\n",
    "    'min_samples_leaf': 2,\n",
    "    'verbose': 0\n",
    "}\n",
    "\n",
    "# Support Vector Classifier parameters\n",
    "svc_params = {\n",
    "    'kernel' : 'linear',\n",
    "    'C' : 0.025\n",
    "}"
   ]
  },
  {
   "cell_type": "code",
   "execution_count": 5,
   "metadata": {
    "collapsed": false
   },
   "outputs": [],
   "source": [
    "def merge_ua_proxy(row):\n",
    "    if row['uaMismatch.value'] >= 1 or row['proxyIP.value'] >=1:\n",
    "        return 1\n",
    "    else:\n",
    "        return 0\n",
    "df['proxy_ua'] = df.apply(merge_ua_proxy,axis=1)"
   ]
  },
  {
   "cell_type": "code",
   "execution_count": 6,
   "metadata": {
    "collapsed": false
   },
   "outputs": [],
   "source": [
    "def resample(data, positiveRatio=0.04):\n",
    "    positive = data[data[\"label\"] == 1]\n",
    "    negative = data[data[\"label\"] == 0]\n",
    "    n = int((1 - positiveRatio) / positiveRatio) * positive.shape[0]\n",
    "    print(n)\n",
    "    _negative = negative.sample(n=n)\n",
    "    df = pd.concat([positive, _negative])\n",
    "    return df"
   ]
  },
  {
   "cell_type": "code",
   "execution_count": 7,
   "metadata": {
    "collapsed": false
   },
   "outputs": [],
   "source": [
    "df[['label']]=df[['label']].fillna(0)"
   ]
  },
  {
   "cell_type": "code",
   "execution_count": 8,
   "metadata": {
    "collapsed": false
   },
   "outputs": [
    {
     "data": {
      "text/plain": [
       "159"
      ]
     },
     "execution_count": 8,
     "metadata": {},
     "output_type": "execute_result"
    }
   ],
   "source": [
    "df.loc[(df.label == 1) & (df.os == 'ios')]['maxent_id'].drop_duplicates().count()"
   ]
  },
  {
   "cell_type": "code",
   "execution_count": 9,
   "metadata": {
    "collapsed": false
   },
   "outputs": [
    {
     "data": {
      "text/plain": [
       "303"
      ]
     },
     "execution_count": 9,
     "metadata": {},
     "output_type": "execute_result"
    }
   ],
   "source": [
    "df.loc[(df.label == 1) & (df.os == 'android')]['maxent_id'].drop_duplicates().count()"
   ]
  },
  {
   "cell_type": "code",
   "execution_count": 10,
   "metadata": {
    "collapsed": false
   },
   "outputs": [],
   "source": [
    "from datetime import datetime, timedelta\n",
    "df[\"timestamp\"] = pd.to_datetime(df['timestamp'], unit='ms', utc=True)\n",
    "df[\"timestamp\"] = pd.DatetimeIndex(df[\"timestamp\"]) + timedelta(hours=8)\n",
    "df = df.sort_values(by=\"timestamp\")\n",
    "# df_maxent_id = df['maxent_id'].reset_index(drop=True)\n",
    "# df_ios_maxent_id = df.loc[df.os == 'ios']['maxent_id'].reset_index(drop=True)\n",
    "# df_android_maxent_id = df.loc[df.os == 'android']['maxent_id'].reset_index(drop=True)\n",
    "# df = df.drop(['idcIP.anomaly', 'cracked.anomaly', 'uaMismatch.anomaly','uaMismatch.value','proxyIP.value','proxyIP.anomaly',\"timestamp\",\"maxent_id\",\"timestamp\",'ipSeg24','ipGeo','event_id','scenario'],axis=1)\n",
    "df = df.drop([\"timestamp\",\"timestamp\",'ipSeg24','ipGeo','scenario','uaMismatch.value','proxyIP.value'],axis=1)\n",
    "\n",
    "df[['label']]=df[['label']].fillna(0)\n",
    "df[['label']] = df[['label']].astype(int)\n",
    "df = df.loc[df['event_type'] =='ACT']\n",
    "df = df.drop(['event_type'],axis=1)"
   ]
  },
  {
   "cell_type": "code",
   "execution_count": 11,
   "metadata": {
    "collapsed": false
   },
   "outputs": [],
   "source": [
    "import re\n",
    "anormaly = re.compile('.*anomaly$')\n",
    "anormaly_match = np.vectorize(lambda x:bool(anormaly.match(x)))\n",
    "anormaly_cols = df.columns.values[anormaly_match(df.columns.values)]\n",
    "\n",
    "value = re.compile('.*value$')\n",
    "value_match = np.vectorize(lambda x:bool(value.match(x)))\n",
    "value_cols = df.columns.values[value_match(df.columns.values)]\n",
    "\n",
    "count = re.compile('.*counts$')\n",
    "count_match = np.vectorize(lambda x:bool(count.match(x)))\n",
    "count_cols = df.columns.values[count_match(df.columns.values)]\n",
    "\n",
    "loan = re.compile('.*loan$')\n",
    "loan_match = np.vectorize(lambda x:bool(loan.match(x)))\n",
    "loan_cols = df.columns.values[loan_match(df.columns.values)]"
   ]
  },
  {
   "cell_type": "code",
   "execution_count": 12,
   "metadata": {
    "collapsed": false
   },
   "outputs": [],
   "source": [
    "# cols = df.columns\n",
    "# fig, ax = plt.subplots(figsize=(16,9))\n",
    "# ax.barh(range(len(cols)),df[cols].isnull().sum()/df.shape[0])\n",
    "# ax.set_yticks(range(len(cols)))\n",
    "# ax.set_yticklabels(cols, size=14)\n",
    "# ax.set_title('features nan percentage',size= 18)\n",
    "# plt.show()"
   ]
  },
  {
   "cell_type": "code",
   "execution_count": 13,
   "metadata": {
    "collapsed": false
   },
   "outputs": [
    {
     "data": {
      "text/plain": [
       "Index([u'maxent_id', u'event_id', u'os'], dtype='object')"
      ]
     },
     "execution_count": 13,
     "metadata": {},
     "output_type": "execute_result"
    }
   ],
   "source": [
    "df.select_dtypes(include=[np.object_]).columns"
   ]
  },
  {
   "cell_type": "code",
   "execution_count": 14,
   "metadata": {
    "collapsed": false
   },
   "outputs": [
    {
     "data": {
      "text/plain": [
       "Index([u'cracked.value', u'idcIP.value'], dtype='object')"
      ]
     },
     "execution_count": 14,
     "metadata": {},
     "output_type": "execute_result"
    }
   ],
   "source": [
    "df.select_dtypes(include=[np.bool_]).columns"
   ]
  },
  {
   "cell_type": "code",
   "execution_count": 15,
   "metadata": {
    "collapsed": false
   },
   "outputs": [],
   "source": [
    "from Utils.transfer_event_dev import transfer_event_to_device\n",
    "df = transfer_event_to_device(df,mode=0)"
   ]
  },
  {
   "cell_type": "code",
   "execution_count": 16,
   "metadata": {
    "collapsed": false
   },
   "outputs": [
    {
     "data": {
      "text/html": [
       "<div>\n",
       "<table border=\"1\" class=\"dataframe\">\n",
       "  <thead>\n",
       "    <tr style=\"text-align: right;\">\n",
       "      <th></th>\n",
       "      <th>maxent_id</th>\n",
       "      <th>os</th>\n",
       "      <th>maxentID.6h.anomaly</th>\n",
       "      <th>did.5m.anomaly</th>\n",
       "      <th>maxentID.7d.anomaly</th>\n",
       "      <th>maxentID.5m.anomaly</th>\n",
       "      <th>mcid_counts</th>\n",
       "      <th>cracked.anomaly</th>\n",
       "      <th>imei_loan</th>\n",
       "      <th>imei_counts</th>\n",
       "      <th>...</th>\n",
       "      <th>ipSeg24.7d.value</th>\n",
       "      <th>ipSeg24.5m.anomaly</th>\n",
       "      <th>did.1m.anomaly</th>\n",
       "      <th>maxentID.7d.value</th>\n",
       "      <th>did.1h.value</th>\n",
       "      <th>aid_counts</th>\n",
       "      <th>maxentID.1m.anomaly</th>\n",
       "      <th>did.15m.value</th>\n",
       "      <th>ipGeo.1h.anomaly</th>\n",
       "      <th>ipSeg24.15m.anomaly</th>\n",
       "    </tr>\n",
       "  </thead>\n",
       "  <tbody>\n",
       "    <tr>\n",
       "      <th>0</th>\n",
       "      <td>00092aaaf679fdcb8e2f40d85e49359d</td>\n",
       "      <td>android</td>\n",
       "      <td>1.0</td>\n",
       "      <td>1.0</td>\n",
       "      <td>1.0</td>\n",
       "      <td>1.0</td>\n",
       "      <td>1.0</td>\n",
       "      <td>1</td>\n",
       "      <td>0.0</td>\n",
       "      <td>1.0</td>\n",
       "      <td>...</td>\n",
       "      <td>482.000000</td>\n",
       "      <td>1.0</td>\n",
       "      <td>1.0</td>\n",
       "      <td>1.000000</td>\n",
       "      <td>1.000000</td>\n",
       "      <td>1.0</td>\n",
       "      <td>1.0</td>\n",
       "      <td>1.000000</td>\n",
       "      <td>1.0</td>\n",
       "      <td>1.0</td>\n",
       "    </tr>\n",
       "    <tr>\n",
       "      <th>1</th>\n",
       "      <td>000a48fca284e4d00821394b9e0533f2</td>\n",
       "      <td>android</td>\n",
       "      <td>1.0</td>\n",
       "      <td>1.0</td>\n",
       "      <td>1.0</td>\n",
       "      <td>1.0</td>\n",
       "      <td>1.0</td>\n",
       "      <td>1</td>\n",
       "      <td>0.0</td>\n",
       "      <td>1.0</td>\n",
       "      <td>...</td>\n",
       "      <td>4164.000000</td>\n",
       "      <td>1.0</td>\n",
       "      <td>1.0</td>\n",
       "      <td>1.000000</td>\n",
       "      <td>1.000000</td>\n",
       "      <td>1.0</td>\n",
       "      <td>1.0</td>\n",
       "      <td>1.000000</td>\n",
       "      <td>1.0</td>\n",
       "      <td>1.0</td>\n",
       "    </tr>\n",
       "    <tr>\n",
       "      <th>2</th>\n",
       "      <td>000b306c678a1183483eacf257d626c8</td>\n",
       "      <td>android</td>\n",
       "      <td>1.0</td>\n",
       "      <td>1.0</td>\n",
       "      <td>1.0</td>\n",
       "      <td>1.0</td>\n",
       "      <td>1.0</td>\n",
       "      <td>1</td>\n",
       "      <td>0.0</td>\n",
       "      <td>1.0</td>\n",
       "      <td>...</td>\n",
       "      <td>18.333333</td>\n",
       "      <td>1.0</td>\n",
       "      <td>1.0</td>\n",
       "      <td>1.333333</td>\n",
       "      <td>1.333333</td>\n",
       "      <td>1.0</td>\n",
       "      <td>1.0</td>\n",
       "      <td>1.333333</td>\n",
       "      <td>2.0</td>\n",
       "      <td>1.0</td>\n",
       "    </tr>\n",
       "    <tr>\n",
       "      <th>3</th>\n",
       "      <td>000d9b2ee81db47390feaacb731b0ae7</td>\n",
       "      <td>android</td>\n",
       "      <td>1.0</td>\n",
       "      <td>1.0</td>\n",
       "      <td>1.0</td>\n",
       "      <td>1.0</td>\n",
       "      <td>1.0</td>\n",
       "      <td>1</td>\n",
       "      <td>0.0</td>\n",
       "      <td>1.0</td>\n",
       "      <td>...</td>\n",
       "      <td>1846.500000</td>\n",
       "      <td>1.0</td>\n",
       "      <td>1.0</td>\n",
       "      <td>1.500000</td>\n",
       "      <td>1.000000</td>\n",
       "      <td>1.0</td>\n",
       "      <td>1.0</td>\n",
       "      <td>1.000000</td>\n",
       "      <td>48.0</td>\n",
       "      <td>1.0</td>\n",
       "    </tr>\n",
       "    <tr>\n",
       "      <th>4</th>\n",
       "      <td>0013a79d0f84d50a4943b1533463cdad</td>\n",
       "      <td>ios</td>\n",
       "      <td>1.0</td>\n",
       "      <td>1.0</td>\n",
       "      <td>1.0</td>\n",
       "      <td>1.0</td>\n",
       "      <td>1.0</td>\n",
       "      <td>1</td>\n",
       "      <td>0.0</td>\n",
       "      <td>0.0</td>\n",
       "      <td>...</td>\n",
       "      <td>2.000000</td>\n",
       "      <td>1.0</td>\n",
       "      <td>1.0</td>\n",
       "      <td>1.000000</td>\n",
       "      <td>1.000000</td>\n",
       "      <td>0.0</td>\n",
       "      <td>1.0</td>\n",
       "      <td>1.000000</td>\n",
       "      <td>1.0</td>\n",
       "      <td>1.0</td>\n",
       "    </tr>\n",
       "  </tbody>\n",
       "</table>\n",
       "<p>5 rows × 76 columns</p>\n",
       "</div>"
      ],
      "text/plain": [
       "                          maxent_id       os  maxentID.6h.anomaly  \\\n",
       "0  00092aaaf679fdcb8e2f40d85e49359d  android                  1.0   \n",
       "1  000a48fca284e4d00821394b9e0533f2  android                  1.0   \n",
       "2  000b306c678a1183483eacf257d626c8  android                  1.0   \n",
       "3  000d9b2ee81db47390feaacb731b0ae7  android                  1.0   \n",
       "4  0013a79d0f84d50a4943b1533463cdad      ios                  1.0   \n",
       "\n",
       "   did.5m.anomaly  maxentID.7d.anomaly  maxentID.5m.anomaly  mcid_counts  \\\n",
       "0             1.0                  1.0                  1.0          1.0   \n",
       "1             1.0                  1.0                  1.0          1.0   \n",
       "2             1.0                  1.0                  1.0          1.0   \n",
       "3             1.0                  1.0                  1.0          1.0   \n",
       "4             1.0                  1.0                  1.0          1.0   \n",
       "\n",
       "   cracked.anomaly  imei_loan  imei_counts         ...           \\\n",
       "0                1        0.0          1.0         ...            \n",
       "1                1        0.0          1.0         ...            \n",
       "2                1        0.0          1.0         ...            \n",
       "3                1        0.0          1.0         ...            \n",
       "4                1        0.0          0.0         ...            \n",
       "\n",
       "   ipSeg24.7d.value  ipSeg24.5m.anomaly  did.1m.anomaly maxentID.7d.value  \\\n",
       "0        482.000000                 1.0             1.0          1.000000   \n",
       "1       4164.000000                 1.0             1.0          1.000000   \n",
       "2         18.333333                 1.0             1.0          1.333333   \n",
       "3       1846.500000                 1.0             1.0          1.500000   \n",
       "4          2.000000                 1.0             1.0          1.000000   \n",
       "\n",
       "  did.1h.value  aid_counts  maxentID.1m.anomaly  did.15m.value  \\\n",
       "0     1.000000         1.0                  1.0       1.000000   \n",
       "1     1.000000         1.0                  1.0       1.000000   \n",
       "2     1.333333         1.0                  1.0       1.333333   \n",
       "3     1.000000         1.0                  1.0       1.000000   \n",
       "4     1.000000         0.0                  1.0       1.000000   \n",
       "\n",
       "   ipGeo.1h.anomaly  ipSeg24.15m.anomaly  \n",
       "0               1.0                  1.0  \n",
       "1               1.0                  1.0  \n",
       "2               2.0                  1.0  \n",
       "3              48.0                  1.0  \n",
       "4               1.0                  1.0  \n",
       "\n",
       "[5 rows x 76 columns]"
      ]
     },
     "execution_count": 16,
     "metadata": {},
     "output_type": "execute_result"
    }
   ],
   "source": [
    "df.head()"
   ]
  },
  {
   "cell_type": "code",
   "execution_count": 17,
   "metadata": {
    "collapsed": false
   },
   "outputs": [],
   "source": [
    "# obj_df = df.select_dtypes(include=['object'])\n",
    "# obj_df.columns"
   ]
  },
  {
   "cell_type": "code",
   "execution_count": 18,
   "metadata": {
    "collapsed": false
   },
   "outputs": [],
   "source": [
    "# bool_df = df.select_dtypes(include=['bool'])\n",
    "# bool_df.columns"
   ]
  },
  {
   "cell_type": "code",
   "execution_count": 19,
   "metadata": {
    "collapsed": false
   },
   "outputs": [
    {
     "data": {
      "text/plain": [
       "Series([], dtype: float64)"
      ]
     },
     "execution_count": 19,
     "metadata": {},
     "output_type": "execute_result"
    }
   ],
   "source": [
    "def show_missing():\n",
    "    missing = df.columns[df.isnull().any()].tolist()\n",
    "    return missing\n",
    "df[show_missing()].isnull().sum()"
   ]
  },
  {
   "cell_type": "markdown",
   "metadata": {},
   "source": [
    "整体的label平衡性"
   ]
  },
  {
   "cell_type": "code",
   "execution_count": 20,
   "metadata": {
    "collapsed": false
   },
   "outputs": [
    {
     "data": {
      "text/plain": [
       "0    0.95\n",
       "1    0.05\n",
       "Name: label, dtype: float64"
      ]
     },
     "execution_count": 20,
     "metadata": {},
     "output_type": "execute_result"
    }
   ],
   "source": [
    "df.label.value_counts(normalize=True)"
   ]
  },
  {
   "cell_type": "code",
   "execution_count": 21,
   "metadata": {
    "collapsed": false
   },
   "outputs": [
    {
     "data": {
      "text/plain": [
       "Index([u'maxent_id', u'os', u'maxentID.6h.anomaly', u'did.5m.anomaly',\n",
       "       u'maxentID.7d.anomaly', u'maxentID.5m.anomaly', u'mcid_counts',\n",
       "       u'cracked.anomaly', u'imei_loan', u'imei_counts', u'ipSeg24.15m.value',\n",
       "       u'ipGeo.1d.anomaly', u'ipGeo.5m.anomaly', u'cracked.value',\n",
       "       u'idcIP.value', u'did.15m.anomaly', u'maxentID.1h.value',\n",
       "       u'maxentID.5m.value', u'ipSeg24.1h.anomaly', u'idfv_counts',\n",
       "       u'ipGeo.7d.anomaly', u'uaMismatch.anomaly', u'aid_loan',\n",
       "       u'ipGeo.1d.value', u'did.7d.anomaly', u'maxentID.15m.anomaly',\n",
       "       u'idfa_loan', u'ipGeo.7d.value', u'ipGeo.15m.value', u'did.5m.value',\n",
       "       u'label', u'ipSeg24.1h.value', u'maxentID.6h.value',\n",
       "       u'ipSeg24.5m.value', u'did.6h.anomaly', u'did.7d.value',\n",
       "       u'maxentID.1d.anomaly', u'ipGeo.15m.anomaly', u'ipGeo.5m.value',\n",
       "       u'did.1h.anomaly', u'proxy_ua', u'mac_counts', u'did.6h.value',\n",
       "       u'idfa_counts', u'idcIP.anomaly', u'ipGeo.1m.anomaly',\n",
       "       u'ipGeo.1h.value', u'ipSeg24.1d.value', u'mac_loan',\n",
       "       u'maxentID.1m.value', u'proxyIP.anomaly', u'maxentID.1d.value',\n",
       "       u'maxentID.1h.anomaly', u'ipSeg24.6h.value', u'ipSeg24.1d.anomaly',\n",
       "       u'did.1d.value', u'ipSeg24.6h.anomaly', u'did.1m.value',\n",
       "       u'ipGeo.6h.value', u'did.1d.anomaly', u'ipSeg24.1m.value',\n",
       "       u'ipSeg24.7d.anomaly', u'ipGeo.1m.value', u'ipGeo.6h.anomaly',\n",
       "       u'ipSeg24.1m.anomaly', u'maxentID.15m.value', u'ipSeg24.7d.value',\n",
       "       u'ipSeg24.5m.anomaly', u'did.1m.anomaly', u'maxentID.7d.value',\n",
       "       u'did.1h.value', u'aid_counts', u'maxentID.1m.anomaly',\n",
       "       u'did.15m.value', u'ipGeo.1h.anomaly', u'ipSeg24.15m.anomaly'],\n",
       "      dtype='object')"
      ]
     },
     "execution_count": 21,
     "metadata": {},
     "output_type": "execute_result"
    }
   ],
   "source": [
    "df.columns"
   ]
  },
  {
   "cell_type": "code",
   "execution_count": 22,
   "metadata": {
    "collapsed": false
   },
   "outputs": [
    {
     "data": {
      "image/png": "[encoded data removed]",
      "text/plain": [
       "<matplotlib.figure.Figure at 0x11966ce50>"
      ]
     },
     "metadata": {},
     "output_type": "display_data"
    }
   ],
   "source": [
    "df.label.value_counts(normalize=True).plot(kind='bar')\n",
    "plt.show()"
   ]
  },
  {
   "cell_type": "code",
   "execution_count": 23,
   "metadata": {
    "collapsed": false
   },
   "outputs": [
    {
     "data": {
      "text/plain": [
       "dtype('bool')"
      ]
     },
     "execution_count": 23,
     "metadata": {},
     "output_type": "execute_result"
    }
   ],
   "source": [
    "df['cracked.value'].dtype"
   ]
  },
  {
   "cell_type": "code",
   "execution_count": 24,
   "metadata": {
    "collapsed": false
   },
   "outputs": [],
   "source": [
    "df_ios = df.loc[df.os == 'ios']"
   ]
  },
  {
   "cell_type": "code",
   "execution_count": 25,
   "metadata": {
    "collapsed": false
   },
   "outputs": [
    {
     "name": "stdout",
     "output_type": "stream",
     "text": [
      "['maxent_id', 'os']\n",
      "['cracked.value', 'idcIP.value']\n",
      "['os', 'cracked.value', 'idcIP.value']\n"
     ]
    }
   ],
   "source": [
    "obj_cols = df.select_dtypes(include=[np.object_]).columns.tolist()\n",
    "# obj_cols.remove('event_id')\n",
    "print(obj_cols)\n",
    "bool_cols = df.select_dtypes(include=[np.bool_]).columns.tolist()\n",
    "print(bool_cols)\n",
    "encoder_cols = obj_cols + bool_cols\n",
    "if 'maxent_id' in encoder_cols:\n",
    "    encoder_cols.remove('maxent_id')\n",
    "print(encoder_cols)"
   ]
  },
  {
   "cell_type": "code",
   "execution_count": 26,
   "metadata": {
    "collapsed": false
   },
   "outputs": [],
   "source": [
    "from sklearn.preprocessing import LabelEncoder\n",
    "class MultiColumnLabelEncoder:\n",
    "    def __init__(self,columns = None):\n",
    "        self.columns = columns # array of column names to encode\n",
    "\n",
    "    def fit(self,X,y=None):\n",
    "        return self # not relevant here\n",
    "\n",
    "    def transform(self,X):\n",
    "        '''\n",
    "        Transforms columns of X specified in self.columns using\n",
    "        LabelEncoder(). If no columns specified, transforms all\n",
    "        columns in X.\n",
    "        '''\n",
    "        output = X.copy()\n",
    "        if self.columns is not None:\n",
    "            for col in self.columns:\n",
    "                output[col] = LabelEncoder().fit_transform(output[col])\n",
    "        else:\n",
    "            for colname,col in output.iteritems():\n",
    "                output[colname] = LabelEncoder().fit_transform(col)\n",
    "        return output\n",
    "\n",
    "    def fit_transform(self,X,y=None):\n",
    "        return self.fit(X,y).transform(X)"
   ]
  },
  {
   "cell_type": "code",
   "execution_count": 27,
   "metadata": {
    "collapsed": false
   },
   "outputs": [],
   "source": [
    "df_ios = MultiColumnLabelEncoder(columns = encoder_cols).fit_transform(df_ios)"
   ]
  },
  {
   "cell_type": "code",
   "execution_count": 28,
   "metadata": {
    "collapsed": false
   },
   "outputs": [
    {
     "data": {
      "text/plain": [
       "Series([], dtype: float64)"
      ]
     },
     "execution_count": 28,
     "metadata": {},
     "output_type": "execute_result"
    }
   ],
   "source": [
    "def show_missing():\n",
    "    missing = df.columns[df.isnull().any()].tolist()\n",
    "    return missing\n",
    "df_ios[show_missing()].isnull().sum()"
   ]
  },
  {
   "cell_type": "code",
   "execution_count": 29,
   "metadata": {
    "collapsed": false
   },
   "outputs": [],
   "source": [
    "ios_drop = ['os','aid_loan','imei_loan','mac_loan','imei_counts','mac_counts','aid_counts']\n",
    "df_ios=df_ios.drop(ios_drop,axis=1)"
   ]
  },
  {
   "cell_type": "code",
   "execution_count": 30,
   "metadata": {
    "collapsed": false
   },
   "outputs": [
    {
     "data": {
      "image/png": "[encoded data removed]",
      "text/plain": [
       "<matplotlib.figure.Figure at 0x11966a610>"
      ]
     },
     "metadata": {},
     "output_type": "display_data"
    }
   ],
   "source": [
    "df_ios.label.value_counts(normalize=True).plot(kind='bar')\n",
    "save_path = image_path + \"/ios_label_ratio-{0}-{1}-{2}.png\".format(version,ratio,model)\n",
    "fig = plt.gcf()\n",
    "fig.savefig(save_path,format='png')\n",
    "plt.show()"
   ]
  },
  {
   "cell_type": "code",
   "execution_count": 31,
   "metadata": {
    "collapsed": false
   },
   "outputs": [],
   "source": [
    "from sklearn.cross_validation import train_test_split\n",
    "# def splitData(df, ratio):\n",
    "#     \"\"\"\n",
    "#     \"\"\"\n",
    "#     positive_maxent_id = df[df[\"label\"] == 1]['maxent_id'].drop_duplicates().reset_index(drop=True)\n",
    "#     positive_maxent_id_test, positive_maxent_id_train = train_test_split(positive_maxent_id, train_size=ratio)\n",
    "#     print(positive_maxent_id_train.shape,positive_maxent_id_test.shape)\n",
    "#     negative_maxent_id = df[df[\"label\"] == 0]['maxent_id'].drop_duplicates().reset_index(drop=True)\n",
    "#     negative_maxent_id_test, negative_maxent_id_train = train_test_split(negative_maxent_id, train_size=ratio)\n",
    "#     print(negative_maxent_id_train.shape,negative_maxent_id_test.shape)\n",
    "#     train_maxent_id = pd.concat([positive_maxent_id_train, negative_maxent_id_train],ignore_index=True)\n",
    "#     test_maxent_id = pd.concat([positive_maxent_id_test, negative_maxent_id_test],ignore_index=True)\n",
    "#     df_train = df.loc[df['maxent_id'].isin(train_maxent_id)]\n",
    "#     df_test = df.loc[df['maxent_id'].isin(test_maxent_id)]\n",
    "#     return df_train, df_test\n",
    "# #     df_test = pd.merge(df, test_maxent_id, on='maxent_id', how='inner')\n",
    "# #     positiveData = df[df[\"label\"] == 1].copy(deep=True)\n",
    "# #     _positiveTrain, _positiveTest = train_test_split(positiveData, train_size=ratio)\n",
    "# #     negativeData = df[df[\"label\"] == 0].copy(deep=True)\n",
    "# #     _negativeTrain, _negativeTest = train_test_split(negativeData, train_size=ratio)\n",
    "# #     train_set = pd.concat([_positiveTrain, _negativeTrain])\n",
    "# #     test_set = pd.concat([_positiveTest, _negativeTest])\n",
    "# #     return train_set, test_set\n",
    "\n",
    "def splitData(df, ratio):\n",
    "    \"\"\"\n",
    "    \"\"\"\n",
    "    positiveData = df[df[\"label\"] == 1].copy(deep=True)\n",
    "    _positiveTrain, _positiveTest = train_test_split(positiveData, train_size=ratio)\n",
    "    negativeData = df[df[\"label\"] == 0].copy(deep=True)\n",
    "    _negativeTrain, _negativeTest = train_test_split(negativeData, train_size=ratio)\n",
    "    train_set = pd.concat([_positiveTrain, _negativeTrain])\n",
    "    test_set = pd.concat([_positiveTest, _negativeTest])\n",
    "    return train_set, test_set\n"
   ]
  },
  {
   "cell_type": "code",
   "execution_count": 32,
   "metadata": {
    "collapsed": false
   },
   "outputs": [
    {
     "name": "stdout",
     "output_type": "stream",
     "text": [
      "(2096, 69) (900, 69)\n",
      "Number transactions ios train dataset:  2096\n",
      "Number transactions ios test dataset:  900\n"
     ]
    }
   ],
   "source": [
    "df_ios_train, df_ios_test = splitData(df_ios,0.7)\n",
    "print(df_ios_train.shape, df_ios_test.shape)\n",
    "df_ios_maxent_id = df_ios_test['maxent_id'].reset_index(drop=True)\n",
    "X_ios_train = df_ios_train.ix[:, df_ios_train.columns != 'label'].drop(['maxent_id'],axis=1)\n",
    "X_ios_test  = df_ios_test.ix[:, df_ios_test.columns != 'label'].drop(['maxent_id'],axis=1)\n",
    "y_ios_train = df_ios_train.ix[:, df_ios_train.columns == 'label']\n",
    "y_ios_test  = df_ios_test.ix[:, df_ios_test.columns == 'label']\n",
    "print(\"Number transactions ios train dataset: \", X_ios_train.shape[0])\n",
    "print(\"Number transactions ios test dataset: \", X_ios_test.shape[0])"
   ]
  },
  {
   "cell_type": "markdown",
   "metadata": {},
   "source": [
    "第一层机器学习模型"
   ]
  },
  {
   "cell_type": "code",
   "execution_count": 44,
   "metadata": {
    "collapsed": true
   },
   "outputs": [],
   "source": [
    "def get_oof(clf, x_train, y_train, x_test):\n",
    "    ntrain = x_train.shape[0]\n",
    "    ntest = x_test.shape[0]\n",
    "    SEED =1234\n",
    "    NFOLDS = 5  # set folds for out-of-fold prediction\n",
    "    kf = KFold(ntrain, n_folds=NFOLDS, random_state=SEED)\n",
    "    oof_train = np.zeros((ntrain,))\n",
    "    oof_test = np.zeros((ntest,))\n",
    "    oof_test_skf = np.empty((NFOLDS, ntest))\n",
    "\n",
    "    for i, (train_index, test_index) in enumerate(kf):\n",
    "#         print(train_index)\n",
    "        x_tr = x_train[train_index]\n",
    "        y_tr = y_train[train_index]\n",
    "        x_te = x_train[test_index]\n",
    "        print(y_tr.max(),y_tr.min())\n",
    "\n",
    "        clf.train(x_tr, y_tr)\n",
    "\n",
    "        oof_train[test_index] = clf.predict(x_te)\n",
    "        oof_test_skf[i, :] = clf.predict(x_test)\n",
    "\n",
    "    oof_test[:] = oof_test_skf.mean(axis=0)\n",
    "    return oof_train.reshape(-1, 1), oof_test.reshape(-1, 1)"
   ]
  },
  {
   "cell_type": "code",
   "execution_count": 37,
   "metadata": {
    "collapsed": false
   },
   "outputs": [],
   "source": [
    "rf = SklearnHelper(clf=RandomForestClassifier, seed=SEED, params=rf_params)\n",
    "et = SklearnHelper(clf=ExtraTreesClassifier, seed=SEED, params=et_params)\n",
    "ada = SklearnHelper(clf=AdaBoostClassifier, seed=SEED, params=ada_params)\n",
    "gb = SklearnHelper(clf=GradientBoostingClassifier, seed=SEED, params=gb_params)\n",
    "svc = SklearnHelper(clf=SVC, seed=SEED, params=svc_params)"
   ]
  },
  {
   "cell_type": "code",
   "execution_count": 35,
   "metadata": {
    "collapsed": true
   },
   "outputs": [
    {
     "name": "stderr",
     "output_type": "stream",
     "text": [
      "/Users/chaoxu/code/local-spark/Utils/SklearnerHelper.py:14: DataConversionWarning: A column-vector y was passed when a 1d array was expected. Please change the shape of y to (n_samples,), for example using ravel().\n",
      "  self.clf.fit(x_train, y_train)\n",
      "/Users/chaoxu/.pyenv/versions/anaconda2-4.3.1/lib/python2.7/site-packages/sklearn/ensemble/forest.py:304: UserWarning: Warm-start fitting without increasing n_estimators does not fit new trees.\n",
      "  warn(\"Warm-start fitting without increasing n_estimators does not \"\n",
      "/Users/chaoxu/.pyenv/versions/anaconda2-4.3.1/lib/python2.7/site-packages/sklearn/utils/validation.py:547: DataConversionWarning: A column-vector y was passed when a 1d array was expected. Please change the shape of y to (n_samples, ), for example using ravel().\n",
      "  y = column_or_1d(y, warn=True)\n"
     ]
    },
    {
     "ename": "ValueError",
     "evalue": "BinomialDeviance requires 2 classes.",
     "output_type": "error",
     "traceback": [
      "\u001b[0;31m\u001b[0m",
      "\u001b[0;31mValueError\u001b[0mTraceback (most recent call last)",
      "\u001b[0;32m<ipython-input-35-74872d7a94ee>\u001b[0m in \u001b[0;36m<module>\u001b[0;34m()\u001b[0m\n\u001b[1;32m      6\u001b[0m \u001b[0mrf_oof_train\u001b[0m\u001b[0;34m,\u001b[0m \u001b[0mrf_oof_test\u001b[0m \u001b[0;34m=\u001b[0m \u001b[0mget_oof\u001b[0m\u001b[0;34m(\u001b[0m\u001b[0mrf\u001b[0m\u001b[0;34m,\u001b[0m\u001b[0mX_ios_train\u001b[0m\u001b[0;34m,\u001b[0m \u001b[0my_ios_train\u001b[0m\u001b[0;34m,\u001b[0m \u001b[0mX_ios_test\u001b[0m\u001b[0;34m)\u001b[0m \u001b[0;31m# Random Forest\u001b[0m\u001b[0;34m\u001b[0m\u001b[0m\n\u001b[1;32m      7\u001b[0m \u001b[0mada_oof_train\u001b[0m\u001b[0;34m,\u001b[0m \u001b[0mada_oof_test\u001b[0m \u001b[0;34m=\u001b[0m \u001b[0mget_oof\u001b[0m\u001b[0;34m(\u001b[0m\u001b[0mada\u001b[0m\u001b[0;34m,\u001b[0m \u001b[0mX_ios_train\u001b[0m\u001b[0;34m,\u001b[0m \u001b[0my_ios_train\u001b[0m\u001b[0;34m,\u001b[0m \u001b[0mX_ios_test\u001b[0m\u001b[0;34m)\u001b[0m \u001b[0;31m# AdaBoost\u001b[0m\u001b[0;34m\u001b[0m\u001b[0m\n\u001b[0;32m----> 8\u001b[0;31m \u001b[0mgb_oof_train\u001b[0m\u001b[0;34m,\u001b[0m \u001b[0mgb_oof_test\u001b[0m \u001b[0;34m=\u001b[0m \u001b[0mget_oof\u001b[0m\u001b[0;34m(\u001b[0m\u001b[0mgb\u001b[0m\u001b[0;34m,\u001b[0m\u001b[0mX_ios_train\u001b[0m\u001b[0;34m,\u001b[0m \u001b[0my_ios_train\u001b[0m\u001b[0;34m,\u001b[0m \u001b[0mX_ios_test\u001b[0m\u001b[0;34m)\u001b[0m \u001b[0;31m# Gradient Boost\u001b[0m\u001b[0;34m\u001b[0m\u001b[0m\n\u001b[0m\u001b[1;32m      9\u001b[0m \u001b[0msvc_oof_train\u001b[0m\u001b[0;34m,\u001b[0m \u001b[0msvc_oof_test\u001b[0m \u001b[0;34m=\u001b[0m \u001b[0mget_oof\u001b[0m\u001b[0;34m(\u001b[0m\u001b[0msvc\u001b[0m\u001b[0;34m,\u001b[0m\u001b[0mX_ios_train\u001b[0m\u001b[0;34m,\u001b[0m \u001b[0my_ios_train\u001b[0m\u001b[0;34m,\u001b[0m \u001b[0mX_ios_test\u001b[0m\u001b[0;34m)\u001b[0m \u001b[0;31m# Support Vector Classifier\u001b[0m\u001b[0;34m\u001b[0m\u001b[0m\n\u001b[1;32m     10\u001b[0m \u001b[0;34m\u001b[0m\u001b[0m\n",
      "\u001b[0;32m<ipython-input-33-3d615a876b14>\u001b[0m in \u001b[0;36mget_oof\u001b[0;34m(clf, x_train, y_train, x_test)\u001b[0m\n\u001b[1;32m     15\u001b[0m         \u001b[0mx_te\u001b[0m \u001b[0;34m=\u001b[0m \u001b[0mx_train\u001b[0m\u001b[0;34m[\u001b[0m\u001b[0mtest_index\u001b[0m\u001b[0;34m]\u001b[0m\u001b[0;34m\u001b[0m\u001b[0m\n\u001b[1;32m     16\u001b[0m \u001b[0;34m\u001b[0m\u001b[0m\n\u001b[0;32m---> 17\u001b[0;31m         \u001b[0mclf\u001b[0m\u001b[0;34m.\u001b[0m\u001b[0mtrain\u001b[0m\u001b[0;34m(\u001b[0m\u001b[0mx_tr\u001b[0m\u001b[0;34m,\u001b[0m \u001b[0my_tr\u001b[0m\u001b[0;34m)\u001b[0m\u001b[0;34m\u001b[0m\u001b[0m\n\u001b[0m\u001b[1;32m     18\u001b[0m \u001b[0;34m\u001b[0m\u001b[0m\n\u001b[1;32m     19\u001b[0m         \u001b[0moof_train\u001b[0m\u001b[0;34m[\u001b[0m\u001b[0mtest_index\u001b[0m\u001b[0;34m]\u001b[0m \u001b[0;34m=\u001b[0m \u001b[0mclf\u001b[0m\u001b[0;34m.\u001b[0m\u001b[0mpredict\u001b[0m\u001b[0;34m(\u001b[0m\u001b[0mx_te\u001b[0m\u001b[0;34m)\u001b[0m\u001b[0;34m\u001b[0m\u001b[0m\n",
      "\u001b[0;32m/Users/chaoxu/code/local-spark/Utils/SklearnerHelper.pyc\u001b[0m in \u001b[0;36mtrain\u001b[0;34m(self, x_train, y_train)\u001b[0m\n\u001b[1;32m     12\u001b[0m \u001b[0;34m\u001b[0m\u001b[0m\n\u001b[1;32m     13\u001b[0m     \u001b[0;32mdef\u001b[0m \u001b[0mtrain\u001b[0m\u001b[0;34m(\u001b[0m\u001b[0mself\u001b[0m\u001b[0;34m,\u001b[0m \u001b[0mx_train\u001b[0m\u001b[0;34m,\u001b[0m \u001b[0my_train\u001b[0m\u001b[0;34m)\u001b[0m\u001b[0;34m:\u001b[0m\u001b[0;34m\u001b[0m\u001b[0m\n\u001b[0;32m---> 14\u001b[0;31m         \u001b[0mself\u001b[0m\u001b[0;34m.\u001b[0m\u001b[0mclf\u001b[0m\u001b[0;34m.\u001b[0m\u001b[0mfit\u001b[0m\u001b[0;34m(\u001b[0m\u001b[0mx_train\u001b[0m\u001b[0;34m,\u001b[0m \u001b[0my_train\u001b[0m\u001b[0;34m)\u001b[0m\u001b[0;34m\u001b[0m\u001b[0m\n\u001b[0m\u001b[1;32m     15\u001b[0m \u001b[0;34m\u001b[0m\u001b[0m\n\u001b[1;32m     16\u001b[0m     \u001b[0;32mdef\u001b[0m \u001b[0mpredict\u001b[0m\u001b[0;34m(\u001b[0m\u001b[0mself\u001b[0m\u001b[0;34m,\u001b[0m \u001b[0mx\u001b[0m\u001b[0;34m)\u001b[0m\u001b[0;34m:\u001b[0m\u001b[0;34m\u001b[0m\u001b[0m\n",
      "\u001b[0;32m/Users/chaoxu/.pyenv/versions/anaconda2-4.3.1/lib/python2.7/site-packages/sklearn/ensemble/gradient_boosting.pyc\u001b[0m in \u001b[0;36mfit\u001b[0;34m(self, X, y, sample_weight, monitor)\u001b[0m\n\u001b[1;32m    989\u001b[0m \u001b[0;34m\u001b[0m\u001b[0m\n\u001b[1;32m    990\u001b[0m         \u001b[0mrandom_state\u001b[0m \u001b[0;34m=\u001b[0m \u001b[0mcheck_random_state\u001b[0m\u001b[0;34m(\u001b[0m\u001b[0mself\u001b[0m\u001b[0;34m.\u001b[0m\u001b[0mrandom_state\u001b[0m\u001b[0;34m)\u001b[0m\u001b[0;34m\u001b[0m\u001b[0m\n\u001b[0;32m--> 991\u001b[0;31m         \u001b[0mself\u001b[0m\u001b[0;34m.\u001b[0m\u001b[0m_check_params\u001b[0m\u001b[0;34m(\u001b[0m\u001b[0;34m)\u001b[0m\u001b[0;34m\u001b[0m\u001b[0m\n\u001b[0m\u001b[1;32m    992\u001b[0m \u001b[0;34m\u001b[0m\u001b[0m\n\u001b[1;32m    993\u001b[0m         \u001b[0;32mif\u001b[0m \u001b[0;32mnot\u001b[0m \u001b[0mself\u001b[0m\u001b[0;34m.\u001b[0m\u001b[0m_is_initialized\u001b[0m\u001b[0;34m(\u001b[0m\u001b[0;34m)\u001b[0m\u001b[0;34m:\u001b[0m\u001b[0;34m\u001b[0m\u001b[0m\n",
      "\u001b[0;32m/Users/chaoxu/.pyenv/versions/anaconda2-4.3.1/lib/python2.7/site-packages/sklearn/ensemble/gradient_boosting.pyc\u001b[0m in \u001b[0;36m_check_params\u001b[0;34m(self)\u001b[0m\n\u001b[1;32m    827\u001b[0m             \u001b[0mself\u001b[0m\u001b[0;34m.\u001b[0m\u001b[0mloss_\u001b[0m \u001b[0;34m=\u001b[0m \u001b[0mloss_class\u001b[0m\u001b[0;34m(\u001b[0m\u001b[0mself\u001b[0m\u001b[0;34m.\u001b[0m\u001b[0mn_classes_\u001b[0m\u001b[0;34m,\u001b[0m \u001b[0mself\u001b[0m\u001b[0;34m.\u001b[0m\u001b[0malpha\u001b[0m\u001b[0;34m)\u001b[0m\u001b[0;34m\u001b[0m\u001b[0m\n\u001b[1;32m    828\u001b[0m         \u001b[0;32melse\u001b[0m\u001b[0;34m:\u001b[0m\u001b[0;34m\u001b[0m\u001b[0m\n\u001b[0;32m--> 829\u001b[0;31m             \u001b[0mself\u001b[0m\u001b[0;34m.\u001b[0m\u001b[0mloss_\u001b[0m \u001b[0;34m=\u001b[0m \u001b[0mloss_class\u001b[0m\u001b[0;34m(\u001b[0m\u001b[0mself\u001b[0m\u001b[0;34m.\u001b[0m\u001b[0mn_classes_\u001b[0m\u001b[0;34m)\u001b[0m\u001b[0;34m\u001b[0m\u001b[0m\n\u001b[0m\u001b[1;32m    830\u001b[0m \u001b[0;34m\u001b[0m\u001b[0m\n\u001b[1;32m    831\u001b[0m         \u001b[0;32mif\u001b[0m \u001b[0;32mnot\u001b[0m \u001b[0;34m(\u001b[0m\u001b[0;36m0.0\u001b[0m \u001b[0;34m<\u001b[0m \u001b[0mself\u001b[0m\u001b[0;34m.\u001b[0m\u001b[0msubsample\u001b[0m \u001b[0;34m<=\u001b[0m \u001b[0;36m1.0\u001b[0m\u001b[0;34m)\u001b[0m\u001b[0;34m:\u001b[0m\u001b[0;34m\u001b[0m\u001b[0m\n",
      "\u001b[0;32m/Users/chaoxu/.pyenv/versions/anaconda2-4.3.1/lib/python2.7/site-packages/sklearn/ensemble/gradient_boosting.pyc\u001b[0m in \u001b[0;36m__init__\u001b[0;34m(self, n_classes)\u001b[0m\n\u001b[1;32m    470\u001b[0m         \u001b[0;32mif\u001b[0m \u001b[0mn_classes\u001b[0m \u001b[0;34m!=\u001b[0m \u001b[0;36m2\u001b[0m\u001b[0;34m:\u001b[0m\u001b[0;34m\u001b[0m\u001b[0m\n\u001b[1;32m    471\u001b[0m             raise ValueError(\"{0:s} requires 2 classes.\".format(\n\u001b[0;32m--> 472\u001b[0;31m                 self.__class__.__name__))\n\u001b[0m\u001b[1;32m    473\u001b[0m         \u001b[0;31m# we only need to fit one tree for binary clf.\u001b[0m\u001b[0;34m\u001b[0m\u001b[0;34m\u001b[0m\u001b[0m\n\u001b[1;32m    474\u001b[0m         \u001b[0msuper\u001b[0m\u001b[0;34m(\u001b[0m\u001b[0mBinomialDeviance\u001b[0m\u001b[0;34m,\u001b[0m \u001b[0mself\u001b[0m\u001b[0;34m)\u001b[0m\u001b[0;34m.\u001b[0m\u001b[0m__init__\u001b[0m\u001b[0;34m(\u001b[0m\u001b[0;36m1\u001b[0m\u001b[0;34m)\u001b[0m\u001b[0;34m\u001b[0m\u001b[0m\n",
      "\u001b[0;31mValueError\u001b[0m: BinomialDeviance requires 2 classes."
     ]
    }
   ],
   "source": [
    "X_ios_train = X_ios_train.values\n",
    "X_ios_test = X_ios_test.values\n",
    "y_ios_train=y_ios_train.values\n",
    "y_ios_test=y_ios_test.values"
   ]
  },
  {
   "cell_type": "code",
   "execution_count": 41,
   "metadata": {
    "collapsed": false
   },
   "outputs": [
    {
     "data": {
      "text/plain": [
       "1"
      ]
     },
     "execution_count": 41,
     "metadata": {},
     "output_type": "execute_result"
    }
   ],
   "source": [
    "y_ios_train.max()"
   ]
  },
  {
   "cell_type": "code",
   "execution_count": 46,
   "metadata": {
    "collapsed": false
   },
   "outputs": [
    {
     "name": "stdout",
     "output_type": "stream",
     "text": [
      "0 0\n",
      "1 0\n",
      "1 0\n",
      "1 0\n",
      "1 0\n",
      "0 0\n",
      "1 0\n",
      "1 0\n",
      "1 0\n",
      "1 0\n",
      "0 0\n",
      "1 0\n",
      "1 0\n",
      "1 0\n",
      "1 0\n",
      "Training is complete\n"
     ]
    }
   ],
   "source": [
    "et_oof_train, et_oof_test = get_oof(et, X_ios_train, y_ios_train, X_ios_test) # Extra Trees\n",
    "rf_oof_train, rf_oof_test = get_oof(rf,X_ios_train, y_ios_train, X_ios_test) # Random Forest\n",
    "ada_oof_train, ada_oof_test = get_oof(ada, X_ios_train, y_ios_train, X_ios_test) # AdaBoost \n",
    "# gb_oof_train, gb_oof_test = get_oof(gb,X_ios_train, y_ios_train, X_ios_test) # Gradient Boost\n",
    "# svc_oof_train, svc_oof_test = get_oof(svc,X_ios_train, y_ios_train, X_ios_test) # Support Vector Classifier\n",
    "print(\"Training is complete\")"
   ]
  },
  {
   "cell_type": "code",
   "execution_count": 50,
   "metadata": {
    "collapsed": false
   },
   "outputs": [
    {
     "name": "stdout",
     "output_type": "stream",
     "text": [
      "[ 0.  0.  0.  0.  0.  0.  0.  0.  0.  0.  0.  0.  0.  0.  0.  0.  0.  0.\n",
      "  0.  0.  0.  0.  0.  0.  0.  0.  0.  0.  0.  0.  0.  0.  0.  0.  0.  0.\n",
      "  0.  0.  0.  0.  0.  0.  0.  0.  0.  0.  0.  0.  0.  0.  0.  0.  0.  0.\n",
      "  0.  0.  0.  0.  0.  0.  0.  0.  0.  0.  0.  0.  0.]\n",
      "[ 0.0059221   0.00027756  0.00513276  0.00073102  0.05373145  0.\n",
      "  0.01429921  0.01350605  0.01315082  0.00580337  0.00384553  0.00517904\n",
      "  0.02457114  0.01759021  0.00920631  0.04336562  0.01673176  0.\n",
      "  0.01971933  0.00715071  0.00628601  0.03038589  0.01747141  0.02231177\n",
      "  0.01739003  0.01747672  0.02030825  0.01765555  0.01134043  0.02850081\n",
      "  0.00461146  0.01203111  0.0150341   0.00562405  0.01443325  0.03071355\n",
      "  0.04831844  0.          0.00958706  0.01747309  0.01345364  0.01075114\n",
      "  0.00577286  0.01926197  0.0002069   0.01823455  0.01276687  0.02748983\n",
      "  0.01452443  0.01700722  0.02736949  0.00629709  0.01097071  0.01960162\n",
      "  0.01654263  0.01746755  0.00021203  0.02112171  0.01329294  0.00340957\n",
      "  0.          0.02609308  0.03448515  0.          0.02604894  0.02178484\n",
      "  0.00896627]\n",
      "[ 0.     0.     0.     0.     0.008  0.     0.008  0.006  0.012  0.002  0.\n",
      "  0.     0.     0.     0.008  0.012  0.002  0.     0.14   0.     0.     0.\n",
      "  0.168  0.058  0.006  0.03   0.002  0.016  0.     0.006  0.002  0.004\n",
      "  0.042  0.     0.     0.002  0.01   0.     0.01   0.056  0.052  0.004\n",
      "  0.006  0.006  0.     0.018  0.     0.012  0.014  0.004  0.11   0.     0.\n",
      "  0.002  0.008  0.008  0.002  0.008  0.096  0.008  0.     0.     0.01   0.\n",
      "  0.004  0.01   0.008]\n"
     ]
    }
   ],
   "source": [
    "rf_feature = rf.feature_importances(X_ios_train,y_ios_train)\n",
    "et_feature = et.feature_importances(X_ios_train, y_ios_train)\n",
    "ada_feature = ada.feature_importances(X_ios_train, y_ios_train)\n",
    "# gb_feature = gb.feature_importances(X_ios_train,y_train)"
   ]
  },
  {
   "cell_type": "code",
   "execution_count": 52,
   "metadata": {
    "collapsed": false
   },
   "outputs": [
    {
     "data": {
      "text/html": [
       "<div>\n",
       "<table border=\"1\" class=\"dataframe\">\n",
       "  <thead>\n",
       "    <tr style=\"text-align: right;\">\n",
       "      <th></th>\n",
       "      <th>AdaBoost</th>\n",
       "      <th>ExtraTrees</th>\n",
       "      <th>RandomForest</th>\n",
       "    </tr>\n",
       "  </thead>\n",
       "  <tbody>\n",
       "    <tr>\n",
       "      <th>0</th>\n",
       "      <td>0.0</td>\n",
       "      <td>0.0</td>\n",
       "      <td>0.0</td>\n",
       "    </tr>\n",
       "    <tr>\n",
       "      <th>1</th>\n",
       "      <td>0.0</td>\n",
       "      <td>0.0</td>\n",
       "      <td>0.0</td>\n",
       "    </tr>\n",
       "    <tr>\n",
       "      <th>2</th>\n",
       "      <td>0.0</td>\n",
       "      <td>0.0</td>\n",
       "      <td>0.0</td>\n",
       "    </tr>\n",
       "    <tr>\n",
       "      <th>3</th>\n",
       "      <td>0.0</td>\n",
       "      <td>0.0</td>\n",
       "      <td>0.0</td>\n",
       "    </tr>\n",
       "    <tr>\n",
       "      <th>4</th>\n",
       "      <td>0.0</td>\n",
       "      <td>0.0</td>\n",
       "      <td>0.0</td>\n",
       "    </tr>\n",
       "  </tbody>\n",
       "</table>\n",
       "</div>"
      ],
      "text/plain": [
       "   AdaBoost  ExtraTrees  RandomForest\n",
       "0       0.0         0.0           0.0\n",
       "1       0.0         0.0           0.0\n",
       "2       0.0         0.0           0.0\n",
       "3       0.0         0.0           0.0\n",
       "4       0.0         0.0           0.0"
      ]
     },
     "execution_count": 52,
     "metadata": {},
     "output_type": "execute_result"
    }
   ],
   "source": [
    "base_ios_predictions_train = pd.DataFrame( {'RandomForest': rf_oof_train.ravel(),\n",
    "     'ExtraTrees': et_oof_train.ravel(),\n",
    "     'AdaBoost': ada_oof_train.ravel(),\n",
    "    })\n",
    "base_ios_predictions_train.head()"
   ]
  },
  {
   "cell_type": "code",
   "execution_count": null,
   "metadata": {
    "collapsed": false
   },
   "outputs": [],
   "source": [
    "# df_ios_test[df_ios_test[\"label\"] == 1]['maxent_id'].drop_duplicates().count()"
   ]
  },
  {
   "cell_type": "code",
   "execution_count": null,
   "metadata": {
    "collapsed": false
   },
   "outputs": [],
   "source": [
    "# df_ios_test[df_ios_test[\"label\"] == 0]['maxent_id'].drop_duplicates().count()"
   ]
  },
  {
   "cell_type": "code",
   "execution_count": 69,
   "metadata": {
    "collapsed": false
   },
   "outputs": [],
   "source": [
    "from __future__ import print_function,division\n",
    "import itertools\n",
    "import matplotlib.pylab as plt\n",
    "def plot_confusion_matrix(cm, classes,\n",
    "                          normalize=False,\n",
    "                          title='Confusion matrix',\n",
    "                          cmap=plt.cm.Blues):\n",
    "    \"\"\"\n",
    "    This function prints and plots the confusion matrix.\n",
    "    Normalization can be applied by setting `normalize=True`.\n",
    "    \"\"\"\n",
    "    plt.imshow(cm, interpolation='nearest', cmap=cmap)\n",
    "    plt.title(title)\n",
    "    plt.colorbar()\n",
    "    tick_marks = np.arange(len(classes))\n",
    "    plt.xticks(tick_marks, classes, rotation=0)\n",
    "    plt.yticks(tick_marks, classes)\n",
    "\n",
    "    if normalize:\n",
    "        cm = cm.astype('float') / cm.sum(axis=1)[:, np.newaxis]\n",
    "        #print(\"Normalized confusion matrix\")\n",
    "    else:\n",
    "        1#print('Confusion matrix, without normalization')\n",
    "\n",
    "    #print(cm)\n",
    "\n",
    "    thresh = cm.max() / 2.\n",
    "    for i, j in itertools.product(range(cm.shape[0]), range(cm.shape[1])):\n",
    "        plt.text(j, i, cm[i, j],\n",
    "                 horizontalalignment=\"center\",\n",
    "                 color=\"white\" if cm[i, j] > thresh else \"black\")\n",
    "\n",
    "    plt.tight_layout()\n",
    "    plt.ylabel('label 1')\n",
    "    plt.xlabel('label 0')"
   ]
  },
  {
   "cell_type": "code",
   "execution_count": null,
   "metadata": {
    "collapsed": false
   },
   "outputs": [],
   "source": [
    "def get_ios_group_label(row):\n",
    "#     print(row['y_ios_test'].values)\n",
    "#     if row['y_ios_test'].values[0] == 1:\n",
    "    return row['y_ios_pred'].max()\n",
    "#     else:\n",
    "#         return row['y_ios_pred'].min()"
   ]
  },
  {
   "cell_type": "code",
   "execution_count": null,
   "metadata": {
    "collapsed": false
   },
   "outputs": [],
   "source": [
    "from sklearn.metrics import confusion_matrix,precision_recall_curve,auc,roc_auc_score,roc_curve,recall_score,precision_score,classification_report\n",
    "# from sklearn.ensemble import RandomForestClassifier\n",
    "# params = {'max_features':'auto', 'max_depth': 3, 'min_samples_split': 5, \\\n",
    "#             'class_weight':'balanced','oob_score':True}\n",
    "# params['n_estimators'] = 2\n",
    "# params['n_jobs'] = 50\n",
    "# forest = RandomForestClassifier(**params)\n",
    "# clf_a = forest.fit(X_ios_train,y_ios_train.values.ravel())\n",
    "# y_ios_pred = clf_a.predict(x_ios_test)\n",
    "\n",
    "# df_y_ios_pred = pd.DataFrame(y_ios_pred,columns=['y_ios_pred'])\n",
    "# df_y_ios_test = pd.DataFrame(y_ios_test.values,columns=['y_ios_test'])\n",
    "# df_pred = pd.concat([df_ios_maxent_id,df_y_ios_pred,df_y_ios_test],axis=1)\n",
    "# df_pred_g = df_pred.groupby(['maxent_id','y_ios_test'])"
   ]
  },
  {
   "cell_type": "code",
   "execution_count": null,
   "metadata": {
    "collapsed": false
   },
   "outputs": [],
   "source": [
    "from sklearn import tree\n",
    "from IPython.display import Image\n",
    "import pydotplus\n",
    "from sklearn import cross_validation, metrics\n",
    "from sklearn.grid_search import GridSearchCV"
   ]
  },
  {
   "cell_type": "code",
   "execution_count": 58,
   "metadata": {
    "collapsed": false
   },
   "outputs": [],
   "source": [
    "tree_base_params = {\n",
    "    'objective' : 'binary:logistic',\n",
    "#     'objective' : 'binary:logitraw',\n",
    "    'nthread':4,\n",
    "#     'num_class': 2,\n",
    "#     'scale_pos_weight':scale_ios_ratio,\n",
    "#     'missing':-6.666,\n",
    "    'seed':27 \n",
    "}"
   ]
  },
  {
   "cell_type": "code",
   "execution_count": 59,
   "metadata": {
    "collapsed": false
   },
   "outputs": [
    {
     "data": {
      "text/plain": [
       "{'nthread': 4, 'objective': 'binary:logistic', 'seed': 27}"
      ]
     },
     "execution_count": 59,
     "metadata": {},
     "output_type": "execute_result"
    }
   ],
   "source": [
    "params_ios = {}\n",
    "params_ios.update(tree_base_params)\n",
    "params_ios"
   ]
  },
  {
   "cell_type": "code",
   "execution_count": 63,
   "metadata": {
    "collapsed": false,
    "run_control": {
     "marked": true
    }
   },
   "outputs": [],
   "source": [
    "# from collections import OrderedDict\n",
    "# all_test_params = OrderedDict()\n",
    "cv_params = {\n",
    "    'pre_dispatch': '2*n_jobs', \n",
    "    'refit':True,\n",
    "    'scoring':'roc_auc',\n",
    "#     'scoring':'f1_macro',\n",
    "#     'scoring':'average_precision',\n",
    "#     'scoring':'accuracy',\n",
    "#     'scoring':'recall',\n",
    "    'cv':5,\n",
    "    'verbose':0\n",
    "}\n",
    "all_test_params = {\n",
    "    'n_estimators':range(10,200,10),\n",
    "    'max_depth':range(3,10,2),\n",
    "    'min_child_weight':range(1,6,2),\n",
    "    'gamma':[i/10.0 for i in range(0,5)],\n",
    "    'subsample':[i/10.0 for i in range(6,10)],\n",
    "    'colsample_bytree':[i/10.0 for i in range(6,10)],\n",
    "    'reg_lambda':[0, 0.001, 0.005, 0.01, 0.05],\n",
    "    'learning_rate':[i/10.0 for i in range(10,21)],\n",
    "    'base_score':[i/10.0 for i in range(1,10)],\n",
    "}"
   ]
  },
  {
   "cell_type": "code",
   "execution_count": 61,
   "metadata": {
    "collapsed": true
   },
   "outputs": [],
   "source": [
    "X_ios_stack_train = np.concatenate((et_oof_train, rf_oof_train, ada_oof_train), axis=1)\n",
    "X_ios_stack_test = np.concatenate((et_oof_test, rf_oof_test, ada_oof_test), axis=1)"
   ]
  },
  {
   "cell_type": "code",
   "execution_count": 74,
   "metadata": {
    "collapsed": false
   },
   "outputs": [
    {
     "name": "stdout",
     "output_type": "stream",
     "text": [
      "find best params of {'n_estimators': [10, 20, 30, 40, 50, 60, 70, 80, 90, 100, 110, 120, 130, 140, 150, 160, 170, 180, 190]}\n"
     ]
    },
    {
     "ename": "IndexError",
     "evalue": "too many indices for array",
     "output_type": "error",
     "traceback": [
      "\u001b[0;31m\u001b[0m",
      "\u001b[0;31mIndexError\u001b[0mTraceback (most recent call last)",
      "\u001b[0;32m<ipython-input-74-42e0978196d3>\u001b[0m in \u001b[0;36m<module>\u001b[0;34m()\u001b[0m\n\u001b[1;32m      6\u001b[0m \u001b[0my_ios_train_cv\u001b[0m \u001b[0;34m=\u001b[0m \u001b[0my_ios_train\u001b[0m\u001b[0;34m\u001b[0m\u001b[0m\n\u001b[1;32m      7\u001b[0m ios_params,_clf = gridCV(clf=xgb.XGBClassifier,X=X_ios_train_cv,y=y_ios_train_cv,\n\u001b[0;32m----> 8\u001b[0;31m                          base_params=tree_base_params,all_test_params=all_test_params,cv_parmas=cv_params)\n\u001b[0m\u001b[1;32m      9\u001b[0m \u001b[0;34m\u001b[0m\u001b[0m\n\u001b[1;32m     10\u001b[0m \u001b[0mclf_ios\u001b[0m \u001b[0;34m=\u001b[0m \u001b[0mxgb\u001b[0m\u001b[0;34m.\u001b[0m\u001b[0mXGBClassifier\u001b[0m\u001b[0;34m(\u001b[0m\u001b[0;34m**\u001b[0m\u001b[0mios_params\u001b[0m\u001b[0;34m)\u001b[0m\u001b[0;34m\u001b[0m\u001b[0m\n",
      "\u001b[0;32m/Users/chaoxu/code/local-spark/Utils/gridCV.pyc\u001b[0m in \u001b[0;36mgridCV\u001b[0;34m(clf, X, y, base_params, all_test_params, cv_parmas)\u001b[0m\n\u001b[1;32m     18\u001b[0m         \u001b[0;32mprint\u001b[0m\u001b[0;34m(\u001b[0m\u001b[0;34m\"find best params of {0}\"\u001b[0m\u001b[0;34m.\u001b[0m\u001b[0mformat\u001b[0m\u001b[0;34m(\u001b[0m\u001b[0mtest_params\u001b[0m\u001b[0;34m)\u001b[0m\u001b[0;34m)\u001b[0m\u001b[0;34m\u001b[0m\u001b[0m\n\u001b[1;32m     19\u001b[0m         \u001b[0mclf_cv\u001b[0m \u001b[0;34m=\u001b[0m \u001b[0mGridSearchCV\u001b[0m\u001b[0;34m(\u001b[0m\u001b[0mestimator\u001b[0m\u001b[0;34m=\u001b[0m\u001b[0mclf\u001b[0m\u001b[0;34m(\u001b[0m\u001b[0;34m**\u001b[0m\u001b[0mbest_params\u001b[0m\u001b[0;34m)\u001b[0m\u001b[0;34m,\u001b[0m\u001b[0mparam_grid\u001b[0m\u001b[0;34m=\u001b[0m\u001b[0mtest_params\u001b[0m\u001b[0;34m,\u001b[0m\u001b[0;34m**\u001b[0m\u001b[0mcv_parmas\u001b[0m\u001b[0;34m)\u001b[0m\u001b[0;34m\u001b[0m\u001b[0m\n\u001b[0;32m---> 20\u001b[0;31m         \u001b[0mclf_cv\u001b[0m\u001b[0;34m.\u001b[0m\u001b[0mfit\u001b[0m\u001b[0;34m(\u001b[0m\u001b[0mX\u001b[0m\u001b[0;34m,\u001b[0m \u001b[0my\u001b[0m\u001b[0;34m)\u001b[0m\u001b[0;34m\u001b[0m\u001b[0m\n\u001b[0m\u001b[1;32m     21\u001b[0m         \u001b[0mbest_params\u001b[0m\u001b[0;34m.\u001b[0m\u001b[0mupdate\u001b[0m\u001b[0;34m(\u001b[0m\u001b[0mclf_cv\u001b[0m\u001b[0;34m.\u001b[0m\u001b[0mbest_params_\u001b[0m\u001b[0;34m)\u001b[0m\u001b[0;34m\u001b[0m\u001b[0m\n\u001b[1;32m     22\u001b[0m     \u001b[0;32mprint\u001b[0m\u001b[0;34m(\u001b[0m\u001b[0;34m\"get grid score is {0}\"\u001b[0m\u001b[0;34m.\u001b[0m\u001b[0mformat\u001b[0m\u001b[0;34m(\u001b[0m\u001b[0mclf_cv\u001b[0m\u001b[0;34m.\u001b[0m\u001b[0mgrid_scores_\u001b[0m\u001b[0;34m)\u001b[0m\u001b[0;34m)\u001b[0m\u001b[0;34m\u001b[0m\u001b[0m\n",
      "\u001b[0;32m/Users/chaoxu/.pyenv/versions/anaconda2-4.3.1/lib/python2.7/site-packages/sklearn/model_selection/_search.pyc\u001b[0m in \u001b[0;36mfit\u001b[0;34m(self, X, y, groups, **fit_params)\u001b[0m\n\u001b[1;32m    636\u001b[0m                                   error_score=self.error_score)\n\u001b[1;32m    637\u001b[0m           for parameters, (train, test) in product(candidate_params,\n\u001b[0;32m--> 638\u001b[0;31m                                                    cv.split(X, y, groups)))\n\u001b[0m\u001b[1;32m    639\u001b[0m \u001b[0;34m\u001b[0m\u001b[0m\n\u001b[1;32m    640\u001b[0m         \u001b[0;31m# if one choose to see train score, \"out\" will contain train score info\u001b[0m\u001b[0;34m\u001b[0m\u001b[0;34m\u001b[0m\u001b[0m\n",
      "\u001b[0;32m/Users/chaoxu/.pyenv/versions/anaconda2-4.3.1/lib/python2.7/site-packages/sklearn/model_selection/_split.pyc\u001b[0m in \u001b[0;36msplit\u001b[0;34m(self, X, y, groups)\u001b[0m\n\u001b[1;32m    330\u001b[0m                                                              n_samples))\n\u001b[1;32m    331\u001b[0m \u001b[0;34m\u001b[0m\u001b[0m\n\u001b[0;32m--> 332\u001b[0;31m         \u001b[0;32mfor\u001b[0m \u001b[0mtrain\u001b[0m\u001b[0;34m,\u001b[0m \u001b[0mtest\u001b[0m \u001b[0;32min\u001b[0m \u001b[0msuper\u001b[0m\u001b[0;34m(\u001b[0m\u001b[0m_BaseKFold\u001b[0m\u001b[0;34m,\u001b[0m \u001b[0mself\u001b[0m\u001b[0;34m)\u001b[0m\u001b[0;34m.\u001b[0m\u001b[0msplit\u001b[0m\u001b[0;34m(\u001b[0m\u001b[0mX\u001b[0m\u001b[0;34m,\u001b[0m \u001b[0my\u001b[0m\u001b[0;34m,\u001b[0m \u001b[0mgroups\u001b[0m\u001b[0;34m)\u001b[0m\u001b[0;34m:\u001b[0m\u001b[0;34m\u001b[0m\u001b[0m\n\u001b[0m\u001b[1;32m    333\u001b[0m             \u001b[0;32myield\u001b[0m \u001b[0mtrain\u001b[0m\u001b[0;34m,\u001b[0m \u001b[0mtest\u001b[0m\u001b[0;34m\u001b[0m\u001b[0m\n\u001b[1;32m    334\u001b[0m \u001b[0;34m\u001b[0m\u001b[0m\n",
      "\u001b[0;32m/Users/chaoxu/.pyenv/versions/anaconda2-4.3.1/lib/python2.7/site-packages/sklearn/model_selection/_split.pyc\u001b[0m in \u001b[0;36msplit\u001b[0;34m(self, X, y, groups)\u001b[0m\n\u001b[1;32m     93\u001b[0m         \u001b[0mX\u001b[0m\u001b[0;34m,\u001b[0m \u001b[0my\u001b[0m\u001b[0;34m,\u001b[0m \u001b[0mgroups\u001b[0m \u001b[0;34m=\u001b[0m \u001b[0mindexable\u001b[0m\u001b[0;34m(\u001b[0m\u001b[0mX\u001b[0m\u001b[0;34m,\u001b[0m \u001b[0my\u001b[0m\u001b[0;34m,\u001b[0m \u001b[0mgroups\u001b[0m\u001b[0;34m)\u001b[0m\u001b[0;34m\u001b[0m\u001b[0m\n\u001b[1;32m     94\u001b[0m         \u001b[0mindices\u001b[0m \u001b[0;34m=\u001b[0m \u001b[0mnp\u001b[0m\u001b[0;34m.\u001b[0m\u001b[0marange\u001b[0m\u001b[0;34m(\u001b[0m\u001b[0m_num_samples\u001b[0m\u001b[0;34m(\u001b[0m\u001b[0mX\u001b[0m\u001b[0;34m)\u001b[0m\u001b[0;34m)\u001b[0m\u001b[0;34m\u001b[0m\u001b[0m\n\u001b[0;32m---> 95\u001b[0;31m         \u001b[0;32mfor\u001b[0m \u001b[0mtest_index\u001b[0m \u001b[0;32min\u001b[0m \u001b[0mself\u001b[0m\u001b[0;34m.\u001b[0m\u001b[0m_iter_test_masks\u001b[0m\u001b[0;34m(\u001b[0m\u001b[0mX\u001b[0m\u001b[0;34m,\u001b[0m \u001b[0my\u001b[0m\u001b[0;34m,\u001b[0m \u001b[0mgroups\u001b[0m\u001b[0;34m)\u001b[0m\u001b[0;34m:\u001b[0m\u001b[0;34m\u001b[0m\u001b[0m\n\u001b[0m\u001b[1;32m     96\u001b[0m             \u001b[0mtrain_index\u001b[0m \u001b[0;34m=\u001b[0m \u001b[0mindices\u001b[0m\u001b[0;34m[\u001b[0m\u001b[0mnp\u001b[0m\u001b[0;34m.\u001b[0m\u001b[0mlogical_not\u001b[0m\u001b[0;34m(\u001b[0m\u001b[0mtest_index\u001b[0m\u001b[0;34m)\u001b[0m\u001b[0;34m]\u001b[0m\u001b[0;34m\u001b[0m\u001b[0m\n\u001b[1;32m     97\u001b[0m             \u001b[0mtest_index\u001b[0m \u001b[0;34m=\u001b[0m \u001b[0mindices\u001b[0m\u001b[0;34m[\u001b[0m\u001b[0mtest_index\u001b[0m\u001b[0;34m]\u001b[0m\u001b[0;34m\u001b[0m\u001b[0m\n",
      "\u001b[0;32m/Users/chaoxu/.pyenv/versions/anaconda2-4.3.1/lib/python2.7/site-packages/sklearn/model_selection/_split.pyc\u001b[0m in \u001b[0;36m_iter_test_masks\u001b[0;34m(self, X, y, groups)\u001b[0m\n\u001b[1;32m    624\u001b[0m \u001b[0;34m\u001b[0m\u001b[0m\n\u001b[1;32m    625\u001b[0m     \u001b[0;32mdef\u001b[0m \u001b[0m_iter_test_masks\u001b[0m\u001b[0;34m(\u001b[0m\u001b[0mself\u001b[0m\u001b[0;34m,\u001b[0m \u001b[0mX\u001b[0m\u001b[0;34m,\u001b[0m \u001b[0my\u001b[0m\u001b[0;34m=\u001b[0m\u001b[0mNone\u001b[0m\u001b[0;34m,\u001b[0m \u001b[0mgroups\u001b[0m\u001b[0;34m=\u001b[0m\u001b[0mNone\u001b[0m\u001b[0;34m)\u001b[0m\u001b[0;34m:\u001b[0m\u001b[0;34m\u001b[0m\u001b[0m\n\u001b[0;32m--> 626\u001b[0;31m         \u001b[0mtest_folds\u001b[0m \u001b[0;34m=\u001b[0m \u001b[0mself\u001b[0m\u001b[0;34m.\u001b[0m\u001b[0m_make_test_folds\u001b[0m\u001b[0;34m(\u001b[0m\u001b[0mX\u001b[0m\u001b[0;34m,\u001b[0m \u001b[0my\u001b[0m\u001b[0;34m)\u001b[0m\u001b[0;34m\u001b[0m\u001b[0m\n\u001b[0m\u001b[1;32m    627\u001b[0m         \u001b[0;32mfor\u001b[0m \u001b[0mi\u001b[0m \u001b[0;32min\u001b[0m \u001b[0mrange\u001b[0m\u001b[0;34m(\u001b[0m\u001b[0mself\u001b[0m\u001b[0;34m.\u001b[0m\u001b[0mn_splits\u001b[0m\u001b[0;34m)\u001b[0m\u001b[0;34m:\u001b[0m\u001b[0;34m\u001b[0m\u001b[0m\n\u001b[1;32m    628\u001b[0m             \u001b[0;32myield\u001b[0m \u001b[0mtest_folds\u001b[0m \u001b[0;34m==\u001b[0m \u001b[0mi\u001b[0m\u001b[0;34m\u001b[0m\u001b[0m\n",
      "\u001b[0;32m/Users/chaoxu/.pyenv/versions/anaconda2-4.3.1/lib/python2.7/site-packages/sklearn/model_selection/_split.pyc\u001b[0m in \u001b[0;36m_make_test_folds\u001b[0;34m(self, X, y)\u001b[0m\n\u001b[1;32m    611\u001b[0m         \u001b[0;32mfor\u001b[0m \u001b[0mtest_fold_indices\u001b[0m\u001b[0;34m,\u001b[0m \u001b[0mper_cls_splits\u001b[0m \u001b[0;32min\u001b[0m \u001b[0menumerate\u001b[0m\u001b[0;34m(\u001b[0m\u001b[0mzip\u001b[0m\u001b[0;34m(\u001b[0m\u001b[0;34m*\u001b[0m\u001b[0mper_cls_cvs\u001b[0m\u001b[0;34m)\u001b[0m\u001b[0;34m)\u001b[0m\u001b[0;34m:\u001b[0m\u001b[0;34m\u001b[0m\u001b[0m\n\u001b[1;32m    612\u001b[0m             \u001b[0;32mfor\u001b[0m \u001b[0mcls\u001b[0m\u001b[0;34m,\u001b[0m \u001b[0;34m(\u001b[0m\u001b[0m_\u001b[0m\u001b[0;34m,\u001b[0m \u001b[0mtest_split\u001b[0m\u001b[0;34m)\u001b[0m \u001b[0;32min\u001b[0m \u001b[0mzip\u001b[0m\u001b[0;34m(\u001b[0m\u001b[0munique_y\u001b[0m\u001b[0;34m,\u001b[0m \u001b[0mper_cls_splits\u001b[0m\u001b[0;34m)\u001b[0m\u001b[0;34m:\u001b[0m\u001b[0;34m\u001b[0m\u001b[0m\n\u001b[0;32m--> 613\u001b[0;31m                 \u001b[0mcls_test_folds\u001b[0m \u001b[0;34m=\u001b[0m \u001b[0mtest_folds\u001b[0m\u001b[0;34m[\u001b[0m\u001b[0my\u001b[0m \u001b[0;34m==\u001b[0m \u001b[0mcls\u001b[0m\u001b[0;34m]\u001b[0m\u001b[0;34m\u001b[0m\u001b[0m\n\u001b[0m\u001b[1;32m    614\u001b[0m                 \u001b[0;31m# the test split can be too big because we used\u001b[0m\u001b[0;34m\u001b[0m\u001b[0;34m\u001b[0m\u001b[0m\n\u001b[1;32m    615\u001b[0m                 \u001b[0;31m# KFold(...).split(X[:max(c, n_splits)]) when data is not 100%\u001b[0m\u001b[0;34m\u001b[0m\u001b[0;34m\u001b[0m\u001b[0m\n",
      "\u001b[0;31mIndexError\u001b[0m: too many indices for array"
     ]
    }
   ],
   "source": [
    "from sklearn import tree\n",
    "from IPython.display import Image\n",
    "import pydotplus\n",
    "# X_ios_cols = X_ios_train.columns\n",
    "X_ios_train_cv = base_ios_predictions_train\n",
    "y_ios_train_cv = y_ios_train\n",
    "ios_params,_clf = gridCV(clf=xgb.XGBClassifier,X=X_ios_train_cv,y=y_ios_train_cv,\n",
    "                         base_params=tree_base_params,all_test_params=all_test_params,cv_parmas=cv_params)\n",
    "\n",
    "clf_ios = xgb.XGBClassifier(**ios_params)\n",
    "clf_0 = clf_ios.fit(X_ios_train, y_ios_train)\n",
    "ios_dot_data = tree.export_graphviz(clf_0, out_file=None, feature_names=X_ios_train.columns,class_names=['label 0','label 1'],\\\n",
    "                               filled=True, rounded=True, special_characters=True, leaves_parallel=False)\n",
    "graph = pydotplus.graph_from_dot_data(ios_dot_data)\n",
    "Image(graph.create_png())"
   ]
  },
  {
   "cell_type": "code",
   "execution_count": null,
   "metadata": {
    "collapsed": false
   },
   "outputs": [],
   "source": [
    "# save_path = image_path + \"/ios_tree-{0}-{1}-{2}.png\".format(version,ratio,model)\n",
    "# graph.write_png(save_path)"
   ]
  },
  {
   "cell_type": "code",
   "execution_count": null,
   "metadata": {
    "collapsed": false
   },
   "outputs": [],
   "source": [
    "# # y_ios_pred = clf_0.predict(x_ios_test)\n",
    "\n",
    "# df_y_ios_pred = pd.DataFrame(y_ios_pred,columns=['y_ios_pred'])\n",
    "# df_y_ios_test = pd.DataFrame(y_ios_test.values,columns=['y_ios_test'])\n",
    "# df_pred = pd.concat([df_ios_maxent_id,df_y_ios_pred,df_y_ios_test],axis=1)\n",
    "# df_pred_g = df_pred.groupby(['maxent_id','y_ios_test'])\n",
    "\n",
    "# df_pred_g_apply=df_pred_g.apply(lambda x:get_ios_group_label(x)).reset_index(name='y_ios_pred_max')\n",
    "\n",
    "# y_ios_test_m = df_pred_g_apply['y_ios_test']\n",
    "# y_ios_pred_m = df_pred_g_apply['y_ios_pred_max']\n",
    "\n",
    "# print(X_ios_test.size)\n",
    "# print(y_ios_test_m.size)\n",
    "# # Compute confusion matrix\n",
    "# cnf_matrix = confusion_matrix(y_ios_test_m,y_ios_pred_m)\n",
    "# np.set_printoptions(precision=2)\n",
    "# np.set_printoptions(precision=2)\n",
    "# recall = cnf_matrix[1,1]/(cnf_matrix[1,0]+cnf_matrix[1,1])\n",
    "# precision = cnf_matrix[1,1]/(cnf_matrix[0,1]+cnf_matrix[1,1])\n",
    "# f2 = 0.2*(4/recall + 1/precision)\n",
    "# print(\"Recall metric in the testing dataset: \", recall)\n",
    "# print(\"Precision metric in the testting dataset:\", precision)\n",
    "# print(\"f2 metric in the testting dataset:\", f2)\n",
    "# # Plot non-normalized confusion matrix\n",
    "# class_names = [0,1]\n",
    "# plt.figure()\n",
    "# plot_confusion_matrix(cnf_matrix\n",
    "#                       , classes=class_names\n",
    "#                       , title='Confusion matrix')\n",
    "\n",
    "# print(classification_report(y_ios_test_m, y_ios_pred_m, target_names=['0','1']))\n",
    "# save_path = image_path + \"/tree_ios_conf-{0}-{1}-{2}.png\".format(version,ratio,model)\n",
    "# fig = plt.gcf()\n",
    "# fig.savefig(save_path,format='png')\n",
    "# plt.show()"
   ]
  },
  {
   "cell_type": "code",
   "execution_count": null,
   "metadata": {
    "collapsed": false
   },
   "outputs": [],
   "source": []
  },
  {
   "cell_type": "code",
   "execution_count": 72,
   "metadata": {
    "collapsed": false
   },
   "outputs": [
    {
     "name": "stderr",
     "output_type": "stream",
     "text": [
      "/Users/chaoxu/.pyenv/versions/anaconda2-4.3.1/lib/python2.7/site-packages/ipykernel/__main__.py:7: RuntimeWarning: invalid value encountered in long_scalars\n",
      "/Users/chaoxu/.pyenv/versions/anaconda2-4.3.1/lib/python2.7/site-packages/ipykernel/__main__.py:8: RuntimeWarning: divide by zero encountered in double_scalars\n"
     ]
    },
    {
     "name": "stdout",
     "output_type": "stream",
     "text": [
      "Recall metric in the testing dataset:  0.0\n",
      "Precision metric in the testting dataset: nan\n",
      "f2 metric in the testting dataset: nan\n",
      "             precision    recall  f1-score   support\n",
      "\n",
      "          0       0.95      1.00      0.97       852\n",
      "          1       0.00      0.00      0.00        48\n",
      "\n",
      "avg / total       0.90      0.95      0.92       900\n",
      "\n"
     ]
    },
    {
     "data": {
      "image/png": "[encoded data removed]",
      "text/plain": [
       "<matplotlib.figure.Figure at 0x11a956cd0>"
      ]
     },
     "metadata": {},
     "output_type": "display_data"
    }
   ],
   "source": [
    "from sklearn.metrics import confusion_matrix,precision_recall_curve,auc,roc_auc_score,roc_curve,recall_score,precision_score,classification_report\n",
    "# Compute confusion matrix\n",
    "cnf_matrix = confusion_matrix(y_ios_test,y_ios_pred)\n",
    "np.set_printoptions(precision=2)\n",
    "np.set_printoptions(precision=2)\n",
    "recall = cnf_matrix[1,1]/(cnf_matrix[1,0]+cnf_matrix[1,1])\n",
    "precision = cnf_matrix[1,1]/(cnf_matrix[0,1]+cnf_matrix[1,1])\n",
    "f2 = 0.2*(4/recall + 1/precision)\n",
    "print(\"Recall metric in the testing dataset: \", recall)\n",
    "print(\"Precision metric in the testting dataset:\", precision)\n",
    "print(\"f2 metric in the testting dataset:\", f2)\n",
    "# Plot non-normalized confusion matrix\n",
    "class_names = [0,1]\n",
    "plt.figure()\n",
    "plot_confusion_matrix(cnf_matrix\n",
    "                      , classes=class_names\n",
    "                      , title='Confusion matrix')\n",
    "\n",
    "print(classification_report(y_ios_test, y_ios_pred, target_names=['0','1']))\n",
    "save_path = image_path + \"/tree_ios_conf_event-{0}-{1}-{2}.png\".format(version,ratio,model)\n",
    "fig = plt.gcf()\n",
    "fig.savefig(save_path,format='png')\n",
    "plt.show()"
   ]
  },
  {
   "cell_type": "code",
   "execution_count": 73,
   "metadata": {
    "collapsed": false
   },
   "outputs": [
    {
     "ename": "AttributeError",
     "evalue": "'numpy.ndarray' object has no attribute 'label'",
     "output_type": "error",
     "traceback": [
      "\u001b[0;31m\u001b[0m",
      "\u001b[0;31mAttributeError\u001b[0mTraceback (most recent call last)",
      "\u001b[0;32m<ipython-input-73-e339e39aa9cb>\u001b[0m in \u001b[0;36m<module>\u001b[0;34m()\u001b[0m\n\u001b[1;32m      1\u001b[0m \u001b[0;32mfrom\u001b[0m \u001b[0mmlxtend\u001b[0m\u001b[0;34m.\u001b[0m\u001b[0mplotting\u001b[0m \u001b[0;32mimport\u001b[0m \u001b[0mplot_learning_curves\u001b[0m\u001b[0;34m\u001b[0m\u001b[0m\n\u001b[0;32m----> 2\u001b[0;31m \u001b[0my_ios_train_f\u001b[0m \u001b[0;34m=\u001b[0m \u001b[0my_ios_train\u001b[0m\u001b[0;34m.\u001b[0m\u001b[0mlabel\u001b[0m\u001b[0;34m.\u001b[0m\u001b[0mastype\u001b[0m\u001b[0;34m(\u001b[0m\u001b[0mfloat\u001b[0m\u001b[0;34m)\u001b[0m\u001b[0;34m\u001b[0m\u001b[0m\n\u001b[0m\u001b[1;32m      3\u001b[0m \u001b[0my_ios_test_f\u001b[0m \u001b[0;34m=\u001b[0m \u001b[0my_ios_test\u001b[0m\u001b[0;34m.\u001b[0m\u001b[0mlabel\u001b[0m\u001b[0;34m.\u001b[0m\u001b[0mastype\u001b[0m\u001b[0;34m(\u001b[0m\u001b[0mfloat\u001b[0m\u001b[0;34m)\u001b[0m\u001b[0;34m\u001b[0m\u001b[0m\n\u001b[1;32m      4\u001b[0m \u001b[0mfig\u001b[0m\u001b[0;34m,\u001b[0m\u001b[0max\u001b[0m\u001b[0;34m=\u001b[0m \u001b[0mplt\u001b[0m\u001b[0;34m.\u001b[0m\u001b[0msubplots\u001b[0m\u001b[0;34m(\u001b[0m\u001b[0mfigsize\u001b[0m\u001b[0;34m=\u001b[0m\u001b[0;34m(\u001b[0m\u001b[0;36m10\u001b[0m\u001b[0;34m,\u001b[0m\u001b[0;36m10\u001b[0m\u001b[0;34m)\u001b[0m\u001b[0;34m)\u001b[0m\u001b[0;34m\u001b[0m\u001b[0m\n\u001b[1;32m      5\u001b[0m \u001b[0max\u001b[0m\u001b[0;34m.\u001b[0m\u001b[0mgrid\u001b[0m\u001b[0;34m(\u001b[0m\u001b[0mb\u001b[0m\u001b[0;34m=\u001b[0m\u001b[0mFalse\u001b[0m\u001b[0;34m)\u001b[0m\u001b[0;34m\u001b[0m\u001b[0m\n",
      "\u001b[0;31mAttributeError\u001b[0m: 'numpy.ndarray' object has no attribute 'label'"
     ]
    }
   ],
   "source": [
    "from mlxtend.plotting import plot_learning_curves\n",
    "y_ios_train_f = y_ios_train.label.astype(float)\n",
    "y_ios_test_f = y_ios_test.label.astype(float)\n",
    "fig,ax= plt.subplots(figsize=(10,10))\n",
    "ax.grid(b=False)\n",
    "plot_learning_curves(X_ios_train, y_ios_train_f, X_ios_test, y_ios_test_f, clf_0, print_model=False,style='ggplot')\n",
    "\n",
    "save_path = image_path + \"/ios_learning_perf-{0}-{1}-{2}.png\".format(version,ratio,model)\n",
    "fig = plt.gcf()\n",
    "fig.savefig(save_path,format='png')\n",
    "plt.show()"
   ]
  },
  {
   "cell_type": "code",
   "execution_count": null,
   "metadata": {
    "collapsed": false
   },
   "outputs": [],
   "source": [
    "df_feature_ios = pd.DataFrame(X_ios_train.columns.values,columns=['column'])\n",
    "df_importance = pd.DataFrame(clf_0.feature_importances_,columns=['feature importances'])\n",
    "df_ios_fim = pd.concat([df_feature_ios,df_importance],axis=1)\n",
    "fig,ax= plt.subplots(figsize=(20,10))\n",
    "df_ios_fim=df_ios_fim.sort(['feature importances'],ascending=False)\n",
    "for x, y in enumerate(df_ios_fim['feature importances'].values):\n",
    "    ax.bar(x, y)\n",
    "x_labels = df_ios_fim['column'].values\n",
    "ax.set_xticks(range(len(x_labels)))\n",
    "ax.set_xticklabels(x_labels)\n",
    "tick_font(ax,font_size=\"small\",rotation=90)\n",
    "\n",
    "save_path = image_path + \"/ios_feature_importance-{0}-{1}-{2}.png\".format(version,ratio,model)\n",
    "fig = plt.gcf()\n",
    "fig.savefig(save_path,format='png')\n",
    "plt.show()"
   ]
  },
  {
   "cell_type": "code",
   "execution_count": null,
   "metadata": {
    "collapsed": false
   },
   "outputs": [],
   "source": [
    "df_android = df.loc[df.os == 'android']\n",
    "df_android = MultiColumnLabelEncoder(columns = encoder_cols).fit_transform(df_android)"
   ]
  },
  {
   "cell_type": "code",
   "execution_count": null,
   "metadata": {
    "collapsed": false
   },
   "outputs": [],
   "source": [
    "df_android.label.value_counts(normalize=True).plot(kind='bar')\n",
    "\n",
    "save_path = image_path + \"/android_label_ratio-{0}-{1}-{2}.png\".format(version,ratio,model)\n",
    "fig = plt.gcf()\n",
    "fig.savefig(save_path,format='png')\n",
    "plt.show()"
   ]
  },
  {
   "cell_type": "code",
   "execution_count": null,
   "metadata": {
    "collapsed": false
   },
   "outputs": [],
   "source": [
    "df_android[show_missing()].isnull().sum()"
   ]
  },
  {
   "cell_type": "code",
   "execution_count": null,
   "metadata": {
    "collapsed": false
   },
   "outputs": [],
   "source": [
    "android_drop = ['os','idfa_loan','idfa_counts', u'idfv_counts','imei_loan']\n",
    "df_android =df_android.drop(android_drop,axis=1)\n",
    "# df_android = df_android.sample(frac=1).reset_index(drop=True)"
   ]
  },
  {
   "cell_type": "code",
   "execution_count": null,
   "metadata": {
    "collapsed": false
   },
   "outputs": [],
   "source": [
    "df_android_train, df_android_test = splitData(df_android,0.7)\n",
    "df_android_maxent_id = df_android_test['maxent_id'].reset_index(drop=True)\n",
    "X_android_train = df_android_train.ix[:, df_android_train.columns != 'label'].drop(['maxent_id'],axis=1)\n",
    "X_android_test  = df_android_test.ix[:, df_android_test.columns != 'label'].drop(['maxent_id'],axis=1)\n",
    "y_android_train = df_android_train.ix[:, df_android_train.columns == 'label']\n",
    "y_android_test  = df_android_test.ix[:, df_android_test.columns == 'label']\n",
    "print(\"Number transactions android train dataset: \", X_android_train.shape[0])\n",
    "print(\"Number transactions android test dataset: \", X_android_test.shape[0])\n",
    "print(\"Total number of android transactions: \", X_android_train.size)"
   ]
  },
  {
   "cell_type": "code",
   "execution_count": null,
   "metadata": {
    "collapsed": false
   },
   "outputs": [],
   "source": [
    "df_android_test[df_android_test[\"label\"] == 1]['maxent_id'].drop_duplicates().count()"
   ]
  },
  {
   "cell_type": "code",
   "execution_count": null,
   "metadata": {
    "collapsed": false
   },
   "outputs": [],
   "source": [
    "df_android_test[df_android_test[\"label\"] == 0]['maxent_id'].drop_duplicates().count()"
   ]
  },
  {
   "cell_type": "code",
   "execution_count": null,
   "metadata": {
    "collapsed": false
   },
   "outputs": [],
   "source": [
    "params_android = {}\n",
    "params_android.update(tree_base_params)\n",
    "params_android"
   ]
  },
  {
   "cell_type": "code",
   "execution_count": null,
   "metadata": {
    "collapsed": false
   },
   "outputs": [],
   "source": [
    "X_android_cols = X_android_train.columns\n",
    "X_android_train_cv = X_android_train[X_android_cols]\n",
    "y_android_train_cv = y_android_train['label']\n",
    "android_params,_clf = gridCV(clf=tree.DecisionTreeClassifier,X=X_android_train_cv,y=y_android_train_cv,\n",
    "                             base_params=tree_base_params,all_test_params=all_test_params,cv_parmas=cv_params)\n",
    "\n",
    "clf_android = tree.DecisionTreeClassifier(**android_params)\n",
    "clf_1 = clf_android.fit(X_android_train, y_android_train)\n",
    "\n",
    "dot_data_android = tree.export_graphviz(clf_1, out_file=None, feature_names=X_android_train.columns,class_names=['label 0','label 1'],\\\n",
    "                               filled=True, rounded=True, special_characters=True, leaves_parallel=False)\n",
    "graph = pydotplus.graph_from_dot_data(dot_data_android)\n",
    "# graph.write_pdf(\"Odec_tree.pdf\")\n",
    "Image(graph.create_png())"
   ]
  },
  {
   "cell_type": "code",
   "execution_count": null,
   "metadata": {
    "collapsed": false
   },
   "outputs": [],
   "source": [
    "save_path = image_path + \"/android_tree-{0}-{1}-{2}.png\".format(version,ratio,model)\n",
    "print(save_path)\n",
    "graph.write_png(save_path)"
   ]
  },
  {
   "cell_type": "code",
   "execution_count": null,
   "metadata": {
    "collapsed": false
   },
   "outputs": [],
   "source": [
    "def get_android_group_label(row):\n",
    "#     if row['y_android_test'].values[0] == 1:\n",
    "    return row['y_android_pred'].max()\n",
    "#     else:\n",
    "#         return row['y_android_pred'].min()"
   ]
  },
  {
   "cell_type": "code",
   "execution_count": null,
   "metadata": {
    "collapsed": false
   },
   "outputs": [],
   "source": [
    "y_android_pred = clf_1.predict(X_android_test)"
   ]
  },
  {
   "cell_type": "code",
   "execution_count": null,
   "metadata": {
    "collapsed": false
   },
   "outputs": [],
   "source": [
    "df_y_android_pred = pd.DataFrame(y_android_pred,columns=['y_android_pred'])\n",
    "df_y_android_test = pd.DataFrame(y_android_test.values,columns=['y_android_test'])\n",
    "df_android_pred = pd.concat([df_android_maxent_id,df_y_android_pred,df_y_android_test],axis=1)\n",
    "df_android_pred_g = df_android_pred.groupby(['maxent_id','y_android_test'])\n",
    "\n",
    "df_android_pred_g_apply=df_android_pred_g.apply(lambda x:get_android_group_label(x)).reset_index(name='y_android_pred_max')\n",
    "\n",
    "y_android_test_m = df_android_pred_g_apply['y_android_test']\n",
    "y_android_pred_m = df_android_pred_g_apply['y_android_pred_max']\n",
    "print(X_android_test.shape)\n",
    "print(y_android_test_m.shape)\n",
    "# Compute confusion matrix\n",
    "cnf_matrix = confusion_matrix(y_android_test_m,y_android_pred_m)\n",
    "np.set_printoptions(precision=2)\n",
    "np.set_printoptions(precision=2)\n",
    "recall = cnf_matrix[1,1]/(cnf_matrix[1,0]+cnf_matrix[1,1])\n",
    "precision = cnf_matrix[1,1]/(cnf_matrix[0,1]+cnf_matrix[1,1])\n",
    "f2 = 0.2*(4/recall + 1/precision)\n",
    "print(\"Recall metric in the testing dataset: \", recall)\n",
    "print(\"Precision metric in the testting dataset:\", precision)\n",
    "print(\"f2 metric in the testting dataset:\", f2)\n",
    "# Plot non-normalized confusion matrix\n",
    "class_names = [0,1]\n",
    "plt.figure()\n",
    "plot_confusion_matrix(cnf_matrix\n",
    "                      , classes=class_names\n",
    "                      , title='Confusion matrix')\n",
    "\n",
    "print(classification_report(y_android_test_m, y_android_pred_m, target_names=['0','1']))\n",
    "save_path = image_path + \"/tree_android_conf-{0}-{1}-{2}.png\".format(version,ratio,model)\n",
    "fig = plt.gcf()\n",
    "fig.savefig(save_path,format='png')\n",
    "plt.show()"
   ]
  },
  {
   "cell_type": "code",
   "execution_count": null,
   "metadata": {
    "collapsed": false
   },
   "outputs": [],
   "source": [
    "\n",
    "# Compute confusion matrix\n",
    "cnf_matrix = confusion_matrix(y_android_test,y_android_pred)\n",
    "np.set_printoptions(precision=2)\n",
    "np.set_printoptions(precision=2)\n",
    "recall = cnf_matrix[1,1]/(cnf_matrix[1,0]+cnf_matrix[1,1])\n",
    "precision = cnf_matrix[1,1]/(cnf_matrix[0,1]+cnf_matrix[1,1])\n",
    "f2 = 0.2*(4/recall + 1/precision)\n",
    "print(\"Recall metric in the testing dataset: \", recall)\n",
    "print(\"Precision metric in the testting dataset:\", precision)\n",
    "print(\"f2 metric in the testting dataset:\", f2)\n",
    "# Plot non-normalized confusion matrix\n",
    "class_names = [0,1]\n",
    "plt.figure()\n",
    "plot_confusion_matrix(cnf_matrix\n",
    "                      , classes=class_names\n",
    "                      , title='Confusion matrix')\n",
    "\n",
    "print(classification_report(y_android_test, y_android_pred, target_names=['0','1']))\n",
    "save_path = image_path + \"/tree_android_event_conf-{0}-{1}-{2}.png\".format(version,ratio,model)\n",
    "fig = plt.gcf()\n",
    "fig.savefig(save_path,format='png')\n",
    "plt.show()"
   ]
  },
  {
   "cell_type": "code",
   "execution_count": null,
   "metadata": {
    "collapsed": false
   },
   "outputs": [],
   "source": [
    "from mlxtend.plotting import plot_learning_curves\n",
    "y_android_train_f = y_android_train.label.astype(float)\n",
    "y_android_test_f = y_android_test.label.astype(float)\n",
    "fig,ax= plt.subplots(figsize=(10,10))\n",
    "ax.grid(b=False)\n",
    "plot_learning_curves(X_android_train, y_android_train_f, X_android_test, y_android_test_f, clf_1, print_model=False,style='ggplot')\n",
    "\n",
    "save_path = image_path + \"/android_learning_perf-{0}-{1}-{2}.png\".format(version,ratio,model)\n",
    "fig = plt.gcf()\n",
    "fig.savefig(save_path,format='png')\n",
    "plt.show()"
   ]
  },
  {
   "cell_type": "code",
   "execution_count": null,
   "metadata": {
    "collapsed": false,
    "scrolled": true
   },
   "outputs": [],
   "source": [
    "df_feature_android = pd.DataFrame(X_android_train.columns.values,columns=['column'])\n",
    "df_android_importance = pd.DataFrame(clf_1.feature_importances_,columns=['feature importances'])\n",
    "df_android_fim = pd.concat([df_feature_android,df_android_importance],axis=1)\n",
    "fig,ax= plt.subplots(figsize=(20,10))\n",
    "df_android_fim=df_android_fim.sort(['feature importances'],ascending=False)\n",
    "for x, y in enumerate(df_android_fim['feature importances'].values):\n",
    "    ax.bar(x, y)\n",
    "x_labels = df_android_fim['column'].values\n",
    "ax.set_xticks(range(len(x_labels)))\n",
    "ax.set_xticklabels(x_labels)\n",
    "tick_font(ax,font_size=\"small\",rotation=90)\n",
    "save_path = image_path + \"/android_feature_importance-{0}-{1}-{2}.png\".format(version,ratio,model)\n",
    "fig = plt.gcf()\n",
    "fig.savefig(save_path,format='png')\n",
    "plt.show()"
   ]
  },
  {
   "cell_type": "code",
   "execution_count": null,
   "metadata": {
    "collapsed": false
   },
   "outputs": [],
   "source": []
  },
  {
   "cell_type": "code",
   "execution_count": null,
   "metadata": {
    "collapsed": false
   },
   "outputs": [],
   "source": []
  },
  {
   "cell_type": "code",
   "execution_count": null,
   "metadata": {
    "collapsed": false
   },
   "outputs": [],
   "source": []
  },
  {
   "cell_type": "code",
   "execution_count": null,
   "metadata": {
    "collapsed": false
   },
   "outputs": [],
   "source": []
  },
  {
   "cell_type": "code",
   "execution_count": null,
   "metadata": {
    "collapsed": false
   },
   "outputs": [],
   "source": []
  },
  {
   "cell_type": "code",
   "execution_count": null,
   "metadata": {
    "collapsed": false
   },
   "outputs": [],
   "source": []
  }
 ],
 "metadata": {
  "kernelspec": {
   "display_name": "Python 2",
   "language": "python",
   "name": "python2"
  },
  "language_info": {
   "codemirror_mode": {
    "name": "ipython",
    "version": 2
   },
   "file_extension": ".py",
   "mimetype": "text/x-python",
   "name": "python",
   "nbconvert_exporter": "python",
   "pygments_lexer": "ipython2",
   "version": "2.7.13"
  },
  "latex_envs": {
   "LaTeX_envs_menu_present": true,
   "autocomplete": true,
   "bibliofile": "biblio.bib",
   "cite_by": "apalike",
   "current_citInitial": 1,
   "eqLabelWithNumbers": true,
   "eqNumInitial": 1,
   "hotkeys": {
    "equation": "Ctrl-E",
    "itemize": "Ctrl-I"
   },
   "labels_anchors": false,
   "latex_user_defs": false,
   "report_style_numbering": false,
   "user_envs_cfg": false
  },
  "toc": {
   "nav_menu": {},
   "number_sections": true,
   "sideBar": true,
   "skip_h1_title": false,
   "toc_cell": false,
   "toc_position": {},
   "toc_section_display": "block",
   "toc_window_display": false
  },
  "varInspector": {
   "cols": {
    "lenName": 16,
    "lenType": 16,
    "lenVar": 40
   },
   "kernels_config": {
    "python": {
     "delete_cmd_postfix": "",
     "delete_cmd_prefix": "del ",
     "library": "var_list.py",
     "varRefreshCmd": "print(var_dic_list())"
    },
    "r": {
     "delete_cmd_postfix": ") ",
     "delete_cmd_prefix": "rm(",
     "library": "var_list.r",
     "varRefreshCmd": "cat(var_dic_list()) "
    }
   },
   "types_to_exclude": [
    "module",
    "function",
    "builtin_function_or_method",
    "instance",
    "_Feature"
   ],
   "window_display": false
  }
 },
 "nbformat": 4,
 "nbformat_minor": 0
}
