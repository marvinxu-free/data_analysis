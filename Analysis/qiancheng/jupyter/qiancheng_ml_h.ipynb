{
 "cells": [
  {
   "cell_type": "markdown",
   "metadata": {
    "collapsed": true
   },
   "source": [
    "# 浅橙模型"
   ]
  },
  {
   "cell_type": "code",
   "execution_count": 1,
   "metadata": {
    "collapsed": true
   },
   "outputs": [],
   "source": [
    "# load modules\n",
    "import pandas as pd\n",
    "import numpy as np"
   ]
  },
  {
   "cell_type": "code",
   "execution_count": 2,
   "metadata": {
    "collapsed": true
   },
   "outputs": [],
   "source": [
    "# features\n",
    "cols = [u'mcid_counts', u'imei_counts', u'mac_counts',\n",
    "        u'aid_counts', u'idfa_counts', u'idfv_counts',\n",
    "        u'cracked.value', u'did.15m.anomaly', u'did.15m.value',\n",
    "        u'did.1d.anomaly', u'did.1d.value', u'did.1h.anomaly', u'did.1h.value',\n",
    "        u'did.1m.anomaly', u'did.1m.value', u'did.5m.anomaly', u'did.5m.value',\n",
    "        u'did.6h.anomaly', u'did.6h.value', u'did.7d.anomaly', u'did.7d.value',\n",
    "        u'idcIP.anomaly', u'idcIP.value',\n",
    "        u'ipGeo.15m.anomaly', u'ipGeo.15m.value', u'ipGeo.1d.anomaly',\n",
    "        u'ipGeo.1d.value', u'ipGeo.1h.anomaly', u'ipGeo.1h.value',\n",
    "        u'ipGeo.1m.anomaly', u'ipGeo.1m.value', u'ipGeo.5m.anomaly',\n",
    "        u'ipGeo.5m.value', u'ipGeo.6h.anomaly', u'ipGeo.6h.value',\n",
    "        u'ipGeo.7d.anomaly', u'ipGeo.7d.value',\n",
    "        u'ipSeg24.15m.anomaly', u'ipSeg24.15m.value', u'ipSeg24.1d.anomaly',\n",
    "        u'ipSeg24.1d.value', u'ipSeg24.1h.anomaly', u'ipSeg24.1h.value',\n",
    "        u'ipSeg24.1m.anomaly', u'ipSeg24.1m.value', u'ipSeg24.5m.anomaly',\n",
    "        u'ipSeg24.5m.value', u'ipSeg24.6h.anomaly', u'ipSeg24.6h.value',\n",
    "        u'ipSeg24.7d.anomaly', u'ipSeg24.7d.value', u'maxentID.15m.anomaly',\n",
    "        u'maxentID.15m.value', u'maxentID.1d.anomaly', u'maxentID.1d.value',\n",
    "        u'maxentID.1h.anomaly', u'maxentID.1h.value', u'maxentID.1m.anomaly',\n",
    "        u'maxentID.1m.value', u'maxentID.5m.anomaly', u'maxentID.5m.value',\n",
    "        u'maxentID.6h.anomaly', u'maxentID.6h.value', u'maxentID.7d.anomaly',\n",
    "        u'maxentID.7d.value', u'proxyIP.anomaly',\n",
    "        u'proxyIP.value',\n",
    "        u'uaMismatch.value']"
   ]
  },
  {
   "cell_type": "code",
   "execution_count": 3,
   "metadata": {
    "collapsed": false
   },
   "outputs": [
    {
     "name": "stdout",
     "output_type": "stream",
     "text": [
      "label ~ mcid_counts+imei_counts+mac_counts+aid_counts+idfa_counts+idfv_counts+cracked_value+did_15m_anomaly+did_15m_value+did_1d_anomaly+did_1d_value+did_1h_anomaly+did_1h_value+did_1m_anomaly+did_1m_value+did_5m_anomaly+did_5m_value+did_6h_anomaly+did_6h_value+did_7d_anomaly+did_7d_value+idcIP_anomaly+idcIP_value+ipGeo_15m_anomaly+ipGeo_15m_value+ipGeo_1d_anomaly+ipGeo_1d_value+ipGeo_1h_anomaly+ipGeo_1h_value+ipGeo_1m_anomaly+ipGeo_1m_value+ipGeo_5m_anomaly+ipGeo_5m_value+ipGeo_6h_anomaly+ipGeo_6h_value+ipGeo_7d_anomaly+ipGeo_7d_value+ipSeg24_15m_anomaly+ipSeg24_15m_value+ipSeg24_1d_anomaly+ipSeg24_1d_value+ipSeg24_1h_anomaly+ipSeg24_1h_value+ipSeg24_1m_anomaly+ipSeg24_1m_value+ipSeg24_5m_anomaly+ipSeg24_5m_value+ipSeg24_6h_anomaly+ipSeg24_6h_value+ipSeg24_7d_anomaly+ipSeg24_7d_value+maxentID_15m_anomaly+maxentID_15m_value+maxentID_1d_anomaly+maxentID_1d_value+maxentID_1h_anomaly+maxentID_1h_value+maxentID_1m_anomaly+maxentID_1m_value+maxentID_5m_anomaly+maxentID_5m_value+maxentID_6h_anomaly+maxentID_6h_value+maxentID_7d_anomaly+maxentID_7d_value+proxyIP_anomaly+proxyIP_value+uaMismatch_value\n"
     ]
    }
   ],
   "source": [
    "formula= \"label ~ \" + \"+\".join(cols).replace(\".\", \"_\")\n",
    "print formula"
   ]
  },
  {
   "cell_type": "code",
   "execution_count": 4,
   "metadata": {
    "collapsed": false
   },
   "outputs": [],
   "source": [
    "# load data\n",
    "data = pd.read_csv(\"qiancheng_all_sample_with_did_counts.csv\")\n",
    "data[\"cracked.value\"] = map(lambda x: 1 if x else 0, data[\"cracked.value\"])\n",
    "data[\"proxyIP.value\"] = map(lambda x: 1 if x else 0, data[\"proxyIP.value\"])\n",
    "data[\"idcIP.value\"] = map(lambda x: 1 if x else 0, data[\"idcIP.value\"])\n",
    "data[\"uaMismatch.value\"] = map(lambda x: 1 if x else 0, data[\"uaMismatch.value\"])\n",
    "data.fillna(0, inplace=True)"
   ]
  },
  {
   "cell_type": "code",
   "execution_count": 5,
   "metadata": {
    "collapsed": true
   },
   "outputs": [],
   "source": [
    "# split data into ios, android\n",
    "ios = data[data[\"os\"] == 'ios']\n",
    "ios.reset_index(inplace=True)\n",
    "android = data[data[\"os\"] == 'android']\n",
    "android.reset_index(inplace=True)"
   ]
  },
  {
   "cell_type": "code",
   "execution_count": 6,
   "metadata": {
    "collapsed": false
   },
   "outputs": [],
   "source": [
    "# get X, y from data\n",
    "y = ios[\"label\"]\n",
    "X = ios[cols]\n",
    "# split data in to train and test\n",
    "from sklearn.model_selection import train_test_split\n",
    "X_train, X_test, y_train, y_test = train_test_split(X, y, test_size=0.33, random_state=42)"
   ]
  },
  {
   "cell_type": "markdown",
   "metadata": {},
   "source": [
    "# Run RandomForest"
   ]
  },
  {
   "cell_type": "code",
   "execution_count": 7,
   "metadata": {
    "collapsed": false
   },
   "outputs": [
    {
     "name": "stdout",
     "output_type": "stream",
     "text": [
      "The presion is 98.30 %\n"
     ]
    }
   ],
   "source": [
    "from sklearn.metrics import confusion_matrix\n",
    "from sklearn.ensemble import RandomForestClassifier\n",
    "clf = RandomForestClassifier(max_depth=2, random_state=0)\n",
    "clf.fit(X_train, y_train)\n",
    "A = confusion_matrix(y_test, clf.predict(X_test))\n",
    "print \"The presion is %.2f %%\" % (A[1, 1] * 1.0 / (np.sum(A[1, :])) * 100)"
   ]
  },
  {
   "cell_type": "markdown",
   "metadata": {},
   "source": [
    "# Feature importance"
   ]
  },
  {
   "cell_type": "code",
   "execution_count": 8,
   "metadata": {
    "collapsed": false
   },
   "outputs": [
    {
     "data": {
      "text/html": [
       "<div>\n",
       "<table border=\"1\" class=\"dataframe\">\n",
       "  <thead>\n",
       "    <tr style=\"text-align: right;\">\n",
       "      <th></th>\n",
       "      <th>features</th>\n",
       "      <th>value</th>\n",
       "    </tr>\n",
       "  </thead>\n",
       "  <tbody>\n",
       "    <tr>\n",
       "      <th>26</th>\n",
       "      <td>ipGeo.1d.value</td>\n",
       "      <td>0.371689</td>\n",
       "    </tr>\n",
       "    <tr>\n",
       "      <th>28</th>\n",
       "      <td>ipGeo.1h.value</td>\n",
       "      <td>0.252711</td>\n",
       "    </tr>\n",
       "    <tr>\n",
       "      <th>36</th>\n",
       "      <td>ipGeo.7d.value</td>\n",
       "      <td>0.096218</td>\n",
       "    </tr>\n",
       "    <tr>\n",
       "      <th>34</th>\n",
       "      <td>ipGeo.6h.value</td>\n",
       "      <td>0.086516</td>\n",
       "    </tr>\n",
       "    <tr>\n",
       "      <th>50</th>\n",
       "      <td>ipSeg24.7d.value</td>\n",
       "      <td>0.057138</td>\n",
       "    </tr>\n",
       "    <tr>\n",
       "      <th>25</th>\n",
       "      <td>ipGeo.1d.anomaly</td>\n",
       "      <td>0.048337</td>\n",
       "    </tr>\n",
       "    <tr>\n",
       "      <th>33</th>\n",
       "      <td>ipGeo.6h.anomaly</td>\n",
       "      <td>0.042953</td>\n",
       "    </tr>\n",
       "    <tr>\n",
       "      <th>48</th>\n",
       "      <td>ipSeg24.6h.value</td>\n",
       "      <td>0.025096</td>\n",
       "    </tr>\n",
       "    <tr>\n",
       "      <th>40</th>\n",
       "      <td>ipSeg24.1d.value</td>\n",
       "      <td>0.005482</td>\n",
       "    </tr>\n",
       "    <tr>\n",
       "      <th>23</th>\n",
       "      <td>ipGeo.15m.anomaly</td>\n",
       "      <td>0.005187</td>\n",
       "    </tr>\n",
       "    <tr>\n",
       "      <th>29</th>\n",
       "      <td>ipGeo.1m.anomaly</td>\n",
       "      <td>0.004622</td>\n",
       "    </tr>\n",
       "    <tr>\n",
       "      <th>18</th>\n",
       "      <td>did.6h.value</td>\n",
       "      <td>0.002383</td>\n",
       "    </tr>\n",
       "    <tr>\n",
       "      <th>56</th>\n",
       "      <td>maxentID.1h.value</td>\n",
       "      <td>0.000822</td>\n",
       "    </tr>\n",
       "    <tr>\n",
       "      <th>10</th>\n",
       "      <td>did.1d.value</td>\n",
       "      <td>0.000779</td>\n",
       "    </tr>\n",
       "    <tr>\n",
       "      <th>5</th>\n",
       "      <td>idfv_counts</td>\n",
       "      <td>0.000068</td>\n",
       "    </tr>\n",
       "  </tbody>\n",
       "</table>\n",
       "</div>"
      ],
      "text/plain": [
       "             features     value\n",
       "26     ipGeo.1d.value  0.371689\n",
       "28     ipGeo.1h.value  0.252711\n",
       "36     ipGeo.7d.value  0.096218\n",
       "34     ipGeo.6h.value  0.086516\n",
       "50   ipSeg24.7d.value  0.057138\n",
       "25   ipGeo.1d.anomaly  0.048337\n",
       "33   ipGeo.6h.anomaly  0.042953\n",
       "48   ipSeg24.6h.value  0.025096\n",
       "40   ipSeg24.1d.value  0.005482\n",
       "23  ipGeo.15m.anomaly  0.005187\n",
       "29   ipGeo.1m.anomaly  0.004622\n",
       "18       did.6h.value  0.002383\n",
       "56  maxentID.1h.value  0.000822\n",
       "10       did.1d.value  0.000779\n",
       "5         idfv_counts  0.000068"
      ]
     },
     "execution_count": 8,
     "metadata": {},
     "output_type": "execute_result"
    }
   ],
   "source": [
    "feature_importances = pd.DataFrame(zip(X_train.columns, clf.feature_importances_))\n",
    "feature_importances.columns = [\"features\", \"value\"]\n",
    "feature_importances_position = feature_importances[feature_importances.value>0]\n",
    "feature_importances_position.sort_values(\"value\", ascending=False)"
   ]
  },
  {
   "cell_type": "code",
   "execution_count": 9,
   "metadata": {
    "collapsed": false
   },
   "outputs": [
    {
     "data": {
      "text/html": [
       "<div>\n",
       "<table border=\"1\" class=\"dataframe\">\n",
       "  <thead>\n",
       "    <tr style=\"text-align: right;\">\n",
       "      <th></th>\n",
       "      <th>mcid_counts</th>\n",
       "      <th>imei_counts</th>\n",
       "      <th>mac_counts</th>\n",
       "      <th>aid_counts</th>\n",
       "      <th>idfa_counts</th>\n",
       "      <th>idfv_counts</th>\n",
       "      <th>cracked.value</th>\n",
       "      <th>did.15m.anomaly</th>\n",
       "      <th>did.15m.value</th>\n",
       "      <th>did.1d.anomaly</th>\n",
       "      <th>...</th>\n",
       "      <th>maxentID.1m.value</th>\n",
       "      <th>maxentID.5m.anomaly</th>\n",
       "      <th>maxentID.5m.value</th>\n",
       "      <th>maxentID.6h.anomaly</th>\n",
       "      <th>maxentID.6h.value</th>\n",
       "      <th>maxentID.7d.anomaly</th>\n",
       "      <th>maxentID.7d.value</th>\n",
       "      <th>proxyIP.anomaly</th>\n",
       "      <th>proxyIP.value</th>\n",
       "      <th>uaMismatch.value</th>\n",
       "    </tr>\n",
       "  </thead>\n",
       "  <tbody>\n",
       "    <tr>\n",
       "      <th>0</th>\n",
       "      <td>2</td>\n",
       "      <td>0</td>\n",
       "      <td>0</td>\n",
       "      <td>0</td>\n",
       "      <td>2</td>\n",
       "      <td>2</td>\n",
       "      <td>0</td>\n",
       "      <td>1.0</td>\n",
       "      <td>1.0</td>\n",
       "      <td>1.0</td>\n",
       "      <td>...</td>\n",
       "      <td>1.0</td>\n",
       "      <td>1.0</td>\n",
       "      <td>1.0</td>\n",
       "      <td>1.0</td>\n",
       "      <td>1.0</td>\n",
       "      <td>2.0</td>\n",
       "      <td>3.0</td>\n",
       "      <td>1.0</td>\n",
       "      <td>1</td>\n",
       "      <td>0</td>\n",
       "    </tr>\n",
       "    <tr>\n",
       "      <th>1</th>\n",
       "      <td>1</td>\n",
       "      <td>0</td>\n",
       "      <td>0</td>\n",
       "      <td>0</td>\n",
       "      <td>1</td>\n",
       "      <td>1</td>\n",
       "      <td>0</td>\n",
       "      <td>1.0</td>\n",
       "      <td>1.0</td>\n",
       "      <td>1.0</td>\n",
       "      <td>...</td>\n",
       "      <td>1.0</td>\n",
       "      <td>1.0</td>\n",
       "      <td>1.0</td>\n",
       "      <td>1.0</td>\n",
       "      <td>1.0</td>\n",
       "      <td>1.0</td>\n",
       "      <td>2.0</td>\n",
       "      <td>1.0</td>\n",
       "      <td>1</td>\n",
       "      <td>0</td>\n",
       "    </tr>\n",
       "    <tr>\n",
       "      <th>2</th>\n",
       "      <td>1</td>\n",
       "      <td>0</td>\n",
       "      <td>0</td>\n",
       "      <td>0</td>\n",
       "      <td>1</td>\n",
       "      <td>1</td>\n",
       "      <td>0</td>\n",
       "      <td>1.0</td>\n",
       "      <td>1.0</td>\n",
       "      <td>1.0</td>\n",
       "      <td>...</td>\n",
       "      <td>1.0</td>\n",
       "      <td>1.0</td>\n",
       "      <td>1.0</td>\n",
       "      <td>2.0</td>\n",
       "      <td>2.0</td>\n",
       "      <td>1.0</td>\n",
       "      <td>2.0</td>\n",
       "      <td>1.0</td>\n",
       "      <td>1</td>\n",
       "      <td>0</td>\n",
       "    </tr>\n",
       "    <tr>\n",
       "      <th>3</th>\n",
       "      <td>2</td>\n",
       "      <td>0</td>\n",
       "      <td>0</td>\n",
       "      <td>0</td>\n",
       "      <td>2</td>\n",
       "      <td>6</td>\n",
       "      <td>0</td>\n",
       "      <td>1.0</td>\n",
       "      <td>1.0</td>\n",
       "      <td>1.0</td>\n",
       "      <td>...</td>\n",
       "      <td>1.0</td>\n",
       "      <td>1.0</td>\n",
       "      <td>1.0</td>\n",
       "      <td>2.0</td>\n",
       "      <td>2.0</td>\n",
       "      <td>3.0</td>\n",
       "      <td>4.0</td>\n",
       "      <td>1.0</td>\n",
       "      <td>1</td>\n",
       "      <td>0</td>\n",
       "    </tr>\n",
       "    <tr>\n",
       "      <th>4</th>\n",
       "      <td>1</td>\n",
       "      <td>0</td>\n",
       "      <td>0</td>\n",
       "      <td>0</td>\n",
       "      <td>1</td>\n",
       "      <td>1</td>\n",
       "      <td>0</td>\n",
       "      <td>1.0</td>\n",
       "      <td>1.0</td>\n",
       "      <td>1.0</td>\n",
       "      <td>...</td>\n",
       "      <td>1.0</td>\n",
       "      <td>1.0</td>\n",
       "      <td>1.0</td>\n",
       "      <td>1.0</td>\n",
       "      <td>1.0</td>\n",
       "      <td>1.0</td>\n",
       "      <td>1.0</td>\n",
       "      <td>1.0</td>\n",
       "      <td>1</td>\n",
       "      <td>0</td>\n",
       "    </tr>\n",
       "  </tbody>\n",
       "</table>\n",
       "<p>5 rows × 68 columns</p>\n",
       "</div>"
      ],
      "text/plain": [
       "   mcid_counts  imei_counts  mac_counts  aid_counts  idfa_counts  idfv_counts  \\\n",
       "0            2            0           0           0            2            2   \n",
       "1            1            0           0           0            1            1   \n",
       "2            1            0           0           0            1            1   \n",
       "3            2            0           0           0            2            6   \n",
       "4            1            0           0           0            1            1   \n",
       "\n",
       "   cracked.value  did.15m.anomaly  did.15m.value  did.1d.anomaly  \\\n",
       "0              0              1.0            1.0             1.0   \n",
       "1              0              1.0            1.0             1.0   \n",
       "2              0              1.0            1.0             1.0   \n",
       "3              0              1.0            1.0             1.0   \n",
       "4              0              1.0            1.0             1.0   \n",
       "\n",
       "         ...         maxentID.1m.value  maxentID.5m.anomaly  \\\n",
       "0        ...                       1.0                  1.0   \n",
       "1        ...                       1.0                  1.0   \n",
       "2        ...                       1.0                  1.0   \n",
       "3        ...                       1.0                  1.0   \n",
       "4        ...                       1.0                  1.0   \n",
       "\n",
       "   maxentID.5m.value  maxentID.6h.anomaly  maxentID.6h.value  \\\n",
       "0                1.0                  1.0                1.0   \n",
       "1                1.0                  1.0                1.0   \n",
       "2                1.0                  2.0                2.0   \n",
       "3                1.0                  2.0                2.0   \n",
       "4                1.0                  1.0                1.0   \n",
       "\n",
       "   maxentID.7d.anomaly  maxentID.7d.value  proxyIP.anomaly  proxyIP.value  \\\n",
       "0                  2.0                3.0              1.0              1   \n",
       "1                  1.0                2.0              1.0              1   \n",
       "2                  1.0                2.0              1.0              1   \n",
       "3                  3.0                4.0              1.0              1   \n",
       "4                  1.0                1.0              1.0              1   \n",
       "\n",
       "   uaMismatch.value  \n",
       "0                 0  \n",
       "1                 0  \n",
       "2                 0  \n",
       "3                 0  \n",
       "4                 0  \n",
       "\n",
       "[5 rows x 68 columns]"
      ]
     },
     "execution_count": 9,
     "metadata": {},
     "output_type": "execute_result"
    }
   ],
   "source": [
    "X.head()"
   ]
  },
  {
   "cell_type": "markdown",
   "metadata": {},
   "source": [
    "# cross validation"
   ]
  },
  {
   "cell_type": "code",
   "execution_count": 10,
   "metadata": {
    "collapsed": false
   },
   "outputs": [
    {
     "name": "stdout",
     "output_type": "stream",
     "text": [
      "The precision is 94.31 %\n",
      "The precision is 100.00 %\n",
      "The precision is 99.05 %\n",
      "The precision is 100.00 %\n",
      "The precision is 100.00 %\n",
      "The precision is 99.00 %\n",
      "The precision is 100.00 %\n",
      "The precision is 98.85 %\n",
      "The precision is 98.32 %\n",
      "The precision is 98.17 %\n",
      "The precision is 95.35 %\n",
      "The precision is 100.00 %\n",
      "The precision is 97.41 %\n",
      "The precision is 97.40 %\n",
      "The precision is 97.09 %\n",
      "The precision is 100.00 %\n",
      "The precision is 99.31 %\n",
      "The precision is 98.02 %\n",
      "The precision is 99.05 %\n",
      "The precision is 91.84 %\n"
     ]
    }
   ],
   "source": [
    "import numpy as np\n",
    "from sklearn.model_selection import KFold\n",
    "kf = KFold(n_splits=20)\n",
    "# android.reset_index(inplace=True)\n",
    "for train, test in kf.split(X):\n",
    "    _y_train = y[train]\n",
    "    _X_train = X.ix[train][cols]\n",
    "    _y_test = y[test]\n",
    "    _X_test = X.ix[test][cols]\n",
    "    clf.fit(_X_train, _y_train)\n",
    "    A = confusion_matrix(_y_test, clf.predict(_X_test))\n",
    "    # print A\n",
    "    print \"The precision is %.2f %%\" % (A[1, 1] * 1.0 / (np.sum(A[1, :])) * 100)"
   ]
  },
  {
   "cell_type": "markdown",
   "metadata": {},
   "source": [
    "# Try Decision Tree"
   ]
  },
  {
   "cell_type": "code",
   "execution_count": 11,
   "metadata": {
    "collapsed": false
   },
   "outputs": [
    {
     "name": "stdout",
     "output_type": "stream",
     "text": [
      "The precision is 95.51 %\n"
     ]
    }
   ],
   "source": [
    "from sklearn import tree\n",
    "clf = tree.DecisionTreeClassifier(max_depth=3, max_features=10, max_leaf_nodes=8)\n",
    "clf.fit(X_train, y_train)\n",
    "print \"The precision is %.2f %%\" % (clf.score(X_test, y_test) * 100)"
   ]
  },
  {
   "cell_type": "markdown",
   "metadata": {},
   "source": [
    "# Decision Tree Cross Validation"
   ]
  },
  {
   "cell_type": "code",
   "execution_count": 12,
   "metadata": {
    "collapsed": false
   },
   "outputs": [
    {
     "name": "stdout",
     "output_type": "stream",
     "text": [
      "The precision is 86.99 %\n",
      "The precision is 98.84 %\n",
      "The precision is 98.10 %\n",
      "The precision is 95.65 %\n",
      "The precision is 86.57 %\n",
      "The precision is 100.00 %\n",
      "The precision is 100.00 %\n",
      "The precision is 95.40 %\n",
      "The precision is 84.87 %\n",
      "The precision is 96.33 %\n",
      "The precision is 94.19 %\n",
      "The precision is 98.31 %\n",
      "The precision is 93.97 %\n",
      "The precision is 93.51 %\n",
      "The precision is 96.12 %\n",
      "The precision is 97.03 %\n",
      "The precision is 97.93 %\n",
      "The precision is 98.02 %\n",
      "The precision is 94.29 %\n",
      "The precision is 93.88 %\n"
     ]
    }
   ],
   "source": [
    "import numpy as np\n",
    "from sklearn.model_selection import KFold\n",
    "kf = KFold(n_splits=20)\n",
    "# android.reset_index(inplace=True)\n",
    "for train, test in kf.split(X):\n",
    "    _y_train = y[train]\n",
    "    _X_train = X.ix[train][cols]\n",
    "    _y_test = y[test]\n",
    "    _X_test = X.ix[test][cols]\n",
    "    clf.fit(_X_train, _y_train)\n",
    "    A = confusion_matrix(_y_test, clf.predict(_X_test))\n",
    "    # print A\n",
    "    print \"The precision is %.2f %%\" % (A[1, 1] * 1.0 / (np.sum(A[1, :])) * 100)"
   ]
  },
  {
   "cell_type": "code",
   "execution_count": null,
   "metadata": {
    "collapsed": true
   },
   "outputs": [],
   "source": []
  }
 ],
 "metadata": {
  "kernelspec": {
   "display_name": "Python 2",
   "language": "python",
   "name": "python2"
  },
  "language_info": {
   "codemirror_mode": {
    "name": "ipython",
    "version": 2
   },
   "file_extension": ".py",
   "mimetype": "text/x-python",
   "name": "python",
   "nbconvert_exporter": "python",
   "pygments_lexer": "ipython2",
   "version": "2.7.11"
  }
 },
 "nbformat": 4,
 "nbformat_minor": 0
}
