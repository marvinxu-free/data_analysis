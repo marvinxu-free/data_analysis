{
 "cells": [
  {
   "cell_type": "code",
   "execution_count": 1,
   "metadata": {
    "ExecuteTime": {
     "end_time": "2018-03-14T14:21:22.176830Z",
     "start_time": "2018-03-14T14:21:21.058037Z"
    },
    "collapsed": false
   },
   "outputs": [],
   "source": [
    "from __future__ import print_function, division\n",
    "import sys\n",
    "reload(sys)\n",
    "sys.setdefaultencoding('utf8')\n",
    "from Utils.common.custerReadFile import read_multi_csv\n",
    "import numpy as np\n",
    "import re\n",
    "from numpy import logical_or, logical_and\n",
    "import pandas as pd\n",
    "import xlsxwriter\n",
    "from Params.path_params import Document_path\n",
    "%matplotlib inline"
   ]
  },
  {
   "cell_type": "code",
   "execution_count": 2,
   "metadata": {
    "ExecuteTime": {
     "end_time": "2018-03-14T14:21:22.183519Z",
     "start_time": "2018-03-14T14:21:22.178741Z"
    },
    "collapsed": false
   },
   "outputs": [],
   "source": [
    "xls_file = u\"{0}/smy_dev_loan_corr/ios_data_smy.xlsx\".format(Document_path)"
   ]
  },
  {
   "cell_type": "code",
   "execution_count": 3,
   "metadata": {
    "ExecuteTime": {
     "end_time": "2018-03-14T14:21:22.193897Z",
     "start_time": "2018-03-14T14:21:22.186297Z"
    },
    "collapsed": false
   },
   "outputs": [
    {
     "data": {
      "text/plain": [
       "u'/Users/chaoxu/code/local-spark/Document/smy_dev_loan_corr/ios_data_smy.xlsx'"
      ]
     },
     "execution_count": 3,
     "metadata": {},
     "output_type": "execute_result"
    }
   ],
   "source": [
    "xls_file"
   ]
  },
  {
   "cell_type": "code",
   "execution_count": 4,
   "metadata": {
    "ExecuteTime": {
     "end_time": "2018-03-14T14:21:25.230239Z",
     "start_time": "2018-03-14T14:21:22.196966Z"
    },
    "collapsed": false
   },
   "outputs": [],
   "source": [
    "df1 = pd.read_excel(io=xls_file, sheet_name=0)"
   ]
  },
  {
   "cell_type": "code",
   "execution_count": 15,
   "metadata": {
    "ExecuteTime": {
     "end_time": "2018-03-14T14:33:07.947756Z",
     "start_time": "2018-03-14T14:33:07.907168Z"
    },
    "collapsed": false
   },
   "outputs": [
    {
     "data": {
      "text/html": [
       "<div>\n",
       "<style scoped>\n",
       "    .dataframe tbody tr th:only-of-type {\n",
       "        vertical-align: middle;\n",
       "    }\n",
       "\n",
       "    .dataframe tbody tr th {\n",
       "        vertical-align: top;\n",
       "    }\n",
       "\n",
       "    .dataframe thead th {\n",
       "        text-align: right;\n",
       "    }\n",
       "</style>\n",
       "<table border=\"1\" class=\"dataframe\">\n",
       "  <thead>\n",
       "    <tr style=\"text-align: right;\">\n",
       "      <th></th>\n",
       "      <th>设备1 tick</th>\n",
       "      <th>设备1 idfa</th>\n",
       "      <th>设备1 idfv</th>\n",
       "      <th>设备1申请状态</th>\n",
       "      <th>设备1贷后表现</th>\n",
       "      <th>设备2 tick</th>\n",
       "      <th>设备2 idfa</th>\n",
       "      <th>设备2 idfv</th>\n",
       "      <th>设备2申请状态</th>\n",
       "      <th>设备2贷后表现</th>\n",
       "      <th>关联度</th>\n",
       "    </tr>\n",
       "  </thead>\n",
       "  <tbody>\n",
       "    <tr>\n",
       "      <th>0</th>\n",
       "      <td>D049FB2C-7160-4CB9-9C8C-B528A2BD7ACB</td>\n",
       "      <td>16016C6E-46B5-4290-90E5-22C1427073E2</td>\n",
       "      <td>D049FB2C-7160-4CB9-9C8C-B528A2BD7ACB</td>\n",
       "      <td>NaN</td>\n",
       "      <td>NaN</td>\n",
       "      <td>AFF74B7B-1A74-4CD4-9AAC-C71824FE7AC3</td>\n",
       "      <td>4C465AC0-3724-4916-BD7E-35A240B1C4C3</td>\n",
       "      <td>AFF74B7B-1A74-4CD4-9AAC-C71824FE7AC3</td>\n",
       "      <td>NaN</td>\n",
       "      <td>NaN</td>\n",
       "      <td>0.900</td>\n",
       "    </tr>\n",
       "    <tr>\n",
       "      <th>1</th>\n",
       "      <td>4FEDC48E-0376-419B-9750-0D362B43358C</td>\n",
       "      <td>00000000-0000-0000-0000-000000000000</td>\n",
       "      <td>F62A21B6-C395-4793-BD2A-306342229939</td>\n",
       "      <td>NaN</td>\n",
       "      <td>NaN</td>\n",
       "      <td>4C737588-F6E6-429C-B66C-9EA2318CED96</td>\n",
       "      <td>B13C704A-060D-4D2E-901A-882FFD135676</td>\n",
       "      <td>FE2E369A-DA2B-49C4-A7F1-54BAF372D931</td>\n",
       "      <td>0.0</td>\n",
       "      <td>NaN</td>\n",
       "      <td>0.900</td>\n",
       "    </tr>\n",
       "    <tr>\n",
       "      <th>2</th>\n",
       "      <td>0DF14752-6F54-44D0-B9B9-CD9092445F53</td>\n",
       "      <td>8637E21C-6BDD-4490-8384-DB7FF4FDAA27</td>\n",
       "      <td>27C50097-F320-48B7-8955-7F53EFFBFAB1</td>\n",
       "      <td>NaN</td>\n",
       "      <td>NaN</td>\n",
       "      <td>1A5ABC3C-8C40-44A4-A2CC-F367ADD94FEC</td>\n",
       "      <td>E84A30E9-CB89-4BF6-BC56-698A52B6FE16</td>\n",
       "      <td>3ED5DB46-B262-478C-8477-C1A1BA2B6663</td>\n",
       "      <td>1.0</td>\n",
       "      <td>NaN</td>\n",
       "      <td>0.900</td>\n",
       "    </tr>\n",
       "    <tr>\n",
       "      <th>3</th>\n",
       "      <td>D560BDD5-B368-4F77-A6B5-F8302089B9A0</td>\n",
       "      <td>3D4B059D-5B90-4226-BE28-3352C6B55E63</td>\n",
       "      <td>F51321CA-C769-4B76-A57F-9476FCA56A24</td>\n",
       "      <td>0.0</td>\n",
       "      <td>NaN</td>\n",
       "      <td>1A5ABC3C-8C40-44A4-A2CC-F367ADD94FEC</td>\n",
       "      <td>E84A30E9-CB89-4BF6-BC56-698A52B6FE16</td>\n",
       "      <td>3ED5DB46-B262-478C-8477-C1A1BA2B6663</td>\n",
       "      <td>1.0</td>\n",
       "      <td>NaN</td>\n",
       "      <td>0.936</td>\n",
       "    </tr>\n",
       "    <tr>\n",
       "      <th>4</th>\n",
       "      <td>4A2D1554-B36A-4728-980A-F74EF2EFE71E</td>\n",
       "      <td>7FBE66D5-1F91-471D-A73A-90AE9A3CF54D</td>\n",
       "      <td>A729708B-9723-4695-BB6B-07724F402C23</td>\n",
       "      <td>NaN</td>\n",
       "      <td>NaN</td>\n",
       "      <td>5B8F80DA-FDE7-4606-9F20-37FC8B75271B</td>\n",
       "      <td>7FBE66D5-1F91-471D-A73A-90AE9A3CF54D</td>\n",
       "      <td>A729708B-9723-4695-BB6B-07724F402C23</td>\n",
       "      <td>NaN</td>\n",
       "      <td>NaN</td>\n",
       "      <td>0.900</td>\n",
       "    </tr>\n",
       "  </tbody>\n",
       "</table>\n",
       "</div>"
      ],
      "text/plain": [
       "                               设备1 tick                              设备1 idfa  \\\n",
       "0  D049FB2C-7160-4CB9-9C8C-B528A2BD7ACB  16016C6E-46B5-4290-90E5-22C1427073E2   \n",
       "1  4FEDC48E-0376-419B-9750-0D362B43358C  00000000-0000-0000-0000-000000000000   \n",
       "2  0DF14752-6F54-44D0-B9B9-CD9092445F53  8637E21C-6BDD-4490-8384-DB7FF4FDAA27   \n",
       "3  D560BDD5-B368-4F77-A6B5-F8302089B9A0  3D4B059D-5B90-4226-BE28-3352C6B55E63   \n",
       "4  4A2D1554-B36A-4728-980A-F74EF2EFE71E  7FBE66D5-1F91-471D-A73A-90AE9A3CF54D   \n",
       "\n",
       "                               设备1 idfv  设备1申请状态  设备1贷后表现  \\\n",
       "0  D049FB2C-7160-4CB9-9C8C-B528A2BD7ACB      NaN      NaN   \n",
       "1  F62A21B6-C395-4793-BD2A-306342229939      NaN      NaN   \n",
       "2  27C50097-F320-48B7-8955-7F53EFFBFAB1      NaN      NaN   \n",
       "3  F51321CA-C769-4B76-A57F-9476FCA56A24      0.0      NaN   \n",
       "4  A729708B-9723-4695-BB6B-07724F402C23      NaN      NaN   \n",
       "\n",
       "                               设备2 tick                              设备2 idfa  \\\n",
       "0  AFF74B7B-1A74-4CD4-9AAC-C71824FE7AC3  4C465AC0-3724-4916-BD7E-35A240B1C4C3   \n",
       "1  4C737588-F6E6-429C-B66C-9EA2318CED96  B13C704A-060D-4D2E-901A-882FFD135676   \n",
       "2  1A5ABC3C-8C40-44A4-A2CC-F367ADD94FEC  E84A30E9-CB89-4BF6-BC56-698A52B6FE16   \n",
       "3  1A5ABC3C-8C40-44A4-A2CC-F367ADD94FEC  E84A30E9-CB89-4BF6-BC56-698A52B6FE16   \n",
       "4  5B8F80DA-FDE7-4606-9F20-37FC8B75271B  7FBE66D5-1F91-471D-A73A-90AE9A3CF54D   \n",
       "\n",
       "                               设备2 idfv  设备2申请状态  设备2贷后表现    关联度  \n",
       "0  AFF74B7B-1A74-4CD4-9AAC-C71824FE7AC3      NaN      NaN  0.900  \n",
       "1  FE2E369A-DA2B-49C4-A7F1-54BAF372D931      0.0      NaN  0.900  \n",
       "2  3ED5DB46-B262-478C-8477-C1A1BA2B6663      1.0      NaN  0.900  \n",
       "3  3ED5DB46-B262-478C-8477-C1A1BA2B6663      1.0      NaN  0.936  \n",
       "4  A729708B-9723-4695-BB6B-07724F402C23      NaN      NaN  0.900  "
      ]
     },
     "execution_count": 15,
     "metadata": {},
     "output_type": "execute_result"
    }
   ],
   "source": [
    "df1.head(5)"
   ]
  },
  {
   "cell_type": "code",
   "execution_count": 6,
   "metadata": {
    "ExecuteTime": {
     "end_time": "2018-03-14T14:21:25.295710Z",
     "start_time": "2018-03-14T14:21:25.288862Z"
    },
    "collapsed": false
   },
   "outputs": [
    {
     "data": {
      "text/plain": [
       "(8008, 11)"
      ]
     },
     "execution_count": 6,
     "metadata": {},
     "output_type": "execute_result"
    }
   ],
   "source": [
    "df1.shape"
   ]
  },
  {
   "cell_type": "code",
   "execution_count": 16,
   "metadata": {
    "ExecuteTime": {
     "end_time": "2018-03-14T14:33:33.254460Z",
     "start_time": "2018-03-14T14:33:33.251616Z"
    },
    "collapsed": false
   },
   "outputs": [],
   "source": [
    "# df1[[u'设备1 tick', u'设备1申请状态', u'设备1贷后表现']].append(df1[[u'设备2 tick', u'设备2申请状态', u'设备2贷后表现']].values)"
   ]
  },
  {
   "cell_type": "code",
   "execution_count": 17,
   "metadata": {
    "ExecuteTime": {
     "end_time": "2018-03-14T14:35:04.128984Z",
     "start_time": "2018-03-14T14:35:04.115961Z"
    },
    "collapsed": false
   },
   "outputs": [],
   "source": [
    "df_new=pd.DataFrame(np.concatenate([df1[[u'设备1 tick', u'设备1申请状态', u'设备1贷后表现']].values, \n",
    "                             df1[[u'设备2 tick', u'设备2申请状态', u'设备2贷后表现']].values]),columns=[u'设备tick', u'设备申请状态', u'设备贷后表现'] )"
   ]
  },
  {
   "cell_type": "code",
   "execution_count": 21,
   "metadata": {
    "ExecuteTime": {
     "end_time": "2018-03-14T14:37:34.130419Z",
     "start_time": "2018-03-14T14:37:34.113167Z"
    },
    "collapsed": false
   },
   "outputs": [
    {
     "data": {
      "text/html": [
       "<div>\n",
       "<style scoped>\n",
       "    .dataframe tbody tr th:only-of-type {\n",
       "        vertical-align: middle;\n",
       "    }\n",
       "\n",
       "    .dataframe tbody tr th {\n",
       "        vertical-align: top;\n",
       "    }\n",
       "\n",
       "    .dataframe thead th {\n",
       "        text-align: right;\n",
       "    }\n",
       "</style>\n",
       "<table border=\"1\" class=\"dataframe\">\n",
       "  <thead>\n",
       "    <tr style=\"text-align: right;\">\n",
       "      <th></th>\n",
       "      <th>设备tick</th>\n",
       "      <th>设备申请状态</th>\n",
       "      <th>设备贷后表现</th>\n",
       "    </tr>\n",
       "  </thead>\n",
       "  <tbody>\n",
       "    <tr>\n",
       "      <th>0</th>\n",
       "      <td>D049FB2C-7160-4CB9-9C8C-B528A2BD7ACB</td>\n",
       "      <td>NaN</td>\n",
       "      <td>NaN</td>\n",
       "    </tr>\n",
       "    <tr>\n",
       "      <th>1</th>\n",
       "      <td>4FEDC48E-0376-419B-9750-0D362B43358C</td>\n",
       "      <td>NaN</td>\n",
       "      <td>NaN</td>\n",
       "    </tr>\n",
       "    <tr>\n",
       "      <th>2</th>\n",
       "      <td>0DF14752-6F54-44D0-B9B9-CD9092445F53</td>\n",
       "      <td>NaN</td>\n",
       "      <td>NaN</td>\n",
       "    </tr>\n",
       "    <tr>\n",
       "      <th>3</th>\n",
       "      <td>D560BDD5-B368-4F77-A6B5-F8302089B9A0</td>\n",
       "      <td>0</td>\n",
       "      <td>NaN</td>\n",
       "    </tr>\n",
       "    <tr>\n",
       "      <th>4</th>\n",
       "      <td>4A2D1554-B36A-4728-980A-F74EF2EFE71E</td>\n",
       "      <td>NaN</td>\n",
       "      <td>NaN</td>\n",
       "    </tr>\n",
       "    <tr>\n",
       "      <th>5</th>\n",
       "      <td>BA0BA9F3-D7AF-4A8C-8E85-E8DC73191291</td>\n",
       "      <td>NaN</td>\n",
       "      <td>NaN</td>\n",
       "    </tr>\n",
       "    <tr>\n",
       "      <th>6</th>\n",
       "      <td>B564E63E-53CB-4A0A-95DB-A557F79617DA</td>\n",
       "      <td>0</td>\n",
       "      <td>NaN</td>\n",
       "    </tr>\n",
       "    <tr>\n",
       "      <th>7</th>\n",
       "      <td>B21ADDE1-B188-4C35-8640-8097F9F3BDFA</td>\n",
       "      <td>0</td>\n",
       "      <td>NaN</td>\n",
       "    </tr>\n",
       "  </tbody>\n",
       "</table>\n",
       "</div>"
      ],
      "text/plain": [
       "                                 设备tick 设备申请状态 设备贷后表现\n",
       "0  D049FB2C-7160-4CB9-9C8C-B528A2BD7ACB    NaN    NaN\n",
       "1  4FEDC48E-0376-419B-9750-0D362B43358C    NaN    NaN\n",
       "2  0DF14752-6F54-44D0-B9B9-CD9092445F53    NaN    NaN\n",
       "3  D560BDD5-B368-4F77-A6B5-F8302089B9A0      0    NaN\n",
       "4  4A2D1554-B36A-4728-980A-F74EF2EFE71E    NaN    NaN\n",
       "5  BA0BA9F3-D7AF-4A8C-8E85-E8DC73191291    NaN    NaN\n",
       "6  B564E63E-53CB-4A0A-95DB-A557F79617DA      0    NaN\n",
       "7  B21ADDE1-B188-4C35-8640-8097F9F3BDFA      0    NaN"
      ]
     },
     "execution_count": 21,
     "metadata": {},
     "output_type": "execute_result"
    }
   ],
   "source": [
    "df_new.head(8)"
   ]
  },
  {
   "cell_type": "code",
   "execution_count": 20,
   "metadata": {
    "ExecuteTime": {
     "end_time": "2018-03-14T14:35:29.880189Z",
     "start_time": "2018-03-14T14:35:29.868558Z"
    },
    "collapsed": false
   },
   "outputs": [
    {
     "data": {
      "text/plain": [
       "(5800, 3)"
      ]
     },
     "execution_count": 20,
     "metadata": {},
     "output_type": "execute_result"
    }
   ],
   "source": [
    "df_new.drop_duplicates([u'设备tick', u'设备申请状态', u'设备贷后表现']).shape"
   ]
  },
  {
   "cell_type": "code",
   "execution_count": 9,
   "metadata": {
    "ExecuteTime": {
     "end_time": "2018-03-12T11:51:19.652062Z",
     "start_time": "2018-03-12T11:51:19.643901Z"
    },
    "collapsed": false,
    "scrolled": true
   },
   "outputs": [
    {
     "data": {
      "text/plain": [
       "1183"
      ]
     },
     "execution_count": 9,
     "metadata": {},
     "output_type": "execute_result"
    }
   ],
   "source": [
    "df1[u'设备1 tick'].nunique()"
   ]
  },
  {
   "cell_type": "markdown",
   "metadata": {},
   "source": [
    "### 前面通过后面通过的比例"
   ]
  },
  {
   "cell_type": "code",
   "execution_count": 14,
   "metadata": {
    "ExecuteTime": {
     "end_time": "2018-03-12T14:42:56.109221Z",
     "start_time": "2018-03-12T14:42:55.907363Z"
    },
    "collapsed": false
   },
   "outputs": [
    {
     "data": {
      "text/plain": [
       "0.0    0.726115\n",
       "1.0    0.273885\n",
       "Name: 设备2申请状态, dtype: float64"
      ]
     },
     "execution_count": 14,
     "metadata": {},
     "output_type": "execute_result"
    }
   ],
   "source": [
    "df1.loc[df1[u'设备1申请状态'] == 1][u'设备2申请状态'].value_counts(normalize=True)"
   ]
  },
  {
   "cell_type": "markdown",
   "metadata": {
    "ExecuteTime": {
     "end_time": "2018-03-12T14:44:01.541164Z",
     "start_time": "2018-03-12T14:44:01.538132Z"
    }
   },
   "source": [
    "### 前面通过后面逾期的比例"
   ]
  },
  {
   "cell_type": "code",
   "execution_count": 16,
   "metadata": {
    "ExecuteTime": {
     "end_time": "2018-03-12T14:44:16.216438Z",
     "start_time": "2018-03-12T14:44:16.205809Z"
    },
    "collapsed": false
   },
   "outputs": [
    {
     "data": {
      "text/plain": [
       "1.0    0.9375\n",
       "0.0    0.0625\n",
       "Name: 设备2贷后表现, dtype: float64"
      ]
     },
     "execution_count": 16,
     "metadata": {},
     "output_type": "execute_result"
    }
   ],
   "source": [
    "df1.loc[df1[u'设备1申请状态'] == 1][u'设备2贷后表现'].value_counts(normalize=True)"
   ]
  },
  {
   "cell_type": "markdown",
   "metadata": {},
   "source": [
    "### 前面不通过后面通过比例"
   ]
  },
  {
   "cell_type": "code",
   "execution_count": 17,
   "metadata": {
    "ExecuteTime": {
     "end_time": "2018-03-12T14:46:16.846468Z",
     "start_time": "2018-03-12T14:46:16.833154Z"
    },
    "collapsed": false
   },
   "outputs": [
    {
     "data": {
      "text/plain": [
       "0.0    0.764858\n",
       "1.0    0.235142\n",
       "Name: 设备2申请状态, dtype: float64"
      ]
     },
     "execution_count": 17,
     "metadata": {},
     "output_type": "execute_result"
    }
   ],
   "source": [
    "df1.loc[df1[u'设备1申请状态'] == 0][u'设备2申请状态'].value_counts(normalize=True)"
   ]
  },
  {
   "cell_type": "markdown",
   "metadata": {},
   "source": [
    "### 前面不通过后面逾期比例"
   ]
  },
  {
   "cell_type": "code",
   "execution_count": 18,
   "metadata": {
    "ExecuteTime": {
     "end_time": "2018-03-12T14:48:04.619972Z",
     "start_time": "2018-03-12T14:48:04.610136Z"
    },
    "collapsed": false
   },
   "outputs": [
    {
     "data": {
      "text/plain": [
       "1.0    0.930556\n",
       "0.0    0.069444\n",
       "Name: 设备2贷后表现, dtype: float64"
      ]
     },
     "execution_count": 18,
     "metadata": {},
     "output_type": "execute_result"
    }
   ],
   "source": [
    "df1.loc[df1[u'设备1申请状态'] == 0][u'设备2贷后表现'].value_counts(normalize=True)"
   ]
  },
  {
   "cell_type": "markdown",
   "metadata": {
    "ExecuteTime": {
     "end_time": "2018-03-12T14:58:40.634189Z",
     "start_time": "2018-03-12T14:58:40.631627Z"
    }
   },
   "source": [
    "### 前面逾期后面通过比例"
   ]
  },
  {
   "cell_type": "code",
   "execution_count": 20,
   "metadata": {
    "ExecuteTime": {
     "end_time": "2018-03-12T14:59:21.646293Z",
     "start_time": "2018-03-12T14:59:21.636043Z"
    },
    "collapsed": false
   },
   "outputs": [
    {
     "data": {
      "text/plain": [
       "0.0    0.833333\n",
       "1.0    0.166667\n",
       "Name: 设备2申请状态, dtype: float64"
      ]
     },
     "execution_count": 20,
     "metadata": {},
     "output_type": "execute_result"
    }
   ],
   "source": [
    "df1.loc[df1[u'设备1贷后表现'] == 0][u'设备2申请状态'].value_counts(normalize=True)"
   ]
  },
  {
   "cell_type": "markdown",
   "metadata": {
    "ExecuteTime": {
     "end_time": "2018-03-12T15:00:13.988452Z",
     "start_time": "2018-03-12T15:00:13.985701Z"
    }
   },
   "source": [
    "### 前面逾期后面逾期比例"
   ]
  },
  {
   "cell_type": "code",
   "execution_count": 22,
   "metadata": {
    "ExecuteTime": {
     "end_time": "2018-03-12T15:00:37.663906Z",
     "start_time": "2018-03-12T15:00:37.654236Z"
    },
    "collapsed": false
   },
   "outputs": [
    {
     "data": {
      "text/plain": [
       "1.0    1.0\n",
       "Name: 设备2贷后表现, dtype: float64"
      ]
     },
     "execution_count": 22,
     "metadata": {},
     "output_type": "execute_result"
    }
   ],
   "source": [
    "df1.loc[df1[u'设备1贷后表现'] == 0][u'设备2贷后表现'].value_counts(normalize=True)"
   ]
  },
  {
   "cell_type": "markdown",
   "metadata": {
    "ExecuteTime": {
     "end_time": "2018-03-12T15:01:21.402217Z",
     "start_time": "2018-03-12T15:01:21.399590Z"
    }
   },
   "source": [
    "### 前面不逾期后面通过比例"
   ]
  },
  {
   "cell_type": "code",
   "execution_count": 24,
   "metadata": {
    "ExecuteTime": {
     "end_time": "2018-03-12T15:01:32.326631Z",
     "start_time": "2018-03-12T15:01:32.317377Z"
    },
    "collapsed": false
   },
   "outputs": [
    {
     "data": {
      "text/plain": [
       "0.0    0.734848\n",
       "1.0    0.265152\n",
       "Name: 设备2申请状态, dtype: float64"
      ]
     },
     "execution_count": 24,
     "metadata": {},
     "output_type": "execute_result"
    }
   ],
   "source": [
    "df1.loc[df1[u'设备1贷后表现'] == 1][u'设备2申请状态'].value_counts(normalize=True)"
   ]
  },
  {
   "cell_type": "markdown",
   "metadata": {
    "ExecuteTime": {
     "end_time": "2018-03-12T15:01:58.903824Z",
     "start_time": "2018-03-12T15:01:58.900918Z"
    }
   },
   "source": [
    "### 前面不逾期后面逾期比例"
   ]
  },
  {
   "cell_type": "code",
   "execution_count": 37,
   "metadata": {
    "ExecuteTime": {
     "end_time": "2018-03-12T16:06:51.306982Z",
     "start_time": "2018-03-12T16:06:51.213433Z"
    },
    "collapsed": false
   },
   "outputs": [
    {
     "data": {
      "text/plain": [
       "0.0    0.734848\n",
       "1.0    0.265152\n",
       "Name: 设备2申请状态, dtype: float64"
      ]
     },
     "execution_count": 37,
     "metadata": {},
     "output_type": "execute_result"
    }
   ],
   "source": [
    "df1.loc[df1[u'设备1贷后表现'] == 1][u'设备2申请状态'].value_counts(normalize=True)"
   ]
  },
  {
   "cell_type": "code",
   "execution_count": 38,
   "metadata": {
    "ExecuteTime": {
     "end_time": "2018-03-12T16:08:46.179654Z",
     "start_time": "2018-03-12T16:08:45.571643Z"
    },
    "collapsed": false
   },
   "outputs": [
    {
     "data": {
      "text/plain": [
       "<matplotlib.axes._subplots.AxesSubplot at 0x1150c7410>"
      ]
     },
     "execution_count": 38,
     "metadata": {},
     "output_type": "execute_result"
    },
    {
     "data": {
      "image/png": "[encoded data removed]",
      "text/plain": [
       "<matplotlib.figure.Figure at 0x10ed20050>"
      ]
     },
     "metadata": {},
     "output_type": "display_data"
    }
   ],
   "source": [
    "df1.loc[df1[u'设备1贷后表现'] == 1][u'设备2申请状态'].value_counts(normalize=True).plot(kind='bar')"
   ]
  },
  {
   "cell_type": "code",
   "execution_count": 31,
   "metadata": {
    "ExecuteTime": {
     "end_time": "2018-03-12T15:19:20.996021Z",
     "start_time": "2018-03-12T15:19:20.986579Z"
    },
    "collapsed": false
   },
   "outputs": [
    {
     "data": {
      "text/plain": [
       "0.0    5\n",
       "1.0    1\n",
       "Name: 设备2申请状态, dtype: int64"
      ]
     },
     "execution_count": 31,
     "metadata": {},
     "output_type": "execute_result"
    }
   ],
   "source": [
    "df1.loc[df1[u'设备1贷后表现'] == 0][u'设备2申请状态'].value_counts()"
   ]
  },
  {
   "cell_type": "code",
   "execution_count": 32,
   "metadata": {
    "ExecuteTime": {
     "end_time": "2018-03-12T15:21:00.696556Z",
     "start_time": "2018-03-12T15:21:00.687887Z"
    },
    "collapsed": false
   },
   "outputs": [
    {
     "data": {
      "text/plain": [
       "array([5, 1])"
      ]
     },
     "execution_count": 32,
     "metadata": {},
     "output_type": "execute_result"
    }
   ],
   "source": [
    "df1.loc[df1[u'设备1贷后表现'] == 0][u'设备2申请状态'].value_counts().values"
   ]
  },
  {
   "cell_type": "code",
   "execution_count": 36,
   "metadata": {
    "ExecuteTime": {
     "end_time": "2018-03-12T15:21:22.300086Z",
     "start_time": "2018-03-12T15:21:22.292573Z"
    },
    "collapsed": false
   },
   "outputs": [
    {
     "data": {
      "text/plain": [
       "[0.0, 1.0]"
      ]
     },
     "execution_count": 36,
     "metadata": {},
     "output_type": "execute_result"
    }
   ],
   "source": [
    "df1.loc[df1[u'设备1贷后表现'] == 0][u'设备2申请状态'].value_counts().index.tolist()"
   ]
  },
  {
   "cell_type": "code",
   "execution_count": 42,
   "metadata": {
    "ExecuteTime": {
     "end_time": "2018-03-12T17:45:15.655952Z",
     "start_time": "2018-03-12T17:45:15.615679Z"
    },
    "collapsed": false
   },
   "outputs": [
    {
     "data": {
      "text/plain": [
       "(34, 11)"
      ]
     },
     "execution_count": 42,
     "metadata": {},
     "output_type": "execute_result"
    }
   ],
   "source": [
    "df1.loc[(df1[u'设备1贷后表现'] == 0) | (df1[u'设备2贷后表现'] == 0)].shape"
   ]
  },
  {
   "cell_type": "code",
   "execution_count": 43,
   "metadata": {
    "ExecuteTime": {
     "end_time": "2018-03-13T11:03:10.849550Z",
     "start_time": "2018-03-13T11:03:10.827626Z"
    },
    "collapsed": false
   },
   "outputs": [],
   "source": [
    "xls_file2 = u'/Users/chaoxu/code/local-spark/Document/smy_dev_loan_corr/android_data_v2_smy.xlsx'"
   ]
  },
  {
   "cell_type": "code",
   "execution_count": 44,
   "metadata": {
    "ExecuteTime": {
     "end_time": "2018-03-13T11:03:28.596214Z",
     "start_time": "2018-03-13T11:03:26.924299Z"
    },
    "collapsed": false
   },
   "outputs": [],
   "source": [
    "df2 = pd.read_excel(io=xls_file2, sheet_name=0)"
   ]
  },
  {
   "cell_type": "code",
   "execution_count": 45,
   "metadata": {
    "ExecuteTime": {
     "end_time": "2018-03-13T11:03:31.979198Z",
     "start_time": "2018-03-13T11:03:31.946740Z"
    },
    "collapsed": false
   },
   "outputs": [
    {
     "data": {
      "text/html": [
       "<div>\n",
       "<style scoped>\n",
       "    .dataframe tbody tr th:only-of-type {\n",
       "        vertical-align: middle;\n",
       "    }\n",
       "\n",
       "    .dataframe tbody tr th {\n",
       "        vertical-align: top;\n",
       "    }\n",
       "\n",
       "    .dataframe thead th {\n",
       "        text-align: right;\n",
       "    }\n",
       "</style>\n",
       "<table border=\"1\" class=\"dataframe\">\n",
       "  <thead>\n",
       "    <tr style=\"text-align: right;\">\n",
       "      <th></th>\n",
       "      <th>设备1 tick</th>\n",
       "      <th>设备1 imei</th>\n",
       "      <th>设备1_aid</th>\n",
       "      <th>设备1申请状态</th>\n",
       "      <th>设备1贷后表现</th>\n",
       "      <th>设备2_tick</th>\n",
       "      <th>设备2 imei</th>\n",
       "      <th>设备2 aid</th>\n",
       "      <th>设备2申请状态</th>\n",
       "      <th>设备2贷后表现</th>\n",
       "      <th>关联度</th>\n",
       "    </tr>\n",
       "  </thead>\n",
       "  <tbody>\n",
       "    <tr>\n",
       "      <th>0</th>\n",
       "      <td>8f915fc3-4180-443d-9906-219fc30befd62</td>\n",
       "      <td>a000004fdf7cfc</td>\n",
       "      <td>d6d9b36e6cb96ac3</td>\n",
       "      <td>NaN</td>\n",
       "      <td>NaN</td>\n",
       "      <td>61ba8893-9a51-4cad-a593-3146bdef5b6e2</td>\n",
       "      <td>a00000550ecd35</td>\n",
       "      <td>b68bdfd751bec037</td>\n",
       "      <td>NaN</td>\n",
       "      <td>NaN</td>\n",
       "      <td>0.96</td>\n",
       "    </tr>\n",
       "    <tr>\n",
       "      <th>1</th>\n",
       "      <td>1e702bcc-819e-4edb-9be7-bb651e40b4192</td>\n",
       "      <td>866491033324637</td>\n",
       "      <td>c48fb6280ba35cb5</td>\n",
       "      <td>NaN</td>\n",
       "      <td>NaN</td>\n",
       "      <td>8acaa58f-168d-4655-b62d-d1119819e56d2</td>\n",
       "      <td>864394033680697</td>\n",
       "      <td>a511092a70814fbb</td>\n",
       "      <td>NaN</td>\n",
       "      <td>NaN</td>\n",
       "      <td>0.98</td>\n",
       "    </tr>\n",
       "    <tr>\n",
       "      <th>2</th>\n",
       "      <td>58d7d46d-aee0-46aa-90a9-f94e0ca0cd882</td>\n",
       "      <td>110ee890aca3ba1</td>\n",
       "      <td>14ce44b74b6cc651</td>\n",
       "      <td>NaN</td>\n",
       "      <td>NaN</td>\n",
       "      <td>32b0c122-5917-466d-a77c-82f5b950e1302</td>\n",
       "      <td>0fb62bacc414f45</td>\n",
       "      <td>14ce44b74b6cc651</td>\n",
       "      <td>NaN</td>\n",
       "      <td>NaN</td>\n",
       "      <td>1.00</td>\n",
       "    </tr>\n",
       "  </tbody>\n",
       "</table>\n",
       "</div>"
      ],
      "text/plain": [
       "                                设备1 tick         设备1 imei           设备1_aid  \\\n",
       "0  8f915fc3-4180-443d-9906-219fc30befd62   a000004fdf7cfc  d6d9b36e6cb96ac3   \n",
       "1  1e702bcc-819e-4edb-9be7-bb651e40b4192  866491033324637  c48fb6280ba35cb5   \n",
       "2  58d7d46d-aee0-46aa-90a9-f94e0ca0cd882  110ee890aca3ba1  14ce44b74b6cc651   \n",
       "\n",
       "   设备1申请状态  设备1贷后表现                               设备2_tick         设备2 imei  \\\n",
       "0      NaN      NaN  61ba8893-9a51-4cad-a593-3146bdef5b6e2   a00000550ecd35   \n",
       "1      NaN      NaN  8acaa58f-168d-4655-b62d-d1119819e56d2  864394033680697   \n",
       "2      NaN      NaN  32b0c122-5917-466d-a77c-82f5b950e1302  0fb62bacc414f45   \n",
       "\n",
       "            设备2 aid  设备2申请状态  设备2贷后表现   关联度  \n",
       "0  b68bdfd751bec037      NaN      NaN  0.96  \n",
       "1  a511092a70814fbb      NaN      NaN  0.98  \n",
       "2  14ce44b74b6cc651      NaN      NaN  1.00  "
      ]
     },
     "execution_count": 45,
     "metadata": {},
     "output_type": "execute_result"
    }
   ],
   "source": [
    "df2.head(3)"
   ]
  },
  {
   "cell_type": "code",
   "execution_count": 46,
   "metadata": {
    "ExecuteTime": {
     "end_time": "2018-03-13T14:05:48.669474Z",
     "start_time": "2018-03-13T14:05:48.645464Z"
    },
    "collapsed": false
   },
   "outputs": [
    {
     "data": {
      "text/plain": [
       "(4136, 11)"
      ]
     },
     "execution_count": 46,
     "metadata": {},
     "output_type": "execute_result"
    }
   ],
   "source": [
    "df2.shape"
   ]
  },
  {
   "cell_type": "code",
   "execution_count": 47,
   "metadata": {
    "ExecuteTime": {
     "end_time": "2018-03-13T14:06:18.558155Z",
     "start_time": "2018-03-13T14:06:18.548319Z"
    },
    "collapsed": false
   },
   "outputs": [
    {
     "data": {
      "text/plain": [
       "(51, 11)"
      ]
     },
     "execution_count": 47,
     "metadata": {},
     "output_type": "execute_result"
    }
   ],
   "source": [
    "df2.loc[df2[u'设备1申请状态'] == 1].shape"
   ]
  },
  {
   "cell_type": "code",
   "execution_count": 50,
   "metadata": {
    "ExecuteTime": {
     "end_time": "2018-03-13T16:32:30.050901Z",
     "start_time": "2018-03-13T16:32:30.041802Z"
    },
    "collapsed": false
   },
   "outputs": [
    {
     "data": {
      "text/plain": [
       "3566"
      ]
     },
     "execution_count": 50,
     "metadata": {},
     "output_type": "execute_result"
    }
   ],
   "source": [
    "df2.loc[df2[u'设备1申请状态'].isnull()].shape[0]"
   ]
  },
  {
   "cell_type": "code",
   "execution_count": null,
   "metadata": {
    "collapsed": false
   },
   "outputs": [],
   "source": []
  }
 ],
 "metadata": {
  "kernelspec": {
   "display_name": "Python 2",
   "language": "python",
   "name": "python2"
  },
  "language_info": {
   "codemirror_mode": {
    "name": "ipython",
    "version": 2
   },
   "file_extension": ".py",
   "mimetype": "text/x-python",
   "name": "python",
   "nbconvert_exporter": "python",
   "pygments_lexer": "ipython2",
   "version": "2.7.13"
  },
  "varInspector": {
   "cols": {
    "lenName": 16,
    "lenType": 16,
    "lenVar": 40
   },
   "kernels_config": {
    "python": {
     "delete_cmd_postfix": "",
     "delete_cmd_prefix": "del ",
     "library": "var_list.py",
     "varRefreshCmd": "print(var_dic_list())"
    },
    "r": {
     "delete_cmd_postfix": ") ",
     "delete_cmd_prefix": "rm(",
     "library": "var_list.r",
     "varRefreshCmd": "cat(var_dic_list()) "
    }
   },
   "types_to_exclude": [
    "module",
    "function",
    "builtin_function_or_method",
    "instance",
    "_Feature"
   ],
   "window_display": false
  }
 },
 "nbformat": 4,
 "nbformat_minor": 0
}
