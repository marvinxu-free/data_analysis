{
 "cells": [
  {
   "cell_type": "code",
   "execution_count": 1,
   "metadata": {
    "ExecuteTime": {
     "end_time": "2018-03-12T11:29:45.074158Z",
     "start_time": "2018-03-12T11:29:44.322234Z"
    },
    "collapsed": false
   },
   "outputs": [],
   "source": [
    "from __future__ import print_function, division\n",
    "import sys\n",
    "reload(sys)\n",
    "sys.setdefaultencoding('utf8')\n",
    "from Utils.common.custerReadFile import read_multi_csv\n",
    "import numpy as np\n",
    "import re\n",
    "from numpy import logical_or, logical_and\n",
    "import pandas as pd\n",
    "import xlsxwriter\n",
    "from Params.path_params import Document_path"
   ]
  },
  {
   "cell_type": "code",
   "execution_count": 2,
   "metadata": {
    "ExecuteTime": {
     "end_time": "2018-03-12T11:30:32.121723Z",
     "start_time": "2018-03-12T11:30:32.117195Z"
    },
    "collapsed": true
   },
   "outputs": [],
   "source": [
    "xls_file = u\"{0}/smy_dev_loan_corr/ios_data_smy.xlsx\".format(Document_path)"
   ]
  },
  {
   "cell_type": "code",
   "execution_count": 4,
   "metadata": {
    "ExecuteTime": {
     "end_time": "2018-03-12T11:30:50.902349Z",
     "start_time": "2018-03-12T11:30:50.875770Z"
    },
    "collapsed": false
   },
   "outputs": [
    {
     "data": {
      "text/plain": [
       "u'/Users/chaoxu/code/local-spark/Document/smy_dev_loan_corr/ios_data_smy.xlsx'"
      ]
     },
     "execution_count": 4,
     "metadata": {},
     "output_type": "execute_result"
    }
   ],
   "source": [
    "xls_file"
   ]
  },
  {
   "cell_type": "code",
   "execution_count": 5,
   "metadata": {
    "ExecuteTime": {
     "end_time": "2018-03-12T11:31:08.431515Z",
     "start_time": "2018-03-12T11:31:05.697769Z"
    },
    "collapsed": true
   },
   "outputs": [],
   "source": [
    "df1 = pd.read_excel(io=xls_file, sheet_name=0)"
   ]
  },
  {
   "cell_type": "code",
   "execution_count": 10,
   "metadata": {
    "ExecuteTime": {
     "end_time": "2018-03-12T14:41:10.193684Z",
     "start_time": "2018-03-12T14:41:10.060393Z"
    },
    "collapsed": false
   },
   "outputs": [
    {
     "data": {
      "text/html": [
       "<div>\n",
       "<style scoped>\n",
       "    .dataframe tbody tr th:only-of-type {\n",
       "        vertical-align: middle;\n",
       "    }\n",
       "\n",
       "    .dataframe tbody tr th {\n",
       "        vertical-align: top;\n",
       "    }\n",
       "\n",
       "    .dataframe thead th {\n",
       "        text-align: right;\n",
       "    }\n",
       "</style>\n",
       "<table border=\"1\" class=\"dataframe\">\n",
       "  <thead>\n",
       "    <tr style=\"text-align: right;\">\n",
       "      <th></th>\n",
       "      <th>设备1 tick</th>\n",
       "      <th>设备1 idfa</th>\n",
       "      <th>设备1 idfv</th>\n",
       "      <th>设备1申请状态</th>\n",
       "      <th>设备1贷后表现</th>\n",
       "      <th>设备2 tick</th>\n",
       "      <th>设备2 idfa</th>\n",
       "      <th>设备2 idfv</th>\n",
       "      <th>设备2申请状态</th>\n",
       "      <th>设备2贷后表现</th>\n",
       "      <th>关联度</th>\n",
       "    </tr>\n",
       "  </thead>\n",
       "  <tbody>\n",
       "    <tr>\n",
       "      <th>0</th>\n",
       "      <td>D049FB2C-7160-4CB9-9C8C-B528A2BD7ACB</td>\n",
       "      <td>16016C6E-46B5-4290-90E5-22C1427073E2</td>\n",
       "      <td>D049FB2C-7160-4CB9-9C8C-B528A2BD7ACB</td>\n",
       "      <td>NaN</td>\n",
       "      <td>NaN</td>\n",
       "      <td>AFF74B7B-1A74-4CD4-9AAC-C71824FE7AC3</td>\n",
       "      <td>4C465AC0-3724-4916-BD7E-35A240B1C4C3</td>\n",
       "      <td>AFF74B7B-1A74-4CD4-9AAC-C71824FE7AC3</td>\n",
       "      <td>NaN</td>\n",
       "      <td>NaN</td>\n",
       "      <td>0.9</td>\n",
       "    </tr>\n",
       "  </tbody>\n",
       "</table>\n",
       "</div>"
      ],
      "text/plain": [
       "                               设备1 tick                              设备1 idfa  \\\n",
       "0  D049FB2C-7160-4CB9-9C8C-B528A2BD7ACB  16016C6E-46B5-4290-90E5-22C1427073E2   \n",
       "\n",
       "                               设备1 idfv  设备1申请状态  设备1贷后表现  \\\n",
       "0  D049FB2C-7160-4CB9-9C8C-B528A2BD7ACB      NaN      NaN   \n",
       "\n",
       "                               设备2 tick                              设备2 idfa  \\\n",
       "0  AFF74B7B-1A74-4CD4-9AAC-C71824FE7AC3  4C465AC0-3724-4916-BD7E-35A240B1C4C3   \n",
       "\n",
       "                               设备2 idfv  设备2申请状态  设备2贷后表现  关联度  \n",
       "0  AFF74B7B-1A74-4CD4-9AAC-C71824FE7AC3      NaN      NaN  0.9  "
      ]
     },
     "execution_count": 10,
     "metadata": {},
     "output_type": "execute_result"
    }
   ],
   "source": [
    "df1.head(1)"
   ]
  },
  {
   "cell_type": "code",
   "execution_count": 7,
   "metadata": {
    "ExecuteTime": {
     "end_time": "2018-03-12T11:50:43.551653Z",
     "start_time": "2018-03-12T11:50:43.535922Z"
    },
    "collapsed": false
   },
   "outputs": [
    {
     "data": {
      "text/plain": [
       "(8008, 11)"
      ]
     },
     "execution_count": 7,
     "metadata": {},
     "output_type": "execute_result"
    }
   ],
   "source": [
    "df1.shape"
   ]
  },
  {
   "cell_type": "code",
   "execution_count": 9,
   "metadata": {
    "ExecuteTime": {
     "end_time": "2018-03-12T11:51:19.652062Z",
     "start_time": "2018-03-12T11:51:19.643901Z"
    },
    "collapsed": false
   },
   "outputs": [
    {
     "data": {
      "text/plain": [
       "1183"
      ]
     },
     "execution_count": 9,
     "metadata": {},
     "output_type": "execute_result"
    }
   ],
   "source": [
    "df1[u'设备1 tick'].nunique()"
   ]
  },
  {
   "cell_type": "markdown",
   "metadata": {},
   "source": [
    "### 前面通过后面通过的比例"
   ]
  },
  {
   "cell_type": "code",
   "execution_count": 14,
   "metadata": {
    "ExecuteTime": {
     "end_time": "2018-03-12T14:42:56.109221Z",
     "start_time": "2018-03-12T14:42:55.907363Z"
    },
    "collapsed": false
   },
   "outputs": [
    {
     "data": {
      "text/plain": [
       "0.0    0.726115\n",
       "1.0    0.273885\n",
       "Name: 设备2申请状态, dtype: float64"
      ]
     },
     "execution_count": 14,
     "metadata": {},
     "output_type": "execute_result"
    }
   ],
   "source": [
    "df1.loc[df1[u'设备1申请状态'] == 1][u'设备2申请状态'].value_counts(normalize=True)"
   ]
  },
  {
   "cell_type": "markdown",
   "metadata": {
    "ExecuteTime": {
     "end_time": "2018-03-12T14:44:01.541164Z",
     "start_time": "2018-03-12T14:44:01.538132Z"
    }
   },
   "source": [
    "### 前面通过后面逾期的比例"
   ]
  },
  {
   "cell_type": "code",
   "execution_count": 16,
   "metadata": {
    "ExecuteTime": {
     "end_time": "2018-03-12T14:44:16.216438Z",
     "start_time": "2018-03-12T14:44:16.205809Z"
    },
    "collapsed": false
   },
   "outputs": [
    {
     "data": {
      "text/plain": [
       "1.0    0.9375\n",
       "0.0    0.0625\n",
       "Name: 设备2贷后表现, dtype: float64"
      ]
     },
     "execution_count": 16,
     "metadata": {},
     "output_type": "execute_result"
    }
   ],
   "source": [
    "df1.loc[df1[u'设备1申请状态'] == 1][u'设备2贷后表现'].value_counts(normalize=True)"
   ]
  },
  {
   "cell_type": "markdown",
   "metadata": {},
   "source": [
    "### 前面不通过后面通过比例"
   ]
  },
  {
   "cell_type": "code",
   "execution_count": 17,
   "metadata": {
    "ExecuteTime": {
     "end_time": "2018-03-12T14:46:16.846468Z",
     "start_time": "2018-03-12T14:46:16.833154Z"
    },
    "collapsed": false
   },
   "outputs": [
    {
     "data": {
      "text/plain": [
       "0.0    0.764858\n",
       "1.0    0.235142\n",
       "Name: 设备2申请状态, dtype: float64"
      ]
     },
     "execution_count": 17,
     "metadata": {},
     "output_type": "execute_result"
    }
   ],
   "source": [
    "df1.loc[df1[u'设备1申请状态'] == 0][u'设备2申请状态'].value_counts(normalize=True)"
   ]
  },
  {
   "cell_type": "markdown",
   "metadata": {},
   "source": [
    "### 前面不通过后面逾期比例"
   ]
  },
  {
   "cell_type": "code",
   "execution_count": 18,
   "metadata": {
    "ExecuteTime": {
     "end_time": "2018-03-12T14:48:04.619972Z",
     "start_time": "2018-03-12T14:48:04.610136Z"
    },
    "collapsed": false
   },
   "outputs": [
    {
     "data": {
      "text/plain": [
       "1.0    0.930556\n",
       "0.0    0.069444\n",
       "Name: 设备2贷后表现, dtype: float64"
      ]
     },
     "execution_count": 18,
     "metadata": {},
     "output_type": "execute_result"
    }
   ],
   "source": [
    "df1.loc[df1[u'设备1申请状态'] == 0][u'设备2贷后表现'].value_counts(normalize=True)"
   ]
  },
  {
   "cell_type": "markdown",
   "metadata": {
    "ExecuteTime": {
     "end_time": "2018-03-12T14:58:40.634189Z",
     "start_time": "2018-03-12T14:58:40.631627Z"
    }
   },
   "source": [
    "### 前面逾期后面通过比例"
   ]
  },
  {
   "cell_type": "code",
   "execution_count": 20,
   "metadata": {
    "ExecuteTime": {
     "end_time": "2018-03-12T14:59:21.646293Z",
     "start_time": "2018-03-12T14:59:21.636043Z"
    },
    "collapsed": false
   },
   "outputs": [
    {
     "data": {
      "text/plain": [
       "0.0    0.833333\n",
       "1.0    0.166667\n",
       "Name: 设备2申请状态, dtype: float64"
      ]
     },
     "execution_count": 20,
     "metadata": {},
     "output_type": "execute_result"
    }
   ],
   "source": [
    "df1.loc[df1[u'设备1贷后表现'] == 0][u'设备2申请状态'].value_counts(normalize=True)"
   ]
  },
  {
   "cell_type": "code",
   "execution_count": null,
   "metadata": {
    "collapsed": true
   },
   "outputs": [],
   "source": []
  }
 ],
 "metadata": {
  "kernelspec": {
   "display_name": "Python 2",
   "language": "python",
   "name": "python2"
  },
  "language_info": {
   "codemirror_mode": {
    "name": "ipython",
    "version": 2
   },
   "file_extension": ".py",
   "mimetype": "text/x-python",
   "name": "python",
   "nbconvert_exporter": "python",
   "pygments_lexer": "ipython2",
   "version": "2.7.13"
  },
  "varInspector": {
   "cols": {
    "lenName": 16,
    "lenType": 16,
    "lenVar": 40
   },
   "kernels_config": {
    "python": {
     "delete_cmd_postfix": "",
     "delete_cmd_prefix": "del ",
     "library": "var_list.py",
     "varRefreshCmd": "print(var_dic_list())"
    },
    "r": {
     "delete_cmd_postfix": ") ",
     "delete_cmd_prefix": "rm(",
     "library": "var_list.r",
     "varRefreshCmd": "cat(var_dic_list()) "
    }
   },
   "types_to_exclude": [
    "module",
    "function",
    "builtin_function_or_method",
    "instance",
    "_Feature"
   ],
   "window_display": false
  }
 },
 "nbformat": 4,
 "nbformat_minor": 0
}
