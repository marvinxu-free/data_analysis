{
 "cells": [
  {
   "cell_type": "markdown",
   "metadata": {},
   "source": [
    "分析东方头条的刷量现象"
   ]
  },
  {
   "cell_type": "code",
   "execution_count": 1,
   "metadata": {
    "ExecuteTime": {
     "end_time": "2018-05-21T17:13:25.527789Z",
     "start_time": "2018-05-21T17:13:24.662584Z"
    },
    "collapsed": false
   },
   "outputs": [],
   "source": [
    "from __future__ import print_function, division\n",
    "import sys\n",
    "reload(sys)\n",
    "sys.setdefaultencoding('utf8')\n",
    "import pandas as pd\n",
    "import xlsxwriter\n",
    "from Params.path_params import Document_path, Data_path\n",
    "from Utils.common.custerReadFile import read_multi_csv\n",
    "from matplotlib import pyplot as plt"
   ]
  },
  {
   "cell_type": "code",
   "execution_count": 2,
   "metadata": {
    "ExecuteTime": {
     "end_time": "2018-05-21T17:13:25.544419Z",
     "start_time": "2018-05-21T17:13:25.530003Z"
    },
    "collapsed": true
   },
   "outputs": [],
   "source": [
    "data_path = \"{0}/dongfang/dongfang_csv\".format(Data_path)"
   ]
  },
  {
   "cell_type": "code",
   "execution_count": 3,
   "metadata": {
    "ExecuteTime": {
     "end_time": "2018-05-21T17:13:48.833792Z",
     "start_time": "2018-05-21T17:13:25.550678Z"
    },
    "collapsed": false
   },
   "outputs": [],
   "source": [
    "df = read_multi_csv(data_path)"
   ]
  },
  {
   "cell_type": "code",
   "execution_count": 4,
   "metadata": {
    "ExecuteTime": {
     "end_time": "2018-05-21T17:13:49.126360Z",
     "start_time": "2018-05-21T17:13:48.835872Z"
    },
    "collapsed": true
   },
   "outputs": [],
   "source": [
    "df1 = df.reset_index()"
   ]
  },
  {
   "cell_type": "code",
   "execution_count": 6,
   "metadata": {
    "ExecuteTime": {
     "end_time": "2018-05-21T17:14:10.284462Z",
     "start_time": "2018-05-21T17:14:10.278618Z"
    },
    "collapsed": false
   },
   "outputs": [
    {
     "data": {
      "text/plain": [
       "(330167, 21)"
      ]
     },
     "execution_count": 6,
     "metadata": {},
     "output_type": "execute_result"
    }
   ],
   "source": [
    "df1.shape"
   ]
  },
  {
   "cell_type": "code",
   "execution_count": 5,
   "metadata": {
    "ExecuteTime": {
     "end_time": "2018-05-21T17:13:49.159808Z",
     "start_time": "2018-05-21T17:13:49.128147Z"
    },
    "collapsed": false,
    "scrolled": true
   },
   "outputs": [
    {
     "data": {
      "text/plain": [
       "(330167, 20)"
      ]
     },
     "execution_count": 5,
     "metadata": {},
     "output_type": "execute_result"
    }
   ],
   "source": [
    "df.shape"
   ]
  },
  {
   "cell_type": "code",
   "execution_count": 7,
   "metadata": {
    "ExecuteTime": {
     "end_time": "2018-05-21T17:14:45.189426Z",
     "start_time": "2018-05-21T17:14:45.185449Z"
    },
    "collapsed": true
   },
   "outputs": [],
   "source": [
    "df=df1"
   ]
  },
  {
   "cell_type": "code",
   "execution_count": 8,
   "metadata": {
    "ExecuteTime": {
     "end_time": "2018-05-21T17:14:48.813174Z",
     "start_time": "2018-05-21T17:14:48.752850Z"
    },
    "collapsed": false
   },
   "outputs": [
    {
     "data": {
      "text/plain": [
       "(5452, 21)"
      ]
     },
     "execution_count": 8,
     "metadata": {},
     "output_type": "execute_result"
    }
   ],
   "source": [
    "df.loc[df.isSimulator_value == True].shape"
   ]
  },
  {
   "cell_type": "code",
   "execution_count": 9,
   "metadata": {
    "ExecuteTime": {
     "end_time": "2018-05-21T17:14:54.346192Z",
     "start_time": "2018-05-21T17:14:54.340741Z"
    },
    "collapsed": false
   },
   "outputs": [
    {
     "data": {
      "text/plain": [
       "dtype('bool')"
      ]
     },
     "execution_count": 9,
     "metadata": {},
     "output_type": "execute_result"
    }
   ],
   "source": [
    "df.isSimulator_value.dtype"
   ]
  },
  {
   "cell_type": "code",
   "execution_count": 10,
   "metadata": {
    "ExecuteTime": {
     "end_time": "2018-05-21T17:14:57.718886Z",
     "start_time": "2018-05-21T17:14:57.635181Z"
    },
    "collapsed": false
   },
   "outputs": [
    {
     "data": {
      "text/plain": [
       "count     330167\n",
       "unique         2\n",
       "top        False\n",
       "freq      324715\n",
       "Name: isSimulator_value, dtype: object"
      ]
     },
     "execution_count": 10,
     "metadata": {},
     "output_type": "execute_result"
    }
   ],
   "source": [
    "df.isSimulator_value.describe()"
   ]
  },
  {
   "cell_type": "code",
   "execution_count": 117,
   "metadata": {
    "ExecuteTime": {
     "end_time": "2018-05-21T17:02:31.500782Z",
     "start_time": "2018-05-21T17:02:31.068024Z"
    },
    "collapsed": true
   },
   "outputs": [],
   "source": [
    "df['isSimulator_value'] = df['isSimulator_value'].astype(bool)"
   ]
  },
  {
   "cell_type": "code",
   "execution_count": 124,
   "metadata": {
    "ExecuteTime": {
     "end_time": "2018-05-21T17:06:40.093556Z",
     "start_time": "2018-05-21T17:06:40.087611Z"
    },
    "collapsed": false
   },
   "outputs": [
    {
     "data": {
      "text/plain": [
       "(16418,)"
      ]
     },
     "execution_count": 124,
     "metadata": {},
     "output_type": "execute_result"
    }
   ],
   "source": [
    "df.isSimulator_value.shape"
   ]
  },
  {
   "cell_type": "code",
   "execution_count": 134,
   "metadata": {
    "ExecuteTime": {
     "end_time": "2018-05-21T17:09:01.790127Z",
     "start_time": "2018-05-21T17:09:01.772286Z"
    },
    "collapsed": false
   },
   "outputs": [
    {
     "data": {
      "text/plain": [
       "(16418, 24)"
      ]
     },
     "execution_count": 134,
     "metadata": {},
     "output_type": "execute_result"
    }
   ],
   "source": [
    "df.reset_index().shape"
   ]
  },
  {
   "cell_type": "code",
   "execution_count": 129,
   "metadata": {
    "ExecuteTime": {
     "end_time": "2018-05-21T17:07:53.579447Z",
     "start_time": "2018-05-21T17:07:53.559270Z"
    },
    "collapsed": false
   },
   "outputs": [
    {
     "data": {
      "text/html": [
       "<div>\n",
       "<style scoped>\n",
       "    .dataframe tbody tr th:only-of-type {\n",
       "        vertical-align: middle;\n",
       "    }\n",
       "\n",
       "    .dataframe tbody tr th {\n",
       "        vertical-align: top;\n",
       "    }\n",
       "\n",
       "    .dataframe thead th {\n",
       "        text-align: right;\n",
       "    }\n",
       "</style>\n",
       "<table border=\"1\" class=\"dataframe\">\n",
       "  <thead>\n",
       "    <tr style=\"text-align: right;\">\n",
       "      <th></th>\n",
       "      <th>isSimulator_value</th>\n",
       "    </tr>\n",
       "  </thead>\n",
       "  <tbody>\n",
       "    <tr>\n",
       "      <th>932</th>\n",
       "      <td>False</td>\n",
       "    </tr>\n",
       "    <tr>\n",
       "      <th>933</th>\n",
       "      <td>False</td>\n",
       "    </tr>\n",
       "    <tr>\n",
       "      <th>934</th>\n",
       "      <td>True</td>\n",
       "    </tr>\n",
       "    <tr>\n",
       "      <th>935</th>\n",
       "      <td>False</td>\n",
       "    </tr>\n",
       "    <tr>\n",
       "      <th>936</th>\n",
       "      <td>False</td>\n",
       "    </tr>\n",
       "    <tr>\n",
       "      <th>937</th>\n",
       "      <td>False</td>\n",
       "    </tr>\n",
       "    <tr>\n",
       "      <th>938</th>\n",
       "      <td>False</td>\n",
       "    </tr>\n",
       "    <tr>\n",
       "      <th>939</th>\n",
       "      <td>False</td>\n",
       "    </tr>\n",
       "    <tr>\n",
       "      <th>940</th>\n",
       "      <td>False</td>\n",
       "    </tr>\n",
       "    <tr>\n",
       "      <th>941</th>\n",
       "      <td>False</td>\n",
       "    </tr>\n",
       "  </tbody>\n",
       "</table>\n",
       "</div>"
      ],
      "text/plain": [
       "     isSimulator_value\n",
       "932              False\n",
       "933              False\n",
       "934               True\n",
       "935              False\n",
       "936              False\n",
       "937              False\n",
       "938              False\n",
       "939              False\n",
       "940              False\n",
       "941              False"
      ]
     },
     "execution_count": 129,
     "metadata": {},
     "output_type": "execute_result"
    }
   ],
   "source": [
    "df[['isSimulator_value']].head(10)"
   ]
  },
  {
   "cell_type": "code",
   "execution_count": 107,
   "metadata": {
    "ExecuteTime": {
     "end_time": "2018-05-21T16:56:15.952843Z",
     "start_time": "2018-05-21T16:56:11.900345Z"
    },
    "collapsed": true
   },
   "outputs": [],
   "source": [
    "df['time'] = pd.to_datetime(df['timestamp'], unit='ms', utc=True)\n",
    "df['hour'] = df.time.dt.hour\n",
    "df['day'] = df['time'].dt.strftime(\"%Y/%m/%d\")\n",
    "df = df.loc[(df.day == '2018/05/13') & (df.city != 'UNKNOWN')]\n",
    "df1 = df.groupby(['city', 'hour'], as_index=False).agg({'event_id': 'count'}).rename(columns={'event_id': u'事件数'})\n",
    "df2 = df.loc[df.isSimulator_value == True].groupby(['city', 'hour'], as_index=False).agg(\n",
    "    {'event_id': 'count'}).rename(columns={'event_id': u'使用模拟器数量'})\n",
    "df3 = df1.merge(df2, on=['city', 'hour'], how='right').rename(columns={'city': u'城市', 'hour': u'时间'})\n",
    "df3[u'使用模拟器的比例'] = df3[u'使用模拟器数量'] / df3[u'事件数']"
   ]
  },
  {
   "cell_type": "code",
   "execution_count": 108,
   "metadata": {
    "ExecuteTime": {
     "end_time": "2018-05-21T16:56:35.037205Z",
     "start_time": "2018-05-21T16:56:34.999782Z"
    },
    "collapsed": false
   },
   "outputs": [
    {
     "data": {
      "text/html": [
       "<div>\n",
       "<style scoped>\n",
       "    .dataframe tbody tr th:only-of-type {\n",
       "        vertical-align: middle;\n",
       "    }\n",
       "\n",
       "    .dataframe tbody tr th {\n",
       "        vertical-align: top;\n",
       "    }\n",
       "\n",
       "    .dataframe thead th {\n",
       "        text-align: right;\n",
       "    }\n",
       "</style>\n",
       "<table border=\"1\" class=\"dataframe\">\n",
       "  <thead>\n",
       "    <tr style=\"text-align: right;\">\n",
       "      <th></th>\n",
       "      <th>城市</th>\n",
       "      <th>时间</th>\n",
       "      <th>事件数</th>\n",
       "      <th>使用模拟器数量</th>\n",
       "      <th>使用模拟器的比例</th>\n",
       "    </tr>\n",
       "  </thead>\n",
       "  <tbody>\n",
       "    <tr>\n",
       "      <th>0</th>\n",
       "      <td>七台河市</td>\n",
       "      <td>5</td>\n",
       "      <td>8</td>\n",
       "      <td>1</td>\n",
       "      <td>0.125000</td>\n",
       "    </tr>\n",
       "    <tr>\n",
       "      <th>1</th>\n",
       "      <td>三明市</td>\n",
       "      <td>7</td>\n",
       "      <td>4</td>\n",
       "      <td>1</td>\n",
       "      <td>0.250000</td>\n",
       "    </tr>\n",
       "    <tr>\n",
       "      <th>2</th>\n",
       "      <td>三门峡市</td>\n",
       "      <td>7</td>\n",
       "      <td>8</td>\n",
       "      <td>1</td>\n",
       "      <td>0.125000</td>\n",
       "    </tr>\n",
       "    <tr>\n",
       "      <th>3</th>\n",
       "      <td>临汾市</td>\n",
       "      <td>3</td>\n",
       "      <td>30</td>\n",
       "      <td>1</td>\n",
       "      <td>0.033333</td>\n",
       "    </tr>\n",
       "    <tr>\n",
       "      <th>4</th>\n",
       "      <td>北京市</td>\n",
       "      <td>5</td>\n",
       "      <td>60</td>\n",
       "      <td>1</td>\n",
       "      <td>0.016667</td>\n",
       "    </tr>\n",
       "    <tr>\n",
       "      <th>5</th>\n",
       "      <td>北京市</td>\n",
       "      <td>6</td>\n",
       "      <td>68</td>\n",
       "      <td>1</td>\n",
       "      <td>0.014706</td>\n",
       "    </tr>\n",
       "    <tr>\n",
       "      <th>6</th>\n",
       "      <td>北海市</td>\n",
       "      <td>1</td>\n",
       "      <td>10</td>\n",
       "      <td>9</td>\n",
       "      <td>0.900000</td>\n",
       "    </tr>\n",
       "    <tr>\n",
       "      <th>7</th>\n",
       "      <td>十堰市</td>\n",
       "      <td>5</td>\n",
       "      <td>11</td>\n",
       "      <td>1</td>\n",
       "      <td>0.090909</td>\n",
       "    </tr>\n",
       "    <tr>\n",
       "      <th>8</th>\n",
       "      <td>南京市</td>\n",
       "      <td>13</td>\n",
       "      <td>2</td>\n",
       "      <td>1</td>\n",
       "      <td>0.500000</td>\n",
       "    </tr>\n",
       "    <tr>\n",
       "      <th>9</th>\n",
       "      <td>南阳市</td>\n",
       "      <td>5</td>\n",
       "      <td>12</td>\n",
       "      <td>2</td>\n",
       "      <td>0.166667</td>\n",
       "    </tr>\n",
       "  </tbody>\n",
       "</table>\n",
       "</div>"
      ],
      "text/plain": [
       "     城市  时间  事件数  使用模拟器数量  使用模拟器的比例\n",
       "0  七台河市   5    8        1  0.125000\n",
       "1   三明市   7    4        1  0.250000\n",
       "2  三门峡市   7    8        1  0.125000\n",
       "3   临汾市   3   30        1  0.033333\n",
       "4   北京市   5   60        1  0.016667\n",
       "5   北京市   6   68        1  0.014706\n",
       "6   北海市   1   10        9  0.900000\n",
       "7   十堰市   5   11        1  0.090909\n",
       "8   南京市  13    2        1  0.500000\n",
       "9   南阳市   5   12        2  0.166667"
      ]
     },
     "execution_count": 108,
     "metadata": {},
     "output_type": "execute_result"
    }
   ],
   "source": [
    "df3.head(10)"
   ]
  },
  {
   "cell_type": "code",
   "execution_count": 5,
   "metadata": {
    "ExecuteTime": {
     "end_time": "2018-05-16T17:55:09.603727Z",
     "start_time": "2018-05-16T17:55:06.911814Z"
    },
    "collapsed": false
   },
   "outputs": [
    {
     "data": {
      "text/html": [
       "<div>\n",
       "<style scoped>\n",
       "    .dataframe tbody tr th:only-of-type {\n",
       "        vertical-align: middle;\n",
       "    }\n",
       "\n",
       "    .dataframe tbody tr th {\n",
       "        vertical-align: top;\n",
       "    }\n",
       "\n",
       "    .dataframe thead th {\n",
       "        text-align: right;\n",
       "    }\n",
       "</style>\n",
       "<table border=\"1\" class=\"dataframe\">\n",
       "  <thead>\n",
       "    <tr style=\"text-align: right;\">\n",
       "      <th></th>\n",
       "      <th>sub_pid_seller</th>\n",
       "      <th>event_id</th>\n",
       "      <th>maxentID</th>\n",
       "      <th>score</th>\n",
       "    </tr>\n",
       "  </thead>\n",
       "  <tbody>\n",
       "    <tr>\n",
       "      <th>0</th>\n",
       "      <td>huitt_articledown</td>\n",
       "      <td>44213</td>\n",
       "      <td>30667</td>\n",
       "      <td>68.301383</td>\n",
       "    </tr>\n",
       "    <tr>\n",
       "      <th>1</th>\n",
       "      <td>huitt_six</td>\n",
       "      <td>4318</td>\n",
       "      <td>3414</td>\n",
       "      <td>41.622163</td>\n",
       "    </tr>\n",
       "    <tr>\n",
       "      <th>2</th>\n",
       "      <td>huitt_three</td>\n",
       "      <td>131935</td>\n",
       "      <td>66065</td>\n",
       "      <td>87.407385</td>\n",
       "    </tr>\n",
       "    <tr>\n",
       "      <th>3</th>\n",
       "      <td>huitt_threedown_1</td>\n",
       "      <td>5192</td>\n",
       "      <td>4167</td>\n",
       "      <td>45.271501</td>\n",
       "    </tr>\n",
       "    <tr>\n",
       "      <th>4</th>\n",
       "      <td>huitt_threedown_2</td>\n",
       "      <td>792</td>\n",
       "      <td>642</td>\n",
       "      <td>34.065417</td>\n",
       "    </tr>\n",
       "    <tr>\n",
       "      <th>5</th>\n",
       "      <td>huitt_threedown_3</td>\n",
       "      <td>3497</td>\n",
       "      <td>2891</td>\n",
       "      <td>39.525791</td>\n",
       "    </tr>\n",
       "    <tr>\n",
       "      <th>6</th>\n",
       "      <td>huitt_threedown_4</td>\n",
       "      <td>1767</td>\n",
       "      <td>1446</td>\n",
       "      <td>24.850021</td>\n",
       "    </tr>\n",
       "    <tr>\n",
       "      <th>7</th>\n",
       "      <td>huitt_threedown_5</td>\n",
       "      <td>1034</td>\n",
       "      <td>856</td>\n",
       "      <td>27.640041</td>\n",
       "    </tr>\n",
       "    <tr>\n",
       "      <th>8</th>\n",
       "      <td>huitt_threemiddle_1</td>\n",
       "      <td>5438</td>\n",
       "      <td>4370</td>\n",
       "      <td>37.424619</td>\n",
       "    </tr>\n",
       "    <tr>\n",
       "      <th>9</th>\n",
       "      <td>huitt_threemiddle_2</td>\n",
       "      <td>16016</td>\n",
       "      <td>12091</td>\n",
       "      <td>38.789218</td>\n",
       "    </tr>\n",
       "    <tr>\n",
       "      <th>10</th>\n",
       "      <td>huitt_threemiddle_3</td>\n",
       "      <td>1645</td>\n",
       "      <td>1369</td>\n",
       "      <td>26.008305</td>\n",
       "    </tr>\n",
       "    <tr>\n",
       "      <th>11</th>\n",
       "      <td>huitt_threemiddle_4</td>\n",
       "      <td>5949</td>\n",
       "      <td>4762</td>\n",
       "      <td>34.146461</td>\n",
       "    </tr>\n",
       "    <tr>\n",
       "      <th>12</th>\n",
       "      <td>huitt_threemiddle_5</td>\n",
       "      <td>1999</td>\n",
       "      <td>1589</td>\n",
       "      <td>30.257169</td>\n",
       "    </tr>\n",
       "    <tr>\n",
       "      <th>13</th>\n",
       "      <td>huitt_threeup_1</td>\n",
       "      <td>12487</td>\n",
       "      <td>9710</td>\n",
       "      <td>46.328604</td>\n",
       "    </tr>\n",
       "    <tr>\n",
       "      <th>14</th>\n",
       "      <td>huitt_threeup_2</td>\n",
       "      <td>247</td>\n",
       "      <td>211</td>\n",
       "      <td>31.543827</td>\n",
       "    </tr>\n",
       "    <tr>\n",
       "      <th>15</th>\n",
       "      <td>huitt_threeup_3</td>\n",
       "      <td>8661</td>\n",
       "      <td>6631</td>\n",
       "      <td>31.336501</td>\n",
       "    </tr>\n",
       "    <tr>\n",
       "      <th>16</th>\n",
       "      <td>huitt_threeup_4</td>\n",
       "      <td>4931</td>\n",
       "      <td>3963</td>\n",
       "      <td>32.146150</td>\n",
       "    </tr>\n",
       "    <tr>\n",
       "      <th>17</th>\n",
       "      <td>huitt_threeup_5</td>\n",
       "      <td>8410</td>\n",
       "      <td>6564</td>\n",
       "      <td>33.144819</td>\n",
       "    </tr>\n",
       "    <tr>\n",
       "      <th>18</th>\n",
       "      <td>xiaozhinew_six</td>\n",
       "      <td>3607</td>\n",
       "      <td>2401</td>\n",
       "      <td>29.770011</td>\n",
       "    </tr>\n",
       "    <tr>\n",
       "      <th>19</th>\n",
       "      <td>xiaozhinew_three_down</td>\n",
       "      <td>25807</td>\n",
       "      <td>16111</td>\n",
       "      <td>48.636265</td>\n",
       "    </tr>\n",
       "    <tr>\n",
       "      <th>20</th>\n",
       "      <td>xiaozhinew_three_up</td>\n",
       "      <td>42222</td>\n",
       "      <td>25776</td>\n",
       "      <td>47.335332</td>\n",
       "    </tr>\n",
       "  </tbody>\n",
       "</table>\n",
       "</div>"
      ],
      "text/plain": [
       "           sub_pid_seller  event_id  maxentID      score\n",
       "0       huitt_articledown     44213     30667  68.301383\n",
       "1               huitt_six      4318      3414  41.622163\n",
       "2             huitt_three    131935     66065  87.407385\n",
       "3       huitt_threedown_1      5192      4167  45.271501\n",
       "4       huitt_threedown_2       792       642  34.065417\n",
       "5       huitt_threedown_3      3497      2891  39.525791\n",
       "6       huitt_threedown_4      1767      1446  24.850021\n",
       "7       huitt_threedown_5      1034       856  27.640041\n",
       "8     huitt_threemiddle_1      5438      4370  37.424619\n",
       "9     huitt_threemiddle_2     16016     12091  38.789218\n",
       "10    huitt_threemiddle_3      1645      1369  26.008305\n",
       "11    huitt_threemiddle_4      5949      4762  34.146461\n",
       "12    huitt_threemiddle_5      1999      1589  30.257169\n",
       "13        huitt_threeup_1     12487      9710  46.328604\n",
       "14        huitt_threeup_2       247       211  31.543827\n",
       "15        huitt_threeup_3      8661      6631  31.336501\n",
       "16        huitt_threeup_4      4931      3963  32.146150\n",
       "17        huitt_threeup_5      8410      6564  33.144819\n",
       "18         xiaozhinew_six      3607      2401  29.770011\n",
       "19  xiaozhinew_three_down     25807     16111  48.636265\n",
       "20    xiaozhinew_three_up     42222     25776  47.335332"
      ]
     },
     "execution_count": 5,
     "metadata": {},
     "output_type": "execute_result"
    }
   ],
   "source": [
    "df.groupby('sub_pid_seller', as_index=False).agg({'score': 'mean', 'event_id': 'nunique', 'maxentID': 'nunique'})"
   ]
  },
  {
   "cell_type": "code",
   "execution_count": 30,
   "metadata": {
    "ExecuteTime": {
     "end_time": "2018-05-16T18:06:35.153633Z",
     "start_time": "2018-05-16T18:06:35.091050Z"
    },
    "collapsed": true
   },
   "outputs": [],
   "source": [
    "df['time'] = pd.to_datetime(df['timestamp'], unit='ms', utc=True)"
   ]
  },
  {
   "cell_type": "code",
   "execution_count": 31,
   "metadata": {
    "ExecuteTime": {
     "end_time": "2018-05-16T18:06:37.121115Z",
     "start_time": "2018-05-16T18:06:37.116255Z"
    },
    "collapsed": true
   },
   "outputs": [],
   "source": [
    "# df['time'] = df['time'].dt.strftime(\"%Y/%m/%d %H:%M\")"
   ]
  },
  {
   "cell_type": "code",
   "execution_count": 32,
   "metadata": {
    "ExecuteTime": {
     "end_time": "2018-05-16T18:06:37.944126Z",
     "start_time": "2018-05-16T18:06:37.922608Z"
    },
    "collapsed": false
   },
   "outputs": [
    {
     "data": {
      "text/plain": [
       "datetime64[ns, UTC]"
      ]
     },
     "execution_count": 32,
     "metadata": {},
     "output_type": "execute_result"
    }
   ],
   "source": [
    "df.time.dtype"
   ]
  },
  {
   "cell_type": "code",
   "execution_count": 33,
   "metadata": {
    "ExecuteTime": {
     "end_time": "2018-05-16T18:06:39.969368Z",
     "start_time": "2018-05-16T18:06:39.964877Z"
    },
    "collapsed": true
   },
   "outputs": [],
   "source": [
    "from pandas import Grouper"
   ]
  },
  {
   "cell_type": "code",
   "execution_count": 34,
   "metadata": {
    "ExecuteTime": {
     "end_time": "2018-05-16T18:06:40.847476Z",
     "start_time": "2018-05-16T18:06:40.841140Z"
    },
    "collapsed": true
   },
   "outputs": [],
   "source": [
    "g = Grouper(key='time', freq='1H')"
   ]
  },
  {
   "cell_type": "code",
   "execution_count": 47,
   "metadata": {
    "ExecuteTime": {
     "end_time": "2018-05-16T18:18:28.332130Z",
     "start_time": "2018-05-16T18:18:27.211087Z"
    },
    "collapsed": false
   },
   "outputs": [
    {
     "data": {
      "text/html": [
       "<div>\n",
       "<style scoped>\n",
       "    .dataframe tbody tr th:only-of-type {\n",
       "        vertical-align: middle;\n",
       "    }\n",
       "\n",
       "    .dataframe tbody tr th {\n",
       "        vertical-align: top;\n",
       "    }\n",
       "\n",
       "    .dataframe thead th {\n",
       "        text-align: right;\n",
       "    }\n",
       "</style>\n",
       "<table border=\"1\" class=\"dataframe\">\n",
       "  <thead>\n",
       "    <tr style=\"text-align: right;\">\n",
       "      <th></th>\n",
       "      <th>ipSeg24</th>\n",
       "      <th>event_id</th>\n",
       "    </tr>\n",
       "    <tr>\n",
       "      <th>time</th>\n",
       "      <th></th>\n",
       "      <th></th>\n",
       "    </tr>\n",
       "  </thead>\n",
       "  <tbody>\n",
       "    <tr>\n",
       "      <th>2018-05-13 14:00:00+00:00</th>\n",
       "      <td>111.19.124</td>\n",
       "      <td>142</td>\n",
       "    </tr>\n",
       "    <tr>\n",
       "      <th>2018-05-12 10:00:00+00:00</th>\n",
       "      <td>223.104.17</td>\n",
       "      <td>106</td>\n",
       "    </tr>\n",
       "    <tr>\n",
       "      <th>2018-05-13 05:00:00+00:00</th>\n",
       "      <td>223.104.94</td>\n",
       "      <td>105</td>\n",
       "    </tr>\n",
       "    <tr>\n",
       "      <th>2018-05-07 03:00:00+00:00</th>\n",
       "      <td>111.58.147</td>\n",
       "      <td>92</td>\n",
       "    </tr>\n",
       "    <tr>\n",
       "      <th>2018-05-15 11:00:00+00:00</th>\n",
       "      <td>112.101.112</td>\n",
       "      <td>88</td>\n",
       "    </tr>\n",
       "    <tr>\n",
       "      <th>2018-05-12 22:00:00+00:00</th>\n",
       "      <td>223.104.90</td>\n",
       "      <td>68</td>\n",
       "    </tr>\n",
       "    <tr>\n",
       "      <th>2018-05-07 12:00:00+00:00</th>\n",
       "      <td>117.136.98</td>\n",
       "      <td>61</td>\n",
       "    </tr>\n",
       "    <tr>\n",
       "      <th>2018-05-11 02:00:00+00:00</th>\n",
       "      <td>183.200.194</td>\n",
       "      <td>55</td>\n",
       "    </tr>\n",
       "    <tr>\n",
       "      <th>2018-05-07 09:00:00+00:00</th>\n",
       "      <td>223.104.22</td>\n",
       "      <td>52</td>\n",
       "    </tr>\n",
       "    <tr>\n",
       "      <th>2018-05-07 08:00:00+00:00</th>\n",
       "      <td>111.58.194</td>\n",
       "      <td>52</td>\n",
       "    </tr>\n",
       "    <tr>\n",
       "      <th>2018-05-03 14:00:00+00:00</th>\n",
       "      <td>223.104.23</td>\n",
       "      <td>50</td>\n",
       "    </tr>\n",
       "    <tr>\n",
       "      <th>2018-05-05 05:00:00+00:00</th>\n",
       "      <td>1.56.84</td>\n",
       "      <td>49</td>\n",
       "    </tr>\n",
       "    <tr>\n",
       "      <th>2018-05-14 15:00:00+00:00</th>\n",
       "      <td>117.182.60</td>\n",
       "      <td>46</td>\n",
       "    </tr>\n",
       "    <tr>\n",
       "      <th>2018-05-07 04:00:00+00:00</th>\n",
       "      <td>111.58.147</td>\n",
       "      <td>45</td>\n",
       "    </tr>\n",
       "    <tr>\n",
       "      <th>2018-05-03 08:00:00+00:00</th>\n",
       "      <td>117.182.58</td>\n",
       "      <td>43</td>\n",
       "    </tr>\n",
       "    <tr>\n",
       "      <th>2018-05-14 18:00:00+00:00</th>\n",
       "      <td>117.136.45</td>\n",
       "      <td>41</td>\n",
       "    </tr>\n",
       "    <tr>\n",
       "      <th>2018-05-11 07:00:00+00:00</th>\n",
       "      <td>117.181.95</td>\n",
       "      <td>41</td>\n",
       "    </tr>\n",
       "    <tr>\n",
       "      <th>2018-05-08 13:00:00+00:00</th>\n",
       "      <td>223.104.35</td>\n",
       "      <td>40</td>\n",
       "    </tr>\n",
       "    <tr>\n",
       "      <th>2018-05-03 15:00:00+00:00</th>\n",
       "      <td>223.104.23</td>\n",
       "      <td>37</td>\n",
       "    </tr>\n",
       "    <tr>\n",
       "      <th>2018-05-09 10:00:00+00:00</th>\n",
       "      <td>117.136.7</td>\n",
       "      <td>37</td>\n",
       "    </tr>\n",
       "    <tr>\n",
       "      <th>2018-05-08 12:00:00+00:00</th>\n",
       "      <td>223.104.90</td>\n",
       "      <td>36</td>\n",
       "    </tr>\n",
       "    <tr>\n",
       "      <th>2018-05-09 10:00:00+00:00</th>\n",
       "      <td>125.62.5</td>\n",
       "      <td>36</td>\n",
       "    </tr>\n",
       "    <tr>\n",
       "      <th>2018-05-06 14:00:00+00:00</th>\n",
       "      <td>117.182.100</td>\n",
       "      <td>34</td>\n",
       "    </tr>\n",
       "    <tr>\n",
       "      <th>2018-05-06 14:00:00+00:00</th>\n",
       "      <td>223.104.91</td>\n",
       "      <td>34</td>\n",
       "    </tr>\n",
       "    <tr>\n",
       "      <th>2018-04-30 16:00:00+00:00</th>\n",
       "      <td>114.139.1</td>\n",
       "      <td>33</td>\n",
       "    </tr>\n",
       "    <tr>\n",
       "      <th>2018-05-12 01:00:00+00:00</th>\n",
       "      <td>117.142.100</td>\n",
       "      <td>33</td>\n",
       "    </tr>\n",
       "    <tr>\n",
       "      <th>2018-05-09 10:00:00+00:00</th>\n",
       "      <td>61.167.167</td>\n",
       "      <td>33</td>\n",
       "    </tr>\n",
       "    <tr>\n",
       "      <th>2018-05-03 12:00:00+00:00</th>\n",
       "      <td>111.58.126</td>\n",
       "      <td>33</td>\n",
       "    </tr>\n",
       "    <tr>\n",
       "      <th>2018-05-05 12:00:00+00:00</th>\n",
       "      <td>117.142.100</td>\n",
       "      <td>32</td>\n",
       "    </tr>\n",
       "    <tr>\n",
       "      <th>2018-05-07 09:00:00+00:00</th>\n",
       "      <td>111.58.194</td>\n",
       "      <td>32</td>\n",
       "    </tr>\n",
       "    <tr>\n",
       "      <th>...</th>\n",
       "      <td>...</td>\n",
       "      <td>...</td>\n",
       "    </tr>\n",
       "    <tr>\n",
       "      <th>2018-05-06 15:00:00+00:00</th>\n",
       "      <td>117.141.145</td>\n",
       "      <td>1</td>\n",
       "    </tr>\n",
       "    <tr>\n",
       "      <th>2018-05-06 15:00:00+00:00</th>\n",
       "      <td>223.104.16</td>\n",
       "      <td>1</td>\n",
       "    </tr>\n",
       "    <tr>\n",
       "      <th>2018-05-06 15:00:00+00:00</th>\n",
       "      <td>125.44.164</td>\n",
       "      <td>1</td>\n",
       "    </tr>\n",
       "    <tr>\n",
       "      <th>2018-05-06 15:00:00+00:00</th>\n",
       "      <td>36.4.102</td>\n",
       "      <td>1</td>\n",
       "    </tr>\n",
       "    <tr>\n",
       "      <th>2018-05-06 14:00:00+00:00</th>\n",
       "      <td>223.104.16</td>\n",
       "      <td>1</td>\n",
       "    </tr>\n",
       "    <tr>\n",
       "      <th>2018-05-06 14:00:00+00:00</th>\n",
       "      <td>182.133.11</td>\n",
       "      <td>1</td>\n",
       "    </tr>\n",
       "    <tr>\n",
       "      <th>2018-05-06 14:00:00+00:00</th>\n",
       "      <td>183.253.134</td>\n",
       "      <td>1</td>\n",
       "    </tr>\n",
       "    <tr>\n",
       "      <th>2018-05-06 14:00:00+00:00</th>\n",
       "      <td>39.130.32</td>\n",
       "      <td>1</td>\n",
       "    </tr>\n",
       "    <tr>\n",
       "      <th>2018-05-06 14:00:00+00:00</th>\n",
       "      <td>27.98.252</td>\n",
       "      <td>1</td>\n",
       "    </tr>\n",
       "    <tr>\n",
       "      <th>2018-05-06 14:00:00+00:00</th>\n",
       "      <td>125.62.40</td>\n",
       "      <td>1</td>\n",
       "    </tr>\n",
       "    <tr>\n",
       "      <th>2018-05-06 14:00:00+00:00</th>\n",
       "      <td>111.178.115</td>\n",
       "      <td>1</td>\n",
       "    </tr>\n",
       "    <tr>\n",
       "      <th>2018-05-06 14:00:00+00:00</th>\n",
       "      <td>171.119.40</td>\n",
       "      <td>1</td>\n",
       "    </tr>\n",
       "    <tr>\n",
       "      <th>2018-05-06 14:00:00+00:00</th>\n",
       "      <td>111.176.159</td>\n",
       "      <td>1</td>\n",
       "    </tr>\n",
       "    <tr>\n",
       "      <th>2018-05-06 14:00:00+00:00</th>\n",
       "      <td>117.136.14</td>\n",
       "      <td>1</td>\n",
       "    </tr>\n",
       "    <tr>\n",
       "      <th>2018-05-06 14:00:00+00:00</th>\n",
       "      <td>118.114.131</td>\n",
       "      <td>1</td>\n",
       "    </tr>\n",
       "    <tr>\n",
       "      <th>2018-05-06 14:00:00+00:00</th>\n",
       "      <td>1.24.123</td>\n",
       "      <td>1</td>\n",
       "    </tr>\n",
       "    <tr>\n",
       "      <th>2018-05-06 14:00:00+00:00</th>\n",
       "      <td>123.53.74</td>\n",
       "      <td>1</td>\n",
       "    </tr>\n",
       "    <tr>\n",
       "      <th>2018-05-06 14:00:00+00:00</th>\n",
       "      <td>182.241.22</td>\n",
       "      <td>1</td>\n",
       "    </tr>\n",
       "    <tr>\n",
       "      <th>2018-05-06 14:00:00+00:00</th>\n",
       "      <td>139.170.228</td>\n",
       "      <td>1</td>\n",
       "    </tr>\n",
       "    <tr>\n",
       "      <th>2018-05-06 14:00:00+00:00</th>\n",
       "      <td>112.41.251</td>\n",
       "      <td>1</td>\n",
       "    </tr>\n",
       "    <tr>\n",
       "      <th>2018-05-06 14:00:00+00:00</th>\n",
       "      <td>117.163.224</td>\n",
       "      <td>1</td>\n",
       "    </tr>\n",
       "    <tr>\n",
       "      <th>2018-05-06 14:00:00+00:00</th>\n",
       "      <td>182.131.86</td>\n",
       "      <td>1</td>\n",
       "    </tr>\n",
       "    <tr>\n",
       "      <th>2018-05-06 14:00:00+00:00</th>\n",
       "      <td>117.150.155</td>\n",
       "      <td>1</td>\n",
       "    </tr>\n",
       "    <tr>\n",
       "      <th>2018-05-06 14:00:00+00:00</th>\n",
       "      <td>106.45.147</td>\n",
       "      <td>1</td>\n",
       "    </tr>\n",
       "    <tr>\n",
       "      <th>2018-05-06 14:00:00+00:00</th>\n",
       "      <td>223.88.146</td>\n",
       "      <td>1</td>\n",
       "    </tr>\n",
       "    <tr>\n",
       "      <th>2018-05-06 14:00:00+00:00</th>\n",
       "      <td>120.34.255</td>\n",
       "      <td>1</td>\n",
       "    </tr>\n",
       "    <tr>\n",
       "      <th>2018-05-06 14:00:00+00:00</th>\n",
       "      <td>103.85.144</td>\n",
       "      <td>1</td>\n",
       "    </tr>\n",
       "    <tr>\n",
       "      <th>2018-05-06 14:00:00+00:00</th>\n",
       "      <td>113.13.114</td>\n",
       "      <td>1</td>\n",
       "    </tr>\n",
       "    <tr>\n",
       "      <th>2018-05-06 14:00:00+00:00</th>\n",
       "      <td>117.178.61</td>\n",
       "      <td>1</td>\n",
       "    </tr>\n",
       "    <tr>\n",
       "      <th>2018-05-15 15:00:00+00:00</th>\n",
       "      <td>110.89.209</td>\n",
       "      <td>1</td>\n",
       "    </tr>\n",
       "  </tbody>\n",
       "</table>\n",
       "<p>236762 rows × 2 columns</p>\n",
       "</div>"
      ],
      "text/plain": [
       "                               ipSeg24  event_id\n",
       "time                                            \n",
       "2018-05-13 14:00:00+00:00   111.19.124       142\n",
       "2018-05-12 10:00:00+00:00   223.104.17       106\n",
       "2018-05-13 05:00:00+00:00   223.104.94       105\n",
       "2018-05-07 03:00:00+00:00   111.58.147        92\n",
       "2018-05-15 11:00:00+00:00  112.101.112        88\n",
       "2018-05-12 22:00:00+00:00   223.104.90        68\n",
       "2018-05-07 12:00:00+00:00   117.136.98        61\n",
       "2018-05-11 02:00:00+00:00  183.200.194        55\n",
       "2018-05-07 09:00:00+00:00   223.104.22        52\n",
       "2018-05-07 08:00:00+00:00   111.58.194        52\n",
       "2018-05-03 14:00:00+00:00   223.104.23        50\n",
       "2018-05-05 05:00:00+00:00      1.56.84        49\n",
       "2018-05-14 15:00:00+00:00   117.182.60        46\n",
       "2018-05-07 04:00:00+00:00   111.58.147        45\n",
       "2018-05-03 08:00:00+00:00   117.182.58        43\n",
       "2018-05-14 18:00:00+00:00   117.136.45        41\n",
       "2018-05-11 07:00:00+00:00   117.181.95        41\n",
       "2018-05-08 13:00:00+00:00   223.104.35        40\n",
       "2018-05-03 15:00:00+00:00   223.104.23        37\n",
       "2018-05-09 10:00:00+00:00    117.136.7        37\n",
       "2018-05-08 12:00:00+00:00   223.104.90        36\n",
       "2018-05-09 10:00:00+00:00     125.62.5        36\n",
       "2018-05-06 14:00:00+00:00  117.182.100        34\n",
       "2018-05-06 14:00:00+00:00   223.104.91        34\n",
       "2018-04-30 16:00:00+00:00    114.139.1        33\n",
       "2018-05-12 01:00:00+00:00  117.142.100        33\n",
       "2018-05-09 10:00:00+00:00   61.167.167        33\n",
       "2018-05-03 12:00:00+00:00   111.58.126        33\n",
       "2018-05-05 12:00:00+00:00  117.142.100        32\n",
       "2018-05-07 09:00:00+00:00   111.58.194        32\n",
       "...                                ...       ...\n",
       "2018-05-06 15:00:00+00:00  117.141.145         1\n",
       "2018-05-06 15:00:00+00:00   223.104.16         1\n",
       "2018-05-06 15:00:00+00:00   125.44.164         1\n",
       "2018-05-06 15:00:00+00:00     36.4.102         1\n",
       "2018-05-06 14:00:00+00:00   223.104.16         1\n",
       "2018-05-06 14:00:00+00:00   182.133.11         1\n",
       "2018-05-06 14:00:00+00:00  183.253.134         1\n",
       "2018-05-06 14:00:00+00:00    39.130.32         1\n",
       "2018-05-06 14:00:00+00:00    27.98.252         1\n",
       "2018-05-06 14:00:00+00:00    125.62.40         1\n",
       "2018-05-06 14:00:00+00:00  111.178.115         1\n",
       "2018-05-06 14:00:00+00:00   171.119.40         1\n",
       "2018-05-06 14:00:00+00:00  111.176.159         1\n",
       "2018-05-06 14:00:00+00:00   117.136.14         1\n",
       "2018-05-06 14:00:00+00:00  118.114.131         1\n",
       "2018-05-06 14:00:00+00:00     1.24.123         1\n",
       "2018-05-06 14:00:00+00:00    123.53.74         1\n",
       "2018-05-06 14:00:00+00:00   182.241.22         1\n",
       "2018-05-06 14:00:00+00:00  139.170.228         1\n",
       "2018-05-06 14:00:00+00:00   112.41.251         1\n",
       "2018-05-06 14:00:00+00:00  117.163.224         1\n",
       "2018-05-06 14:00:00+00:00   182.131.86         1\n",
       "2018-05-06 14:00:00+00:00  117.150.155         1\n",
       "2018-05-06 14:00:00+00:00   106.45.147         1\n",
       "2018-05-06 14:00:00+00:00   223.88.146         1\n",
       "2018-05-06 14:00:00+00:00   120.34.255         1\n",
       "2018-05-06 14:00:00+00:00   103.85.144         1\n",
       "2018-05-06 14:00:00+00:00   113.13.114         1\n",
       "2018-05-06 14:00:00+00:00   117.178.61         1\n",
       "2018-05-15 15:00:00+00:00   110.89.209         1\n",
       "\n",
       "[236762 rows x 2 columns]"
      ]
     },
     "execution_count": 47,
     "metadata": {},
     "output_type": "execute_result"
    }
   ],
   "source": [
    "df.groupby(['ipSeg24',g]).agg({'event_id':'count'}).reset_index('ipSeg24').sort_index().sort_values(by='event_id',ascending=False)"
   ]
  },
  {
   "cell_type": "code",
   "execution_count": 41,
   "metadata": {
    "ExecuteTime": {
     "end_time": "2018-05-16T18:09:43.279751Z",
     "start_time": "2018-05-16T18:09:43.113555Z"
    },
    "collapsed": false
   },
   "outputs": [
    {
     "data": {
      "text/html": [
       "<div>\n",
       "<style scoped>\n",
       "    .dataframe tbody tr th:only-of-type {\n",
       "        vertical-align: middle;\n",
       "    }\n",
       "\n",
       "    .dataframe tbody tr th {\n",
       "        vertical-align: top;\n",
       "    }\n",
       "\n",
       "    .dataframe thead th {\n",
       "        text-align: right;\n",
       "    }\n",
       "</style>\n",
       "<table border=\"1\" class=\"dataframe\">\n",
       "  <thead>\n",
       "    <tr style=\"text-align: right;\">\n",
       "      <th></th>\n",
       "      <th>event_id</th>\n",
       "    </tr>\n",
       "    <tr>\n",
       "      <th>time</th>\n",
       "      <th></th>\n",
       "    </tr>\n",
       "  </thead>\n",
       "  <tbody>\n",
       "    <tr>\n",
       "      <th>2018-05-13 14:00:00+00:00</th>\n",
       "      <td>142</td>\n",
       "    </tr>\n",
       "    <tr>\n",
       "      <th>2018-05-06 00:00:00+00:00</th>\n",
       "      <td>1</td>\n",
       "    </tr>\n",
       "    <tr>\n",
       "      <th>2018-05-06 15:00:00+00:00</th>\n",
       "      <td>1</td>\n",
       "    </tr>\n",
       "    <tr>\n",
       "      <th>2018-05-07 06:00:00+00:00</th>\n",
       "      <td>1</td>\n",
       "    </tr>\n",
       "    <tr>\n",
       "      <th>2018-05-06 23:00:00+00:00</th>\n",
       "      <td>1</td>\n",
       "    </tr>\n",
       "    <tr>\n",
       "      <th>2018-05-14 06:00:00+00:00</th>\n",
       "      <td>1</td>\n",
       "    </tr>\n",
       "    <tr>\n",
       "      <th>2018-05-06 06:00:00+00:00</th>\n",
       "      <td>0</td>\n",
       "    </tr>\n",
       "    <tr>\n",
       "      <th>2018-05-10 07:00:00+00:00</th>\n",
       "      <td>0</td>\n",
       "    </tr>\n",
       "    <tr>\n",
       "      <th>2018-05-11 09:00:00+00:00</th>\n",
       "      <td>0</td>\n",
       "    </tr>\n",
       "    <tr>\n",
       "      <th>2018-05-11 10:00:00+00:00</th>\n",
       "      <td>0</td>\n",
       "    </tr>\n",
       "    <tr>\n",
       "      <th>2018-05-11 11:00:00+00:00</th>\n",
       "      <td>0</td>\n",
       "    </tr>\n",
       "    <tr>\n",
       "      <th>2018-05-11 12:00:00+00:00</th>\n",
       "      <td>0</td>\n",
       "    </tr>\n",
       "    <tr>\n",
       "      <th>2018-05-11 13:00:00+00:00</th>\n",
       "      <td>0</td>\n",
       "    </tr>\n",
       "    <tr>\n",
       "      <th>2018-05-11 14:00:00+00:00</th>\n",
       "      <td>0</td>\n",
       "    </tr>\n",
       "    <tr>\n",
       "      <th>2018-05-11 15:00:00+00:00</th>\n",
       "      <td>0</td>\n",
       "    </tr>\n",
       "    <tr>\n",
       "      <th>2018-05-11 16:00:00+00:00</th>\n",
       "      <td>0</td>\n",
       "    </tr>\n",
       "    <tr>\n",
       "      <th>2018-05-11 17:00:00+00:00</th>\n",
       "      <td>0</td>\n",
       "    </tr>\n",
       "    <tr>\n",
       "      <th>2018-05-11 18:00:00+00:00</th>\n",
       "      <td>0</td>\n",
       "    </tr>\n",
       "    <tr>\n",
       "      <th>2018-05-11 19:00:00+00:00</th>\n",
       "      <td>0</td>\n",
       "    </tr>\n",
       "    <tr>\n",
       "      <th>2018-05-11 20:00:00+00:00</th>\n",
       "      <td>0</td>\n",
       "    </tr>\n",
       "    <tr>\n",
       "      <th>2018-05-11 21:00:00+00:00</th>\n",
       "      <td>0</td>\n",
       "    </tr>\n",
       "    <tr>\n",
       "      <th>2018-05-11 22:00:00+00:00</th>\n",
       "      <td>0</td>\n",
       "    </tr>\n",
       "    <tr>\n",
       "      <th>2018-05-11 23:00:00+00:00</th>\n",
       "      <td>0</td>\n",
       "    </tr>\n",
       "    <tr>\n",
       "      <th>2018-05-12 00:00:00+00:00</th>\n",
       "      <td>0</td>\n",
       "    </tr>\n",
       "    <tr>\n",
       "      <th>2018-05-12 01:00:00+00:00</th>\n",
       "      <td>0</td>\n",
       "    </tr>\n",
       "    <tr>\n",
       "      <th>2018-05-12 02:00:00+00:00</th>\n",
       "      <td>0</td>\n",
       "    </tr>\n",
       "    <tr>\n",
       "      <th>2018-05-12 03:00:00+00:00</th>\n",
       "      <td>0</td>\n",
       "    </tr>\n",
       "    <tr>\n",
       "      <th>2018-05-12 04:00:00+00:00</th>\n",
       "      <td>0</td>\n",
       "    </tr>\n",
       "    <tr>\n",
       "      <th>2018-05-12 05:00:00+00:00</th>\n",
       "      <td>0</td>\n",
       "    </tr>\n",
       "    <tr>\n",
       "      <th>2018-05-11 08:00:00+00:00</th>\n",
       "      <td>0</td>\n",
       "    </tr>\n",
       "    <tr>\n",
       "      <th>...</th>\n",
       "      <td>...</td>\n",
       "    </tr>\n",
       "    <tr>\n",
       "      <th>2018-05-10 00:00:00+00:00</th>\n",
       "      <td>0</td>\n",
       "    </tr>\n",
       "    <tr>\n",
       "      <th>2018-05-10 01:00:00+00:00</th>\n",
       "      <td>0</td>\n",
       "    </tr>\n",
       "    <tr>\n",
       "      <th>2018-05-10 02:00:00+00:00</th>\n",
       "      <td>0</td>\n",
       "    </tr>\n",
       "    <tr>\n",
       "      <th>2018-05-06 01:00:00+00:00</th>\n",
       "      <td>0</td>\n",
       "    </tr>\n",
       "    <tr>\n",
       "      <th>2018-05-10 04:00:00+00:00</th>\n",
       "      <td>0</td>\n",
       "    </tr>\n",
       "    <tr>\n",
       "      <th>2018-05-09 08:00:00+00:00</th>\n",
       "      <td>0</td>\n",
       "    </tr>\n",
       "    <tr>\n",
       "      <th>2018-05-09 06:00:00+00:00</th>\n",
       "      <td>0</td>\n",
       "    </tr>\n",
       "    <tr>\n",
       "      <th>2018-05-08 08:00:00+00:00</th>\n",
       "      <td>0</td>\n",
       "    </tr>\n",
       "    <tr>\n",
       "      <th>2018-05-08 18:00:00+00:00</th>\n",
       "      <td>0</td>\n",
       "    </tr>\n",
       "    <tr>\n",
       "      <th>2018-05-08 09:00:00+00:00</th>\n",
       "      <td>0</td>\n",
       "    </tr>\n",
       "    <tr>\n",
       "      <th>2018-05-08 10:00:00+00:00</th>\n",
       "      <td>0</td>\n",
       "    </tr>\n",
       "    <tr>\n",
       "      <th>2018-05-08 11:00:00+00:00</th>\n",
       "      <td>0</td>\n",
       "    </tr>\n",
       "    <tr>\n",
       "      <th>2018-05-08 12:00:00+00:00</th>\n",
       "      <td>0</td>\n",
       "    </tr>\n",
       "    <tr>\n",
       "      <th>2018-05-08 13:00:00+00:00</th>\n",
       "      <td>0</td>\n",
       "    </tr>\n",
       "    <tr>\n",
       "      <th>2018-05-08 14:00:00+00:00</th>\n",
       "      <td>0</td>\n",
       "    </tr>\n",
       "    <tr>\n",
       "      <th>2018-05-08 15:00:00+00:00</th>\n",
       "      <td>0</td>\n",
       "    </tr>\n",
       "    <tr>\n",
       "      <th>2018-05-08 16:00:00+00:00</th>\n",
       "      <td>0</td>\n",
       "    </tr>\n",
       "    <tr>\n",
       "      <th>2018-05-08 17:00:00+00:00</th>\n",
       "      <td>0</td>\n",
       "    </tr>\n",
       "    <tr>\n",
       "      <th>2018-05-08 19:00:00+00:00</th>\n",
       "      <td>0</td>\n",
       "    </tr>\n",
       "    <tr>\n",
       "      <th>2018-05-09 05:00:00+00:00</th>\n",
       "      <td>0</td>\n",
       "    </tr>\n",
       "    <tr>\n",
       "      <th>2018-05-08 20:00:00+00:00</th>\n",
       "      <td>0</td>\n",
       "    </tr>\n",
       "    <tr>\n",
       "      <th>2018-05-08 21:00:00+00:00</th>\n",
       "      <td>0</td>\n",
       "    </tr>\n",
       "    <tr>\n",
       "      <th>2018-05-08 22:00:00+00:00</th>\n",
       "      <td>0</td>\n",
       "    </tr>\n",
       "    <tr>\n",
       "      <th>2018-05-08 23:00:00+00:00</th>\n",
       "      <td>0</td>\n",
       "    </tr>\n",
       "    <tr>\n",
       "      <th>2018-05-09 00:00:00+00:00</th>\n",
       "      <td>0</td>\n",
       "    </tr>\n",
       "    <tr>\n",
       "      <th>2018-05-09 01:00:00+00:00</th>\n",
       "      <td>0</td>\n",
       "    </tr>\n",
       "    <tr>\n",
       "      <th>2018-05-09 02:00:00+00:00</th>\n",
       "      <td>0</td>\n",
       "    </tr>\n",
       "    <tr>\n",
       "      <th>2018-05-09 03:00:00+00:00</th>\n",
       "      <td>0</td>\n",
       "    </tr>\n",
       "    <tr>\n",
       "      <th>2018-05-09 04:00:00+00:00</th>\n",
       "      <td>0</td>\n",
       "    </tr>\n",
       "    <tr>\n",
       "      <th>2018-05-10 03:00:00+00:00</th>\n",
       "      <td>0</td>\n",
       "    </tr>\n",
       "  </tbody>\n",
       "</table>\n",
       "<p>199 rows × 1 columns</p>\n",
       "</div>"
      ],
      "text/plain": [
       "                           event_id\n",
       "time                               \n",
       "2018-05-13 14:00:00+00:00       142\n",
       "2018-05-06 00:00:00+00:00         1\n",
       "2018-05-06 15:00:00+00:00         1\n",
       "2018-05-07 06:00:00+00:00         1\n",
       "2018-05-06 23:00:00+00:00         1\n",
       "2018-05-14 06:00:00+00:00         1\n",
       "2018-05-06 06:00:00+00:00         0\n",
       "2018-05-10 07:00:00+00:00         0\n",
       "2018-05-11 09:00:00+00:00         0\n",
       "2018-05-11 10:00:00+00:00         0\n",
       "2018-05-11 11:00:00+00:00         0\n",
       "2018-05-11 12:00:00+00:00         0\n",
       "2018-05-11 13:00:00+00:00         0\n",
       "2018-05-11 14:00:00+00:00         0\n",
       "2018-05-11 15:00:00+00:00         0\n",
       "2018-05-11 16:00:00+00:00         0\n",
       "2018-05-11 17:00:00+00:00         0\n",
       "2018-05-11 18:00:00+00:00         0\n",
       "2018-05-11 19:00:00+00:00         0\n",
       "2018-05-11 20:00:00+00:00         0\n",
       "2018-05-11 21:00:00+00:00         0\n",
       "2018-05-11 22:00:00+00:00         0\n",
       "2018-05-11 23:00:00+00:00         0\n",
       "2018-05-12 00:00:00+00:00         0\n",
       "2018-05-12 01:00:00+00:00         0\n",
       "2018-05-12 02:00:00+00:00         0\n",
       "2018-05-12 03:00:00+00:00         0\n",
       "2018-05-12 04:00:00+00:00         0\n",
       "2018-05-12 05:00:00+00:00         0\n",
       "2018-05-11 08:00:00+00:00         0\n",
       "...                             ...\n",
       "2018-05-10 00:00:00+00:00         0\n",
       "2018-05-10 01:00:00+00:00         0\n",
       "2018-05-10 02:00:00+00:00         0\n",
       "2018-05-06 01:00:00+00:00         0\n",
       "2018-05-10 04:00:00+00:00         0\n",
       "2018-05-09 08:00:00+00:00         0\n",
       "2018-05-09 06:00:00+00:00         0\n",
       "2018-05-08 08:00:00+00:00         0\n",
       "2018-05-08 18:00:00+00:00         0\n",
       "2018-05-08 09:00:00+00:00         0\n",
       "2018-05-08 10:00:00+00:00         0\n",
       "2018-05-08 11:00:00+00:00         0\n",
       "2018-05-08 12:00:00+00:00         0\n",
       "2018-05-08 13:00:00+00:00         0\n",
       "2018-05-08 14:00:00+00:00         0\n",
       "2018-05-08 15:00:00+00:00         0\n",
       "2018-05-08 16:00:00+00:00         0\n",
       "2018-05-08 17:00:00+00:00         0\n",
       "2018-05-08 19:00:00+00:00         0\n",
       "2018-05-09 05:00:00+00:00         0\n",
       "2018-05-08 20:00:00+00:00         0\n",
       "2018-05-08 21:00:00+00:00         0\n",
       "2018-05-08 22:00:00+00:00         0\n",
       "2018-05-08 23:00:00+00:00         0\n",
       "2018-05-09 00:00:00+00:00         0\n",
       "2018-05-09 01:00:00+00:00         0\n",
       "2018-05-09 02:00:00+00:00         0\n",
       "2018-05-09 03:00:00+00:00         0\n",
       "2018-05-09 04:00:00+00:00         0\n",
       "2018-05-10 03:00:00+00:00         0\n",
       "\n",
       "[199 rows x 1 columns]"
      ]
     },
     "execution_count": 41,
     "metadata": {},
     "output_type": "execute_result"
    }
   ],
   "source": [
    "df.loc[df.ipSeg24 == '111.19.124'].groupby(g).agg({'event_id':'count'}).sort_values(by='event_id',ascending=False)"
   ]
  },
  {
   "cell_type": "code",
   "execution_count": 43,
   "metadata": {
    "ExecuteTime": {
     "end_time": "2018-05-16T18:10:38.028794Z",
     "start_time": "2018-05-16T18:10:37.910317Z"
    },
    "collapsed": false
   },
   "outputs": [
    {
     "data": {
      "text/plain": [
       "0      193\n",
       "1        5\n",
       "142      1\n",
       "Name: event_id, dtype: int64"
      ]
     },
     "execution_count": 43,
     "metadata": {},
     "output_type": "execute_result"
    }
   ],
   "source": [
    "df.loc[df.ipSeg24 == '111.19.124'].groupby(g).agg({'event_id':'count'})['event_id'].value_counts()"
   ]
  },
  {
   "cell_type": "code",
   "execution_count": 52,
   "metadata": {
    "ExecuteTime": {
     "end_time": "2018-05-16T18:37:02.277218Z",
     "start_time": "2018-05-16T18:36:59.208615Z"
    },
    "collapsed": true
   },
   "outputs": [],
   "source": [
    "df['day'] = df['time'].dt.strftime(\"%Y/%m/%d\")"
   ]
  },
  {
   "cell_type": "code",
   "execution_count": 53,
   "metadata": {
    "ExecuteTime": {
     "end_time": "2018-05-16T18:37:06.868649Z",
     "start_time": "2018-05-16T18:37:06.820764Z"
    },
    "collapsed": true
   },
   "outputs": [],
   "source": [
    "df['hour'] = df.time.dt.hour"
   ]
  },
  {
   "cell_type": "code",
   "execution_count": 54,
   "metadata": {
    "ExecuteTime": {
     "end_time": "2018-05-16T18:37:18.567260Z",
     "start_time": "2018-05-16T18:37:17.694468Z"
    },
    "collapsed": true
   },
   "outputs": [],
   "source": [
    "df1 = df.groupby(['ipSeg24', 'day', 'hour'], as_index=False).agg({'event_id': 'count'})"
   ]
  },
  {
   "cell_type": "code",
   "execution_count": 56,
   "metadata": {
    "ExecuteTime": {
     "end_time": "2018-05-16T18:37:42.517278Z",
     "start_time": "2018-05-16T18:37:42.497086Z"
    },
    "collapsed": false
   },
   "outputs": [],
   "source": [
    "bad_ip=df1.loc[df1['event_id'] == df1['event_id'].max(), ['ipSeg24','day','hour']].iloc[0]"
   ]
  },
  {
   "cell_type": "code",
   "execution_count": 57,
   "metadata": {
    "ExecuteTime": {
     "end_time": "2018-05-16T18:37:49.813881Z",
     "start_time": "2018-05-16T18:37:49.803891Z"
    },
    "collapsed": false
   },
   "outputs": [
    {
     "data": {
      "text/plain": [
       "'111.19.124'"
      ]
     },
     "execution_count": 57,
     "metadata": {},
     "output_type": "execute_result"
    }
   ],
   "source": [
    "bad_ip['ipSeg24']"
   ]
  },
  {
   "cell_type": "code",
   "execution_count": 58,
   "metadata": {
    "ExecuteTime": {
     "end_time": "2018-05-16T19:00:38.776869Z",
     "start_time": "2018-05-16T19:00:38.206770Z"
    },
    "collapsed": false
   },
   "outputs": [
    {
     "data": {
      "text/plain": [
       "(142, 22)"
      ]
     },
     "execution_count": 58,
     "metadata": {},
     "output_type": "execute_result"
    }
   ],
   "source": [
    " df.loc[(df['ipSeg24'] == bad_ip['ipSeg24']) & (df['day'] == bad_ip['day']) & (df['hour'] == bad_ip['hour'])].shape"
   ]
  },
  {
   "cell_type": "code",
   "execution_count": 89,
   "metadata": {
    "ExecuteTime": {
     "end_time": "2018-05-16T19:20:27.342547Z",
     "start_time": "2018-05-16T19:20:26.801292Z"
    },
    "collapsed": false
   },
   "outputs": [
    {
     "data": {
      "text/plain": [
       "<matplotlib.axes._subplots.AxesSubplot at 0x11f3a9810>"
      ]
     },
     "execution_count": 89,
     "metadata": {},
     "output_type": "execute_result"
    }
   ],
   "source": [
    "df.loc[(df['ipSeg24'] == bad_ip['ipSeg24']) & \\\n",
    "       (df['day'] == bad_ip['day']) & (df['hour'] == \\\n",
    "        bad_ip['hour'])][['ipGeo_5m_value','time']].set_index('time').sort_index().plot()"
   ]
  },
  {
   "cell_type": "code",
   "execution_count": 90,
   "metadata": {
    "ExecuteTime": {
     "end_time": "2018-05-16T19:20:28.792827Z",
     "start_time": "2018-05-16T19:20:28.578572Z"
    },
    "collapsed": true
   },
   "outputs": [],
   "source": [
    "plt.show()"
   ]
  },
  {
   "cell_type": "code",
   "execution_count": 88,
   "metadata": {
    "ExecuteTime": {
     "end_time": "2018-05-16T19:19:54.150509Z",
     "start_time": "2018-05-16T19:19:54.011967Z"
    },
    "collapsed": false
   },
   "outputs": [
    {
     "data": {
      "text/html": [
       "<div>\n",
       "<style scoped>\n",
       "    .dataframe tbody tr th:only-of-type {\n",
       "        vertical-align: middle;\n",
       "    }\n",
       "\n",
       "    .dataframe tbody tr th {\n",
       "        vertical-align: top;\n",
       "    }\n",
       "\n",
       "    .dataframe thead th {\n",
       "        text-align: right;\n",
       "    }\n",
       "</style>\n",
       "<table border=\"1\" class=\"dataframe\">\n",
       "  <thead>\n",
       "    <tr style=\"text-align: right;\">\n",
       "      <th></th>\n",
       "      <th>hour</th>\n",
       "      <th>ipGeo_5m_value</th>\n",
       "    </tr>\n",
       "  </thead>\n",
       "  <tbody>\n",
       "    <tr>\n",
       "      <th>49081</th>\n",
       "      <td>14</td>\n",
       "      <td>5</td>\n",
       "    </tr>\n",
       "    <tr>\n",
       "      <th>49082</th>\n",
       "      <td>14</td>\n",
       "      <td>3</td>\n",
       "    </tr>\n",
       "    <tr>\n",
       "      <th>49083</th>\n",
       "      <td>14</td>\n",
       "      <td>4</td>\n",
       "    </tr>\n",
       "    <tr>\n",
       "      <th>49084</th>\n",
       "      <td>14</td>\n",
       "      <td>3</td>\n",
       "    </tr>\n",
       "    <tr>\n",
       "      <th>49085</th>\n",
       "      <td>14</td>\n",
       "      <td>2</td>\n",
       "    </tr>\n",
       "    <tr>\n",
       "      <th>49086</th>\n",
       "      <td>14</td>\n",
       "      <td>1</td>\n",
       "    </tr>\n",
       "    <tr>\n",
       "      <th>49087</th>\n",
       "      <td>14</td>\n",
       "      <td>7</td>\n",
       "    </tr>\n",
       "    <tr>\n",
       "      <th>49088</th>\n",
       "      <td>14</td>\n",
       "      <td>8</td>\n",
       "    </tr>\n",
       "    <tr>\n",
       "      <th>49089</th>\n",
       "      <td>14</td>\n",
       "      <td>13</td>\n",
       "    </tr>\n",
       "    <tr>\n",
       "      <th>49090</th>\n",
       "      <td>14</td>\n",
       "      <td>6</td>\n",
       "    </tr>\n",
       "    <tr>\n",
       "      <th>49091</th>\n",
       "      <td>14</td>\n",
       "      <td>7</td>\n",
       "    </tr>\n",
       "    <tr>\n",
       "      <th>49092</th>\n",
       "      <td>14</td>\n",
       "      <td>15</td>\n",
       "    </tr>\n",
       "    <tr>\n",
       "      <th>49093</th>\n",
       "      <td>14</td>\n",
       "      <td>16</td>\n",
       "    </tr>\n",
       "    <tr>\n",
       "      <th>49094</th>\n",
       "      <td>14</td>\n",
       "      <td>12</td>\n",
       "    </tr>\n",
       "    <tr>\n",
       "      <th>49095</th>\n",
       "      <td>14</td>\n",
       "      <td>11</td>\n",
       "    </tr>\n",
       "    <tr>\n",
       "      <th>49096</th>\n",
       "      <td>14</td>\n",
       "      <td>13</td>\n",
       "    </tr>\n",
       "    <tr>\n",
       "      <th>49097</th>\n",
       "      <td>14</td>\n",
       "      <td>19</td>\n",
       "    </tr>\n",
       "    <tr>\n",
       "      <th>49098</th>\n",
       "      <td>14</td>\n",
       "      <td>22</td>\n",
       "    </tr>\n",
       "    <tr>\n",
       "      <th>49099</th>\n",
       "      <td>14</td>\n",
       "      <td>29</td>\n",
       "    </tr>\n",
       "    <tr>\n",
       "      <th>49100</th>\n",
       "      <td>14</td>\n",
       "      <td>27</td>\n",
       "    </tr>\n",
       "    <tr>\n",
       "      <th>49101</th>\n",
       "      <td>14</td>\n",
       "      <td>21</td>\n",
       "    </tr>\n",
       "    <tr>\n",
       "      <th>49102</th>\n",
       "      <td>14</td>\n",
       "      <td>8</td>\n",
       "    </tr>\n",
       "    <tr>\n",
       "      <th>49103</th>\n",
       "      <td>14</td>\n",
       "      <td>28</td>\n",
       "    </tr>\n",
       "    <tr>\n",
       "      <th>49104</th>\n",
       "      <td>14</td>\n",
       "      <td>24</td>\n",
       "    </tr>\n",
       "    <tr>\n",
       "      <th>49105</th>\n",
       "      <td>14</td>\n",
       "      <td>31</td>\n",
       "    </tr>\n",
       "    <tr>\n",
       "      <th>49106</th>\n",
       "      <td>14</td>\n",
       "      <td>10</td>\n",
       "    </tr>\n",
       "    <tr>\n",
       "      <th>49107</th>\n",
       "      <td>14</td>\n",
       "      <td>11</td>\n",
       "    </tr>\n",
       "    <tr>\n",
       "      <th>49108</th>\n",
       "      <td>14</td>\n",
       "      <td>12</td>\n",
       "    </tr>\n",
       "    <tr>\n",
       "      <th>49109</th>\n",
       "      <td>14</td>\n",
       "      <td>33</td>\n",
       "    </tr>\n",
       "    <tr>\n",
       "      <th>49110</th>\n",
       "      <td>14</td>\n",
       "      <td>34</td>\n",
       "    </tr>\n",
       "    <tr>\n",
       "      <th>...</th>\n",
       "      <td>...</td>\n",
       "      <td>...</td>\n",
       "    </tr>\n",
       "    <tr>\n",
       "      <th>122593</th>\n",
       "      <td>14</td>\n",
       "      <td>113</td>\n",
       "    </tr>\n",
       "    <tr>\n",
       "      <th>122594</th>\n",
       "      <td>14</td>\n",
       "      <td>114</td>\n",
       "    </tr>\n",
       "    <tr>\n",
       "      <th>122595</th>\n",
       "      <td>14</td>\n",
       "      <td>115</td>\n",
       "    </tr>\n",
       "    <tr>\n",
       "      <th>122596</th>\n",
       "      <td>14</td>\n",
       "      <td>116</td>\n",
       "    </tr>\n",
       "    <tr>\n",
       "      <th>122597</th>\n",
       "      <td>14</td>\n",
       "      <td>117</td>\n",
       "    </tr>\n",
       "    <tr>\n",
       "      <th>122598</th>\n",
       "      <td>14</td>\n",
       "      <td>118</td>\n",
       "    </tr>\n",
       "    <tr>\n",
       "      <th>122599</th>\n",
       "      <td>14</td>\n",
       "      <td>119</td>\n",
       "    </tr>\n",
       "    <tr>\n",
       "      <th>122600</th>\n",
       "      <td>14</td>\n",
       "      <td>120</td>\n",
       "    </tr>\n",
       "    <tr>\n",
       "      <th>122601</th>\n",
       "      <td>14</td>\n",
       "      <td>122</td>\n",
       "    </tr>\n",
       "    <tr>\n",
       "      <th>122602</th>\n",
       "      <td>14</td>\n",
       "      <td>124</td>\n",
       "    </tr>\n",
       "    <tr>\n",
       "      <th>122603</th>\n",
       "      <td>14</td>\n",
       "      <td>127</td>\n",
       "    </tr>\n",
       "    <tr>\n",
       "      <th>122604</th>\n",
       "      <td>14</td>\n",
       "      <td>126</td>\n",
       "    </tr>\n",
       "    <tr>\n",
       "      <th>122605</th>\n",
       "      <td>14</td>\n",
       "      <td>123</td>\n",
       "    </tr>\n",
       "    <tr>\n",
       "      <th>122606</th>\n",
       "      <td>14</td>\n",
       "      <td>121</td>\n",
       "    </tr>\n",
       "    <tr>\n",
       "      <th>122607</th>\n",
       "      <td>14</td>\n",
       "      <td>129</td>\n",
       "    </tr>\n",
       "    <tr>\n",
       "      <th>122608</th>\n",
       "      <td>14</td>\n",
       "      <td>128</td>\n",
       "    </tr>\n",
       "    <tr>\n",
       "      <th>122609</th>\n",
       "      <td>14</td>\n",
       "      <td>125</td>\n",
       "    </tr>\n",
       "    <tr>\n",
       "      <th>122612</th>\n",
       "      <td>14</td>\n",
       "      <td>130</td>\n",
       "    </tr>\n",
       "    <tr>\n",
       "      <th>122613</th>\n",
       "      <td>14</td>\n",
       "      <td>132</td>\n",
       "    </tr>\n",
       "    <tr>\n",
       "      <th>122614</th>\n",
       "      <td>14</td>\n",
       "      <td>131</td>\n",
       "    </tr>\n",
       "    <tr>\n",
       "      <th>122615</th>\n",
       "      <td>14</td>\n",
       "      <td>133</td>\n",
       "    </tr>\n",
       "    <tr>\n",
       "      <th>122618</th>\n",
       "      <td>14</td>\n",
       "      <td>134</td>\n",
       "    </tr>\n",
       "    <tr>\n",
       "      <th>122620</th>\n",
       "      <td>14</td>\n",
       "      <td>135</td>\n",
       "    </tr>\n",
       "    <tr>\n",
       "      <th>122621</th>\n",
       "      <td>14</td>\n",
       "      <td>136</td>\n",
       "    </tr>\n",
       "    <tr>\n",
       "      <th>122622</th>\n",
       "      <td>14</td>\n",
       "      <td>137</td>\n",
       "    </tr>\n",
       "    <tr>\n",
       "      <th>122623</th>\n",
       "      <td>14</td>\n",
       "      <td>139</td>\n",
       "    </tr>\n",
       "    <tr>\n",
       "      <th>122624</th>\n",
       "      <td>14</td>\n",
       "      <td>138</td>\n",
       "    </tr>\n",
       "    <tr>\n",
       "      <th>122633</th>\n",
       "      <td>14</td>\n",
       "      <td>141</td>\n",
       "    </tr>\n",
       "    <tr>\n",
       "      <th>122634</th>\n",
       "      <td>14</td>\n",
       "      <td>142</td>\n",
       "    </tr>\n",
       "    <tr>\n",
       "      <th>122635</th>\n",
       "      <td>14</td>\n",
       "      <td>140</td>\n",
       "    </tr>\n",
       "  </tbody>\n",
       "</table>\n",
       "<p>142 rows × 2 columns</p>\n",
       "</div>"
      ],
      "text/plain": [
       "        hour  ipGeo_5m_value\n",
       "49081     14               5\n",
       "49082     14               3\n",
       "49083     14               4\n",
       "49084     14               3\n",
       "49085     14               2\n",
       "49086     14               1\n",
       "49087     14               7\n",
       "49088     14               8\n",
       "49089     14              13\n",
       "49090     14               6\n",
       "49091     14               7\n",
       "49092     14              15\n",
       "49093     14              16\n",
       "49094     14              12\n",
       "49095     14              11\n",
       "49096     14              13\n",
       "49097     14              19\n",
       "49098     14              22\n",
       "49099     14              29\n",
       "49100     14              27\n",
       "49101     14              21\n",
       "49102     14               8\n",
       "49103     14              28\n",
       "49104     14              24\n",
       "49105     14              31\n",
       "49106     14              10\n",
       "49107     14              11\n",
       "49108     14              12\n",
       "49109     14              33\n",
       "49110     14              34\n",
       "...      ...             ...\n",
       "122593    14             113\n",
       "122594    14             114\n",
       "122595    14             115\n",
       "122596    14             116\n",
       "122597    14             117\n",
       "122598    14             118\n",
       "122599    14             119\n",
       "122600    14             120\n",
       "122601    14             122\n",
       "122602    14             124\n",
       "122603    14             127\n",
       "122604    14             126\n",
       "122605    14             123\n",
       "122606    14             121\n",
       "122607    14             129\n",
       "122608    14             128\n",
       "122609    14             125\n",
       "122612    14             130\n",
       "122613    14             132\n",
       "122614    14             131\n",
       "122615    14             133\n",
       "122618    14             134\n",
       "122620    14             135\n",
       "122621    14             136\n",
       "122622    14             137\n",
       "122623    14             139\n",
       "122624    14             138\n",
       "122633    14             141\n",
       "122634    14             142\n",
       "122635    14             140\n",
       "\n",
       "[142 rows x 2 columns]"
      ]
     },
     "execution_count": 88,
     "metadata": {},
     "output_type": "execute_result"
    }
   ],
   "source": [
    "df.loc[(df['ipSeg24'] == bad_ip['ipSeg24']) & \\\n",
    "       (df['day'] == bad_ip['day']) & (df['hour'] == \\\n",
    "        bad_ip['hour'])][['hour','ipGeo_5m_value']]"
   ]
  },
  {
   "cell_type": "code",
   "execution_count": 92,
   "metadata": {
    "ExecuteTime": {
     "end_time": "2018-05-16T19:28:20.326499Z",
     "start_time": "2018-05-16T19:28:20.079669Z"
    },
    "collapsed": false
   },
   "outputs": [],
   "source": [
    "df1=df.groupby(['sub_pid_seller','hour']).agg({'ipSeg24':'count'})"
   ]
  },
  {
   "cell_type": "code",
   "execution_count": 99,
   "metadata": {
    "ExecuteTime": {
     "end_time": "2018-05-16T19:33:02.793635Z",
     "start_time": "2018-05-16T19:33:02.778443Z"
    },
    "collapsed": false
   },
   "outputs": [
    {
     "data": {
      "text/html": [
       "<div>\n",
       "<style scoped>\n",
       "    .dataframe tbody tr th:only-of-type {\n",
       "        vertical-align: middle;\n",
       "    }\n",
       "\n",
       "    .dataframe tbody tr th {\n",
       "        vertical-align: top;\n",
       "    }\n",
       "\n",
       "    .dataframe thead th {\n",
       "        text-align: right;\n",
       "    }\n",
       "</style>\n",
       "<table border=\"1\" class=\"dataframe\">\n",
       "  <thead>\n",
       "    <tr style=\"text-align: right;\">\n",
       "      <th></th>\n",
       "      <th></th>\n",
       "      <th>ipSeg24</th>\n",
       "    </tr>\n",
       "    <tr>\n",
       "      <th>sub_pid_seller</th>\n",
       "      <th>hour</th>\n",
       "      <th></th>\n",
       "    </tr>\n",
       "  </thead>\n",
       "  <tbody>\n",
       "    <tr>\n",
       "      <th rowspan=\"5\" valign=\"top\">huitt_articledown</th>\n",
       "      <th>0</th>\n",
       "      <td>6313</td>\n",
       "    </tr>\n",
       "    <tr>\n",
       "      <th>1</th>\n",
       "      <td>1407</td>\n",
       "    </tr>\n",
       "    <tr>\n",
       "      <th>2</th>\n",
       "      <td>2135</td>\n",
       "    </tr>\n",
       "    <tr>\n",
       "      <th>3</th>\n",
       "      <td>3449</td>\n",
       "    </tr>\n",
       "    <tr>\n",
       "      <th>4</th>\n",
       "      <td>3152</td>\n",
       "    </tr>\n",
       "  </tbody>\n",
       "</table>\n",
       "</div>"
      ],
      "text/plain": [
       "                        ipSeg24\n",
       "sub_pid_seller    hour         \n",
       "huitt_articledown 0        6313\n",
       "                  1        1407\n",
       "                  2        2135\n",
       "                  3        3449\n",
       "                  4        3152"
      ]
     },
     "execution_count": 99,
     "metadata": {},
     "output_type": "execute_result"
    }
   ],
   "source": [
    "df1.head(5)"
   ]
  },
  {
   "cell_type": "code",
   "execution_count": 96,
   "metadata": {
    "ExecuteTime": {
     "end_time": "2018-05-16T19:30:22.205837Z",
     "start_time": "2018-05-16T19:30:21.369179Z"
    },
    "collapsed": true
   },
   "outputs": [],
   "source": [
    "df1.unstack(level=0).plot(kind='line', subplots=False)\n",
    "plt.show()"
   ]
  },
  {
   "cell_type": "code",
   "execution_count": 102,
   "metadata": {
    "ExecuteTime": {
     "end_time": "2018-05-16T19:33:49.587756Z",
     "start_time": "2018-05-16T19:33:49.581837Z"
    },
    "collapsed": false
   },
   "outputs": [],
   "source": [
    "df2=df1.reset_index('sub_pid_seller')"
   ]
  },
  {
   "cell_type": "code",
   "execution_count": 103,
   "metadata": {
    "ExecuteTime": {
     "end_time": "2018-05-16T19:34:02.629544Z",
     "start_time": "2018-05-16T19:34:02.083492Z"
    },
    "collapsed": true
   },
   "outputs": [],
   "source": [
    "df2.loc[df2['sub_pid_seller']=='huitxiaozhinew_three_downt_three']['ipSeg24'].plot(kind='line', subplots=False)\n",
    "plt.show()"
   ]
  },
  {
   "cell_type": "code",
   "execution_count": 106,
   "metadata": {
    "ExecuteTime": {
     "end_time": "2018-05-16T19:40:58.841391Z",
     "start_time": "2018-05-16T19:40:58.805594Z"
    },
    "collapsed": true
   },
   "outputs": [],
   "source": [
    "g1 = Grouper(key='time', freq='1Min')"
   ]
  },
  {
   "cell_type": "code",
   "execution_count": 117,
   "metadata": {
    "ExecuteTime": {
     "end_time": "2018-05-16T19:46:33.668259Z",
     "start_time": "2018-05-16T19:46:33.587767Z"
    },
    "collapsed": false
   },
   "outputs": [],
   "source": [
    "df3=df.loc[(df.day == bad_ip['day']) & (df.hour == bad_ip['hour'])].groupby(['sub_pid_seller','hour',g1]).agg({'ipSeg24':'count'})"
   ]
  },
  {
   "cell_type": "code",
   "execution_count": 120,
   "metadata": {
    "ExecuteTime": {
     "end_time": "2018-05-16T19:46:59.921754Z",
     "start_time": "2018-05-16T19:46:59.651154Z"
    },
    "collapsed": false
   },
   "outputs": [
    {
     "data": {
      "text/plain": [
       "<matplotlib.axes._subplots.AxesSubplot at 0x1277d6450>"
      ]
     },
     "execution_count": 120,
     "metadata": {},
     "output_type": "execute_result"
    }
   ],
   "source": [
    "df3.unstack(level=['sub_pid_seller','hour']).plot(kind='line', subplots=False)"
   ]
  },
  {
   "cell_type": "code",
   "execution_count": 121,
   "metadata": {
    "ExecuteTime": {
     "end_time": "2018-05-16T19:47:01.555708Z",
     "start_time": "2018-05-16T19:47:01.267253Z"
    },
    "collapsed": true
   },
   "outputs": [],
   "source": [
    "plt.show()"
   ]
  },
  {
   "cell_type": "code",
   "execution_count": 122,
   "metadata": {
    "ExecuteTime": {
     "end_time": "2018-05-16T19:57:07.406908Z",
     "start_time": "2018-05-16T19:57:06.150618Z"
    },
    "collapsed": true
   },
   "outputs": [],
   "source": [
    "dfm = df.groupby(['maxentID', 'day', 'hour'], as_index=False).agg({'event_id': 'count'})"
   ]
  },
  {
   "cell_type": "code",
   "execution_count": 124,
   "metadata": {
    "ExecuteTime": {
     "end_time": "2018-05-16T19:57:25.951437Z",
     "start_time": "2018-05-16T19:57:25.943118Z"
    },
    "collapsed": true
   },
   "outputs": [],
   "source": [
    "bad_dev = dfm.loc[dfm['event_id'] == dfm['event_id'].max(), ['maxentID', 'day', 'hour']].iloc[0]"
   ]
  },
  {
   "cell_type": "code",
   "execution_count": 129,
   "metadata": {
    "ExecuteTime": {
     "end_time": "2018-05-16T20:04:40.540175Z",
     "start_time": "2018-05-16T20:04:40.466641Z"
    },
    "collapsed": true
   },
   "outputs": [],
   "source": [
    "dfm1=df.groupby(['sub_pid_seller','hour']).agg({'maxentID':'count'}).sort_values(by='maxentID',ascending=False)"
   ]
  },
  {
   "cell_type": "code",
   "execution_count": 130,
   "metadata": {
    "ExecuteTime": {
     "end_time": "2018-05-16T20:04:41.902995Z",
     "start_time": "2018-05-16T20:04:41.866172Z"
    },
    "collapsed": false
   },
   "outputs": [
    {
     "data": {
      "text/html": [
       "<div>\n",
       "<style scoped>\n",
       "    .dataframe tbody tr th:only-of-type {\n",
       "        vertical-align: middle;\n",
       "    }\n",
       "\n",
       "    .dataframe tbody tr th {\n",
       "        vertical-align: top;\n",
       "    }\n",
       "\n",
       "    .dataframe thead th {\n",
       "        text-align: right;\n",
       "    }\n",
       "</style>\n",
       "<table border=\"1\" class=\"dataframe\">\n",
       "  <thead>\n",
       "    <tr style=\"text-align: right;\">\n",
       "      <th></th>\n",
       "      <th></th>\n",
       "      <th>maxentID</th>\n",
       "    </tr>\n",
       "    <tr>\n",
       "      <th>sub_pid_seller</th>\n",
       "      <th>hour</th>\n",
       "      <th></th>\n",
       "    </tr>\n",
       "  </thead>\n",
       "  <tbody>\n",
       "    <tr>\n",
       "      <th rowspan=\"5\" valign=\"top\">huitt_three</th>\n",
       "      <th>5</th>\n",
       "      <td>14745</td>\n",
       "    </tr>\n",
       "    <tr>\n",
       "      <th>4</th>\n",
       "      <td>14105</td>\n",
       "    </tr>\n",
       "    <tr>\n",
       "      <th>6</th>\n",
       "      <td>13805</td>\n",
       "    </tr>\n",
       "    <tr>\n",
       "      <th>2</th>\n",
       "      <td>12683</td>\n",
       "    </tr>\n",
       "    <tr>\n",
       "      <th>3</th>\n",
       "      <td>12505</td>\n",
       "    </tr>\n",
       "  </tbody>\n",
       "</table>\n",
       "</div>"
      ],
      "text/plain": [
       "                     maxentID\n",
       "sub_pid_seller hour          \n",
       "huitt_three    5        14745\n",
       "               4        14105\n",
       "               6        13805\n",
       "               2        12683\n",
       "               3        12505"
      ]
     },
     "execution_count": 130,
     "metadata": {},
     "output_type": "execute_result"
    }
   ],
   "source": [
    "dfm1.head(5)"
   ]
  },
  {
   "cell_type": "code",
   "execution_count": 134,
   "metadata": {
    "ExecuteTime": {
     "end_time": "2018-05-16T20:08:38.691053Z",
     "start_time": "2018-05-16T20:08:37.896252Z"
    },
    "collapsed": false
   },
   "outputs": [
    {
     "data": {
      "text/html": [
       "<div>\n",
       "<style scoped>\n",
       "    .dataframe tbody tr th:only-of-type {\n",
       "        vertical-align: middle;\n",
       "    }\n",
       "\n",
       "    .dataframe tbody tr th {\n",
       "        vertical-align: top;\n",
       "    }\n",
       "\n",
       "    .dataframe thead th {\n",
       "        text-align: right;\n",
       "    }\n",
       "</style>\n",
       "<table border=\"1\" class=\"dataframe\">\n",
       "  <thead>\n",
       "    <tr style=\"text-align: right;\">\n",
       "      <th></th>\n",
       "      <th></th>\n",
       "      <th></th>\n",
       "      <th></th>\n",
       "      <th>event_id</th>\n",
       "    </tr>\n",
       "    <tr>\n",
       "      <th>sub_pid_seller</th>\n",
       "      <th>maxentID</th>\n",
       "      <th>day</th>\n",
       "      <th>hour</th>\n",
       "      <th></th>\n",
       "    </tr>\n",
       "  </thead>\n",
       "  <tbody>\n",
       "    <tr>\n",
       "      <th>xiaozhinew_three_down</th>\n",
       "      <th>2223e440b2cc7a8d0945fbe6aa8b02d6</th>\n",
       "      <th>2018/05/13</th>\n",
       "      <th>14</th>\n",
       "      <td>142</td>\n",
       "    </tr>\n",
       "    <tr>\n",
       "      <th>xiaozhinew_three_up</th>\n",
       "      <th>4e9634af76c78c5864a9bca8abdaa2df</th>\n",
       "      <th>2018/05/12</th>\n",
       "      <th>10</th>\n",
       "      <td>105</td>\n",
       "    </tr>\n",
       "    <tr>\n",
       "      <th rowspan=\"2\" valign=\"top\">xiaozhinew_three_down</th>\n",
       "      <th>a2b59edf13e899172e3314550b2855e6</th>\n",
       "      <th>2018/05/13</th>\n",
       "      <th>5</th>\n",
       "      <td>102</td>\n",
       "    </tr>\n",
       "    <tr>\n",
       "      <th>7f9a028c8e533b6e566c9124d8587979</th>\n",
       "      <th>2018/05/07</th>\n",
       "      <th>3</th>\n",
       "      <td>92</td>\n",
       "    </tr>\n",
       "    <tr>\n",
       "      <th rowspan=\"2\" valign=\"top\">xiaozhinew_three_up</th>\n",
       "      <th>49fbd0d0c73ac1ac1558f7797e95c289</th>\n",
       "      <th>2018/05/15</th>\n",
       "      <th>11</th>\n",
       "      <td>88</td>\n",
       "    </tr>\n",
       "    <tr>\n",
       "      <th>870650996583ceabfda3bbd0a62d762f</th>\n",
       "      <th>2018/05/12</th>\n",
       "      <th>22</th>\n",
       "      <td>85</td>\n",
       "    </tr>\n",
       "    <tr>\n",
       "      <th>xiaozhinew_three_down</th>\n",
       "      <th>dd022936b05ca46e54751359a4748d1d</th>\n",
       "      <th>2018/05/07</th>\n",
       "      <th>8</th>\n",
       "      <td>52</td>\n",
       "    </tr>\n",
       "    <tr>\n",
       "      <th>huitt_articledown</th>\n",
       "      <th>2bc5f5dc1566b49e2ddd4b1c028c27e7</th>\n",
       "      <th>2018/05/11</th>\n",
       "      <th>2</th>\n",
       "      <td>51</td>\n",
       "    </tr>\n",
       "    <tr>\n",
       "      <th>xiaozhinew_three_up</th>\n",
       "      <th>70592c0ffe8b8b9a52a3016fc139f917</th>\n",
       "      <th>2018/05/07</th>\n",
       "      <th>12</th>\n",
       "      <td>50</td>\n",
       "    </tr>\n",
       "    <tr>\n",
       "      <th>huitt_articledown</th>\n",
       "      <th>b1143ce3313fd5d2f3c2432386534302</th>\n",
       "      <th>2018/05/05</th>\n",
       "      <th>5</th>\n",
       "      <td>49</td>\n",
       "    </tr>\n",
       "    <tr>\n",
       "      <th>xiaozhinew_three_up</th>\n",
       "      <th>9f26be2f6ebe04d769637283330c86df</th>\n",
       "      <th>2018/05/14</th>\n",
       "      <th>15</th>\n",
       "      <td>46</td>\n",
       "    </tr>\n",
       "    <tr>\n",
       "      <th>xiaozhinew_three_down</th>\n",
       "      <th>7f9a028c8e533b6e566c9124d8587979</th>\n",
       "      <th>2018/05/07</th>\n",
       "      <th>4</th>\n",
       "      <td>45</td>\n",
       "    </tr>\n",
       "    <tr>\n",
       "      <th>xiaozhinew_six</th>\n",
       "      <th>a6e910b2887702a84ac0d18c8b103ddc</th>\n",
       "      <th>2018/05/03</th>\n",
       "      <th>8</th>\n",
       "      <td>43</td>\n",
       "    </tr>\n",
       "    <tr>\n",
       "      <th rowspan=\"2\" valign=\"top\">xiaozhinew_three_up</th>\n",
       "      <th>0c1f4002d9eb1e3f4b1e7aea5d454cef</th>\n",
       "      <th>2018/05/14</th>\n",
       "      <th>18</th>\n",
       "      <td>41</td>\n",
       "    </tr>\n",
       "    <tr>\n",
       "      <th>4086bd11e3955f519fddd1293ef654db</th>\n",
       "      <th>2018/05/07</th>\n",
       "      <th>9</th>\n",
       "      <td>39</td>\n",
       "    </tr>\n",
       "    <tr>\n",
       "      <th>xiaozhinew_three_down</th>\n",
       "      <th>b6e9e003a11eab4824a96896ef92e361</th>\n",
       "      <th>2018/05/08</th>\n",
       "      <th>13</th>\n",
       "      <td>37</td>\n",
       "    </tr>\n",
       "    <tr>\n",
       "      <th>xiaozhinew_three_up</th>\n",
       "      <th>acc6331206a7b13ccec7455d29294b7f</th>\n",
       "      <th>2018/05/06</th>\n",
       "      <th>14</th>\n",
       "      <td>34</td>\n",
       "    </tr>\n",
       "    <tr>\n",
       "      <th>xiaozhinew_three_down</th>\n",
       "      <th>dd022936b05ca46e54751359a4748d1d</th>\n",
       "      <th>2018/05/07</th>\n",
       "      <th>9</th>\n",
       "      <td>32</td>\n",
       "    </tr>\n",
       "    <tr>\n",
       "      <th rowspan=\"4\" valign=\"top\">xiaozhinew_three_up</th>\n",
       "      <th>463c00f2aedac57793f9afa10497d258</th>\n",
       "      <th>2018/05/12</th>\n",
       "      <th>1</th>\n",
       "      <td>32</td>\n",
       "    </tr>\n",
       "    <tr>\n",
       "      <th>e11dcda47fb80466fcde8cf191c61cb2</th>\n",
       "      <th>2018/04/30</th>\n",
       "      <th>16</th>\n",
       "      <td>32</td>\n",
       "    </tr>\n",
       "    <tr>\n",
       "      <th>a6bf6627b7093b8d32147f275bed2f4b</th>\n",
       "      <th>2018/05/06</th>\n",
       "      <th>19</th>\n",
       "      <td>31</td>\n",
       "    </tr>\n",
       "    <tr>\n",
       "      <th>2de864944e9bc1cad6c3212a7c62f030</th>\n",
       "      <th>2018/05/11</th>\n",
       "      <th>3</th>\n",
       "      <td>29</td>\n",
       "    </tr>\n",
       "    <tr>\n",
       "      <th>xiaozhinew_three_down</th>\n",
       "      <th>d589951182f33146a6a27a4291c68cff</th>\n",
       "      <th>2018/05/07</th>\n",
       "      <th>12</th>\n",
       "      <td>29</td>\n",
       "    </tr>\n",
       "    <tr>\n",
       "      <th>xiaozhinew_three_up</th>\n",
       "      <th>aa4d2d61564eb7eb0cc614839e87a0a8</th>\n",
       "      <th>2018/05/03</th>\n",
       "      <th>12</th>\n",
       "      <td>28</td>\n",
       "    </tr>\n",
       "    <tr>\n",
       "      <th>huitt_threemiddle_2</th>\n",
       "      <th>65c4a503fe39483ae26d142e0c035b2f</th>\n",
       "      <th>2018/05/09</th>\n",
       "      <th>10</th>\n",
       "      <td>28</td>\n",
       "    </tr>\n",
       "    <tr>\n",
       "      <th>xiaozhinew_three_up</th>\n",
       "      <th>8c0ec25092ec70983bb320101b789c79</th>\n",
       "      <th>2018/05/03</th>\n",
       "      <th>9</th>\n",
       "      <td>27</td>\n",
       "    </tr>\n",
       "    <tr>\n",
       "      <th>xiaozhinew_three_down</th>\n",
       "      <th>71db3c442726fce25add2fbcdbdb5006</th>\n",
       "      <th>2018/05/07</th>\n",
       "      <th>10</th>\n",
       "      <td>27</td>\n",
       "    </tr>\n",
       "    <tr>\n",
       "      <th>xiaozhinew_three_up</th>\n",
       "      <th>ac99d30cd3aae8be4a58219aaa0bc5cd</th>\n",
       "      <th>2018/05/13</th>\n",
       "      <th>23</th>\n",
       "      <td>27</td>\n",
       "    </tr>\n",
       "    <tr>\n",
       "      <th>huitt_threeup_1</th>\n",
       "      <th>2d4fb8100d5073302a765e9ebbab77c2</th>\n",
       "      <th>2018/05/08</th>\n",
       "      <th>5</th>\n",
       "      <td>26</td>\n",
       "    </tr>\n",
       "    <tr>\n",
       "      <th rowspan=\"31\" valign=\"top\">huitt_three</th>\n",
       "      <th>81b881bbb5a151d867dc15fa120f9545</th>\n",
       "      <th>2018/05/11</th>\n",
       "      <th>4</th>\n",
       "      <td>26</td>\n",
       "    </tr>\n",
       "    <tr>\n",
       "      <th>...</th>\n",
       "      <th>...</th>\n",
       "      <th>...</th>\n",
       "      <td>...</td>\n",
       "    </tr>\n",
       "    <tr>\n",
       "      <th>86a3aedb0c7241e59db189ad43d589d8</th>\n",
       "      <th>2018/05/06</th>\n",
       "      <th>6</th>\n",
       "      <td>1</td>\n",
       "    </tr>\n",
       "    <tr>\n",
       "      <th>8683c61ea2dadff36cf7b5d57eac270a</th>\n",
       "      <th>2018/05/04</th>\n",
       "      <th>8</th>\n",
       "      <td>1</td>\n",
       "    </tr>\n",
       "    <tr>\n",
       "      <th>8683527fff58df0d5826a0d1bdc4e71e</th>\n",
       "      <th>2018/05/05</th>\n",
       "      <th>4</th>\n",
       "      <td>1</td>\n",
       "    </tr>\n",
       "    <tr>\n",
       "      <th>8682c4fa048a8bf27ca99560cdd23e24</th>\n",
       "      <th>2018/05/05</th>\n",
       "      <th>6</th>\n",
       "      <td>1</td>\n",
       "    </tr>\n",
       "    <tr>\n",
       "      <th>86785bbe8a4916685f1a9b829520b868</th>\n",
       "      <th>2018/05/13</th>\n",
       "      <th>22</th>\n",
       "      <td>1</td>\n",
       "    </tr>\n",
       "    <tr>\n",
       "      <th>866cb0def06179a642a3822a5c0edf8a</th>\n",
       "      <th>2018/05/08</th>\n",
       "      <th>7</th>\n",
       "      <td>1</td>\n",
       "    </tr>\n",
       "    <tr>\n",
       "      <th>866ef20d34ae27c1be7edc8d8c1e559b</th>\n",
       "      <th>2018/05/02</th>\n",
       "      <th>4</th>\n",
       "      <td>1</td>\n",
       "    </tr>\n",
       "    <tr>\n",
       "      <th>8670fc2fdc3ea81793d9d21ae485a238</th>\n",
       "      <th>2018/04/30</th>\n",
       "      <th>23</th>\n",
       "      <td>1</td>\n",
       "    </tr>\n",
       "    <tr>\n",
       "      <th>867143cd32bfa39a23245c8f1423cae6</th>\n",
       "      <th>2018/05/08</th>\n",
       "      <th>3</th>\n",
       "      <td>1</td>\n",
       "    </tr>\n",
       "    <tr>\n",
       "      <th>8671927dd4f0f7d2457ecc5ef571b93e</th>\n",
       "      <th>2018/05/12</th>\n",
       "      <th>5</th>\n",
       "      <td>1</td>\n",
       "    </tr>\n",
       "    <tr>\n",
       "      <th rowspan=\"2\" valign=\"top\">86742e8935838196f6495f79c8c003f2</th>\n",
       "      <th rowspan=\"2\" valign=\"top\">2018/05/04</th>\n",
       "      <th>0</th>\n",
       "      <td>1</td>\n",
       "    </tr>\n",
       "    <tr>\n",
       "      <th>1</th>\n",
       "      <td>1</td>\n",
       "    </tr>\n",
       "    <tr>\n",
       "      <th>8675d5b68f41ced6fe78a0839412871a</th>\n",
       "      <th>2018/05/14</th>\n",
       "      <th>0</th>\n",
       "      <td>1</td>\n",
       "    </tr>\n",
       "    <tr>\n",
       "      <th rowspan=\"2\" valign=\"top\">867782c04f69eceb202cdfe962ca637b</th>\n",
       "      <th>2018/05/08</th>\n",
       "      <th>8</th>\n",
       "      <td>1</td>\n",
       "    </tr>\n",
       "    <tr>\n",
       "      <th>2018/05/09</th>\n",
       "      <th>23</th>\n",
       "      <td>1</td>\n",
       "    </tr>\n",
       "    <tr>\n",
       "      <th>867840584322327aff700fec763b1702</th>\n",
       "      <th>2018/05/09</th>\n",
       "      <th>5</th>\n",
       "      <td>1</td>\n",
       "    </tr>\n",
       "    <tr>\n",
       "      <th>8678b59dd0b2ff22a0d1b9753bffc422</th>\n",
       "      <th>2018/05/11</th>\n",
       "      <th>4</th>\n",
       "      <td>1</td>\n",
       "    </tr>\n",
       "    <tr>\n",
       "      <th>8682253ace7cb54cc0cfc515ca061169</th>\n",
       "      <th>2018/05/02</th>\n",
       "      <th>8</th>\n",
       "      <td>1</td>\n",
       "    </tr>\n",
       "    <tr>\n",
       "      <th>8678ebf9273a75f26daebc765aa4187a</th>\n",
       "      <th>2018/05/09</th>\n",
       "      <th>23</th>\n",
       "      <td>1</td>\n",
       "    </tr>\n",
       "    <tr>\n",
       "      <th>867a523bea07062c5b0853013a494710</th>\n",
       "      <th>2018/05/01</th>\n",
       "      <th>4</th>\n",
       "      <td>1</td>\n",
       "    </tr>\n",
       "    <tr>\n",
       "      <th>867c7473c1fe081f07ed103f7138ee19</th>\n",
       "      <th>2018/05/10</th>\n",
       "      <th>3</th>\n",
       "      <td>1</td>\n",
       "    </tr>\n",
       "    <tr>\n",
       "      <th>867d3e60481196f97fcb13d360b66187</th>\n",
       "      <th>2018/05/10</th>\n",
       "      <th>6</th>\n",
       "      <td>1</td>\n",
       "    </tr>\n",
       "    <tr>\n",
       "      <th>867d8ff5272e1c17e9f523223a36d5ef</th>\n",
       "      <th>2018/05/04</th>\n",
       "      <th>6</th>\n",
       "      <td>1</td>\n",
       "    </tr>\n",
       "    <tr>\n",
       "      <th>867f08cdcce7b751505bf813e675538c</th>\n",
       "      <th>2018/05/11</th>\n",
       "      <th>2</th>\n",
       "      <td>1</td>\n",
       "    </tr>\n",
       "    <tr>\n",
       "      <th>867f1c0a5fdcfc95453ba0cccec62987</th>\n",
       "      <th>2018/05/15</th>\n",
       "      <th>3</th>\n",
       "      <td>1</td>\n",
       "    </tr>\n",
       "    <tr>\n",
       "      <th>867f658f71630d9d548a4d832e408235</th>\n",
       "      <th>2018/05/01</th>\n",
       "      <th>3</th>\n",
       "      <td>1</td>\n",
       "    </tr>\n",
       "    <tr>\n",
       "      <th>8680acc722ee4f77767a55473731f43c</th>\n",
       "      <th>2018/05/14</th>\n",
       "      <th>9</th>\n",
       "      <td>1</td>\n",
       "    </tr>\n",
       "    <tr>\n",
       "      <th rowspan=\"2\" valign=\"top\">8681656d262dc8ac7bcc5559faa79610</th>\n",
       "      <th>2018/05/09</th>\n",
       "      <th>4</th>\n",
       "      <td>1</td>\n",
       "    </tr>\n",
       "    <tr>\n",
       "      <th>2018/05/15</th>\n",
       "      <th>5</th>\n",
       "      <td>1</td>\n",
       "    </tr>\n",
       "    <tr>\n",
       "      <th>xiaozhinew_three_up</th>\n",
       "      <th>fffe51674cd3ddd16ed3f11289720fa9</th>\n",
       "      <th>2018/05/13</th>\n",
       "      <th>3</th>\n",
       "      <td>1</td>\n",
       "    </tr>\n",
       "  </tbody>\n",
       "</table>\n",
       "<p>262576 rows × 1 columns</p>\n",
       "</div>"
      ],
      "text/plain": [
       "                                                                        event_id\n",
       "sub_pid_seller        maxentID                         day        hour          \n",
       "xiaozhinew_three_down 2223e440b2cc7a8d0945fbe6aa8b02d6 2018/05/13 14         142\n",
       "xiaozhinew_three_up   4e9634af76c78c5864a9bca8abdaa2df 2018/05/12 10         105\n",
       "xiaozhinew_three_down a2b59edf13e899172e3314550b2855e6 2018/05/13 5          102\n",
       "                      7f9a028c8e533b6e566c9124d8587979 2018/05/07 3           92\n",
       "xiaozhinew_three_up   49fbd0d0c73ac1ac1558f7797e95c289 2018/05/15 11          88\n",
       "                      870650996583ceabfda3bbd0a62d762f 2018/05/12 22          85\n",
       "xiaozhinew_three_down dd022936b05ca46e54751359a4748d1d 2018/05/07 8           52\n",
       "huitt_articledown     2bc5f5dc1566b49e2ddd4b1c028c27e7 2018/05/11 2           51\n",
       "xiaozhinew_three_up   70592c0ffe8b8b9a52a3016fc139f917 2018/05/07 12          50\n",
       "huitt_articledown     b1143ce3313fd5d2f3c2432386534302 2018/05/05 5           49\n",
       "xiaozhinew_three_up   9f26be2f6ebe04d769637283330c86df 2018/05/14 15          46\n",
       "xiaozhinew_three_down 7f9a028c8e533b6e566c9124d8587979 2018/05/07 4           45\n",
       "xiaozhinew_six        a6e910b2887702a84ac0d18c8b103ddc 2018/05/03 8           43\n",
       "xiaozhinew_three_up   0c1f4002d9eb1e3f4b1e7aea5d454cef 2018/05/14 18          41\n",
       "                      4086bd11e3955f519fddd1293ef654db 2018/05/07 9           39\n",
       "xiaozhinew_three_down b6e9e003a11eab4824a96896ef92e361 2018/05/08 13          37\n",
       "xiaozhinew_three_up   acc6331206a7b13ccec7455d29294b7f 2018/05/06 14          34\n",
       "xiaozhinew_three_down dd022936b05ca46e54751359a4748d1d 2018/05/07 9           32\n",
       "xiaozhinew_three_up   463c00f2aedac57793f9afa10497d258 2018/05/12 1           32\n",
       "                      e11dcda47fb80466fcde8cf191c61cb2 2018/04/30 16          32\n",
       "                      a6bf6627b7093b8d32147f275bed2f4b 2018/05/06 19          31\n",
       "                      2de864944e9bc1cad6c3212a7c62f030 2018/05/11 3           29\n",
       "xiaozhinew_three_down d589951182f33146a6a27a4291c68cff 2018/05/07 12          29\n",
       "xiaozhinew_three_up   aa4d2d61564eb7eb0cc614839e87a0a8 2018/05/03 12          28\n",
       "huitt_threemiddle_2   65c4a503fe39483ae26d142e0c035b2f 2018/05/09 10          28\n",
       "xiaozhinew_three_up   8c0ec25092ec70983bb320101b789c79 2018/05/03 9           27\n",
       "xiaozhinew_three_down 71db3c442726fce25add2fbcdbdb5006 2018/05/07 10          27\n",
       "xiaozhinew_three_up   ac99d30cd3aae8be4a58219aaa0bc5cd 2018/05/13 23          27\n",
       "huitt_threeup_1       2d4fb8100d5073302a765e9ebbab77c2 2018/05/08 5           26\n",
       "huitt_three           81b881bbb5a151d867dc15fa120f9545 2018/05/11 4           26\n",
       "...                                                                          ...\n",
       "                      86a3aedb0c7241e59db189ad43d589d8 2018/05/06 6            1\n",
       "                      8683c61ea2dadff36cf7b5d57eac270a 2018/05/04 8            1\n",
       "                      8683527fff58df0d5826a0d1bdc4e71e 2018/05/05 4            1\n",
       "                      8682c4fa048a8bf27ca99560cdd23e24 2018/05/05 6            1\n",
       "                      86785bbe8a4916685f1a9b829520b868 2018/05/13 22           1\n",
       "                      866cb0def06179a642a3822a5c0edf8a 2018/05/08 7            1\n",
       "                      866ef20d34ae27c1be7edc8d8c1e559b 2018/05/02 4            1\n",
       "                      8670fc2fdc3ea81793d9d21ae485a238 2018/04/30 23           1\n",
       "                      867143cd32bfa39a23245c8f1423cae6 2018/05/08 3            1\n",
       "                      8671927dd4f0f7d2457ecc5ef571b93e 2018/05/12 5            1\n",
       "                      86742e8935838196f6495f79c8c003f2 2018/05/04 0            1\n",
       "                                                                  1            1\n",
       "                      8675d5b68f41ced6fe78a0839412871a 2018/05/14 0            1\n",
       "                      867782c04f69eceb202cdfe962ca637b 2018/05/08 8            1\n",
       "                                                       2018/05/09 23           1\n",
       "                      867840584322327aff700fec763b1702 2018/05/09 5            1\n",
       "                      8678b59dd0b2ff22a0d1b9753bffc422 2018/05/11 4            1\n",
       "                      8682253ace7cb54cc0cfc515ca061169 2018/05/02 8            1\n",
       "                      8678ebf9273a75f26daebc765aa4187a 2018/05/09 23           1\n",
       "                      867a523bea07062c5b0853013a494710 2018/05/01 4            1\n",
       "                      867c7473c1fe081f07ed103f7138ee19 2018/05/10 3            1\n",
       "                      867d3e60481196f97fcb13d360b66187 2018/05/10 6            1\n",
       "                      867d8ff5272e1c17e9f523223a36d5ef 2018/05/04 6            1\n",
       "                      867f08cdcce7b751505bf813e675538c 2018/05/11 2            1\n",
       "                      867f1c0a5fdcfc95453ba0cccec62987 2018/05/15 3            1\n",
       "                      867f658f71630d9d548a4d832e408235 2018/05/01 3            1\n",
       "                      8680acc722ee4f77767a55473731f43c 2018/05/14 9            1\n",
       "                      8681656d262dc8ac7bcc5559faa79610 2018/05/09 4            1\n",
       "                                                       2018/05/15 5            1\n",
       "xiaozhinew_three_up   fffe51674cd3ddd16ed3f11289720fa9 2018/05/13 3            1\n",
       "\n",
       "[262576 rows x 1 columns]"
      ]
     },
     "execution_count": 134,
     "metadata": {},
     "output_type": "execute_result"
    }
   ],
   "source": [
    "df.groupby(['sub_pid_seller','maxentID','day','hour']).agg({'event_id':'count'}).sort_values(by='event_id',ascending=False)"
   ]
  },
  {
   "cell_type": "code",
   "execution_count": 133,
   "metadata": {
    "ExecuteTime": {
     "end_time": "2018-05-16T20:07:58.340913Z",
     "start_time": "2018-05-16T20:07:58.328242Z"
    },
    "collapsed": false
   },
   "outputs": [
    {
     "data": {
      "text/plain": [
       "maxentID    2223e440b2cc7a8d0945fbe6aa8b02d6\n",
       "day                               2018/05/13\n",
       "hour                                      14\n",
       "Name: 35041, dtype: object"
      ]
     },
     "execution_count": 133,
     "metadata": {},
     "output_type": "execute_result"
    }
   ],
   "source": [
    "bad_dev"
   ]
  },
  {
   "cell_type": "code",
   "execution_count": 136,
   "metadata": {
    "ExecuteTime": {
     "end_time": "2018-05-16T20:24:19.959899Z",
     "start_time": "2018-05-16T20:24:19.937003Z"
    },
    "collapsed": false
   },
   "outputs": [
    {
     "data": {
      "text/plain": [
       "False    324715\n",
       "True       5452\n",
       "Name: isSimulator_value, dtype: int64"
      ]
     },
     "execution_count": 136,
     "metadata": {},
     "output_type": "execute_result"
    }
   ],
   "source": [
    "df.isSimulator_value.value_counts()"
   ]
  },
  {
   "cell_type": "code",
   "execution_count": 137,
   "metadata": {
    "ExecuteTime": {
     "end_time": "2018-05-16T20:24:40.757026Z",
     "start_time": "2018-05-16T20:24:40.708192Z"
    },
    "collapsed": false
   },
   "outputs": [
    {
     "data": {
      "text/plain": [
       "(5452, 22)"
      ]
     },
     "execution_count": 137,
     "metadata": {},
     "output_type": "execute_result"
    }
   ],
   "source": [
    "df.loc[df.isSimulator_value == True]"
   ]
  },
  {
   "cell_type": "code",
   "execution_count": null,
   "metadata": {
    "collapsed": true
   },
   "outputs": [],
   "source": []
  }
 ],
 "metadata": {
  "kernelspec": {
   "display_name": "Python 2",
   "language": "python",
   "name": "python2"
  },
  "language_info": {
   "codemirror_mode": {
    "name": "ipython",
    "version": 2
   },
   "file_extension": ".py",
   "mimetype": "text/x-python",
   "name": "python",
   "nbconvert_exporter": "python",
   "pygments_lexer": "ipython2",
   "version": "2.7.13"
  },
  "varInspector": {
   "cols": {
    "lenName": 16,
    "lenType": 16,
    "lenVar": 40
   },
   "kernels_config": {
    "python": {
     "delete_cmd_postfix": "",
     "delete_cmd_prefix": "del ",
     "library": "var_list.py",
     "varRefreshCmd": "print(var_dic_list())"
    },
    "r": {
     "delete_cmd_postfix": ") ",
     "delete_cmd_prefix": "rm(",
     "library": "var_list.r",
     "varRefreshCmd": "cat(var_dic_list()) "
    }
   },
   "types_to_exclude": [
    "module",
    "function",
    "builtin_function_or_method",
    "instance",
    "_Feature"
   ],
   "window_display": false
  }
 },
 "nbformat": 4,
 "nbformat_minor": 0
}
