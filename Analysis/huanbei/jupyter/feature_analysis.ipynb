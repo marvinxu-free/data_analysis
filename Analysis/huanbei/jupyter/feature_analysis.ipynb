{
 "cells": [
  {
   "cell_type": "code",
   "execution_count": 1,
   "metadata": {
    "collapsed": false
   },
   "outputs": [
    {
     "name": "stderr",
     "output_type": "stream",
     "text": [
      "/Users/chaoxu/.pyenv/versions/anaconda2-4.3.1/lib/python2.7/site-packages/sklearn/cross_validation.py:41: DeprecationWarning: This module was deprecated in version 0.18 in favor of the model_selection module into which all the refactored classes and functions are moved. Also note that the interface of the new CV iterators are different from that of this module. This module will be removed in 0.20.\n",
      "  \"This module will be removed in 0.20.\", DeprecationWarning)\n"
     ]
    }
   ],
   "source": [
    "from __future__ import print_function,division\n",
    "import numpy as np\n",
    "import pandas as pd\n",
    "import datetime\n",
    "from Utils.common.custerReadFile import custom_open\n",
    "from Algorithm.dfp_xgboost import ios_dfp_xg,ios_dfp_p2,ios_dfp_p4\n",
    "import json\n",
    "import re\n",
    "from sklearn.preprocessing import MinMaxScaler\n",
    "import warnings\n",
    "warnings.filterwarnings(\"ignore\")\n",
    "\n",
    "entropy_match = re.compile('^.*_entropy$')\n",
    "\n",
    "def readData(file_, os_sys=\"ios\"):\n",
    "    \"\"\"\n",
    "    read data from huanbei\n",
    "    :param file_:\n",
    "    :param os_sys:\n",
    "    :return:\n",
    "    \"\"\"\n",
    "    with custom_open(file_) as f:\n",
    "        data = f\n",
    "        res = []\n",
    "        for doc in data:\n",
    "            doc = json.loads(doc)\n",
    "            a = {}\n",
    "            diff = datetime.datetime.fromtimestamp(doc['sourceDoc']['timestamp'] / 1000)\\\n",
    "                              - datetime.datetime.fromtimestamp(doc['query']['timestamp'] / 1000)\n",
    "            a['event_fly'] = abs(diff.total_seconds() / 60)\n",
    "        if (doc['sourceDoc']['inApp'] == True and doc['sourceDoc']['inApp'] == doc['query']['inApp']):\n",
    "            a['dfp_type'] = 0\n",
    "        elif (doc['sourceDoc']['inApp'] == False and doc['sourceDoc']['inApp'] == doc['query']['inApp']):\n",
    "            a['dfp_type'] = 1\n",
    "        else:\n",
    "            a['dfp_type'] = 2\n",
    "\n",
    "            for (x, y ) in doc[\"dfpDetail\"].items():\n",
    "                entropy_flg = entropy_match.match(x)\n",
    "                if entropy_flg:\n",
    "                    key = y['addEntropy']['level'] + \"_entropy\"\n",
    "                    a[key] = float(y['entropy'])\n",
    "                else:\n",
    "                    if x == \"constants\":\n",
    "                        pass\n",
    "                    elif x == \"client_ts\":\n",
    "                        key = y['addEntropy']['level'] + \"_entropy\"\n",
    "                        a[key] = float(y['entropy'])\n",
    "                    else:\n",
    "                        a[x] = y\n",
    "            if doc.get('label_expect') is not None:\n",
    "                flg = doc.get('label_expect') == \"match\"\n",
    "                if flg:\n",
    "                    a['label'] = 1\n",
    "                else:\n",
    "                    a['label'] = 0\n",
    "            elif doc.get('expect') is not None:\n",
    "                flg = doc.get('expect') == \"match\"\n",
    "                if flg:\n",
    "                    a['label'] = 1\n",
    "                else:\n",
    "                    a['label'] = 0\n",
    "            else:\n",
    "                a['label'] = 0\n",
    "            a['score'] = doc.get('score',0)\n",
    "            res.append(a)\n",
    "        df = pd.DataFrame(res)\n",
    "        df[['slope']] = df[['slope']].astype(float)\n",
    "        df[['label']] = df[['label']].fillna(0)\n",
    "\n",
    "        obj_cols = df.select_dtypes(include=[np.object_]).columns.tolist()\n",
    "        for col in obj_cols:\n",
    "            dummy_col = pd.get_dummies(df[col])\n",
    "            df = pd.concat([df, dummy_col], axis=1)\n",
    "\n",
    "        df.drop(obj_cols, inplace=True, axis=1)\n",
    "\n",
    "\n",
    "        ts_match = re.compile('^.*ts_diff$')\n",
    "        ts_amatch = np.vectorize(lambda x: bool(ts_match.match(x)))\n",
    "        ts_cols = df.columns.values[ts_amatch(df.columns.values)]\n",
    "        ts_df = df[ts_cols]\n",
    "        ts_no = df[df.columns.difference(ts_cols)]\n",
    "        \n",
    "\n",
    "        min_max_scaler = MinMaxScaler()\n",
    "        X_scaled = min_max_scaler.fit_transform(ts_df)\n",
    "        ts_df = pd.DataFrame(X_scaled, columns=ts_df.columns)\n",
    "        df = pd.concat([ts_no, ts_df], axis=1)\n",
    "\n",
    "        return df"
   ]
  },
  {
   "cell_type": "code",
   "execution_count": 2,
   "metadata": {
    "collapsed": true
   },
   "outputs": [],
   "source": [
    "file_p1 = \"/Users/chaoxu/code/local-spark/Data/sample_huanbei/data.json\""
   ]
  },
  {
   "cell_type": "code",
   "execution_count": 3,
   "metadata": {
    "collapsed": true
   },
   "outputs": [],
   "source": [
    "df = readData(file_=file_p1)"
   ]
  },
  {
   "cell_type": "code",
   "execution_count": 6,
   "metadata": {
    "collapsed": true
   },
   "outputs": [],
   "source": [
    "df1 = df.loc[df.dfp_type ==2]"
   ]
  },
  {
   "cell_type": "code",
   "execution_count": 7,
   "metadata": {
    "collapsed": false
   },
   "outputs": [
    {
     "data": {
      "text/html": [
       "<div>\n",
       "<table border=\"1\" class=\"dataframe\">\n",
       "  <thead>\n",
       "    <tr style=\"text-align: right;\">\n",
       "      <th></th>\n",
       "      <th>baseEntropy</th>\n",
       "      <th>boottime_entropy</th>\n",
       "      <th>client_ts_entropy</th>\n",
       "      <th>device_browser_engine_entropy</th>\n",
       "      <th>device_model</th>\n",
       "      <th>dfp_type</th>\n",
       "      <th>event_fly</th>\n",
       "      <th>ip_entropy</th>\n",
       "      <th>jsid_entropy</th>\n",
       "      <th>label</th>\n",
       "      <th>resolution</th>\n",
       "      <th>score</th>\n",
       "      <th>slope</th>\n",
       "      <th>client_ts_diff</th>\n",
       "      <th>tcpts_diff</th>\n",
       "      <th>ts_diff</th>\n",
       "    </tr>\n",
       "  </thead>\n",
       "  <tbody>\n",
       "    <tr>\n",
       "      <th>0</th>\n",
       "      <td>1.0</td>\n",
       "      <td>13.233077</td>\n",
       "      <td>3.53957</td>\n",
       "      <td>9.414166</td>\n",
       "      <td>0.0</td>\n",
       "      <td>2</td>\n",
       "      <td>48.535883</td>\n",
       "      <td>19.23456</td>\n",
       "      <td>0.0</td>\n",
       "      <td>0</td>\n",
       "      <td>0.0</td>\n",
       "      <td>1.0</td>\n",
       "      <td>0.965773</td>\n",
       "      <td>0.0</td>\n",
       "      <td>0.0</td>\n",
       "      <td>0.0</td>\n",
       "    </tr>\n",
       "  </tbody>\n",
       "</table>\n",
       "</div>"
      ],
      "text/plain": [
       "   baseEntropy  boottime_entropy  client_ts_entropy  \\\n",
       "0          1.0         13.233077            3.53957   \n",
       "\n",
       "   device_browser_engine_entropy  device_model  dfp_type  event_fly  \\\n",
       "0                       9.414166           0.0         2  48.535883   \n",
       "\n",
       "   ip_entropy  jsid_entropy  label  resolution  score     slope  \\\n",
       "0    19.23456           0.0      0         0.0    1.0  0.965773   \n",
       "\n",
       "   client_ts_diff  tcpts_diff  ts_diff  \n",
       "0             0.0         0.0      0.0  "
      ]
     },
     "execution_count": 7,
     "metadata": {},
     "output_type": "execute_result"
    }
   ],
   "source": [
    "df1.head()"
   ]
  },
  {
   "cell_type": "code",
   "execution_count": 8,
   "metadata": {
    "collapsed": false
   },
   "outputs": [
    {
     "data": {
      "text/plain": [
       "0    1\n",
       "Name: label, dtype: int64"
      ]
     },
     "execution_count": 8,
     "metadata": {},
     "output_type": "execute_result"
    }
   ],
   "source": [
    "df1.label.value_counts()"
   ]
  },
  {
   "cell_type": "code",
   "execution_count": null,
   "metadata": {
    "collapsed": true
   },
   "outputs": [],
   "source": []
  }
 ],
 "metadata": {
  "kernelspec": {
   "display_name": "Python 2",
   "language": "python",
   "name": "python2"
  },
  "language_info": {
   "codemirror_mode": {
    "name": "ipython",
    "version": 2
   },
   "file_extension": ".py",
   "mimetype": "text/x-python",
   "name": "python",
   "nbconvert_exporter": "python",
   "pygments_lexer": "ipython2",
   "version": "2.7.13"
  },
  "latex_envs": {
   "LaTeX_envs_menu_present": true,
   "autocomplete": true,
   "bibliofile": "biblio.bib",
   "cite_by": "apalike",
   "current_citInitial": 1,
   "eqLabelWithNumbers": true,
   "eqNumInitial": 1,
   "hotkeys": {
    "equation": "Ctrl-E",
    "itemize": "Ctrl-I"
   },
   "labels_anchors": false,
   "latex_user_defs": false,
   "report_style_numbering": false,
   "user_envs_cfg": false
  },
  "toc": {
   "nav_menu": {},
   "number_sections": true,
   "sideBar": true,
   "skip_h1_title": false,
   "toc_cell": false,
   "toc_position": {},
   "toc_section_display": "block",
   "toc_window_display": false
  },
  "varInspector": {
   "cols": {
    "lenName": 16,
    "lenType": 16,
    "lenVar": 40
   },
   "kernels_config": {
    "python": {
     "delete_cmd_postfix": "",
     "delete_cmd_prefix": "del ",
     "library": "var_list.py",
     "varRefreshCmd": "print(var_dic_list())"
    },
    "r": {
     "delete_cmd_postfix": ") ",
     "delete_cmd_prefix": "rm(",
     "library": "var_list.r",
     "varRefreshCmd": "cat(var_dic_list()) "
    }
   },
   "types_to_exclude": [
    "module",
    "function",
    "builtin_function_or_method",
    "instance",
    "_Feature"
   ],
   "window_display": false
  }
 },
 "nbformat": 4,
 "nbformat_minor": 0
}
