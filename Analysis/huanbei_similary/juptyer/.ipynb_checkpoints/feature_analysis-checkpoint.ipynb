{
 "cells": [
  {
   "cell_type": "code",
   "execution_count": 1,
   "metadata": {
    "ExecuteTime": {
     "end_time": "2017-12-20T15:06:36.252757Z",
     "start_time": "2017-12-20T15:06:36.248965Z"
    },
    "collapsed": false
   },
   "outputs": [],
   "source": [
    "from Utils.common.custerReadFile import read_multi_csv"
   ]
  },
  {
   "cell_type": "code",
   "execution_count": 2,
   "metadata": {
    "ExecuteTime": {
     "end_time": "2017-12-20T15:06:53.354710Z",
     "start_time": "2017-12-20T15:06:53.351067Z"
    },
    "collapsed": false
   },
   "outputs": [],
   "source": [
    "fname = \"/Users/chaoxu/code/local-spark/Data/huanbei_device_similary\""
   ]
  },
  {
   "cell_type": "code",
   "execution_count": 3,
   "metadata": {
    "ExecuteTime": {
     "end_time": "2017-12-20T15:07:49.864521Z",
     "start_time": "2017-12-20T15:07:05.047131Z"
    },
    "collapsed": false
   },
   "outputs": [],
   "source": [
    "df = read_multi_csv(path=fname)"
   ]
  },
  {
   "cell_type": "code",
   "execution_count": 4,
   "metadata": {
    "ExecuteTime": {
     "end_time": "2017-12-20T15:08:12.161814Z",
     "start_time": "2017-12-20T15:08:12.106012Z"
    },
    "collapsed": false
   },
   "outputs": [
    {
     "data": {
      "text/html": [
       "<div>\n",
       "<table border=\"1\" class=\"dataframe\">\n",
       "  <thead>\n",
       "    <tr style=\"text-align: right;\">\n",
       "      <th></th>\n",
       "      <th>city</th>\n",
       "      <th>country</th>\n",
       "      <th>country_code</th>\n",
       "      <th>event_id</th>\n",
       "      <th>ip</th>\n",
       "      <th>is_cracked</th>\n",
       "      <th>is_proxy</th>\n",
       "      <th>is_simulator</th>\n",
       "      <th>maxent_id</th>\n",
       "      <th>mobile</th>\n",
       "      <th>province</th>\n",
       "      <th>timestamp</th>\n",
       "      <th>type</th>\n",
       "      <th>ua_mismatch</th>\n",
       "    </tr>\n",
       "  </thead>\n",
       "  <tbody>\n",
       "    <tr>\n",
       "      <th>0</th>\n",
       "      <td>北京市</td>\n",
       "      <td>中国</td>\n",
       "      <td>CHN</td>\n",
       "      <td>46873f33-dd16-400d-91fe-c641c003a381</td>\n",
       "      <td>61.148.242.198</td>\n",
       "      <td>False</td>\n",
       "      <td>False</td>\n",
       "      <td>UNKNOWN</td>\n",
       "      <td>53f189bc1187a9755ff977fb14197235</td>\n",
       "      <td>20164E3C869E24705B931D85BCB59108</td>\n",
       "      <td>北京市</td>\n",
       "      <td>1508138436772</td>\n",
       "      <td>active</td>\n",
       "      <td>False</td>\n",
       "    </tr>\n",
       "    <tr>\n",
       "      <th>1</th>\n",
       "      <td>盐城市</td>\n",
       "      <td>中国</td>\n",
       "      <td>CHN</td>\n",
       "      <td>f7000e40-4de5-4576-9263-32db2dfe2764</td>\n",
       "      <td>183.210.24.62</td>\n",
       "      <td>False</td>\n",
       "      <td>False</td>\n",
       "      <td>UNKNOWN</td>\n",
       "      <td>0a36b11b8d97d519e7f5c8cb947fdab8</td>\n",
       "      <td>E19CCA855AACFFAA1912F17E6CC5760D</td>\n",
       "      <td>江苏省</td>\n",
       "      <td>1508138451868</td>\n",
       "      <td>active</td>\n",
       "      <td>False</td>\n",
       "    </tr>\n",
       "    <tr>\n",
       "      <th>2</th>\n",
       "      <td>UNKNOWN</td>\n",
       "      <td>中国</td>\n",
       "      <td>CHN</td>\n",
       "      <td>eb81d23a-faad-49cb-8285-a676f1333377</td>\n",
       "      <td>117.136.94.198</td>\n",
       "      <td>False</td>\n",
       "      <td>False</td>\n",
       "      <td>UNKNOWN</td>\n",
       "      <td>61063941d59a6c3998c404ffd6e3ff8a</td>\n",
       "      <td>51B836B4EB4E0E75778368EC0B026C40</td>\n",
       "      <td>山东省</td>\n",
       "      <td>1508138452859</td>\n",
       "      <td>active</td>\n",
       "      <td>False</td>\n",
       "    </tr>\n",
       "    <tr>\n",
       "      <th>3</th>\n",
       "      <td>UNKNOWN</td>\n",
       "      <td>中国</td>\n",
       "      <td>CHN</td>\n",
       "      <td>89d239c8-fadb-40d4-a903-5864a4c3dff7</td>\n",
       "      <td>117.136.79.120</td>\n",
       "      <td>False</td>\n",
       "      <td>False</td>\n",
       "      <td>UNKNOWN</td>\n",
       "      <td>8a30a4581e4ad1f21c10f02199933382</td>\n",
       "      <td>698DC03ECA1CE382E50896836E3EB33C</td>\n",
       "      <td>广东省</td>\n",
       "      <td>1508138454047</td>\n",
       "      <td>active</td>\n",
       "      <td>False</td>\n",
       "    </tr>\n",
       "    <tr>\n",
       "      <th>4</th>\n",
       "      <td>UNKNOWN</td>\n",
       "      <td>中国</td>\n",
       "      <td>CHN</td>\n",
       "      <td>b4a166a6-7651-48e3-9115-b2781faf23c6</td>\n",
       "      <td>117.136.68.190</td>\n",
       "      <td>False</td>\n",
       "      <td>False</td>\n",
       "      <td>UNKNOWN</td>\n",
       "      <td>02d7cb84-8d39-44f1-9f59-59c12a974caf</td>\n",
       "      <td>NaN</td>\n",
       "      <td>江苏省</td>\n",
       "      <td>1508138474311</td>\n",
       "      <td>active</td>\n",
       "      <td>False</td>\n",
       "    </tr>\n",
       "  </tbody>\n",
       "</table>\n",
       "</div>"
      ],
      "text/plain": [
       "      city country country_code                              event_id  \\\n",
       "0      北京市      中国          CHN  46873f33-dd16-400d-91fe-c641c003a381   \n",
       "1      盐城市      中国          CHN  f7000e40-4de5-4576-9263-32db2dfe2764   \n",
       "2  UNKNOWN      中国          CHN  eb81d23a-faad-49cb-8285-a676f1333377   \n",
       "3  UNKNOWN      中国          CHN  89d239c8-fadb-40d4-a903-5864a4c3dff7   \n",
       "4  UNKNOWN      中国          CHN  b4a166a6-7651-48e3-9115-b2781faf23c6   \n",
       "\n",
       "               ip is_cracked is_proxy is_simulator  \\\n",
       "0  61.148.242.198      False    False      UNKNOWN   \n",
       "1   183.210.24.62      False    False      UNKNOWN   \n",
       "2  117.136.94.198      False    False      UNKNOWN   \n",
       "3  117.136.79.120      False    False      UNKNOWN   \n",
       "4  117.136.68.190      False    False      UNKNOWN   \n",
       "\n",
       "                              maxent_id                            mobile  \\\n",
       "0      53f189bc1187a9755ff977fb14197235  20164E3C869E24705B931D85BCB59108   \n",
       "1      0a36b11b8d97d519e7f5c8cb947fdab8  E19CCA855AACFFAA1912F17E6CC5760D   \n",
       "2      61063941d59a6c3998c404ffd6e3ff8a  51B836B4EB4E0E75778368EC0B026C40   \n",
       "3      8a30a4581e4ad1f21c10f02199933382  698DC03ECA1CE382E50896836E3EB33C   \n",
       "4  02d7cb84-8d39-44f1-9f59-59c12a974caf                               NaN   \n",
       "\n",
       "  province      timestamp    type ua_mismatch  \n",
       "0      北京市  1508138436772  active       False  \n",
       "1      江苏省  1508138451868  active       False  \n",
       "2      山东省  1508138452859  active       False  \n",
       "3      广东省  1508138454047  active       False  \n",
       "4      江苏省  1508138474311  active       False  "
      ]
     },
     "execution_count": 4,
     "metadata": {},
     "output_type": "execute_result"
    }
   ],
   "source": [
    "df.head()"
   ]
  },
  {
   "cell_type": "code",
   "execution_count": 5,
   "metadata": {
    "ExecuteTime": {
     "end_time": "2017-12-20T15:08:32.922950Z",
     "start_time": "2017-12-20T15:08:32.876644Z"
    },
    "collapsed": false
   },
   "outputs": [
    {
     "data": {
      "text/plain": [
       "50057"
      ]
     },
     "execution_count": 5,
     "metadata": {},
     "output_type": "execute_result"
    }
   ],
   "source": [
    "df.maxent_id.nunique()"
   ]
  },
  {
   "cell_type": "code",
   "execution_count": 8,
   "metadata": {
    "ExecuteTime": {
     "end_time": "2017-12-20T15:57:24.328505Z",
     "start_time": "2017-12-20T15:57:24.273850Z"
    },
    "collapsed": false
   },
   "outputs": [
    {
     "data": {
      "text/plain": [
       "39702"
      ]
     },
     "execution_count": 8,
     "metadata": {},
     "output_type": "execute_result"
    }
   ],
   "source": [
    "df.mobile.nunique()"
   ]
  },
  {
   "cell_type": "code",
   "execution_count": 9,
   "metadata": {
    "ExecuteTime": {
     "end_time": "2017-12-20T16:05:26.389424Z",
     "start_time": "2017-12-20T16:05:26.360188Z"
    },
    "collapsed": false
   },
   "outputs": [
    {
     "data": {
      "text/plain": [
       "(124687, 14)"
      ]
     },
     "execution_count": 9,
     "metadata": {},
     "output_type": "execute_result"
    }
   ],
   "source": [
    "df.shape"
   ]
  },
  {
   "cell_type": "code",
   "execution_count": null,
   "metadata": {
    "collapsed": false
   },
   "outputs": [],
   "source": []
  }
 ],
 "metadata": {
  "kernelspec": {
   "display_name": "Python 2",
   "language": "python",
   "name": "python2"
  },
  "language_info": {
   "codemirror_mode": {
    "name": "ipython",
    "version": 2
   },
   "file_extension": ".py",
   "mimetype": "text/x-python",
   "name": "python",
   "nbconvert_exporter": "python",
   "pygments_lexer": "ipython2",
   "version": "2.7.13"
  },
  "toc": {
   "nav_menu": {},
   "number_sections": true,
   "sideBar": true,
   "skip_h1_title": false,
   "toc_cell": false,
   "toc_position": {},
   "toc_section_display": "block",
   "toc_window_display": false
  }
 },
 "nbformat": 4,
 "nbformat_minor": 0
}
