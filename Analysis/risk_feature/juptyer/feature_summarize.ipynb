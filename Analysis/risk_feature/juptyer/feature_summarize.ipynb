{
 "cells": [
  {
   "cell_type": "code",
   "execution_count": 1,
   "metadata": {
    "ExecuteTime": {
     "end_time": "2017-12-19T10:37:28.544885Z",
     "start_time": "2017-12-19T10:37:26.214138Z"
    },
    "collapsed": false
   },
   "outputs": [],
   "source": [
    "import pandas as pd\n",
    "import numpy as np\n",
    "from Utils.common.custerReadFile import read_multi_csv\n",
    "from Pic.maxent_style import maxent_style\n",
    "from matplotlib import pyplot as plt\n",
    "import seaborn as sns\n",
    "from scipy.stats import norm,t,f,betaprime,logistic,exponpow,foldnorm,poisson\n",
    "import matplotlib.dates as mdates"
   ]
  },
  {
   "cell_type": "code",
   "execution_count": 2,
   "metadata": {
    "ExecuteTime": {
     "end_time": "2017-12-19T10:37:28.597337Z",
     "start_time": "2017-12-19T10:37:28.556690Z"
    },
    "collapsed": false
   },
   "outputs": [],
   "source": [
    "path = \"/Users/chaoxu/code/local-spark/Data/jiufu/risk_feature_csv\""
   ]
  },
  {
   "cell_type": "code",
   "execution_count": 3,
   "metadata": {
    "ExecuteTime": {
     "end_time": "2017-12-19T10:38:39.147897Z",
     "start_time": "2017-12-19T10:37:28.607579Z"
    },
    "collapsed": false
   },
   "outputs": [],
   "source": [
    "df = read_multi_csv(path=path)"
   ]
  },
  {
   "cell_type": "code",
   "execution_count": 4,
   "metadata": {
    "ExecuteTime": {
     "end_time": "2017-12-19T10:38:39.549716Z",
     "start_time": "2017-12-19T10:38:39.154225Z"
    },
    "collapsed": false
   },
   "outputs": [],
   "source": [
    "df = df.sort_values(by=\"timestamp\")"
   ]
  },
  {
   "cell_type": "code",
   "execution_count": 5,
   "metadata": {
    "ExecuteTime": {
     "end_time": "2017-12-19T10:38:39.720444Z",
     "start_time": "2017-12-19T10:38:39.698204Z"
    },
    "collapsed": false
   },
   "outputs": [
    {
     "data": {
      "text/plain": [
       "(124687, 14)"
      ]
     },
     "execution_count": 5,
     "metadata": {},
     "output_type": "execute_result"
    }
   ],
   "source": [
    "df.shape"
   ]
  },
  {
   "cell_type": "code",
   "execution_count": 6,
   "metadata": {
    "ExecuteTime": {
     "end_time": "2017-12-19T10:38:40.214270Z",
     "start_time": "2017-12-19T10:38:39.725694Z"
    },
    "collapsed": false
   },
   "outputs": [
    {
     "data": {
      "text/plain": [
       "(111799, 14)"
      ]
     },
     "execution_count": 6,
     "metadata": {},
     "output_type": "execute_result"
    }
   ],
   "source": [
    "df[df.mobile.notnull()].shape"
   ]
  },
  {
   "cell_type": "code",
   "execution_count": 7,
   "metadata": {
    "ExecuteTime": {
     "end_time": "2017-12-19T10:38:40.472434Z",
     "start_time": "2017-12-19T10:38:40.220651Z"
    },
    "collapsed": false
   },
   "outputs": [],
   "source": [
    "df = df.loc[(df.mobile.notnull()) & (df.ckid.notnull()) & (df.ip.notnull()) & (df.city.notnull())]"
   ]
  },
  {
   "cell_type": "code",
   "execution_count": 8,
   "metadata": {
    "ExecuteTime": {
     "end_time": "2017-12-19T10:38:40.552938Z",
     "start_time": "2017-12-19T10:38:40.492889Z"
    },
    "collapsed": false
   },
   "outputs": [
    {
     "data": {
      "text/plain": [
       "305"
      ]
     },
     "execution_count": 8,
     "metadata": {},
     "output_type": "execute_result"
    }
   ],
   "source": [
    "df.city.drop_duplicates().count()"
   ]
  },
  {
   "cell_type": "code",
   "execution_count": 9,
   "metadata": {
    "ExecuteTime": {
     "end_time": "2017-12-19T10:38:40.747141Z",
     "start_time": "2017-12-19T10:38:40.557924Z"
    },
    "collapsed": false
   },
   "outputs": [
    {
     "data": {
      "text/plain": [
       "71166"
      ]
     },
     "execution_count": 9,
     "metadata": {},
     "output_type": "execute_result"
    }
   ],
   "source": [
    "df.ckid.drop_duplicates().count()"
   ]
  },
  {
   "cell_type": "code",
   "execution_count": 10,
   "metadata": {
    "ExecuteTime": {
     "end_time": "2017-12-19T10:38:40.979678Z",
     "start_time": "2017-12-19T10:38:40.754321Z"
    },
    "collapsed": false
   },
   "outputs": [
    {
     "data": {
      "text/plain": [
       "111767"
      ]
     },
     "execution_count": 10,
     "metadata": {},
     "output_type": "execute_result"
    }
   ],
   "source": [
    "df.event_id.drop_duplicates().count()"
   ]
  },
  {
   "cell_type": "code",
   "execution_count": 11,
   "metadata": {
    "ExecuteTime": {
     "end_time": "2017-12-19T10:38:41.862326Z",
     "start_time": "2017-12-19T10:38:40.987476Z"
    },
    "collapsed": false
   },
   "outputs": [],
   "source": [
    "df_e = df.groupby('ckid').agg({'event_id':'nunique'}).reset_index()"
   ]
  },
  {
   "cell_type": "code",
   "execution_count": 12,
   "metadata": {
    "ExecuteTime": {
     "end_time": "2017-12-19T10:38:41.888983Z",
     "start_time": "2017-12-19T10:38:41.865192Z"
    },
    "collapsed": false
   },
   "outputs": [
    {
     "data": {
      "text/plain": [
       "10    71\n",
       "11    50\n",
       "13    32\n",
       "12    29\n",
       "14    19\n",
       "15    15\n",
       "19    12\n",
       "16    10\n",
       "17     6\n",
       "20     4\n",
       "21     4\n",
       "22     3\n",
       "18     2\n",
       "31     2\n",
       "43     1\n",
       "26     1\n",
       "27     1\n",
       "29     1\n",
       "30     1\n",
       "38     1\n",
       "45     1\n",
       "Name: event_id, dtype: int64"
      ]
     },
     "execution_count": 12,
     "metadata": {},
     "output_type": "execute_result"
    }
   ],
   "source": [
    "df_e.loc[df_e.event_id >= 10]['event_id'].value_counts()"
   ]
  },
  {
   "cell_type": "code",
   "execution_count": 13,
   "metadata": {
    "ExecuteTime": {
     "end_time": "2017-12-19T10:39:49.257358Z",
     "start_time": "2017-12-19T10:39:49.242875Z"
    },
    "collapsed": false
   },
   "outputs": [
    {
     "data": {
      "text/plain": [
       "count    71166.000000\n",
       "mean         1.570511\n",
       "std          1.325078\n",
       "min          1.000000\n",
       "25%          1.000000\n",
       "50%          1.000000\n",
       "75%          2.000000\n",
       "max         45.000000\n",
       "Name: event_id, dtype: float64"
      ]
     },
     "execution_count": 13,
     "metadata": {},
     "output_type": "execute_result"
    }
   ],
   "source": [
    "df_e.event_id.describe()"
   ]
  },
  {
   "cell_type": "code",
   "execution_count": 70,
   "metadata": {
    "ExecuteTime": {
     "end_time": "2017-12-18T15:40:14.012476Z",
     "start_time": "2017-12-18T15:39:54.223045Z"
    },
    "collapsed": false
   },
   "outputs": [
    {
     "data": {
      "text/html": [
       "<div>\n",
       "<table border=\"1\" class=\"dataframe\">\n",
       "  <thead>\n",
       "    <tr style=\"text-align: right;\">\n",
       "      <th></th>\n",
       "      <th>city</th>\n",
       "      <th>ckid</th>\n",
       "      <th>country</th>\n",
       "      <th>country_code</th>\n",
       "      <th>event_id</th>\n",
       "      <th>ip</th>\n",
       "      <th>is_cracked</th>\n",
       "      <th>is_proxy</th>\n",
       "      <th>is_simulator</th>\n",
       "      <th>mobile</th>\n",
       "      <th>province</th>\n",
       "      <th>timestamp</th>\n",
       "      <th>type</th>\n",
       "      <th>ua_mismatch</th>\n",
       "    </tr>\n",
       "  </thead>\n",
       "  <tbody>\n",
       "    <tr>\n",
       "      <th>60479</th>\n",
       "      <td>南京市</td>\n",
       "      <td>48a7427671dbf517aaaaaaa</td>\n",
       "      <td>中国</td>\n",
       "      <td>CHN</td>\n",
       "      <td>47c3d971-e2b7-4c07-acda-d9d966d4cd52</td>\n",
       "      <td>122.96.41.16</td>\n",
       "      <td>False</td>\n",
       "      <td>False</td>\n",
       "      <td>UNKNOWN</td>\n",
       "      <td>FAA03DCC04CBC64A3EF73913871402EF</td>\n",
       "      <td>江苏省</td>\n",
       "      <td>1511915178944</td>\n",
       "      <td>active</td>\n",
       "      <td>False</td>\n",
       "    </tr>\n",
       "    <tr>\n",
       "      <th>60480</th>\n",
       "      <td>南京市</td>\n",
       "      <td>48a7427671dbf517aaaaaaa</td>\n",
       "      <td>中国</td>\n",
       "      <td>CHN</td>\n",
       "      <td>47c3d971-e2b7-4c07-acda-d9d966d4cd52</td>\n",
       "      <td>122.96.41.16</td>\n",
       "      <td>False</td>\n",
       "      <td>False</td>\n",
       "      <td>UNKNOWN</td>\n",
       "      <td>FAA03DCC04CBC64A3EF73913871402EF</td>\n",
       "      <td>江苏省</td>\n",
       "      <td>1511915178944</td>\n",
       "      <td>active</td>\n",
       "      <td>False</td>\n",
       "    </tr>\n",
       "  </tbody>\n",
       "</table>\n",
       "</div>"
      ],
      "text/plain": [
       "      city                     ckid country country_code  \\\n",
       "60479  南京市  48a7427671dbf517aaaaaaa      中国          CHN   \n",
       "60480  南京市  48a7427671dbf517aaaaaaa      中国          CHN   \n",
       "\n",
       "                                   event_id            ip is_cracked is_proxy  \\\n",
       "60479  47c3d971-e2b7-4c07-acda-d9d966d4cd52  122.96.41.16      False    False   \n",
       "60480  47c3d971-e2b7-4c07-acda-d9d966d4cd52  122.96.41.16      False    False   \n",
       "\n",
       "      is_simulator                            mobile province      timestamp  \\\n",
       "60479      UNKNOWN  FAA03DCC04CBC64A3EF73913871402EF      江苏省  1511915178944   \n",
       "60480      UNKNOWN  FAA03DCC04CBC64A3EF73913871402EF      江苏省  1511915178944   \n",
       "\n",
       "         type ua_mismatch  \n",
       "60479  active       False  \n",
       "60480  active       False  "
      ]
     },
     "execution_count": 70,
     "metadata": {},
     "output_type": "execute_result"
    }
   ],
   "source": [
    "df.groupby(\"event_id\").filter(lambda x: len(x) == 2)"
   ]
  },
  {
   "cell_type": "code",
   "execution_count": 20,
   "metadata": {
    "ExecuteTime": {
     "end_time": "2017-12-14T20:45:50.134127Z",
     "start_time": "2017-12-14T20:45:50.122385Z"
    },
    "collapsed": false
   },
   "outputs": [
    {
     "data": {
      "text/plain": [
       "(2013,)"
      ]
     },
     "execution_count": 20,
     "metadata": {},
     "output_type": "execute_result"
    }
   ],
   "source": [
    "df.loc[df.ua_mismatch == True]['ckid'].drop_duplicates().shape"
   ]
  },
  {
   "cell_type": "markdown",
   "metadata": {},
   "source": [
    "同一设备对应主动式设备指纹ID的数据分析，主要分析指标：\n",
    "\n",
    "- 主动式设备指纹ID数量最大值\n",
    "- 主动式设备指纹ID数量最小值\n",
    "- 主动式设备指纹ID数量平均值\n",
    "- 主动式设备指纹ID数量中值\n",
    "- 主动式设备指纹ID数量众数"
   ]
  },
  {
   "cell_type": "code",
   "execution_count": 12,
   "metadata": {
    "ExecuteTime": {
     "end_time": "2017-12-14T20:43:17.167067Z",
     "start_time": "2017-12-14T20:43:16.837578Z"
    },
    "collapsed": false
   },
   "outputs": [],
   "source": [
    "\n",
    "df1 = df.groupby('mobile').agg({'ckid':'nunique'}).reset_index()"
   ]
  },
  {
   "cell_type": "code",
   "execution_count": 13,
   "metadata": {
    "ExecuteTime": {
     "end_time": "2017-12-14T20:43:17.207875Z",
     "start_time": "2017-12-14T20:43:17.168974Z"
    },
    "collapsed": false
   },
   "outputs": [
    {
     "data": {
      "text/plain": [
       "(39685, 2)"
      ]
     },
     "execution_count": 13,
     "metadata": {},
     "output_type": "execute_result"
    }
   ],
   "source": [
    "df1.shape"
   ]
  },
  {
   "cell_type": "code",
   "execution_count": 14,
   "metadata": {
    "ExecuteTime": {
     "end_time": "2017-12-14T20:43:32.351181Z",
     "start_time": "2017-12-14T20:43:32.339848Z"
    },
    "collapsed": false
   },
   "outputs": [
    {
     "data": {
      "text/plain": [
       "2.0"
      ]
     },
     "execution_count": 14,
     "metadata": {},
     "output_type": "execute_result"
    }
   ],
   "source": [
    "df1.ckid.describe().ix[6]"
   ]
  },
  {
   "cell_type": "code",
   "execution_count": 24,
   "metadata": {
    "ExecuteTime": {
     "end_time": "2017-12-14T19:36:51.615328Z",
     "start_time": "2017-12-14T19:36:51.591060Z"
    },
    "collapsed": false
   },
   "outputs": [
    {
     "data": {
      "text/plain": [
       "count    39685.000000\n",
       "mean         1.860779\n",
       "std          1.466522\n",
       "min          1.000000\n",
       "25%          1.000000\n",
       "50%          1.000000\n",
       "75%          2.000000\n",
       "max          9.000000\n",
       "Name: ckid, dtype: float64"
      ]
     },
     "execution_count": 24,
     "metadata": {},
     "output_type": "execute_result"
    }
   ],
   "source": [
    "df1.ckid.describe()"
   ]
  },
  {
   "cell_type": "code",
   "execution_count": 10,
   "metadata": {
    "ExecuteTime": {
     "end_time": "2017-12-12T18:14:56.765473Z",
     "start_time": "2017-12-12T18:14:56.753408Z"
    },
    "collapsed": false
   },
   "outputs": [
    {
     "data": {
      "text/plain": [
       "1.0"
      ]
     },
     "execution_count": 10,
     "metadata": {},
     "output_type": "execute_result"
    }
   ],
   "source": [
    "df1.ckid.median()"
   ]
  },
  {
   "cell_type": "code",
   "execution_count": 11,
   "metadata": {
    "ExecuteTime": {
     "end_time": "2017-12-12T18:14:56.777828Z",
     "start_time": "2017-12-12T18:14:56.768660Z"
    },
    "collapsed": false
   },
   "outputs": [
    {
     "data": {
      "text/plain": [
       "0    1\n",
       "dtype: int64"
      ]
     },
     "execution_count": 11,
     "metadata": {},
     "output_type": "execute_result"
    }
   ],
   "source": [
    "df1.ckid.mode()"
   ]
  },
  {
   "cell_type": "markdown",
   "metadata": {},
   "source": [
    "同一主动式设备指纹ID对应设备的数据分析，主要分析指标：\n",
    "\n",
    "- 设备数量最大值\n",
    "- 设备数量最小值\n",
    "- 设备数量平均值\n",
    "- 设备数量中值\n",
    "- 设备数量众数"
   ]
  },
  {
   "cell_type": "code",
   "execution_count": 12,
   "metadata": {
    "ExecuteTime": {
     "end_time": "2017-12-12T18:14:57.323787Z",
     "start_time": "2017-12-12T18:14:56.783543Z"
    },
    "collapsed": false
   },
   "outputs": [],
   "source": [
    "# df2 = df.loc[df['mobile'].notnull()]\n",
    "df2 = df.groupby('ckid').agg({'mobile':'nunique'}).reset_index()"
   ]
  },
  {
   "cell_type": "code",
   "execution_count": 13,
   "metadata": {
    "ExecuteTime": {
     "end_time": "2017-12-12T18:14:57.345700Z",
     "start_time": "2017-12-12T18:14:57.325575Z"
    },
    "collapsed": false
   },
   "outputs": [
    {
     "data": {
      "text/html": [
       "<div>\n",
       "<table border=\"1\" class=\"dataframe\">\n",
       "  <thead>\n",
       "    <tr style=\"text-align: right;\">\n",
       "      <th></th>\n",
       "      <th>ckid</th>\n",
       "      <th>mobile</th>\n",
       "    </tr>\n",
       "  </thead>\n",
       "  <tbody>\n",
       "    <tr>\n",
       "      <th>0</th>\n",
       "      <td>0040041297641802</td>\n",
       "      <td>1</td>\n",
       "    </tr>\n",
       "    <tr>\n",
       "      <th>1</th>\n",
       "      <td>03287d7ab3f8b257aaa</td>\n",
       "      <td>1</td>\n",
       "    </tr>\n",
       "    <tr>\n",
       "      <th>2</th>\n",
       "      <td>03287d7ab3f8b257aaaa</td>\n",
       "      <td>1</td>\n",
       "    </tr>\n",
       "    <tr>\n",
       "      <th>3</th>\n",
       "      <td>03287d7ab3f8b257aaaaaa</td>\n",
       "      <td>1</td>\n",
       "    </tr>\n",
       "    <tr>\n",
       "      <th>4</th>\n",
       "      <td>03287d7ab3f8b257aaaaaaa</td>\n",
       "      <td>1</td>\n",
       "    </tr>\n",
       "  </tbody>\n",
       "</table>\n",
       "</div>"
      ],
      "text/plain": [
       "                      ckid  mobile\n",
       "0         0040041297641802       1\n",
       "1      03287d7ab3f8b257aaa       1\n",
       "2     03287d7ab3f8b257aaaa       1\n",
       "3   03287d7ab3f8b257aaaaaa       1\n",
       "4  03287d7ab3f8b257aaaaaaa       1"
      ]
     },
     "execution_count": 13,
     "metadata": {},
     "output_type": "execute_result"
    }
   ],
   "source": [
    "df2.head()"
   ]
  },
  {
   "cell_type": "code",
   "execution_count": 20,
   "metadata": {
    "ExecuteTime": {
     "end_time": "2017-12-14T19:36:38.062279Z",
     "start_time": "2017-12-14T19:36:37.977575Z"
    },
    "collapsed": false
   },
   "outputs": [
    {
     "ename": "NameError",
     "evalue": "name 'df2' is not defined",
     "output_type": "error",
     "traceback": [
      "\u001b[0;31m\u001b[0m",
      "\u001b[0;31mNameError\u001b[0mTraceback (most recent call last)",
      "\u001b[0;32m<ipython-input-20-2f926c363d6f>\u001b[0m in \u001b[0;36m<module>\u001b[0;34m()\u001b[0m\n\u001b[0;32m----> 1\u001b[0;31m \u001b[0mdf2\u001b[0m\u001b[0;34m.\u001b[0m\u001b[0mmobile\u001b[0m\u001b[0;34m.\u001b[0m\u001b[0mdescribe\u001b[0m\u001b[0;34m(\u001b[0m\u001b[0;34m)\u001b[0m\u001b[0;34m\u001b[0m\u001b[0m\n\u001b[0m",
      "\u001b[0;31mNameError\u001b[0m: name 'df2' is not defined"
     ]
    }
   ],
   "source": [
    "df2.mobile.describe()"
   ]
  },
  {
   "cell_type": "code",
   "execution_count": 15,
   "metadata": {
    "ExecuteTime": {
     "end_time": "2017-12-12T18:14:57.379623Z",
     "start_time": "2017-12-12T18:14:57.372181Z"
    },
    "collapsed": false
   },
   "outputs": [
    {
     "data": {
      "text/plain": [
       "1.0"
      ]
     },
     "execution_count": 15,
     "metadata": {},
     "output_type": "execute_result"
    }
   ],
   "source": [
    "df2.mobile.median()"
   ]
  },
  {
   "cell_type": "code",
   "execution_count": 16,
   "metadata": {
    "ExecuteTime": {
     "end_time": "2017-12-12T18:14:57.390526Z",
     "start_time": "2017-12-12T18:14:57.381795Z"
    },
    "collapsed": false
   },
   "outputs": [
    {
     "data": {
      "text/plain": [
       "0    1\n",
       "dtype: int64"
      ]
     },
     "execution_count": 16,
     "metadata": {},
     "output_type": "execute_result"
    }
   ],
   "source": [
    "df2.mobile.mode()"
   ]
  },
  {
   "cell_type": "markdown",
   "metadata": {},
   "source": [
    "同一主动式设备指纹ID对应city的数据分析，主要分析指标：\n",
    "\n",
    "- city数量最大值\n",
    "- city数量最小值\n",
    "- city数量平均值\n",
    "- city数量中值\n",
    "- city数量众数"
   ]
  },
  {
   "cell_type": "code",
   "execution_count": 17,
   "metadata": {
    "ExecuteTime": {
     "end_time": "2017-12-12T18:14:57.839304Z",
     "start_time": "2017-12-12T18:14:57.393050Z"
    },
    "collapsed": false
   },
   "outputs": [],
   "source": [
    "# df3 = df.loc[df['city'].notnull()]\n",
    "df3 = df.groupby('ckid').agg({'city':'nunique'}).reset_index()"
   ]
  },
  {
   "cell_type": "code",
   "execution_count": 18,
   "metadata": {
    "ExecuteTime": {
     "end_time": "2017-12-12T18:14:57.858965Z",
     "start_time": "2017-12-12T18:14:57.841364Z"
    },
    "collapsed": false
   },
   "outputs": [
    {
     "data": {
      "text/html": [
       "<div>\n",
       "<table border=\"1\" class=\"dataframe\">\n",
       "  <thead>\n",
       "    <tr style=\"text-align: right;\">\n",
       "      <th></th>\n",
       "      <th>ckid</th>\n",
       "      <th>city</th>\n",
       "    </tr>\n",
       "  </thead>\n",
       "  <tbody>\n",
       "    <tr>\n",
       "      <th>0</th>\n",
       "      <td>0040041297641802</td>\n",
       "      <td>1</td>\n",
       "    </tr>\n",
       "    <tr>\n",
       "      <th>1</th>\n",
       "      <td>03287d7ab3f8b257aaa</td>\n",
       "      <td>1</td>\n",
       "    </tr>\n",
       "    <tr>\n",
       "      <th>2</th>\n",
       "      <td>03287d7ab3f8b257aaaa</td>\n",
       "      <td>1</td>\n",
       "    </tr>\n",
       "    <tr>\n",
       "      <th>3</th>\n",
       "      <td>03287d7ab3f8b257aaaaaa</td>\n",
       "      <td>1</td>\n",
       "    </tr>\n",
       "    <tr>\n",
       "      <th>4</th>\n",
       "      <td>03287d7ab3f8b257aaaaaaa</td>\n",
       "      <td>1</td>\n",
       "    </tr>\n",
       "  </tbody>\n",
       "</table>\n",
       "</div>"
      ],
      "text/plain": [
       "                      ckid  city\n",
       "0         0040041297641802     1\n",
       "1      03287d7ab3f8b257aaa     1\n",
       "2     03287d7ab3f8b257aaaa     1\n",
       "3   03287d7ab3f8b257aaaaaa     1\n",
       "4  03287d7ab3f8b257aaaaaaa     1"
      ]
     },
     "execution_count": 18,
     "metadata": {},
     "output_type": "execute_result"
    }
   ],
   "source": [
    "df3.head()"
   ]
  },
  {
   "cell_type": "code",
   "execution_count": 19,
   "metadata": {
    "ExecuteTime": {
     "end_time": "2017-12-12T18:14:57.891448Z",
     "start_time": "2017-12-12T18:14:57.862348Z"
    },
    "collapsed": false
   },
   "outputs": [
    {
     "name": "stdout",
     "output_type": "stream",
     "text": [
      "count    71166.000000\n",
      "mean         1.113467\n",
      "std          0.348371\n",
      "min          1.000000\n",
      "25%          1.000000\n",
      "50%          1.000000\n",
      "75%          1.000000\n",
      "max          6.000000\n",
      "Name: city, dtype: float64\n",
      "---\n",
      "1.0\n",
      "---\n",
      "0    1\n",
      "dtype: int64\n"
     ]
    }
   ],
   "source": [
    "print df3.city.describe()\n",
    "print \"---\"\n",
    "print df3.city.median()\n",
    "print \"---\"\n",
    "print df3.city.mode()"
   ]
  },
  {
   "cell_type": "code",
   "execution_count": 42,
   "metadata": {
    "ExecuteTime": {
     "end_time": "2017-12-12T21:04:14.842682Z",
     "start_time": "2017-12-12T21:04:14.826215Z"
    },
    "collapsed": false
   },
   "outputs": [
    {
     "data": {
      "text/plain": [
       "63766"
      ]
     },
     "execution_count": 42,
     "metadata": {},
     "output_type": "execute_result"
    }
   ],
   "source": [
    "df3.loc[df3['city'] == 1].shape[0]"
   ]
  },
  {
   "cell_type": "code",
   "execution_count": 43,
   "metadata": {
    "ExecuteTime": {
     "end_time": "2017-12-12T21:04:16.867045Z",
     "start_time": "2017-12-12T21:04:16.858794Z"
    },
    "collapsed": false
   },
   "outputs": [
    {
     "data": {
      "text/plain": [
       "7400"
      ]
     },
     "execution_count": 43,
     "metadata": {},
     "output_type": "execute_result"
    }
   ],
   "source": [
    "df3.loc[df3['city'] > 1].shape[0]"
   ]
  },
  {
   "cell_type": "markdown",
   "metadata": {},
   "source": [
    "同一主动式设备指纹ID对应ip的数据分析，主要分析指标：\n",
    "\n",
    "- ip数量最大值\n",
    "- ip数量最小值\n",
    "- ip数量平均值\n",
    "- ip数量中值\n",
    "- ip数量众数"
   ]
  },
  {
   "cell_type": "code",
   "execution_count": 37,
   "metadata": {
    "ExecuteTime": {
     "end_time": "2017-12-12T18:54:25.898007Z",
     "start_time": "2017-12-12T18:54:25.406739Z"
    },
    "collapsed": false
   },
   "outputs": [],
   "source": [
    "# df4 = df.loc[df['ip'].notnull()]\n",
    "df4 = df.groupby('ckid').agg({'ip':'nunique'}).reset_index()"
   ]
  },
  {
   "cell_type": "code",
   "execution_count": 44,
   "metadata": {
    "ExecuteTime": {
     "end_time": "2017-12-13T11:36:34.341008Z",
     "start_time": "2017-12-13T11:36:34.297069Z"
    },
    "collapsed": false
   },
   "outputs": [
    {
     "data": {
      "text/plain": [
       "(71166, 2)"
      ]
     },
     "execution_count": 44,
     "metadata": {},
     "output_type": "execute_result"
    }
   ],
   "source": [
    "df4.shape"
   ]
  },
  {
   "cell_type": "code",
   "execution_count": 39,
   "metadata": {
    "ExecuteTime": {
     "end_time": "2017-12-12T18:54:27.499979Z",
     "start_time": "2017-12-12T18:54:27.471984Z"
    },
    "collapsed": false
   },
   "outputs": [
    {
     "name": "stdout",
     "output_type": "stream",
     "text": [
      "count    71166.000000\n",
      "mean         1.330354\n",
      "std          0.779735\n",
      "min          1.000000\n",
      "25%          1.000000\n",
      "50%          1.000000\n",
      "75%          1.000000\n",
      "max         16.000000\n",
      "Name: ip, dtype: float64\n",
      "---\n",
      "1.0\n",
      "---\n",
      "0    1\n",
      "dtype: int64\n"
     ]
    }
   ],
   "source": [
    "print df4.ip.describe()\n",
    "print \"---\"\n",
    "print df4.ip.median()\n",
    "print \"---\"\n",
    "print df4.ip.mode()"
   ]
  },
  {
   "cell_type": "markdown",
   "metadata": {},
   "source": [
    "同一设备生成不同主动式指纹ID时间间隔分析，主要分析指标：\n",
    "\n",
    "- 时间间隔最大值\n",
    "- 时间间隔量最小值\n",
    "- 时间间隔量平均值\n",
    "- 时间间隔量中值\n",
    "- 时间间隔量众数"
   ]
  },
  {
   "cell_type": "code",
   "execution_count": 23,
   "metadata": {
    "ExecuteTime": {
     "end_time": "2017-12-12T18:15:06.666171Z",
     "start_time": "2017-12-12T18:14:58.218403Z"
    },
    "collapsed": false
   },
   "outputs": [],
   "source": [
    "def get_delta(row):\n",
    "    _delta = 0\n",
    "    ckids = list(row['ckid'])\n",
    "    time_min = list(row['timestamp_min'])\n",
    "    time_max = list(row['timestamp_max'])\n",
    "    for i in xrange(len(ckids) - 1):\n",
    "        pre_time, next_time = time_max[i], time_min[i + 1]\n",
    "        _delta += next_time - pre_time\n",
    "    _del_mean = _delta / len(ckids)\n",
    "    return _del_mean\n",
    "\n",
    "df5 = df.groupby(['mobile','ckid']).agg({\n",
    "    \"timestamp\":[\"max\",'min']})\n",
    "df5.columns = [\"_\".join(x) for x in df5.columns.ravel()]\n",
    "df5 = df5.reset_index()\n",
    "df5 = df5.sort_values(by=\"timestamp_max\")\n",
    "df5 = df5.groupby(\"mobile\").apply(lambda x: get_delta(x)).reset_index(name='delta')\n",
    "df5['delta'] = df5['delta'] / 1000 / 60 / 60"
   ]
  },
  {
   "cell_type": "code",
   "execution_count": 30,
   "metadata": {
    "ExecuteTime": {
     "end_time": "2017-12-12T18:26:20.931419Z",
     "start_time": "2017-12-12T18:26:20.847867Z"
    },
    "collapsed": false
   },
   "outputs": [],
   "source": [
    "df5 = df5.loc[df5['delta'] > 0]"
   ]
  },
  {
   "cell_type": "code",
   "execution_count": 31,
   "metadata": {
    "ExecuteTime": {
     "end_time": "2017-12-12T18:26:22.175993Z",
     "start_time": "2017-12-12T18:26:22.154431Z"
    },
    "collapsed": false
   },
   "outputs": [
    {
     "name": "stdout",
     "output_type": "stream",
     "text": [
      "count    14978.000000\n",
      "mean       211.989293\n",
      "std        114.364761\n",
      "min          0.029965\n",
      "25%        132.819348\n",
      "50%        197.424064\n",
      "75%        275.179175\n",
      "max        702.441936\n",
      "Name: delta, dtype: float64\n",
      "---\n",
      "197.424063611\n",
      "---\n"
     ]
    }
   ],
   "source": [
    "print df5.delta.describe()\n",
    "print \"---\"\n",
    "print df5.delta.median()\n",
    "print \"---\""
   ]
  },
  {
   "cell_type": "code",
   "execution_count": 34,
   "metadata": {
    "ExecuteTime": {
     "end_time": "2017-12-12T18:26:55.149355Z",
     "start_time": "2017-12-12T18:26:55.134442Z"
    },
    "collapsed": false
   },
   "outputs": [
    {
     "data": {
      "text/plain": [
       "Series([], dtype: float64)"
      ]
     },
     "execution_count": 34,
     "metadata": {},
     "output_type": "execute_result"
    }
   ],
   "source": [
    "df5.delta.mode()"
   ]
  },
  {
   "cell_type": "code",
   "execution_count": 35,
   "metadata": {
    "ExecuteTime": {
     "end_time": "2017-12-12T18:26:56.438874Z",
     "start_time": "2017-12-12T18:26:56.422538Z"
    },
    "collapsed": false
   },
   "outputs": [
    {
     "data": {
      "text/html": [
       "<div>\n",
       "<table border=\"1\" class=\"dataframe\">\n",
       "  <thead>\n",
       "    <tr style=\"text-align: right;\">\n",
       "      <th></th>\n",
       "      <th>mobile</th>\n",
       "      <th>delta</th>\n",
       "    </tr>\n",
       "  </thead>\n",
       "  <tbody>\n",
       "  </tbody>\n",
       "</table>\n",
       "</div>"
      ],
      "text/plain": [
       "Empty DataFrame\n",
       "Columns: [mobile, delta]\n",
       "Index: []"
      ]
     },
     "execution_count": 35,
     "metadata": {},
     "output_type": "execute_result"
    }
   ],
   "source": [
    "df5.loc[df5['delta'].isnull()]"
   ]
  },
  {
   "cell_type": "code",
   "execution_count": 36,
   "metadata": {
    "ExecuteTime": {
     "end_time": "2017-12-12T18:28:33.114225Z",
     "start_time": "2017-12-12T18:28:33.108805Z"
    },
    "collapsed": false
   },
   "outputs": [
    {
     "data": {
      "text/plain": [
       "(14978, 2)"
      ]
     },
     "execution_count": 36,
     "metadata": {},
     "output_type": "execute_result"
    }
   ],
   "source": [
    "df5.shape"
   ]
  },
  {
   "cell_type": "code",
   "execution_count": 45,
   "metadata": {
    "ExecuteTime": {
     "end_time": "2017-12-13T12:20:10.179191Z",
     "start_time": "2017-12-13T12:20:10.134607Z"
    },
    "collapsed": false
   },
   "outputs": [
    {
     "data": {
      "text/plain": [
       "Index([u'city', u'ckid', u'country', u'country_code', u'ip', u'is_cracked',\n",
       "       u'is_proxy', u'is_simulator', u'mobile', u'province', u'timestamp',\n",
       "       u'type', u'ua_mismatch'],\n",
       "      dtype='object')"
      ]
     },
     "execution_count": 45,
     "metadata": {},
     "output_type": "execute_result"
    }
   ],
   "source": [
    "df.columns"
   ]
  },
  {
   "cell_type": "code",
   "execution_count": 21,
   "metadata": {
    "ExecuteTime": {
     "end_time": "2017-12-15T15:10:45.869557Z",
     "start_time": "2017-12-15T15:10:45.172748Z"
    },
    "collapsed": false
   },
   "outputs": [],
   "source": [
    "df_c = df.groupby(['city', 'mobile']).agg({\"ckid\": \"nunique\"}).reset_index()"
   ]
  },
  {
   "cell_type": "code",
   "execution_count": 23,
   "metadata": {
    "ExecuteTime": {
     "end_time": "2017-12-15T15:56:42.433359Z",
     "start_time": "2017-12-15T15:56:41.538589Z"
    },
    "collapsed": false
   },
   "outputs": [
    {
     "data": {
      "text/html": [
       "<div>\n",
       "<table border=\"1\" class=\"dataframe\">\n",
       "  <thead>\n",
       "    <tr style=\"text-align: right;\">\n",
       "      <th></th>\n",
       "      <th>city</th>\n",
       "      <th>ckid</th>\n",
       "    </tr>\n",
       "  </thead>\n",
       "  <tbody>\n",
       "    <tr>\n",
       "      <th>count</th>\n",
       "      <td>39685.000000</td>\n",
       "      <td>39685.000000</td>\n",
       "    </tr>\n",
       "    <tr>\n",
       "      <th>mean</th>\n",
       "      <td>1.314300</td>\n",
       "      <td>1.860779</td>\n",
       "    </tr>\n",
       "    <tr>\n",
       "      <th>std</th>\n",
       "      <td>0.634944</td>\n",
       "      <td>1.466522</td>\n",
       "    </tr>\n",
       "    <tr>\n",
       "      <th>min</th>\n",
       "      <td>1.000000</td>\n",
       "      <td>1.000000</td>\n",
       "    </tr>\n",
       "    <tr>\n",
       "      <th>25%</th>\n",
       "      <td>1.000000</td>\n",
       "      <td>1.000000</td>\n",
       "    </tr>\n",
       "    <tr>\n",
       "      <th>50%</th>\n",
       "      <td>1.000000</td>\n",
       "      <td>1.000000</td>\n",
       "    </tr>\n",
       "    <tr>\n",
       "      <th>75%</th>\n",
       "      <td>1.000000</td>\n",
       "      <td>2.000000</td>\n",
       "    </tr>\n",
       "    <tr>\n",
       "      <th>max</th>\n",
       "      <td>8.000000</td>\n",
       "      <td>9.000000</td>\n",
       "    </tr>\n",
       "  </tbody>\n",
       "</table>\n",
       "</div>"
      ],
      "text/plain": [
       "               city          ckid\n",
       "count  39685.000000  39685.000000\n",
       "mean       1.314300      1.860779\n",
       "std        0.634944      1.466522\n",
       "min        1.000000      1.000000\n",
       "25%        1.000000      1.000000\n",
       "50%        1.000000      1.000000\n",
       "75%        1.000000      2.000000\n",
       "max        8.000000      9.000000"
      ]
     },
     "execution_count": 23,
     "metadata": {},
     "output_type": "execute_result"
    }
   ],
   "source": [
    " df.groupby('mobile').agg({\"ckid\": \"nunique\", \"city\":\"nunique\"}).reset_index().describe()"
   ]
  },
  {
   "cell_type": "code",
   "execution_count": 25,
   "metadata": {
    "ExecuteTime": {
     "end_time": "2017-12-15T16:02:09.129653Z",
     "start_time": "2017-12-15T16:02:08.911266Z"
    },
    "collapsed": false
   },
   "outputs": [
    {
     "data": {
      "text/html": [
       "<div>\n",
       "<table border=\"1\" class=\"dataframe\">\n",
       "  <thead>\n",
       "    <tr style=\"text-align: right;\">\n",
       "      <th></th>\n",
       "      <th>index</th>\n",
       "      <th>city</th>\n",
       "      <th>ckid</th>\n",
       "      <th>country</th>\n",
       "      <th>country_code</th>\n",
       "      <th>event_id</th>\n",
       "      <th>ip</th>\n",
       "      <th>is_cracked</th>\n",
       "      <th>is_proxy</th>\n",
       "      <th>is_simulator</th>\n",
       "      <th>mobile</th>\n",
       "      <th>province</th>\n",
       "      <th>timestamp</th>\n",
       "      <th>type</th>\n",
       "      <th>ua_mismatch</th>\n",
       "    </tr>\n",
       "  </thead>\n",
       "  <tbody>\n",
       "    <tr>\n",
       "      <th>0</th>\n",
       "      <td>118746</td>\n",
       "      <td>UNKNOWN</td>\n",
       "      <td>2b4f740bbb771887</td>\n",
       "      <td>中国</td>\n",
       "      <td>CHN</td>\n",
       "      <td>c97a8788-eb5f-48c4-9c9e-baa01d914253</td>\n",
       "      <td>222.217.87.58</td>\n",
       "      <td>False</td>\n",
       "      <td>UNKNOWN</td>\n",
       "      <td>True</td>\n",
       "      <td>91B45FC63F64B5608C888DBE64169CBC</td>\n",
       "      <td>广西壮族自治区</td>\n",
       "      <td>1507593638555</td>\n",
       "      <td>active</td>\n",
       "      <td>False</td>\n",
       "    </tr>\n",
       "    <tr>\n",
       "      <th>1</th>\n",
       "      <td>118747</td>\n",
       "      <td>沧州市</td>\n",
       "      <td>f22385332947db2</td>\n",
       "      <td>中国</td>\n",
       "      <td>CHN</td>\n",
       "      <td>805868e2-83fb-4295-a2b4-551e858a46e6</td>\n",
       "      <td>61.55.93.154</td>\n",
       "      <td>False</td>\n",
       "      <td>UNKNOWN</td>\n",
       "      <td>True</td>\n",
       "      <td>EF9222ACD314E3D8304CDDB8246010EB</td>\n",
       "      <td>河北省</td>\n",
       "      <td>1507593640267</td>\n",
       "      <td>active</td>\n",
       "      <td>False</td>\n",
       "    </tr>\n",
       "    <tr>\n",
       "      <th>2</th>\n",
       "      <td>118748</td>\n",
       "      <td>广州市</td>\n",
       "      <td>be20d1a61a8cf007</td>\n",
       "      <td>中国</td>\n",
       "      <td>CHN</td>\n",
       "      <td>74c2b187-f337-4936-bd64-589f8e9a1b42</td>\n",
       "      <td>14.30.180.124</td>\n",
       "      <td>False</td>\n",
       "      <td>UNKNOWN</td>\n",
       "      <td>True</td>\n",
       "      <td>5A59D09206C4FF9BEF9AA221829DD345</td>\n",
       "      <td>广东省</td>\n",
       "      <td>1507593641620</td>\n",
       "      <td>active</td>\n",
       "      <td>False</td>\n",
       "    </tr>\n",
       "    <tr>\n",
       "      <th>3</th>\n",
       "      <td>118749</td>\n",
       "      <td>安阳市</td>\n",
       "      <td>8a4ea592305e7f62</td>\n",
       "      <td>中国</td>\n",
       "      <td>CHN</td>\n",
       "      <td>337564d9-41e4-4459-a113-465c8ab57047</td>\n",
       "      <td>182.124.79.68</td>\n",
       "      <td>False</td>\n",
       "      <td>UNKNOWN</td>\n",
       "      <td>True</td>\n",
       "      <td>3F7DFC70844CAAED0B9C848E0C75E92F</td>\n",
       "      <td>河南省</td>\n",
       "      <td>1507593644036</td>\n",
       "      <td>active</td>\n",
       "      <td>False</td>\n",
       "    </tr>\n",
       "    <tr>\n",
       "      <th>4</th>\n",
       "      <td>118750</td>\n",
       "      <td>梧州市</td>\n",
       "      <td>b3c2a85a80af4d4b</td>\n",
       "      <td>中国</td>\n",
       "      <td>CHN</td>\n",
       "      <td>7725a96e-961d-4efd-a28f-179ed7dc9ff4</td>\n",
       "      <td>125.73.102.27</td>\n",
       "      <td>False</td>\n",
       "      <td>UNKNOWN</td>\n",
       "      <td>True</td>\n",
       "      <td>A80E97AFCAD4E64BB9096EFEF9BA0D25</td>\n",
       "      <td>广西壮族自治区</td>\n",
       "      <td>1507593656463</td>\n",
       "      <td>active</td>\n",
       "      <td>False</td>\n",
       "    </tr>\n",
       "    <tr>\n",
       "      <th>5</th>\n",
       "      <td>118751</td>\n",
       "      <td>呼和浩特市</td>\n",
       "      <td>e5f93ebf605872d5</td>\n",
       "      <td>中国</td>\n",
       "      <td>CHN</td>\n",
       "      <td>cf18e1b0-c863-4690-b43d-9a2c3fdb81ae</td>\n",
       "      <td>123.178.32.137</td>\n",
       "      <td>False</td>\n",
       "      <td>UNKNOWN</td>\n",
       "      <td>True</td>\n",
       "      <td>B27143ABA5E87C9CA19B21BE31893117</td>\n",
       "      <td>内蒙古自治区</td>\n",
       "      <td>1507593662484</td>\n",
       "      <td>active</td>\n",
       "      <td>False</td>\n",
       "    </tr>\n",
       "    <tr>\n",
       "      <th>6</th>\n",
       "      <td>118752</td>\n",
       "      <td>青岛市</td>\n",
       "      <td>8c9eb76061082311</td>\n",
       "      <td>中国</td>\n",
       "      <td>CHN</td>\n",
       "      <td>d900e72a-237b-4367-88ec-f87fb9469a8b</td>\n",
       "      <td>112.224.20.54</td>\n",
       "      <td>False</td>\n",
       "      <td>UNKNOWN</td>\n",
       "      <td>True</td>\n",
       "      <td>87E21819C127996F1DE8868891001030</td>\n",
       "      <td>山东省</td>\n",
       "      <td>1507593664788</td>\n",
       "      <td>active</td>\n",
       "      <td>False</td>\n",
       "    </tr>\n",
       "    <tr>\n",
       "      <th>7</th>\n",
       "      <td>118753</td>\n",
       "      <td>南平市</td>\n",
       "      <td>8775d81b1d0c1105</td>\n",
       "      <td>中国</td>\n",
       "      <td>CHN</td>\n",
       "      <td>c72c740f-86be-4567-a4a3-1300cac4b7e5</td>\n",
       "      <td>121.206.194.175</td>\n",
       "      <td>False</td>\n",
       "      <td>UNKNOWN</td>\n",
       "      <td>True</td>\n",
       "      <td>ED816CE1CFBB1D106735E0E87B519EE7</td>\n",
       "      <td>福建省</td>\n",
       "      <td>1507593698785</td>\n",
       "      <td>active</td>\n",
       "      <td>False</td>\n",
       "    </tr>\n",
       "    <tr>\n",
       "      <th>8</th>\n",
       "      <td>118754</td>\n",
       "      <td>郑州市</td>\n",
       "      <td>c5d6d3b81bd0f7</td>\n",
       "      <td>中国</td>\n",
       "      <td>CHN</td>\n",
       "      <td>b3cd0f23-d180-4c32-b548-f5df96a9ea15</td>\n",
       "      <td>171.10.49.38</td>\n",
       "      <td>False</td>\n",
       "      <td>UNKNOWN</td>\n",
       "      <td>True</td>\n",
       "      <td>374B6998E2AA18E0D644AEEEA3003241</td>\n",
       "      <td>河南省</td>\n",
       "      <td>1507593712647</td>\n",
       "      <td>active</td>\n",
       "      <td>False</td>\n",
       "    </tr>\n",
       "    <tr>\n",
       "      <th>9</th>\n",
       "      <td>118755</td>\n",
       "      <td>西安市</td>\n",
       "      <td>60694e3962dc5c6</td>\n",
       "      <td>中国</td>\n",
       "      <td>CHN</td>\n",
       "      <td>cb803da7-748a-4bdd-9d34-fa6797638029</td>\n",
       "      <td>113.200.85.175</td>\n",
       "      <td>False</td>\n",
       "      <td>UNKNOWN</td>\n",
       "      <td>True</td>\n",
       "      <td>2193C02E8F585C422D628A3BDC387777</td>\n",
       "      <td>陕西省</td>\n",
       "      <td>1507593714971</td>\n",
       "      <td>active</td>\n",
       "      <td>False</td>\n",
       "    </tr>\n",
       "    <tr>\n",
       "      <th>10</th>\n",
       "      <td>118756</td>\n",
       "      <td>UNKNOWN</td>\n",
       "      <td>d3bd8fe581252929</td>\n",
       "      <td>中国</td>\n",
       "      <td>CHN</td>\n",
       "      <td>f1067a9e-0f1c-49b7-a9e5-a393bce6e714</td>\n",
       "      <td>117.136.41.82</td>\n",
       "      <td>False</td>\n",
       "      <td>UNKNOWN</td>\n",
       "      <td>True</td>\n",
       "      <td>736B34CF08DA4008D6C2557BAB438C94</td>\n",
       "      <td>广东省</td>\n",
       "      <td>1507593726863</td>\n",
       "      <td>active</td>\n",
       "      <td>False</td>\n",
       "    </tr>\n",
       "    <tr>\n",
       "      <th>11</th>\n",
       "      <td>118757</td>\n",
       "      <td>长沙市</td>\n",
       "      <td>c4404c95d7c2975f</td>\n",
       "      <td>中国</td>\n",
       "      <td>CHN</td>\n",
       "      <td>097dac80-e1d3-4007-ba07-74e9d2a2821e</td>\n",
       "      <td>101.130.53.45</td>\n",
       "      <td>False</td>\n",
       "      <td>UNKNOWN</td>\n",
       "      <td>True</td>\n",
       "      <td>DB62659929F01D2FF011A07030D708DB</td>\n",
       "      <td>湖南省</td>\n",
       "      <td>1507593772048</td>\n",
       "      <td>active</td>\n",
       "      <td>False</td>\n",
       "    </tr>\n",
       "    <tr>\n",
       "      <th>12</th>\n",
       "      <td>118758</td>\n",
       "      <td>广州市</td>\n",
       "      <td>4d98754aad7090f9</td>\n",
       "      <td>中国</td>\n",
       "      <td>CHN</td>\n",
       "      <td>285f128d-7bcf-41c6-bb7a-f8c2074fe7f7</td>\n",
       "      <td>112.96.128.119</td>\n",
       "      <td>False</td>\n",
       "      <td>UNKNOWN</td>\n",
       "      <td>True</td>\n",
       "      <td>88FC2E9073BBFB7E454BAE804148C07D</td>\n",
       "      <td>广东省</td>\n",
       "      <td>1507593861168</td>\n",
       "      <td>active</td>\n",
       "      <td>False</td>\n",
       "    </tr>\n",
       "    <tr>\n",
       "      <th>13</th>\n",
       "      <td>31561</td>\n",
       "      <td>UNKNOWN</td>\n",
       "      <td>a3f2ea64709b9885</td>\n",
       "      <td>中国</td>\n",
       "      <td>CHN</td>\n",
       "      <td>16a2005f-6ace-40eb-8edc-f3d1035dd63d</td>\n",
       "      <td>223.104.16.48</td>\n",
       "      <td>False</td>\n",
       "      <td>UNKNOWN</td>\n",
       "      <td>True</td>\n",
       "      <td>6AF2D2231EB76292D918F7C788092FBE</td>\n",
       "      <td>吉林省</td>\n",
       "      <td>1507593933658</td>\n",
       "      <td>active</td>\n",
       "      <td>False</td>\n",
       "    </tr>\n",
       "    <tr>\n",
       "      <th>14</th>\n",
       "      <td>31562</td>\n",
       "      <td>UNKNOWN</td>\n",
       "      <td>9f9b495ff7cf670d</td>\n",
       "      <td>中国</td>\n",
       "      <td>CHN</td>\n",
       "      <td>747303aa-1170-4ec0-ad37-ff3dd2fc556a</td>\n",
       "      <td>60.161.151.203</td>\n",
       "      <td>False</td>\n",
       "      <td>UNKNOWN</td>\n",
       "      <td>True</td>\n",
       "      <td>3D73D95BFD7F32A16ADBDD23348EB7CD</td>\n",
       "      <td>云南省</td>\n",
       "      <td>1507593973402</td>\n",
       "      <td>active</td>\n",
       "      <td>False</td>\n",
       "    </tr>\n",
       "    <tr>\n",
       "      <th>15</th>\n",
       "      <td>31563</td>\n",
       "      <td>石家庄市</td>\n",
       "      <td>1c45baae55b166c4</td>\n",
       "      <td>中国</td>\n",
       "      <td>CHN</td>\n",
       "      <td>d1158b6a-2a5c-4a3e-894d-dff733dc18e3</td>\n",
       "      <td>27.184.136.164</td>\n",
       "      <td>False</td>\n",
       "      <td>UNKNOWN</td>\n",
       "      <td>True</td>\n",
       "      <td>E435E56FDB090B2904A0147B8CCE3952</td>\n",
       "      <td>河北省</td>\n",
       "      <td>1507593985344</td>\n",
       "      <td>active</td>\n",
       "      <td>False</td>\n",
       "    </tr>\n",
       "    <tr>\n",
       "      <th>16</th>\n",
       "      <td>31564</td>\n",
       "      <td>UNKNOWN</td>\n",
       "      <td>c3ccc2639b5b1839</td>\n",
       "      <td>中国</td>\n",
       "      <td>CHN</td>\n",
       "      <td>e1500566-cfd9-46c8-918d-346afd7137bb</td>\n",
       "      <td>36.104.34.151</td>\n",
       "      <td>False</td>\n",
       "      <td>UNKNOWN</td>\n",
       "      <td>True</td>\n",
       "      <td>285813240E533C5B6DB32AD62DD8BC0B</td>\n",
       "      <td>吉林省</td>\n",
       "      <td>1507594057737</td>\n",
       "      <td>active</td>\n",
       "      <td>False</td>\n",
       "    </tr>\n",
       "    <tr>\n",
       "      <th>17</th>\n",
       "      <td>31565</td>\n",
       "      <td>济南市</td>\n",
       "      <td>1929c7ac67e6a6c3</td>\n",
       "      <td>中国</td>\n",
       "      <td>CHN</td>\n",
       "      <td>1e20f36d-6cc8-4431-a5c4-3667e18f4c60</td>\n",
       "      <td>113.129.224.152</td>\n",
       "      <td>False</td>\n",
       "      <td>UNKNOWN</td>\n",
       "      <td>True</td>\n",
       "      <td>4CDB57AF73292DB16E6B9AFB17D3E6DF</td>\n",
       "      <td>山东省</td>\n",
       "      <td>1507594101081</td>\n",
       "      <td>active</td>\n",
       "      <td>False</td>\n",
       "    </tr>\n",
       "    <tr>\n",
       "      <th>18</th>\n",
       "      <td>31566</td>\n",
       "      <td>天津市</td>\n",
       "      <td>6425c5a0996d74a1</td>\n",
       "      <td>中国</td>\n",
       "      <td>CHN</td>\n",
       "      <td>f6c01951-3ccc-4ee3-8c79-4a2fb792c38c</td>\n",
       "      <td>211.94.254.149</td>\n",
       "      <td>False</td>\n",
       "      <td>UNKNOWN</td>\n",
       "      <td>True</td>\n",
       "      <td>26296277465408A98C19B9EB65B411A0</td>\n",
       "      <td>天津市</td>\n",
       "      <td>1507594109911</td>\n",
       "      <td>active</td>\n",
       "      <td>False</td>\n",
       "    </tr>\n",
       "    <tr>\n",
       "      <th>19</th>\n",
       "      <td>18177</td>\n",
       "      <td>广州市</td>\n",
       "      <td>31863098e9ae6fc</td>\n",
       "      <td>中国</td>\n",
       "      <td>CHN</td>\n",
       "      <td>04210fa5-1c8e-437a-b1a4-c521d4f82ad3</td>\n",
       "      <td>58.62.235.94</td>\n",
       "      <td>False</td>\n",
       "      <td>UNKNOWN</td>\n",
       "      <td>True</td>\n",
       "      <td>A6D03105A007A81D144AE39ADE7D8F3A</td>\n",
       "      <td>广东省</td>\n",
       "      <td>1507594203885</td>\n",
       "      <td>active</td>\n",
       "      <td>False</td>\n",
       "    </tr>\n",
       "    <tr>\n",
       "      <th>20</th>\n",
       "      <td>18178</td>\n",
       "      <td>玉溪市</td>\n",
       "      <td>dd23398f099ec5e4</td>\n",
       "      <td>中国</td>\n",
       "      <td>CHN</td>\n",
       "      <td>f1c373d7-cb68-4e68-9c2f-b29d840397c8</td>\n",
       "      <td>14.205.79.248</td>\n",
       "      <td>False</td>\n",
       "      <td>UNKNOWN</td>\n",
       "      <td>True</td>\n",
       "      <td>DAECAF6C672A263D03D0133F1F7DCFF2</td>\n",
       "      <td>云南省</td>\n",
       "      <td>1507594224646</td>\n",
       "      <td>active</td>\n",
       "      <td>False</td>\n",
       "    </tr>\n",
       "    <tr>\n",
       "      <th>21</th>\n",
       "      <td>18179</td>\n",
       "      <td>广元市</td>\n",
       "      <td>8ab5332dd31d580f</td>\n",
       "      <td>中国</td>\n",
       "      <td>CHN</td>\n",
       "      <td>5bf56c5c-72b4-4010-9bdc-87e9421ff550</td>\n",
       "      <td>182.128.8.132</td>\n",
       "      <td>False</td>\n",
       "      <td>UNKNOWN</td>\n",
       "      <td>True</td>\n",
       "      <td>117376CC113DA5EAAA61798921E43EEB</td>\n",
       "      <td>四川省</td>\n",
       "      <td>1507594248107</td>\n",
       "      <td>active</td>\n",
       "      <td>False</td>\n",
       "    </tr>\n",
       "    <tr>\n",
       "      <th>22</th>\n",
       "      <td>18180</td>\n",
       "      <td>成都市</td>\n",
       "      <td>511bfb1c83c90827</td>\n",
       "      <td>中国</td>\n",
       "      <td>CHN</td>\n",
       "      <td>84c45714-a7ae-42f7-91ae-23fd7b065ec1</td>\n",
       "      <td>171.217.18.183</td>\n",
       "      <td>False</td>\n",
       "      <td>UNKNOWN</td>\n",
       "      <td>True</td>\n",
       "      <td>CFBB674B1C27EC6E2E663EE52E3DD021</td>\n",
       "      <td>四川省</td>\n",
       "      <td>1507594253117</td>\n",
       "      <td>active</td>\n",
       "      <td>False</td>\n",
       "    </tr>\n",
       "    <tr>\n",
       "      <th>23</th>\n",
       "      <td>18181</td>\n",
       "      <td>武汉市</td>\n",
       "      <td>fd0ab6ec6a891b14</td>\n",
       "      <td>中国</td>\n",
       "      <td>CHN</td>\n",
       "      <td>4a354cdf-ce63-421e-b512-ee10bdafe16d</td>\n",
       "      <td>119.103.185.153</td>\n",
       "      <td>False</td>\n",
       "      <td>UNKNOWN</td>\n",
       "      <td>True</td>\n",
       "      <td>86CC5EDEDDA8E7F6412A2A12A5441358</td>\n",
       "      <td>湖北省</td>\n",
       "      <td>1507594260127</td>\n",
       "      <td>active</td>\n",
       "      <td>False</td>\n",
       "    </tr>\n",
       "    <tr>\n",
       "      <th>24</th>\n",
       "      <td>18182</td>\n",
       "      <td>UNKNOWN</td>\n",
       "      <td>1233c0c710a486cc</td>\n",
       "      <td>中国</td>\n",
       "      <td>CHN</td>\n",
       "      <td>be93e945-ac8e-4173-a710-583caa02300a</td>\n",
       "      <td>223.104.2.199</td>\n",
       "      <td>False</td>\n",
       "      <td>UNKNOWN</td>\n",
       "      <td>True</td>\n",
       "      <td>FFBD911052051E4556F9653B47D283CA</td>\n",
       "      <td>山东省</td>\n",
       "      <td>1507594267537</td>\n",
       "      <td>active</td>\n",
       "      <td>False</td>\n",
       "    </tr>\n",
       "    <tr>\n",
       "      <th>25</th>\n",
       "      <td>18183</td>\n",
       "      <td>苏州市</td>\n",
       "      <td>a2cd1b8b01ed3768</td>\n",
       "      <td>中国</td>\n",
       "      <td>CHN</td>\n",
       "      <td>89d5cc30-9ee2-4ebb-bbe6-4c76b41d1301</td>\n",
       "      <td>36.149.70.122</td>\n",
       "      <td>False</td>\n",
       "      <td>UNKNOWN</td>\n",
       "      <td>True</td>\n",
       "      <td>87B2D66A4E807E9224A07D0547B27DB4</td>\n",
       "      <td>江苏省</td>\n",
       "      <td>1507594271065</td>\n",
       "      <td>active</td>\n",
       "      <td>False</td>\n",
       "    </tr>\n",
       "    <tr>\n",
       "      <th>26</th>\n",
       "      <td>18184</td>\n",
       "      <td>重庆市</td>\n",
       "      <td>f94edecd9d9b396</td>\n",
       "      <td>中国</td>\n",
       "      <td>CHN</td>\n",
       "      <td>48572672-3b30-4ae5-bcbd-d4e2fa9f59e6</td>\n",
       "      <td>223.104.25.89</td>\n",
       "      <td>False</td>\n",
       "      <td>UNKNOWN</td>\n",
       "      <td>True</td>\n",
       "      <td>C70A9DBB740435C91ECD0D0209D8A2EC</td>\n",
       "      <td>重庆市</td>\n",
       "      <td>1507594272523</td>\n",
       "      <td>active</td>\n",
       "      <td>False</td>\n",
       "    </tr>\n",
       "    <tr>\n",
       "      <th>27</th>\n",
       "      <td>18186</td>\n",
       "      <td>UNKNOWN</td>\n",
       "      <td>c306edf52b65f3ef</td>\n",
       "      <td>中国</td>\n",
       "      <td>CHN</td>\n",
       "      <td>a69813e2-51f5-4ae8-b80a-b40d0d03f084</td>\n",
       "      <td>112.17.243.54</td>\n",
       "      <td>False</td>\n",
       "      <td>UNKNOWN</td>\n",
       "      <td>True</td>\n",
       "      <td>0FAEB6A0E3E09BB9CFDF2BD6FBE141E8</td>\n",
       "      <td>浙江省</td>\n",
       "      <td>1507594318867</td>\n",
       "      <td>active</td>\n",
       "      <td>False</td>\n",
       "    </tr>\n",
       "    <tr>\n",
       "      <th>28</th>\n",
       "      <td>18187</td>\n",
       "      <td>温州市</td>\n",
       "      <td>f1dfcf87313eaf7a</td>\n",
       "      <td>中国</td>\n",
       "      <td>CHN</td>\n",
       "      <td>f6f598bc-178d-49a1-b09a-c6b55667e507</td>\n",
       "      <td>112.14.124.22</td>\n",
       "      <td>False</td>\n",
       "      <td>UNKNOWN</td>\n",
       "      <td>True</td>\n",
       "      <td>1C0BE63ECA67E77BDFE5D6F6CEC03553</td>\n",
       "      <td>浙江省</td>\n",
       "      <td>1507594348747</td>\n",
       "      <td>active</td>\n",
       "      <td>False</td>\n",
       "    </tr>\n",
       "    <tr>\n",
       "      <th>29</th>\n",
       "      <td>18188</td>\n",
       "      <td>太原市</td>\n",
       "      <td>3f5fec373518f8c</td>\n",
       "      <td>中国</td>\n",
       "      <td>CHN</td>\n",
       "      <td>52bd370d-ad25-401d-ab64-c2397d3df7d1</td>\n",
       "      <td>1.68.45.222</td>\n",
       "      <td>False</td>\n",
       "      <td>UNKNOWN</td>\n",
       "      <td>True</td>\n",
       "      <td>2B046C7A9FEB11BEF4A8B2B5330E5AC4</td>\n",
       "      <td>山西省</td>\n",
       "      <td>1507594351871</td>\n",
       "      <td>active</td>\n",
       "      <td>False</td>\n",
       "    </tr>\n",
       "    <tr>\n",
       "      <th>...</th>\n",
       "      <td>...</td>\n",
       "      <td>...</td>\n",
       "      <td>...</td>\n",
       "      <td>...</td>\n",
       "      <td>...</td>\n",
       "      <td>...</td>\n",
       "      <td>...</td>\n",
       "      <td>...</td>\n",
       "      <td>...</td>\n",
       "      <td>...</td>\n",
       "      <td>...</td>\n",
       "      <td>...</td>\n",
       "      <td>...</td>\n",
       "      <td>...</td>\n",
       "      <td>...</td>\n",
       "    </tr>\n",
       "    <tr>\n",
       "      <th>52128</th>\n",
       "      <td>16422</td>\n",
       "      <td>洛阳市</td>\n",
       "      <td>7cc218c90ea8460caaaaaaaa</td>\n",
       "      <td>中国</td>\n",
       "      <td>CHN</td>\n",
       "      <td>9ddbed22-f5a9-4361-8e12-c068452745bd</td>\n",
       "      <td>61.158.147.130</td>\n",
       "      <td>False</td>\n",
       "      <td>False</td>\n",
       "      <td>UNKNOWN</td>\n",
       "      <td>E77E4E3F8E8EA806816F1B4B1A956685</td>\n",
       "      <td>河南省</td>\n",
       "      <td>1512684587251</td>\n",
       "      <td>active</td>\n",
       "      <td>False</td>\n",
       "    </tr>\n",
       "    <tr>\n",
       "      <th>52129</th>\n",
       "      <td>71392</td>\n",
       "      <td>哈尔滨市</td>\n",
       "      <td>5a86ad74e6009e61aaaaaaaa</td>\n",
       "      <td>中国</td>\n",
       "      <td>CHN</td>\n",
       "      <td>3a408242-99f6-466d-b36f-88d87eb330cf</td>\n",
       "      <td>113.4.219.102</td>\n",
       "      <td>False</td>\n",
       "      <td>False</td>\n",
       "      <td>UNKNOWN</td>\n",
       "      <td>58BC3E74F8F07ABCF76CC7A3496E4B2C</td>\n",
       "      <td>黑龙江省</td>\n",
       "      <td>1512684604425</td>\n",
       "      <td>active</td>\n",
       "      <td>False</td>\n",
       "    </tr>\n",
       "    <tr>\n",
       "      <th>52130</th>\n",
       "      <td>71393</td>\n",
       "      <td>武汉市</td>\n",
       "      <td>73c3498a9d7fdb76aaaaaaaa</td>\n",
       "      <td>中国</td>\n",
       "      <td>CHN</td>\n",
       "      <td>8cd59b11-87bb-42c5-a444-8f34a4fe9272</td>\n",
       "      <td>27.17.154.225</td>\n",
       "      <td>False</td>\n",
       "      <td>False</td>\n",
       "      <td>UNKNOWN</td>\n",
       "      <td>CCCB23333A36608DA8F100E90F4A6427</td>\n",
       "      <td>湖北省</td>\n",
       "      <td>1512684647827</td>\n",
       "      <td>active</td>\n",
       "      <td>False</td>\n",
       "    </tr>\n",
       "    <tr>\n",
       "      <th>52131</th>\n",
       "      <td>71397</td>\n",
       "      <td>UNKNOWN</td>\n",
       "      <td>6d037616ebd2e02caaaaaaaa</td>\n",
       "      <td>中国</td>\n",
       "      <td>CHN</td>\n",
       "      <td>de2f0bbe-dae1-4abe-89b0-dc32a98a0b91</td>\n",
       "      <td>117.136.99.53</td>\n",
       "      <td>False</td>\n",
       "      <td>False</td>\n",
       "      <td>UNKNOWN</td>\n",
       "      <td>9B189FD7F1A1810DE857055FCA750E2B</td>\n",
       "      <td>广西壮族自治区</td>\n",
       "      <td>1512684880991</td>\n",
       "      <td>active</td>\n",
       "      <td>False</td>\n",
       "    </tr>\n",
       "    <tr>\n",
       "      <th>52132</th>\n",
       "      <td>120494</td>\n",
       "      <td>台州市</td>\n",
       "      <td>48c6fa7a05a9c537aaaaaaaa</td>\n",
       "      <td>中国</td>\n",
       "      <td>CHN</td>\n",
       "      <td>2d3e9b80-961c-4a5a-b9a5-a9b6a8cef237</td>\n",
       "      <td>39.182.132.141</td>\n",
       "      <td>False</td>\n",
       "      <td>False</td>\n",
       "      <td>UNKNOWN</td>\n",
       "      <td>75EA2F1C7CB1B7C2BA4A7EC16F863BF3</td>\n",
       "      <td>浙江省</td>\n",
       "      <td>1512685062247</td>\n",
       "      <td>active</td>\n",
       "      <td>False</td>\n",
       "    </tr>\n",
       "    <tr>\n",
       "      <th>52133</th>\n",
       "      <td>33919</td>\n",
       "      <td>台州市</td>\n",
       "      <td>48c6fa7a05a9c537aaaaaaaa</td>\n",
       "      <td>中国</td>\n",
       "      <td>CHN</td>\n",
       "      <td>13f764dc-9b2c-45c8-9aaf-d7ed674e4c90</td>\n",
       "      <td>39.182.132.141</td>\n",
       "      <td>False</td>\n",
       "      <td>False</td>\n",
       "      <td>UNKNOWN</td>\n",
       "      <td>BDDD30D133C3988E85B514F9483B72B8</td>\n",
       "      <td>浙江省</td>\n",
       "      <td>1512685286242</td>\n",
       "      <td>active</td>\n",
       "      <td>False</td>\n",
       "    </tr>\n",
       "    <tr>\n",
       "      <th>52134</th>\n",
       "      <td>89033</td>\n",
       "      <td>深圳市</td>\n",
       "      <td>ddef0e7ea5a76a68aaaaaaaa</td>\n",
       "      <td>中国</td>\n",
       "      <td>CHN</td>\n",
       "      <td>84cf1549-59fc-4470-bb41-518cf756f9bd</td>\n",
       "      <td>123.66.35.49</td>\n",
       "      <td>False</td>\n",
       "      <td>False</td>\n",
       "      <td>UNKNOWN</td>\n",
       "      <td>BB68AB0A375095B894008473D627DE0A</td>\n",
       "      <td>广东省</td>\n",
       "      <td>1512686029127</td>\n",
       "      <td>active</td>\n",
       "      <td>False</td>\n",
       "    </tr>\n",
       "    <tr>\n",
       "      <th>52135</th>\n",
       "      <td>31961</td>\n",
       "      <td>宁波市</td>\n",
       "      <td>d25bf711e75e9c45aaaaaaaa</td>\n",
       "      <td>中国</td>\n",
       "      <td>CHN</td>\n",
       "      <td>c2045bd4-d0c4-4dcf-9148-051df3496b17</td>\n",
       "      <td>39.186.71.109</td>\n",
       "      <td>False</td>\n",
       "      <td>False</td>\n",
       "      <td>UNKNOWN</td>\n",
       "      <td>C329C2213F2A6FA2A99EC63626922D97</td>\n",
       "      <td>浙江省</td>\n",
       "      <td>1512687235284</td>\n",
       "      <td>active</td>\n",
       "      <td>False</td>\n",
       "    </tr>\n",
       "    <tr>\n",
       "      <th>52136</th>\n",
       "      <td>28398</td>\n",
       "      <td>成都市</td>\n",
       "      <td>a847bc6e4b303b7faaaaaaaa</td>\n",
       "      <td>中国</td>\n",
       "      <td>CHN</td>\n",
       "      <td>5abefe73-d11b-4189-99b8-4ac259058f34</td>\n",
       "      <td>125.70.62.91</td>\n",
       "      <td>False</td>\n",
       "      <td>False</td>\n",
       "      <td>UNKNOWN</td>\n",
       "      <td>73ADF06F8AF09D82508252BEF98CA6DF</td>\n",
       "      <td>四川省</td>\n",
       "      <td>1512687504841</td>\n",
       "      <td>active</td>\n",
       "      <td>False</td>\n",
       "    </tr>\n",
       "    <tr>\n",
       "      <th>52137</th>\n",
       "      <td>28399</td>\n",
       "      <td>唐山市</td>\n",
       "      <td>5da36060496b894caaaaaaaa</td>\n",
       "      <td>中国</td>\n",
       "      <td>CHN</td>\n",
       "      <td>55ebae26-b01a-4752-ad41-26e2422bc78e</td>\n",
       "      <td>183.198.63.218</td>\n",
       "      <td>False</td>\n",
       "      <td>False</td>\n",
       "      <td>UNKNOWN</td>\n",
       "      <td>C129DFC5E4632E9984B855B5BE8AB8F9</td>\n",
       "      <td>河北省</td>\n",
       "      <td>1512687518783</td>\n",
       "      <td>active</td>\n",
       "      <td>False</td>\n",
       "    </tr>\n",
       "    <tr>\n",
       "      <th>52138</th>\n",
       "      <td>10709</td>\n",
       "      <td>济南市</td>\n",
       "      <td>212b61a3611d83c4aaaaaaaa</td>\n",
       "      <td>中国</td>\n",
       "      <td>CHN</td>\n",
       "      <td>11e466bc-86c6-43a2-aa2a-9bc273ddfd38</td>\n",
       "      <td>39.78.55.66</td>\n",
       "      <td>False</td>\n",
       "      <td>False</td>\n",
       "      <td>UNKNOWN</td>\n",
       "      <td>4FE47A82F3104D837DBC707943018A52</td>\n",
       "      <td>山东省</td>\n",
       "      <td>1512688136773</td>\n",
       "      <td>active</td>\n",
       "      <td>False</td>\n",
       "    </tr>\n",
       "    <tr>\n",
       "      <th>52139</th>\n",
       "      <td>10710</td>\n",
       "      <td>成都市</td>\n",
       "      <td>34b7d9645c8b6cbbaaaaaaaa</td>\n",
       "      <td>中国</td>\n",
       "      <td>CHN</td>\n",
       "      <td>17ef5c18-6f82-4f4c-a1fa-ac7d4920ec48</td>\n",
       "      <td>223.104.189.71</td>\n",
       "      <td>False</td>\n",
       "      <td>True</td>\n",
       "      <td>UNKNOWN</td>\n",
       "      <td>CCFB9FED6F95FF5333008538BADB7EAC</td>\n",
       "      <td>四川省</td>\n",
       "      <td>1512688166774</td>\n",
       "      <td>active</td>\n",
       "      <td>False</td>\n",
       "    </tr>\n",
       "    <tr>\n",
       "      <th>52140</th>\n",
       "      <td>26398</td>\n",
       "      <td>厦门市</td>\n",
       "      <td>45d38218b485319aaaaaaaaa</td>\n",
       "      <td>中国</td>\n",
       "      <td>CHN</td>\n",
       "      <td>6a77042d-096f-487a-8470-f8db441a73c0</td>\n",
       "      <td>111.128.184.174</td>\n",
       "      <td>False</td>\n",
       "      <td>False</td>\n",
       "      <td>UNKNOWN</td>\n",
       "      <td>6FE65BC73B5F7479D733A81F08F8F515</td>\n",
       "      <td>福建省</td>\n",
       "      <td>1512688509673</td>\n",
       "      <td>active</td>\n",
       "      <td>False</td>\n",
       "    </tr>\n",
       "    <tr>\n",
       "      <th>52141</th>\n",
       "      <td>26404</td>\n",
       "      <td>成都市</td>\n",
       "      <td>95d41e9992636d8faaaaaaaa</td>\n",
       "      <td>中国</td>\n",
       "      <td>CHN</td>\n",
       "      <td>be5384ba-953e-4fc9-be2e-8b4410ffac32</td>\n",
       "      <td>171.210.15.131</td>\n",
       "      <td>False</td>\n",
       "      <td>False</td>\n",
       "      <td>UNKNOWN</td>\n",
       "      <td>AEDAA6FB7F1316862718BE4777415640</td>\n",
       "      <td>四川省</td>\n",
       "      <td>1512688781297</td>\n",
       "      <td>active</td>\n",
       "      <td>False</td>\n",
       "    </tr>\n",
       "    <tr>\n",
       "      <th>52142</th>\n",
       "      <td>26405</td>\n",
       "      <td>吕梁市</td>\n",
       "      <td>deb8a8e4530aeaaeaaaaaaaa</td>\n",
       "      <td>中国</td>\n",
       "      <td>CHN</td>\n",
       "      <td>d4890d58-1432-4991-b36e-4a2368e10242</td>\n",
       "      <td>113.26.223.124</td>\n",
       "      <td>True</td>\n",
       "      <td>False</td>\n",
       "      <td>UNKNOWN</td>\n",
       "      <td>49AB6E33264E98202FCD1C22D9CA5B72</td>\n",
       "      <td>山西省</td>\n",
       "      <td>1512688790796</td>\n",
       "      <td>active</td>\n",
       "      <td>False</td>\n",
       "    </tr>\n",
       "    <tr>\n",
       "      <th>52143</th>\n",
       "      <td>65708</td>\n",
       "      <td>北京市</td>\n",
       "      <td>5f7a9939b7bd6e99aaaaaaaa</td>\n",
       "      <td>中国</td>\n",
       "      <td>CHN</td>\n",
       "      <td>ef7d0857-a4b8-4187-b459-7bdaf145081f</td>\n",
       "      <td>223.21.163.119</td>\n",
       "      <td>False</td>\n",
       "      <td>False</td>\n",
       "      <td>UNKNOWN</td>\n",
       "      <td>DA02ECB7FBCEC8FDE7404BB13E369184</td>\n",
       "      <td>北京市</td>\n",
       "      <td>1512688989120</td>\n",
       "      <td>active</td>\n",
       "      <td>False</td>\n",
       "    </tr>\n",
       "    <tr>\n",
       "      <th>52144</th>\n",
       "      <td>110590</td>\n",
       "      <td>合肥市</td>\n",
       "      <td>7b8101b26c47bb00aaaaaaaa</td>\n",
       "      <td>中国</td>\n",
       "      <td>CHN</td>\n",
       "      <td>056a3e8c-aab2-45b2-9ac3-0b64e162b727</td>\n",
       "      <td>36.60.55.16</td>\n",
       "      <td>False</td>\n",
       "      <td>False</td>\n",
       "      <td>UNKNOWN</td>\n",
       "      <td>E27F7F015CA8205AEF32B9D0F11F30FA</td>\n",
       "      <td>安徽省</td>\n",
       "      <td>1512689111659</td>\n",
       "      <td>active</td>\n",
       "      <td>False</td>\n",
       "    </tr>\n",
       "    <tr>\n",
       "      <th>52145</th>\n",
       "      <td>39632</td>\n",
       "      <td>百色市</td>\n",
       "      <td>af0a07e2579bc04faaaaaaaa</td>\n",
       "      <td>中国</td>\n",
       "      <td>CHN</td>\n",
       "      <td>25c76284-3cc6-449a-aa98-51cfddd3305c</td>\n",
       "      <td>125.73.83.36</td>\n",
       "      <td>False</td>\n",
       "      <td>False</td>\n",
       "      <td>UNKNOWN</td>\n",
       "      <td>C916409B291A8DBD0DBDEC655A296215</td>\n",
       "      <td>广西壮族自治区</td>\n",
       "      <td>1512689409001</td>\n",
       "      <td>active</td>\n",
       "      <td>False</td>\n",
       "    </tr>\n",
       "    <tr>\n",
       "      <th>52146</th>\n",
       "      <td>39634</td>\n",
       "      <td>广州市</td>\n",
       "      <td>6170a78dcc3a7f02aaaaaaaa</td>\n",
       "      <td>中国</td>\n",
       "      <td>CHN</td>\n",
       "      <td>970397da-8002-4083-a9ad-ff11c1548fa8</td>\n",
       "      <td>112.96.112.215</td>\n",
       "      <td>False</td>\n",
       "      <td>False</td>\n",
       "      <td>UNKNOWN</td>\n",
       "      <td>08A2DD674C13F32840D483B423679533</td>\n",
       "      <td>广东省</td>\n",
       "      <td>1512689450860</td>\n",
       "      <td>active</td>\n",
       "      <td>False</td>\n",
       "    </tr>\n",
       "    <tr>\n",
       "      <th>52147</th>\n",
       "      <td>39637</td>\n",
       "      <td>成都市</td>\n",
       "      <td>b9bcb7f63ea9fe89aaaaaaaa</td>\n",
       "      <td>中国</td>\n",
       "      <td>CHN</td>\n",
       "      <td>982c32eb-f7c4-45e7-b9ab-a3072cc2b8fd</td>\n",
       "      <td>223.104.107.48</td>\n",
       "      <td>False</td>\n",
       "      <td>False</td>\n",
       "      <td>UNKNOWN</td>\n",
       "      <td>F1DAD7421EE8A36353BB59554AB41598</td>\n",
       "      <td>四川省</td>\n",
       "      <td>1512689582461</td>\n",
       "      <td>active</td>\n",
       "      <td>False</td>\n",
       "    </tr>\n",
       "    <tr>\n",
       "      <th>52148</th>\n",
       "      <td>39640</td>\n",
       "      <td>石家庄市</td>\n",
       "      <td>85bce615135bfd6faaaaaaaa</td>\n",
       "      <td>中国</td>\n",
       "      <td>CHN</td>\n",
       "      <td>0f7ae447-4b2d-483e-b24e-9db9507b0537</td>\n",
       "      <td>221.192.178.98</td>\n",
       "      <td>False</td>\n",
       "      <td>False</td>\n",
       "      <td>UNKNOWN</td>\n",
       "      <td>73D55677D965013C4BDF64FA3301B226</td>\n",
       "      <td>河北省</td>\n",
       "      <td>1512689662396</td>\n",
       "      <td>active</td>\n",
       "      <td>False</td>\n",
       "    </tr>\n",
       "    <tr>\n",
       "      <th>52149</th>\n",
       "      <td>20492</td>\n",
       "      <td>昆明市</td>\n",
       "      <td>be4b4dc27211dba6aaaaaaaa</td>\n",
       "      <td>中国</td>\n",
       "      <td>CHN</td>\n",
       "      <td>df2738f8-3d86-4cc8-8cbc-3bf31bc2e9ce</td>\n",
       "      <td>106.61.39.3</td>\n",
       "      <td>False</td>\n",
       "      <td>False</td>\n",
       "      <td>UNKNOWN</td>\n",
       "      <td>AAF3009F3B694DFADA976C64DAE74D3A</td>\n",
       "      <td>云南省</td>\n",
       "      <td>1512689775949</td>\n",
       "      <td>active</td>\n",
       "      <td>False</td>\n",
       "    </tr>\n",
       "    <tr>\n",
       "      <th>52150</th>\n",
       "      <td>20493</td>\n",
       "      <td>西安市</td>\n",
       "      <td>7a8fee717c346d48aaaaaaaa</td>\n",
       "      <td>中国</td>\n",
       "      <td>CHN</td>\n",
       "      <td>f456d48f-8d38-40ff-b0ba-b5a7ac6618ef</td>\n",
       "      <td>221.11.61.76</td>\n",
       "      <td>False</td>\n",
       "      <td>False</td>\n",
       "      <td>UNKNOWN</td>\n",
       "      <td>AA19FCEEE6E016C1E657FFD8128558DE</td>\n",
       "      <td>陕西省</td>\n",
       "      <td>1512689779155</td>\n",
       "      <td>active</td>\n",
       "      <td>False</td>\n",
       "    </tr>\n",
       "    <tr>\n",
       "      <th>52151</th>\n",
       "      <td>20495</td>\n",
       "      <td>石家庄市</td>\n",
       "      <td>85bce615135bfd6faaaaaaaa</td>\n",
       "      <td>中国</td>\n",
       "      <td>CHN</td>\n",
       "      <td>3df0553d-b968-4376-9f53-b1c55c8e254d</td>\n",
       "      <td>221.192.178.98</td>\n",
       "      <td>False</td>\n",
       "      <td>False</td>\n",
       "      <td>UNKNOWN</td>\n",
       "      <td>45B4B4BACD33CE946B36D34E5C3AE12B</td>\n",
       "      <td>河北省</td>\n",
       "      <td>1512689830493</td>\n",
       "      <td>active</td>\n",
       "      <td>False</td>\n",
       "    </tr>\n",
       "    <tr>\n",
       "      <th>52152</th>\n",
       "      <td>75422</td>\n",
       "      <td>成都市</td>\n",
       "      <td>672e550344658880aaaaaaaa</td>\n",
       "      <td>中国</td>\n",
       "      <td>CHN</td>\n",
       "      <td>86ecbef0-0bd9-4242-a64e-b900c92dbc65</td>\n",
       "      <td>223.104.188.134</td>\n",
       "      <td>False</td>\n",
       "      <td>False</td>\n",
       "      <td>UNKNOWN</td>\n",
       "      <td>DF1895CF9D1820A414B5986345699B36</td>\n",
       "      <td>四川省</td>\n",
       "      <td>1512690207519</td>\n",
       "      <td>active</td>\n",
       "      <td>True</td>\n",
       "    </tr>\n",
       "    <tr>\n",
       "      <th>52153</th>\n",
       "      <td>75426</td>\n",
       "      <td>南平市</td>\n",
       "      <td>e478ccbfbcba6303aaaaaaaa</td>\n",
       "      <td>中国</td>\n",
       "      <td>CHN</td>\n",
       "      <td>7ce999b6-0025-4800-b709-7c1fcc3d5e8b</td>\n",
       "      <td>111.128.4.194</td>\n",
       "      <td>False</td>\n",
       "      <td>False</td>\n",
       "      <td>UNKNOWN</td>\n",
       "      <td>8C4F8B129A69D80C3DE1CE77FE51D441</td>\n",
       "      <td>福建省</td>\n",
       "      <td>1512690232770</td>\n",
       "      <td>active</td>\n",
       "      <td>False</td>\n",
       "    </tr>\n",
       "    <tr>\n",
       "      <th>52154</th>\n",
       "      <td>124268</td>\n",
       "      <td>四平市</td>\n",
       "      <td>9cbaecedcf4c77dfaaaaaaaa</td>\n",
       "      <td>中国</td>\n",
       "      <td>CHN</td>\n",
       "      <td>3d372e82-5466-4d2d-bc06-12e8b0fbab01</td>\n",
       "      <td>222.160.0.208</td>\n",
       "      <td>False</td>\n",
       "      <td>False</td>\n",
       "      <td>UNKNOWN</td>\n",
       "      <td>1AC7EF721816C2BC2E73AC6FCC871C96</td>\n",
       "      <td>吉林省</td>\n",
       "      <td>1512690463066</td>\n",
       "      <td>active</td>\n",
       "      <td>False</td>\n",
       "    </tr>\n",
       "    <tr>\n",
       "      <th>52155</th>\n",
       "      <td>124275</td>\n",
       "      <td>天津市</td>\n",
       "      <td>df4b7123a6ae571aaaaaaaaa</td>\n",
       "      <td>中国</td>\n",
       "      <td>CHN</td>\n",
       "      <td>2fcb25dc-4aa0-4060-97fb-4db9f55f4fc3</td>\n",
       "      <td>111.167.86.131</td>\n",
       "      <td>False</td>\n",
       "      <td>False</td>\n",
       "      <td>UNKNOWN</td>\n",
       "      <td>B28FEA23C9A79F09B2B483C607ECAEFD</td>\n",
       "      <td>天津市</td>\n",
       "      <td>1512690555884</td>\n",
       "      <td>active</td>\n",
       "      <td>False</td>\n",
       "    </tr>\n",
       "    <tr>\n",
       "      <th>52156</th>\n",
       "      <td>37541</td>\n",
       "      <td>郑州市</td>\n",
       "      <td>ffc5b31e1b1e51e3aaaaaaaa</td>\n",
       "      <td>中国</td>\n",
       "      <td>CHN</td>\n",
       "      <td>19f1f0f9-c01c-452b-96a4-53cfe9f2be5a</td>\n",
       "      <td>171.10.37.195</td>\n",
       "      <td>False</td>\n",
       "      <td>False</td>\n",
       "      <td>UNKNOWN</td>\n",
       "      <td>FF9374B15843E54B505915654BF5F7BC</td>\n",
       "      <td>河南省</td>\n",
       "      <td>1512690704506</td>\n",
       "      <td>active</td>\n",
       "      <td>False</td>\n",
       "    </tr>\n",
       "    <tr>\n",
       "      <th>52157</th>\n",
       "      <td>37547</td>\n",
       "      <td>东莞市</td>\n",
       "      <td>79a1d64a4e31f86baaaaaaaa</td>\n",
       "      <td>中国</td>\n",
       "      <td>CHN</td>\n",
       "      <td>f4f2a073-0b05-446c-847c-735be10d1e4c</td>\n",
       "      <td>14.120.35.185</td>\n",
       "      <td>False</td>\n",
       "      <td>False</td>\n",
       "      <td>UNKNOWN</td>\n",
       "      <td>4175341190A6378F6A20FD03E141017E</td>\n",
       "      <td>广东省</td>\n",
       "      <td>1512690856983</td>\n",
       "      <td>active</td>\n",
       "      <td>False</td>\n",
       "    </tr>\n",
       "  </tbody>\n",
       "</table>\n",
       "<p>52158 rows × 15 columns</p>\n",
       "</div>"
      ],
      "text/plain": [
       "        index     city                      ckid country country_code  \\\n",
       "0      118746  UNKNOWN          2b4f740bbb771887      中国          CHN   \n",
       "1      118747      沧州市           f22385332947db2      中国          CHN   \n",
       "2      118748      广州市          be20d1a61a8cf007      中国          CHN   \n",
       "3      118749      安阳市          8a4ea592305e7f62      中国          CHN   \n",
       "4      118750      梧州市          b3c2a85a80af4d4b      中国          CHN   \n",
       "5      118751    呼和浩特市          e5f93ebf605872d5      中国          CHN   \n",
       "6      118752      青岛市          8c9eb76061082311      中国          CHN   \n",
       "7      118753      南平市          8775d81b1d0c1105      中国          CHN   \n",
       "8      118754      郑州市            c5d6d3b81bd0f7      中国          CHN   \n",
       "9      118755      西安市           60694e3962dc5c6      中国          CHN   \n",
       "10     118756  UNKNOWN          d3bd8fe581252929      中国          CHN   \n",
       "11     118757      长沙市          c4404c95d7c2975f      中国          CHN   \n",
       "12     118758      广州市          4d98754aad7090f9      中国          CHN   \n",
       "13      31561  UNKNOWN          a3f2ea64709b9885      中国          CHN   \n",
       "14      31562  UNKNOWN          9f9b495ff7cf670d      中国          CHN   \n",
       "15      31563     石家庄市          1c45baae55b166c4      中国          CHN   \n",
       "16      31564  UNKNOWN          c3ccc2639b5b1839      中国          CHN   \n",
       "17      31565      济南市          1929c7ac67e6a6c3      中国          CHN   \n",
       "18      31566      天津市          6425c5a0996d74a1      中国          CHN   \n",
       "19      18177      广州市           31863098e9ae6fc      中国          CHN   \n",
       "20      18178      玉溪市          dd23398f099ec5e4      中国          CHN   \n",
       "21      18179      广元市          8ab5332dd31d580f      中国          CHN   \n",
       "22      18180      成都市          511bfb1c83c90827      中国          CHN   \n",
       "23      18181      武汉市          fd0ab6ec6a891b14      中国          CHN   \n",
       "24      18182  UNKNOWN          1233c0c710a486cc      中国          CHN   \n",
       "25      18183      苏州市          a2cd1b8b01ed3768      中国          CHN   \n",
       "26      18184      重庆市           f94edecd9d9b396      中国          CHN   \n",
       "27      18186  UNKNOWN          c306edf52b65f3ef      中国          CHN   \n",
       "28      18187      温州市          f1dfcf87313eaf7a      中国          CHN   \n",
       "29      18188      太原市           3f5fec373518f8c      中国          CHN   \n",
       "...       ...      ...                       ...     ...          ...   \n",
       "52128   16422      洛阳市  7cc218c90ea8460caaaaaaaa      中国          CHN   \n",
       "52129   71392     哈尔滨市  5a86ad74e6009e61aaaaaaaa      中国          CHN   \n",
       "52130   71393      武汉市  73c3498a9d7fdb76aaaaaaaa      中国          CHN   \n",
       "52131   71397  UNKNOWN  6d037616ebd2e02caaaaaaaa      中国          CHN   \n",
       "52132  120494      台州市  48c6fa7a05a9c537aaaaaaaa      中国          CHN   \n",
       "52133   33919      台州市  48c6fa7a05a9c537aaaaaaaa      中国          CHN   \n",
       "52134   89033      深圳市  ddef0e7ea5a76a68aaaaaaaa      中国          CHN   \n",
       "52135   31961      宁波市  d25bf711e75e9c45aaaaaaaa      中国          CHN   \n",
       "52136   28398      成都市  a847bc6e4b303b7faaaaaaaa      中国          CHN   \n",
       "52137   28399      唐山市  5da36060496b894caaaaaaaa      中国          CHN   \n",
       "52138   10709      济南市  212b61a3611d83c4aaaaaaaa      中国          CHN   \n",
       "52139   10710      成都市  34b7d9645c8b6cbbaaaaaaaa      中国          CHN   \n",
       "52140   26398      厦门市  45d38218b485319aaaaaaaaa      中国          CHN   \n",
       "52141   26404      成都市  95d41e9992636d8faaaaaaaa      中国          CHN   \n",
       "52142   26405      吕梁市  deb8a8e4530aeaaeaaaaaaaa      中国          CHN   \n",
       "52143   65708      北京市  5f7a9939b7bd6e99aaaaaaaa      中国          CHN   \n",
       "52144  110590      合肥市  7b8101b26c47bb00aaaaaaaa      中国          CHN   \n",
       "52145   39632      百色市  af0a07e2579bc04faaaaaaaa      中国          CHN   \n",
       "52146   39634      广州市  6170a78dcc3a7f02aaaaaaaa      中国          CHN   \n",
       "52147   39637      成都市  b9bcb7f63ea9fe89aaaaaaaa      中国          CHN   \n",
       "52148   39640     石家庄市  85bce615135bfd6faaaaaaaa      中国          CHN   \n",
       "52149   20492      昆明市  be4b4dc27211dba6aaaaaaaa      中国          CHN   \n",
       "52150   20493      西安市  7a8fee717c346d48aaaaaaaa      中国          CHN   \n",
       "52151   20495     石家庄市  85bce615135bfd6faaaaaaaa      中国          CHN   \n",
       "52152   75422      成都市  672e550344658880aaaaaaaa      中国          CHN   \n",
       "52153   75426      南平市  e478ccbfbcba6303aaaaaaaa      中国          CHN   \n",
       "52154  124268      四平市  9cbaecedcf4c77dfaaaaaaaa      中国          CHN   \n",
       "52155  124275      天津市  df4b7123a6ae571aaaaaaaaa      中国          CHN   \n",
       "52156   37541      郑州市  ffc5b31e1b1e51e3aaaaaaaa      中国          CHN   \n",
       "52157   37547      东莞市  79a1d64a4e31f86baaaaaaaa      中国          CHN   \n",
       "\n",
       "                                   event_id               ip is_cracked  \\\n",
       "0      c97a8788-eb5f-48c4-9c9e-baa01d914253    222.217.87.58      False   \n",
       "1      805868e2-83fb-4295-a2b4-551e858a46e6     61.55.93.154      False   \n",
       "2      74c2b187-f337-4936-bd64-589f8e9a1b42    14.30.180.124      False   \n",
       "3      337564d9-41e4-4459-a113-465c8ab57047    182.124.79.68      False   \n",
       "4      7725a96e-961d-4efd-a28f-179ed7dc9ff4    125.73.102.27      False   \n",
       "5      cf18e1b0-c863-4690-b43d-9a2c3fdb81ae   123.178.32.137      False   \n",
       "6      d900e72a-237b-4367-88ec-f87fb9469a8b    112.224.20.54      False   \n",
       "7      c72c740f-86be-4567-a4a3-1300cac4b7e5  121.206.194.175      False   \n",
       "8      b3cd0f23-d180-4c32-b548-f5df96a9ea15     171.10.49.38      False   \n",
       "9      cb803da7-748a-4bdd-9d34-fa6797638029   113.200.85.175      False   \n",
       "10     f1067a9e-0f1c-49b7-a9e5-a393bce6e714    117.136.41.82      False   \n",
       "11     097dac80-e1d3-4007-ba07-74e9d2a2821e    101.130.53.45      False   \n",
       "12     285f128d-7bcf-41c6-bb7a-f8c2074fe7f7   112.96.128.119      False   \n",
       "13     16a2005f-6ace-40eb-8edc-f3d1035dd63d    223.104.16.48      False   \n",
       "14     747303aa-1170-4ec0-ad37-ff3dd2fc556a   60.161.151.203      False   \n",
       "15     d1158b6a-2a5c-4a3e-894d-dff733dc18e3   27.184.136.164      False   \n",
       "16     e1500566-cfd9-46c8-918d-346afd7137bb    36.104.34.151      False   \n",
       "17     1e20f36d-6cc8-4431-a5c4-3667e18f4c60  113.129.224.152      False   \n",
       "18     f6c01951-3ccc-4ee3-8c79-4a2fb792c38c   211.94.254.149      False   \n",
       "19     04210fa5-1c8e-437a-b1a4-c521d4f82ad3     58.62.235.94      False   \n",
       "20     f1c373d7-cb68-4e68-9c2f-b29d840397c8    14.205.79.248      False   \n",
       "21     5bf56c5c-72b4-4010-9bdc-87e9421ff550    182.128.8.132      False   \n",
       "22     84c45714-a7ae-42f7-91ae-23fd7b065ec1   171.217.18.183      False   \n",
       "23     4a354cdf-ce63-421e-b512-ee10bdafe16d  119.103.185.153      False   \n",
       "24     be93e945-ac8e-4173-a710-583caa02300a    223.104.2.199      False   \n",
       "25     89d5cc30-9ee2-4ebb-bbe6-4c76b41d1301    36.149.70.122      False   \n",
       "26     48572672-3b30-4ae5-bcbd-d4e2fa9f59e6    223.104.25.89      False   \n",
       "27     a69813e2-51f5-4ae8-b80a-b40d0d03f084    112.17.243.54      False   \n",
       "28     f6f598bc-178d-49a1-b09a-c6b55667e507    112.14.124.22      False   \n",
       "29     52bd370d-ad25-401d-ab64-c2397d3df7d1      1.68.45.222      False   \n",
       "...                                     ...              ...        ...   \n",
       "52128  9ddbed22-f5a9-4361-8e12-c068452745bd   61.158.147.130      False   \n",
       "52129  3a408242-99f6-466d-b36f-88d87eb330cf    113.4.219.102      False   \n",
       "52130  8cd59b11-87bb-42c5-a444-8f34a4fe9272    27.17.154.225      False   \n",
       "52131  de2f0bbe-dae1-4abe-89b0-dc32a98a0b91    117.136.99.53      False   \n",
       "52132  2d3e9b80-961c-4a5a-b9a5-a9b6a8cef237   39.182.132.141      False   \n",
       "52133  13f764dc-9b2c-45c8-9aaf-d7ed674e4c90   39.182.132.141      False   \n",
       "52134  84cf1549-59fc-4470-bb41-518cf756f9bd     123.66.35.49      False   \n",
       "52135  c2045bd4-d0c4-4dcf-9148-051df3496b17    39.186.71.109      False   \n",
       "52136  5abefe73-d11b-4189-99b8-4ac259058f34     125.70.62.91      False   \n",
       "52137  55ebae26-b01a-4752-ad41-26e2422bc78e   183.198.63.218      False   \n",
       "52138  11e466bc-86c6-43a2-aa2a-9bc273ddfd38      39.78.55.66      False   \n",
       "52139  17ef5c18-6f82-4f4c-a1fa-ac7d4920ec48   223.104.189.71      False   \n",
       "52140  6a77042d-096f-487a-8470-f8db441a73c0  111.128.184.174      False   \n",
       "52141  be5384ba-953e-4fc9-be2e-8b4410ffac32   171.210.15.131      False   \n",
       "52142  d4890d58-1432-4991-b36e-4a2368e10242   113.26.223.124       True   \n",
       "52143  ef7d0857-a4b8-4187-b459-7bdaf145081f   223.21.163.119      False   \n",
       "52144  056a3e8c-aab2-45b2-9ac3-0b64e162b727      36.60.55.16      False   \n",
       "52145  25c76284-3cc6-449a-aa98-51cfddd3305c     125.73.83.36      False   \n",
       "52146  970397da-8002-4083-a9ad-ff11c1548fa8   112.96.112.215      False   \n",
       "52147  982c32eb-f7c4-45e7-b9ab-a3072cc2b8fd   223.104.107.48      False   \n",
       "52148  0f7ae447-4b2d-483e-b24e-9db9507b0537   221.192.178.98      False   \n",
       "52149  df2738f8-3d86-4cc8-8cbc-3bf31bc2e9ce      106.61.39.3      False   \n",
       "52150  f456d48f-8d38-40ff-b0ba-b5a7ac6618ef     221.11.61.76      False   \n",
       "52151  3df0553d-b968-4376-9f53-b1c55c8e254d   221.192.178.98      False   \n",
       "52152  86ecbef0-0bd9-4242-a64e-b900c92dbc65  223.104.188.134      False   \n",
       "52153  7ce999b6-0025-4800-b709-7c1fcc3d5e8b    111.128.4.194      False   \n",
       "52154  3d372e82-5466-4d2d-bc06-12e8b0fbab01    222.160.0.208      False   \n",
       "52155  2fcb25dc-4aa0-4060-97fb-4db9f55f4fc3   111.167.86.131      False   \n",
       "52156  19f1f0f9-c01c-452b-96a4-53cfe9f2be5a    171.10.37.195      False   \n",
       "52157  f4f2a073-0b05-446c-847c-735be10d1e4c    14.120.35.185      False   \n",
       "\n",
       "      is_proxy is_simulator                            mobile province  \\\n",
       "0      UNKNOWN         True  91B45FC63F64B5608C888DBE64169CBC  广西壮族自治区   \n",
       "1      UNKNOWN         True  EF9222ACD314E3D8304CDDB8246010EB      河北省   \n",
       "2      UNKNOWN         True  5A59D09206C4FF9BEF9AA221829DD345      广东省   \n",
       "3      UNKNOWN         True  3F7DFC70844CAAED0B9C848E0C75E92F      河南省   \n",
       "4      UNKNOWN         True  A80E97AFCAD4E64BB9096EFEF9BA0D25  广西壮族自治区   \n",
       "5      UNKNOWN         True  B27143ABA5E87C9CA19B21BE31893117   内蒙古自治区   \n",
       "6      UNKNOWN         True  87E21819C127996F1DE8868891001030      山东省   \n",
       "7      UNKNOWN         True  ED816CE1CFBB1D106735E0E87B519EE7      福建省   \n",
       "8      UNKNOWN         True  374B6998E2AA18E0D644AEEEA3003241      河南省   \n",
       "9      UNKNOWN         True  2193C02E8F585C422D628A3BDC387777      陕西省   \n",
       "10     UNKNOWN         True  736B34CF08DA4008D6C2557BAB438C94      广东省   \n",
       "11     UNKNOWN         True  DB62659929F01D2FF011A07030D708DB      湖南省   \n",
       "12     UNKNOWN         True  88FC2E9073BBFB7E454BAE804148C07D      广东省   \n",
       "13     UNKNOWN         True  6AF2D2231EB76292D918F7C788092FBE      吉林省   \n",
       "14     UNKNOWN         True  3D73D95BFD7F32A16ADBDD23348EB7CD      云南省   \n",
       "15     UNKNOWN         True  E435E56FDB090B2904A0147B8CCE3952      河北省   \n",
       "16     UNKNOWN         True  285813240E533C5B6DB32AD62DD8BC0B      吉林省   \n",
       "17     UNKNOWN         True  4CDB57AF73292DB16E6B9AFB17D3E6DF      山东省   \n",
       "18     UNKNOWN         True  26296277465408A98C19B9EB65B411A0      天津市   \n",
       "19     UNKNOWN         True  A6D03105A007A81D144AE39ADE7D8F3A      广东省   \n",
       "20     UNKNOWN         True  DAECAF6C672A263D03D0133F1F7DCFF2      云南省   \n",
       "21     UNKNOWN         True  117376CC113DA5EAAA61798921E43EEB      四川省   \n",
       "22     UNKNOWN         True  CFBB674B1C27EC6E2E663EE52E3DD021      四川省   \n",
       "23     UNKNOWN         True  86CC5EDEDDA8E7F6412A2A12A5441358      湖北省   \n",
       "24     UNKNOWN         True  FFBD911052051E4556F9653B47D283CA      山东省   \n",
       "25     UNKNOWN         True  87B2D66A4E807E9224A07D0547B27DB4      江苏省   \n",
       "26     UNKNOWN         True  C70A9DBB740435C91ECD0D0209D8A2EC      重庆市   \n",
       "27     UNKNOWN         True  0FAEB6A0E3E09BB9CFDF2BD6FBE141E8      浙江省   \n",
       "28     UNKNOWN         True  1C0BE63ECA67E77BDFE5D6F6CEC03553      浙江省   \n",
       "29     UNKNOWN         True  2B046C7A9FEB11BEF4A8B2B5330E5AC4      山西省   \n",
       "...        ...          ...                               ...      ...   \n",
       "52128    False      UNKNOWN  E77E4E3F8E8EA806816F1B4B1A956685      河南省   \n",
       "52129    False      UNKNOWN  58BC3E74F8F07ABCF76CC7A3496E4B2C     黑龙江省   \n",
       "52130    False      UNKNOWN  CCCB23333A36608DA8F100E90F4A6427      湖北省   \n",
       "52131    False      UNKNOWN  9B189FD7F1A1810DE857055FCA750E2B  广西壮族自治区   \n",
       "52132    False      UNKNOWN  75EA2F1C7CB1B7C2BA4A7EC16F863BF3      浙江省   \n",
       "52133    False      UNKNOWN  BDDD30D133C3988E85B514F9483B72B8      浙江省   \n",
       "52134    False      UNKNOWN  BB68AB0A375095B894008473D627DE0A      广东省   \n",
       "52135    False      UNKNOWN  C329C2213F2A6FA2A99EC63626922D97      浙江省   \n",
       "52136    False      UNKNOWN  73ADF06F8AF09D82508252BEF98CA6DF      四川省   \n",
       "52137    False      UNKNOWN  C129DFC5E4632E9984B855B5BE8AB8F9      河北省   \n",
       "52138    False      UNKNOWN  4FE47A82F3104D837DBC707943018A52      山东省   \n",
       "52139     True      UNKNOWN  CCFB9FED6F95FF5333008538BADB7EAC      四川省   \n",
       "52140    False      UNKNOWN  6FE65BC73B5F7479D733A81F08F8F515      福建省   \n",
       "52141    False      UNKNOWN  AEDAA6FB7F1316862718BE4777415640      四川省   \n",
       "52142    False      UNKNOWN  49AB6E33264E98202FCD1C22D9CA5B72      山西省   \n",
       "52143    False      UNKNOWN  DA02ECB7FBCEC8FDE7404BB13E369184      北京市   \n",
       "52144    False      UNKNOWN  E27F7F015CA8205AEF32B9D0F11F30FA      安徽省   \n",
       "52145    False      UNKNOWN  C916409B291A8DBD0DBDEC655A296215  广西壮族自治区   \n",
       "52146    False      UNKNOWN  08A2DD674C13F32840D483B423679533      广东省   \n",
       "52147    False      UNKNOWN  F1DAD7421EE8A36353BB59554AB41598      四川省   \n",
       "52148    False      UNKNOWN  73D55677D965013C4BDF64FA3301B226      河北省   \n",
       "52149    False      UNKNOWN  AAF3009F3B694DFADA976C64DAE74D3A      云南省   \n",
       "52150    False      UNKNOWN  AA19FCEEE6E016C1E657FFD8128558DE      陕西省   \n",
       "52151    False      UNKNOWN  45B4B4BACD33CE946B36D34E5C3AE12B      河北省   \n",
       "52152    False      UNKNOWN  DF1895CF9D1820A414B5986345699B36      四川省   \n",
       "52153    False      UNKNOWN  8C4F8B129A69D80C3DE1CE77FE51D441      福建省   \n",
       "52154    False      UNKNOWN  1AC7EF721816C2BC2E73AC6FCC871C96      吉林省   \n",
       "52155    False      UNKNOWN  B28FEA23C9A79F09B2B483C607ECAEFD      天津市   \n",
       "52156    False      UNKNOWN  FF9374B15843E54B505915654BF5F7BC      河南省   \n",
       "52157    False      UNKNOWN  4175341190A6378F6A20FD03E141017E      广东省   \n",
       "\n",
       "           timestamp    type ua_mismatch  \n",
       "0      1507593638555  active       False  \n",
       "1      1507593640267  active       False  \n",
       "2      1507593641620  active       False  \n",
       "3      1507593644036  active       False  \n",
       "4      1507593656463  active       False  \n",
       "5      1507593662484  active       False  \n",
       "6      1507593664788  active       False  \n",
       "7      1507593698785  active       False  \n",
       "8      1507593712647  active       False  \n",
       "9      1507593714971  active       False  \n",
       "10     1507593726863  active       False  \n",
       "11     1507593772048  active       False  \n",
       "12     1507593861168  active       False  \n",
       "13     1507593933658  active       False  \n",
       "14     1507593973402  active       False  \n",
       "15     1507593985344  active       False  \n",
       "16     1507594057737  active       False  \n",
       "17     1507594101081  active       False  \n",
       "18     1507594109911  active       False  \n",
       "19     1507594203885  active       False  \n",
       "20     1507594224646  active       False  \n",
       "21     1507594248107  active       False  \n",
       "22     1507594253117  active       False  \n",
       "23     1507594260127  active       False  \n",
       "24     1507594267537  active       False  \n",
       "25     1507594271065  active       False  \n",
       "26     1507594272523  active       False  \n",
       "27     1507594318867  active       False  \n",
       "28     1507594348747  active       False  \n",
       "29     1507594351871  active       False  \n",
       "...              ...     ...         ...  \n",
       "52128  1512684587251  active       False  \n",
       "52129  1512684604425  active       False  \n",
       "52130  1512684647827  active       False  \n",
       "52131  1512684880991  active       False  \n",
       "52132  1512685062247  active       False  \n",
       "52133  1512685286242  active       False  \n",
       "52134  1512686029127  active       False  \n",
       "52135  1512687235284  active       False  \n",
       "52136  1512687504841  active       False  \n",
       "52137  1512687518783  active       False  \n",
       "52138  1512688136773  active       False  \n",
       "52139  1512688166774  active       False  \n",
       "52140  1512688509673  active       False  \n",
       "52141  1512688781297  active       False  \n",
       "52142  1512688790796  active       False  \n",
       "52143  1512688989120  active       False  \n",
       "52144  1512689111659  active       False  \n",
       "52145  1512689409001  active       False  \n",
       "52146  1512689450860  active       False  \n",
       "52147  1512689582461  active       False  \n",
       "52148  1512689662396  active       False  \n",
       "52149  1512689775949  active       False  \n",
       "52150  1512689779155  active       False  \n",
       "52151  1512689830493  active       False  \n",
       "52152  1512690207519  active        True  \n",
       "52153  1512690232770  active       False  \n",
       "52154  1512690463066  active       False  \n",
       "52155  1512690555884  active       False  \n",
       "52156  1512690704506  active       False  \n",
       "52157  1512690856983  active       False  \n",
       "\n",
       "[52158 rows x 15 columns]"
      ]
     },
     "execution_count": 25,
     "metadata": {},
     "output_type": "execute_result"
    }
   ],
   "source": [
    "df.drop_duplicates(['mobile','city']).reset_index()"
   ]
  },
  {
   "cell_type": "code",
   "execution_count": null,
   "metadata": {
    "collapsed": false
   },
   "outputs": [],
   "source": []
  }
 ],
 "metadata": {
  "kernelspec": {
   "display_name": "Python 2",
   "language": "python",
   "name": "python2"
  },
  "language_info": {
   "codemirror_mode": {
    "name": "ipython",
    "version": 2
   },
   "file_extension": ".py",
   "mimetype": "text/x-python",
   "name": "python",
   "nbconvert_exporter": "python",
   "pygments_lexer": "ipython2",
   "version": "2.7.13"
  },
  "toc": {
   "nav_menu": {},
   "number_sections": true,
   "sideBar": true,
   "skip_h1_title": false,
   "toc_cell": false,
   "toc_position": {},
   "toc_section_display": "block",
   "toc_window_display": false
  }
 },
 "nbformat": 4,
 "nbformat_minor": 2
}
