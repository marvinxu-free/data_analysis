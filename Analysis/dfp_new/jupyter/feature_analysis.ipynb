{
 "cells": [
  {
   "cell_type": "markdown",
   "metadata": {
    "run_control": {
     "marked": true
    }
   },
   "source": [
    "主要是为了对getProvince得到的数据，进行特征分析， 并与getCity的进行对比，找到这两种获取的数据集在xgboost上差别如此大的原因。尤其对应Part3部分。\n",
    "\n",
    "分析点：\n",
    "\n",
    "- 看看获取的数据集的大小的区别。\n"
   ]
  },
  {
   "cell_type": "code",
   "execution_count": 1,
   "metadata": {
    "ExecuteTime": {
     "end_time": "2017-12-04T15:59:33.428386Z",
     "start_time": "2017-12-04T15:59:31.974390Z"
    },
    "collapsed": false,
    "run_control": {
     "marked": true
    }
   },
   "outputs": [],
   "source": [
    "import numpy as np\n",
    "import pandas as pd\n",
    "import matplotlib.pyplot as plt\n",
    "from sklearn.datasets import make_classification\n",
    "from sklearn.decomposition import PCA\n",
    "from Pic.maxent_style import *\n",
    "import datetime\n",
    "\n",
    "from imblearn.over_sampling import SMOTE\n",
    "from Pic.maxent_style import maxent_style,remove_palette\n",
    "from sklearn.preprocessing import StandardScaler\n",
    "from Pic.maxent_font import tick_font\n",
    "from Utils.common.custerReadFile import custom_open\n",
    "import re\n",
    "from sklearn.preprocessing import MinMaxScaler\n",
    "from Utils.common.custerReadFile import read_files\n",
    "from Utils.dfp_new.get_data import readData"
   ]
  },
  {
   "cell_type": "code",
   "execution_count": 2,
   "metadata": {
    "ExecuteTime": {
     "end_time": "2017-12-04T15:59:33.435845Z",
     "start_time": "2017-12-04T15:59:33.429993Z"
    },
    "collapsed": false,
    "run_control": {
     "marked": true
    }
   },
   "outputs": [],
   "source": [
    "dir_ = \"/Users/chaoxu/code/local-spark/Data/dfp_new\""
   ]
  },
  {
   "cell_type": "code",
   "execution_count": 3,
   "metadata": {
    "ExecuteTime": {
     "end_time": "2017-12-04T15:59:35.407425Z",
     "start_time": "2017-12-04T15:59:33.690284Z"
    },
    "collapsed": false,
    "run_control": {
     "marked": true
    }
   },
   "outputs": [],
   "source": [
    "df_c = readData(path=dir_)"
   ]
  },
  {
   "cell_type": "code",
   "execution_count": 4,
   "metadata": {
    "ExecuteTime": {
     "end_time": "2017-12-04T15:59:38.281363Z",
     "start_time": "2017-12-04T15:59:38.270887Z"
    },
    "collapsed": false,
    "run_control": {
     "marked": true
    }
   },
   "outputs": [],
   "source": [
    "df_c[['slope']] = df_c[['slope']].astype(float)\n",
    "df_c[['label']] = df_c[['label']].fillna(0)"
   ]
  },
  {
   "cell_type": "code",
   "execution_count": 5,
   "metadata": {
    "ExecuteTime": {
     "end_time": "2017-12-04T15:59:51.166447Z",
     "start_time": "2017-12-04T15:59:51.157850Z"
    },
    "collapsed": false,
    "run_control": {
     "marked": true
    }
   },
   "outputs": [],
   "source": [
    "obj_df = df_c.select_dtypes(include=['object'])\n",
    "for col in obj_df:\n",
    "    dummy_col = pd.get_dummies(df_c[col])\n",
    "    df_c = pd.concat([df_c, dummy_col], axis=1)\n",
    "df_c.drop(obj_df, inplace=True, axis=1)"
   ]
  },
  {
   "cell_type": "code",
   "execution_count": 6,
   "metadata": {
    "ExecuteTime": {
     "end_time": "2017-12-04T15:59:55.981329Z",
     "start_time": "2017-12-04T15:59:55.967151Z"
    },
    "collapsed": false,
    "run_control": {
     "marked": true
    }
   },
   "outputs": [
    {
     "data": {
      "text/plain": [
       "count    8368.000000\n",
       "mean        0.351755\n",
       "std         0.474217\n",
       "min         0.000000\n",
       "25%         0.000000\n",
       "50%         0.000000\n",
       "75%         1.000000\n",
       "max         1.000000\n",
       "Name: score, dtype: float64"
      ]
     },
     "execution_count": 6,
     "metadata": {},
     "output_type": "execute_result"
    }
   ],
   "source": [
    "df_c['score'].describe()"
   ]
  },
  {
   "cell_type": "code",
   "execution_count": null,
   "metadata": {
    "ExecuteTime": {
     "end_time": "2017-12-04T15:49:27.674966Z",
     "start_time": "2017-12-04T07:49:24.752Z"
    },
    "collapsed": false,
    "run_control": {
     "marked": true
    }
   },
   "outputs": [],
   "source": [
    "df_c.label.value_counts()"
   ]
  },
  {
   "cell_type": "code",
   "execution_count": null,
   "metadata": {
    "ExecuteTime": {
     "end_time": "2017-12-04T15:49:27.675273Z",
     "start_time": "2017-12-04T07:49:24.758Z"
    },
    "collapsed": false,
    "run_control": {
     "marked": true
    }
   },
   "outputs": [],
   "source": [
    "df_c_t['score'].describe()"
   ]
  },
  {
   "cell_type": "code",
   "execution_count": null,
   "metadata": {
    "ExecuteTime": {
     "end_time": "2017-12-04T15:49:27.675638Z",
     "start_time": "2017-12-04T07:49:24.765Z"
    },
    "collapsed": false,
    "run_control": {
     "marked": true
    }
   },
   "outputs": [],
   "source": [
    "df_c_t.label.value_counts()"
   ]
  },
  {
   "cell_type": "code",
   "execution_count": null,
   "metadata": {
    "ExecuteTime": {
     "end_time": "2017-12-04T15:49:27.675943Z",
     "start_time": "2017-12-04T07:49:24.771Z"
    },
    "collapsed": false,
    "run_control": {
     "marked": true
    }
   },
   "outputs": [],
   "source": [
    "df_c.columns[df_c.isnull().any()]"
   ]
  },
  {
   "cell_type": "code",
   "execution_count": null,
   "metadata": {
    "ExecuteTime": {
     "end_time": "2017-12-04T15:49:27.676243Z",
     "start_time": "2017-12-04T07:49:24.774Z"
    },
    "collapsed": false,
    "run_control": {
     "marked": true
    }
   },
   "outputs": [],
   "source": [
    "df_c_t.columns[df_c_t.isnull().any()]"
   ]
  },
  {
   "cell_type": "code",
   "execution_count": null,
   "metadata": {
    "ExecuteTime": {
     "end_time": "2017-12-04T15:49:27.676546Z",
     "start_time": "2017-12-04T07:49:24.779Z"
    },
    "collapsed": false,
    "run_control": {
     "marked": true
    }
   },
   "outputs": [],
   "source": [
    "df_c_t['resolution'].head()"
   ]
  },
  {
   "cell_type": "code",
   "execution_count": null,
   "metadata": {
    "ExecuteTime": {
     "end_time": "2017-12-04T15:49:27.676826Z",
     "start_time": "2017-12-04T07:49:24.782Z"
    },
    "collapsed": false,
    "run_control": {
     "marked": true
    }
   },
   "outputs": [],
   "source": [
    "df_c_t.head(10)"
   ]
  },
  {
   "cell_type": "code",
   "execution_count": null,
   "metadata": {
    "ExecuteTime": {
     "end_time": "2017-12-04T15:49:27.677114Z",
     "start_time": "2017-12-04T07:49:24.787Z"
    },
    "collapsed": false,
    "run_control": {
     "marked": true
    }
   },
   "outputs": [],
   "source": [
    "df_c_t.resolution.describe()"
   ]
  },
  {
   "cell_type": "code",
   "execution_count": null,
   "metadata": {
    "ExecuteTime": {
     "end_time": "2017-12-04T15:49:27.677526Z",
     "start_time": "2017-12-04T07:49:24.790Z"
    },
    "collapsed": false,
    "run_control": {
     "marked": true
    }
   },
   "outputs": [],
   "source": [
    "df_c.resolution.describe()"
   ]
  },
  {
   "cell_type": "code",
   "execution_count": null,
   "metadata": {
    "ExecuteTime": {
     "end_time": "2017-12-04T15:49:27.678067Z",
     "start_time": "2017-12-04T07:49:24.796Z"
    },
    "collapsed": false,
    "run_control": {
     "marked": true
    }
   },
   "outputs": [],
   "source": [
    "df_c.loc[df_c.city_entropy.isnull()].shape"
   ]
  },
  {
   "cell_type": "code",
   "execution_count": null,
   "metadata": {
    "ExecuteTime": {
     "end_time": "2017-12-04T15:49:27.678402Z",
     "start_time": "2017-12-04T07:49:24.799Z"
    },
    "collapsed": false,
    "run_control": {
     "marked": true
    }
   },
   "outputs": [],
   "source": [
    "df_c.loc[df_c.city_entropy.notnull()].shape"
   ]
  },
  {
   "cell_type": "code",
   "execution_count": null,
   "metadata": {
    "ExecuteTime": {
     "end_time": "2017-12-04T15:49:27.678730Z",
     "start_time": "2017-12-04T07:49:24.803Z"
    },
    "collapsed": false,
    "run_control": {
     "marked": true
    }
   },
   "outputs": [],
   "source": [
    "df_c.city_entropy.shape"
   ]
  },
  {
   "cell_type": "code",
   "execution_count": null,
   "metadata": {
    "ExecuteTime": {
     "end_time": "2017-12-04T15:49:27.679061Z",
     "start_time": "2017-12-04T07:49:24.806Z"
    },
    "collapsed": false,
    "run_control": {
     "marked": true
    }
   },
   "outputs": [],
   "source": [
    "df_c.loc[df_c.province_entropy.notnull()].shape"
   ]
  },
  {
   "cell_type": "code",
   "execution_count": null,
   "metadata": {
    "ExecuteTime": {
     "end_time": "2017-12-04T15:49:27.679362Z",
     "start_time": "2017-12-04T07:49:24.812Z"
    },
    "collapsed": false,
    "run_control": {
     "marked": true
    }
   },
   "outputs": [],
   "source": [
    "df_c.loc[df_c.province_entropy.isnull()].shape"
   ]
  },
  {
   "cell_type": "code",
   "execution_count": null,
   "metadata": {
    "ExecuteTime": {
     "end_time": "2017-12-04T15:49:27.679687Z",
     "start_time": "2017-12-04T07:49:24.815Z"
    },
    "collapsed": false,
    "run_control": {
     "marked": true
    }
   },
   "outputs": [],
   "source": [
    "df_c.province_entropy.shape"
   ]
  },
  {
   "cell_type": "code",
   "execution_count": null,
   "metadata": {
    "ExecuteTime": {
     "end_time": "2017-12-04T15:49:27.679993Z",
     "start_time": "2017-12-04T07:49:24.826Z"
    },
    "collapsed": false,
    "run_control": {
     "marked": true
    }
   },
   "outputs": [],
   "source": [
    "df_c.loc[(df_c.province_entropy.isnull()) & (df_c.city_entropy.isnull())].shape"
   ]
  },
  {
   "cell_type": "code",
   "execution_count": null,
   "metadata": {
    "ExecuteTime": {
     "end_time": "2017-12-04T15:49:27.680288Z",
     "start_time": "2017-12-04T07:49:24.836Z"
    },
    "collapsed": false,
    "run_control": {
     "marked": true
    }
   },
   "outputs": [],
   "source": [
    "df_c.loc[(df_c.province_entropy.notnull()) & (df_c.city_entropy.notnull())].shape"
   ]
  },
  {
   "cell_type": "code",
   "execution_count": null,
   "metadata": {
    "ExecuteTime": {
     "end_time": "2017-12-04T15:49:27.680636Z",
     "start_time": "2017-12-04T07:49:24.854Z"
    },
    "collapsed": false,
    "run_control": {
     "marked": true
    }
   },
   "outputs": [],
   "source": [
    "df_c_t.loc[df_c_t.city_entropy.isnull()].shape"
   ]
  },
  {
   "cell_type": "code",
   "execution_count": null,
   "metadata": {
    "ExecuteTime": {
     "end_time": "2017-12-04T15:49:27.680949Z",
     "start_time": "2017-12-04T07:49:24.859Z"
    },
    "collapsed": false,
    "run_control": {
     "marked": true
    }
   },
   "outputs": [],
   "source": [
    "df_c_t.loc[df_c_t.city_entropy.notnull()].shape"
   ]
  },
  {
   "cell_type": "code",
   "execution_count": null,
   "metadata": {
    "ExecuteTime": {
     "end_time": "2017-12-04T15:49:27.681278Z",
     "start_time": "2017-12-04T07:49:24.863Z"
    },
    "collapsed": false,
    "run_control": {
     "marked": true
    }
   },
   "outputs": [],
   "source": [
    "df_c_t.city_entropy.shape"
   ]
  },
  {
   "cell_type": "code",
   "execution_count": null,
   "metadata": {
    "ExecuteTime": {
     "end_time": "2017-12-04T15:49:27.681635Z",
     "start_time": "2017-12-04T07:49:24.868Z"
    },
    "collapsed": false,
    "run_control": {
     "marked": true
    }
   },
   "outputs": [],
   "source": [
    "df_c_t.loc[df_c_t.province_entropy.isnull()].shape"
   ]
  },
  {
   "cell_type": "code",
   "execution_count": null,
   "metadata": {
    "ExecuteTime": {
     "end_time": "2017-12-04T15:49:27.682006Z",
     "start_time": "2017-12-04T07:49:24.871Z"
    },
    "collapsed": false,
    "run_control": {
     "marked": true
    }
   },
   "outputs": [],
   "source": [
    "df_c_t.loc[df_c_t.province_entropy.notnull()].shape"
   ]
  },
  {
   "cell_type": "code",
   "execution_count": null,
   "metadata": {
    "ExecuteTime": {
     "end_time": "2017-12-04T15:49:27.682340Z",
     "start_time": "2017-12-04T07:49:24.876Z"
    },
    "collapsed": false,
    "run_control": {
     "marked": true
    }
   },
   "outputs": [],
   "source": [
    "df_c_t.loc[df_c_t.province_entropy.isnull()].shape"
   ]
  },
  {
   "cell_type": "code",
   "execution_count": null,
   "metadata": {
    "ExecuteTime": {
     "end_time": "2017-12-04T15:49:27.682716Z",
     "start_time": "2017-12-04T07:49:24.881Z"
    },
    "collapsed": false,
    "run_control": {
     "marked": true
    }
   },
   "outputs": [],
   "source": [
    "df_c_t.province_entropy.shape"
   ]
  },
  {
   "cell_type": "code",
   "execution_count": null,
   "metadata": {
    "ExecuteTime": {
     "end_time": "2017-12-04T15:49:27.683109Z",
     "start_time": "2017-12-04T07:49:24.884Z"
    },
    "collapsed": false,
    "run_control": {
     "marked": true
    }
   },
   "outputs": [],
   "source": [
    "df_c_t.loc[(df_c_t.province_entropy.isnull()) & (df_c_t.city_entropy.isnull())].shape"
   ]
  },
  {
   "cell_type": "code",
   "execution_count": null,
   "metadata": {
    "ExecuteTime": {
     "end_time": "2017-12-04T15:49:27.683451Z",
     "start_time": "2017-12-04T07:49:24.890Z"
    },
    "collapsed": false,
    "run_control": {
     "marked": true
    }
   },
   "outputs": [],
   "source": [
    "df_c_t.loc[(df_c_t.province_entropy.notnull()) & (df_c_t.city_entropy.notnull())].shape"
   ]
  },
  {
   "cell_type": "code",
   "execution_count": null,
   "metadata": {
    "ExecuteTime": {
     "end_time": "2017-12-04T15:49:27.683996Z",
     "start_time": "2017-12-04T07:49:24.893Z"
    },
    "collapsed": false,
    "run_control": {
     "marked": true
    }
   },
   "outputs": [],
   "source": [
    "df_c = df_c.fillna(-6.666)"
   ]
  },
  {
   "cell_type": "code",
   "execution_count": null,
   "metadata": {
    "ExecuteTime": {
     "end_time": "2017-12-04T15:49:27.684325Z",
     "start_time": "2017-12-04T07:49:24.899Z"
    },
    "collapsed": false,
    "run_control": {
     "marked": true
    }
   },
   "outputs": [],
   "source": [
    "df_c_t = df_c_t.fillna(-6.666)"
   ]
  },
  {
   "cell_type": "code",
   "execution_count": null,
   "metadata": {
    "ExecuteTime": {
     "end_time": "2017-12-04T15:49:27.684654Z",
     "start_time": "2017-12-04T07:49:24.901Z"
    },
    "collapsed": false,
    "run_control": {
     "marked": true
    }
   },
   "outputs": [],
   "source": [
    "cols = df_c.columns.difference(['label'])"
   ]
  },
  {
   "cell_type": "code",
   "execution_count": null,
   "metadata": {
    "ExecuteTime": {
     "end_time": "2017-12-04T15:49:27.685066Z",
     "start_time": "2017-12-04T07:49:24.905Z"
    },
    "collapsed": false,
    "run_control": {
     "marked": true
    }
   },
   "outputs": [],
   "source": [
    "X = df_c[cols]\n",
    "y = df_c.ix[:, df_c.columns == 'label']\n",
    "v_features = cols\n",
    "pic_nums = v_features.shape[0]\n",
    "import matplotlib.gridspec as gridspec\n",
    "plt.figure(figsize=(12,28*4))\n",
    "gs = gridspec.GridSpec(pic_nums, 1)\n",
    "for i, cn in enumerate(df_c[v_features]):\n",
    "    print(\"cn\",cn)\n",
    "    ax = plt.subplot(gs[i])\n",
    "    sns.distplot(df_c[cn][df_c.label == 1], bins=10)\n",
    "    sns.distplot(df_c[cn][df_c.label == 0], bins=10)\n",
    "    ax.set_xlabel('')\n",
    "    ax.set_title('histogram of feature: ' + str(cn))\n",
    "plt.show()"
   ]
  },
  {
   "cell_type": "code",
   "execution_count": null,
   "metadata": {
    "ExecuteTime": {
     "end_time": "2017-12-04T15:49:27.685529Z",
     "start_time": "2017-12-04T07:49:24.907Z"
    },
    "collapsed": false,
    "run_control": {
     "marked": true
    }
   },
   "outputs": [],
   "source": [
    "drop_cols = ['baseEntropy','device_browser_engine_entropy',\n",
    "              'device_model','jsid_entropy','resolution']"
   ]
  },
  {
   "cell_type": "code",
   "execution_count": null,
   "metadata": {
    "ExecuteTime": {
     "end_time": "2017-12-04T15:49:27.685916Z",
     "start_time": "2017-12-04T07:49:24.909Z"
    },
    "collapsed": false,
    "run_control": {
     "marked": true
    }
   },
   "outputs": [],
   "source": [
    "df_c = df_c.drop(drop_cols,axis=1)"
   ]
  },
  {
   "cell_type": "code",
   "execution_count": null,
   "metadata": {
    "ExecuteTime": {
     "end_time": "2017-12-04T15:49:27.686266Z",
     "start_time": "2017-12-04T07:49:24.913Z"
    },
    "collapsed": false,
    "run_control": {
     "marked": true
    }
   },
   "outputs": [],
   "source": [
    "df_c.columns"
   ]
  },
  {
   "cell_type": "code",
   "execution_count": null,
   "metadata": {
    "ExecuteTime": {
     "end_time": "2017-12-04T15:49:27.686616Z",
     "start_time": "2017-12-04T07:49:24.915Z"
    },
    "collapsed": false,
    "run_control": {
     "marked": true
    }
   },
   "outputs": [],
   "source": [
    "import numpy as np\n",
    "from sklearn.preprocessing import MinMaxScaler\n",
    "ts_match = re.compile('^.*ts_diff$')\n",
    "ts_amatch = np.vectorize(lambda x:bool(ts_match.match(x)))\n",
    "ts_cols = df_c.columns.values[ts_amatch(df_c.columns.values)]\n",
    "ts_df_c = df_c[ts_cols]\n",
    "ts_no = df_c[df_c.columns.difference(ts_cols)]\n",
    "\n",
    "min_max_scaler = MinMaxScaler()\n",
    "X_scaled = min_max_scaler.fit_transform(ts_df_c)\n",
    "ts_df_c = pd.DataFrame(X_scaled, columns = ts_df_c.columns)\n",
    "df_c = pd.concat([ts_no, ts_df_c], axis=1)"
   ]
  },
  {
   "cell_type": "code",
   "execution_count": null,
   "metadata": {
    "ExecuteTime": {
     "end_time": "2017-12-04T15:49:27.686936Z",
     "start_time": "2017-12-04T07:49:24.917Z"
    },
    "collapsed": false,
    "run_control": {
     "marked": true
    }
   },
   "outputs": [],
   "source": [
    "def tick_font_new(ax=None,font_size=None,rotation=90):\n",
    "    for tick in ax.xaxis.get_major_ticks():\n",
    "        tick.label.set_fontsize(font_size)\n",
    "        tick.label.set_rotation(rotation)\n",
    "    for tick in ax.yaxis.get_major_ticks():\n",
    "        tick.label.set_fontsize(font_size)\n",
    "        tick.label.set_rotation(0)\n",
    "    return None"
   ]
  },
  {
   "cell_type": "code",
   "execution_count": null,
   "metadata": {
    "ExecuteTime": {
     "end_time": "2017-12-04T15:49:27.687237Z",
     "start_time": "2017-12-04T07:49:24.921Z"
    },
    "collapsed": false,
    "run_control": {
     "marked": true
    }
   },
   "outputs": [],
   "source": [
    "fig,ax= plt.subplots(figsize=(60,60))\n",
    "sns.heatmap(df_c.corr(),ax=ax,annot=True,fmt='.1f',annot_kws={\"size\": 32})\n",
    "tick_font(ax=ax,font_size=32,rotation_y=0)\n",
    "plt.show()"
   ]
  },
  {
   "cell_type": "code",
   "execution_count": null,
   "metadata": {
    "ExecuteTime": {
     "end_time": "2017-12-04T15:49:27.687878Z",
     "start_time": "2017-12-04T07:49:24.925Z"
    },
    "collapsed": false,
    "run_control": {
     "marked": true
    }
   },
   "outputs": [],
   "source": [
    "df_c = df_c.drop(['ts_diff'],axis=1)"
   ]
  },
  {
   "cell_type": "code",
   "execution_count": null,
   "metadata": {
    "ExecuteTime": {
     "end_time": "2017-12-04T15:49:27.688402Z",
     "start_time": "2017-12-04T07:49:24.928Z"
    },
    "collapsed": false,
    "run_control": {
     "marked": true
    }
   },
   "outputs": [],
   "source": [
    "df_c.columns"
   ]
  },
  {
   "cell_type": "code",
   "execution_count": null,
   "metadata": {
    "ExecuteTime": {
     "end_time": "2017-12-04T15:49:27.688981Z",
     "start_time": "2017-12-04T07:49:24.931Z"
    },
    "collapsed": false,
    "run_control": {
     "marked": true
    }
   },
   "outputs": [],
   "source": [
    "df_c.shape"
   ]
  },
  {
   "cell_type": "code",
   "execution_count": null,
   "metadata": {
    "ExecuteTime": {
     "end_time": "2017-12-04T15:49:27.689307Z",
     "start_time": "2017-12-04T07:49:24.934Z"
    },
    "collapsed": false,
    "run_control": {
     "marked": true
    }
   },
   "outputs": [],
   "source": [
    "df_c_t.shape"
   ]
  },
  {
   "cell_type": "code",
   "execution_count": null,
   "metadata": {
    "ExecuteTime": {
     "end_time": "2017-12-04T15:49:27.689656Z",
     "start_time": "2017-12-04T07:49:24.937Z"
    },
    "collapsed": false,
    "run_control": {
     "marked": true
    }
   },
   "outputs": [],
   "source": [
    "X = df_c_t[cols]\n",
    "y = df_c_t.ix[:, df_c_t.columns == 'label']\n",
    "v_features = cols\n",
    "pic_nums = v_features.shape[0]\n",
    "import matplotlib.gridspec as gridspec\n",
    "plt.figure(figsize=(12,28*4))\n",
    "gs = gridspec.GridSpec(pic_nums, 1)\n",
    "for i, cn in enumerate(df_c_t[v_features]):\n",
    "    print(\"cn\",i,cn)\n",
    "    ax = plt.subplot(gs[i])\n",
    "    sns.distplot(df_c_t[cn][df_c_t.label == 1], bins=10)\n",
    "    sns.distplot(df_c_t[cn][df_c_t.label == 0], bins=10)\n",
    "    ax.set_xlabel('')\n",
    "    ax.set_title('histogram of feature: ' + str(cn))\n",
    "plt.show()"
   ]
  },
  {
   "cell_type": "code",
   "execution_count": null,
   "metadata": {
    "collapsed": false,
    "run_control": {
     "marked": true
    }
   },
   "outputs": [],
   "source": []
  },
  {
   "cell_type": "code",
   "execution_count": null,
   "metadata": {
    "collapsed": false,
    "run_control": {
     "marked": true
    }
   },
   "outputs": [],
   "source": []
  },
  {
   "cell_type": "code",
   "execution_count": null,
   "metadata": {
    "collapsed": false,
    "run_control": {
     "marked": true
    }
   },
   "outputs": [],
   "source": []
  },
  {
   "cell_type": "code",
   "execution_count": null,
   "metadata": {
    "collapsed": false,
    "run_control": {
     "marked": true
    }
   },
   "outputs": [],
   "source": []
  },
  {
   "cell_type": "code",
   "execution_count": null,
   "metadata": {
    "collapsed": false,
    "run_control": {
     "marked": true
    }
   },
   "outputs": [],
   "source": []
  },
  {
   "cell_type": "code",
   "execution_count": null,
   "metadata": {
    "collapsed": false,
    "run_control": {
     "marked": true
    }
   },
   "outputs": [],
   "source": []
  },
  {
   "cell_type": "code",
   "execution_count": null,
   "metadata": {
    "collapsed": false,
    "run_control": {
     "marked": true
    }
   },
   "outputs": [],
   "source": []
  }
 ],
 "metadata": {
  "kernelspec": {
   "display_name": "Python 2",
   "language": "python",
   "name": "python2"
  },
  "language_info": {
   "codemirror_mode": {
    "name": "ipython",
    "version": 2
   },
   "file_extension": ".py",
   "mimetype": "text/x-python",
   "name": "python",
   "nbconvert_exporter": "python",
   "pygments_lexer": "ipython2",
   "version": "2.7.13"
  },
  "latex_envs": {
   "LaTeX_envs_menu_present": true,
   "autocomplete": true,
   "bibliofile": "biblio.bib",
   "cite_by": "apalike",
   "current_citInitial": 1,
   "eqLabelWithNumbers": true,
   "eqNumInitial": 1,
   "hotkeys": {
    "equation": "Ctrl-E",
    "itemize": "Ctrl-I"
   },
   "labels_anchors": false,
   "latex_user_defs": false,
   "report_style_numbering": false,
   "user_envs_cfg": false
  },
  "toc": {
   "nav_menu": {},
   "number_sections": true,
   "sideBar": true,
   "skip_h1_title": false,
   "toc_cell": false,
   "toc_position": {},
   "toc_section_display": "block",
   "toc_window_display": false
  },
  "varInspector": {
   "cols": {
    "lenName": 16,
    "lenType": 16,
    "lenVar": 40
   },
   "kernels_config": {
    "python": {
     "delete_cmd_postfix": "",
     "delete_cmd_prefix": "del ",
     "library": "var_list.py",
     "varRefreshCmd": "print(var_dic_list())"
    },
    "r": {
     "delete_cmd_postfix": ") ",
     "delete_cmd_prefix": "rm(",
     "library": "var_list.r",
     "varRefreshCmd": "cat(var_dic_list()) "
    }
   },
   "types_to_exclude": [
    "module",
    "function",
    "builtin_function_or_method",
    "instance",
    "_Feature"
   ],
   "window_display": false
  }
 },
 "nbformat": 4,
 "nbformat_minor": 0
}
